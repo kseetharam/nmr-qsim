{
 "cells": [
  {
   "cell_type": "code",
   "execution_count": null,
   "metadata": {},
   "outputs": [],
   "source": [
    "###NOTE: access of cirq circuits thorugh pickle files works only with python 3.9.12 kernel"
   ]
  },
  {
   "cell_type": "code",
   "execution_count": 1,
   "metadata": {},
   "outputs": [
    {
     "name": "stdout",
     "output_type": "stream",
     "text": [
      "Obtaining file:///Users/luismartinezmartinez/Documents/QuEra/GitProjs/cirq_tools\n",
      "  Installing build dependencies ... \u001b[?25ldone\n",
      "\u001b[?25h  Checking if build backend supports build_editable ... \u001b[?25ldone\n",
      "\u001b[?25h  Getting requirements to build editable ... \u001b[?25ldone\n",
      "\u001b[?25h  Preparing editable metadata (pyproject.toml) ... \u001b[?25ldone\n",
      "\u001b[?25hCollecting bloqade-circuit@ git+https://github.com/QuEraComputing/bloqade-circuit.git@main (from cirq_tools==0.1.0)\n",
      "  Cloning https://github.com/QuEraComputing/bloqade-circuit.git (to revision main) to /private/var/folders/rm/xdxcjr7n7_13f9m1905zyf6c0000gq/T/pip-install-xf1gp5if/bloqade-circuit_84fea30746af475ca87179c7b6e0fc43\n",
      "  Running command git clone --filter=blob:none --quiet https://github.com/QuEraComputing/bloqade-circuit.git /private/var/folders/rm/xdxcjr7n7_13f9m1905zyf6c0000gq/T/pip-install-xf1gp5if/bloqade-circuit_84fea30746af475ca87179c7b6e0fc43\n",
      "  Resolved https://github.com/QuEraComputing/bloqade-circuit.git to commit c2157d919cbf0ef861c3d43fd5177882c1dc56d3\n",
      "  Installing build dependencies ... \u001b[?25ldone\n",
      "\u001b[?25h  Getting requirements to build wheel ... \u001b[?25ldone\n",
      "\u001b[?25h  Preparing metadata (pyproject.toml) ... \u001b[?25ldone\n",
      "\u001b[?25hRequirement already satisfied: numpy in /Users/luismartinezmartinez/pyenvs/qiskit1.1/lib/python3.11/site-packages (from cirq_tools==0.1.0) (2.3.1)\n",
      "Requirement already satisfied: cirq in /Users/luismartinezmartinez/pyenvs/qiskit1.1/lib/python3.11/site-packages (from cirq_tools==0.1.0) (1.5.0)\n",
      "Requirement already satisfied: bloqade in /Users/luismartinezmartinez/pyenvs/qiskit1.1/lib/python3.11/site-packages (from cirq_tools==0.1.0) (0.15.14)\n",
      "Requirement already satisfied: lark>=1.2.2 in /Users/luismartinezmartinez/pyenvs/qiskit1.1/lib/python3.11/site-packages (from cirq_tools==0.1.0) (1.2.2)\n",
      "Requirement already satisfied: ply>=3.11 in /Users/luismartinezmartinez/pyenvs/qiskit1.1/lib/python3.11/site-packages (from cirq_tools==0.1.0) (3.11)\n",
      "Requirement already satisfied: pylatexenc>=2.10 in /Users/luismartinezmartinez/pyenvs/qiskit1.1/lib/python3.11/site-packages (from cirq_tools==0.1.0) (2.10)\n",
      "Requirement already satisfied: qiskit>=2.0.2 in /Users/luismartinezmartinez/pyenvs/qiskit1.1/lib/python3.11/site-packages (from cirq_tools==0.1.0) (2.1.0)\n",
      "Requirement already satisfied: rustworkx>=0.15.0 in /Users/luismartinezmartinez/pyenvs/qiskit1.1/lib/python3.11/site-packages (from qiskit>=2.0.2->cirq_tools==0.1.0) (0.15.1)\n",
      "Requirement already satisfied: scipy>=1.5 in /Users/luismartinezmartinez/pyenvs/qiskit1.1/lib/python3.11/site-packages (from qiskit>=2.0.2->cirq_tools==0.1.0) (1.16.0)\n",
      "Requirement already satisfied: dill>=0.3 in /Users/luismartinezmartinez/pyenvs/qiskit1.1/lib/python3.11/site-packages (from qiskit>=2.0.2->cirq_tools==0.1.0) (0.3.8)\n",
      "Requirement already satisfied: stevedore>=3.0.0 in /Users/luismartinezmartinez/pyenvs/qiskit1.1/lib/python3.11/site-packages (from qiskit>=2.0.2->cirq_tools==0.1.0) (5.2.0)\n",
      "Requirement already satisfied: typing-extensions in /Users/luismartinezmartinez/pyenvs/qiskit1.1/lib/python3.11/site-packages (from qiskit>=2.0.2->cirq_tools==0.1.0) (4.14.1)\n",
      "Requirement already satisfied: juliacall>=0.9.14 in /Users/luismartinezmartinez/pyenvs/qiskit1.1/lib/python3.11/site-packages (from bloqade->cirq_tools==0.1.0) (0.9.24)\n",
      "Requirement already satisfied: pydantic>=2.0 in /Users/luismartinezmartinez/pyenvs/qiskit1.1/lib/python3.11/site-packages (from bloqade->cirq_tools==0.1.0) (2.10.6)\n",
      "Requirement already satisfied: pandas>=2.1.0 in /Users/luismartinezmartinez/pyenvs/qiskit1.1/lib/python3.11/site-packages (from bloqade->cirq_tools==0.1.0) (2.3.1)\n",
      "Requirement already satisfied: bokeh>=3.2.2 in /Users/luismartinezmartinez/pyenvs/qiskit1.1/lib/python3.11/site-packages (from bloqade->cirq_tools==0.1.0) (3.7.2)\n",
      "Requirement already satisfied: tabulate>=0.9.0 in /Users/luismartinezmartinez/pyenvs/qiskit1.1/lib/python3.11/site-packages (from bloqade->cirq_tools==0.1.0) (0.9.0)\n",
      "Requirement already satisfied: requests-sigv4>=0.1.6 in /Users/luismartinezmartinez/pyenvs/qiskit1.1/lib/python3.11/site-packages (from bloqade->cirq_tools==0.1.0) (0.1.6)\n",
      "Requirement already satisfied: amazon-braket-sdk>=1.78.0 in /Users/luismartinezmartinez/pyenvs/qiskit1.1/lib/python3.11/site-packages (from bloqade->cirq_tools==0.1.0) (1.91.0)\n",
      "Requirement already satisfied: plotext>=5.2.8 in /Users/luismartinezmartinez/pyenvs/qiskit1.1/lib/python3.11/site-packages (from bloqade->cirq_tools==0.1.0) (5.3.2)\n",
      "Requirement already satisfied: beartype>=0.15.0 in /Users/luismartinezmartinez/pyenvs/qiskit1.1/lib/python3.11/site-packages (from bloqade->cirq_tools==0.1.0) (0.21.0)\n",
      "Requirement already satisfied: simplejson>=3.19.1 in /Users/luismartinezmartinez/pyenvs/qiskit1.1/lib/python3.11/site-packages (from bloqade->cirq_tools==0.1.0) (3.20.1)\n",
      "Requirement already satisfied: plum-dispatch>=2.2.2 in /Users/luismartinezmartinez/pyenvs/qiskit1.1/lib/python3.11/site-packages (from bloqade->cirq_tools==0.1.0) (2.5.2)\n",
      "Requirement already satisfied: numba>=0.58.0 in /Users/luismartinezmartinez/pyenvs/qiskit1.1/lib/python3.11/site-packages (from bloqade->cirq_tools==0.1.0) (0.60.0)\n",
      "Requirement already satisfied: kirin-toolchain~=0.17.0 in /Users/luismartinezmartinez/pyenvs/qiskit1.1/lib/python3.11/site-packages (from bloqade-circuit@ git+https://github.com/QuEraComputing/bloqade-circuit.git@main->cirq_tools==0.1.0) (0.17.10)\n",
      "Requirement already satisfied: pyqrack<1.41,>=1.38.2 in /Users/luismartinezmartinez/pyenvs/qiskit1.1/lib/python3.11/site-packages (from bloqade-circuit@ git+https://github.com/QuEraComputing/bloqade-circuit.git@main->cirq_tools==0.1.0) (1.40.3)\n",
      "Requirement already satisfied: rich>=13.9.4 in /Users/luismartinezmartinez/pyenvs/qiskit1.1/lib/python3.11/site-packages (from bloqade-circuit@ git+https://github.com/QuEraComputing/bloqade-circuit.git@main->cirq_tools==0.1.0) (14.0.0)\n",
      "Requirement already satisfied: cirq-aqt==1.5.0 in /Users/luismartinezmartinez/pyenvs/qiskit1.1/lib/python3.11/site-packages (from cirq->cirq_tools==0.1.0) (1.5.0)\n",
      "Requirement already satisfied: cirq-core==1.5.0 in /Users/luismartinezmartinez/pyenvs/qiskit1.1/lib/python3.11/site-packages (from cirq->cirq_tools==0.1.0) (1.5.0)\n",
      "Requirement already satisfied: cirq-google==1.5.0 in /Users/luismartinezmartinez/pyenvs/qiskit1.1/lib/python3.11/site-packages (from cirq->cirq_tools==0.1.0) (1.5.0)\n",
      "Requirement already satisfied: cirq-ionq==1.5.0 in /Users/luismartinezmartinez/pyenvs/qiskit1.1/lib/python3.11/site-packages (from cirq->cirq_tools==0.1.0) (1.5.0)\n",
      "Requirement already satisfied: cirq-pasqal==1.5.0 in /Users/luismartinezmartinez/pyenvs/qiskit1.1/lib/python3.11/site-packages (from cirq->cirq_tools==0.1.0) (1.5.0)\n",
      "Requirement already satisfied: cirq-web==1.5.0 in /Users/luismartinezmartinez/pyenvs/qiskit1.1/lib/python3.11/site-packages (from cirq->cirq_tools==0.1.0) (1.5.0)\n",
      "Requirement already satisfied: requests~=2.32 in /Users/luismartinezmartinez/pyenvs/qiskit1.1/lib/python3.11/site-packages (from cirq-aqt==1.5.0->cirq->cirq_tools==0.1.0) (2.32.3)\n",
      "Requirement already satisfied: attrs>=21.3.0 in /Users/luismartinezmartinez/pyenvs/qiskit1.1/lib/python3.11/site-packages (from cirq-core==1.5.0->cirq->cirq_tools==0.1.0) (24.2.0)\n",
      "Requirement already satisfied: duet>=0.2.8 in /Users/luismartinezmartinez/pyenvs/qiskit1.1/lib/python3.11/site-packages (from cirq-core==1.5.0->cirq->cirq_tools==0.1.0) (0.2.9)\n",
      "Requirement already satisfied: matplotlib~=3.7 in /Users/luismartinezmartinez/pyenvs/qiskit1.1/lib/python3.11/site-packages (from cirq-core==1.5.0->cirq->cirq_tools==0.1.0) (3.9.2)\n",
      "Requirement already satisfied: networkx~=3.1 in /Users/luismartinezmartinez/pyenvs/qiskit1.1/lib/python3.11/site-packages (from cirq-core==1.5.0->cirq->cirq_tools==0.1.0) (3.3)\n",
      "Requirement already satisfied: sortedcontainers~=2.0 in /Users/luismartinezmartinez/pyenvs/qiskit1.1/lib/python3.11/site-packages (from cirq-core==1.5.0->cirq->cirq_tools==0.1.0) (2.4.0)\n",
      "Requirement already satisfied: sympy in /Users/luismartinezmartinez/pyenvs/qiskit1.1/lib/python3.11/site-packages (from cirq-core==1.5.0->cirq->cirq_tools==0.1.0) (1.12.1)\n",
      "Requirement already satisfied: tqdm>=4.12 in /Users/luismartinezmartinez/pyenvs/qiskit1.1/lib/python3.11/site-packages (from cirq-core==1.5.0->cirq->cirq_tools==0.1.0) (4.66.5)\n",
      "Requirement already satisfied: google-api-core>=1.14.0 in /Users/luismartinezmartinez/pyenvs/qiskit1.1/lib/python3.11/site-packages (from google-api-core[grpc]>=1.14.0->cirq-google==1.5.0->cirq->cirq_tools==0.1.0) (2.20.0)\n",
      "Requirement already satisfied: proto-plus>=1.20.0 in /Users/luismartinezmartinez/pyenvs/qiskit1.1/lib/python3.11/site-packages (from cirq-google==1.5.0->cirq->cirq_tools==0.1.0) (1.24.0)\n",
      "Requirement already satisfied: protobuf<6.0,>=4.25 in /Users/luismartinezmartinez/pyenvs/qiskit1.1/lib/python3.11/site-packages (from cirq-google==1.5.0->cirq->cirq_tools==0.1.0) (4.25.5)\n",
      "Requirement already satisfied: typedunits in /Users/luismartinezmartinez/pyenvs/qiskit1.1/lib/python3.11/site-packages (from cirq-google==1.5.0->cirq->cirq_tools==0.1.0) (0.0.1.dev20250425170239)\n",
      "Requirement already satisfied: amazon-braket-schemas>=1.23.0 in /Users/luismartinezmartinez/pyenvs/qiskit1.1/lib/python3.11/site-packages (from amazon-braket-sdk>=1.78.0->bloqade->cirq_tools==0.1.0) (1.23.3)\n",
      "Requirement already satisfied: amazon-braket-default-simulator>=1.26.0 in /Users/luismartinezmartinez/pyenvs/qiskit1.1/lib/python3.11/site-packages (from amazon-braket-sdk>=1.78.0->bloqade->cirq_tools==0.1.0) (1.26.4)\n",
      "Requirement already satisfied: oqpy~=0.3.5 in /Users/luismartinezmartinez/pyenvs/qiskit1.1/lib/python3.11/site-packages (from amazon-braket-sdk>=1.78.0->bloqade->cirq_tools==0.1.0) (0.3.7)\n",
      "Requirement already satisfied: backoff in /Users/luismartinezmartinez/pyenvs/qiskit1.1/lib/python3.11/site-packages (from amazon-braket-sdk>=1.78.0->bloqade->cirq_tools==0.1.0) (2.2.1)\n",
      "Requirement already satisfied: boltons in /Users/luismartinezmartinez/pyenvs/qiskit1.1/lib/python3.11/site-packages (from amazon-braket-sdk>=1.78.0->bloqade->cirq_tools==0.1.0) (25.0.0)\n",
      "Requirement already satisfied: boto3>=1.28.53 in /Users/luismartinezmartinez/pyenvs/qiskit1.1/lib/python3.11/site-packages (from amazon-braket-sdk>=1.78.0->bloqade->cirq_tools==0.1.0) (1.37.34)\n",
      "Requirement already satisfied: cloudpickle==2.2.1 in /Users/luismartinezmartinez/pyenvs/qiskit1.1/lib/python3.11/site-packages (from amazon-braket-sdk>=1.78.0->bloqade->cirq_tools==0.1.0) (2.2.1)\n",
      "Requirement already satisfied: nest-asyncio in /Users/luismartinezmartinez/pyenvs/qiskit1.1/lib/python3.11/site-packages (from amazon-braket-sdk>=1.78.0->bloqade->cirq_tools==0.1.0) (1.6.0)\n",
      "Requirement already satisfied: openpulse in /Users/luismartinezmartinez/pyenvs/qiskit1.1/lib/python3.11/site-packages (from amazon-braket-sdk>=1.78.0->bloqade->cirq_tools==0.1.0) (1.0.1)\n",
      "Requirement already satisfied: openqasm3 in /Users/luismartinezmartinez/pyenvs/qiskit1.1/lib/python3.11/site-packages (from amazon-braket-sdk>=1.78.0->bloqade->cirq_tools==0.1.0) (1.0.0)\n",
      "Requirement already satisfied: backports.entry-points-selectable in /Users/luismartinezmartinez/pyenvs/qiskit1.1/lib/python3.11/site-packages (from amazon-braket-sdk>=1.78.0->bloqade->cirq_tools==0.1.0) (1.3.0)\n",
      "Requirement already satisfied: Jinja2>=2.9 in /Users/luismartinezmartinez/pyenvs/qiskit1.1/lib/python3.11/site-packages (from bokeh>=3.2.2->bloqade->cirq_tools==0.1.0) (3.1.4)\n",
      "Requirement already satisfied: contourpy>=1.2 in /Users/luismartinezmartinez/pyenvs/qiskit1.1/lib/python3.11/site-packages (from bokeh>=3.2.2->bloqade->cirq_tools==0.1.0) (1.3.0)\n",
      "Requirement already satisfied: narwhals>=1.13 in /Users/luismartinezmartinez/pyenvs/qiskit1.1/lib/python3.11/site-packages (from bokeh>=3.2.2->bloqade->cirq_tools==0.1.0) (1.35.0)\n",
      "Requirement already satisfied: packaging>=16.8 in /Users/luismartinezmartinez/pyenvs/qiskit1.1/lib/python3.11/site-packages (from bokeh>=3.2.2->bloqade->cirq_tools==0.1.0) (25.0)\n",
      "Requirement already satisfied: pillow>=7.1.0 in /Users/luismartinezmartinez/pyenvs/qiskit1.1/lib/python3.11/site-packages (from bokeh>=3.2.2->bloqade->cirq_tools==0.1.0) (10.4.0)\n",
      "Requirement already satisfied: PyYAML>=3.10 in /Users/luismartinezmartinez/pyenvs/qiskit1.1/lib/python3.11/site-packages (from bokeh>=3.2.2->bloqade->cirq_tools==0.1.0) (6.0.2)\n",
      "Requirement already satisfied: tornado>=6.2 in /Users/luismartinezmartinez/pyenvs/qiskit1.1/lib/python3.11/site-packages (from bokeh>=3.2.2->bloqade->cirq_tools==0.1.0) (6.4.1)\n",
      "Requirement already satisfied: xyzservices>=2021.09.1 in /Users/luismartinezmartinez/pyenvs/qiskit1.1/lib/python3.11/site-packages (from bokeh>=3.2.2->bloqade->cirq_tools==0.1.0) (2025.1.0)\n",
      "Requirement already satisfied: juliapkg~=0.1.8 in /Users/luismartinezmartinez/pyenvs/qiskit1.1/lib/python3.11/site-packages (from juliacall>=0.9.14->bloqade->cirq_tools==0.1.0) (0.1.16)\n",
      "Requirement already satisfied: llvmlite<0.44,>=0.43.0dev0 in /Users/luismartinezmartinez/pyenvs/qiskit1.1/lib/python3.11/site-packages (from numba>=0.58.0->bloqade->cirq_tools==0.1.0) (0.43.0)\n",
      "Collecting numpy (from cirq_tools==0.1.0)\n",
      "  Using cached numpy-2.0.2-cp311-cp311-macosx_14_0_x86_64.whl.metadata (60 kB)\n",
      "Requirement already satisfied: python-dateutil>=2.8.2 in /Users/luismartinezmartinez/pyenvs/qiskit1.1/lib/python3.11/site-packages (from pandas>=2.1.0->bloqade->cirq_tools==0.1.0) (2.9.0.post0)\n",
      "Requirement already satisfied: pytz>=2020.1 in /Users/luismartinezmartinez/pyenvs/qiskit1.1/lib/python3.11/site-packages (from pandas>=2.1.0->bloqade->cirq_tools==0.1.0) (2025.2)\n",
      "Requirement already satisfied: tzdata>=2022.7 in /Users/luismartinezmartinez/pyenvs/qiskit1.1/lib/python3.11/site-packages (from pandas>=2.1.0->bloqade->cirq_tools==0.1.0) (2025.2)\n",
      "Requirement already satisfied: annotated-types>=0.6.0 in /Users/luismartinezmartinez/pyenvs/qiskit1.1/lib/python3.11/site-packages (from pydantic>=2.0->bloqade->cirq_tools==0.1.0) (0.7.0)\n",
      "Requirement already satisfied: pydantic-core==2.27.2 in /Users/luismartinezmartinez/pyenvs/qiskit1.1/lib/python3.11/site-packages (from pydantic>=2.0->bloqade->cirq_tools==0.1.0) (2.27.2)\n",
      "Requirement already satisfied: requests-aws-sign in /Users/luismartinezmartinez/pyenvs/qiskit1.1/lib/python3.11/site-packages (from requests-sigv4>=0.1.6->bloqade->cirq_tools==0.1.0) (0.1.6)\n",
      "Requirement already satisfied: markdown-it-py>=2.2.0 in /Users/luismartinezmartinez/pyenvs/qiskit1.1/lib/python3.11/site-packages (from rich>=13.9.4->bloqade-circuit@ git+https://github.com/QuEraComputing/bloqade-circuit.git@main->cirq_tools==0.1.0) (3.0.0)\n",
      "Requirement already satisfied: pygments<3.0.0,>=2.13.0 in /Users/luismartinezmartinez/pyenvs/qiskit1.1/lib/python3.11/site-packages (from rich>=13.9.4->bloqade-circuit@ git+https://github.com/QuEraComputing/bloqade-circuit.git@main->cirq_tools==0.1.0) (2.19.2)\n",
      "Requirement already satisfied: pbr!=2.1.0,>=2.0.0 in /Users/luismartinezmartinez/pyenvs/qiskit1.1/lib/python3.11/site-packages (from stevedore>=3.0.0->qiskit>=2.0.2->cirq_tools==0.1.0) (6.0.0)\n",
      "Requirement already satisfied: opt_einsum in /Users/luismartinezmartinez/pyenvs/qiskit1.1/lib/python3.11/site-packages (from amazon-braket-default-simulator>=1.26.0->amazon-braket-sdk>=1.78.0->bloqade->cirq_tools==0.1.0) (3.4.0)\n",
      "Requirement already satisfied: antlr4-python3-runtime==4.9.2 in /Users/luismartinezmartinez/pyenvs/qiskit1.1/lib/python3.11/site-packages (from amazon-braket-default-simulator>=1.26.0->amazon-braket-sdk>=1.78.0->bloqade->cirq_tools==0.1.0) (4.9.2)\n",
      "Requirement already satisfied: botocore<1.38.0,>=1.37.34 in /Users/luismartinezmartinez/pyenvs/qiskit1.1/lib/python3.11/site-packages (from boto3>=1.28.53->amazon-braket-sdk>=1.78.0->bloqade->cirq_tools==0.1.0) (1.37.34)\n",
      "Requirement already satisfied: jmespath<2.0.0,>=0.7.1 in /Users/luismartinezmartinez/pyenvs/qiskit1.1/lib/python3.11/site-packages (from boto3>=1.28.53->amazon-braket-sdk>=1.78.0->bloqade->cirq_tools==0.1.0) (1.0.1)\n",
      "Requirement already satisfied: s3transfer<0.12.0,>=0.11.0 in /Users/luismartinezmartinez/pyenvs/qiskit1.1/lib/python3.11/site-packages (from boto3>=1.28.53->amazon-braket-sdk>=1.78.0->bloqade->cirq_tools==0.1.0) (0.11.4)\n",
      "Requirement already satisfied: googleapis-common-protos<2.0.dev0,>=1.56.2 in /Users/luismartinezmartinez/pyenvs/qiskit1.1/lib/python3.11/site-packages (from google-api-core>=1.14.0->google-api-core[grpc]>=1.14.0->cirq-google==1.5.0->cirq->cirq_tools==0.1.0) (1.65.0)\n",
      "Requirement already satisfied: google-auth<3.0.dev0,>=2.14.1 in /Users/luismartinezmartinez/pyenvs/qiskit1.1/lib/python3.11/site-packages (from google-api-core>=1.14.0->google-api-core[grpc]>=1.14.0->cirq-google==1.5.0->cirq->cirq_tools==0.1.0) (2.35.0)\n",
      "Requirement already satisfied: grpcio<2.0dev,>=1.33.2 in /Users/luismartinezmartinez/pyenvs/qiskit1.1/lib/python3.11/site-packages (from google-api-core[grpc]>=1.14.0->cirq-google==1.5.0->cirq->cirq_tools==0.1.0) (1.66.2)\n",
      "Requirement already satisfied: grpcio-status<2.0.dev0,>=1.33.2 in /Users/luismartinezmartinez/pyenvs/qiskit1.1/lib/python3.11/site-packages (from google-api-core[grpc]>=1.14.0->cirq-google==1.5.0->cirq->cirq_tools==0.1.0) (1.62.3)\n",
      "Requirement already satisfied: MarkupSafe>=2.0 in /Users/luismartinezmartinez/pyenvs/qiskit1.1/lib/python3.11/site-packages (from Jinja2>=2.9->bokeh>=3.2.2->bloqade->cirq_tools==0.1.0) (2.1.5)\n",
      "Requirement already satisfied: filelock<4.0,>=3.16 in /Users/luismartinezmartinez/pyenvs/qiskit1.1/lib/python3.11/site-packages (from juliapkg~=0.1.8->juliacall>=0.9.14->bloqade->cirq_tools==0.1.0) (3.18.0)\n",
      "Requirement already satisfied: semver<4.0,>=3.0 in /Users/luismartinezmartinez/pyenvs/qiskit1.1/lib/python3.11/site-packages (from juliapkg~=0.1.8->juliacall>=0.9.14->bloqade->cirq_tools==0.1.0) (3.0.4)\n",
      "Requirement already satisfied: mdurl~=0.1 in /Users/luismartinezmartinez/pyenvs/qiskit1.1/lib/python3.11/site-packages (from markdown-it-py>=2.2.0->rich>=13.9.4->bloqade-circuit@ git+https://github.com/QuEraComputing/bloqade-circuit.git@main->cirq_tools==0.1.0) (0.1.2)\n",
      "Requirement already satisfied: cycler>=0.10 in /Users/luismartinezmartinez/pyenvs/qiskit1.1/lib/python3.11/site-packages (from matplotlib~=3.7->cirq-core==1.5.0->cirq->cirq_tools==0.1.0) (0.12.1)\n",
      "Requirement already satisfied: fonttools>=4.22.0 in /Users/luismartinezmartinez/pyenvs/qiskit1.1/lib/python3.11/site-packages (from matplotlib~=3.7->cirq-core==1.5.0->cirq->cirq_tools==0.1.0) (4.54.1)\n",
      "Requirement already satisfied: kiwisolver>=1.3.1 in /Users/luismartinezmartinez/pyenvs/qiskit1.1/lib/python3.11/site-packages (from matplotlib~=3.7->cirq-core==1.5.0->cirq->cirq_tools==0.1.0) (1.4.7)\n",
      "Requirement already satisfied: pyparsing>=2.3.1 in /Users/luismartinezmartinez/pyenvs/qiskit1.1/lib/python3.11/site-packages (from matplotlib~=3.7->cirq-core==1.5.0->cirq->cirq_tools==0.1.0) (3.1.4)\n",
      "Requirement already satisfied: mypy-extensions>=0.2.0 in /Users/luismartinezmartinez/pyenvs/qiskit1.1/lib/python3.11/site-packages (from oqpy~=0.3.5->amazon-braket-sdk>=1.78.0->bloqade->cirq_tools==0.1.0) (1.0.0)\n",
      "Requirement already satisfied: six>=1.5 in /Users/luismartinezmartinez/pyenvs/qiskit1.1/lib/python3.11/site-packages (from python-dateutil>=2.8.2->pandas>=2.1.0->bloqade->cirq_tools==0.1.0) (1.17.0)\n",
      "Requirement already satisfied: charset-normalizer<4,>=2 in /Users/luismartinezmartinez/pyenvs/qiskit1.1/lib/python3.11/site-packages (from requests~=2.32->cirq-aqt==1.5.0->cirq->cirq_tools==0.1.0) (3.3.2)\n",
      "Requirement already satisfied: idna<4,>=2.5 in /Users/luismartinezmartinez/pyenvs/qiskit1.1/lib/python3.11/site-packages (from requests~=2.32->cirq-aqt==1.5.0->cirq->cirq_tools==0.1.0) (3.10)\n",
      "Requirement already satisfied: urllib3<3,>=1.21.1 in /Users/luismartinezmartinez/pyenvs/qiskit1.1/lib/python3.11/site-packages (from requests~=2.32->cirq-aqt==1.5.0->cirq->cirq_tools==0.1.0) (2.2.3)\n",
      "Requirement already satisfied: certifi>=2017.4.17 in /Users/luismartinezmartinez/pyenvs/qiskit1.1/lib/python3.11/site-packages (from requests~=2.32->cirq-aqt==1.5.0->cirq->cirq_tools==0.1.0) (2024.8.30)\n",
      "Requirement already satisfied: mpmath<1.4.0,>=1.1.0 in /Users/luismartinezmartinez/pyenvs/qiskit1.1/lib/python3.11/site-packages (from sympy->cirq-core==1.5.0->cirq->cirq_tools==0.1.0) (1.3.0)\n",
      "Requirement already satisfied: cython>=3.0.0 in /Users/luismartinezmartinez/pyenvs/qiskit1.1/lib/python3.11/site-packages (from typedunits->cirq-google==1.5.0->cirq->cirq_tools==0.1.0) (3.0.12)\n",
      "Requirement already satisfied: cachetools<6.0,>=2.0.0 in /Users/luismartinezmartinez/pyenvs/qiskit1.1/lib/python3.11/site-packages (from google-auth<3.0.dev0,>=2.14.1->google-api-core>=1.14.0->google-api-core[grpc]>=1.14.0->cirq-google==1.5.0->cirq->cirq_tools==0.1.0) (5.5.0)\n",
      "Requirement already satisfied: pyasn1-modules>=0.2.1 in /Users/luismartinezmartinez/pyenvs/qiskit1.1/lib/python3.11/site-packages (from google-auth<3.0.dev0,>=2.14.1->google-api-core>=1.14.0->google-api-core[grpc]>=1.14.0->cirq-google==1.5.0->cirq->cirq_tools==0.1.0) (0.4.1)\n",
      "Requirement already satisfied: rsa<5,>=3.1.4 in /Users/luismartinezmartinez/pyenvs/qiskit1.1/lib/python3.11/site-packages (from google-auth<3.0.dev0,>=2.14.1->google-api-core>=1.14.0->google-api-core[grpc]>=1.14.0->cirq-google==1.5.0->cirq->cirq_tools==0.1.0) (4.9)\n",
      "Requirement already satisfied: pyasn1<0.7.0,>=0.4.6 in /Users/luismartinezmartinez/pyenvs/qiskit1.1/lib/python3.11/site-packages (from pyasn1-modules>=0.2.1->google-auth<3.0.dev0,>=2.14.1->google-api-core>=1.14.0->google-api-core[grpc]>=1.14.0->cirq-google==1.5.0->cirq->cirq_tools==0.1.0) (0.6.1)\n",
      "Using cached numpy-2.0.2-cp311-cp311-macosx_14_0_x86_64.whl (6.9 MB)\n",
      "Building wheels for collected packages: cirq_tools, bloqade-circuit\n",
      "  Building editable for cirq_tools (pyproject.toml) ... \u001b[?25ldone\n",
      "\u001b[?25h  Created wheel for cirq_tools: filename=cirq_tools-0.1.0-0.editable-py3-none-any.whl size=2862 sha256=d6003d2a5cecf01ea9741237998c57280169938748ce5e21febdc3365230e509\n",
      "  Stored in directory: /private/var/folders/rm/xdxcjr7n7_13f9m1905zyf6c0000gq/T/pip-ephem-wheel-cache-xz21lpgc/wheels/1d/64/8a/a709b4e88531fcefd14b563b66db6b771bcb6ef0f726ccf447\n",
      "  Building wheel for bloqade-circuit (pyproject.toml) ... \u001b[?25ldone\n",
      "\u001b[?25h  Created wheel for bloqade-circuit: filename=bloqade_circuit-0.6.0.dev0-py3-none-any.whl size=196944 sha256=fb81a785b296f8d46482de7cfd0197c0d888e48ca3fc12ec8361f6b7cd748976\n",
      "  Stored in directory: /private/var/folders/rm/xdxcjr7n7_13f9m1905zyf6c0000gq/T/pip-ephem-wheel-cache-xz21lpgc/wheels/03/f1/43/b64c333581462858276d01289f6d0dbc7f14dca24195e96e03\n",
      "Successfully built cirq_tools bloqade-circuit\n",
      "Installing collected packages: numpy, bloqade-circuit, cirq_tools\n",
      "  Attempting uninstall: numpy\n",
      "    Found existing installation: numpy 2.3.1\n",
      "    Uninstalling numpy-2.3.1:\n",
      "      Successfully uninstalled numpy-2.3.1\n",
      "  Attempting uninstall: bloqade-circuit\n",
      "    Found existing installation: bloqade-circuit 0.5.0\n",
      "    Uninstalling bloqade-circuit-0.5.0:\n",
      "      Successfully uninstalled bloqade-circuit-0.5.0\n",
      "  Attempting uninstall: cirq_tools\n",
      "    Found existing installation: cirq_tools 0.1.0\n",
      "    Uninstalling cirq_tools-0.1.0:\n",
      "      Successfully uninstalled cirq_tools-0.1.0\n",
      "\u001b[31mERROR: pip's dependency resolver does not currently take into account all the packages that are installed. This behaviour is the source of the following dependency conflicts.\n",
      "pyquil 4.14.3 requires numpy<2.0,>=1.25, but you have numpy 2.0.2 which is incompatible.\n",
      "pyquil 4.14.3 requires packaging<24.0,>=23.1, but you have packaging 25.0 which is incompatible.\n",
      "qiskit-ibm-runtime 0.36.1 requires pydantic<2.10,>=2.5.0, but you have pydantic 2.10.6 which is incompatible.\n",
      "qsimcirq 0.21.0 requires numpy~=1.16, but you have numpy 2.0.2 which is incompatible.\n",
      "bloqade-pyqrack 0.5.0 requires bloqade[qasm2]>=0.17.0, but you have bloqade 0.15.14 which is incompatible.\n",
      "bloqade-pyqrack 0.5.0 requires kirin-toolchain~=0.14.0, but you have kirin-toolchain 0.17.10 which is incompatible.\n",
      "cirq-rigetti 1.4.1 requires cirq-core==1.4.1, but you have cirq-core 1.5.0 which is incompatible.\u001b[0m\u001b[31m\n",
      "\u001b[0mSuccessfully installed bloqade-circuit-0.6.0.dev0 cirq_tools-0.1.0 numpy-2.0.2\n",
      "\n",
      "\u001b[1m[\u001b[0m\u001b[34;49mnotice\u001b[0m\u001b[1;39;49m]\u001b[0m\u001b[39;49m A new release of pip is available: \u001b[0m\u001b[31;49m25.0.1\u001b[0m\u001b[39;49m -> \u001b[0m\u001b[32;49m25.1.1\u001b[0m\n",
      "\u001b[1m[\u001b[0m\u001b[34;49mnotice\u001b[0m\u001b[1;39;49m]\u001b[0m\u001b[39;49m To update, run: \u001b[0m\u001b[32;49mpip install --upgrade pip\u001b[0m\n",
      "Note: you may need to restart the kernel to use updated packages.\n"
     ]
    }
   ],
   "source": [
    "pip install -e ../../cirq_tools/"
   ]
  },
  {
   "cell_type": "code",
   "execution_count": 3,
   "metadata": {},
   "outputs": [],
   "source": [
    "#pip install --no-cache-dir --force-reinstall git+https://github.com/QuEraComputing/bloqade-circuit"
   ]
  },
  {
   "cell_type": "code",
   "execution_count": 4,
   "metadata": {},
   "outputs": [],
   "source": [
    "#pip install bloqade-circuit==0.5.0"
   ]
  },
  {
   "cell_type": "code",
   "execution_count": 2,
   "metadata": {
    "tags": []
   },
   "outputs": [],
   "source": [
    "import numpy as np \n",
    "import nmrfuncs\n",
    "import sys, os\n",
    "from scipy.io import savemat, loadmat\n",
    "import cirq\n",
    "from timeit import default_timer as timer\n",
    "import importlib\n",
    "\n",
    "###Simulation with cirq_heurstic noise model...\n",
    "#import sys\n",
    "#sys.path.append('../../cirq_tools/noisy_simulation/')\n",
    "#from noisy_simulation.cirq_utils import get_two_zoned_noisy_circ, optimize_circuit_to_cz_gate_set\n",
    "\n",
    "\n",
    "\n"
   ]
  },
  {
   "cell_type": "code",
   "execution_count": null,
   "metadata": {},
   "outputs": [],
   "source": [
    "def decompose_xxpow(q0, q1, exponent):\n",
    "    theta = np.pi * exponent\n",
    "    return cirq.Circuit([\n",
    "        cirq.Moment([cirq.H(q0), cirq.H(q1)]),\n",
    "        cirq.Moment([cirq.CNOT(q0, q1)]),\n",
    "        cirq.Moment([cirq.rz(-theta)(q1)]),\n",
    "        cirq.Moment([cirq.CNOT(q0, q1)]),\n",
    "        cirq.Moment([cirq.H(q0), cirq.H(q1)])\n",
    "    ]).moments\n",
    "\n",
    "def replace_xxpow_gates(circuit):\n",
    "    new_circuit = cirq.Circuit()\n",
    "    for moment in circuit:\n",
    "        buffer = []\n",
    "        for op in moment.operations:\n",
    "            if isinstance(op.gate, cirq.XXPowGate):\n",
    "                q0, q1 = op.qubits\n",
    "                xx_decomp = decompose_xxpow(q0, q1, op.gate.exponent)\n",
    "                buffer.append(xx_decomp)\n",
    "            else:\n",
    "                buffer.append([cirq.Moment([op])])\n",
    "        \n",
    "        \n",
    "        if buffer:\n",
    "            for i in range(max(len(x) for x in buffer)):\n",
    "                ops = []\n",
    "                for branch in buffer:\n",
    "                    if i < len(branch):\n",
    "                        ops.extend(branch[i].operations)\n",
    "                if ops:\n",
    "                    new_circuit.append(cirq.Moment(ops))\n",
    "    return new_circuit\n",
    "\n",
    "\n"
   ]
  },
  {
   "cell_type": "code",
   "execution_count": 69,
   "metadata": {},
   "outputs": [],
   "source": [
    "#####Saving pickle circuits in json format and in CX + sq rot gates....\n",
    "from nmrfuncs import load_circuit\n",
    "from pathlib import Path\n",
    "\n",
    "folder_path = Path(\"./zf_ion\")  # e.g., Path(\"./data\")\n",
    "json_root = Path(\"./zf_ion_json\")  # e.g., Path(\"./data_json\")\n",
    "\n",
    "# Iterate over all .pickle files in this folder (non-recursive)\n",
    "for file in folder_path.glob(\"*.pickle\"):\n",
    "    circ = load_circuit(file,json_format=False)\n",
    "    #print(json_root / file.with_suffix('.json').name)\n",
    "    cirq.to_json(replace_xxpow_gates(circ), json_root / file.with_suffix('.json').name)\n",
    "\n"
   ]
  },
  {
   "cell_type": "code",
   "execution_count": 65,
   "metadata": {},
   "outputs": [],
   "source": [
    "test_circ = load_circuit('./zf_ion/U_t_3125.pickle',json_format=False)"
   ]
  },
  {
   "cell_type": "code",
   "execution_count": 66,
   "metadata": {},
   "outputs": [],
   "source": [
    "rewritten_circ = replace_xxpow_gates(test_circ)"
   ]
  },
  {
   "cell_type": "code",
   "execution_count": 67,
   "metadata": {},
   "outputs": [],
   "source": [
    "sim = cirq.Simulator()\n",
    "\n",
    "res_ref = sim.simulate(test_circ)\n",
    "\n",
    "res_rewritten = sim.simulate(rewritten_circ)"
   ]
  },
  {
   "cell_type": "code",
   "execution_count": 68,
   "metadata": {},
   "outputs": [
    {
     "data": {
      "text/plain": [
       "np.float32(1.0)"
      ]
     },
     "execution_count": 68,
     "metadata": {},
     "output_type": "execute_result"
    }
   ],
   "source": [
    "np.abs(np.vdot(res_ref.final_state_vector,res_rewritten.final_state_vector))"
   ]
  },
  {
   "cell_type": "code",
   "execution_count": null,
   "metadata": {},
   "outputs": [],
   "source": []
  },
  {
   "cell_type": "code",
   "execution_count": null,
   "metadata": {},
   "outputs": [],
   "source": []
  },
  {
   "cell_type": "code",
   "execution_count": 53,
   "metadata": {},
   "outputs": [
    {
     "data": {
      "text/plain": [
       "array([ 9.95966733e-01-8.9721009e-02j,  6.01285137e-08+5.3085387e-08j,\n",
       "       -1.05910324e-07+3.0595231e-08j, -8.79710456e-08+2.9417846e-08j,\n",
       "       -1.15286474e-08+1.1307753e-07j, -2.26016734e-08+3.2167538e-08j,\n",
       "       -1.45910262e-08+8.8550740e-09j,  1.59570881e-08+2.2549909e-09j,\n",
       "       -7.35713570e-08-1.0667912e-08j,  8.79896263e-08+4.1011944e-08j,\n",
       "       -2.65634021e-08+5.7481682e-08j, -1.71103203e-08+1.0852424e-07j,\n",
       "       -5.84599640e-08+1.0452232e-08j,  6.66178508e-08-4.7511477e-08j,\n",
       "        1.08095728e-08-7.7578637e-09j, -8.38348697e-08+5.8328022e-09j],\n",
       "      dtype=complex64)"
      ]
     },
     "execution_count": 53,
     "metadata": {},
     "output_type": "execute_result"
    }
   ],
   "source": [
    "res.final_state_vector"
   ]
  },
  {
   "cell_type": "code",
   "execution_count": null,
   "metadata": {},
   "outputs": [],
   "source": []
  },
  {
   "cell_type": "code",
   "execution_count": null,
   "metadata": {},
   "outputs": [],
   "source": []
  },
  {
   "cell_type": "code",
   "execution_count": null,
   "metadata": {},
   "outputs": [
    {
     "name": "stdout",
     "output_type": "stream",
     "text": [
      "Obtaining file:///Users/luismartinezmartinez/Documents/QuEra/GitProjs/cirq_tools\n",
      "  Installing build dependencies ... \u001b[?25ldone\n",
      "\u001b[?25h  Checking if build backend supports build_editable ... \u001b[?25ldone\n",
      "\u001b[?25h  Getting requirements to build editable ... \u001b[?25ldone\n",
      "\u001b[?25h  Preparing editable metadata (pyproject.toml) ... \u001b[?25ldone\n",
      "\u001b[?25hCollecting bloqade-circuit@ git+https://github.com/QuEraComputing/bloqade-circuit.git@main (from cirq_tools==0.1.0)\n",
      "  Cloning https://github.com/QuEraComputing/bloqade-circuit.git (to revision main) to /private/var/folders/rm/xdxcjr7n7_13f9m1905zyf6c0000gq/T/pip-install-dl3li30a/bloqade-circuit_0c86a4bf985a4f7bab1cf982fa3af028\n",
      "  Running command git clone --filter=blob:none --quiet https://github.com/QuEraComputing/bloqade-circuit.git /private/var/folders/rm/xdxcjr7n7_13f9m1905zyf6c0000gq/T/pip-install-dl3li30a/bloqade-circuit_0c86a4bf985a4f7bab1cf982fa3af028\n",
      "  Resolved https://github.com/QuEraComputing/bloqade-circuit.git to commit c2157d919cbf0ef861c3d43fd5177882c1dc56d3\n",
      "  Installing build dependencies ... \u001b[?25ldone\n",
      "\u001b[?25h  Getting requirements to build wheel ... \u001b[?25ldone\n",
      "\u001b[?25h  Preparing metadata (pyproject.toml) ... \u001b[?25ldone\n",
      "\u001b[?25hRequirement already satisfied: numpy in /Users/luismartinezmartinez/pyenvs/qiskit1.1/lib/python3.11/site-packages (from cirq_tools==0.1.0) (1.26.4)\n",
      "Requirement already satisfied: cirq in /Users/luismartinezmartinez/pyenvs/qiskit1.1/lib/python3.11/site-packages (from cirq_tools==0.1.0) (1.5.0)\n",
      "Requirement already satisfied: bloqade in /Users/luismartinezmartinez/pyenvs/qiskit1.1/lib/python3.11/site-packages (from cirq_tools==0.1.0) (0.22.5)\n",
      "Requirement already satisfied: lark>=1.2.2 in /Users/luismartinezmartinez/pyenvs/qiskit1.1/lib/python3.11/site-packages (from cirq_tools==0.1.0) (1.2.2)\n",
      "Requirement already satisfied: ply>=3.11 in /Users/luismartinezmartinez/pyenvs/qiskit1.1/lib/python3.11/site-packages (from cirq_tools==0.1.0) (3.11)\n",
      "Requirement already satisfied: pylatexenc>=2.10 in /Users/luismartinezmartinez/pyenvs/qiskit1.1/lib/python3.11/site-packages (from cirq_tools==0.1.0) (2.10)\n",
      "Collecting qiskit>=2.0.2 (from cirq_tools==0.1.0)\n",
      "  Downloading qiskit-2.1.0-cp39-abi3-macosx_10_12_x86_64.whl.metadata (12 kB)\n",
      "Requirement already satisfied: rustworkx>=0.15.0 in /Users/luismartinezmartinez/pyenvs/qiskit1.1/lib/python3.11/site-packages (from qiskit>=2.0.2->cirq_tools==0.1.0) (0.15.1)\n",
      "Requirement already satisfied: scipy>=1.5 in /Users/luismartinezmartinez/pyenvs/qiskit1.1/lib/python3.11/site-packages (from qiskit>=2.0.2->cirq_tools==0.1.0) (1.15.3)\n",
      "Requirement already satisfied: dill>=0.3 in /Users/luismartinezmartinez/pyenvs/qiskit1.1/lib/python3.11/site-packages (from qiskit>=2.0.2->cirq_tools==0.1.0) (0.3.8)\n",
      "Requirement already satisfied: stevedore>=3.0.0 in /Users/luismartinezmartinez/pyenvs/qiskit1.1/lib/python3.11/site-packages (from qiskit>=2.0.2->cirq_tools==0.1.0) (5.2.0)\n",
      "Requirement already satisfied: typing-extensions in /Users/luismartinezmartinez/pyenvs/qiskit1.1/lib/python3.11/site-packages (from qiskit>=2.0.2->cirq_tools==0.1.0) (4.13.2)\n",
      "Collecting kirin-toolchain~=0.14.0 (from bloqade->cirq_tools==0.1.0)\n",
      "  Using cached kirin_toolchain-0.14.3-py3-none-any.whl.metadata (3.0 kB)\n",
      "Requirement already satisfied: pandas>=2.2.3 in /Users/luismartinezmartinez/pyenvs/qiskit1.1/lib/python3.11/site-packages (from bloqade->cirq_tools==0.1.0) (2.2.3)\n",
      "Requirement already satisfied: pydantic>=1.3.0 in /Users/luismartinezmartinez/pyenvs/qiskit1.1/lib/python3.11/site-packages (from bloqade->cirq_tools==0.1.0) (2.10.6)\n",
      "Requirement already satisfied: rich>=13.9.4 in /Users/luismartinezmartinez/pyenvs/qiskit1.1/lib/python3.11/site-packages (from bloqade->cirq_tools==0.1.0) (14.0.0)\n",
      "INFO: pip is looking at multiple versions of bloqade-circuit to determine which version is compatible with other requirements. This could take a while.\n",
      "Collecting bloqade (from cirq_tools==0.1.0)\n",
      "  Downloading bloqade-0.26.0-py3-none-any.whl.metadata (2.9 kB)\n",
      "Requirement already satisfied: bloqade-analog~=0.16.3 in /Users/luismartinezmartinez/pyenvs/qiskit1.1/lib/python3.11/site-packages (from bloqade->cirq_tools==0.1.0) (0.16.3)\n",
      "INFO: pip is looking at multiple versions of bloqade to determine which version is compatible with other requirements. This could take a while.\n",
      "  Downloading bloqade-0.25.0-py3-none-any.whl.metadata (2.9 kB)\n",
      "  Downloading bloqade-0.24.1-py3-none-any.whl.metadata (2.9 kB)\n",
      "  Using cached bloqade-0.24.0-py3-none-any.whl.metadata (2.9 kB)\n",
      "  Using cached bloqade-0.23.0-py3-none-any.whl.metadata (2.9 kB)\n",
      "  Using cached bloqade-0.22.5-py3-none-any.whl.metadata (3.2 kB)\n",
      "INFO: pip is still looking at multiple versions of bloqade to determine which version is compatible with other requirements. This could take a while.\n",
      "  Using cached bloqade-0.22.4-py3-none-any.whl.metadata (3.2 kB)\n",
      "INFO: This is taking longer than usual. You might need to provide the dependency resolver with stricter constraints to reduce runtime. See https://pip.pypa.io/warnings/backtracking for guidance. If you want to abort this run, press Ctrl + C.\n",
      "  Downloading bloqade-0.22.3-py3-none-any.whl.metadata (3.2 kB)\n",
      "  Downloading bloqade-0.22.2-py3-none-any.whl.metadata (3.2 kB)\n",
      "  Using cached bloqade-0.22.1-py3-none-any.whl.metadata (2.6 kB)\n",
      "  Downloading bloqade-0.22.0-py3-none-any.whl.metadata (2.6 kB)\n",
      "  Downloading bloqade-0.21.0-py3-none-any.whl.metadata (2.3 kB)\n",
      "INFO: pip is still looking at multiple versions of bloqade-circuit to determine which version is compatible with other requirements. This could take a while.\n",
      "  Downloading bloqade-0.20.0-py3-none-any.whl.metadata (2.2 kB)\n",
      "Collecting kirin-toolchain~=0.13.0 (from bloqade->cirq_tools==0.1.0)\n",
      "  Downloading kirin_toolchain-0.13.1-py3-none-any.whl.metadata (2.7 kB)\n",
      "Collecting bloqade (from cirq_tools==0.1.0)\n",
      "  Downloading bloqade-0.15.14-py3-none-any.whl.metadata (11 kB)\n",
      "Requirement already satisfied: juliacall>=0.9.14 in /Users/luismartinezmartinez/pyenvs/qiskit1.1/lib/python3.11/site-packages (from bloqade->cirq_tools==0.1.0) (0.9.24)\n",
      "Requirement already satisfied: bokeh>=3.2.2 in /Users/luismartinezmartinez/pyenvs/qiskit1.1/lib/python3.11/site-packages (from bloqade->cirq_tools==0.1.0) (3.7.2)\n",
      "Requirement already satisfied: tabulate>=0.9.0 in /Users/luismartinezmartinez/pyenvs/qiskit1.1/lib/python3.11/site-packages (from bloqade->cirq_tools==0.1.0) (0.9.0)\n",
      "Requirement already satisfied: requests-sigv4>=0.1.6 in /Users/luismartinezmartinez/pyenvs/qiskit1.1/lib/python3.11/site-packages (from bloqade->cirq_tools==0.1.0) (0.1.6)\n",
      "Requirement already satisfied: amazon-braket-sdk>=1.78.0 in /Users/luismartinezmartinez/pyenvs/qiskit1.1/lib/python3.11/site-packages (from bloqade->cirq_tools==0.1.0) (1.91.0)\n",
      "Requirement already satisfied: plotext>=5.2.8 in /Users/luismartinezmartinez/pyenvs/qiskit1.1/lib/python3.11/site-packages (from bloqade->cirq_tools==0.1.0) (5.3.2)\n",
      "Requirement already satisfied: beartype>=0.15.0 in /Users/luismartinezmartinez/pyenvs/qiskit1.1/lib/python3.11/site-packages (from bloqade->cirq_tools==0.1.0) (0.21.0)\n",
      "Requirement already satisfied: simplejson>=3.19.1 in /Users/luismartinezmartinez/pyenvs/qiskit1.1/lib/python3.11/site-packages (from bloqade->cirq_tools==0.1.0) (3.20.1)\n",
      "Requirement already satisfied: plum-dispatch>=2.2.2 in /Users/luismartinezmartinez/pyenvs/qiskit1.1/lib/python3.11/site-packages (from bloqade->cirq_tools==0.1.0) (2.5.2)\n",
      "Requirement already satisfied: numba>=0.58.0 in /Users/luismartinezmartinez/pyenvs/qiskit1.1/lib/python3.11/site-packages (from bloqade->cirq_tools==0.1.0) (0.60.0)\n",
      "Requirement already satisfied: kirin-toolchain~=0.17.0 in /Users/luismartinezmartinez/pyenvs/qiskit1.1/lib/python3.11/site-packages (from bloqade-circuit@ git+https://github.com/QuEraComputing/bloqade-circuit.git@main->cirq_tools==0.1.0) (0.17.9)\n",
      "Requirement already satisfied: pyqrack<1.41,>=1.38.2 in /Users/luismartinezmartinez/pyenvs/qiskit1.1/lib/python3.11/site-packages (from bloqade-circuit@ git+https://github.com/QuEraComputing/bloqade-circuit.git@main->cirq_tools==0.1.0) (1.40.3)\n",
      "Requirement already satisfied: cirq-aqt==1.5.0 in /Users/luismartinezmartinez/pyenvs/qiskit1.1/lib/python3.11/site-packages (from cirq->cirq_tools==0.1.0) (1.5.0)\n",
      "Requirement already satisfied: cirq-core==1.5.0 in /Users/luismartinezmartinez/pyenvs/qiskit1.1/lib/python3.11/site-packages (from cirq->cirq_tools==0.1.0) (1.5.0)\n",
      "Requirement already satisfied: cirq-google==1.5.0 in /Users/luismartinezmartinez/pyenvs/qiskit1.1/lib/python3.11/site-packages (from cirq->cirq_tools==0.1.0) (1.5.0)\n",
      "Requirement already satisfied: cirq-ionq==1.5.0 in /Users/luismartinezmartinez/pyenvs/qiskit1.1/lib/python3.11/site-packages (from cirq->cirq_tools==0.1.0) (1.5.0)\n",
      "Requirement already satisfied: cirq-pasqal==1.5.0 in /Users/luismartinezmartinez/pyenvs/qiskit1.1/lib/python3.11/site-packages (from cirq->cirq_tools==0.1.0) (1.5.0)\n",
      "Requirement already satisfied: cirq-web==1.5.0 in /Users/luismartinezmartinez/pyenvs/qiskit1.1/lib/python3.11/site-packages (from cirq->cirq_tools==0.1.0) (1.5.0)\n",
      "Requirement already satisfied: requests~=2.32 in /Users/luismartinezmartinez/pyenvs/qiskit1.1/lib/python3.11/site-packages (from cirq-aqt==1.5.0->cirq->cirq_tools==0.1.0) (2.32.3)\n",
      "Requirement already satisfied: attrs>=21.3.0 in /Users/luismartinezmartinez/pyenvs/qiskit1.1/lib/python3.11/site-packages (from cirq-core==1.5.0->cirq->cirq_tools==0.1.0) (24.2.0)\n",
      "Requirement already satisfied: duet>=0.2.8 in /Users/luismartinezmartinez/pyenvs/qiskit1.1/lib/python3.11/site-packages (from cirq-core==1.5.0->cirq->cirq_tools==0.1.0) (0.2.9)\n",
      "Requirement already satisfied: matplotlib~=3.7 in /Users/luismartinezmartinez/pyenvs/qiskit1.1/lib/python3.11/site-packages (from cirq-core==1.5.0->cirq->cirq_tools==0.1.0) (3.9.2)\n",
      "Requirement already satisfied: networkx~=3.1 in /Users/luismartinezmartinez/pyenvs/qiskit1.1/lib/python3.11/site-packages (from cirq-core==1.5.0->cirq->cirq_tools==0.1.0) (3.3)\n",
      "Requirement already satisfied: sortedcontainers~=2.0 in /Users/luismartinezmartinez/pyenvs/qiskit1.1/lib/python3.11/site-packages (from cirq-core==1.5.0->cirq->cirq_tools==0.1.0) (2.4.0)\n",
      "Requirement already satisfied: sympy in /Users/luismartinezmartinez/pyenvs/qiskit1.1/lib/python3.11/site-packages (from cirq-core==1.5.0->cirq->cirq_tools==0.1.0) (1.12.1)\n",
      "Requirement already satisfied: tqdm>=4.12 in /Users/luismartinezmartinez/pyenvs/qiskit1.1/lib/python3.11/site-packages (from cirq-core==1.5.0->cirq->cirq_tools==0.1.0) (4.66.5)\n",
      "Requirement already satisfied: google-api-core>=1.14.0 in /Users/luismartinezmartinez/pyenvs/qiskit1.1/lib/python3.11/site-packages (from google-api-core[grpc]>=1.14.0->cirq-google==1.5.0->cirq->cirq_tools==0.1.0) (2.20.0)\n",
      "Requirement already satisfied: proto-plus>=1.20.0 in /Users/luismartinezmartinez/pyenvs/qiskit1.1/lib/python3.11/site-packages (from cirq-google==1.5.0->cirq->cirq_tools==0.1.0) (1.24.0)\n",
      "Requirement already satisfied: protobuf<6.0,>=4.25 in /Users/luismartinezmartinez/pyenvs/qiskit1.1/lib/python3.11/site-packages (from cirq-google==1.5.0->cirq->cirq_tools==0.1.0) (4.25.5)\n",
      "Requirement already satisfied: typedunits in /Users/luismartinezmartinez/pyenvs/qiskit1.1/lib/python3.11/site-packages (from cirq-google==1.5.0->cirq->cirq_tools==0.1.0) (0.0.1.dev20250425170239)\n",
      "Requirement already satisfied: amazon-braket-schemas>=1.23.0 in /Users/luismartinezmartinez/pyenvs/qiskit1.1/lib/python3.11/site-packages (from amazon-braket-sdk>=1.78.0->bloqade->cirq_tools==0.1.0) (1.23.3)\n",
      "Requirement already satisfied: amazon-braket-default-simulator>=1.26.0 in /Users/luismartinezmartinez/pyenvs/qiskit1.1/lib/python3.11/site-packages (from amazon-braket-sdk>=1.78.0->bloqade->cirq_tools==0.1.0) (1.26.4)\n",
      "Requirement already satisfied: oqpy~=0.3.5 in /Users/luismartinezmartinez/pyenvs/qiskit1.1/lib/python3.11/site-packages (from amazon-braket-sdk>=1.78.0->bloqade->cirq_tools==0.1.0) (0.3.7)\n",
      "Requirement already satisfied: backoff in /Users/luismartinezmartinez/pyenvs/qiskit1.1/lib/python3.11/site-packages (from amazon-braket-sdk>=1.78.0->bloqade->cirq_tools==0.1.0) (2.2.1)\n",
      "Requirement already satisfied: boltons in /Users/luismartinezmartinez/pyenvs/qiskit1.1/lib/python3.11/site-packages (from amazon-braket-sdk>=1.78.0->bloqade->cirq_tools==0.1.0) (25.0.0)\n",
      "Requirement already satisfied: boto3>=1.28.53 in /Users/luismartinezmartinez/pyenvs/qiskit1.1/lib/python3.11/site-packages (from amazon-braket-sdk>=1.78.0->bloqade->cirq_tools==0.1.0) (1.37.34)\n",
      "Requirement already satisfied: cloudpickle==2.2.1 in /Users/luismartinezmartinez/pyenvs/qiskit1.1/lib/python3.11/site-packages (from amazon-braket-sdk>=1.78.0->bloqade->cirq_tools==0.1.0) (2.2.1)\n",
      "Requirement already satisfied: nest-asyncio in /Users/luismartinezmartinez/pyenvs/qiskit1.1/lib/python3.11/site-packages (from amazon-braket-sdk>=1.78.0->bloqade->cirq_tools==0.1.0) (1.6.0)\n",
      "Requirement already satisfied: openpulse in /Users/luismartinezmartinez/pyenvs/qiskit1.1/lib/python3.11/site-packages (from amazon-braket-sdk>=1.78.0->bloqade->cirq_tools==0.1.0) (1.0.1)\n",
      "Requirement already satisfied: openqasm3 in /Users/luismartinezmartinez/pyenvs/qiskit1.1/lib/python3.11/site-packages (from amazon-braket-sdk>=1.78.0->bloqade->cirq_tools==0.1.0) (1.0.0)\n",
      "Requirement already satisfied: backports.entry-points-selectable in /Users/luismartinezmartinez/pyenvs/qiskit1.1/lib/python3.11/site-packages (from amazon-braket-sdk>=1.78.0->bloqade->cirq_tools==0.1.0) (1.3.0)\n",
      "Requirement already satisfied: Jinja2>=2.9 in /Users/luismartinezmartinez/pyenvs/qiskit1.1/lib/python3.11/site-packages (from bokeh>=3.2.2->bloqade->cirq_tools==0.1.0) (3.1.4)\n",
      "Requirement already satisfied: contourpy>=1.2 in /Users/luismartinezmartinez/pyenvs/qiskit1.1/lib/python3.11/site-packages (from bokeh>=3.2.2->bloqade->cirq_tools==0.1.0) (1.3.0)\n",
      "Requirement already satisfied: narwhals>=1.13 in /Users/luismartinezmartinez/pyenvs/qiskit1.1/lib/python3.11/site-packages (from bokeh>=3.2.2->bloqade->cirq_tools==0.1.0) (1.35.0)\n",
      "Requirement already satisfied: packaging>=16.8 in /Users/luismartinezmartinez/pyenvs/qiskit1.1/lib/python3.11/site-packages (from bokeh>=3.2.2->bloqade->cirq_tools==0.1.0) (23.2)\n",
      "Requirement already satisfied: pillow>=7.1.0 in /Users/luismartinezmartinez/pyenvs/qiskit1.1/lib/python3.11/site-packages (from bokeh>=3.2.2->bloqade->cirq_tools==0.1.0) (10.4.0)\n",
      "Requirement already satisfied: PyYAML>=3.10 in /Users/luismartinezmartinez/pyenvs/qiskit1.1/lib/python3.11/site-packages (from bokeh>=3.2.2->bloqade->cirq_tools==0.1.0) (6.0.2)\n",
      "Requirement already satisfied: tornado>=6.2 in /Users/luismartinezmartinez/pyenvs/qiskit1.1/lib/python3.11/site-packages (from bokeh>=3.2.2->bloqade->cirq_tools==0.1.0) (6.4.1)\n",
      "Requirement already satisfied: xyzservices>=2021.09.1 in /Users/luismartinezmartinez/pyenvs/qiskit1.1/lib/python3.11/site-packages (from bokeh>=3.2.2->bloqade->cirq_tools==0.1.0) (2025.1.0)\n",
      "Requirement already satisfied: juliapkg~=0.1.8 in /Users/luismartinezmartinez/pyenvs/qiskit1.1/lib/python3.11/site-packages (from juliacall>=0.9.14->bloqade->cirq_tools==0.1.0) (0.1.16)\n",
      "Requirement already satisfied: llvmlite<0.44,>=0.43.0dev0 in /Users/luismartinezmartinez/pyenvs/qiskit1.1/lib/python3.11/site-packages (from numba>=0.58.0->bloqade->cirq_tools==0.1.0) (0.43.0)\n",
      "Requirement already satisfied: python-dateutil>=2.8.2 in /Users/luismartinezmartinez/pyenvs/qiskit1.1/lib/python3.11/site-packages (from pandas>=2.2.3->bloqade->cirq_tools==0.1.0) (2.9.0.post0)\n",
      "Requirement already satisfied: pytz>=2020.1 in /Users/luismartinezmartinez/pyenvs/qiskit1.1/lib/python3.11/site-packages (from pandas>=2.2.3->bloqade->cirq_tools==0.1.0) (2025.2)\n",
      "Requirement already satisfied: tzdata>=2022.7 in /Users/luismartinezmartinez/pyenvs/qiskit1.1/lib/python3.11/site-packages (from pandas>=2.2.3->bloqade->cirq_tools==0.1.0) (2025.2)\n",
      "Requirement already satisfied: annotated-types>=0.6.0 in /Users/luismartinezmartinez/pyenvs/qiskit1.1/lib/python3.11/site-packages (from pydantic>=1.3.0->bloqade->cirq_tools==0.1.0) (0.7.0)\n",
      "Requirement already satisfied: pydantic-core==2.27.2 in /Users/luismartinezmartinez/pyenvs/qiskit1.1/lib/python3.11/site-packages (from pydantic>=1.3.0->bloqade->cirq_tools==0.1.0) (2.27.2)\n",
      "Requirement already satisfied: requests-aws-sign in /Users/luismartinezmartinez/pyenvs/qiskit1.1/lib/python3.11/site-packages (from requests-sigv4>=0.1.6->bloqade->cirq_tools==0.1.0) (0.1.6)\n",
      "Requirement already satisfied: markdown-it-py>=2.2.0 in /Users/luismartinezmartinez/pyenvs/qiskit1.1/lib/python3.11/site-packages (from rich>=13.9.4->bloqade->cirq_tools==0.1.0) (3.0.0)\n",
      "Requirement already satisfied: pygments<3.0.0,>=2.13.0 in /Users/luismartinezmartinez/pyenvs/qiskit1.1/lib/python3.11/site-packages (from rich>=13.9.4->bloqade->cirq_tools==0.1.0) (2.19.1)\n",
      "Requirement already satisfied: pbr!=2.1.0,>=2.0.0 in /Users/luismartinezmartinez/pyenvs/qiskit1.1/lib/python3.11/site-packages (from stevedore>=3.0.0->qiskit>=2.0.2->cirq_tools==0.1.0) (6.0.0)\n",
      "Requirement already satisfied: opt_einsum in /Users/luismartinezmartinez/pyenvs/qiskit1.1/lib/python3.11/site-packages (from amazon-braket-default-simulator>=1.26.0->amazon-braket-sdk>=1.78.0->bloqade->cirq_tools==0.1.0) (3.4.0)\n",
      "Requirement already satisfied: antlr4-python3-runtime==4.9.2 in /Users/luismartinezmartinez/pyenvs/qiskit1.1/lib/python3.11/site-packages (from amazon-braket-default-simulator>=1.26.0->amazon-braket-sdk>=1.78.0->bloqade->cirq_tools==0.1.0) (4.9.2)\n",
      "Requirement already satisfied: botocore<1.38.0,>=1.37.34 in /Users/luismartinezmartinez/pyenvs/qiskit1.1/lib/python3.11/site-packages (from boto3>=1.28.53->amazon-braket-sdk>=1.78.0->bloqade->cirq_tools==0.1.0) (1.37.34)\n",
      "Requirement already satisfied: jmespath<2.0.0,>=0.7.1 in /Users/luismartinezmartinez/pyenvs/qiskit1.1/lib/python3.11/site-packages (from boto3>=1.28.53->amazon-braket-sdk>=1.78.0->bloqade->cirq_tools==0.1.0) (1.0.1)\n",
      "Requirement already satisfied: s3transfer<0.12.0,>=0.11.0 in /Users/luismartinezmartinez/pyenvs/qiskit1.1/lib/python3.11/site-packages (from boto3>=1.28.53->amazon-braket-sdk>=1.78.0->bloqade->cirq_tools==0.1.0) (0.11.4)\n",
      "Requirement already satisfied: googleapis-common-protos<2.0.dev0,>=1.56.2 in /Users/luismartinezmartinez/pyenvs/qiskit1.1/lib/python3.11/site-packages (from google-api-core>=1.14.0->google-api-core[grpc]>=1.14.0->cirq-google==1.5.0->cirq->cirq_tools==0.1.0) (1.65.0)\n",
      "Requirement already satisfied: google-auth<3.0.dev0,>=2.14.1 in /Users/luismartinezmartinez/pyenvs/qiskit1.1/lib/python3.11/site-packages (from google-api-core>=1.14.0->google-api-core[grpc]>=1.14.0->cirq-google==1.5.0->cirq->cirq_tools==0.1.0) (2.35.0)\n",
      "Requirement already satisfied: grpcio<2.0dev,>=1.33.2 in /Users/luismartinezmartinez/pyenvs/qiskit1.1/lib/python3.11/site-packages (from google-api-core[grpc]>=1.14.0->cirq-google==1.5.0->cirq->cirq_tools==0.1.0) (1.66.2)\n",
      "Requirement already satisfied: grpcio-status<2.0.dev0,>=1.33.2 in /Users/luismartinezmartinez/pyenvs/qiskit1.1/lib/python3.11/site-packages (from google-api-core[grpc]>=1.14.0->cirq-google==1.5.0->cirq->cirq_tools==0.1.0) (1.62.3)\n",
      "Requirement already satisfied: MarkupSafe>=2.0 in /Users/luismartinezmartinez/pyenvs/qiskit1.1/lib/python3.11/site-packages (from Jinja2>=2.9->bokeh>=3.2.2->bloqade->cirq_tools==0.1.0) (2.1.5)\n",
      "Requirement already satisfied: filelock<4.0,>=3.16 in /Users/luismartinezmartinez/pyenvs/qiskit1.1/lib/python3.11/site-packages (from juliapkg~=0.1.8->juliacall>=0.9.14->bloqade->cirq_tools==0.1.0) (3.18.0)\n",
      "Requirement already satisfied: semver<4.0,>=3.0 in /Users/luismartinezmartinez/pyenvs/qiskit1.1/lib/python3.11/site-packages (from juliapkg~=0.1.8->juliacall>=0.9.14->bloqade->cirq_tools==0.1.0) (3.0.4)\n",
      "Requirement already satisfied: mdurl~=0.1 in /Users/luismartinezmartinez/pyenvs/qiskit1.1/lib/python3.11/site-packages (from markdown-it-py>=2.2.0->rich>=13.9.4->bloqade->cirq_tools==0.1.0) (0.1.2)\n",
      "Requirement already satisfied: cycler>=0.10 in /Users/luismartinezmartinez/pyenvs/qiskit1.1/lib/python3.11/site-packages (from matplotlib~=3.7->cirq-core==1.5.0->cirq->cirq_tools==0.1.0) (0.12.1)\n",
      "Requirement already satisfied: fonttools>=4.22.0 in /Users/luismartinezmartinez/pyenvs/qiskit1.1/lib/python3.11/site-packages (from matplotlib~=3.7->cirq-core==1.5.0->cirq->cirq_tools==0.1.0) (4.54.1)\n",
      "Requirement already satisfied: kiwisolver>=1.3.1 in /Users/luismartinezmartinez/pyenvs/qiskit1.1/lib/python3.11/site-packages (from matplotlib~=3.7->cirq-core==1.5.0->cirq->cirq_tools==0.1.0) (1.4.7)\n",
      "Requirement already satisfied: pyparsing>=2.3.1 in /Users/luismartinezmartinez/pyenvs/qiskit1.1/lib/python3.11/site-packages (from matplotlib~=3.7->cirq-core==1.5.0->cirq->cirq_tools==0.1.0) (3.1.4)\n",
      "Requirement already satisfied: mypy-extensions>=0.2.0 in /Users/luismartinezmartinez/pyenvs/qiskit1.1/lib/python3.11/site-packages (from oqpy~=0.3.5->amazon-braket-sdk>=1.78.0->bloqade->cirq_tools==0.1.0) (1.0.0)\n",
      "Requirement already satisfied: six>=1.5 in /Users/luismartinezmartinez/pyenvs/qiskit1.1/lib/python3.11/site-packages (from python-dateutil>=2.8.2->pandas>=2.2.3->bloqade->cirq_tools==0.1.0) (1.17.0)\n",
      "Requirement already satisfied: charset-normalizer<4,>=2 in /Users/luismartinezmartinez/pyenvs/qiskit1.1/lib/python3.11/site-packages (from requests~=2.32->cirq-aqt==1.5.0->cirq->cirq_tools==0.1.0) (3.3.2)\n",
      "Requirement already satisfied: idna<4,>=2.5 in /Users/luismartinezmartinez/pyenvs/qiskit1.1/lib/python3.11/site-packages (from requests~=2.32->cirq-aqt==1.5.0->cirq->cirq_tools==0.1.0) (3.10)\n",
      "Requirement already satisfied: urllib3<3,>=1.21.1 in /Users/luismartinezmartinez/pyenvs/qiskit1.1/lib/python3.11/site-packages (from requests~=2.32->cirq-aqt==1.5.0->cirq->cirq_tools==0.1.0) (2.2.3)\n",
      "Requirement already satisfied: certifi>=2017.4.17 in /Users/luismartinezmartinez/pyenvs/qiskit1.1/lib/python3.11/site-packages (from requests~=2.32->cirq-aqt==1.5.0->cirq->cirq_tools==0.1.0) (2024.8.30)\n",
      "Requirement already satisfied: mpmath<1.4.0,>=1.1.0 in /Users/luismartinezmartinez/pyenvs/qiskit1.1/lib/python3.11/site-packages (from sympy->cirq-core==1.5.0->cirq->cirq_tools==0.1.0) (1.3.0)\n",
      "Requirement already satisfied: cython>=3.0.0 in /Users/luismartinezmartinez/pyenvs/qiskit1.1/lib/python3.11/site-packages (from typedunits->cirq-google==1.5.0->cirq->cirq_tools==0.1.0) (3.0.12)\n",
      "Requirement already satisfied: cachetools<6.0,>=2.0.0 in /Users/luismartinezmartinez/pyenvs/qiskit1.1/lib/python3.11/site-packages (from google-auth<3.0.dev0,>=2.14.1->google-api-core>=1.14.0->google-api-core[grpc]>=1.14.0->cirq-google==1.5.0->cirq->cirq_tools==0.1.0) (5.5.0)\n",
      "Requirement already satisfied: pyasn1-modules>=0.2.1 in /Users/luismartinezmartinez/pyenvs/qiskit1.1/lib/python3.11/site-packages (from google-auth<3.0.dev0,>=2.14.1->google-api-core>=1.14.0->google-api-core[grpc]>=1.14.0->cirq-google==1.5.0->cirq->cirq_tools==0.1.0) (0.4.1)\n",
      "Requirement already satisfied: rsa<5,>=3.1.4 in /Users/luismartinezmartinez/pyenvs/qiskit1.1/lib/python3.11/site-packages (from google-auth<3.0.dev0,>=2.14.1->google-api-core>=1.14.0->google-api-core[grpc]>=1.14.0->cirq-google==1.5.0->cirq->cirq_tools==0.1.0) (4.9)\n",
      "Requirement already satisfied: pyasn1<0.7.0,>=0.4.6 in /Users/luismartinezmartinez/pyenvs/qiskit1.1/lib/python3.11/site-packages (from pyasn1-modules>=0.2.1->google-auth<3.0.dev0,>=2.14.1->google-api-core>=1.14.0->google-api-core[grpc]>=1.14.0->cirq-google==1.5.0->cirq->cirq_tools==0.1.0) (0.6.1)\n",
      "Downloading qiskit-2.1.0-cp39-abi3-macosx_10_12_x86_64.whl (7.3 MB)\n",
      "\u001b[2K   \u001b[90m━━━━━━━━━━━━━━━━━━━━━━━━━━━━━━━━━━━━━━━━\u001b[0m \u001b[32m7.3/7.3 MB\u001b[0m \u001b[31m30.9 MB/s\u001b[0m eta \u001b[36m0:00:00\u001b[0ma \u001b[36m0:00:01\u001b[0m\n",
      "\u001b[?25hDownloading bloqade-0.15.14-py3-none-any.whl (180 kB)\n",
      "Building wheels for collected packages: cirq_tools, bloqade-circuit\n",
      "  Building editable for cirq_tools (pyproject.toml) ... \u001b[?25ldone\n",
      "\u001b[?25h  Created wheel for cirq_tools: filename=cirq_tools-0.1.0-0.editable-py3-none-any.whl size=2862 sha256=5a94b44847a61a3d707a556ae8f7f6d645785df365032e6821e0e4728131172d\n",
      "  Stored in directory: /private/var/folders/rm/xdxcjr7n7_13f9m1905zyf6c0000gq/T/pip-ephem-wheel-cache-yc3v7rna/wheels/1d/64/8a/a709b4e88531fcefd14b563b66db6b771bcb6ef0f726ccf447\n",
      "  Building wheel for bloqade-circuit (pyproject.toml) ... \u001b[?25ldone\n",
      "\u001b[?25h  Created wheel for bloqade-circuit: filename=bloqade_circuit-0.6.0.dev0-py3-none-any.whl size=196944 sha256=fb81a785b296f8d46482de7cfd0197c0d888e48ca3fc12ec8361f6b7cd748976\n",
      "  Stored in directory: /private/var/folders/rm/xdxcjr7n7_13f9m1905zyf6c0000gq/T/pip-ephem-wheel-cache-yc3v7rna/wheels/03/f1/43/b64c333581462858276d01289f6d0dbc7f14dca24195e96e03\n",
      "Successfully built cirq_tools bloqade-circuit\n",
      "Installing collected packages: qiskit, bloqade-circuit, bloqade, cirq_tools\n",
      "  Attempting uninstall: qiskit\n",
      "    Found existing installation: qiskit 1.4.0\n",
      "    Uninstalling qiskit-1.4.0:\n",
      "      Successfully uninstalled qiskit-1.4.0\n",
      "  Attempting uninstall: bloqade-circuit\n",
      "    Found existing installation: bloqade-circuit 0.5.0.dev0\n",
      "    Uninstalling bloqade-circuit-0.5.0.dev0:\n",
      "      Successfully uninstalled bloqade-circuit-0.5.0.dev0\n",
      "  Attempting uninstall: bloqade\n",
      "    Found existing installation: bloqade 0.22.5\n",
      "    Uninstalling bloqade-0.22.5:\n",
      "      Successfully uninstalled bloqade-0.22.5\n",
      "\u001b[31mERROR: pip's dependency resolver does not currently take into account all the packages that are installed. This behaviour is the source of the following dependency conflicts.\n",
      "qiskit-ibm-runtime 0.36.1 requires pydantic<2.10,>=2.5.0, but you have pydantic 2.10.6 which is incompatible.\n",
      "bloqade-pyqrack 0.5.0 requires bloqade[qasm2]>=0.17.0, but you have bloqade 0.15.14 which is incompatible.\n",
      "bloqade-pyqrack 0.5.0 requires kirin-toolchain~=0.14.0, but you have kirin-toolchain 0.17.9 which is incompatible.\u001b[0m\u001b[31m\n",
      "\u001b[0mSuccessfully installed bloqade-0.15.14 bloqade-circuit-0.6.0.dev0 cirq_tools-0.1.0 qiskit-2.1.0\n",
      "\n",
      "\u001b[1m[\u001b[0m\u001b[34;49mnotice\u001b[0m\u001b[1;39;49m]\u001b[0m\u001b[39;49m A new release of pip is available: \u001b[0m\u001b[31;49m25.0.1\u001b[0m\u001b[39;49m -> \u001b[0m\u001b[32;49m25.1.1\u001b[0m\n",
      "\u001b[1m[\u001b[0m\u001b[34;49mnotice\u001b[0m\u001b[1;39;49m]\u001b[0m\u001b[39;49m To update, run: \u001b[0m\u001b[32;49mpip install --upgrade pip\u001b[0m\n",
      "Note: you may need to restart the kernel to use updated packages.\n"
     ]
    }
   ],
   "source": [
    "#pip install -e ../../cirq_tools/"
   ]
  },
  {
   "cell_type": "code",
   "execution_count": null,
   "metadata": {},
   "outputs": [],
   "source": [
    "#pip install --no-cache-dir --force-reinstall git+https://github.com/QuEraComputing/bloqade-circuit"
   ]
  },
  {
   "cell_type": "code",
   "execution_count": 2,
   "metadata": {},
   "outputs": [],
   "source": [
    "###ffunction to compute FID using our QuEra's noise model...\n",
    "from nmrfuncs import SzTot_weighted_obs, responseFunc_sample, addDepolarizingNoise, ZULF_circuitList\n",
    "\n",
    "def ZULF_noisySim_QuEra(t_ind_List, path, nmr_reg, weights, repetitions):\n",
    "    simulator = cirq.DensityMatrixSimulator()\n",
    "    responseFunc = []\n",
    "    SzTot = np.array(SzTot_weighted_obs(len(nmr_reg), weights))\n",
    "    for indt, t_ind in enumerate(t_ind_List):\n",
    "        circuitList, SzTot_comp = ZULF_circuitList(t_ind, path, nmr_reg, SzTot)\n",
    "        state_prob_list = []\n",
    "        for circuit in circuitList:\n",
    "            noisy_circuit = get_two_zoned_noisy_circ(optimize_circuit_to_cz_gate_set(circuit)) #addDepolarizingNoise(circuit, p1q, p2q)\n",
    "            noisy_circuit.append([cirq.measure(*nmr_reg, key='measure_all')])\n",
    "            run_result = simulator.run(program=noisy_circuit, repetitions=repetitions)\n",
    "            histogram = run_result.histogram(key='measure_all')\n",
    "            avg_pop = np.array([histogram[i] for i in range(int(2**len(nmr_reg)))])/repetitions\n",
    "            state_prob_list.append(avg_pop)\n",
    "#         print(indt)\n",
    "        responseFunc.append(responseFunc_sample(state_prob_list, SzTot, SzTot_comp, len(nmr_reg)))\n",
    "    return responseFunc\n",
    "\n"
   ]
  },
  {
   "cell_type": "code",
   "execution_count": 3,
   "metadata": {},
   "outputs": [
    {
     "name": "stderr",
     "output_type": "stream",
     "text": [
      "/Users/luismartinezmartinez/pyenvs/qiskit1.1/lib/python3.11/site-packages/cirq/circuits/circuit_operation.py:173: FutureWarning: In cirq 1.6 the default value of `use_repetition_ids` will change to\n",
      "`use_repetition_ids=False`. To make this warning go away, please pass\n",
      "explicit `use_repetition_ids`, e.g., to preserve current behavior, use\n",
      "\n",
      "  CircuitOperations(..., use_repetition_ids=True)\n",
      "  warnings.warn(msg, FutureWarning)\n",
      "/Users/luismartinezmartinez/pyenvs/qiskit1.1/lib/python3.11/site-packages/cirq/circuits/circuit_operation.py:173: FutureWarning: In cirq 1.6 the default value of `use_repetition_ids` will change to\n",
      "`use_repetition_ids=False`. To make this warning go away, please pass\n",
      "explicit `use_repetition_ids`, e.g., to preserve current behavior, use\n",
      "\n",
      "  CircuitOperations(..., use_repetition_ids=True)\n",
      "  warnings.warn(msg, FutureWarning)\n",
      "/Users/luismartinezmartinez/pyenvs/qiskit1.1/lib/python3.11/site-packages/cirq/circuits/circuit_operation.py:173: FutureWarning: In cirq 1.6 the default value of `use_repetition_ids` will change to\n",
      "`use_repetition_ids=False`. To make this warning go away, please pass\n",
      "explicit `use_repetition_ids`, e.g., to preserve current behavior, use\n",
      "\n",
      "  CircuitOperations(..., use_repetition_ids=True)\n",
      "  warnings.warn(msg, FutureWarning)\n",
      "/Users/luismartinezmartinez/pyenvs/qiskit1.1/lib/python3.11/site-packages/cirq/circuits/circuit_operation.py:173: FutureWarning: In cirq 1.6 the default value of `use_repetition_ids` will change to\n",
      "`use_repetition_ids=False`. To make this warning go away, please pass\n",
      "explicit `use_repetition_ids`, e.g., to preserve current behavior, use\n",
      "\n",
      "  CircuitOperations(..., use_repetition_ids=True)\n",
      "  warnings.warn(msg, FutureWarning)\n",
      "/Users/luismartinezmartinez/pyenvs/qiskit1.1/lib/python3.11/site-packages/cirq/circuits/circuit_operation.py:173: FutureWarning: In cirq 1.6 the default value of `use_repetition_ids` will change to\n",
      "`use_repetition_ids=False`. To make this warning go away, please pass\n",
      "explicit `use_repetition_ids`, e.g., to preserve current behavior, use\n",
      "\n",
      "  CircuitOperations(..., use_repetition_ids=True)\n",
      "  warnings.warn(msg, FutureWarning)\n",
      "/Users/luismartinezmartinez/pyenvs/qiskit1.1/lib/python3.11/site-packages/cirq/circuits/circuit_operation.py:173: FutureWarning: In cirq 1.6 the default value of `use_repetition_ids` will change to\n",
      "`use_repetition_ids=False`. To make this warning go away, please pass\n",
      "explicit `use_repetition_ids`, e.g., to preserve current behavior, use\n",
      "\n",
      "  CircuitOperations(..., use_repetition_ids=True)\n",
      "  warnings.warn(msg, FutureWarning)\n",
      "/Users/luismartinezmartinez/pyenvs/qiskit1.1/lib/python3.11/site-packages/cirq/circuits/circuit_operation.py:173: FutureWarning: In cirq 1.6 the default value of `use_repetition_ids` will change to\n",
      "`use_repetition_ids=False`. To make this warning go away, please pass\n",
      "explicit `use_repetition_ids`, e.g., to preserve current behavior, use\n",
      "\n",
      "  CircuitOperations(..., use_repetition_ids=True)\n",
      "  warnings.warn(msg, FutureWarning)\n",
      "/Users/luismartinezmartinez/pyenvs/qiskit1.1/lib/python3.11/site-packages/cirq/circuits/circuit_operation.py:173: FutureWarning: In cirq 1.6 the default value of `use_repetition_ids` will change to\n",
      "`use_repetition_ids=False`. To make this warning go away, please pass\n",
      "explicit `use_repetition_ids`, e.g., to preserve current behavior, use\n",
      "\n",
      "  CircuitOperations(..., use_repetition_ids=True)\n",
      "  warnings.warn(msg, FutureWarning)\n",
      "/Users/luismartinezmartinez/pyenvs/qiskit1.1/lib/python3.11/site-packages/cirq/circuits/circuit_operation.py:173: FutureWarning: In cirq 1.6 the default value of `use_repetition_ids` will change to\n",
      "`use_repetition_ids=False`. To make this warning go away, please pass\n",
      "explicit `use_repetition_ids`, e.g., to preserve current behavior, use\n",
      "\n",
      "  CircuitOperations(..., use_repetition_ids=True)\n",
      "  warnings.warn(msg, FutureWarning)\n",
      "/Users/luismartinezmartinez/pyenvs/qiskit1.1/lib/python3.11/site-packages/cirq/circuits/circuit_operation.py:173: FutureWarning: In cirq 1.6 the default value of `use_repetition_ids` will change to\n",
      "`use_repetition_ids=False`. To make this warning go away, please pass\n",
      "explicit `use_repetition_ids`, e.g., to preserve current behavior, use\n",
      "\n",
      "  CircuitOperations(..., use_repetition_ids=True)\n",
      "  warnings.warn(msg, FutureWarning)\n",
      "/Users/luismartinezmartinez/pyenvs/qiskit1.1/lib/python3.11/site-packages/cirq/circuits/circuit_operation.py:173: FutureWarning: In cirq 1.6 the default value of `use_repetition_ids` will change to\n",
      "`use_repetition_ids=False`. To make this warning go away, please pass\n",
      "explicit `use_repetition_ids`, e.g., to preserve current behavior, use\n",
      "\n",
      "  CircuitOperations(..., use_repetition_ids=True)\n",
      "  warnings.warn(msg, FutureWarning)\n",
      "/Users/luismartinezmartinez/pyenvs/qiskit1.1/lib/python3.11/site-packages/cirq/circuits/circuit_operation.py:173: FutureWarning: In cirq 1.6 the default value of `use_repetition_ids` will change to\n",
      "`use_repetition_ids=False`. To make this warning go away, please pass\n",
      "explicit `use_repetition_ids`, e.g., to preserve current behavior, use\n",
      "\n",
      "  CircuitOperations(..., use_repetition_ids=True)\n",
      "  warnings.warn(msg, FutureWarning)\n",
      "/Users/luismartinezmartinez/pyenvs/qiskit1.1/lib/python3.11/site-packages/cirq/circuits/circuit_operation.py:173: FutureWarning: In cirq 1.6 the default value of `use_repetition_ids` will change to\n",
      "`use_repetition_ids=False`. To make this warning go away, please pass\n",
      "explicit `use_repetition_ids`, e.g., to preserve current behavior, use\n",
      "\n",
      "  CircuitOperations(..., use_repetition_ids=True)\n",
      "  warnings.warn(msg, FutureWarning)\n",
      "/Users/luismartinezmartinez/pyenvs/qiskit1.1/lib/python3.11/site-packages/cirq/circuits/circuit_operation.py:173: FutureWarning: In cirq 1.6 the default value of `use_repetition_ids` will change to\n",
      "`use_repetition_ids=False`. To make this warning go away, please pass\n",
      "explicit `use_repetition_ids`, e.g., to preserve current behavior, use\n",
      "\n",
      "  CircuitOperations(..., use_repetition_ids=True)\n",
      "  warnings.warn(msg, FutureWarning)\n",
      "/Users/luismartinezmartinez/pyenvs/qiskit1.1/lib/python3.11/site-packages/cirq/circuits/circuit_operation.py:173: FutureWarning: In cirq 1.6 the default value of `use_repetition_ids` will change to\n",
      "`use_repetition_ids=False`. To make this warning go away, please pass\n",
      "explicit `use_repetition_ids`, e.g., to preserve current behavior, use\n",
      "\n",
      "  CircuitOperations(..., use_repetition_ids=True)\n",
      "  warnings.warn(msg, FutureWarning)\n",
      "/Users/luismartinezmartinez/pyenvs/qiskit1.1/lib/python3.11/site-packages/cirq/circuits/circuit_operation.py:173: FutureWarning: In cirq 1.6 the default value of `use_repetition_ids` will change to\n",
      "`use_repetition_ids=False`. To make this warning go away, please pass\n",
      "explicit `use_repetition_ids`, e.g., to preserve current behavior, use\n",
      "\n",
      "  CircuitOperations(..., use_repetition_ids=True)\n",
      "  warnings.warn(msg, FutureWarning)\n",
      "/Users/luismartinezmartinez/pyenvs/qiskit1.1/lib/python3.11/site-packages/cirq/circuits/circuit_operation.py:173: FutureWarning: In cirq 1.6 the default value of `use_repetition_ids` will change to\n",
      "`use_repetition_ids=False`. To make this warning go away, please pass\n",
      "explicit `use_repetition_ids`, e.g., to preserve current behavior, use\n",
      "\n",
      "  CircuitOperations(..., use_repetition_ids=True)\n",
      "  warnings.warn(msg, FutureWarning)\n",
      "/Users/luismartinezmartinez/pyenvs/qiskit1.1/lib/python3.11/site-packages/cirq/circuits/circuit_operation.py:173: FutureWarning: In cirq 1.6 the default value of `use_repetition_ids` will change to\n",
      "`use_repetition_ids=False`. To make this warning go away, please pass\n",
      "explicit `use_repetition_ids`, e.g., to preserve current behavior, use\n",
      "\n",
      "  CircuitOperations(..., use_repetition_ids=True)\n",
      "  warnings.warn(msg, FutureWarning)\n",
      "/Users/luismartinezmartinez/pyenvs/qiskit1.1/lib/python3.11/site-packages/cirq/circuits/circuit_operation.py:173: FutureWarning: In cirq 1.6 the default value of `use_repetition_ids` will change to\n",
      "`use_repetition_ids=False`. To make this warning go away, please pass\n",
      "explicit `use_repetition_ids`, e.g., to preserve current behavior, use\n",
      "\n",
      "  CircuitOperations(..., use_repetition_ids=True)\n",
      "  warnings.warn(msg, FutureWarning)\n",
      "/Users/luismartinezmartinez/pyenvs/qiskit1.1/lib/python3.11/site-packages/cirq/circuits/circuit_operation.py:173: FutureWarning: In cirq 1.6 the default value of `use_repetition_ids` will change to\n",
      "`use_repetition_ids=False`. To make this warning go away, please pass\n",
      "explicit `use_repetition_ids`, e.g., to preserve current behavior, use\n",
      "\n",
      "  CircuitOperations(..., use_repetition_ids=True)\n",
      "  warnings.warn(msg, FutureWarning)\n",
      "/Users/luismartinezmartinez/pyenvs/qiskit1.1/lib/python3.11/site-packages/cirq/circuits/circuit_operation.py:173: FutureWarning: In cirq 1.6 the default value of `use_repetition_ids` will change to\n",
      "`use_repetition_ids=False`. To make this warning go away, please pass\n",
      "explicit `use_repetition_ids`, e.g., to preserve current behavior, use\n",
      "\n",
      "  CircuitOperations(..., use_repetition_ids=True)\n",
      "  warnings.warn(msg, FutureWarning)\n",
      "/Users/luismartinezmartinez/pyenvs/qiskit1.1/lib/python3.11/site-packages/cirq/circuits/circuit_operation.py:173: FutureWarning: In cirq 1.6 the default value of `use_repetition_ids` will change to\n",
      "`use_repetition_ids=False`. To make this warning go away, please pass\n",
      "explicit `use_repetition_ids`, e.g., to preserve current behavior, use\n",
      "\n",
      "  CircuitOperations(..., use_repetition_ids=True)\n",
      "  warnings.warn(msg, FutureWarning)\n",
      "/Users/luismartinezmartinez/pyenvs/qiskit1.1/lib/python3.11/site-packages/cirq/circuits/circuit_operation.py:173: FutureWarning: In cirq 1.6 the default value of `use_repetition_ids` will change to\n",
      "`use_repetition_ids=False`. To make this warning go away, please pass\n",
      "explicit `use_repetition_ids`, e.g., to preserve current behavior, use\n",
      "\n",
      "  CircuitOperations(..., use_repetition_ids=True)\n",
      "  warnings.warn(msg, FutureWarning)\n",
      "/Users/luismartinezmartinez/pyenvs/qiskit1.1/lib/python3.11/site-packages/cirq/circuits/circuit_operation.py:173: FutureWarning: In cirq 1.6 the default value of `use_repetition_ids` will change to\n",
      "`use_repetition_ids=False`. To make this warning go away, please pass\n",
      "explicit `use_repetition_ids`, e.g., to preserve current behavior, use\n",
      "\n",
      "  CircuitOperations(..., use_repetition_ids=True)\n",
      "  warnings.warn(msg, FutureWarning)\n",
      "/Users/luismartinezmartinez/pyenvs/qiskit1.1/lib/python3.11/site-packages/cirq/circuits/circuit_operation.py:173: FutureWarning: In cirq 1.6 the default value of `use_repetition_ids` will change to\n",
      "`use_repetition_ids=False`. To make this warning go away, please pass\n",
      "explicit `use_repetition_ids`, e.g., to preserve current behavior, use\n",
      "\n",
      "  CircuitOperations(..., use_repetition_ids=True)\n",
      "  warnings.warn(msg, FutureWarning)\n",
      "/Users/luismartinezmartinez/pyenvs/qiskit1.1/lib/python3.11/site-packages/cirq/circuits/circuit_operation.py:173: FutureWarning: In cirq 1.6 the default value of `use_repetition_ids` will change to\n",
      "`use_repetition_ids=False`. To make this warning go away, please pass\n",
      "explicit `use_repetition_ids`, e.g., to preserve current behavior, use\n",
      "\n",
      "  CircuitOperations(..., use_repetition_ids=True)\n",
      "  warnings.warn(msg, FutureWarning)\n",
      "/Users/luismartinezmartinez/pyenvs/qiskit1.1/lib/python3.11/site-packages/cirq/circuits/circuit_operation.py:173: FutureWarning: In cirq 1.6 the default value of `use_repetition_ids` will change to\n",
      "`use_repetition_ids=False`. To make this warning go away, please pass\n",
      "explicit `use_repetition_ids`, e.g., to preserve current behavior, use\n",
      "\n",
      "  CircuitOperations(..., use_repetition_ids=True)\n",
      "  warnings.warn(msg, FutureWarning)\n",
      "/Users/luismartinezmartinez/pyenvs/qiskit1.1/lib/python3.11/site-packages/cirq/circuits/circuit_operation.py:173: FutureWarning: In cirq 1.6 the default value of `use_repetition_ids` will change to\n",
      "`use_repetition_ids=False`. To make this warning go away, please pass\n",
      "explicit `use_repetition_ids`, e.g., to preserve current behavior, use\n",
      "\n",
      "  CircuitOperations(..., use_repetition_ids=True)\n",
      "  warnings.warn(msg, FutureWarning)\n",
      "/Users/luismartinezmartinez/pyenvs/qiskit1.1/lib/python3.11/site-packages/cirq/circuits/circuit_operation.py:173: FutureWarning: In cirq 1.6 the default value of `use_repetition_ids` will change to\n",
      "`use_repetition_ids=False`. To make this warning go away, please pass\n",
      "explicit `use_repetition_ids`, e.g., to preserve current behavior, use\n",
      "\n",
      "  CircuitOperations(..., use_repetition_ids=True)\n",
      "  warnings.warn(msg, FutureWarning)\n",
      "/Users/luismartinezmartinez/pyenvs/qiskit1.1/lib/python3.11/site-packages/cirq/circuits/circuit_operation.py:173: FutureWarning: In cirq 1.6 the default value of `use_repetition_ids` will change to\n",
      "`use_repetition_ids=False`. To make this warning go away, please pass\n",
      "explicit `use_repetition_ids`, e.g., to preserve current behavior, use\n",
      "\n",
      "  CircuitOperations(..., use_repetition_ids=True)\n",
      "  warnings.warn(msg, FutureWarning)\n",
      "/Users/luismartinezmartinez/pyenvs/qiskit1.1/lib/python3.11/site-packages/cirq/circuits/circuit_operation.py:173: FutureWarning: In cirq 1.6 the default value of `use_repetition_ids` will change to\n",
      "`use_repetition_ids=False`. To make this warning go away, please pass\n",
      "explicit `use_repetition_ids`, e.g., to preserve current behavior, use\n",
      "\n",
      "  CircuitOperations(..., use_repetition_ids=True)\n",
      "  warnings.warn(msg, FutureWarning)\n",
      "/Users/luismartinezmartinez/pyenvs/qiskit1.1/lib/python3.11/site-packages/cirq/circuits/circuit_operation.py:173: FutureWarning: In cirq 1.6 the default value of `use_repetition_ids` will change to\n",
      "`use_repetition_ids=False`. To make this warning go away, please pass\n",
      "explicit `use_repetition_ids`, e.g., to preserve current behavior, use\n",
      "\n",
      "  CircuitOperations(..., use_repetition_ids=True)\n",
      "  warnings.warn(msg, FutureWarning)\n",
      "/Users/luismartinezmartinez/pyenvs/qiskit1.1/lib/python3.11/site-packages/cirq/circuits/circuit_operation.py:173: FutureWarning: In cirq 1.6 the default value of `use_repetition_ids` will change to\n",
      "`use_repetition_ids=False`. To make this warning go away, please pass\n",
      "explicit `use_repetition_ids`, e.g., to preserve current behavior, use\n",
      "\n",
      "  CircuitOperations(..., use_repetition_ids=True)\n",
      "  warnings.warn(msg, FutureWarning)\n",
      "/Users/luismartinezmartinez/pyenvs/qiskit1.1/lib/python3.11/site-packages/cirq/circuits/circuit_operation.py:173: FutureWarning: In cirq 1.6 the default value of `use_repetition_ids` will change to\n",
      "`use_repetition_ids=False`. To make this warning go away, please pass\n",
      "explicit `use_repetition_ids`, e.g., to preserve current behavior, use\n",
      "\n",
      "  CircuitOperations(..., use_repetition_ids=True)\n",
      "  warnings.warn(msg, FutureWarning)\n",
      "/Users/luismartinezmartinez/pyenvs/qiskit1.1/lib/python3.11/site-packages/cirq/circuits/circuit_operation.py:173: FutureWarning: In cirq 1.6 the default value of `use_repetition_ids` will change to\n",
      "`use_repetition_ids=False`. To make this warning go away, please pass\n",
      "explicit `use_repetition_ids`, e.g., to preserve current behavior, use\n",
      "\n",
      "  CircuitOperations(..., use_repetition_ids=True)\n",
      "  warnings.warn(msg, FutureWarning)\n",
      "/Users/luismartinezmartinez/pyenvs/qiskit1.1/lib/python3.11/site-packages/cirq/circuits/circuit_operation.py:173: FutureWarning: In cirq 1.6 the default value of `use_repetition_ids` will change to\n",
      "`use_repetition_ids=False`. To make this warning go away, please pass\n",
      "explicit `use_repetition_ids`, e.g., to preserve current behavior, use\n",
      "\n",
      "  CircuitOperations(..., use_repetition_ids=True)\n",
      "  warnings.warn(msg, FutureWarning)\n",
      "/Users/luismartinezmartinez/pyenvs/qiskit1.1/lib/python3.11/site-packages/cirq/circuits/circuit_operation.py:173: FutureWarning: In cirq 1.6 the default value of `use_repetition_ids` will change to\n",
      "`use_repetition_ids=False`. To make this warning go away, please pass\n",
      "explicit `use_repetition_ids`, e.g., to preserve current behavior, use\n",
      "\n",
      "  CircuitOperations(..., use_repetition_ids=True)\n",
      "  warnings.warn(msg, FutureWarning)\n",
      "/Users/luismartinezmartinez/pyenvs/qiskit1.1/lib/python3.11/site-packages/cirq/circuits/circuit_operation.py:173: FutureWarning: In cirq 1.6 the default value of `use_repetition_ids` will change to\n",
      "`use_repetition_ids=False`. To make this warning go away, please pass\n",
      "explicit `use_repetition_ids`, e.g., to preserve current behavior, use\n",
      "\n",
      "  CircuitOperations(..., use_repetition_ids=True)\n",
      "  warnings.warn(msg, FutureWarning)\n",
      "/Users/luismartinezmartinez/pyenvs/qiskit1.1/lib/python3.11/site-packages/cirq/circuits/circuit_operation.py:173: FutureWarning: In cirq 1.6 the default value of `use_repetition_ids` will change to\n",
      "`use_repetition_ids=False`. To make this warning go away, please pass\n",
      "explicit `use_repetition_ids`, e.g., to preserve current behavior, use\n",
      "\n",
      "  CircuitOperations(..., use_repetition_ids=True)\n",
      "  warnings.warn(msg, FutureWarning)\n",
      "/Users/luismartinezmartinez/pyenvs/qiskit1.1/lib/python3.11/site-packages/cirq/circuits/circuit_operation.py:173: FutureWarning: In cirq 1.6 the default value of `use_repetition_ids` will change to\n",
      "`use_repetition_ids=False`. To make this warning go away, please pass\n",
      "explicit `use_repetition_ids`, e.g., to preserve current behavior, use\n",
      "\n",
      "  CircuitOperations(..., use_repetition_ids=True)\n",
      "  warnings.warn(msg, FutureWarning)\n",
      "/Users/luismartinezmartinez/pyenvs/qiskit1.1/lib/python3.11/site-packages/cirq/circuits/circuit_operation.py:173: FutureWarning: In cirq 1.6 the default value of `use_repetition_ids` will change to\n",
      "`use_repetition_ids=False`. To make this warning go away, please pass\n",
      "explicit `use_repetition_ids`, e.g., to preserve current behavior, use\n",
      "\n",
      "  CircuitOperations(..., use_repetition_ids=True)\n",
      "  warnings.warn(msg, FutureWarning)\n",
      "/Users/luismartinezmartinez/pyenvs/qiskit1.1/lib/python3.11/site-packages/cirq/circuits/circuit_operation.py:173: FutureWarning: In cirq 1.6 the default value of `use_repetition_ids` will change to\n",
      "`use_repetition_ids=False`. To make this warning go away, please pass\n",
      "explicit `use_repetition_ids`, e.g., to preserve current behavior, use\n",
      "\n",
      "  CircuitOperations(..., use_repetition_ids=True)\n",
      "  warnings.warn(msg, FutureWarning)\n"
     ]
    },
    {
     "ename": "ValueError",
     "evalue": "Could not resolve type 'MSGate' during deserialization",
     "output_type": "error",
     "traceback": [
      "\u001b[0;31m---------------------------------------------------------------------------\u001b[0m",
      "\u001b[0;31mValueError\u001b[0m                                Traceback (most recent call last)",
      "Cell \u001b[0;32mIn[3], line 17\u001b[0m\n\u001b[1;32m     13\u001b[0m repetitions \u001b[38;5;241m=\u001b[39m \u001b[38;5;241m1000\u001b[39m; p1q \u001b[38;5;241m=\u001b[39m \u001b[38;5;241m0.001\u001b[39m; p2q \u001b[38;5;241m=\u001b[39m \u001b[38;5;241m0.02\u001b[39m\n\u001b[1;32m     15\u001b[0m start \u001b[38;5;241m=\u001b[39m timer()\n\u001b[0;32m---> 17\u001b[0m fid_raw \u001b[38;5;241m=\u001b[39m \u001b[43mZULF_noisySim_QuEra\u001b[49m\u001b[43m(\u001b[49m\u001b[43mt_ind_List\u001b[49m\u001b[43m,\u001b[49m\u001b[43m \u001b[49m\u001b[43mpath\u001b[49m\u001b[43m,\u001b[49m\u001b[43m \u001b[49m\u001b[43mnmr_reg\u001b[49m\u001b[43m,\u001b[49m\u001b[43m \u001b[49m\u001b[43mweights\u001b[49m\u001b[43m,\u001b[49m\u001b[43mrepetitions\u001b[49m\u001b[38;5;241;43m=\u001b[39;49m\u001b[38;5;241;43m100\u001b[39;49m\u001b[43m)\u001b[49m\n\u001b[1;32m     18\u001b[0m \u001b[38;5;66;03m# savemat(spinach_datapath + 'fidraw_acetonitrile_zf_qalg_npoints_{:d}_syn_ion.mat'.format(npoints), {'fid_raw_zf_qalg': fid_raw}, oned_as='column')\u001b[39;00m\n\u001b[1;32m     19\u001b[0m \u001b[38;5;28mprint\u001b[39m(fid_raw)\n",
      "Cell \u001b[0;32mIn[2], line 9\u001b[0m, in \u001b[0;36mZULF_noisySim_QuEra\u001b[0;34m(t_ind_List, path, nmr_reg, weights, repetitions)\u001b[0m\n\u001b[1;32m      7\u001b[0m SzTot \u001b[38;5;241m=\u001b[39m np\u001b[38;5;241m.\u001b[39marray(SzTot_weighted_obs(\u001b[38;5;28mlen\u001b[39m(nmr_reg), weights))\n\u001b[1;32m      8\u001b[0m \u001b[38;5;28;01mfor\u001b[39;00m indt, t_ind \u001b[38;5;129;01min\u001b[39;00m \u001b[38;5;28menumerate\u001b[39m(t_ind_List):\n\u001b[0;32m----> 9\u001b[0m     circuitList, SzTot_comp \u001b[38;5;241m=\u001b[39m \u001b[43mZULF_circuitList\u001b[49m\u001b[43m(\u001b[49m\u001b[43mt_ind\u001b[49m\u001b[43m,\u001b[49m\u001b[43m \u001b[49m\u001b[43mpath\u001b[49m\u001b[43m,\u001b[49m\u001b[43m \u001b[49m\u001b[43mnmr_reg\u001b[49m\u001b[43m,\u001b[49m\u001b[43m \u001b[49m\u001b[43mSzTot\u001b[49m\u001b[43m)\u001b[49m\n\u001b[1;32m     10\u001b[0m     state_prob_list \u001b[38;5;241m=\u001b[39m []\n\u001b[1;32m     11\u001b[0m     \u001b[38;5;28;01mfor\u001b[39;00m circuit \u001b[38;5;129;01min\u001b[39;00m circuitList:\n",
      "File \u001b[0;32m~/Documents/QuEra/GitProjs/nmr-qsim/methyl_circuits/nmrfuncs.py:143\u001b[0m, in \u001b[0;36mZULF_circuitList\u001b[0;34m(t_ind, path, qubit_reg, SzTot, json_format)\u001b[0m\n\u001b[1;32m    141\u001b[0m             \u001b[38;5;28;01melse\u001b[39;00m:\n\u001b[1;32m    142\u001b[0m                 filename \u001b[38;5;241m=\u001b[39m path \u001b[38;5;241m+\u001b[39m \u001b[38;5;124m'\u001b[39m\u001b[38;5;124mU_t_\u001b[39m\u001b[38;5;132;01m{:.1f}\u001b[39;00m\u001b[38;5;124m.pickle\u001b[39m\u001b[38;5;124m'\u001b[39m\u001b[38;5;241m.\u001b[39mformat(t_ind)\n\u001b[0;32m--> 143\u001b[0m         evolution_circuit \u001b[38;5;241m=\u001b[39m \u001b[43mload_circuit\u001b[49m\u001b[43m(\u001b[49m\u001b[43mfilename\u001b[49m\u001b[43m,\u001b[49m\u001b[43mjson_format\u001b[49m\u001b[38;5;241;43m=\u001b[39;49m\u001b[43mjson_format\u001b[49m\u001b[43m)\u001b[49m\n\u001b[1;32m    144\u001b[0m \u001b[38;5;66;03m#         evo_qubits = evolution_circuit.all_qubits()\u001b[39;00m\n\u001b[1;32m    145\u001b[0m         evo_qubits \u001b[38;5;241m=\u001b[39m [cirq\u001b[38;5;241m.\u001b[39mNamedQubit(\u001b[38;5;124m'\u001b[39m\u001b[38;5;124mq_\u001b[39m\u001b[38;5;132;01m{:d}\u001b[39;00m\u001b[38;5;124m'\u001b[39m\u001b[38;5;241m.\u001b[39mformat(i)) \u001b[38;5;28;01mfor\u001b[39;00m i \u001b[38;5;129;01min\u001b[39;00m \u001b[38;5;28mrange\u001b[39m(\u001b[38;5;28mlen\u001b[39m(qubit_reg))]\n",
      "File \u001b[0;32m~/Documents/QuEra/GitProjs/nmr-qsim/methyl_circuits/nmrfuncs.py:290\u001b[0m, in \u001b[0;36mload_circuit\u001b[0;34m(filename, json_format)\u001b[0m\n\u001b[1;32m    288\u001b[0m \u001b[38;5;250m\u001b[39m\u001b[38;5;124;03m\"\"\"Load a Cirq circuit from a pickle file.\"\"\"\u001b[39;00m\n\u001b[1;32m    289\u001b[0m \u001b[38;5;28;01mif\u001b[39;00m json_format:\n\u001b[0;32m--> 290\u001b[0m     circuit \u001b[38;5;241m=\u001b[39m \u001b[43mcirq\u001b[49m\u001b[38;5;241;43m.\u001b[39;49m\u001b[43mread_json\u001b[49m\u001b[43m(\u001b[49m\u001b[43mfilename\u001b[49m\u001b[43m)\u001b[49m\n\u001b[1;32m    291\u001b[0m \u001b[38;5;28;01melse\u001b[39;00m:\n\u001b[1;32m    293\u001b[0m     \u001b[38;5;28;01mwith\u001b[39;00m \u001b[38;5;28mopen\u001b[39m(\u001b[38;5;28mstr\u001b[39m(filename), \u001b[38;5;124m\"\u001b[39m\u001b[38;5;124mrb\u001b[39m\u001b[38;5;124m\"\u001b[39m) \u001b[38;5;28;01mas\u001b[39;00m file:\n",
      "File \u001b[0;32m~/pyenvs/qiskit1.1/lib/python3.11/site-packages/cirq/protocols/json_serialization.py:578\u001b[0m, in \u001b[0;36mread_json\u001b[0;34m(file_or_fn, json_text, resolvers)\u001b[0m\n\u001b[1;32m    576\u001b[0m \u001b[38;5;28;01mif\u001b[39;00m \u001b[38;5;28misinstance\u001b[39m(file_or_fn, (\u001b[38;5;28mstr\u001b[39m, pathlib\u001b[38;5;241m.\u001b[39mPath)):\n\u001b[1;32m    577\u001b[0m     \u001b[38;5;28;01mwith\u001b[39;00m \u001b[38;5;28mopen\u001b[39m(file_or_fn, \u001b[38;5;124m'\u001b[39m\u001b[38;5;124mr\u001b[39m\u001b[38;5;124m'\u001b[39m) \u001b[38;5;28;01mas\u001b[39;00m file:\n\u001b[0;32m--> 578\u001b[0m         \u001b[38;5;28;01mreturn\u001b[39;00m \u001b[43mjson\u001b[49m\u001b[38;5;241;43m.\u001b[39;49m\u001b[43mload\u001b[49m\u001b[43m(\u001b[49m\u001b[43mfile\u001b[49m\u001b[43m,\u001b[49m\u001b[43m \u001b[49m\u001b[43mobject_hook\u001b[49m\u001b[38;5;241;43m=\u001b[39;49m\u001b[43mobj_hook\u001b[49m\u001b[43m)\u001b[49m\n\u001b[1;32m    580\u001b[0m \u001b[38;5;28;01mreturn\u001b[39;00m json\u001b[38;5;241m.\u001b[39mload(cast(IO, file_or_fn), object_hook\u001b[38;5;241m=\u001b[39mobj_hook)\n",
      "File \u001b[0;32m~/anaconda3/lib/python3.11/json/__init__.py:293\u001b[0m, in \u001b[0;36mload\u001b[0;34m(fp, cls, object_hook, parse_float, parse_int, parse_constant, object_pairs_hook, **kw)\u001b[0m\n\u001b[1;32m    274\u001b[0m \u001b[38;5;28;01mdef\u001b[39;00m\u001b[38;5;250m \u001b[39m\u001b[38;5;21mload\u001b[39m(fp, \u001b[38;5;241m*\u001b[39m, \u001b[38;5;28mcls\u001b[39m\u001b[38;5;241m=\u001b[39m\u001b[38;5;28;01mNone\u001b[39;00m, object_hook\u001b[38;5;241m=\u001b[39m\u001b[38;5;28;01mNone\u001b[39;00m, parse_float\u001b[38;5;241m=\u001b[39m\u001b[38;5;28;01mNone\u001b[39;00m,\n\u001b[1;32m    275\u001b[0m         parse_int\u001b[38;5;241m=\u001b[39m\u001b[38;5;28;01mNone\u001b[39;00m, parse_constant\u001b[38;5;241m=\u001b[39m\u001b[38;5;28;01mNone\u001b[39;00m, object_pairs_hook\u001b[38;5;241m=\u001b[39m\u001b[38;5;28;01mNone\u001b[39;00m, \u001b[38;5;241m*\u001b[39m\u001b[38;5;241m*\u001b[39mkw):\n\u001b[1;32m    276\u001b[0m \u001b[38;5;250m    \u001b[39m\u001b[38;5;124;03m\"\"\"Deserialize ``fp`` (a ``.read()``-supporting file-like object containing\u001b[39;00m\n\u001b[1;32m    277\u001b[0m \u001b[38;5;124;03m    a JSON document) to a Python object.\u001b[39;00m\n\u001b[1;32m    278\u001b[0m \n\u001b[0;32m   (...)\u001b[0m\n\u001b[1;32m    291\u001b[0m \u001b[38;5;124;03m    kwarg; otherwise ``JSONDecoder`` is used.\u001b[39;00m\n\u001b[1;32m    292\u001b[0m \u001b[38;5;124;03m    \"\"\"\u001b[39;00m\n\u001b[0;32m--> 293\u001b[0m     \u001b[38;5;28;01mreturn\u001b[39;00m \u001b[43mloads\u001b[49m\u001b[43m(\u001b[49m\u001b[43mfp\u001b[49m\u001b[38;5;241;43m.\u001b[39;49m\u001b[43mread\u001b[49m\u001b[43m(\u001b[49m\u001b[43m)\u001b[49m\u001b[43m,\u001b[49m\n\u001b[1;32m    294\u001b[0m \u001b[43m        \u001b[49m\u001b[38;5;28;43mcls\u001b[39;49m\u001b[38;5;241;43m=\u001b[39;49m\u001b[38;5;28;43mcls\u001b[39;49m\u001b[43m,\u001b[49m\u001b[43m \u001b[49m\u001b[43mobject_hook\u001b[49m\u001b[38;5;241;43m=\u001b[39;49m\u001b[43mobject_hook\u001b[49m\u001b[43m,\u001b[49m\n\u001b[1;32m    295\u001b[0m \u001b[43m        \u001b[49m\u001b[43mparse_float\u001b[49m\u001b[38;5;241;43m=\u001b[39;49m\u001b[43mparse_float\u001b[49m\u001b[43m,\u001b[49m\u001b[43m \u001b[49m\u001b[43mparse_int\u001b[49m\u001b[38;5;241;43m=\u001b[39;49m\u001b[43mparse_int\u001b[49m\u001b[43m,\u001b[49m\n\u001b[1;32m    296\u001b[0m \u001b[43m        \u001b[49m\u001b[43mparse_constant\u001b[49m\u001b[38;5;241;43m=\u001b[39;49m\u001b[43mparse_constant\u001b[49m\u001b[43m,\u001b[49m\u001b[43m \u001b[49m\u001b[43mobject_pairs_hook\u001b[49m\u001b[38;5;241;43m=\u001b[39;49m\u001b[43mobject_pairs_hook\u001b[49m\u001b[43m,\u001b[49m\u001b[43m \u001b[49m\u001b[38;5;241;43m*\u001b[39;49m\u001b[38;5;241;43m*\u001b[39;49m\u001b[43mkw\u001b[49m\u001b[43m)\u001b[49m\n",
      "File \u001b[0;32m~/anaconda3/lib/python3.11/json/__init__.py:359\u001b[0m, in \u001b[0;36mloads\u001b[0;34m(s, cls, object_hook, parse_float, parse_int, parse_constant, object_pairs_hook, **kw)\u001b[0m\n\u001b[1;32m    357\u001b[0m \u001b[38;5;28;01mif\u001b[39;00m parse_constant \u001b[38;5;129;01mis\u001b[39;00m \u001b[38;5;129;01mnot\u001b[39;00m \u001b[38;5;28;01mNone\u001b[39;00m:\n\u001b[1;32m    358\u001b[0m     kw[\u001b[38;5;124m'\u001b[39m\u001b[38;5;124mparse_constant\u001b[39m\u001b[38;5;124m'\u001b[39m] \u001b[38;5;241m=\u001b[39m parse_constant\n\u001b[0;32m--> 359\u001b[0m \u001b[38;5;28;01mreturn\u001b[39;00m \u001b[38;5;28;43mcls\u001b[39;49m\u001b[43m(\u001b[49m\u001b[38;5;241;43m*\u001b[39;49m\u001b[38;5;241;43m*\u001b[39;49m\u001b[43mkw\u001b[49m\u001b[43m)\u001b[49m\u001b[38;5;241;43m.\u001b[39;49m\u001b[43mdecode\u001b[49m\u001b[43m(\u001b[49m\u001b[43ms\u001b[49m\u001b[43m)\u001b[49m\n",
      "File \u001b[0;32m~/anaconda3/lib/python3.11/json/decoder.py:337\u001b[0m, in \u001b[0;36mJSONDecoder.decode\u001b[0;34m(self, s, _w)\u001b[0m\n\u001b[1;32m    332\u001b[0m \u001b[38;5;28;01mdef\u001b[39;00m\u001b[38;5;250m \u001b[39m\u001b[38;5;21mdecode\u001b[39m(\u001b[38;5;28mself\u001b[39m, s, _w\u001b[38;5;241m=\u001b[39mWHITESPACE\u001b[38;5;241m.\u001b[39mmatch):\n\u001b[1;32m    333\u001b[0m \u001b[38;5;250m    \u001b[39m\u001b[38;5;124;03m\"\"\"Return the Python representation of ``s`` (a ``str`` instance\u001b[39;00m\n\u001b[1;32m    334\u001b[0m \u001b[38;5;124;03m    containing a JSON document).\u001b[39;00m\n\u001b[1;32m    335\u001b[0m \n\u001b[1;32m    336\u001b[0m \u001b[38;5;124;03m    \"\"\"\u001b[39;00m\n\u001b[0;32m--> 337\u001b[0m     obj, end \u001b[38;5;241m=\u001b[39m \u001b[38;5;28;43mself\u001b[39;49m\u001b[38;5;241;43m.\u001b[39;49m\u001b[43mraw_decode\u001b[49m\u001b[43m(\u001b[49m\u001b[43ms\u001b[49m\u001b[43m,\u001b[49m\u001b[43m \u001b[49m\u001b[43midx\u001b[49m\u001b[38;5;241;43m=\u001b[39;49m\u001b[43m_w\u001b[49m\u001b[43m(\u001b[49m\u001b[43ms\u001b[49m\u001b[43m,\u001b[49m\u001b[43m \u001b[49m\u001b[38;5;241;43m0\u001b[39;49m\u001b[43m)\u001b[49m\u001b[38;5;241;43m.\u001b[39;49m\u001b[43mend\u001b[49m\u001b[43m(\u001b[49m\u001b[43m)\u001b[49m\u001b[43m)\u001b[49m\n\u001b[1;32m    338\u001b[0m     end \u001b[38;5;241m=\u001b[39m _w(s, end)\u001b[38;5;241m.\u001b[39mend()\n\u001b[1;32m    339\u001b[0m     \u001b[38;5;28;01mif\u001b[39;00m end \u001b[38;5;241m!=\u001b[39m \u001b[38;5;28mlen\u001b[39m(s):\n",
      "File \u001b[0;32m~/anaconda3/lib/python3.11/json/decoder.py:353\u001b[0m, in \u001b[0;36mJSONDecoder.raw_decode\u001b[0;34m(self, s, idx)\u001b[0m\n\u001b[1;32m    344\u001b[0m \u001b[38;5;250m\u001b[39m\u001b[38;5;124;03m\"\"\"Decode a JSON document from ``s`` (a ``str`` beginning with\u001b[39;00m\n\u001b[1;32m    345\u001b[0m \u001b[38;5;124;03ma JSON document) and return a 2-tuple of the Python\u001b[39;00m\n\u001b[1;32m    346\u001b[0m \u001b[38;5;124;03mrepresentation and the index in ``s`` where the document ended.\u001b[39;00m\n\u001b[0;32m   (...)\u001b[0m\n\u001b[1;32m    350\u001b[0m \n\u001b[1;32m    351\u001b[0m \u001b[38;5;124;03m\"\"\"\u001b[39;00m\n\u001b[1;32m    352\u001b[0m \u001b[38;5;28;01mtry\u001b[39;00m:\n\u001b[0;32m--> 353\u001b[0m     obj, end \u001b[38;5;241m=\u001b[39m \u001b[38;5;28;43mself\u001b[39;49m\u001b[38;5;241;43m.\u001b[39;49m\u001b[43mscan_once\u001b[49m\u001b[43m(\u001b[49m\u001b[43ms\u001b[49m\u001b[43m,\u001b[49m\u001b[43m \u001b[49m\u001b[43midx\u001b[49m\u001b[43m)\u001b[49m\n\u001b[1;32m    354\u001b[0m \u001b[38;5;28;01mexcept\u001b[39;00m \u001b[38;5;167;01mStopIteration\u001b[39;00m \u001b[38;5;28;01mas\u001b[39;00m err:\n\u001b[1;32m    355\u001b[0m     \u001b[38;5;28;01mraise\u001b[39;00m JSONDecodeError(\u001b[38;5;124m\"\u001b[39m\u001b[38;5;124mExpecting value\u001b[39m\u001b[38;5;124m\"\u001b[39m, s, err\u001b[38;5;241m.\u001b[39mvalue) \u001b[38;5;28;01mfrom\u001b[39;00m\u001b[38;5;250m \u001b[39m\u001b[38;5;28;01mNone\u001b[39;00m\n",
      "File \u001b[0;32m~/pyenvs/qiskit1.1/lib/python3.11/site-packages/cirq/protocols/json_serialization.py:365\u001b[0m, in \u001b[0;36mObjectHook.__call__\u001b[0;34m(self, d)\u001b[0m\n\u001b[1;32m    362\u001b[0m     \u001b[38;5;28;01mif\u001b[39;00m cirq_type \u001b[38;5;241m==\u001b[39m \u001b[38;5;124m'\u001b[39m\u001b[38;5;124m_ContextualSerialization\u001b[39m\u001b[38;5;124m'\u001b[39m:\n\u001b[1;32m    363\u001b[0m         \u001b[38;5;28;01mreturn\u001b[39;00m d[\u001b[38;5;124m'\u001b[39m\u001b[38;5;124mobject_dag\u001b[39m\u001b[38;5;124m'\u001b[39m][\u001b[38;5;241m-\u001b[39m\u001b[38;5;241m1\u001b[39m]\n\u001b[0;32m--> 365\u001b[0m \u001b[38;5;28mcls\u001b[39m \u001b[38;5;241m=\u001b[39m \u001b[43mfactory_from_json\u001b[49m\u001b[43m(\u001b[49m\u001b[43mcirq_type\u001b[49m\u001b[43m,\u001b[49m\u001b[43m \u001b[49m\u001b[43mresolvers\u001b[49m\u001b[38;5;241;43m=\u001b[39;49m\u001b[38;5;28;43mself\u001b[39;49m\u001b[38;5;241;43m.\u001b[39;49m\u001b[43mresolvers\u001b[49m\u001b[43m)\u001b[49m\n\u001b[1;32m    366\u001b[0m from_json_dict \u001b[38;5;241m=\u001b[39m \u001b[38;5;28mgetattr\u001b[39m(\u001b[38;5;28mcls\u001b[39m, \u001b[38;5;124m'\u001b[39m\u001b[38;5;124m_from_json_dict_\u001b[39m\u001b[38;5;124m'\u001b[39m, \u001b[38;5;28;01mNone\u001b[39;00m)\n\u001b[1;32m    367\u001b[0m \u001b[38;5;28;01mif\u001b[39;00m from_json_dict \u001b[38;5;129;01mis\u001b[39;00m \u001b[38;5;129;01mnot\u001b[39;00m \u001b[38;5;28;01mNone\u001b[39;00m:\n",
      "File \u001b[0;32m~/pyenvs/qiskit1.1/lib/python3.11/site-packages/cirq/protocols/json_serialization.py:444\u001b[0m, in \u001b[0;36mfactory_from_json\u001b[0;34m(type_str, resolvers)\u001b[0m\n\u001b[1;32m    442\u001b[0m     \u001b[38;5;28;01mif\u001b[39;00m cirq_type \u001b[38;5;129;01mis\u001b[39;00m \u001b[38;5;129;01mnot\u001b[39;00m \u001b[38;5;28;01mNone\u001b[39;00m:\n\u001b[1;32m    443\u001b[0m         \u001b[38;5;28;01mreturn\u001b[39;00m cirq_type\n\u001b[0;32m--> 444\u001b[0m \u001b[38;5;28;01mraise\u001b[39;00m \u001b[38;5;167;01mValueError\u001b[39;00m(\u001b[38;5;124mf\u001b[39m\u001b[38;5;124m\"\u001b[39m\u001b[38;5;124mCould not resolve type \u001b[39m\u001b[38;5;124m'\u001b[39m\u001b[38;5;132;01m{\u001b[39;00mtype_str\u001b[38;5;132;01m}\u001b[39;00m\u001b[38;5;124m'\u001b[39m\u001b[38;5;124m during deserialization\u001b[39m\u001b[38;5;124m\"\u001b[39m)\n",
      "\u001b[0;31mValueError\u001b[0m: Could not resolve type 'MSGate' during deserialization"
     ]
    }
   ],
   "source": [
    "###Testing the noise model fo get the FIDs...\n",
    "num_qubits = 4\n",
    "nmr_reg = [cirq.LineQubit(int(i)) for i in range(num_qubits)]\n",
    "#spinach_datapath = '/Users/kis/Dropbox/NMR Learning/Code/matlab/spectrumSim/fid_data/'\n",
    "#path = \"evolution_circuits/acetonitrile/zf_ion/\"\n",
    "path = \"./zf_ion_json/\"\n",
    "# npoints = 4096\n",
    "npoints = 100\n",
    "t_ind_List = np.array([i for i in range(npoints)]).astype(float)\n",
    "# t_ind_List = np.arange(0,4096,0.5,dtype=float)\n",
    "gamma_1H = 2.6752 * 1e8; gamma_13C = 0.6728 * 1e8\n",
    "weights = np.array([gamma_1H, gamma_1H, gamma_1H, gamma_13C]) / gamma_1H\n",
    "repetitions = 1000; p1q = 0.001; p2q = 0.02\n",
    "\n",
    "start = timer()\n",
    "\n",
    "fid_raw = ZULF_noisySim_QuEra(t_ind_List, path, nmr_reg, weights,repetitions=100)\n",
    "# savemat(spinach_datapath + 'fidraw_acetonitrile_zf_qalg_npoints_{:d}_syn_ion.mat'.format(npoints), {'fid_raw_zf_qalg': fid_raw}, oned_as='column')\n",
    "print(fid_raw)\n"
   ]
  },
  {
   "cell_type": "code",
   "execution_count": 16,
   "metadata": {},
   "outputs": [
    {
     "ename": "ValueError",
     "evalue": "Could not resolve type 'MSGate' during deserialization",
     "output_type": "error",
     "traceback": [
      "\u001b[0;31m---------------------------------------------------------------------------\u001b[0m",
      "\u001b[0;31mValueError\u001b[0m                                Traceback (most recent call last)",
      "Cell \u001b[0;32mIn[16], line 1\u001b[0m\n\u001b[0;32m----> 1\u001b[0m \u001b[43mcirq\u001b[49m\u001b[38;5;241;43m.\u001b[39;49m\u001b[43mread_json\u001b[49m\u001b[43m(\u001b[49m\u001b[38;5;124;43m'\u001b[39;49m\u001b[38;5;124;43m./zf_ion_json/U_t_1237.json\u001b[39;49m\u001b[38;5;124;43m'\u001b[39;49m\u001b[43m)\u001b[49m\n",
      "File \u001b[0;32m~/.pyenv/versions/cirq-py39/lib/python3.9/site-packages/cirq/protocols/json_serialization.py:595\u001b[0m, in \u001b[0;36mread_json\u001b[0;34m(file_or_fn, json_text, resolvers)\u001b[0m\n\u001b[1;32m    593\u001b[0m \u001b[38;5;28;01mif\u001b[39;00m \u001b[38;5;28misinstance\u001b[39m(file_or_fn, (\u001b[38;5;28mstr\u001b[39m, pathlib\u001b[38;5;241m.\u001b[39mPath)):\n\u001b[1;32m    594\u001b[0m     \u001b[38;5;28;01mwith\u001b[39;00m \u001b[38;5;28mopen\u001b[39m(file_or_fn, \u001b[38;5;124m'\u001b[39m\u001b[38;5;124mr\u001b[39m\u001b[38;5;124m'\u001b[39m) \u001b[38;5;28;01mas\u001b[39;00m file:\n\u001b[0;32m--> 595\u001b[0m         \u001b[38;5;28;01mreturn\u001b[39;00m \u001b[43mjson\u001b[49m\u001b[38;5;241;43m.\u001b[39;49m\u001b[43mload\u001b[49m\u001b[43m(\u001b[49m\u001b[43mfile\u001b[49m\u001b[43m,\u001b[49m\u001b[43m \u001b[49m\u001b[43mobject_hook\u001b[49m\u001b[38;5;241;43m=\u001b[39;49m\u001b[43mobj_hook\u001b[49m\u001b[43m)\u001b[49m\n\u001b[1;32m    597\u001b[0m \u001b[38;5;28;01mreturn\u001b[39;00m json\u001b[38;5;241m.\u001b[39mload(cast(IO, file_or_fn), object_hook\u001b[38;5;241m=\u001b[39mobj_hook)\n",
      "File \u001b[0;32m~/.pyenv/versions/3.9.12/lib/python3.9/json/__init__.py:293\u001b[0m, in \u001b[0;36mload\u001b[0;34m(fp, cls, object_hook, parse_float, parse_int, parse_constant, object_pairs_hook, **kw)\u001b[0m\n\u001b[1;32m    274\u001b[0m \u001b[38;5;28;01mdef\u001b[39;00m\u001b[38;5;250m \u001b[39m\u001b[38;5;21mload\u001b[39m(fp, \u001b[38;5;241m*\u001b[39m, \u001b[38;5;28mcls\u001b[39m\u001b[38;5;241m=\u001b[39m\u001b[38;5;28;01mNone\u001b[39;00m, object_hook\u001b[38;5;241m=\u001b[39m\u001b[38;5;28;01mNone\u001b[39;00m, parse_float\u001b[38;5;241m=\u001b[39m\u001b[38;5;28;01mNone\u001b[39;00m,\n\u001b[1;32m    275\u001b[0m         parse_int\u001b[38;5;241m=\u001b[39m\u001b[38;5;28;01mNone\u001b[39;00m, parse_constant\u001b[38;5;241m=\u001b[39m\u001b[38;5;28;01mNone\u001b[39;00m, object_pairs_hook\u001b[38;5;241m=\u001b[39m\u001b[38;5;28;01mNone\u001b[39;00m, \u001b[38;5;241m*\u001b[39m\u001b[38;5;241m*\u001b[39mkw):\n\u001b[1;32m    276\u001b[0m \u001b[38;5;250m    \u001b[39m\u001b[38;5;124;03m\"\"\"Deserialize ``fp`` (a ``.read()``-supporting file-like object containing\u001b[39;00m\n\u001b[1;32m    277\u001b[0m \u001b[38;5;124;03m    a JSON document) to a Python object.\u001b[39;00m\n\u001b[1;32m    278\u001b[0m \n\u001b[0;32m   (...)\u001b[0m\n\u001b[1;32m    291\u001b[0m \u001b[38;5;124;03m    kwarg; otherwise ``JSONDecoder`` is used.\u001b[39;00m\n\u001b[1;32m    292\u001b[0m \u001b[38;5;124;03m    \"\"\"\u001b[39;00m\n\u001b[0;32m--> 293\u001b[0m     \u001b[38;5;28;01mreturn\u001b[39;00m \u001b[43mloads\u001b[49m\u001b[43m(\u001b[49m\u001b[43mfp\u001b[49m\u001b[38;5;241;43m.\u001b[39;49m\u001b[43mread\u001b[49m\u001b[43m(\u001b[49m\u001b[43m)\u001b[49m\u001b[43m,\u001b[49m\n\u001b[1;32m    294\u001b[0m \u001b[43m        \u001b[49m\u001b[38;5;28;43mcls\u001b[39;49m\u001b[38;5;241;43m=\u001b[39;49m\u001b[38;5;28;43mcls\u001b[39;49m\u001b[43m,\u001b[49m\u001b[43m \u001b[49m\u001b[43mobject_hook\u001b[49m\u001b[38;5;241;43m=\u001b[39;49m\u001b[43mobject_hook\u001b[49m\u001b[43m,\u001b[49m\n\u001b[1;32m    295\u001b[0m \u001b[43m        \u001b[49m\u001b[43mparse_float\u001b[49m\u001b[38;5;241;43m=\u001b[39;49m\u001b[43mparse_float\u001b[49m\u001b[43m,\u001b[49m\u001b[43m \u001b[49m\u001b[43mparse_int\u001b[49m\u001b[38;5;241;43m=\u001b[39;49m\u001b[43mparse_int\u001b[49m\u001b[43m,\u001b[49m\n\u001b[1;32m    296\u001b[0m \u001b[43m        \u001b[49m\u001b[43mparse_constant\u001b[49m\u001b[38;5;241;43m=\u001b[39;49m\u001b[43mparse_constant\u001b[49m\u001b[43m,\u001b[49m\u001b[43m \u001b[49m\u001b[43mobject_pairs_hook\u001b[49m\u001b[38;5;241;43m=\u001b[39;49m\u001b[43mobject_pairs_hook\u001b[49m\u001b[43m,\u001b[49m\u001b[43m \u001b[49m\u001b[38;5;241;43m*\u001b[39;49m\u001b[38;5;241;43m*\u001b[39;49m\u001b[43mkw\u001b[49m\u001b[43m)\u001b[49m\n",
      "File \u001b[0;32m~/.pyenv/versions/3.9.12/lib/python3.9/json/__init__.py:359\u001b[0m, in \u001b[0;36mloads\u001b[0;34m(s, cls, object_hook, parse_float, parse_int, parse_constant, object_pairs_hook, **kw)\u001b[0m\n\u001b[1;32m    357\u001b[0m \u001b[38;5;28;01mif\u001b[39;00m parse_constant \u001b[38;5;129;01mis\u001b[39;00m \u001b[38;5;129;01mnot\u001b[39;00m \u001b[38;5;28;01mNone\u001b[39;00m:\n\u001b[1;32m    358\u001b[0m     kw[\u001b[38;5;124m'\u001b[39m\u001b[38;5;124mparse_constant\u001b[39m\u001b[38;5;124m'\u001b[39m] \u001b[38;5;241m=\u001b[39m parse_constant\n\u001b[0;32m--> 359\u001b[0m \u001b[38;5;28;01mreturn\u001b[39;00m \u001b[38;5;28;43mcls\u001b[39;49m\u001b[43m(\u001b[49m\u001b[38;5;241;43m*\u001b[39;49m\u001b[38;5;241;43m*\u001b[39;49m\u001b[43mkw\u001b[49m\u001b[43m)\u001b[49m\u001b[38;5;241;43m.\u001b[39;49m\u001b[43mdecode\u001b[49m\u001b[43m(\u001b[49m\u001b[43ms\u001b[49m\u001b[43m)\u001b[49m\n",
      "File \u001b[0;32m~/.pyenv/versions/3.9.12/lib/python3.9/json/decoder.py:337\u001b[0m, in \u001b[0;36mJSONDecoder.decode\u001b[0;34m(self, s, _w)\u001b[0m\n\u001b[1;32m    332\u001b[0m \u001b[38;5;28;01mdef\u001b[39;00m\u001b[38;5;250m \u001b[39m\u001b[38;5;21mdecode\u001b[39m(\u001b[38;5;28mself\u001b[39m, s, _w\u001b[38;5;241m=\u001b[39mWHITESPACE\u001b[38;5;241m.\u001b[39mmatch):\n\u001b[1;32m    333\u001b[0m \u001b[38;5;250m    \u001b[39m\u001b[38;5;124;03m\"\"\"Return the Python representation of ``s`` (a ``str`` instance\u001b[39;00m\n\u001b[1;32m    334\u001b[0m \u001b[38;5;124;03m    containing a JSON document).\u001b[39;00m\n\u001b[1;32m    335\u001b[0m \n\u001b[1;32m    336\u001b[0m \u001b[38;5;124;03m    \"\"\"\u001b[39;00m\n\u001b[0;32m--> 337\u001b[0m     obj, end \u001b[38;5;241m=\u001b[39m \u001b[38;5;28;43mself\u001b[39;49m\u001b[38;5;241;43m.\u001b[39;49m\u001b[43mraw_decode\u001b[49m\u001b[43m(\u001b[49m\u001b[43ms\u001b[49m\u001b[43m,\u001b[49m\u001b[43m \u001b[49m\u001b[43midx\u001b[49m\u001b[38;5;241;43m=\u001b[39;49m\u001b[43m_w\u001b[49m\u001b[43m(\u001b[49m\u001b[43ms\u001b[49m\u001b[43m,\u001b[49m\u001b[43m \u001b[49m\u001b[38;5;241;43m0\u001b[39;49m\u001b[43m)\u001b[49m\u001b[38;5;241;43m.\u001b[39;49m\u001b[43mend\u001b[49m\u001b[43m(\u001b[49m\u001b[43m)\u001b[49m\u001b[43m)\u001b[49m\n\u001b[1;32m    338\u001b[0m     end \u001b[38;5;241m=\u001b[39m _w(s, end)\u001b[38;5;241m.\u001b[39mend()\n\u001b[1;32m    339\u001b[0m     \u001b[38;5;28;01mif\u001b[39;00m end \u001b[38;5;241m!=\u001b[39m \u001b[38;5;28mlen\u001b[39m(s):\n",
      "File \u001b[0;32m~/.pyenv/versions/3.9.12/lib/python3.9/json/decoder.py:353\u001b[0m, in \u001b[0;36mJSONDecoder.raw_decode\u001b[0;34m(self, s, idx)\u001b[0m\n\u001b[1;32m    344\u001b[0m \u001b[38;5;250m\u001b[39m\u001b[38;5;124;03m\"\"\"Decode a JSON document from ``s`` (a ``str`` beginning with\u001b[39;00m\n\u001b[1;32m    345\u001b[0m \u001b[38;5;124;03ma JSON document) and return a 2-tuple of the Python\u001b[39;00m\n\u001b[1;32m    346\u001b[0m \u001b[38;5;124;03mrepresentation and the index in ``s`` where the document ended.\u001b[39;00m\n\u001b[0;32m   (...)\u001b[0m\n\u001b[1;32m    350\u001b[0m \n\u001b[1;32m    351\u001b[0m \u001b[38;5;124;03m\"\"\"\u001b[39;00m\n\u001b[1;32m    352\u001b[0m \u001b[38;5;28;01mtry\u001b[39;00m:\n\u001b[0;32m--> 353\u001b[0m     obj, end \u001b[38;5;241m=\u001b[39m \u001b[38;5;28;43mself\u001b[39;49m\u001b[38;5;241;43m.\u001b[39;49m\u001b[43mscan_once\u001b[49m\u001b[43m(\u001b[49m\u001b[43ms\u001b[49m\u001b[43m,\u001b[49m\u001b[43m \u001b[49m\u001b[43midx\u001b[49m\u001b[43m)\u001b[49m\n\u001b[1;32m    354\u001b[0m \u001b[38;5;28;01mexcept\u001b[39;00m \u001b[38;5;167;01mStopIteration\u001b[39;00m \u001b[38;5;28;01mas\u001b[39;00m err:\n\u001b[1;32m    355\u001b[0m     \u001b[38;5;28;01mraise\u001b[39;00m JSONDecodeError(\u001b[38;5;124m\"\u001b[39m\u001b[38;5;124mExpecting value\u001b[39m\u001b[38;5;124m\"\u001b[39m, s, err\u001b[38;5;241m.\u001b[39mvalue) \u001b[38;5;28;01mfrom\u001b[39;00m\u001b[38;5;250m \u001b[39m\u001b[38;5;28;01mNone\u001b[39;00m\n",
      "File \u001b[0;32m~/.pyenv/versions/cirq-py39/lib/python3.9/site-packages/cirq/protocols/json_serialization.py:588\u001b[0m, in \u001b[0;36mread_json.<locals>.obj_hook\u001b[0;34m(x)\u001b[0m\n\u001b[1;32m    587\u001b[0m \u001b[38;5;28;01mdef\u001b[39;00m\u001b[38;5;250m \u001b[39m\u001b[38;5;21mobj_hook\u001b[39m(x):\n\u001b[0;32m--> 588\u001b[0m     \u001b[38;5;28;01mreturn\u001b[39;00m \u001b[43m_cirq_object_hook\u001b[49m\u001b[43m(\u001b[49m\u001b[43mx\u001b[49m\u001b[43m,\u001b[49m\u001b[43m \u001b[49m\u001b[43mresolvers\u001b[49m\u001b[43m,\u001b[49m\u001b[43m \u001b[49m\u001b[43mcontext_map\u001b[49m\u001b[43m)\u001b[49m\n",
      "File \u001b[0;32m~/.pyenv/versions/cirq-py39/lib/python3.9/site-packages/cirq/protocols/json_serialization.py:333\u001b[0m, in \u001b[0;36m_cirq_object_hook\u001b[0;34m(d, resolvers, context_map)\u001b[0m\n\u001b[1;32m    331\u001b[0m         \u001b[38;5;28;01mbreak\u001b[39;00m\n\u001b[1;32m    332\u001b[0m \u001b[38;5;28;01melse\u001b[39;00m:\n\u001b[0;32m--> 333\u001b[0m     \u001b[38;5;28;01mraise\u001b[39;00m \u001b[38;5;167;01mValueError\u001b[39;00m(\u001b[38;5;124mf\u001b[39m\u001b[38;5;124m\"\u001b[39m\u001b[38;5;124mCould not resolve type \u001b[39m\u001b[38;5;124m'\u001b[39m\u001b[38;5;132;01m{\u001b[39;00md[\u001b[38;5;124m'\u001b[39m\u001b[38;5;124mcirq_type\u001b[39m\u001b[38;5;124m'\u001b[39m]\u001b[38;5;132;01m}\u001b[39;00m\u001b[38;5;124m'\u001b[39m\u001b[38;5;124m during deserialization\u001b[39m\u001b[38;5;124m\"\u001b[39m)\n\u001b[1;32m    335\u001b[0m from_json_dict \u001b[38;5;241m=\u001b[39m \u001b[38;5;28mgetattr\u001b[39m(\u001b[38;5;28mcls\u001b[39m, \u001b[38;5;124m'\u001b[39m\u001b[38;5;124m_from_json_dict_\u001b[39m\u001b[38;5;124m'\u001b[39m, \u001b[38;5;28;01mNone\u001b[39;00m)\n\u001b[1;32m    336\u001b[0m \u001b[38;5;28;01mif\u001b[39;00m from_json_dict \u001b[38;5;129;01mis\u001b[39;00m \u001b[38;5;129;01mnot\u001b[39;00m \u001b[38;5;28;01mNone\u001b[39;00m:\n",
      "\u001b[0;31mValueError\u001b[0m: Could not resolve type 'MSGate' during deserialization"
     ]
    }
   ],
   "source": [
    "cirq.read_json('./zf_ion_json/U_t_1237.json')"
   ]
  },
  {
   "cell_type": "code",
   "execution_count": null,
   "metadata": {},
   "outputs": [],
   "source": [
    "###Transforming all circuits to json format for compatibility considerations in more recent versions of cirq...\n",
    "#cirq.to_json?\n",
    "#from pathlib import Path\n",
    "\n",
    "#folder_path = Path(\"./zf_ion\")  # e.g., Path(\"./data\")\n",
    "#json_root = Path(\"./zf_ion_json\")  # e.g., Path(\"./data_json\")\n",
    "\n",
    "# Iterate over all .pickle files in this folder (non-recursive)\n",
    "#for file in folder_path.glob(\"*.pickle\"):\n",
    "#    circ = load_circuit(file)\n",
    "    #print(json_root / file.with_suffix('.json').name)\n",
    "#    cirq.to_json(circ, json_root / file.with_suffix('.json').name)"
   ]
  },
  {
   "cell_type": "code",
   "execution_count": 6,
   "metadata": {},
   "outputs": [
    {
     "name": "stdout",
     "output_type": "stream",
     "text": [
      "[np.float64(0.7658124608310821), np.float64(0.666467387570288), np.float64(0.6679043427949949), np.float64(0.6784709436330963), np.float64(0.654357831252032), np.float64(0.763792467955904), np.float64(0.683534448339187), np.float64(0.65706051718288), np.float64(0.6865924422833602), np.float64(0.6448802828290069), np.float64(0.7544649370895066), np.float64(0.7047896141973856), np.float64(0.646558005893343), np.float64(0.6940127733728176), np.float64(0.6403172799791168), np.float64(0.7423105865480365), np.float64(0.7238343053813944), np.float64(0.6420147511505332), np.float64(0.6956621291938355), np.float64(0.6407004674787149), np.float64(0.7283238499447067), np.float64(0.7400796988100041), np.float64(0.6399459501027304), np.float64(0.6940882199265999), np.float64(0.6454242929668605), np.float64(0.707342876630651), np.float64(0.7549578593647147), np.float64(0.6434608926248375), np.float64(0.688638590597954), np.float64(0.6552568179369959), np.float64(0.6857731184667111), np.float64(0.7644176005143928), np.float64(0.6518196308303129), np.float64(0.6792938819871187), np.float64(0.6648154633815979), np.float64(0.6687529532323837), np.float64(0.7658125003068843), np.float64(0.6640832890138895), np.float64(0.6697724336879636), np.float64(0.6763789019627061), np.float64(0.6554793524221578), np.float64(0.7651069657408033), np.float64(0.6798380715229881), np.float64(0.6579078090364671), np.float64(0.684252947402205), np.float64(0.6467020194268991), np.float64(0.7559960457868979), np.float64(0.7016387488204472), np.float64(0.6495824155291343), np.float64(0.6917743638854419), np.float64(0.640891783456583), np.float64(0.7445792106584084), np.float64(0.7233575840370755), np.float64(0.6421656154857304), np.float64(0.6957370842332519), np.float64(0.6403320255226086), np.float64(0.7306059812487657), np.float64(0.7376825266789471), np.float64(0.6397993227251341), np.float64(0.6949635895538424), np.float64(0.6451799896772817), np.float64(0.7135846139485791), np.float64(0.7507133409894013), np.float64(0.6429304595787027), np.float64(0.6880737282014554), np.float64(0.6533973775261112), np.float64(0.6916239901509889), np.float64(0.763983976374208), np.float64(0.6497779929135244), np.float64(0.6829771567787482), np.float64(0.6624602889640677), np.float64(0.6716307947498076), np.float64(0.7658124608312347), np.float64(0.6616837961902264), np.float64(0.6704581535063384), np.float64(0.6750053216101772), np.float64(0.6561784242875521), np.float64(0.7658127887696333), np.float64(0.6767770626812255), np.float64(0.661764454275431), np.float64(0.683723574035826), np.float64(0.6473266925422558), np.float64(0.7603079061088496), np.float64(0.6990040837070755), np.float64(0.6502278993988391), np.float64(0.6925060562121801), np.float64(0.6405317810264711), np.float64(0.7459084913490569), np.float64(0.7207161197210207), np.float64(0.6436370634427315), np.float64(0.6951400435523142), np.float64(0.640046399736373), np.float64(0.7331608814418793), np.float64(0.7353992660277077), np.float64(0.6399004281300726), np.float64(0.6950992603425925), np.float64(0.6425264553077085), np.float64(0.7158350127008597), np.float64(0.7486814961915248), np.float64(0.6417938231972053)]\n",
      "12.426652973999978\n"
     ]
    }
   ],
   "source": [
    "from cirq import ops\n",
    "\n",
    "importlib.reload(nmrfuncs)\n",
    "num_qubits = 4\n",
    "nmr_reg = [cirq.LineQubit(int(i)) for i in range(num_qubits)]\n",
    "spinach_datapath = '/Users/kis/Dropbox/NMR Learning/Code/matlab/spectrumSim/fid_data/'\n",
    "#path = \"evolution_circuits/acetonitrile/zf_ion/\"\n",
    "path = \"./zf_ion/\"\n",
    "# npoints = 4096\n",
    "npoints = 100\n",
    "t_ind_List = np.array([i for i in range(npoints)]).astype(float)\n",
    "# t_ind_List = np.arange(0,4096,0.5,dtype=float)\n",
    "gamma_1H = 2.6752 * 1e8; gamma_13C = 0.6728 * 1e8\n",
    "weights = np.array([gamma_1H, gamma_1H, gamma_1H, gamma_13C]) / gamma_1H\n",
    "repetitions = 1000; p1q = 0.001; p2q = 0.02\n",
    "\n",
    "start = timer()\n",
    "\n",
    "fid_raw = nmrfuncs.ZULF_noiselessSim(t_ind_List, path, nmr_reg, weights,json_format=False)\n",
    "# savemat(spinach_datapath + 'fidraw_acetonitrile_zf_qalg_npoints_{:d}_syn_ion.mat'.format(npoints), {'fid_raw_zf_qalg': fid_raw}, oned_as='column')\n",
    "print(fid_raw)\n",
    "\n",
    "# fid_raw = nmrfuncs.ZULF_snSim(t_ind_List, path, nmr_reg, weights, repetitions)\n",
    "# savemat(spinach_datapath + 'fidraw_acetonitrile_zf_qalg_npoints_{:d}_syn_ion_sn_{:d}.mat'.format(npoints,repetitions), {'fid_raw_zf_qalg': fid_raw}, oned_as='column')\n",
    "\n",
    "# fid_raw = nmrfuncs.ZULF_decohSim(t_ind_List, path, nmr_reg, weights, p1q, p2q)\n",
    "# savemat(spinach_datapath + 'fidraw_acetonitrile_zf_qalg_npoints_{:d}_syn_ion_depol1q_{:.3f}_depol2q_{:.3f}.mat'.format(npoints,p1q,p2q), {'fid_raw_zf_qalg_decoh': fid_raw}, oned_as='column')\n",
    "\n",
    "# fid_raw = nmrfuncs.ZULF_decohSim_fill(t_ind_List, path, nmr_reg, weights, p1q, p2q)\n",
    "# savemat(spinach_datapath + 'fidraw_acetonitrile_zf_qalg_npoints_{:d}_syn_ion_depol1q_{:.3f}_depol2q_{:.3f}_fill.mat'.format(npoints,p1q,p2q), {'fid_raw_zf_qalg_decoh': fid_raw}, oned_as='column')\n",
    "\n",
    "# p = 0.005\n",
    "# fid_raw = nmrfuncs.ZULF_dampSim(t_ind_List, path, nmr_reg, weights, p)\n",
    "# savemat(spinach_datapath + 'fidraw_acetonitrile_zf_qalg_npoints_{:d}_syn_ion_amplitudedamp_{:.3f}.mat'.format(npoints,p), {'fid_raw_zf_qalg_decoh': fid_raw}, oned_as='column')\n",
    "\n",
    "# fid_raw = nmrfuncs.ZULF_noisySim(t_ind_List, path, nmr_reg, weights, repetitions, p1q, p2q)\n",
    "# savemat(spinach_datapath + 'fidraw_acetonitrile_zf_qalg_npoints_{:d}_syn_ion_sn_{:d}_depol1q_{:.3f}_depol2q_{:.3f}.mat'.format(npoints,repetitions,p1q,p2q), {'fid_raw_zf_qalg_decoh': fid_raw}, oned_as='column')\n",
    "\n",
    "# M = 256\n",
    "# t_ind_List_NUS_zf = np.loadtxt('../matlab/spectrumSim/zulf_masks/sampleMask_N_4096_M_{:d}_stretchFac_0.5'.format(M), dtype=float).astype(int)\n",
    "# t_ind_List_NUS_ulf = np.loadtxt('../matlab/spectrumSim/zulf_masks/sampleMask_N_4096_M_{:d}_stretchFac_0.5'.format(M), dtype=float).astype(int)\n",
    "# fid_raw = nmrfuncs.ZULF_noisySim_MC(t_ind_List_NUS_zf, path, nmr_reg, weights, repetitions, p1q, p2q)\n",
    "# savemat(spinach_datapath + 'fidraw_acetonitrile_zf_qalg_npoints_{:d}_syn_ion_sn_{:d}_depol1q_{:.3f}_depol2q_{:.3f}_NUS_{:d}.mat'.format(npoints,repetitions,p1q,p2q,M), {'fid_raw_zf_qalg_NUS': fid_raw}, oned_as='column')\n",
    "\n",
    "print(timer()-start)"
   ]
  },
  {
   "cell_type": "code",
   "execution_count": 31,
   "metadata": {},
   "outputs": [],
   "source": [
    "from nmrfuncs import load_circuit\n",
    "\n",
    "test_circ = load_circuit('./zf_ion/U_t_3990.pickle',json_format=False)\n"
   ]
  },
  {
   "cell_type": "code",
   "execution_count": 32,
   "metadata": {},
   "outputs": [
    {
     "data": {
      "text/html": [
       "<pre style=\"overflow: auto; white-space: pre;\">q_0: ───X^0.016────Z^0.236───────MS(-0.059π)───X^0.839────Z^0.449───────MS(0.0425π)───X^0.796────Z^0.343───────MS(0.0665π)───X^-0.864───Z^0.449────────────────────────────────────────────────────────────────────────────────────────────────────────────────────────────MS(0.073π)───X^(-3/13)───Z^0.826───────MS(0.0665π)───X^0.647───Z^0.623───────MS(0.04π)───X^-0.465───Z^0.507────────────────────────────────────────────────────────────────────────────────────────────────────────────────────────MS(0.223π)───X^0.226────Z^0.127───────MS(-0.207π)───X^0.57──────Z^0.137───────MS(0.184π)───X^0.141────Z^0.581───────────────────────────────────────────────────────────────────────────────────────────────────────────────────────────────────MS(-0.106π)───X^0.633────Z^0.257───────MS(0.0865π)───X^-0.686───Z^0.317───────MS(0.0895π)───X^-0.233───Z^0.699───────X^0.328───────────────────────────────────────────────────────────────────────────────────────────────────────────────────────\n",
       "                                 │                                      │                                      │                                                                                                                                                           │                                      │                                     │                                                                                                                                                     │                                     │                                       │                                                                                                                                                                 │                                      │                                      │\n",
       "q_1: ───X^0.055────Z^0.431───────┼──────────────────────────────────────┼──────────────────────────────────────┼──────────────────────────────────────MS(0.0835π)───X^0.991────Z^0.531───────MS(-0.066π)───X^0.291────Z^0.435───────MS(0.085π)───X^(-1/8)────Z^(5/8)───────┼──────────────────────────────────────┼─────────────────────────────────────┼─────────────────────────────────────────────────────────────────────────────────────────────────────────────────────────────────────────────────────┼─────────────────────────────────────┼───────────────────────────────────────┼─────────────────────────────────────MS(0.213π)───X^-0.737─────Z^0.68────────MS(0.165π)───X^(-3/11)───Z^0.311───────MS(-0.23π)───X^-0.677────Z^0.218───X^-0.14───┼──────────────────────────────────────┼──────────────────────────────────────┼────────────────────────────────────────────────────────────────────────────────────────────────────────────────────────────────────────────────────────────────────\n",
       "                                 │                                      │                                      │                                      │                                      │                                      │                                      │                                      │                                     │                                                                                                                                                     │                                     │                                       │                                     │                                       │                                      │                                            │                                      │                                      │\n",
       "q_2: ───X^(1/12)───Z^0.697───────┼──────────────────────────────────────┼──────────────────────────────────────┼──────────────────────────────────────┼──────────────────────────────────────┼──────────────────────────────────────┼──────────────────────────────────────┼──────────────────────────────────────┼─────────────────────────────────────┼────────────────────────────────────MS(0.234π)───X^(9/11)───Z^0.254───────MS(0.21π)───X^-0.4─────Z^0.653───────MS(0.148π)───X^-0.515───Z^0.695───────┼─────────────────────────────────────┼───────────────────────────────────────┼─────────────────────────────────────┼───────────────────────────────────────┼──────────────────────────────────────┼────────────────────────────────────────────┼──────────────────────────────────────┼──────────────────────────────────────┼──────────────────────────────────────MS(0.0575π)───X^-0.603───Z^0.662───────MS(-0.0675π)───X^(5/11)────Z^(2/7)───────MS(0.0645π)───X^-0.449───Z^0.421───X^0.773────\n",
       "                                 │                                      │                                      │                                      │                                      │                                      │                                      │                                      │                                     │                                    │                                     │                                    │                                     │                                     │                                       │                                     │                                       │                                      │                                            │                                      │                                      │                                      │                                      │                                        │\n",
       "q_3: ───X^-0.749───Z^0.528───────MS(-0.059π)───X^-0.582───Z^0.631───────MS(0.0425π)───X^(-7/9)───Z^0.695───────MS(0.0665π)───X^(3/11)───Z^0.4─────────MS(0.0835π)───X^-0.424───Z^0.483───────MS(-0.066π)───X^-0.711───Z^0.441───────MS(0.085π)───X^(-1/11)───Z^0.977───────MS(0.073π)───X^-0.199────Z^0.185───────MS(0.0665π)───X^0.323───Z^0.567───────MS(0.04π)───X^0.952────Z^0.085───────MS(0.234π)───X^0.132────Z^0.71────────MS(0.21π)───X^-0.669───Z^0.568───────MS(0.148π)───X^-0.184───Z^0.383───────MS(0.223π)───X^(9/13)───Z^0.377───────MS(-0.207π)───X^(-2/15)───Z^0.481───────MS(0.184π)───X^-0.754───Z^0.413───────MS(0.213π)───X^(-11/16)───Z^0.661───────MS(0.165π)───X^-0.739────Z^0.672───────MS(-0.23π)───X^(11/14)───Z^0.415─────────────MS(-0.106π)───X^-0.826───Z^0.329───────MS(0.0865π)───X^0.753────Z^0.508───────MS(0.0895π)───X^-0.945───Z^0.322───────MS(0.0575π)───X^-0.323───Z^0.602───────MS(-0.0675π)───X^(-7/11)───Z^0.324───────MS(0.0645π)───X^0.657────Z^0.456───X^-0.994───</pre>"
      ],
      "text/plain": [
       "q_0: ───X^0.016────Z^0.236───────MS(-0.059π)───X^0.839────Z^0.449───────MS(0.0425π)───X^0.796────Z^0.343───────MS(0.0665π)───X^-0.864───Z^0.449────────────────────────────────────────────────────────────────────────────────────────────────────────────────────────────MS(0.073π)───X^(-3/13)───Z^0.826───────MS(0.0665π)───X^0.647───Z^0.623───────MS(0.04π)───X^-0.465───Z^0.507────────────────────────────────────────────────────────────────────────────────────────────────────────────────────────MS(0.223π)───X^0.226────Z^0.127───────MS(-0.207π)───X^0.57──────Z^0.137───────MS(0.184π)───X^0.141────Z^0.581───────────────────────────────────────────────────────────────────────────────────────────────────────────────────────────────────MS(-0.106π)───X^0.633────Z^0.257───────MS(0.0865π)───X^-0.686───Z^0.317───────MS(0.0895π)───X^-0.233───Z^0.699───────X^0.328───────────────────────────────────────────────────────────────────────────────────────────────────────────────────────\n",
       "                                 │                                      │                                      │                                                                                                                                                           │                                      │                                     │                                                                                                                                                     │                                     │                                       │                                                                                                                                                                 │                                      │                                      │\n",
       "q_1: ───X^0.055────Z^0.431───────┼──────────────────────────────────────┼──────────────────────────────────────┼──────────────────────────────────────MS(0.0835π)───X^0.991────Z^0.531───────MS(-0.066π)───X^0.291────Z^0.435───────MS(0.085π)───X^(-1/8)────Z^(5/8)───────┼──────────────────────────────────────┼─────────────────────────────────────┼─────────────────────────────────────────────────────────────────────────────────────────────────────────────────────────────────────────────────────┼─────────────────────────────────────┼───────────────────────────────────────┼─────────────────────────────────────MS(0.213π)───X^-0.737─────Z^0.68────────MS(0.165π)───X^(-3/11)───Z^0.311───────MS(-0.23π)───X^-0.677────Z^0.218───X^-0.14───┼──────────────────────────────────────┼──────────────────────────────────────┼────────────────────────────────────────────────────────────────────────────────────────────────────────────────────────────────────────────────────────────────────\n",
       "                                 │                                      │                                      │                                      │                                      │                                      │                                      │                                      │                                     │                                                                                                                                                     │                                     │                                       │                                     │                                       │                                      │                                            │                                      │                                      │\n",
       "q_2: ───X^(1/12)───Z^0.697───────┼──────────────────────────────────────┼──────────────────────────────────────┼──────────────────────────────────────┼──────────────────────────────────────┼──────────────────────────────────────┼──────────────────────────────────────┼──────────────────────────────────────┼─────────────────────────────────────┼────────────────────────────────────MS(0.234π)───X^(9/11)───Z^0.254───────MS(0.21π)───X^-0.4─────Z^0.653───────MS(0.148π)───X^-0.515───Z^0.695───────┼─────────────────────────────────────┼───────────────────────────────────────┼─────────────────────────────────────┼───────────────────────────────────────┼──────────────────────────────────────┼────────────────────────────────────────────┼──────────────────────────────────────┼──────────────────────────────────────┼──────────────────────────────────────MS(0.0575π)───X^-0.603───Z^0.662───────MS(-0.0675π)───X^(5/11)────Z^(2/7)───────MS(0.0645π)───X^-0.449───Z^0.421───X^0.773────\n",
       "                                 │                                      │                                      │                                      │                                      │                                      │                                      │                                      │                                     │                                    │                                     │                                    │                                     │                                     │                                       │                                     │                                       │                                      │                                            │                                      │                                      │                                      │                                      │                                        │\n",
       "q_3: ───X^-0.749───Z^0.528───────MS(-0.059π)───X^-0.582───Z^0.631───────MS(0.0425π)───X^(-7/9)───Z^0.695───────MS(0.0665π)───X^(3/11)───Z^0.4─────────MS(0.0835π)───X^-0.424───Z^0.483───────MS(-0.066π)───X^-0.711───Z^0.441───────MS(0.085π)───X^(-1/11)───Z^0.977───────MS(0.073π)───X^-0.199────Z^0.185───────MS(0.0665π)───X^0.323───Z^0.567───────MS(0.04π)───X^0.952────Z^0.085───────MS(0.234π)───X^0.132────Z^0.71────────MS(0.21π)───X^-0.669───Z^0.568───────MS(0.148π)───X^-0.184───Z^0.383───────MS(0.223π)───X^(9/13)───Z^0.377───────MS(-0.207π)───X^(-2/15)───Z^0.481───────MS(0.184π)───X^-0.754───Z^0.413───────MS(0.213π)───X^(-11/16)───Z^0.661───────MS(0.165π)───X^-0.739────Z^0.672───────MS(-0.23π)───X^(11/14)───Z^0.415─────────────MS(-0.106π)───X^-0.826───Z^0.329───────MS(0.0865π)───X^0.753────Z^0.508───────MS(0.0895π)───X^-0.945───Z^0.322───────MS(0.0575π)───X^-0.323───Z^0.602───────MS(-0.0675π)───X^(-7/11)───Z^0.324───────MS(0.0645π)───X^0.657────Z^0.456───X^-0.994───"
      ]
     },
     "execution_count": 32,
     "metadata": {},
     "output_type": "execute_result"
    }
   ],
   "source": [
    "test_circ"
   ]
  },
  {
   "cell_type": "code",
   "execution_count": 33,
   "metadata": {},
   "outputs": [
    {
     "ename": "ValueError",
     "evalue": "Overlapping operations: (cirq.H(cirq.NamedQubit('q_0')), cirq.H(cirq.NamedQubit('q_3')), cirq.CNOT(cirq.NamedQubit('q_0'), cirq.NamedQubit('q_3')), cirq.Rz(rads=0.3712738819128525).on(cirq.NamedQubit('q_3')), cirq.CNOT(cirq.NamedQubit('q_0'), cirq.NamedQubit('q_3')), cirq.H(cirq.NamedQubit('q_3')), cirq.H(cirq.NamedQubit('q_0')))",
     "output_type": "error",
     "traceback": [
      "\u001b[0;31m---------------------------------------------------------------------------\u001b[0m",
      "\u001b[0;31mValueError\u001b[0m                                Traceback (most recent call last)",
      "Cell \u001b[0;32mIn[33], line 1\u001b[0m\n\u001b[0;32m----> 1\u001b[0m \u001b[43mreplace_xxpow_gates\u001b[49m\u001b[43m(\u001b[49m\u001b[43mtest_circ\u001b[49m\u001b[43m)\u001b[49m\n",
      "Cell \u001b[0;32mIn[30], line 29\u001b[0m, in \u001b[0;36mreplace_xxpow_gates\u001b[0;34m(circuit)\u001b[0m\n\u001b[1;32m     27\u001b[0m         \u001b[38;5;28;01melse\u001b[39;00m:\n\u001b[1;32m     28\u001b[0m             new_moment\u001b[38;5;241m.\u001b[39mappend(op)\n\u001b[0;32m---> 29\u001b[0m     new_ops\u001b[38;5;241m.\u001b[39mappend(\u001b[43mcirq\u001b[49m\u001b[38;5;241;43m.\u001b[39;49m\u001b[43mMoment\u001b[49m\u001b[43m(\u001b[49m\u001b[43mnew_moment\u001b[49m\u001b[43m)\u001b[49m)\n\u001b[1;32m     30\u001b[0m \u001b[38;5;28;01mreturn\u001b[39;00m cirq\u001b[38;5;241m.\u001b[39mCircuit(new_ops)\n",
      "File \u001b[0;32m~/.pyenv/versions/cirq-py39/lib/python3.9/site-packages/cirq/ops/moment.py:89\u001b[0m, in \u001b[0;36mMoment.__init__\u001b[0;34m(self, *contents)\u001b[0m\n\u001b[1;32m     86\u001b[0m     \u001b[38;5;28;01mfor\u001b[39;00m q \u001b[38;5;129;01min\u001b[39;00m op\u001b[38;5;241m.\u001b[39mqubits:\n\u001b[1;32m     87\u001b[0m         \u001b[38;5;66;03m# Check that operations don't overlap.\u001b[39;00m\n\u001b[1;32m     88\u001b[0m         \u001b[38;5;28;01mif\u001b[39;00m q \u001b[38;5;129;01min\u001b[39;00m \u001b[38;5;28mself\u001b[39m\u001b[38;5;241m.\u001b[39m_qubit_to_op:\n\u001b[0;32m---> 89\u001b[0m             \u001b[38;5;28;01mraise\u001b[39;00m \u001b[38;5;167;01mValueError\u001b[39;00m(\u001b[38;5;124mf\u001b[39m\u001b[38;5;124m'\u001b[39m\u001b[38;5;124mOverlapping operations: \u001b[39m\u001b[38;5;132;01m{\u001b[39;00m\u001b[38;5;28mself\u001b[39m\u001b[38;5;241m.\u001b[39moperations\u001b[38;5;132;01m}\u001b[39;00m\u001b[38;5;124m'\u001b[39m)\n\u001b[1;32m     90\u001b[0m         \u001b[38;5;28mself\u001b[39m\u001b[38;5;241m.\u001b[39m_qubit_to_op[q] \u001b[38;5;241m=\u001b[39m op\n\u001b[1;32m     92\u001b[0m \u001b[38;5;28mself\u001b[39m\u001b[38;5;241m.\u001b[39m_qubits \u001b[38;5;241m=\u001b[39m \u001b[38;5;28mfrozenset\u001b[39m(\u001b[38;5;28mself\u001b[39m\u001b[38;5;241m.\u001b[39m_qubit_to_op\u001b[38;5;241m.\u001b[39mkeys())\n",
      "\u001b[0;31mValueError\u001b[0m: Overlapping operations: (cirq.H(cirq.NamedQubit('q_0')), cirq.H(cirq.NamedQubit('q_3')), cirq.CNOT(cirq.NamedQubit('q_0'), cirq.NamedQubit('q_3')), cirq.Rz(rads=0.3712738819128525).on(cirq.NamedQubit('q_3')), cirq.CNOT(cirq.NamedQubit('q_0'), cirq.NamedQubit('q_3')), cirq.H(cirq.NamedQubit('q_3')), cirq.H(cirq.NamedQubit('q_0')))"
     ]
    }
   ],
   "source": [
    "replace_xxpow_gates(test_circ)"
   ]
  },
  {
   "cell_type": "code",
   "execution_count": 29,
   "metadata": {},
   "outputs": [
    {
     "ename": "ValueError",
     "evalue": "Overlapping operations: (cirq.H(cirq.NamedQubit('q_0')), cirq.H(cirq.NamedQubit('q_3')), cirq.CNOT(cirq.NamedQubit('q_0'), cirq.NamedQubit('q_3')), cirq.Rz(rads=0.3712738819128525).on(cirq.NamedQubit('q_3')), cirq.CNOT(cirq.NamedQubit('q_0'), cirq.NamedQubit('q_3')), cirq.H(cirq.NamedQubit('q_0')), cirq.H(cirq.NamedQubit('q_3')))",
     "output_type": "error",
     "traceback": [
      "\u001b[0;31m---------------------------------------------------------------------------\u001b[0m",
      "\u001b[0;31mValueError\u001b[0m                                Traceback (most recent call last)",
      "Cell \u001b[0;32mIn[29], line 1\u001b[0m\n\u001b[0;32m----> 1\u001b[0m \u001b[43mreplace_xxpow_gates\u001b[49m\u001b[43m(\u001b[49m\u001b[43mcirq\u001b[49m\u001b[38;5;241;43m.\u001b[39;49m\u001b[43mCircuit\u001b[49m\u001b[43m(\u001b[49m\u001b[43mtest_circ\u001b[49m\u001b[43m[\u001b[49m\u001b[38;5;241;43m3\u001b[39;49m\u001b[43m]\u001b[49m\u001b[43m)\u001b[49m\u001b[43m)\u001b[49m\n",
      "Cell \u001b[0;32mIn[20], line 27\u001b[0m, in \u001b[0;36mreplace_xxpow_gates\u001b[0;34m(circuit)\u001b[0m\n\u001b[1;32m     25\u001b[0m         \u001b[38;5;28;01melse\u001b[39;00m:\n\u001b[1;32m     26\u001b[0m             new_moment\u001b[38;5;241m.\u001b[39mappend(op)\n\u001b[0;32m---> 27\u001b[0m     new_ops\u001b[38;5;241m.\u001b[39mappend(\u001b[43mcirq\u001b[49m\u001b[38;5;241;43m.\u001b[39;49m\u001b[43mMoment\u001b[49m\u001b[43m(\u001b[49m\u001b[43mnew_moment\u001b[49m\u001b[43m)\u001b[49m)\n\u001b[1;32m     28\u001b[0m \u001b[38;5;28;01mreturn\u001b[39;00m cirq\u001b[38;5;241m.\u001b[39mCircuit(new_ops)\n",
      "File \u001b[0;32m~/.pyenv/versions/cirq-py39/lib/python3.9/site-packages/cirq/ops/moment.py:89\u001b[0m, in \u001b[0;36mMoment.__init__\u001b[0;34m(self, *contents)\u001b[0m\n\u001b[1;32m     86\u001b[0m     \u001b[38;5;28;01mfor\u001b[39;00m q \u001b[38;5;129;01min\u001b[39;00m op\u001b[38;5;241m.\u001b[39mqubits:\n\u001b[1;32m     87\u001b[0m         \u001b[38;5;66;03m# Check that operations don't overlap.\u001b[39;00m\n\u001b[1;32m     88\u001b[0m         \u001b[38;5;28;01mif\u001b[39;00m q \u001b[38;5;129;01min\u001b[39;00m \u001b[38;5;28mself\u001b[39m\u001b[38;5;241m.\u001b[39m_qubit_to_op:\n\u001b[0;32m---> 89\u001b[0m             \u001b[38;5;28;01mraise\u001b[39;00m \u001b[38;5;167;01mValueError\u001b[39;00m(\u001b[38;5;124mf\u001b[39m\u001b[38;5;124m'\u001b[39m\u001b[38;5;124mOverlapping operations: \u001b[39m\u001b[38;5;132;01m{\u001b[39;00m\u001b[38;5;28mself\u001b[39m\u001b[38;5;241m.\u001b[39moperations\u001b[38;5;132;01m}\u001b[39;00m\u001b[38;5;124m'\u001b[39m)\n\u001b[1;32m     90\u001b[0m         \u001b[38;5;28mself\u001b[39m\u001b[38;5;241m.\u001b[39m_qubit_to_op[q] \u001b[38;5;241m=\u001b[39m op\n\u001b[1;32m     92\u001b[0m \u001b[38;5;28mself\u001b[39m\u001b[38;5;241m.\u001b[39m_qubits \u001b[38;5;241m=\u001b[39m \u001b[38;5;28mfrozenset\u001b[39m(\u001b[38;5;28mself\u001b[39m\u001b[38;5;241m.\u001b[39m_qubit_to_op\u001b[38;5;241m.\u001b[39mkeys())\n",
      "\u001b[0;31mValueError\u001b[0m: Overlapping operations: (cirq.H(cirq.NamedQubit('q_0')), cirq.H(cirq.NamedQubit('q_3')), cirq.CNOT(cirq.NamedQubit('q_0'), cirq.NamedQubit('q_3')), cirq.Rz(rads=0.3712738819128525).on(cirq.NamedQubit('q_3')), cirq.CNOT(cirq.NamedQubit('q_0'), cirq.NamedQubit('q_3')), cirq.H(cirq.NamedQubit('q_0')), cirq.H(cirq.NamedQubit('q_3')))"
     ]
    }
   ],
   "source": [
    "replace_xxpow_gates(cirq.Circuit(test_circ[3]))"
   ]
  },
  {
   "cell_type": "code",
   "execution_count": null,
   "metadata": {},
   "outputs": [],
   "source": []
  },
  {
   "cell_type": "code",
   "execution_count": 11,
   "metadata": {},
   "outputs": [
    {
     "ename": "AttributeError",
     "evalue": "module 'cirq' has no attribute 'optimize_for_target_gateset'",
     "output_type": "error",
     "traceback": [
      "\u001b[0;31m---------------------------------------------------------------------------\u001b[0m",
      "\u001b[0;31mAttributeError\u001b[0m                            Traceback (most recent call last)",
      "Cell \u001b[0;32mIn[11], line 1\u001b[0m\n\u001b[0;32m----> 1\u001b[0m \u001b[43mcirq\u001b[49m\u001b[38;5;241;43m.\u001b[39;49m\u001b[43moptimize_for_target_gateset\u001b[49m(\n\u001b[1;32m      2\u001b[0m                 circuit\u001b[38;5;241m=\u001b[39mtest_circ, gateset\u001b[38;5;241m=\u001b[39mcirq\u001b[38;5;241m.\u001b[39mCZTargetGateset()\n\u001b[1;32m      3\u001b[0m             )\n",
      "File \u001b[0;32m~/.pyenv/versions/cirq-py39/lib/python3.9/site-packages/cirq/_compat.py:574\u001b[0m, in \u001b[0;36m_setup_deprecated_submodule_attribute.<locals>.Wrapped.__getattr__\u001b[0;34m(self, name)\u001b[0m\n\u001b[1;32m    570\u001b[0m \u001b[38;5;28;01mif\u001b[39;00m name \u001b[38;5;241m==\u001b[39m old_child:\n\u001b[1;32m    571\u001b[0m     _deduped_module_warn_or_error(\n\u001b[1;32m    572\u001b[0m         \u001b[38;5;124mf\u001b[39m\u001b[38;5;124m\"\u001b[39m\u001b[38;5;132;01m{\u001b[39;00mold_parent\u001b[38;5;132;01m}\u001b[39;00m\u001b[38;5;124m.\u001b[39m\u001b[38;5;132;01m{\u001b[39;00mold_child\u001b[38;5;132;01m}\u001b[39;00m\u001b[38;5;124m\"\u001b[39m, new_module_name, deadline\n\u001b[1;32m    573\u001b[0m     )\n\u001b[0;32m--> 574\u001b[0m \u001b[38;5;28;01mreturn\u001b[39;00m \u001b[38;5;28;43mgetattr\u001b[39;49m\u001b[43m(\u001b[49m\u001b[43mparent_module\u001b[49m\u001b[43m,\u001b[49m\u001b[43m \u001b[49m\u001b[43mname\u001b[49m\u001b[43m)\u001b[49m\n",
      "\u001b[0;31mAttributeError\u001b[0m: module 'cirq' has no attribute 'optimize_for_target_gateset'"
     ]
    }
   ],
   "source": [
    "cirq.optimize_for_target_gateset(\n",
    "                circuit=test_circ, gateset=cirq.CZTargetGateset()\n",
    "            )"
   ]
  },
  {
   "cell_type": "code",
   "execution_count": 14,
   "metadata": {},
   "outputs": [
    {
     "name": "stdout",
     "output_type": "stream",
     "text": [
      "Original circuit:\n",
      "q_0: ───X^0.016────Z^0.236───────MS(-0.059π)───X^0.839────Z^0.449───────MS(0.0425π)───X^0.796────Z^0.343───────MS(0.0665π)───X^-0.864───Z^0.449────────────────────────────────────────────────────────────────────────────────────────────────────────────────────────────MS(0.073π)───X^(-3/13)───Z^0.826───────MS(0.0665π)───X^0.647───Z^0.623───────MS(0.04π)───X^-0.465───Z^0.507────────────────────────────────────────────────────────────────────────────────────────────────────────────────────────MS(0.223π)───X^0.226────Z^0.127───────MS(-0.207π)───X^0.57──────Z^0.137───────MS(0.184π)───X^0.141────Z^0.581───────────────────────────────────────────────────────────────────────────────────────────────────────────────────────────────────MS(-0.106π)───X^0.633────Z^0.257───────MS(0.0865π)───X^-0.686───Z^0.317───────MS(0.0895π)───X^-0.233───Z^0.699───────X^0.328───────────────────────────────────────────────────────────────────────────────────────────────────────────────────────\n",
      "                                 │                                      │                                      │                                                                                                                                                           │                                      │                                     │                                                                                                                                                     │                                     │                                       │                                                                                                                                                                 │                                      │                                      │\n",
      "q_1: ───X^0.055────Z^0.431───────┼──────────────────────────────────────┼──────────────────────────────────────┼──────────────────────────────────────MS(0.0835π)───X^0.991────Z^0.531───────MS(-0.066π)───X^0.291────Z^0.435───────MS(0.085π)───X^(-1/8)────Z^(5/8)───────┼──────────────────────────────────────┼─────────────────────────────────────┼─────────────────────────────────────────────────────────────────────────────────────────────────────────────────────────────────────────────────────┼─────────────────────────────────────┼───────────────────────────────────────┼─────────────────────────────────────MS(0.213π)───X^-0.737─────Z^0.68────────MS(0.165π)───X^(-3/11)───Z^0.311───────MS(-0.23π)───X^-0.677────Z^0.218───X^-0.14───┼──────────────────────────────────────┼──────────────────────────────────────┼────────────────────────────────────────────────────────────────────────────────────────────────────────────────────────────────────────────────────────────────────\n",
      "                                 │                                      │                                      │                                      │                                      │                                      │                                      │                                      │                                     │                                                                                                                                                     │                                     │                                       │                                     │                                       │                                      │                                            │                                      │                                      │\n",
      "q_2: ───X^(1/12)───Z^0.697───────┼──────────────────────────────────────┼──────────────────────────────────────┼──────────────────────────────────────┼──────────────────────────────────────┼──────────────────────────────────────┼──────────────────────────────────────┼──────────────────────────────────────┼─────────────────────────────────────┼────────────────────────────────────MS(0.234π)───X^(9/11)───Z^0.254───────MS(0.21π)───X^-0.4─────Z^0.653───────MS(0.148π)───X^-0.515───Z^0.695───────┼─────────────────────────────────────┼───────────────────────────────────────┼─────────────────────────────────────┼───────────────────────────────────────┼──────────────────────────────────────┼────────────────────────────────────────────┼──────────────────────────────────────┼──────────────────────────────────────┼──────────────────────────────────────MS(0.0575π)───X^-0.603───Z^0.662───────MS(-0.0675π)───X^(5/11)────Z^(2/7)───────MS(0.0645π)───X^-0.449───Z^0.421───X^0.773────\n",
      "                                 │                                      │                                      │                                      │                                      │                                      │                                      │                                      │                                     │                                    │                                     │                                    │                                     │                                     │                                       │                                     │                                       │                                      │                                            │                                      │                                      │                                      │                                      │                                        │\n",
      "q_3: ───X^-0.749───Z^0.528───────MS(-0.059π)───X^-0.582───Z^0.631───────MS(0.0425π)───X^(-7/9)───Z^0.695───────MS(0.0665π)───X^(3/11)───Z^0.4─────────MS(0.0835π)───X^-0.424───Z^0.483───────MS(-0.066π)───X^-0.711───Z^0.441───────MS(0.085π)───X^(-1/11)───Z^0.977───────MS(0.073π)───X^-0.199────Z^0.185───────MS(0.0665π)───X^0.323───Z^0.567───────MS(0.04π)───X^0.952────Z^0.085───────MS(0.234π)───X^0.132────Z^0.71────────MS(0.21π)───X^-0.669───Z^0.568───────MS(0.148π)───X^-0.184───Z^0.383───────MS(0.223π)───X^(9/13)───Z^0.377───────MS(-0.207π)───X^(-2/15)───Z^0.481───────MS(0.184π)───X^-0.754───Z^0.413───────MS(0.213π)───X^(-11/16)───Z^0.661───────MS(0.165π)───X^-0.739────Z^0.672───────MS(-0.23π)───X^(11/14)───Z^0.415─────────────MS(-0.106π)───X^-0.826───Z^0.329───────MS(0.0865π)───X^0.753────Z^0.508───────MS(0.0895π)───X^-0.945───Z^0.322───────MS(0.0575π)───X^-0.323───Z^0.602───────MS(-0.0675π)───X^(-7/11)───Z^0.324───────MS(0.0645π)───X^0.657────Z^0.456───X^-0.994───\n"
     ]
    },
    {
     "ename": "ValueError",
     "evalue": "Operation doesn't satisfy the given `keep` but can't be decomposed: cirq.ms(-0.11818014709469422*np.pi/2).on(cirq.NamedQubit('q_0'), cirq.NamedQubit('q_3'))",
     "output_type": "error",
     "traceback": [
      "\u001b[0;31m---------------------------------------------------------------------------\u001b[0m",
      "\u001b[0;31mValueError\u001b[0m                                Traceback (most recent call last)",
      "Cell \u001b[0;32mIn[14], line 20\u001b[0m\n\u001b[1;32m     17\u001b[0m decomposed \u001b[38;5;241m=\u001b[39m cirq\u001b[38;5;241m.\u001b[39mCircuit()\n\u001b[1;32m     19\u001b[0m \u001b[38;5;28;01mfor\u001b[39;00m op \u001b[38;5;129;01min\u001b[39;00m test_circ\u001b[38;5;241m.\u001b[39mall_operations():\n\u001b[0;32m---> 20\u001b[0m     decomposed \u001b[38;5;241m+\u001b[39m\u001b[38;5;241m=\u001b[39m \u001b[43mcirq\u001b[49m\u001b[38;5;241;43m.\u001b[39;49m\u001b[43mdecompose\u001b[49m\u001b[43m(\u001b[49m\u001b[43mop\u001b[49m\u001b[43m,\u001b[49m\u001b[43m \u001b[49m\u001b[43mkeep\u001b[49m\u001b[38;5;241;43m=\u001b[39;49m\u001b[38;5;28;43;01mlambda\u001b[39;49;00m\u001b[43m \u001b[49m\u001b[43mg\u001b[49m\u001b[43m:\u001b[49m\u001b[43m \u001b[49m\u001b[38;5;28;43misinstance\u001b[39;49m\u001b[43m(\u001b[49m\u001b[43mg\u001b[49m\u001b[38;5;241;43m.\u001b[39;49m\u001b[43mgate\u001b[49m\u001b[43m,\u001b[49m\u001b[43m \u001b[49m\u001b[43m(\u001b[49m\u001b[43mcirq\u001b[49m\u001b[38;5;241;43m.\u001b[39;49m\u001b[43mGate\u001b[49m\u001b[43m)\u001b[49m\u001b[43m)\u001b[49m\u001b[43m \u001b[49m\u001b[38;5;129;43;01mand\u001b[39;49;00m\n\u001b[1;32m     21\u001b[0m \u001b[43m                                  \u001b[49m\u001b[43m(\u001b[49m\u001b[43mcirq\u001b[49m\u001b[38;5;241;43m.\u001b[39;49m\u001b[43mnum_qubits\u001b[49m\u001b[43m(\u001b[49m\u001b[43mg\u001b[49m\u001b[38;5;241;43m.\u001b[39;49m\u001b[43mgate\u001b[49m\u001b[43m)\u001b[49m\u001b[43m \u001b[49m\u001b[38;5;241;43m==\u001b[39;49m\u001b[43m \u001b[49m\u001b[38;5;241;43m1\u001b[39;49m\u001b[43m \u001b[49m\u001b[38;5;129;43;01mor\u001b[39;49;00m\u001b[43m \u001b[49m\u001b[38;5;28;43misinstance\u001b[39;49m\u001b[43m(\u001b[49m\u001b[43mg\u001b[49m\u001b[38;5;241;43m.\u001b[39;49m\u001b[43mgate\u001b[49m\u001b[43m,\u001b[49m\u001b[43m \u001b[49m\u001b[43mcirq\u001b[49m\u001b[38;5;241;43m.\u001b[39;49m\u001b[43mCZPowGate\u001b[49m\u001b[43m)\u001b[49m\u001b[43m)\u001b[49m\u001b[43m)\u001b[49m\n\u001b[1;32m     23\u001b[0m \u001b[38;5;28mprint\u001b[39m(\u001b[38;5;124m\"\u001b[39m\u001b[38;5;130;01m\\n\u001b[39;00m\u001b[38;5;124mDecomposed to 1Q + CZ:\u001b[39m\u001b[38;5;124m\"\u001b[39m)\n\u001b[1;32m     24\u001b[0m \u001b[38;5;28mprint\u001b[39m(decomposed)\n",
      "File \u001b[0;32m~/.pyenv/versions/cirq-py39/lib/python3.9/site-packages/cirq/protocols/decompose_protocol.py:259\u001b[0m, in \u001b[0;36mdecompose\u001b[0;34m(val, intercepting_decomposer, fallback_decomposer, keep, on_stuck_raise, preserve_structure)\u001b[0m\n\u001b[1;32m    257\u001b[0m             error \u001b[38;5;241m=\u001b[39m on_stuck_raise(item)\n\u001b[1;32m    258\u001b[0m             \u001b[38;5;28;01mif\u001b[39;00m error \u001b[38;5;129;01mis\u001b[39;00m \u001b[38;5;129;01mnot\u001b[39;00m \u001b[38;5;28;01mNone\u001b[39;00m:\n\u001b[0;32m--> 259\u001b[0m                 \u001b[38;5;28;01mraise\u001b[39;00m error\n\u001b[1;32m    261\u001b[0m     output\u001b[38;5;241m.\u001b[39mappend(item)\n\u001b[1;32m    263\u001b[0m \u001b[38;5;28;01mreturn\u001b[39;00m output\n",
      "\u001b[0;31mValueError\u001b[0m: Operation doesn't satisfy the given `keep` but can't be decomposed: cirq.ms(-0.11818014709469422*np.pi/2).on(cirq.NamedQubit('q_0'), cirq.NamedQubit('q_3'))"
     ]
    }
   ],
   "source": [
    "import cirq\n",
    "\n",
    "# Define qubits\n",
    "q0, q1 = cirq.LineQubit.range(2)\n",
    "\n",
    "# Example circuit with arbitrary gates\n",
    "circuit = cirq.Circuit(\n",
    "    cirq.H(q0),\n",
    "    cirq.CNOT(q0, q1),\n",
    "    cirq.X(q1)\n",
    ")\n",
    "\n",
    "print(\"Original circuit:\")\n",
    "print(test_circ)\n",
    "\n",
    "# Strategy: decompose everything to 1Q + CZ\n",
    "decomposed = cirq.Circuit()\n",
    "\n",
    "for op in test_circ.all_operations():\n",
    "    decomposed += cirq.decompose(op, keep=lambda g: isinstance(g.gate, (cirq.Gate)) and\n",
    "                                  (cirq.num_qubits(g.gate) == 1 or isinstance(g.gate, cirq.CZPowGate)))\n",
    "\n",
    "print(\"\\nDecomposed to 1Q + CZ:\")\n",
    "print(decomposed)\n"
   ]
  },
  {
   "cell_type": "code",
   "execution_count": 15,
   "metadata": {},
   "outputs": [
    {
     "data": {
      "text/plain": [
       "<function cirq.ion.ion_gates.ms(rads: float) -> cirq.ion.ion_gates.MSGate>"
      ]
     },
     "execution_count": 15,
     "metadata": {},
     "output_type": "execute_result"
    }
   ],
   "source": [
    "cirq.ms"
   ]
  },
  {
   "cell_type": "code",
   "execution_count": 7,
   "metadata": {},
   "outputs": [
    {
     "data": {
      "image/png": "[encoded data removed]",
      "text/plain": [
       "<Figure size 640x480 with 1 Axes>"
      ]
     },
     "metadata": {},
     "output_type": "display_data"
    }
   ],
   "source": [
    "import matplotlib.pyplot as plt\n",
    "plt.plot(fid_raw)\n",
    "plt.show()"
   ]
  },
  {
   "cell_type": "code",
   "execution_count": 5,
   "metadata": {},
   "outputs": [
    {
     "data": {
      "text/html": [
       "<pre style=\"overflow: auto; white-space: pre;\">                                                                                                                                                                                                                                                                                                                                                                                                                                                                                                                                                                                                                                                                                                                                                                ┌───────────────────┐\n",
       "q_0: ───X^0.088────Z^0.878───────MS(0.187π)───X^0.482────Z^(2/11)───────MS(-0.199π)───X^-0.869───Z^0.579───────MS(0.086π)───X^-0.053───Z^0.404──────────────────────────────────────────────────────────────────────────────────────────────────────────────────────────MS(-0.0425π)───X^0.986────Z^0.31─────────MS(0.044π)───X^-0.652───Z^0.605───────MS(-0.037π)───X^-0.055───Z^(3/14)─────────────────────────────────────────────────────────────────────────────────────────────────────────────────────────MS(-0.129π)───X^-0.058────Z^0.243───────MS(0.12π)───X^-0.75────Z^0.523─────────MS(-0.0835π)───X^(-6/7)───Z^(1/7)────────────────────────────────────────────────────────────────────────────────────────────────────────────────────────────────MS(-0.112π)────────────X^0.019────Z^0.238───────MS(0.201π)───X^0.702───Z^0.145───────MS(0.249π)───X^-0.524───Z^0.451───────X^0.327───────────────────────────────────────────────────────────────────────────────────────────────────────────────────────\n",
       "                                 │                                      │                                      │                                                                                                                                                        │                                        │                                     │                                                                                                                                                         │                                       │                                      │                                                                                                                                                                │                                               │                                    │\n",
       "q_1: ───X^-0.183───Z^0.247───────┼──────────────────────────────────────┼──────────────────────────────────────┼─────────────────────────────────────MS(-0.188π)───X^-0.007───Z^0.261───────MS(-0.112π)───X^0.185───Z^0.652───────MS(0.138π)───X^-0.558───Z^0.686───────┼────────────────────────────────────────┼─────────────────────────────────────┼─────────────────────────────────────────────────────────────────────────────────────────────────────────────────────────────────────────────────────────┼───────────────────────────────────────┼──────────────────────────────────────┼───────────────────────────────────────MS(-0.19π)───X^0.353─────Z^0.665───────MS(-0.227π)───X^(-4/15)───Z^0.619───────MS(-0.167π)───X^-0.543────Z^(7/13)────────┼──────────X^-0.904─────────────────────────────┼────────────────────────────────────┼───────────────────────────────────────────────────────────────────────────────────────────────────────────────────────────────────────────────────────────────────\n",
       "                                 │                                      │                                      │                                     │                                      │                                     │                                     │                                        │                                     │                                                                                                                                                         │                                       │                                      │                                       │                                      │                                       │                                         │                                               │                                    │\n",
       "q_2: ───X^0.52─────Z^0.356───────┼──────────────────────────────────────┼──────────────────────────────────────┼─────────────────────────────────────┼──────────────────────────────────────┼─────────────────────────────────────┼─────────────────────────────────────┼────────────────────────────────────────┼─────────────────────────────────────┼───────────────────────────────────────MS(0.245π)───X^-0.2────Z^(4/7)───────MS(-0.214π)───X^-0.766───Z^0.511───────MS(0.214π)───X^-0.396───Z^0.407───────┼───────────────────────────────────────┼──────────────────────────────────────┼───────────────────────────────────────┼──────────────────────────────────────┼───────────────────────────────────────┼─────────────────────────────────────────┼───────────────────────────────────────────────┼────────────────────────────────────┼─────────────────────────────────────MS(-0.051π)───X^-0.337───Z^0.47────────MS(-0.0555π)───X^(7/11)───Z^0.657───────MS(0.0585π)───X^-0.368───Z^0.284────X^0.261────\n",
       "                                 │                                      │                                      │                                     │                                      │                                     │                                     │                                        │                                     │                                       │                                    │                                      │                                     │                                       │                                      │                                       │                                      │                                       │                                         │                                               │                                    │                                     │                                      │                                       │\n",
       "q_3: ───X^-0.009───Z^0.411───────MS(0.187π)───X^-0.983───Z^0.069────────MS(-0.199π)───X^0.518────Z^0.873───────MS(0.086π)───X^0.935────Z^0.244───────MS(-0.188π)───X^0.878────Z^0.776───────MS(-0.112π)───X^0.213───Z^0.287───────MS(0.138π)───X^0.328────Z^0.621───────MS(-0.0425π)───X^-0.022───Z^(4/15)───────MS(0.044π)───X^-0.447───Z^0.676───────MS(-0.037π)───X^-0.479───Z^0.783────────MS(0.245π)───X^0.382───Z^0.766───────MS(-0.214π)───X^(3/7)────Z^0.241───────MS(0.214π)───X^0.725────Z^0.047───────MS(-0.129π)───X^(-4/11)───Z^0.172───────MS(0.12π)───X^-0.396───Z^(11/15)───────MS(-0.0835π)───X^0.791────Z^0.053───────MS(-0.19π)───X^(13/14)───Z^0.225───────MS(-0.227π)───X^0.46──────Z^0.245───────MS(-0.167π)───X^(11/13)───Z^0.157─────────MS(-0.112π)────────────X^-0.085───Z^0.679───────MS(0.201π)───X^0.224───Z^0.184───────MS(0.249π)───X^0.986────Z^0.425───────MS(-0.051π)───X^0.947────Z^0.598───────MS(-0.0555π)───X^0.6──────Z^0.681───────MS(0.0585π)───X^0.751────Z^(3/11)───X^-0.023───\n",
       "                                                                                                                                                                                                                                                                                                                                                                                                                                                                                                                                                                                                                                                                                                                                                                └───────────────────┘</pre>"
      ],
      "text/plain": [
       "                                                                                                                                                                                                                                                                                                                                                                                                                                                                                                                                                                                                                                                                                                                                                                ┌───────────────────┐\n",
       "q_0: ───X^0.088────Z^0.878───────MS(0.187π)───X^0.482────Z^(2/11)───────MS(-0.199π)───X^-0.869───Z^0.579───────MS(0.086π)───X^-0.053───Z^0.404──────────────────────────────────────────────────────────────────────────────────────────────────────────────────────────MS(-0.0425π)───X^0.986────Z^0.31─────────MS(0.044π)───X^-0.652───Z^0.605───────MS(-0.037π)───X^-0.055───Z^(3/14)─────────────────────────────────────────────────────────────────────────────────────────────────────────────────────────MS(-0.129π)───X^-0.058────Z^0.243───────MS(0.12π)───X^-0.75────Z^0.523─────────MS(-0.0835π)───X^(-6/7)───Z^(1/7)────────────────────────────────────────────────────────────────────────────────────────────────────────────────────────────────MS(-0.112π)────────────X^0.019────Z^0.238───────MS(0.201π)───X^0.702───Z^0.145───────MS(0.249π)───X^-0.524───Z^0.451───────X^0.327───────────────────────────────────────────────────────────────────────────────────────────────────────────────────────\n",
       "                                 │                                      │                                      │                                                                                                                                                        │                                        │                                     │                                                                                                                                                         │                                       │                                      │                                                                                                                                                                │                                               │                                    │\n",
       "q_1: ───X^-0.183───Z^0.247───────┼──────────────────────────────────────┼──────────────────────────────────────┼─────────────────────────────────────MS(-0.188π)───X^-0.007───Z^0.261───────MS(-0.112π)───X^0.185───Z^0.652───────MS(0.138π)───X^-0.558───Z^0.686───────┼────────────────────────────────────────┼─────────────────────────────────────┼─────────────────────────────────────────────────────────────────────────────────────────────────────────────────────────────────────────────────────────┼───────────────────────────────────────┼──────────────────────────────────────┼───────────────────────────────────────MS(-0.19π)───X^0.353─────Z^0.665───────MS(-0.227π)───X^(-4/15)───Z^0.619───────MS(-0.167π)───X^-0.543────Z^(7/13)────────┼──────────X^-0.904─────────────────────────────┼────────────────────────────────────┼───────────────────────────────────────────────────────────────────────────────────────────────────────────────────────────────────────────────────────────────────\n",
       "                                 │                                      │                                      │                                     │                                      │                                     │                                     │                                        │                                     │                                                                                                                                                         │                                       │                                      │                                       │                                      │                                       │                                         │                                               │                                    │\n",
       "q_2: ───X^0.52─────Z^0.356───────┼──────────────────────────────────────┼──────────────────────────────────────┼─────────────────────────────────────┼──────────────────────────────────────┼─────────────────────────────────────┼─────────────────────────────────────┼────────────────────────────────────────┼─────────────────────────────────────┼───────────────────────────────────────MS(0.245π)───X^-0.2────Z^(4/7)───────MS(-0.214π)───X^-0.766───Z^0.511───────MS(0.214π)───X^-0.396───Z^0.407───────┼───────────────────────────────────────┼──────────────────────────────────────┼───────────────────────────────────────┼──────────────────────────────────────┼───────────────────────────────────────┼─────────────────────────────────────────┼───────────────────────────────────────────────┼────────────────────────────────────┼─────────────────────────────────────MS(-0.051π)───X^-0.337───Z^0.47────────MS(-0.0555π)───X^(7/11)───Z^0.657───────MS(0.0585π)───X^-0.368───Z^0.284────X^0.261────\n",
       "                                 │                                      │                                      │                                     │                                      │                                     │                                     │                                        │                                     │                                       │                                    │                                      │                                     │                                       │                                      │                                       │                                      │                                       │                                         │                                               │                                    │                                     │                                      │                                       │\n",
       "q_3: ───X^-0.009───Z^0.411───────MS(0.187π)───X^-0.983───Z^0.069────────MS(-0.199π)───X^0.518────Z^0.873───────MS(0.086π)───X^0.935────Z^0.244───────MS(-0.188π)───X^0.878────Z^0.776───────MS(-0.112π)───X^0.213───Z^0.287───────MS(0.138π)───X^0.328────Z^0.621───────MS(-0.0425π)───X^-0.022───Z^(4/15)───────MS(0.044π)───X^-0.447───Z^0.676───────MS(-0.037π)───X^-0.479───Z^0.783────────MS(0.245π)───X^0.382───Z^0.766───────MS(-0.214π)───X^(3/7)────Z^0.241───────MS(0.214π)───X^0.725────Z^0.047───────MS(-0.129π)───X^(-4/11)───Z^0.172───────MS(0.12π)───X^-0.396───Z^(11/15)───────MS(-0.0835π)───X^0.791────Z^0.053───────MS(-0.19π)───X^(13/14)───Z^0.225───────MS(-0.227π)───X^0.46──────Z^0.245───────MS(-0.167π)───X^(11/13)───Z^0.157─────────MS(-0.112π)────────────X^-0.085───Z^0.679───────MS(0.201π)───X^0.224───Z^0.184───────MS(0.249π)───X^0.986────Z^0.425───────MS(-0.051π)───X^0.947────Z^0.598───────MS(-0.0555π)───X^0.6──────Z^0.681───────MS(0.0585π)───X^0.751────Z^(3/11)───X^-0.023───\n",
       "                                                                                                                                                                                                                                                                                                                                                                                                                                                                                                                                                                                                                                                                                                                                                                └───────────────────┘"
      ]
     },
     "execution_count": 5,
     "metadata": {},
     "output_type": "execute_result"
    }
   ],
   "source": [
    "from nmrfuncs import load_circuit\n",
    "\n",
    "load_circuit('./zf_ion/U_t_1009.pickle')"
   ]
  },
  {
   "cell_type": "code",
   "execution_count": 11,
   "metadata": {},
   "outputs": [],
   "source": [
    "###Transforming all circuits to json format for compatibility considerations in more recent versions of cirq...\n",
    "#cirq.to_json?\n",
    "from pathlib import Path\n",
    "\n",
    "folder_path = Path(\"./zf_ion\")  # e.g., Path(\"./data\")\n",
    "json_root = Path(\"./zf_ion_json\")  # e.g., Path(\"./data_json\")\n",
    "\n",
    "# Iterate over all .pickle files in this folder (non-recursive)\n",
    "for file in folder_path.glob(\"*.pickle\"):\n",
    "    circ = load_circuit(file)\n",
    "    #print(json_root / file.with_suffix('.json').name)\n",
    "    cirq.to_json(circ, json_root / file.with_suffix('.json').name)\n"
   ]
  },
  {
   "cell_type": "code",
   "execution_count": null,
   "metadata": {},
   "outputs": [
    {
     "name": "stdout",
     "output_type": "stream",
     "text": [
      "\u001b[31mSignature:\u001b[39m\n",
      "cirq.to_json(\n",
      "    obj: Any,\n",
      "    file_or_fn: Union[NoneType, IO, pathlib.Path, str] = \u001b[38;5;28;01mNone\u001b[39;00m,\n",
      "    *,\n",
      "    indent: int = \u001b[32m2\u001b[39m,\n",
      "    cls: Type[json.encoder.JSONEncoder] = <\u001b[38;5;28;01mclass\u001b[39;00m \u001b[33m'cirq.protocols.json_serialization.CirqEncoder'\u001b[39m>,\n",
      ") -> Optional[str]\n",
      "\u001b[31mDocstring:\u001b[39m\n",
      "Write a JSON file containing a representation of obj.\n",
      "\n",
      "The object may be a cirq object or have data members that are cirq\n",
      "objects which implement the SupportsJSON protocol.\n",
      "\n",
      "Args:\n",
      "    obj: An object which can be serialized to a JSON representation.\n",
      "    file_or_fn: A filename (if a string or `pathlib.Path`) to write to, or\n",
      "        an IO object (such as a file or buffer) to write to, or `None` to\n",
      "        indicate that the method should return the JSON text as its result.\n",
      "        Defaults to `None`.\n",
      "    indent: Pretty-print the resulting file with this indent level.\n",
      "        Passed to json.dump.\n",
      "    cls: Passed to json.dump; the default value of CirqEncoder\n",
      "        enables the serialization of Cirq objects which implement\n",
      "        the SupportsJSON protocol. To support serialization of 3rd\n",
      "        party classes, prefer adding the _json_dict_ magic method\n",
      "        to your classes rather than overriding this default.\n",
      "\u001b[31mFile:\u001b[39m      ~/pyenvs/ion_syms/lib/python3.11/site-packages/cirq/protocols/json_serialization.py\n",
      "\u001b[31mType:\u001b[39m      function"
     ]
    }
   ],
   "source": [
    "cirq.to_json?"
   ]
  },
  {
   "cell_type": "code",
   "execution_count": null,
   "metadata": {},
   "outputs": [],
   "source": [
    "# some numpy compatibility issues...."
   ]
  },
  {
   "cell_type": "code",
   "execution_count": null,
   "metadata": {},
   "outputs": [
    {
     "data": {
      "image/png": "[encoded data removed]",
      "text/plain": [
       "<Figure size 432x288 with 1 Axes>"
      ]
     },
     "metadata": {
      "needs_background": "light"
     },
     "output_type": "display_data"
    }
   ],
   "source": [
    "import matplotlib.pyplot as plt\n",
    "plt.plot(fid_raw)\n",
    "plt.show()"
   ]
  },
  {
   "cell_type": "code",
   "execution_count": null,
   "metadata": {},
   "outputs": [
    {
     "ename": "AttributeError",
     "evalue": "module 'nmrfuncs' has no attribute 'ZULF_circuitStats'",
     "output_type": "error",
     "traceback": [
      "\u001b[31m---------------------------------------------------------------------------\u001b[39m",
      "\u001b[31mAttributeError\u001b[39m                            Traceback (most recent call last)",
      "\u001b[36mCell\u001b[39m\u001b[36m \u001b[39m\u001b[32mIn[4]\u001b[39m\u001b[32m, line 5\u001b[39m\n\u001b[32m      2\u001b[39m gateTime_1q = \u001b[32m.03\u001b[39m  \u001b[38;5;66;03m# in \\mu s \u001b[39;00m\n\u001b[32m      3\u001b[39m gateTime_2q = \u001b[32m.06\u001b[39m  \u001b[38;5;66;03m# in \\mu s\u001b[39;00m\n\u001b[32m----> \u001b[39m\u001b[32m5\u001b[39m gateCount, expTime, gateCount1q, gateCount2q = \u001b[43mnmrfuncs\u001b[49m\u001b[43m.\u001b[49m\u001b[43mZULF_circuitStats\u001b[49m(t_ind_List, path, nmr_reg, weights, gateTime_1q, gateTime_2q)\n\u001b[32m      6\u001b[39m \u001b[38;5;28mprint\u001b[39m(np.mean(gateCount2q))\n\u001b[32m      7\u001b[39m \u001b[38;5;28mprint\u001b[39m(np.mean(gateCount1q))\n",
      "\u001b[31mAttributeError\u001b[39m: module 'nmrfuncs' has no attribute 'ZULF_circuitStats'"
     ]
    }
   ],
   "source": [
    "importlib.reload(nmrfuncs)\n",
    "gateTime_1q = .03  # in \\mu s \n",
    "gateTime_2q = .06  # in \\mu s\n",
    "\n",
    "gateCount, expTime, gateCount1q, gateCount2q = nmrfuncs.ZULF_circuitStats(t_ind_List, path, nmr_reg, weights, gateTime_1q, gateTime_2q)\n",
    "print(np.mean(gateCount2q))\n",
    "print(np.mean(gateCount1q))\n",
    "print(np.mean(gateCount))\n",
    "print(np.mean(expTime))"
   ]
  },
  {
   "cell_type": "code",
   "execution_count": null,
   "metadata": {},
   "outputs": [
    {
     "name": "stdout",
     "output_type": "stream",
     "text": [
      "15\n"
     ]
    },
    {
     "ename": "AttributeError",
     "evalue": "module 'numpy' has no attribute 'product'",
     "output_type": "error",
     "traceback": [
      "\u001b[31m---------------------------------------------------------------------------\u001b[39m",
      "\u001b[31mAttributeError\u001b[39m                            Traceback (most recent call last)",
      "\u001b[36mCell\u001b[39m\u001b[36m \u001b[39m\u001b[32mIn[5]\u001b[39m\u001b[32m, line 12\u001b[39m\n\u001b[32m     10\u001b[39m     \u001b[38;5;28;01mif\u001b[39;00m benc[i] == \u001b[33m'\u001b[39m\u001b[33m1\u001b[39m\u001b[33m'\u001b[39m:\n\u001b[32m     11\u001b[39m         circuit.append([cirq.rx(np.pi).on(nmr_reg[i])])\n\u001b[32m---> \u001b[39m\u001b[32m12\u001b[39m \u001b[38;5;28mprint\u001b[39m(np.abs(\u001b[43mcircuit\u001b[49m\u001b[43m.\u001b[49m\u001b[43mfinal_state_vector\u001b[49m\u001b[43m(\u001b[49m\u001b[43m)\u001b[49m)**\u001b[32m2\u001b[39m)\n",
      "\u001b[36mFile \u001b[39m\u001b[32m~/pyenvs/ion_syms/lib/python3.11/site-packages/cirq/circuits/circuit.py:1062\u001b[39m, in \u001b[36mAbstractCircuit.final_state_vector\u001b[39m\u001b[34m(self, initial_state, qubit_order, qubits_that_should_be_present, ignore_terminal_measurements, dtype)\u001b[39m\n\u001b[32m   1060\u001b[39m \u001b[38;5;66;03m# Force qubits to have dimension at least 2 for backwards compatibility.\u001b[39;00m\n\u001b[32m   1061\u001b[39m qid_shape = \u001b[38;5;28mself\u001b[39m.qid_shape(qubit_order=qs)\n\u001b[32m-> \u001b[39m\u001b[32m1062\u001b[39m state_len = \u001b[43mnp\u001b[49m\u001b[43m.\u001b[49m\u001b[43mproduct\u001b[49m(qid_shape, dtype=\u001b[38;5;28mint\u001b[39m)\n\u001b[32m   1064\u001b[39m state = qis.to_valid_state_vector(initial_state, qid_shape=qid_shape, dtype=dtype).reshape(\n\u001b[32m   1065\u001b[39m     qid_shape\n\u001b[32m   1066\u001b[39m )\n\u001b[32m   1067\u001b[39m result = _apply_unitary_circuit(\u001b[38;5;28mself\u001b[39m, state, qs, dtype)\n",
      "\u001b[36mFile \u001b[39m\u001b[32m~/pyenvs/ion_syms/lib/python3.11/site-packages/numpy/__init__.py:414\u001b[39m, in \u001b[36m__getattr__\u001b[39m\u001b[34m(attr)\u001b[39m\n\u001b[32m    411\u001b[39m     \u001b[38;5;28;01mimport\u001b[39;00m\u001b[38;5;250m \u001b[39m\u001b[34;01mnumpy\u001b[39;00m\u001b[34;01m.\u001b[39;00m\u001b[34;01mchar\u001b[39;00m\u001b[38;5;250m \u001b[39m\u001b[38;5;28;01mas\u001b[39;00m\u001b[38;5;250m \u001b[39m\u001b[34;01mchar\u001b[39;00m\n\u001b[32m    412\u001b[39m     \u001b[38;5;28;01mreturn\u001b[39;00m char.chararray\n\u001b[32m--> \u001b[39m\u001b[32m414\u001b[39m \u001b[38;5;28;01mraise\u001b[39;00m \u001b[38;5;167;01mAttributeError\u001b[39;00m(\u001b[33m\"\u001b[39m\u001b[33mmodule \u001b[39m\u001b[38;5;132;01m{!r}\u001b[39;00m\u001b[33m has no attribute \u001b[39m\u001b[33m\"\u001b[39m\n\u001b[32m    415\u001b[39m                      \u001b[33m\"\u001b[39m\u001b[38;5;132;01m{!r}\u001b[39;00m\u001b[33m\"\u001b[39m.format(\u001b[34m__name__\u001b[39m, attr))\n",
      "\u001b[31mAttributeError\u001b[39m: module 'numpy' has no attribute 'product'"
     ]
    }
   ],
   "source": [
    "integerList, vectorList = nmrfuncs.basisStates(num_qubits)\n",
    "\n",
    "for ind, bint in enumerate(integerList):\n",
    "    print(bint)\n",
    "    benc = format(2**num_qubits - 1 - bint, '0{:d}b'.format(num_qubits))\n",
    "\n",
    "    circuit = cirq.Circuit()\n",
    "    for i in range(num_qubits):\n",
    "        circuit.append(cirq.WaitGate(cirq.Duration(nanos=10**6)).on(nmr_reg[i]))\n",
    "        if benc[i] == '1':\n",
    "            circuit.append([cirq.rx(np.pi).on(nmr_reg[i])])\n",
    "    print(np.abs(circuit.final_state_vector())**2)\n"
   ]
  },
  {
   "cell_type": "code",
   "execution_count": null,
   "metadata": {},
   "outputs": [],
   "source": []
  },
  {
   "cell_type": "code",
   "execution_count": null,
   "metadata": {},
   "outputs": [],
   "source": [
    "importlib.reload(nmrfuncs)\n",
    "path = \"evolution_circuits/rotenone/\"\n",
    "clusterList = ['c3a', 'c5a', 'c5b', 'c1a']\n",
    "NsList = [3, 5, 5, 9]\n",
    "# npoints = 512\n",
    "npoints = 100\n",
    "t_ind_List = [i for i in range(npoints)]\n",
    "\n",
    "fid_raw_List = []\n",
    "for indc, cluster in enumerate(clusterList):\n",
    "    start = timer()\n",
    "    num_qubits = NsList[indc]\n",
    "    nmr_reg = [cirq.LineQubit(int(i)) for i in range(num_qubits)]\n",
    "    fid_raw = nmrfuncs.COSY_noiselessSim(t_ind_List, path + cluster + '/', nmr_reg)\n",
    "    fid_raw_List.append(fid_raw)\n",
    "    savemat(spinach_datapath + 'fidraw_rotenone_cosy_qalg_npoints_{:d}_syn_'.format(npoints) + cluster + '.mat', {'fid_raw_qalg': fid_raw}, oned_as='column')\n",
    "    print(cluster, 'Time: {0}'.format(timer()-start))\n",
    "fid_raw_tot = np.sum(np.array(fid_raw_List), axis=0)\n",
    "savemat(spinach_datapath + 'fidraw_rotenone_cosy_qalg_npoints_{:d}_syn.mat'.format(npoints), {'fid_raw_qalg': fid_raw_tot}, oned_as='column')"
   ]
  },
  {
   "cell_type": "code",
   "execution_count": null,
   "metadata": {},
   "outputs": [],
   "source": [
    "# from quspin.operators import hamiltonian\n",
    "# from quspin.basis import spin_basis_1d\n",
    "\n",
    "# def SzTot_weighted_obs(Nspin, weights):\n",
    "#     spinBasis = spin_basis_1d(Nspin, pauli=False)\n",
    "#     ham_Rz = hamiltonian([[\"z\", [[weights[i], i] for i in np.arange(Nspin)]]], [], basis=spinBasis, dtype=np.float64, check_symm=False, check_herm=False) \n",
    "#     return np.diag(ham_Rz.todense())\n",
    "\n",
    "# gamma_1H = 2.6752 * 1e8; gamma_13C = 0.6728 * 1e8\n",
    "# weights = np.array([gamma_1H, gamma_1H, gamma_1H, gamma_13C]) / gamma_1H\n",
    "# Sz_Tot = np.array(SzTot_weighted_obs(len(nmr_reg), weights))\n",
    "\n",
    "# simulator = cirq.Simulator()\n",
    "# repetitions = 1000\n",
    "# state_prob_list = []\n",
    "# for circuit in basisCircuitList:\n",
    "#     vec = simulator.simulate(circuit).final_state_vector\n",
    "#     avg_pop = np.abs(vec)**2\n",
    "#     state_prob_list.append(avg_pop)\n",
    "# SzList = np.sum(np.multiply(Sz_Tot[:, None], np.transpose(np.array(state_prob_list))), axis=0)\n",
    "# print(SzList)"
   ]
  },
  {
   "cell_type": "code",
   "execution_count": null,
   "metadata": {},
   "outputs": [
    {
     "name": "stdout",
     "output_type": "stream",
     "text": [
      "0: ───@───D(0.04)───Rx(0.1π)───D(0.005)─────────────────────────\n",
      "      │   │\n",
      "1: ───X───#2────────@──────────D(0.04)──────────────────────────\n",
      "                    │          │\n",
      "2: ─────────────────X──────────#2─────────Rx(0.1π)───D(0.005)───\n"
     ]
    }
   ],
   "source": [
    "circuit = cirq.Circuit()\n",
    "num_qubits = 4\n",
    "nmr_reg = [cirq.LineQubit(int(i)) for i in range(num_qubits)]\n",
    "circuit.append(cirq.CNOT(nmr_reg[0],nmr_reg[1]))\n",
    "circuit.append(cirq.rx(0.1*np.pi).on(nmr_reg[0]))\n",
    "circuit.append(cirq.CNOT(nmr_reg[1],nmr_reg[2]))\n",
    "circuit.append(cirq.rx(0.1*np.pi).on(nmr_reg[2]))\n",
    "# circuit.append(cirq.depolarize(p=p2q,n_qubits=2).on(nmr_reg[0],nmr_reg[1]))\n",
    "# circuit.append(cirq.depolarize(p=p1q,n_qubits=1).on(nmr_reg[0]))\n",
    "noise_model = nmrfuncs.depolarizingNoiseModel(p1q,p2q)\n",
    "new_circuit = cirq.Circuit()\n",
    "for mom in circuit:\n",
    "    for op in mom:\n",
    "#         new_circuit.append(op)\n",
    "        noisy_op = noise_model.noisy_operation(op)\n",
    "        new_circuit.append(noisy_op)\n",
    "print(new_circuit)\n"
   ]
  },
  {
   "cell_type": "code",
   "execution_count": null,
   "metadata": {},
   "outputs": [
    {
     "name": "stdout",
     "output_type": "stream",
     "text": [
      "[ 0 18 36 ... 24 36 30]\n"
     ]
    }
   ],
   "source": [
    "gateTime_1q = .039  # in ms \n",
    "gateTime_2q = .23  # in ms\n",
    "\n",
    "gateCount, expTime, gateCount1q, gateCount2q = nmrfuncs.ZULF_circuitStats_ion(t_ind_List.astype(float), path, nmr_reg, weights, gateTime_1q, gateTime_2q)\n",
    "gateCount2q_int = np.array(gateCount2q).astype(int)\n",
    "print(gateCount2q_int)\n",
    "np.savetxt('/Users/kis/Downloads/gateCount2q_acetonitrile_zf', gateCount2q_int, fmt='%d')"
   ]
  },
  {
   "cell_type": "code",
   "execution_count": null,
   "metadata": {},
   "outputs": [
    {
     "name": "stdout",
     "output_type": "stream",
     "text": [
      "5.571428571428571\n",
      "0: ───Rx(1.99π)────Rz(0.803π)────────────────────────────────────────────────────────────────────────────\n",
      "\n",
      "1: ───Rx(1.09π)────Rz(0.74π)─────────────────────────────────────────────────────────────────────────────\n",
      "\n",
      "2: ───Rx(0.253π)───Rz(0.779π)───────MS(-0.219π)───Rx(1.81π)────Rz(0.092π)───────MS(0.219π)───Rx(1.31π)───\n",
      "                                    │                                           │\n",
      "3: ───Rx(0.652π)───Rz(0.438π)───────MS(-0.219π)───Rx(0.789π)───Rz(0.076π)───────MS(0.219π)───Rx(1.5π)────\n",
      "                                                                   ┌─────────────────────┐\n",
      "0: ─────────────────────────────────────────────────────────────────MS(-0.147π)──────────────Rx(0.088π)───\n",
      "                                                                    │\n",
      "2: ───Rz(0.513π)───────MS(0.045π)───Rx(-0.079π)───Rz(0.293π)────────┼──────────Rx(0.896π)─────────────────\n",
      "                       │                                            │\n",
      "3: ───Rz(0.31π)────────MS(0.045π)───Rx(-1.9π)─────Rz(0.586π)────────MS(-0.147π)──────────────Rx(0.589π)───\n",
      "                                                                   └─────────────────────┘\n",
      "0: ───Rz(0.276π)───────MS(0.184π)───Rx(0.876π)───Rz(0.665π)───────MS(0.123π)───Rx(-0.065π)───Rz(0.278π)───\n",
      "                       │                                          │\n",
      "3: ───Rz(0.094π)───────MS(0.184π)───Rx(-1.52π)───Rz(0.107π)───────MS(0.123π)───Rx(0.979π)────Rz(0.778π)───\n",
      "0: ───────Rx(-0.974π)────────────────────────────────────────────────────────────────────────────\n",
      "\n",
      "1: ───────MS(0.0405π)───Rx(1.0π)────Rz(0.581π)───────MS(0.0395π)───Rx(0.598π)───Rz(0.442π)───────\n",
      "          │                                          │\n",
      "3: ───────MS(0.0405π)───Rx(1.61π)───Rz(0.399π)───────MS(0.0395π)───Rx(-1.42π)───Rz(0.416π)───────\n",
      "1: ───MS(-0.0395π)───Rx(1.15π)───Rz(0.495π)───Rx(0.295π)───\n",
      "      │\n",
      "3: ───MS(-0.0395π)───Rx(0.24π)───Rz(0.501π)───Rx(0.411π)───\n"
     ]
    }
   ],
   "source": [
    "from cirq.contrib import circuit_to_latex_using_qcircuit\n",
    "\n",
    "\n",
    "t_ind = 51\n",
    "\n",
    "qubit_reg = [cirq.LineQubit(int(i)) for i in range(4)]\n",
    "path = \"evolution_circuits/acetonitrile/zf_ion/\"\n",
    "filename = path + 'U_t_{:d}.pickle'.format(int(t_ind))\n",
    "evolution_circuit = nmrfuncs.load_circuit(filename)\n",
    "evo_qubits = [cirq.NamedQubit('q_{:d}'.format(i)) for i in range(len(qubit_reg))]\n",
    "sorted_evo_qubits = sorted(evo_qubits, key=lambda x: x.name, reverse=False)\n",
    "qmap = dict(zip(sorted_evo_qubits, qubit_reg[0:len(evo_qubits)])) \n",
    "mapped_evolution_circuit = evolution_circuit.transform_qubits(lambda q: qmap[q])\n",
    "\n",
    "print(len(mapped_evolution_circuit)/7)\n",
    "print(mapped_evolution_circuit[0:9])\n",
    "print(mapped_evolution_circuit[9:17])\n",
    "print(mapped_evolution_circuit[17:26])\n",
    "print(mapped_evolution_circuit[26:35])\n",
    "print(mapped_evolution_circuit[35::])\n",
    "\n",
    "\n",
    "circuitSlice = mapped_evolution_circuit[0:9]\n",
    "# circuitSlice = mapped_evolution_circuit[9:17]\n",
    "# circuitSlice = mapped_evolution_circuit[17:26]\n",
    "# circuitSlice = mapped_evolution_circuit[26:35]\n",
    "# circuitSlice = mapped_evolution_circuit[35::]\n",
    "\n",
    "circuit_diagram = circuit_to_latex_using_qcircuit(circuitSlice)\n",
    "\n",
    "# with open('/Users/kis/Downloads/circuitDiagram.txt', 'w') as f:\n",
    "#     f.write(circuit_diagram)\n"
   ]
  },
  {
   "cell_type": "code",
   "execution_count": null,
   "metadata": {},
   "outputs": [],
   "source": []
  }
 ],
 "metadata": {
  "kernelspec": {
   "display_name": "cirq-py39",
   "language": "python",
   "name": "python3"
  },
  "language_info": {
   "codemirror_mode": {
    "name": "ipython",
    "version": 3
   },
   "file_extension": ".py",
   "mimetype": "text/x-python",
   "name": "python",
   "nbconvert_exporter": "python",
   "pygments_lexer": "ipython3",
   "version": "3.9.12"
  }
 },
 "nbformat": 4,
 "nbformat_minor": 4
}
