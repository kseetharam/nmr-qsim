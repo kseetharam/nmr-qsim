{
 "cells": [
  {
   "cell_type": "code",
   "execution_count": 5,
   "metadata": {},
   "outputs": [],
   "source": [
    "#Developing the framework to test the information content across different NMR protocols. \n",
    "#The core ideas are:\n",
    "#1) Leverage our tools for Linbladian construction in the Pauli basis. Caveat: it has a dependency on Spinach basis output. We need to be careful that input parameters correspond to\n",
    "# those used in the Spinach simulation\n",
    "# 2) The NMR protocols are defined as classmethods that can be differentiable through JAX\n",
    "\n",
    "\n",
    "import sys\n",
    "sys.path.append('../linbladian_utils/')\n",
    "import numpy as np\n",
    "import scipy.io as spio\n",
    "from scipy.linalg import expm\n",
    "from matplotlib import pyplot as plt\n",
    "import sys \n",
    "import openfermion as of\n",
    "import pandas as pd \n",
    "import jax\n",
    "jax.config.update(\"jax_enable_x64\", True)\n",
    "import jax.numpy as jnp\n",
    "\n",
    "from functools import partial\n",
    "#from jax.experimental import sparse\n",
    "from jax import lax\n",
    "from basis_utils import Sx,Sy,Sz\n",
    "from basis_utils import MatRepLib, S_plus, S_minus\n",
    "\n",
    "from analytical_fit import  GetRelManySpins, get_chemical_shifts, Get_Det_And_Rates\n",
    "from basis_utils import read_spinach_info, build_list_ISTs, NormalizeBasis, build_symbolic_list_ISTs, InnProd\n",
    "#from simulation_utils import Hellinger_2D, GenNOESYSpectrum\n",
    "\n",
    "\n",
    "from jax_linb_utils import flat_upper_triang_mat, get_H0_ops, build_time_evol_op\n",
    "import scipy"
   ]
  },
  {
   "cell_type": "markdown",
   "metadata": {},
   "source": [
    "# Simple test case: DFG"
   ]
  },
  {
   "cell_type": "code",
   "execution_count": 2,
   "metadata": {},
   "outputs": [],
   "source": [
    "#Auxiliary functions to verify correctness \n",
    "\n",
    "def HamMatRep(H,basis,n_qubits=2):\n",
    "    N = len(basis)\n",
    "\n",
    "    Matrep= np.zeros([N,N],dtype=complex)\n",
    "    for i in range(N):\n",
    "        for j in range(N):\n",
    "            Matrep[i,j] = InnProd(basis[i],of.commutator(H,basis[j]),n_qubits=n_qubits)\n",
    "\n",
    "    \n",
    "    return Matrep\n",
    "\n",
    "def GenH0_Ham(offset,B0,zeeman_scalars,Jcoups,gamma):\n",
    "    \"\"\"\n",
    "    Returns: the zeroth order Hamiltonian considered for dynamical evolution in nthe simulations, in OpenFermion format\n",
    "    Args:\n",
    "    offset: frequency offset for the spin Zeeman frequencies, in Hz\n",
    "    B0: Strength of the magnetic field in Teslas\n",
    "    zeeman_scalars: list of chemical shifts for spins, in ppm\n",
    "    Jcoups: matrix of size N x N, N being the number of spins, that encodes the scalar couplings between spins (in Hz)\n",
    "    gamma: gyromagnetic ratio of the spins (an homonuclear case is assumed) \n",
    "    \"\"\"\n",
    "\n",
    "\n",
    "    #offset = -46681\n",
    "    #B0 = 9.3933\n",
    "    w0 = -gamma*B0\n",
    "    o1 = 2*np.pi*offset\n",
    "    Nspins = len(zeeman_scalars)\n",
    "\n",
    "    Hamiltonian = of.QubitOperator()\n",
    "\n",
    "    for i in range(Nspins):\n",
    "        w = o1+w0*zeeman_scalars[i]/1e6\n",
    "        Hamiltonian+=w*Sz(i)\n",
    "        for j in range(i+1,Nspins):\n",
    "\n",
    "            Hamiltonian+=2*np.pi*Jcoups[i,j]*(Sx(i)*Sx(j)+Sy(i)*Sy(j)+Sz(i)*Sz(j))\n",
    "    \n",
    "    return Hamiltonian\n",
    "\n",
    "\n",
    "####Just for the purposes of testing differentiation...\n",
    "def build_ref_prop(time,offset,B0,zeeman_scalars,Jcoups,freqs,coords,tc,gamma,Normbasis):\n",
    "\n",
    "    H0_of = GenH0_Ham(offset,B0,zeeman_scalars,Jcoups,gamma)\n",
    "    H0 = HamMatRep(H0_of,Normbasis,n_qubits=2)\n",
    "\n",
    "    K2,K1,K0,R_analytical = GetRelManySpins(2*np.pi*freqs,coords,tc,gamma,Normbasis)\n",
    "\n",
    "    #return H0,R_analytical,scipy.linalg.expm(-1j*time*H0+time*R_analytical)\n",
    "    return scipy.linalg.expm(-1j*time*H0+time*R_analytical)\n"
   ]
  },
  {
   "cell_type": "markdown",
   "metadata": {},
   "source": [
    "# Generation of the time-evolution operator\n",
    "\n"
   ]
  },
  {
   "cell_type": "code",
   "execution_count": 3,
   "metadata": {},
   "outputs": [],
   "source": [
    "##Input from spinach to generate the Pauli basis\n",
    "text=\"\"\"1      (0,0)   (0,0)   \n",
    "  2      (0,0)   (1,1)   \n",
    "  3      (0,0)   (1,0)   \n",
    "  4      (0,0)   (1,-1)  \n",
    "  5      (1,1)   (0,0)   \n",
    "  6      (1,1)   (1,1)   \n",
    "  7      (1,1)   (1,0)   \n",
    "  8      (1,1)   (1,-1)  \n",
    "  9      (1,0)   (0,0)   \n",
    "  10     (1,0)   (1,1)   \n",
    "  11     (1,0)   (1,0)   \n",
    "  12     (1,0)   (1,-1)  \n",
    "  13     (1,-1)  (0,0)   \n",
    "  14     (1,-1)  (1,1)   \n",
    "  15     (1,-1)  (1,0)   \n",
    "  16     (1,-1)  (1,-1)  \n",
    "\"\"\"\n",
    "\n",
    "data = read_spinach_info(text)\n",
    "\n",
    "basis = build_list_ISTs(data)\n",
    "prefacts,Symb_basis = build_symbolic_list_ISTs(data)\n",
    "\n",
    "#Normbasis = NormalizeBasis(basis,n_qubits=4,checkOrth=True) I have verified the orthonormalization of the basis\n",
    "Normbasis = NormalizeBasis(basis,n_qubits=4,checkOrth=False)\n",
    "Normbasis = np.array(Normbasis)\n",
    "\n",
    "\n"
   ]
  },
  {
   "cell_type": "code",
   "execution_count": null,
   "metadata": {},
   "outputs": [
    {
     "name": "stdout",
     "output_type": "stream",
     "text": [
      "K2 type contributions finished\n",
      "K1 type contributions finished\n",
      "K0 type contributions finished\n"
     ]
    }
   ],
   "source": [
    "###The minimal number and necessary parameters for simulation...\n",
    "Nspins = 2\n",
    "gammaF = 251814800.0\n",
    "coord1 = jnp.array([-0.0551,-1.2087,-1.6523],dtype=jnp.float64)*1e-10\n",
    "coord2 = jnp.array([-0.8604 ,-2.3200 ,-0.0624],dtype=jnp.float64)*1e-10\n",
    "coords = jnp.array([coord1,coord2])\n",
    "\n",
    "w1 = -376417768.6316 \n",
    "w2 = -376411775.1523 \n",
    "freqs = jnp.array([w1,w2])\n",
    "tc = 0.5255e-9\n",
    "B0 = 9.3933\n",
    "freq_offset = -46681\n",
    "\n",
    "#These J couplings can be retrieved from Spinach in matrix form, for this simple example we can input it \"by hand\"\n",
    "Jcoup = 238.0633\n",
    "Jcouplings = np.array([[0.0, Jcoup],\n",
    "                        [Jcoup,0.0]])\n",
    "\n",
    "####We need to flatten the Jcoupling array for JAX functionality...\n",
    "flat_Js = flat_upper_triang_mat(Jcouplings)\n",
    "\n",
    "mat_basis = []\n",
    "\n",
    "for i in range(len(basis)):\n",
    "    sp_op = of.get_sparse_operator(Normbasis[i],n_qubits=Nspins)\n",
    "    mat_basis.append(sp_op.toarray())\n",
    "\n",
    "mat_basis=jnp.array(mat_basis)\n",
    "time=0.1\n",
    "\n",
    "coh_observables = get_H0_ops(Nspins)\n",
    "\n",
    "\n",
    "\n",
    "#H0_jax, R_jax  = build_time_evol_op(time,freqs,flat_Js,B0,freq_offset,tc,coords,gammaF,coh_observables,mat_basis,Nspins)\n",
    "jax_evol_op = build_time_evol_op(time,freqs,flat_Js,B0,freq_offset,tc,coords,gammaF,coh_observables,mat_basis,Nspins)\n",
    "\n",
    "###reference \n",
    "zeeman_scalar_1 = -113.8796\n",
    "zeeman_scalar_2 = -129.8002\n",
    "zeeman_scalars = np.array([zeeman_scalar_1,zeeman_scalar_2])\n",
    "\n",
    "\n",
    "#H0_ref, R_ref = build_ref_prop(time,freq_offset,B0,zeeman_scalars,Jcouplings,freqs,coords,tc,gammaF,Normbasis)\n",
    "ref_evol_op = build_ref_prop(time,freq_offset,B0,zeeman_scalars,Jcouplings,freqs,coords,tc,gammaF,Normbasis)\n",
    "\n"
   ]
  },
  {
   "cell_type": "code",
   "execution_count": 118,
   "metadata": {},
   "outputs": [
    {
     "name": "stdout",
     "output_type": "stream",
     "text": [
      "K2 type contributions finished\n",
      "K1 type contributions finished\n",
      "K0 type contributions finished\n",
      "K2 type contributions finished\n",
      "K1 type contributions finished\n",
      "K0 type contributions finished\n",
      "Norm of JAX derivative with respect to J: 0.21635888730804725\n",
      "Norm of difference between JAX derivative and finite-difference one: 8.206686939728381e-07\n"
     ]
    }
   ],
   "source": [
    "#### Verification of differentiation with respect to J coupling#####\n",
    "def fin_deffJ_Linb_evol(Jcoup,deltaJ,time,offset,B0,zeeman_scalars,freqs,coords,tc,gamma,Normbasis):\n",
    "\n",
    "    Jcoups = np.array([[0.0, Jcoup+deltaJ],\n",
    "                        [Jcoup+deltaJ,0.0]])\n",
    "    \n",
    "\n",
    "    Fin_prop = build_ref_prop(time,offset,B0,zeeman_scalars,Jcoups,freqs,coords,tc,gamma,Normbasis)\n",
    "\n",
    "    Jcoups = np.array([[0.0, Jcoup],\n",
    "                        [Jcoup,0.0]])\n",
    "\n",
    "    Init_prop = build_ref_prop(time,offset,B0,zeeman_scalars,Jcoups,freqs,coords,tc,gamma,Normbasis)\n",
    "\n",
    "\n",
    "    return (Fin_prop-Init_prop)/deltaJ\n",
    "\n",
    "\n",
    "num_dev_J = fin_deffJ_Linb_evol(Jcoup,1e-6,time,freq_offset,B0,zeeman_scalars,freqs,coords,tc,gammaF,Normbasis)\n",
    "\n",
    "grad_fn = jax.jacrev(lambda J: build_time_evol_op(time,freqs,jnp.array([J]),B0,freq_offset,tc,coords,gammaF,coh_observables,mat_basis,Nspins),holomorphic=True)\n",
    "\n",
    "grad_J = grad_fn(238.0633+0.0*1j)\n",
    "\n",
    "\n",
    "print(\"Norm of JAX derivative with respect to J:\",np.linalg.norm(grad_J))\n",
    "\n",
    "print(\"Norm of difference between JAX derivative and finite-difference one:\", np.linalg.norm(grad_J-num_dev_J))\n",
    "\n",
    "\n"
   ]
  },
  {
   "cell_type": "markdown",
   "metadata": {},
   "source": [
    "# Modular implementation of NMR protocols"
   ]
  },
  {
   "cell_type": "code",
   "execution_count": 192,
   "metadata": {},
   "outputs": [],
   "source": [
    "import jax\n",
    "import jax.numpy as jnp\n",
    "from dataclasses import dataclass, field\n",
    "from functools import partial\n",
    "from abc import ABC, abstractmethod\n",
    "\n",
    "####Dataclass to handle the parameters\n",
    "\n",
    "@partial(jax.tree_util.register_dataclass,\n",
    "         data_fields=['freqs', 'Jcouplings', 'B0', 'freq_offset', 'tc', 'coords', 'gamma'],\n",
    "         meta_fields=['Nspins']\n",
    ")\n",
    "@dataclass\n",
    "class spin_params:\n",
    "    \"\"\"\n",
    "    Class that contains all the parameters needed to define the spin system to simulate.\n",
    "    The default parameters here correspond to a minimal instance with two fluorine nuclei.\n",
    "    \"\"\"\n",
    "    freqs: jax.Array = field(default_factory=lambda: jnp.array([-3.76417769e+08, -3.76411775e+08]))\n",
    "    Jcouplings: jax.Array = field(default_factory=lambda: jnp.array([238.0633]))\n",
    "    B0: float = 9.3933\n",
    "    freq_offset: float = -46681\n",
    "    tc: float = 5.255e-10\n",
    "    coords: jax.Array = field(default_factory=lambda: jnp.array([\n",
    "        [-5.5100e-12, -1.2087e-10, -1.6523e-10],\n",
    "        [-8.6040e-11, -2.3200e-10, -6.2400e-12]\n",
    "    ]))\n",
    "    gamma: float = 251814800.0\n",
    "    Nspins: int = 2\n",
    "\n",
    "#data class to define the parameters of time grid in two dimensions, the initial state and the observable to measure in the pauli basis...\n",
    "@partial(jax.tree_util.register_dataclass,\n",
    "         data_fields=['rho0', 'coil'],\n",
    "         meta_fields=['Tpts1','Tpts2','deltaT1','deltaT2']\n",
    ")\n",
    "@dataclass ###TODO: the initial density matrix as well as the observable in the pauli basis can also be built inside the NMR class itself\n",
    "class sampling_params:\n",
    "    \"\"\"\n",
    "    Class  that contains parameters of time resolution, total propagation time, initial density matrix and the observable to sample \n",
    "    \"\"\"\n",
    "    deltaT1: float  \n",
    "    deltaT2: float\n",
    "    Tpts1: int\n",
    "    Tpts2: int\n",
    "    rho0: jax.Array\n",
    "    coil: jax.Array\n",
    "\n",
    "####Data class to store the specific parameters of protocols..\n",
    "@partial(jax.tree_util.register_dataclass,\n",
    "         data_fields=['Tmix'],\n",
    "         meta_fields=['Lx','Ly']\n",
    ")\n",
    "@dataclass ###TODO: the initial density matrix as well as the observable in the pauli basis can also be built inside the NMR class itself\n",
    "class NOESY_params:\n",
    "    \"\"\"\n",
    "    Class  that contains parameters of time resolution, total propagation time, initial density matrix and the observable to sample \n",
    "    \"\"\"\n",
    "    Tmix: float  \n",
    "    Lx: jax.Array\n",
    "    Ly: jax.Array\n",
    "\n",
    "\n",
    "\n",
    "####Abstract class. Template for the definition of protocols\n",
    "class NMR_protocol(ABC):\n",
    "    \"\"\"\n",
    "    Abstract class for NMR protocols. Required input: pauli basis \n",
    "    \"\"\"\n",
    "    def __init__(self, basis: jax.Array, prot_pars,samp_pars: sampling_params,params: spin_params):\n",
    "\n",
    "        self.spinparams = params\n",
    "        ###Initialize \n",
    "        self.basis = basis\n",
    "        self.coh_ops = get_H0_ops(self.spinparams.Nspins) #TODO: import get_H0_ops from relevant file\n",
    "        \n",
    "        self.samp_params = samp_pars\n",
    "        self.prot_params = prot_pars\n",
    "        \n",
    "          \n",
    "    @abstractmethod\n",
    "    def get_FID(self):\n",
    "        \"\"\"\n",
    "        In self, we can include objects that include all the information to run the protocol\n",
    "        \"\"\"\n",
    "        pass\n",
    "\n",
    "\n",
    "####Particular definitions for protocols...\n",
    "class NOESY(NMR_protocol):\n",
    "\n",
    "    def get_FID(self):\n",
    "        #build_time_evol_op(time,freqs,Jcouplings,B0,freq_offset,tc,coords,gamma,coh_observables,basis,Nspins)\n",
    "\n",
    "        L_dt1 = build_time_evol_op(self.samp_params.deltaT1,self.spinparams.freqs,self.spinparams.Jcouplings,\n",
    "                                   self.spinparams.B0,self.spinparams.freq_offset,self.spinparams.tc,\n",
    "                                   self.spinparams.coords,self.spinparams.gamma,\n",
    "                                   self.coh_ops,self.basis,self.spinparams.Nspins)\n",
    "        \n",
    "        L_dt2 = build_time_evol_op(self.samp_params.deltaT2,self.spinparams.freqs,self.spinparams.Jcouplings,\n",
    "                                   self.spinparams.B0,self.spinparams.freq_offset,self.spinparams.tc,\n",
    "                                   self.spinparams.coords,self.spinparams.gamma,\n",
    "                                   self.coh_ops,self.basis,self.spinparams.Nspins)\n",
    "        \n",
    "        pulse_mix = build_time_evol_op(self.prot_params.Tmix,self.spinparams.freqs,self.spinparams.Jcouplings,\n",
    "                                   self.spinparams.B0,self.spinparams.freq_offset,self.spinparams.tc,\n",
    "                                   self.spinparams.coords,self.spinparams.gamma,\n",
    "                                   self.coh_ops,self.basis,self.spinparams.Nspins)\n",
    "\n",
    "\n",
    "        pulse_90x = expm(-1j*self.prot_params.Lx*np.pi/2)\n",
    "        pulse_90y = expm(-1j*self.prot_params.Ly*np.pi/2)\n",
    "        pulse_90mx = expm(1j*self.prot_params.Lx*np.pi/2)\n",
    "        pulse_90my = expm(1j*self.prot_params.Ly*np.pi/2)\n",
    "\n",
    "\n",
    "        #First 90x pulse:\n",
    "        \n",
    "        rho_t = pulse_90x@self.samp_params.rho0\n",
    "\n",
    "        rho_stack = []\n",
    "        rho_stack.append(rho_t)\n",
    "\n",
    "        rho_temp = jnp.copy(rho_t)\n",
    "        for i in range(1,self.samp_params.Tpts1):\n",
    "            rho_temp = L_dt1@rho_temp\n",
    "            rho_stack.append(rho_temp)\n",
    "\n",
    "\n",
    "        rho_stack1_1 = []\n",
    "        rho_stack1_2 = []\n",
    "        rho_stack1_3 = []\n",
    "        rho_stack1_4 = []\n",
    "\n",
    "        for i in range(self.samp_params.Tpts1):\n",
    "            rho_stack1_1.append(pulse_90y@pulse_mix@pulse_90x@rho_stack[i])\n",
    "            rho_stack1_2.append(pulse_90y@pulse_mix@pulse_90y@rho_stack[i])\n",
    "            rho_stack1_3.append(pulse_90y@pulse_mix@pulse_90mx@rho_stack[i])\n",
    "            rho_stack1_4.append(pulse_90y@pulse_mix@pulse_90my@rho_stack[i])\n",
    "\n",
    "\n",
    "        fid_temp_1 = jnp.zeros([self.samp_params.Tpts2,self.samp_params.Tpts1],dtype=complex)\n",
    "        fid_temp_2 = jnp.zeros([self.samp_params.Tpts2,self.samp_params.Tpts1],dtype=complex)\n",
    "        fid_temp_3 = jnp.zeros([self.samp_params.Tpts2,self.samp_params.Tpts1],dtype=complex)\n",
    "        fid_temp_4 = jnp.zeros([self.samp_params.Tpts2,self.samp_params.Tpts1],dtype=complex)\n",
    "\n",
    "        for i in range(self.samp_params.Tpts1):\n",
    "            rho1 = rho_stack1_1[i]\n",
    "            rho2 = rho_stack1_2[i]\n",
    "            rho3 = rho_stack1_3[i]\n",
    "            rho4 = rho_stack1_4[i]\n",
    "\n",
    "            for j in range(self.samp_params.Tpts2):\n",
    "                fid_temp_1[j,i] = jnp.dot(self.samp_params.coil,rho1)\n",
    "                rho1 = L_dt2@rho1\n",
    "\n",
    "                fid_temp_2[j,i] = jnp.dot(self.samp_params.coil,rho2)\n",
    "                rho2 = L_dt2@rho2\n",
    "\n",
    "                fid_temp_3[j,i] = jnp.dot(self.samp_params.coil,rho3)\n",
    "                rho3 = L_dt2@rho3\n",
    "\n",
    "                fid_temp_4[j,i] = jnp.dot(self.samp_params.coil,rho4)\n",
    "                rho4 = L_dt2@rho4\n",
    "        \n",
    "        return fid_temp_1, fid_temp_2, fid_temp_3, fid_temp_4\n",
    "\n",
    "\n"
   ]
  },
  {
   "cell_type": "code",
   "execution_count": 193,
   "metadata": {},
   "outputs": [],
   "source": [
    "#Getting the NOESY FID for our minimal example...\n",
    "\n",
    "#matrix form of Pauli basis...\n",
    "mat_basis = []\n",
    "\n",
    "for i in range(len(basis)):\n",
    "    sp_op = of.get_sparse_operator(Normbasis[i],n_qubits=Nspins)\n",
    "    mat_basis.append(sp_op.toarray())\n",
    "\n",
    "mat_basis=jnp.array(mat_basis)\n",
    "\n",
    "###TODO: test the NOESY simulations....\n",
    "\n",
    "###default spin parameters\n",
    "spin_pars = spin_params()\n",
    "samp_pars = sampling_params(deltaT1=0.01,deltaT2=0.01,Tpts1=1024,Tpts2=1024,rho0=jnp.ones(16),coil=jnp.ones(16))\n",
    "NOESY_pars = NOESY_params(Tmix=0.2,Lx=jnp.ones([16,16]),Ly=jnp.ones([16,16]))\n",
    "\n",
    "\n",
    "test_noesy = NOESY(mat_basis,NOESY_pars,samp_pars,spin_pars)\n",
    "\n"
   ]
  },
  {
   "cell_type": "code",
   "execution_count": 194,
   "metadata": {},
   "outputs": [
    {
     "ename": "TypeError",
     "evalue": "JAX arrays are immutable and do not support in-place item assignment. Instead of x[idx] = y, use x = x.at[idx].set(y) or another .at[] method: https://jax.readthedocs.io/en/latest/_autosummary/jax.numpy.ndarray.at.html",
     "output_type": "error",
     "traceback": [
      "\u001b[0;31m---------------------------------------------------------------------------\u001b[0m",
      "\u001b[0;31mTypeError\u001b[0m                                 Traceback (most recent call last)",
      "Cell \u001b[0;32mIn[194], line 1\u001b[0m\n\u001b[0;32m----> 1\u001b[0m \u001b[43mtest_noesy\u001b[49m\u001b[38;5;241;43m.\u001b[39;49m\u001b[43mget_FID\u001b[49m\u001b[43m(\u001b[49m\u001b[43m)\u001b[49m\n",
      "Cell \u001b[0;32mIn[192], line 153\u001b[0m, in \u001b[0;36mNOESY.get_FID\u001b[0;34m(self)\u001b[0m\n\u001b[1;32m    150\u001b[0m rho4 \u001b[38;5;241m=\u001b[39m rho_stack1_4[i]\n\u001b[1;32m    152\u001b[0m \u001b[38;5;28;01mfor\u001b[39;00m j \u001b[38;5;129;01min\u001b[39;00m \u001b[38;5;28mrange\u001b[39m(\u001b[38;5;28mself\u001b[39m\u001b[38;5;241m.\u001b[39msamp_params\u001b[38;5;241m.\u001b[39mTpts2):\n\u001b[0;32m--> 153\u001b[0m     \u001b[43mfid_temp_1\u001b[49m\u001b[43m[\u001b[49m\u001b[43mj\u001b[49m\u001b[43m,\u001b[49m\u001b[43mi\u001b[49m\u001b[43m]\u001b[49m \u001b[38;5;241m=\u001b[39m jnp\u001b[38;5;241m.\u001b[39mdot(\u001b[38;5;28mself\u001b[39m\u001b[38;5;241m.\u001b[39msamp_params\u001b[38;5;241m.\u001b[39mcoil,rho1)\n\u001b[1;32m    154\u001b[0m     rho1 \u001b[38;5;241m=\u001b[39m L_dt2\u001b[38;5;129m@rho1\u001b[39m\n\u001b[1;32m    156\u001b[0m     fid_temp_2[j,i] \u001b[38;5;241m=\u001b[39m jnp\u001b[38;5;241m.\u001b[39mdot(\u001b[38;5;28mself\u001b[39m\u001b[38;5;241m.\u001b[39msamp_params\u001b[38;5;241m.\u001b[39mcoil,rho2)\n",
      "File \u001b[0;32m~/pyenvs/qiskit1.1/lib/python3.11/site-packages/jax/_src/numpy/array_methods.py:586\u001b[0m, in \u001b[0;36m_unimplemented_setitem\u001b[0;34m(self, i, x)\u001b[0m\n\u001b[1;32m    582\u001b[0m \u001b[38;5;28;01mdef\u001b[39;00m\u001b[38;5;250m \u001b[39m\u001b[38;5;21m_unimplemented_setitem\u001b[39m(\u001b[38;5;28mself\u001b[39m, i, x):\n\u001b[1;32m    583\u001b[0m   msg \u001b[38;5;241m=\u001b[39m (\u001b[38;5;124m\"\u001b[39m\u001b[38;5;124mJAX arrays are immutable and do not support in-place item assignment.\u001b[39m\u001b[38;5;124m\"\u001b[39m\n\u001b[1;32m    584\u001b[0m          \u001b[38;5;124m\"\u001b[39m\u001b[38;5;124m Instead of x[idx] = y, use x = x.at[idx].set(y) or another .at[] method:\u001b[39m\u001b[38;5;124m\"\u001b[39m\n\u001b[1;32m    585\u001b[0m          \u001b[38;5;124m\"\u001b[39m\u001b[38;5;124m https://jax.readthedocs.io/en/latest/_autosummary/jax.numpy.ndarray.at.html\u001b[39m\u001b[38;5;124m\"\u001b[39m)\n\u001b[0;32m--> 586\u001b[0m   \u001b[38;5;28;01mraise\u001b[39;00m \u001b[38;5;167;01mTypeError\u001b[39;00m(msg\u001b[38;5;241m.\u001b[39mformat(\u001b[38;5;28mtype\u001b[39m(\u001b[38;5;28mself\u001b[39m)))\n",
      "\u001b[0;31mTypeError\u001b[0m: JAX arrays are immutable and do not support in-place item assignment. Instead of x[idx] = y, use x = x.at[idx].set(y) or another .at[] method: https://jax.readthedocs.io/en/latest/_autosummary/jax.numpy.ndarray.at.html"
     ]
    }
   ],
   "source": [
    "test_noesy.get_FID()"
   ]
  },
  {
   "cell_type": "code",
   "execution_count": 181,
   "metadata": {},
   "outputs": [],
   "source": [
    "test_samp_pars = sampling_params(Tpts1=10,Tpts2=10,rho0=jnp.array([1,2]),coil=jnp.array([2,3,4]))\n",
    "\n",
    "NOESY_test = NOESY(mat_basis,test_samp_pars)"
   ]
  },
  {
   "cell_type": "code",
   "execution_count": 182,
   "metadata": {},
   "outputs": [
    {
     "name": "stdout",
     "output_type": "stream",
     "text": [
      "Got here\n",
      "Spin params are: [-3.76417769e+08 -3.76411775e+08]\n"
     ]
    }
   ],
   "source": [
    "NOESY_test.get_FID()"
   ]
  },
  {
   "cell_type": "code",
   "execution_count": null,
   "metadata": {},
   "outputs": [],
   "source": []
  },
  {
   "cell_type": "markdown",
   "metadata": {},
   "source": [
    "# Deprecated "
   ]
  },
  {
   "cell_type": "code",
   "execution_count": 152,
   "metadata": {},
   "outputs": [],
   "source": [
    "####Render basis array in matrix form:\n",
    "\n",
    "mat_basis = []\n",
    "\n",
    "for i in range(len(basis)):\n",
    "    sp_op = of.get_sparse_operator(basis[i],n_qubits=2)\n",
    "    mat_basis.append(sp_op.toarray())\n",
    "\n",
    "mat_basis=jnp.array(mat_basis)\n",
    "\n",
    "J=1.1\n",
    "inter_S = Sz(0)*Sz(1)+Sx(0)*Sx(1)+Sy(0)*Sy(1)\n",
    "\n",
    "sp_inter_S = of.get_sparse_operator(inter_S,n_qubits=2)\n",
    "observables = jnp.array([sp_inter_S.toarray()])\n",
    "theta =jnp.array([J],dtype=complex)\n",
    "\n",
    "H0_array = build_H0_operator(theta, observables, mat_basis)"
   ]
  },
  {
   "cell_type": "code",
   "execution_count": 157,
   "metadata": {},
   "outputs": [
    {
     "data": {
      "text/plain": [
       "Array([[ 0.00000000e+00+0.0000000e+00j],\n",
       "       [-2.30812673e-17-2.9280605e-17j],\n",
       "       [-1.10484595e-33-8.5067082e-34j],\n",
       "       [ 1.30671799e-01+2.1313110e-01j],\n",
       "       [ 2.30812673e-17+2.9280605e-17j],\n",
       "       [ 0.00000000e+00+0.0000000e+00j],\n",
       "       [ 1.79520973e-17+3.7646505e-17j],\n",
       "       [ 2.19923468e-34+2.1410535e-33j],\n",
       "       [ 1.09323381e-33+8.5067082e-34j],\n",
       "       [-1.79520957e-17-3.7646498e-17j],\n",
       "       [ 0.00000000e+00+0.0000000e+00j],\n",
       "       [-1.30671829e-01-2.1313110e-01j],\n",
       "       [-1.30671799e-01-2.1313111e-01j],\n",
       "       [-2.19923468e-34-2.1023191e-33j],\n",
       "       [ 1.30671799e-01+2.1313111e-01j],\n",
       "       [ 0.00000000e+00+0.0000000e+00j]], dtype=complex64)"
      ]
     },
     "execution_count": 157,
     "metadata": {},
     "output_type": "execute_result"
    }
   ],
   "source": [
    "##TODO: verify the differentiability of simulation to a state vector\n",
    "\n",
    "S0S1_pauli = single_comm_superOp(observables[0], mat_basis)\n",
    "eigs,eigvects = np.linalg.eig(S0S1_pauli)\n",
    "\n",
    "#exponentiate_H0(theta, observables, mat_basis)\n",
    "#rho_0 = jnp.ones(len(mat_basis))\n",
    "\n",
    "grad_fn = jax.jacrev(lambda th: exponentiate_H0(th,observables,mat_basis)@eigvects[:,0],holomorphic=True)\n",
    "\n",
    "grad_fn(theta)"
   ]
  },
  {
   "cell_type": "code",
   "execution_count": 173,
   "metadata": {},
   "outputs": [
    {
     "data": {
      "text/plain": [
       "5.575504e-08"
      ]
     },
     "execution_count": 173,
     "metadata": {},
     "output_type": "execute_result"
    }
   ],
   "source": [
    "#S0S1_pauli = single_comm_superOp(observables[0], mat_basis)\n",
    "\n",
    "#eigs,eigvects = np.linalg.eig(S0S1_pauli)\n",
    "\n",
    "\n",
    "#S0S1_pauli@eigvects[:,0]\n",
    "\n",
    "np.linalg.norm(jnp.subtract(jnp.squeeze(-1j*S0S1_pauli@exponentiate_H0(theta,observables,mat_basis)@eigvects[:,0]),jnp.squeeze(grad_fn(theta))))\n"
   ]
  },
  {
   "cell_type": "code",
   "execution_count": 174,
   "metadata": {},
   "outputs": [
    {
     "data": {
      "text/plain": [
       "5.575504e-08"
      ]
     },
     "execution_count": 174,
     "metadata": {},
     "output_type": "execute_result"
    }
   ],
   "source": [
    "np.linalg.norm(jnp.squeeze(-1j*S0S1_pauli@exponentiate_H0(theta,observables,mat_basis)@eigvects[:,0])-jnp.squeeze(grad_fn(theta)))"
   ]
  },
  {
   "cell_type": "code",
   "execution_count": null,
   "metadata": {},
   "outputs": [],
   "source": []
  },
  {
   "cell_type": "code",
   "execution_count": 165,
   "metadata": {},
   "outputs": [
    {
     "data": {
      "text/plain": [
       "(16, 16)"
      ]
     },
     "execution_count": 165,
     "metadata": {},
     "output_type": "execute_result"
    }
   ],
   "source": [
    "np.shape(-1j*S0S1_pauli@exponentiate_H0(theta,observables,mat_basis)@eigvects[:,0]-grad_fn(theta))"
   ]
  },
  {
   "cell_type": "code",
   "execution_count": null,
   "metadata": {},
   "outputs": [],
   "source": []
  },
  {
   "cell_type": "code",
   "execution_count": 163,
   "metadata": {},
   "outputs": [
    {
     "data": {
      "text/plain": [
       "Array([ 0.0000000e+00+0.0000000e+00j, -2.3081267e-17-2.9280612e-17j,\n",
       "       -1.1576580e-33-7.3885624e-34j,  1.3067180e-01+2.1313113e-01j,\n",
       "        2.3081267e-17+2.9280612e-17j,  0.0000000e+00+0.0000000e+00j,\n",
       "        1.7952096e-17+3.7646502e-17j,  4.5299663e-34+1.8881881e-33j,\n",
       "        1.1576580e-33+7.3885624e-34j, -1.7952096e-17-3.7646502e-17j,\n",
       "        0.0000000e+00+0.0000000e+00j, -1.3067180e-01-2.1313113e-01j,\n",
       "       -1.3067180e-01-2.1313113e-01j, -4.5299663e-34-1.8881881e-33j,\n",
       "        1.3067180e-01+2.1313113e-01j,  0.0000000e+00+0.0000000e+00j],      dtype=complex64)"
      ]
     },
     "execution_count": 163,
     "metadata": {},
     "output_type": "execute_result"
    }
   ],
   "source": [
    "-1j*S0S1_pauli@exponentiate_H0(theta,observables,mat_basis)@eigvects[:,0]"
   ]
  },
  {
   "cell_type": "code",
   "execution_count": 156,
   "metadata": {},
   "outputs": [
    {
     "data": {
      "text/plain": [
       "0.0"
      ]
     },
     "execution_count": 156,
     "metadata": {},
     "output_type": "execute_result"
    }
   ],
   "source": [
    "np.linalg.norm(exponentiate_H0(theta,observables,mat_basis)-jax.scipy.linalg.expm(-1j*theta[0]*S0S1_pauli))"
   ]
  },
  {
   "cell_type": "code",
   "execution_count": null,
   "metadata": {},
   "outputs": [],
   "source": []
  },
  {
   "cell_type": "code",
   "execution_count": 139,
   "metadata": {},
   "outputs": [],
   "source": [
    "eigs,eigvects = np.linalg.eig(S0S1_pauli)"
   ]
  },
  {
   "cell_type": "code",
   "execution_count": 140,
   "metadata": {},
   "outputs": [
    {
     "data": {
      "text/plain": [
       "Array([ 0.0000000e+00+0.j,  3.4345770e-17+0.j,  8.6666857e-34+0.j,\n",
       "       -2.4999999e-01+0.j, -3.4345770e-17+0.j,  0.0000000e+00+0.j,\n",
       "       -4.4158848e-17+0.j, -2.2148196e-33+0.j, -8.6666857e-34+0.j,\n",
       "        4.4158848e-17+0.j,  0.0000000e+00+0.j,  2.4999999e-01+0.j,\n",
       "        2.4999999e-01+0.j,  2.2148196e-33+0.j, -2.4999999e-01+0.j,\n",
       "        0.0000000e+00+0.j], dtype=complex64)"
      ]
     },
     "execution_count": 140,
     "metadata": {},
     "output_type": "execute_result"
    }
   ],
   "source": [
    "S0S1_pauli@eigvects[:,0]"
   ]
  },
  {
   "cell_type": "code",
   "execution_count": null,
   "metadata": {},
   "outputs": [],
   "source": [
    "###differentiation of the H0 operator....\n",
    "\n",
    "grad_fn = jax.jacrev(lambda th: build_H0_operator(th, observables, mat_basis),holomorphic=True)\n",
    "grads = grad_fn(theta)\n",
    "\n",
    "\n",
    "\n",
    "\n"
   ]
  },
  {
   "cell_type": "code",
   "execution_count": 119,
   "metadata": {},
   "outputs": [
    {
     "data": {
      "text/plain": [
       "(16, 16, 1)"
      ]
     },
     "execution_count": 119,
     "metadata": {},
     "output_type": "execute_result"
    }
   ],
   "source": [
    "grads.shape"
   ]
  },
  {
   "cell_type": "code",
   "execution_count": 44,
   "metadata": {},
   "outputs": [],
   "source": [
    "####First target: definition of a differentiable function for Linbladian construction from  the input parameters.\n",
    "\n",
    "####Coherent part of the Linbladian....\n",
    "from basis_utils import Sx,Sy,Sz\n",
    "\n",
    "\n",
    "def commutator(A,B):\n",
    "    \"\"\"\n",
    "    Returns: commutators between matrices A and B \n",
    "    \"\"\"\n",
    "\n",
    "    return A@B-B@A\n",
    "\n",
    "\n",
    "def GenH0_Ham(offset,B0,zeeman_scalars,Jcoups,gamma):\n",
    "    \"\"\"\n",
    "    Returns: the zeroth order Hamiltonian considered for dynamical evolution in nthe simulations\n",
    "    Args:\n",
    "    offset: frequency offset for the spin Zeeman frequencies, in Hz\n",
    "    B0: Strength of the magnetic field in Teslas\n",
    "    zeeman_scalars: list of chemical shifts for spins, in ppm\n",
    "    Jcoups: a vector which contains the coupling between the ith and jth spin at index N*i+j, N being the number of spins\n",
    "    gamma: gyromagnetic ratio of the spins (an homonuclear case is assumed) \n",
    "    \"\"\"\n",
    "\n",
    "    #offset = -46681\n",
    "    #B0 = 9.3933\n",
    "    w0 = -gamma*B0\n",
    "    o1 = 2*np.pi*offset\n",
    "    Nspins = len(zeeman_scalars)\n",
    "\n",
    "    Hamiltonian = jnp.zeros([2**(Nspins),2**(Nspins)],dtype=complex)\n",
    "\n",
    "    for i in range(Nspins):\n",
    "        w = o1+w0*zeeman_scalars[i]/1e6\n",
    "\n",
    "        Hamiltonian+=w*of.get_sparse_operator(Sz(i),n_qubits=Nspins).toarray()\n",
    "        for j in range(i+1,Nspins):\n",
    "            idx = i*Nspins+j\n",
    "            print(\"Value of J coupling:\", Jcoups[idx])\n",
    "            \n",
    "            Hamiltonian+=2*jnp.pi*Jcoups[idx]*jnp.array(of.get_sparse_operator(Sx(i)*Sx(j)+Sy(i)*Sy(j)+Sz(i)*Sz(j),n_qubits=Nspins).toarray())\n",
    "    \n",
    "    return Hamiltonian\n",
    "\n",
    "\n",
    "\n",
    "def InnProd_jax(Op1,Op2):\n",
    "    \"\"\" \n",
    "    Op1 and Op2 are JAX arrays\n",
    "    \"\"\"\n",
    "\n",
    "    return jnp.trace(Op1.conj().T@Op2)\n",
    "\n",
    "\n",
    "\n",
    "def HamMatRep(H,basis,n_qubits=2):\n",
    "    N = len(basis)\n",
    "\n",
    "    Matrep= jnp.zeros([N,N],dtype=complex)\n",
    "    for i in range(N):\n",
    "        basis_i = jnp.array(of.get_sparse_operator(basis[i],n_qubits=n_qubits).toarray(),dtype=complex)\n",
    "        for j in range(N):\n",
    "            \n",
    "            basis_j = jnp.array(of.get_sparse_operator(basis[j],n_qubits=n_qubits).toarray(),dtype=complex)\n",
    "\n",
    "            #Matrep[i,j] = InnProd_jax(basis_i,commutator(H,basis_j))\n",
    "            inn_prod = InnProd_jax(basis_i,commutator(H,basis_j))\n",
    "            if np.abs(inn_prod)>0.0:\n",
    "                print(\"Non vanishing matrix element\",inn_prod)\n",
    "\n",
    "                Matrep = Matrep.at[i,j].set(inn_prod)\n",
    "                print(\"The effect on the matrix is:\",Matrep[i,j] )\n",
    "\n",
    "\n",
    "     \n",
    "    return Matrep\n",
    "\n",
    "\n",
    "def H0Ham_jax(offset,B0,zeeman_scalars,Jcoups,gamma,basis):\n",
    "    \"\"\"\n",
    "    Returns: the zeroth order Hamiltonian considered for dynamical evolution in nthe simulations, in the Pauli basis\n",
    "    Args:\n",
    "    offset: frequency offset for the spin Zeeman frequencies, in Hz\n",
    "    B0: Strength of the magnetic field in Teslas\n",
    "    zeeman_scalars: list of chemical shifts for spins, in ppm\n",
    "    Jcoups: matrix of size N x N, N being the number of spins, that encodes the scalar couplings between spins (in Hz)\n",
    "    gamma: gyromagnetic ratio of the spins (an homonuclear case is assumed) \n",
    "    \"\"\"\n",
    "    H_of = GenH0_Ham(offset,B0,zeeman_scalars,Jcoups,gamma)\n",
    "    \n",
    "    n_qubits = len(zeeman_scalars)\n",
    "\n",
    "    H_pauli = HamMatRep(H_of,basis,n_qubits=n_qubits)\n",
    "\n",
    "    return H_pauli\n",
    "\n",
    "\n",
    "def evolve_den_mat(offset,B0,zeeman_scalars,Jcoups,gamma,basis,tau,rho0):\n",
    "\n",
    "    H_coh = H0Ham_jax(offset,B0,zeeman_scalars,Jcoups,gamma,basis)\n",
    "\n",
    "    expmat = jax.scipy.linalg.expm(-1j*tau * H_coh)\n",
    "\n",
    "    return expmat@rho0\n",
    "\n",
    "\n"
   ]
  },
  {
   "cell_type": "code",
   "execution_count": 5,
   "metadata": {},
   "outputs": [],
   "source": [
    "#rho0 = jnp.ones(16)\n",
    "#rho0[0]= 1\n",
    "#rho0[5] =1\n",
    "\n",
    "grad_fn = jax.jacrev(evolve_den_mat,0,holomorphic=True)\n",
    "#grad_fn = jax.jvp(evolve_den_mat,0)\n",
    "\n",
    "#made-up parameters....\n",
    "\n",
    "offset = jnp.array(10.0, dtype=jnp.complex64)\n",
    "B0 = jnp.array(9.3933, dtype=jnp.complex64)  # example value\n",
    "zeeman_scalars = jnp.array([100.0, 200.0], dtype=jnp.complex64)  # example\n",
    "Jcoups = jnp.array([2], dtype=jnp.complex64)\n",
    "gammaF = jnp.array(1.0, dtype=jnp.complex64)  # example value\n",
    "tau = jnp.array(2.0, dtype=jnp.complex64)\n",
    "rho0 = jnp.ones(16, dtype=jnp.complex64)  # assuming it's a matrix, not a vector\n",
    "\n",
    "\n",
    "\n",
    "\n",
    "jacobian = grad_fn(offset,B0,zeeman_scalars,Jcoups,gammaF,basis,tau,rho0)\n",
    "\n"
   ]
  },
  {
   "cell_type": "code",
   "execution_count": 94,
   "metadata": {},
   "outputs": [
    {
     "data": {
      "text/plain": [
       "-0.35355339059327373 [X1] +\n",
       "-0.35355339059327373j [Y1]"
      ]
     },
     "execution_count": 94,
     "metadata": {},
     "output_type": "execute_result"
    }
   ],
   "source": [
    "basis[1]"
   ]
  },
  {
   "cell_type": "code",
   "execution_count": null,
   "metadata": {},
   "outputs": [],
   "source": [
    "####To verify that the framework is working, I will aim to differentiate with respect to one of the J couplings...\n",
    "offset = jnp.array(10.0, dtype=jnp.complex64)\n",
    "B0 = jnp.array(9.3933, dtype=jnp.complex64)  # example value\n",
    "zeeman_scalars = jnp.array([100.0, 200.0], dtype=jnp.complex64)  # example\n",
    "Jcoups = jnp.array([2], dtype=jnp.complex64)\n",
    "gammaF = jnp.array(251814800, dtype=jnp.complex64)  # example value\n",
    "tau = jnp.array(2.0, dtype=jnp.complex64)\n",
    "rho0 = jnp.ones(16, dtype=jnp.complex64)  \n",
    "\n",
    "\n",
    "def scalar_output(Jk_val,k):\n",
    "    Jcoups_mod = Jcoups.at[k].set(Jk_val)\n",
    "    rho = evolve_den_mat(offset, B0, zeeman_scalars, Jcoups_mod, gammaF, basis, tau, rho0)\n",
    "    return rho\n",
    "\n",
    "J_test = jnp.array(1.0,dtype=jnp.complex64)\n",
    "\n",
    "grad_fn_Jcoup = jax.jacrev(scalar_output,holomorphic=True)\n",
    "grad_Jk = grad_fn_Jcoup(J_test,0)\n",
    "\n"
   ]
  },
  {
   "cell_type": "code",
   "execution_count": 45,
   "metadata": {},
   "outputs": [
    {
     "name": "stdout",
     "output_type": "stream",
     "text": [
      "Value of J coupling: (1+0j)\n",
      "Non vanishing matrix element (-1.5707964+0j)\n",
      "The effect on the matrix is: (-1.5707964+0j)\n",
      "Non vanishing matrix element (1.5707964+0j)\n",
      "The effect on the matrix is: (1.5707964+0j)\n",
      "Non vanishing matrix element (-1.5707964+0j)\n",
      "The effect on the matrix is: (-1.5707964+0j)\n",
      "Non vanishing matrix element (1.5707964+0j)\n",
      "The effect on the matrix is: (1.5707964+0j)\n",
      "Non vanishing matrix element (-1.5707964+0j)\n",
      "The effect on the matrix is: (-1.5707964+0j)\n",
      "Non vanishing matrix element (1.5707964+0j)\n",
      "The effect on the matrix is: (1.5707964+0j)\n",
      "Non vanishing matrix element (1.5707964+0j)\n",
      "The effect on the matrix is: (1.5707964+0j)\n",
      "Non vanishing matrix element (-1.5707964+0j)\n",
      "The effect on the matrix is: (-1.5707964+0j)\n",
      "Non vanishing matrix element (-1.5707964+0j)\n",
      "The effect on the matrix is: (-1.5707964+0j)\n",
      "Non vanishing matrix element (1.5707964+0j)\n",
      "The effect on the matrix is: (1.5707964+0j)\n",
      "Non vanishing matrix element (-1.5707964+0j)\n",
      "The effect on the matrix is: (-1.5707964+0j)\n",
      "Non vanishing matrix element (1.5707964+0j)\n",
      "The effect on the matrix is: (1.5707964+0j)\n",
      "Non vanishing matrix element (1.5707964+0j)\n",
      "The effect on the matrix is: (1.5707964+0j)\n",
      "Non vanishing matrix element (-1.5707964+0j)\n",
      "The effect on the matrix is: (-1.5707964+0j)\n",
      "Non vanishing matrix element (1.5707964+0j)\n",
      "The effect on the matrix is: (1.5707964+0j)\n",
      "Non vanishing matrix element (-1.5707964+0j)\n",
      "The effect on the matrix is: (-1.5707964+0j)\n",
      "Non vanishing matrix element (-1.5707964+0j)\n",
      "The effect on the matrix is: (-1.5707964+0j)\n",
      "Non vanishing matrix element (1.5707964+0j)\n",
      "The effect on the matrix is: (1.5707964+0j)\n",
      "Non vanishing matrix element (1.5707964+0j)\n",
      "The effect on the matrix is: (1.5707964+0j)\n",
      "Non vanishing matrix element (-1.5707964+0j)\n",
      "The effect on the matrix is: (-1.5707964+0j)\n",
      "Non vanishing matrix element (1.5707964+0j)\n",
      "The effect on the matrix is: (1.5707964+0j)\n",
      "Non vanishing matrix element (-1.5707964+0j)\n",
      "The effect on the matrix is: (-1.5707964+0j)\n",
      "Non vanishing matrix element (1.5707964+0j)\n",
      "The effect on the matrix is: (1.5707964+0j)\n",
      "Non vanishing matrix element (-1.5707964+0j)\n",
      "The effect on the matrix is: (-1.5707964+0j)\n"
     ]
    }
   ],
   "source": [
    "\n",
    "Jcoups = jnp.array([1.0], dtype=jnp.complex64)\n",
    "zeeman_scalars = jnp.array([0.0, 0.0], dtype=jnp.complex64)\n",
    "offset = jnp.array(0.0, dtype=jnp.complex64)\n",
    "\n",
    "MatRep_SiSj = GenH0_Ham(offset,0.0,zeeman_scalars,Jcoups,0.0)\n",
    "\n",
    "\n",
    "SiSj_paulibasis = HamMatRep(MatRep_SiSj,basis,n_qubits=2)"
   ]
  },
  {
   "cell_type": "code",
   "execution_count": 41,
   "metadata": {},
   "outputs": [
    {
     "data": {
      "text/plain": [
       "0.0"
      ]
     },
     "execution_count": 41,
     "metadata": {},
     "output_type": "execute_result"
    }
   ],
   "source": [
    "np.linalg.norm(SiSj_paulibasis)"
   ]
  },
  {
   "cell_type": "code",
   "execution_count": 34,
   "metadata": {},
   "outputs": [
    {
     "name": "stdout",
     "output_type": "stream",
     "text": [
      "Value of J coupling: (1+0j)\n"
     ]
    },
    {
     "data": {
      "text/plain": [
       "Array([[ 1.5707964+0.j,  0.       +0.j,  0.       +0.j,  0.       +0.j],\n",
       "       [ 0.       +0.j, -1.5707964+0.j,  3.1415927+0.j,  0.       +0.j],\n",
       "       [ 0.       +0.j,  3.1415927+0.j, -1.5707964+0.j,  0.       +0.j],\n",
       "       [ 0.       +0.j,  0.       +0.j,  0.       +0.j,  1.5707964+0.j]],      dtype=complex64)"
      ]
     },
     "execution_count": 34,
     "metadata": {},
     "output_type": "execute_result"
    }
   ],
   "source": [
    "Jcoups = jnp.array([1.0], dtype=jnp.complex64)\n",
    "zeeman_scalars = jnp.array([0.0, 0.0], dtype=jnp.complex64)\n",
    "offset = jnp.array(0.0, dtype=jnp.complex64)\n",
    "\n",
    "GenH0_Ham(offset,0.0,zeeman_scalars,Jcoups,0.0)"
   ]
  },
  {
   "cell_type": "code",
   "execution_count": 36,
   "metadata": {},
   "outputs": [
    {
     "data": {
      "text/plain": [
       "array([[ 1.57079633+0.j,  0.        +0.j,  0.        +0.j,\n",
       "         0.        +0.j],\n",
       "       [ 0.        +0.j, -1.57079633+0.j,  3.14159265+0.j,\n",
       "         0.        +0.j],\n",
       "       [ 0.        +0.j,  3.14159265+0.j, -1.57079633+0.j,\n",
       "         0.        +0.j],\n",
       "       [ 0.        +0.j,  0.        +0.j,  0.        +0.j,\n",
       "         1.57079633+0.j]])"
      ]
     },
     "execution_count": 36,
     "metadata": {},
     "output_type": "execute_result"
    }
   ],
   "source": [
    "i=0\n",
    "j=1\n",
    "\n",
    "\n",
    "2*np.pi*of.get_sparse_operator(Sx(i)*Sx(j)+Sy(i)*Sy(j)+Sz(i)*Sz(j),n_qubits=Nspins).toarray()"
   ]
  },
  {
   "cell_type": "code",
   "execution_count": 24,
   "metadata": {},
   "outputs": [
    {
     "name": "stdout",
     "output_type": "stream",
     "text": [
      "Non vanishing element: (-0.25+0j)\n",
      "Non vanishing element: (0.25+0j)\n",
      "Non vanishing element: (-0.25+0j)\n",
      "Non vanishing element: (0.25+0j)\n",
      "Non vanishing element: (-0.25+0j)\n",
      "Non vanishing element: (0.25+0j)\n",
      "Non vanishing element: (0.25+0j)\n",
      "Non vanishing element: (-0.25+0j)\n",
      "Non vanishing element: (-0.25+0j)\n",
      "Non vanishing element: (0.25+0j)\n",
      "Non vanishing element: (-0.25+0j)\n",
      "Non vanishing element: (0.25+0j)\n",
      "Non vanishing element: (0.25+0j)\n",
      "Non vanishing element: (-0.25+0j)\n",
      "Non vanishing element: (0.25+0j)\n",
      "Non vanishing element: (-0.25+0j)\n",
      "Non vanishing element: (-0.25+0j)\n",
      "Non vanishing element: (0.25+0j)\n",
      "Non vanishing element: (0.25+0j)\n",
      "Non vanishing element: (-0.25+0j)\n",
      "Non vanishing element: (0.25+0j)\n",
      "Non vanishing element: (-0.25+0j)\n",
      "Non vanishing element: (0.25+0j)\n",
      "Non vanishing element: (-0.25+0j)\n"
     ]
    }
   ],
   "source": [
    "for i in range(len(basis)):\n",
    "    for j in range(len(basis)):\n",
    "        test = InnProd_jax(of.get_sparse_operator(basis[j],n_qubits=Nspins).toarray(),commutator(MatRep_SiSj,of.get_sparse_operator(basis[i],n_qubits=Nspins).toarray()))\n",
    "        if np.abs(test)>0.0:\n",
    "            print(\"Non vanishing element:\", test)"
   ]
  },
  {
   "cell_type": "code",
   "execution_count": 17,
   "metadata": {},
   "outputs": [
    {
     "data": {
      "text/plain": [
       "0.8660254037844386"
      ]
     },
     "execution_count": 17,
     "metadata": {},
     "output_type": "execute_result"
    }
   ],
   "source": [
    "np.linalg.norm(MatRep_SiSj)"
   ]
  },
  {
   "cell_type": "code",
   "execution_count": 11,
   "metadata": {},
   "outputs": [
    {
     "data": {
      "text/plain": [
       "Array([1.+0.j, 1.+0.j, 1.+0.j, 1.+0.j, 1.+0.j, 1.+0.j, 1.+0.j, 1.+0.j,\n",
       "       1.+0.j, 1.+0.j, 1.+0.j, 1.+0.j, 1.+0.j, 1.+0.j, 1.+0.j, 1.+0.j],      dtype=complex64)"
      ]
     },
     "execution_count": 11,
     "metadata": {},
     "output_type": "execute_result"
    }
   ],
   "source": [
    "rho0"
   ]
  },
  {
   "cell_type": "code",
   "execution_count": 10,
   "metadata": {},
   "outputs": [
    {
     "data": {
      "text/plain": [
       "Array([1.+0.j, 1.+0.j, 1.+0.j, 1.+0.j, 1.+0.j, 1.+0.j, 1.+0.j, 1.+0.j,\n",
       "       1.+0.j, 1.+0.j, 1.+0.j, 1.+0.j, 1.+0.j, 1.+0.j, 1.+0.j, 1.+0.j],      dtype=complex64)"
      ]
     },
     "execution_count": 10,
     "metadata": {},
     "output_type": "execute_result"
    }
   ],
   "source": [
    "##We compare the result with the anayltical result:\n",
    "\n",
    "\n",
    "evolve_den_mat(offset,B0,zeeman_scalars,Jcoups,gammaF,basis,tau,rho0)\n"
   ]
  },
  {
   "cell_type": "code",
   "execution_count": 8,
   "metadata": {},
   "outputs": [
    {
     "data": {
      "text/plain": [
       "Array(10.+0.j, dtype=complex64)"
      ]
     },
     "execution_count": 8,
     "metadata": {},
     "output_type": "execute_result"
    }
   ],
   "source": [
    "offset"
   ]
  },
  {
   "cell_type": "code",
   "execution_count": null,
   "metadata": {},
   "outputs": [],
   "source": []
  }
 ],
 "metadata": {
  "kernelspec": {
   "display_name": "qiskit1.1",
   "language": "python",
   "name": "python3"
  },
  "language_info": {
   "codemirror_mode": {
    "name": "ipython",
    "version": 3
   },
   "file_extension": ".py",
   "mimetype": "text/x-python",
   "name": "python",
   "nbconvert_exporter": "python",
   "pygments_lexer": "ipython3",
   "version": "3.11.5"
  }
 },
 "nbformat": 4,
 "nbformat_minor": 2
}
