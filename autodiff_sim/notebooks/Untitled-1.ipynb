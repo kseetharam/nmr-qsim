{
 "cells": [
  {
   "cell_type": "code",
   "execution_count": 2,
   "metadata": {},
   "outputs": [
    {
     "name": "stdout",
     "output_type": "stream",
     "text": [
      "Output vector: [1.3838362 -0.02722283j 0.07569441+0.14989974j]\n",
      "Jacobian:\n",
      " [[ 0.13792416-0.2731351j   0.2731351 -0.13792416j  1.3838362 -0.02722283j]\n",
      " [ 0.75946563+0.01494021j  0.01494021+0.7594656j  -0.07569441-0.14989975j]]\n"
     ]
    }
   ],
   "source": [
    "import jax\n",
    "import jax.numpy as jnp\n",
    "from jax import grad, jit\n",
    "from functools import reduce\n",
    "\n",
    "# Example: Define a few constant Hermitian matrices\n",
    "A1 = jnp.array([[0.0, 1.0], [1.0, 0.0]])  # Pauli X\n",
    "A2 = jnp.array([[0.0, -1j], [1j, 0.0]])   # Pauli Y\n",
    "A3 = jnp.array([[1.0, 0.0], [0.0, -1.0]]) # Pauli Z\n",
    "matrices = [A1, A2, A3]\n",
    "\n",
    "# Initial vector\n",
    "v0 = jnp.array([1.0, 0.0])\n",
    "\n",
    "# Function to compute the exponential of each scaled matrix and apply to the vector\n",
    "def mat_exp(theta, A):\n",
    "        return jax.scipy.linalg.expm(theta * A)\n",
    "\n",
    "def apply_exp_chain(thetas, matrices, v):\n",
    "    #def mat_exp(theta, A):\n",
    "    #    return jax.scipy.linalg.expm(theta * A)\n",
    "\n",
    "    # Compute each exp(theta_i * A_i)\n",
    "    exp_matrices = [mat_exp(theta, A) for theta, A in zip(thetas, matrices)]\n",
    "\n",
    "    # Multiply all exponentials in sequence (right-to-left)\n",
    "    total_op = reduce(lambda x, y: x @ y, reversed(exp_matrices))\n",
    "\n",
    "    return total_op @ v\n",
    "\n",
    "# Wrap in a function for autodiff\n",
    "def final_vector(thetas):\n",
    "    return apply_exp_chain(thetas, matrices, v0)\n",
    "\n",
    "# Gradient of output vector (real part) with respect to parameters\n",
    "grad_fn = jax.jacrev(final_vector,holomorphic=True)  # or use jax.grad if scalar output\n",
    "\n",
    "# Example parameters\n",
    "thetas = jnp.array([0.1, 0.2, 0.3],dtype=complex)\n",
    "\n",
    "# Evaluate function and gradient\n",
    "output_vector = final_vector(thetas)\n",
    "jacobian = grad_fn(thetas)\n",
    "\n",
    "print(\"Output vector:\", output_vector)\n",
    "print(\"Jacobian:\\n\", jacobian)\n"
   ]
  },
  {
   "cell_type": "code",
   "execution_count": 3,
   "metadata": {},
   "outputs": [
    {
     "name": "stdout",
     "output_type": "stream",
     "text": [
      "\u001b[0;31mSignature:\u001b[0m\n",
      "\u001b[0mjax\u001b[0m\u001b[0;34m.\u001b[0m\u001b[0mjacrev\u001b[0m\u001b[0;34m(\u001b[0m\u001b[0;34m\u001b[0m\n",
      "\u001b[0;34m\u001b[0m    \u001b[0mfun\u001b[0m\u001b[0;34m:\u001b[0m \u001b[0;34m'Callable'\u001b[0m\u001b[0;34m,\u001b[0m\u001b[0;34m\u001b[0m\n",
      "\u001b[0;34m\u001b[0m    \u001b[0margnums\u001b[0m\u001b[0;34m:\u001b[0m \u001b[0;34m'int | Sequence[int]'\u001b[0m \u001b[0;34m=\u001b[0m \u001b[0;36m0\u001b[0m\u001b[0;34m,\u001b[0m\u001b[0;34m\u001b[0m\n",
      "\u001b[0;34m\u001b[0m    \u001b[0mhas_aux\u001b[0m\u001b[0;34m:\u001b[0m \u001b[0;34m'bool'\u001b[0m \u001b[0;34m=\u001b[0m \u001b[0;32mFalse\u001b[0m\u001b[0;34m,\u001b[0m\u001b[0;34m\u001b[0m\n",
      "\u001b[0;34m\u001b[0m    \u001b[0mholomorphic\u001b[0m\u001b[0;34m:\u001b[0m \u001b[0;34m'bool'\u001b[0m \u001b[0;34m=\u001b[0m \u001b[0;32mFalse\u001b[0m\u001b[0;34m,\u001b[0m\u001b[0;34m\u001b[0m\n",
      "\u001b[0;34m\u001b[0m    \u001b[0mallow_int\u001b[0m\u001b[0;34m:\u001b[0m \u001b[0;34m'bool'\u001b[0m \u001b[0;34m=\u001b[0m \u001b[0;32mFalse\u001b[0m\u001b[0;34m,\u001b[0m\u001b[0;34m\u001b[0m\n",
      "\u001b[0;34m\u001b[0m\u001b[0;34m)\u001b[0m \u001b[0;34m->\u001b[0m \u001b[0;34m'Callable'\u001b[0m\u001b[0;34m\u001b[0m\u001b[0;34m\u001b[0m\u001b[0m\n",
      "\u001b[0;31mDocstring:\u001b[0m\n",
      "Jacobian of ``fun`` evaluated row-by-row using reverse-mode AD.\n",
      "\n",
      "Args:\n",
      "  fun: Function whose Jacobian is to be computed.\n",
      "  argnums: Optional, integer or sequence of integers. Specifies which\n",
      "    positional argument(s) to differentiate with respect to (default ``0``).\n",
      "  has_aux: Optional, bool. Indicates whether ``fun`` returns a pair where the\n",
      "    first element is considered the output of the mathematical function to be\n",
      "    differentiated and the second element is auxiliary data. Default False.\n",
      "  holomorphic: Optional, bool. Indicates whether ``fun`` is promised to be\n",
      "    holomorphic. Default False.\n",
      "  allow_int: Optional, bool. Whether to allow differentiating with\n",
      "    respect to integer valued inputs. The gradient of an integer input will\n",
      "    have a trivial vector-space dtype (float0). Default False.\n",
      "\n",
      "Returns:\n",
      "  A function with the same arguments as ``fun``, that evaluates the Jacobian of\n",
      "  ``fun`` using reverse-mode automatic differentiation. If ``has_aux`` is True\n",
      "  then a pair of (jacobian, auxiliary_data) is returned.\n",
      "\n",
      ">>> import jax\n",
      ">>> import jax.numpy as jnp\n",
      ">>>\n",
      ">>> def f(x):\n",
      "...   return jnp.asarray(\n",
      "...     [x[0], 5*x[2], 4*x[1]**2 - 2*x[2], x[2] * jnp.sin(x[0])])\n",
      "...\n",
      ">>> print(jax.jacrev(f)(jnp.array([1., 2., 3.])))\n",
      "[[ 1.       0.       0.     ]\n",
      " [ 0.       0.       5.     ]\n",
      " [ 0.      16.      -2.     ]\n",
      " [ 1.6209   0.       0.84147]]\n",
      "\u001b[0;31mFile:\u001b[0m      ~/pyenvs/qiskit1.1/lib/python3.11/site-packages/jax/_src/api.py\n",
      "\u001b[0;31mType:\u001b[0m      function"
     ]
    }
   ],
   "source": [
    "jax.jacrev?"
   ]
  },
  {
   "cell_type": "code",
   "execution_count": 12,
   "metadata": {},
   "outputs": [
    {
     "data": {
      "text/plain": [
       "Array([1.3838362 -0.02722283j, 0.07569441+0.14989974j], dtype=complex64)"
      ]
     },
     "execution_count": 12,
     "metadata": {},
     "output_type": "execute_result"
    }
   ],
   "source": [
    "final_vector(thetas)"
   ]
  },
  {
   "cell_type": "code",
   "execution_count": 17,
   "metadata": {},
   "outputs": [
    {
     "data": {
      "text/plain": [
       "Array([1.3838362 -0.02722283j, 0.07569441+0.14989974j], dtype=complex64)"
      ]
     },
     "execution_count": 17,
     "metadata": {},
     "output_type": "execute_result"
    }
   ],
   "source": [
    "#orde in which operations are applied.\n",
    "jax.scipy.linalg.expm(thetas[2]* A3)@jax.scipy.linalg.expm(thetas[1]*A2)@jax.scipy.linalg.expm(thetas[0]*A1)@v0"
   ]
  },
  {
   "cell_type": "code",
   "execution_count": 20,
   "metadata": {},
   "outputs": [
    {
     "data": {
      "text/plain": [
       "Array([ 1.3838362 -0.02722283j, -0.07569441-0.14989974j], dtype=complex64)"
      ]
     },
     "execution_count": 20,
     "metadata": {},
     "output_type": "execute_result"
    }
   ],
   "source": [
    "A3@jax.scipy.linalg.expm(thetas[2]* A3)@jax.scipy.linalg.expm(thetas[1]*A2)@jax.scipy.linalg.expm(thetas[0]*A1)@v0"
   ]
  },
  {
   "cell_type": "code",
   "execution_count": null,
   "metadata": {},
   "outputs": [],
   "source": []
  },
  {
   "cell_type": "code",
   "execution_count": 11,
   "metadata": {},
   "outputs": [
    {
     "name": "stdout",
     "output_type": "stream",
     "text": [
      "\u001b[0;31mSignature:\u001b[0m\n",
      "\u001b[0mjax\u001b[0m\u001b[0;34m.\u001b[0m\u001b[0mjacrev\u001b[0m\u001b[0;34m(\u001b[0m\u001b[0;34m\u001b[0m\n",
      "\u001b[0;34m\u001b[0m    \u001b[0mfun\u001b[0m\u001b[0;34m:\u001b[0m \u001b[0;34m'Callable'\u001b[0m\u001b[0;34m,\u001b[0m\u001b[0;34m\u001b[0m\n",
      "\u001b[0;34m\u001b[0m    \u001b[0margnums\u001b[0m\u001b[0;34m:\u001b[0m \u001b[0;34m'int | Sequence[int]'\u001b[0m \u001b[0;34m=\u001b[0m \u001b[0;36m0\u001b[0m\u001b[0;34m,\u001b[0m\u001b[0;34m\u001b[0m\n",
      "\u001b[0;34m\u001b[0m    \u001b[0mhas_aux\u001b[0m\u001b[0;34m:\u001b[0m \u001b[0;34m'bool'\u001b[0m \u001b[0;34m=\u001b[0m \u001b[0;32mFalse\u001b[0m\u001b[0;34m,\u001b[0m\u001b[0;34m\u001b[0m\n",
      "\u001b[0;34m\u001b[0m    \u001b[0mholomorphic\u001b[0m\u001b[0;34m:\u001b[0m \u001b[0;34m'bool'\u001b[0m \u001b[0;34m=\u001b[0m \u001b[0;32mFalse\u001b[0m\u001b[0;34m,\u001b[0m\u001b[0;34m\u001b[0m\n",
      "\u001b[0;34m\u001b[0m    \u001b[0mallow_int\u001b[0m\u001b[0;34m:\u001b[0m \u001b[0;34m'bool'\u001b[0m \u001b[0;34m=\u001b[0m \u001b[0;32mFalse\u001b[0m\u001b[0;34m,\u001b[0m\u001b[0;34m\u001b[0m\n",
      "\u001b[0;34m\u001b[0m\u001b[0;34m)\u001b[0m \u001b[0;34m->\u001b[0m \u001b[0;34m'Callable'\u001b[0m\u001b[0;34m\u001b[0m\u001b[0;34m\u001b[0m\u001b[0m\n",
      "\u001b[0;31mDocstring:\u001b[0m\n",
      "Jacobian of ``fun`` evaluated row-by-row using reverse-mode AD.\n",
      "\n",
      "Args:\n",
      "  fun: Function whose Jacobian is to be computed.\n",
      "  argnums: Optional, integer or sequence of integers. Specifies which\n",
      "    positional argument(s) to differentiate with respect to (default ``0``).\n",
      "  has_aux: Optional, bool. Indicates whether ``fun`` returns a pair where the\n",
      "    first element is considered the output of the mathematical function to be\n",
      "    differentiated and the second element is auxiliary data. Default False.\n",
      "  holomorphic: Optional, bool. Indicates whether ``fun`` is promised to be\n",
      "    holomorphic. Default False.\n",
      "  allow_int: Optional, bool. Whether to allow differentiating with\n",
      "    respect to integer valued inputs. The gradient of an integer input will\n",
      "    have a trivial vector-space dtype (float0). Default False.\n",
      "\n",
      "Returns:\n",
      "  A function with the same arguments as ``fun``, that evaluates the Jacobian of\n",
      "  ``fun`` using reverse-mode automatic differentiation. If ``has_aux`` is True\n",
      "  then a pair of (jacobian, auxiliary_data) is returned.\n",
      "\n",
      ">>> import jax\n",
      ">>> import jax.numpy as jnp\n",
      ">>>\n",
      ">>> def f(x):\n",
      "...   return jnp.asarray(\n",
      "...     [x[0], 5*x[2], 4*x[1]**2 - 2*x[2], x[2] * jnp.sin(x[0])])\n",
      "...\n",
      ">>> print(jax.jacrev(f)(jnp.array([1., 2., 3.])))\n",
      "[[ 1.       0.       0.     ]\n",
      " [ 0.       0.       5.     ]\n",
      " [ 0.      16.      -2.     ]\n",
      " [ 1.6209   0.       0.84147]]\n",
      "\u001b[0;31mFile:\u001b[0m      ~/anaconda3/lib/python3.11/site-packages/jax/_src/api.py\n",
      "\u001b[0;31mType:\u001b[0m      function"
     ]
    }
   ],
   "source": [
    "jax.jacrev?"
   ]
  },
  {
   "cell_type": "code",
   "execution_count": 10,
   "metadata": {},
   "outputs": [
    {
     "data": {
      "text/plain": [
       "(2, 3)"
      ]
     },
     "execution_count": 10,
     "metadata": {},
     "output_type": "execute_result"
    }
   ],
   "source": [
    "jnp.shape(jacobian)"
   ]
  },
  {
   "cell_type": "code",
   "execution_count": null,
   "metadata": {},
   "outputs": [],
   "source": []
  }
 ],
 "metadata": {
  "kernelspec": {
   "display_name": "qiskit1.1",
   "language": "python",
   "name": "python3"
  },
  "language_info": {
   "codemirror_mode": {
    "name": "ipython",
    "version": 3
   },
   "file_extension": ".py",
   "mimetype": "text/x-python",
   "name": "python",
   "nbconvert_exporter": "python",
   "pygments_lexer": "ipython3",
   "version": "3.11.5"
  }
 },
 "nbformat": 4,
 "nbformat_minor": 2
}
