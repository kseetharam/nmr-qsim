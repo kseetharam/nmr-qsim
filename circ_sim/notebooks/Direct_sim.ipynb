{
 "cells": [
  {
   "cell_type": "code",
   "execution_count": 1,
   "metadata": {},
   "outputs": [],
   "source": [
    "import cirq\n",
    "import openfermion as of\n",
    "import sys\n",
    "sys.path.append('../utils/')\n",
    "from basis_utils import InnProd\n",
    "from qiskit import transpile, QuantumCircuit\n",
    "from qiskit.qasm2 import dumps\n",
    "from cirq.contrib.qasm_import import circuit_from_qasm\n",
    "import scipy\n",
    "from openfermion import QubitOperator\n",
    "from basis_utils import S_plus, S_minus, MatRepLib\n",
    "from basis_utils import read_spinach_info, build_list_ISTs, NormalizeBasis, MatRepLib,Sz,Sx,Sy#,HB_norm\n",
    "from direct_sim_utils import HamMatRep, BuildUCirc, Build2D_circ, Meas_TotMag2\n",
    "\n",
    "import numpy as np\n",
    "import scipy.io as spio\n",
    "from scipy.linalg import expm\n",
    "import copy"
   ]
  },
  {
   "cell_type": "code",
   "execution_count": 2,
   "metadata": {},
   "outputs": [],
   "source": [
    "####These are the Spinach-generated inputs needed for the analytical generation of relaxation matrix...\n",
    "text=\"\"\"1      (0,0)   (0,0)   \n",
    "  2      (0,0)   (1,1)   \n",
    "  3      (0,0)   (1,0)   \n",
    "  4      (0,0)   (1,-1)  \n",
    "  5      (1,1)   (0,0)   \n",
    "  6      (1,1)   (1,1)   \n",
    "  7      (1,1)   (1,0)   \n",
    "  8      (1,1)   (1,-1)  \n",
    "  9      (1,0)   (0,0)   \n",
    "  10     (1,0)   (1,1)   \n",
    "  11     (1,0)   (1,0)   \n",
    "  12     (1,0)   (1,-1)  \n",
    "  13     (1,-1)  (0,0)   \n",
    "  14     (1,-1)  (1,1)   \n",
    "  15     (1,-1)  (1,0)   \n",
    "  16     (1,-1)  (1,-1)  \n",
    "\"\"\"\n",
    "gammaF = 251814800\n",
    "coord1 = np.array([-0.0551,-1.2087,-1.6523])*1e-10\n",
    "coord2 = np.array([-0.8604 ,-2.3200 ,-0.0624])*1e-10\n",
    "\n",
    "coords = np.array([coord1,coord2])\n",
    "\n",
    "w1 = -376417768.6316 \n",
    "w2 = -376411775.1523 \n",
    "freqs = np.array([w1,w2])\n",
    "tc = 0.5255e-9\n",
    "\n",
    "data = read_spinach_info(text)\n",
    "\n",
    "basis = build_list_ISTs(data)\n",
    "\n",
    "Normbasis = NormalizeBasis(basis,n_qubits=2,checkOrth=True)\n",
    "\n",
    "\n",
    "\n",
    "loadMat = spio.loadmat('../data/DFG.mat',squeeze_me=True)\n",
    "\n",
    "AuxMats = spio.loadmat('../data/DFG_NOESYmatrices.mat',squeeze_me=True)\n",
    "\n",
    "\n",
    "Ham = loadMat['p']['H'].item()"
   ]
  },
  {
   "cell_type": "code",
   "execution_count": 3,
   "metadata": {},
   "outputs": [
    {
     "name": "stdout",
     "output_type": "stream",
     "text": [
      "Difference between analytically generated matrx Rep of Hamiltonian and that of Spinach: 6.28069997787362e-07\n"
     ]
    }
   ],
   "source": [
    "offset = -46681\n",
    "B0 = 9.3933\n",
    "zeeman_scalar_1 = -113.8796\n",
    "zeeman_scalar_2 = -129.8002\n",
    "Jcoup = 2*np.pi*238.0633\n",
    "\n",
    "\n",
    "w0 = -gammaF*B0\n",
    "\n",
    "o1 = 2*np.pi*offset\n",
    "w1 = o1+w0*zeeman_scalar_1/1e6\n",
    "w2 = o1+w0*zeeman_scalar_2/1e6\n",
    "\n",
    "#\n",
    "Hamiltonian = w1*Sz(0)+w2*Sz(1)+Jcoup*(Sx(0)*Sx(1)+Sy(0)*Sy(1)+Sz(0)*Sz(1))\n",
    "\n",
    "#Checking that the matrix representation of the Hamiltonian matches that of Spinach...\n",
    "\n",
    "Mat_H = HamMatRep(Hamiltonian,Normbasis)\n",
    "\n",
    "print(\"Difference between analytically generated matrx Rep of Hamiltonian and that of Spinach:\", np.linalg.norm(Mat_H-Ham))"
   ]
  },
  {
   "cell_type": "code",
   "execution_count": 4,
   "metadata": {},
   "outputs": [],
   "source": [
    "#Quick test for computation of expectation values....\n",
    "\n",
    "###Ramping up relaxation rate to detect changes of total magnetization for the timescales of propagation....\n",
    "\n",
    "t2_mod = 1000\n",
    "tmix = 0.5\n",
    "\n",
    "T2_Chan_1 = 2*t2_mod*MatRepLib(Normbasis,Sz(0),Sz(0))\n",
    "\n",
    "Mod_Ham = Ham+1j*T2_Chan_1\n",
    "\n",
    "\n",
    "JumpOp = np.sqrt(2*t2_mod)*Sz(0)\n",
    "\n",
    "#The Hamiltonian to simulate, given the Hermitian character of the jump operator is \n",
    "\n",
    "Heff = Hamiltonian+of.QubitOperator('X2')*JumpOp\n",
    "\n",
    "spHeff = of.get_sparse_operator(Heff,n_qubits=3)\n",
    "\n",
    "deltaT = 1e-4 #we need to use small enough delta values, this is of the order of dt1,dt2\n",
    "\n",
    "dilT1 = np.sqrt(deltaT)\n",
    "dilT2 = np.sqrt(deltaT)\n",
    "diltTmix = np.sqrt(tmix)\n",
    "\n",
    "DilHam_1 = expm(-1j*spHeff.toarray()*dilT1)\n",
    "DilHam_2 = expm(-1j*spHeff.toarray()*dilT2)\n",
    "\n",
    "\n",
    "PropPauliBasis = expm(-1j*Mod_Ham*deltaT)\n",
    "\n",
    "Lx_qub = Sx(0)+Sx(1)\n",
    "Ly_qub = Sy(0)+Sy(1)\n",
    "\n",
    "\n",
    "sp_Lx_qub = of.get_sparse_operator(Lx_qub,n_qubits=3)\n",
    "sp_Ly_qub = of.get_sparse_operator(Ly_qub,n_qubits=3)\n",
    "pulse_90x_direct = expm(-1j*(np.pi/2.0)*sp_Lx_qub.toarray())\n",
    "pulse_90y_direct =  expm(-1j*(np.pi/2)*sp_Ly_qub.toarray())\n",
    "pulse_90mx_direct = expm(1j*(np.pi/2.0)*sp_Lx_qub.toarray())\n",
    "pulse_90my_direct = expm(1j*(np.pi/2.0)*sp_Ly_qub.toarray())\n",
    "pulse_mix_direct = expm(-1j*spHeff.toarray()*diltTmix)\n",
    "\n",
    "#unitary that includes the first pulse as part of state preparation, notice that we need to sample over different initial states, determined by a thermal distribution...\n",
    "#Unitary = Unitary_Ham@pulse_90x_direct\n",
    "\n",
    "#TODO: 1) construct the \"time-snapshots\" for propagation at different times of the magnetization\n",
    "#2) ensemble average these estimations according to the initial distribution\n",
    "#3) compare with a reference value...\n",
    "\n"
   ]
  },
  {
   "cell_type": "code",
   "execution_count": null,
   "metadata": {},
   "outputs": [],
   "source": [
    "\n",
    "t1_steps = 0\n",
    "t2_steps = 0\n",
    "tmix_steps = 1\n",
    "allqubits = cirq.LineQubit.range(3)\n",
    "anc_register = allqubits[2:3]\n",
    "CircInit = BuildUCirc(np.eye(2**(3)),allqubits)\n",
    "\n",
    "CircPulse_90x = BuildUCirc(pulse_90x_direct,allqubits)\n",
    "CircPulse_90y = BuildUCirc(pulse_90y_direct,allqubits)\n",
    "CircPulse_90mx = BuildUCirc(pulse_90mx_direct,allqubits)\n",
    "CircPulse_90my = BuildUCirc(pulse_90my_direct,allqubits)\n",
    "\n",
    "#For debugging purposes....\n",
    "\n",
    "\n",
    "TestFID_1CircX, TestFID_1CircY = Build2D_circ(t1_steps,t2_steps,tmix_steps,CircInit,DilHam_1,DilHam_2,CircPulse_90x,CircPulse_90x,CircPulse_90y,allqubits,anc_register)"
   ]
  },
  {
   "cell_type": "code",
   "execution_count": null,
   "metadata": {},
   "outputs": [
    {
     "name": "stdout",
     "output_type": "stream",
     "text": [
      "Expect value for spin 0 is -0.16\n",
      "Expect value for spin 1 is -0.08\n"
     ]
    },
    {
     "data": {
      "text/plain": [
       "np.float64(-0.24)"
      ]
     },
     "execution_count": 6,
     "metadata": {},
     "output_type": "execute_result"
    }
   ],
   "source": [
    "###Estimate the total magntization along X...\n",
    "Meas_TotMag2(TestFID_1CircY,allqubits,2,100)"
   ]
  },
  {
   "cell_type": "code",
   "execution_count": null,
   "metadata": {},
   "outputs": [],
   "source": []
  },
  {
   "cell_type": "code",
   "execution_count": null,
   "metadata": {},
   "outputs": [],
   "source": []
  }
 ],
 "metadata": {
  "kernelspec": {
   "display_name": "Python (qiskit1.1)",
   "language": "python",
   "name": "qiskit1.1"
  },
  "language_info": {
   "codemirror_mode": {
    "name": "ipython",
    "version": 3
   },
   "file_extension": ".py",
   "mimetype": "text/x-python",
   "name": "python",
   "nbconvert_exporter": "python",
   "pygments_lexer": "ipython3",
   "version": "3.11.5"
  }
 },
 "nbformat": 4,
 "nbformat_minor": 2
}
