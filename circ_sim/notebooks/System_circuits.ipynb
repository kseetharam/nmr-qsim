{
 "cells": [
  {
   "cell_type": "code",
   "execution_count": 58,
   "metadata": {},
   "outputs": [],
   "source": [
    "###Exploring the actual circuit implementations for simulation of NMR spectra\n",
    "\n",
    "import openfermion as of\n",
    "\n",
    "import sys\n",
    "sys.path.append('./utils/')\n",
    "\n",
    "from basis_utils import Sz,Sx,Sz, Sy\n",
    "\n",
    "import cirq\n",
    "import numpy as np"
   ]
  },
  {
   "cell_type": "code",
   "execution_count": 94,
   "metadata": {},
   "outputs": [],
   "source": [
    "def ExpZstring(qub_reg,qub_idxs,angle):\n",
    "    \"\"\"\n",
    "    Implementation of a exp(-i(\\theta/2)*Z_idx1 * Z_idx2 * ... * Z_idxN), where idxs represent the indices within the qubit register over which the circuit is implemented \n",
    "    \"\"\"\n",
    "\n",
    "    #It is assmued that indices are sorted from smallest to largest...\n",
    "\n",
    "    circuit = cirq.Circuit()\n",
    "    Length = len(qub_idxs)\n",
    "\n",
    "    for i in range(Length-1):\n",
    "        circuit.append(cirq.CNOT(qub_reg[qub_idxs[i]], qub_reg[qub_idxs[i+1]]))\n",
    "\n",
    "    circuit.append(cirq.rz(angle)(qub_reg[qub_idxs[Length-1]]))\n",
    "\n",
    "    #reversing CNOTS:\n",
    "    for i in range(Length-1):\n",
    "        circuit.append(cirq.CNOT(qub_reg[qub_idxs[Length-2-i]], qub_reg[qub_idxs[Length-1-i]]))\n",
    "\n",
    "    return circuit\n",
    "\n",
    "def ExpYstring(qub_reg,qub_idxs,angle):\n",
    "\n",
    "    circuit = cirq.Circuit()\n",
    "    Length = len(qub_idxs)\n",
    "    \n",
    "    for i in range(Length):\n",
    "        circuit.append(cirq.rx(np.pi/2)(qub_reg[qub_idxs[i]]))\n",
    "    \n",
    "    circ_ph = ExpZstring(qub_reg,qub_idxs,angle)\n",
    "\n",
    "    circuit.append(circ_ph)\n",
    "\n",
    "    for i in range(Length):\n",
    "        circuit.append(cirq.rx(-np.pi/2)(qub_reg[qub_idxs[i]]))\n",
    "\n",
    "    return circuit\n",
    "\n",
    "\n",
    "def ExpXstring(qub_reg,qub_idxs,angle):\n",
    "\n",
    "    circuit = cirq.Circuit()\n",
    "    Length = len(qub_idxs)\n",
    "    \n",
    "    for i in range(Length):\n",
    "        circuit.append(cirq.ry(np.pi/2)(qub_reg[qub_idxs[i]]))\n",
    "    \n",
    "    circ_ph = ExpZstring(qub_reg,qub_idxs,angle)\n",
    "\n",
    "    circuit.append(circ_ph)\n",
    "\n",
    "    for i in range(Length):\n",
    "        circuit.append(cirq.ry(-np.pi/2)(qub_reg[qub_idxs[i]]))\n",
    "\n",
    "    return circuit\n",
    "\n",
    "\n",
    "def Heis_int_circ(qub_reg,qub_idxs,angle):\n",
    "\n",
    "    \n",
    "\n",
    "    circuit = cirq.Circuit()\n",
    "\n",
    "    #splitting the interaction into ZZ, YY and XX:\n",
    "    ZZ = ExpZstring(qub_reg,qub_idxs,angle)\n",
    "    YY = ExpYstring(qub_reg,qub_idxs,angle)\n",
    "    XX = ExpXstring(qub_reg,qub_idxs,angle)\n",
    "\n",
    "    #print(YY)\n",
    "    circuit.append(ZZ)\n",
    "    circuit.append(YY)\n",
    "    circuit.append(XX)\n",
    "\n",
    "    \n",
    "    return circuit\n",
    "\n",
    "def sing_anc_jump_op(x_idx,z_idxs,qub_reg,angle):\n",
    "    \"\"\"\n",
    "    Args:\n",
    "    x_idx, integer that denotes the index of the X operator\n",
    "    z_idxs, array of 2 indices, that account for the jump operator \n",
    "    \"\"\"\n",
    "    \n",
    "    circuit = cirq.Circuit()\n",
    "\n",
    "    circuit.append(cirq.H(qub_reg[x_idx]))\n",
    "\n",
    "    tot_idxs = np.concatenate((np.array([x_idx]),z_idxs))\n",
    "    tot_idxs = np.sort(tot_idxs)\n",
    "\n",
    "    circ_ph = ExpZstring(qub_reg,tot_idxs,angle)\n",
    "\n",
    "    circuit.append(circ_ph)\n",
    "\n",
    "    circuit.append(cirq.H(qub_reg[x_idx]))\n",
    "\n",
    "    return circuit\n",
    "\n",
    "\n",
    "def ZstrXstr(z_idxs,x_idxs,qub_reg,angle):\n",
    "    \n",
    "    circuit = cirq.Circuit()\n",
    "    x_length = len(x_idxs)\n",
    "\n",
    "    #we combine and sort the z_idxs and x_idxs\n",
    "    tot_idxs = np.concatenate((z_idxs,x_idxs))\n",
    "    tot_idxs = np.sort(tot_idxs)\n",
    "    \n",
    "    for i in range(x_length):\n",
    "        circuit.append(cirq.ry(np.pi/2)(qub_reg[x_idxs[i]]))\n",
    "    \n",
    "    circ_ph = ExpZstring(qub_reg,tot_idxs,angle)\n",
    "\n",
    "    circuit.append(circ_ph)\n",
    "\n",
    "    for i in range(x_length):\n",
    "        circuit.append(cirq.ry(-np.pi/2)(qub_reg[x_idxs[i]]))\n",
    "\n",
    "    return circuit\n",
    "\n",
    "def ZstrYstr(z_idxs,y_idxs,qub_reg,angle):\n",
    "    \n",
    "    circuit = cirq.Circuit()\n",
    "    x_length = len(y_idxs)\n",
    "\n",
    "    #we combine and sort the z_idxs and x_idxs\n",
    "    tot_idxs = np.concatenate((z_idxs,y_idxs))\n",
    "    tot_idxs = np.sort(tot_idxs)\n",
    "    \n",
    "    for i in range(x_length):\n",
    "        circuit.append(cirq.ry(np.pi/2)(qub_reg[y_idxs[i]]))\n",
    "    \n",
    "    circ_ph = ExpZstring(qub_reg,tot_idxs,angle)\n",
    "\n",
    "    circuit.append(circ_ph)\n",
    "\n",
    "    for i in range(x_length):\n",
    "        circuit.append(cirq.ry(-np.pi/2)(qub_reg[y_idxs[i]]))\n",
    "\n",
    "    return circuit\n",
    "\n",
    "\n",
    "\n",
    "def ZstringHeisInt(z_idxs,sys_idxs,qub_reg,angle):\n",
    "\n",
    "    #using indexes of \"system\" for XX term:\n",
    "    circuit = cirq.Circuit()\n",
    "\n",
    "    Zs_XX = ZstrXstr(z_idxs,sys_idxs,qub_reg,angle)\n",
    "    Zs_YY = ZstrYstr(z_idxs,sys_idxs,qub_reg,angle)\n",
    "\n",
    "    tot_idxs = np.concatenate((z_idxs,sys_idxs))\n",
    "    tot_idxs = np.sort(tot_idxs)\n",
    "\n",
    "    Zs_ZZ = ExpZstring(qub_reg,tot_idxs,angle)\n",
    "\n",
    "    circuit.append(Zs_ZZ)\n",
    "    circuit.append(Zs_YY)\n",
    "    circuit.append(Zs_XX)\n",
    "\n",
    "    return circuit\n",
    "\n",
    "\n",
    "\n"
   ]
  },
  {
   "cell_type": "code",
   "execution_count": 95,
   "metadata": {},
   "outputs": [],
   "source": [
    "###Constructing DFG circuit \"by hand\"1\n",
    "\n",
    "#TODO: change these parameters for the corresponding ones later\n",
    "\n",
    "dt = 0.1\n",
    "sqrtdt= np.sqrt(dt)\n",
    "w1 = 10.0\n",
    "w2 = 5.0\n",
    "ws = [w1,w2]\n",
    "J12 = 0.2\n",
    "\n",
    "J_mat = np.zeros([2,2])\n",
    "J_mat[0,1] = J12\n",
    "\n",
    "####Construction  of each of the layers of circuit for a qdrift implementation...\n",
    "\n",
    "###Linear qubit register...\n",
    "qubs = cirq.LineQubit.range(3)\n",
    "\n",
    "###These correspond to the \\omega S_{z} terms....\n",
    "ListWZs = []\n",
    "for i in range(2):\n",
    "    ListWZs.append(cirq.rz(sqrtdt*ws[i]/2)(qubs[i]))\n",
    "\n",
    "###General form to construct the circuit for Heisenberg interactions...\n",
    "ListInts= []\n",
    "for i in range(2):\n",
    "    for j in range(i+1,2):\n",
    "        Heis_int_circ(qubs,np.array([i,j]),J_mat[i,j]*sqrtdt/2.0)\n",
    "\n",
    "\n",
    "\n",
    "\n",
    "\n"
   ]
  },
  {
   "cell_type": "code",
   "execution_count": null,
   "metadata": {},
   "outputs": [],
   "source": [
    "\n"
   ]
  },
  {
   "cell_type": "code",
   "execution_count": 96,
   "metadata": {},
   "outputs": [
    {
     "data": {
      "text/plain": [
       "[cirq.Rz(rads=1.5811388300841898).on(cirq.LineQubit(0)),\n",
       " cirq.Rz(rads=0.7905694150420949).on(cirq.LineQubit(1))]"
      ]
     },
     "execution_count": 96,
     "metadata": {},
     "output_type": "execute_result"
    }
   ],
   "source": [
    "\n",
    "ListWZs"
   ]
  },
  {
   "cell_type": "code",
   "execution_count": 97,
   "metadata": {},
   "outputs": [
    {
     "data": {
      "text/plain": [
       "[]"
      ]
     },
     "execution_count": 97,
     "metadata": {},
     "output_type": "execute_result"
    }
   ],
   "source": [
    "ListInts"
   ]
  },
  {
   "cell_type": "code",
   "execution_count": 87,
   "metadata": {},
   "outputs": [
    {
     "data": {
      "text/html": [
       "<pre style=\"overflow: auto; white-space: pre;\">0: ───────@────────────────────────@───\n",
       "          │                        │\n",
       "1: ───────X───@────────────────@───X───\n",
       "              │                │\n",
       "2: ───H───────X───Rz(0.318π)───X───H───</pre>"
      ],
      "text/plain": [
       "0: ───────@────────────────────────@───\n",
       "          │                        │\n",
       "1: ───────X───@────────────────@───X───\n",
       "              │                │\n",
       "2: ───H───────X───Rz(0.318π)───X───H───"
      ]
     },
     "execution_count": 87,
     "metadata": {},
     "output_type": "execute_result"
    }
   ],
   "source": [
    "qubs = cirq.LineQubit.range(3)\n",
    "circuit = cirq.Circuit()\n",
    "\n",
    "#qub_idxs = [0,1]#\n",
    "z_idxs = np.array([2],dtype=int)\n",
    "sys_idxs = np.array([0,1],dtype=int)\n",
    "angle=1.0\n",
    "\n",
    "\n",
    "#Heis_int_circ(qubs,qub_idxs,angle)\n",
    "\n",
    "#ExpZstring(qubs,qub_idxs,angle)\n",
    "#ZstringHeisInt(z_idxs,sys_idxs,qubs,angle)\n",
    "sing_anc_jump_op(2,sys_idxs,qubs,angle)"
   ]
  },
  {
   "cell_type": "code",
   "execution_count": 78,
   "metadata": {},
   "outputs": [
    {
     "data": {
      "text/plain": [
       "array([0, 1])"
      ]
     },
     "execution_count": 78,
     "metadata": {},
     "output_type": "execute_result"
    }
   ],
   "source": [
    "sys_idxs"
   ]
  },
  {
   "cell_type": "code",
   "execution_count": 77,
   "metadata": {},
   "outputs": [
    {
     "ename": "TypeError",
     "evalue": "only integer scalar arrays can be converted to a scalar index",
     "output_type": "error",
     "traceback": [
      "\u001b[0;31m---------------------------------------------------------------------------\u001b[0m",
      "\u001b[0;31mTypeError\u001b[0m                                 Traceback (most recent call last)",
      "Cell \u001b[0;32mIn[77], line 1\u001b[0m\n\u001b[0;32m----> 1\u001b[0m \u001b[43mnp\u001b[49m\u001b[38;5;241;43m.\u001b[39;49m\u001b[43mconcatenate\u001b[49m\u001b[43m(\u001b[49m\u001b[43mz_idxs\u001b[49m\u001b[43m,\u001b[49m\u001b[43msys_idxs\u001b[49m\u001b[43m)\u001b[49m\n",
      "\u001b[0;31mTypeError\u001b[0m: only integer scalar arrays can be converted to a scalar index"
     ]
    }
   ],
   "source": [
    "np.concatenate(z_idxs,sys_idxs)"
   ]
  },
  {
   "cell_type": "code",
   "execution_count": 33,
   "metadata": {},
   "outputs": [],
   "source": [
    "qubs = cirq.LineQubit.range(7)\n",
    "circuit = cirq.Circuit()"
   ]
  },
  {
   "cell_type": "code",
   "execution_count": 34,
   "metadata": {},
   "outputs": [],
   "source": [
    "test = cirq.rz(2)\n",
    "#circuit.append(test.on(qubs[1]))\n",
    "circuit.append(cirq.rz(2)(qubs[0]))"
   ]
  },
  {
   "cell_type": "code",
   "execution_count": 36,
   "metadata": {},
   "outputs": [
    {
     "data": {
      "text/plain": [
       "0.6366197723675814"
      ]
     },
     "execution_count": 36,
     "metadata": {},
     "output_type": "execute_result"
    }
   ],
   "source": [
    "2/np.pi"
   ]
  },
  {
   "cell_type": "code",
   "execution_count": 35,
   "metadata": {},
   "outputs": [
    {
     "data": {
      "text/html": [
       "<pre style=\"overflow: auto; white-space: pre;\">0: ───Rz(0.637π)───</pre>"
      ],
      "text/plain": [
       "0: ───Rz(0.637π)───"
      ]
     },
     "execution_count": 35,
     "metadata": {},
     "output_type": "execute_result"
    }
   ],
   "source": [
    "circuit"
   ]
  },
  {
   "cell_type": "code",
   "execution_count": 30,
   "metadata": {},
   "outputs": [
    {
     "data": {
      "text/html": [
       "<pre style=\"overflow: auto; white-space: pre;\">0: ───Rz(0.25π)────\n",
       "\n",
       "1: ───Rz(0.637π)───</pre>"
      ],
      "text/plain": [
       "0: ───Rz(0.25π)────\n",
       "\n",
       "1: ───Rz(0.637π)───"
      ]
     },
     "execution_count": 30,
     "metadata": {},
     "output_type": "execute_result"
    }
   ],
   "source": [
    "circuit"
   ]
  },
  {
   "cell_type": "code",
   "execution_count": 27,
   "metadata": {},
   "outputs": [
    {
     "name": "stdout",
     "output_type": "stream",
     "text": [
      "0: ───Rz(0.25π)───\n"
     ]
    }
   ],
   "source": [
    "import cirq\n",
    "import numpy as np\n",
    "\n",
    "# Create a qubit\n",
    "qubit = cirq.LineQubit(0)\n",
    "\n",
    "# Initialize a circuit\n",
    "circuit = cirq.Circuit()\n",
    "\n",
    "# Apply an Rz rotation with a specific angle (e.g., theta = π/4)\n",
    "theta = np.pi / 4\n",
    "circuit.append(cirq.rz(theta)(qubit))\n",
    "\n",
    "# Print the circuit\n",
    "print(circuit)\n"
   ]
  },
  {
   "cell_type": "code",
   "execution_count": null,
   "metadata": {},
   "outputs": [],
   "source": []
  }
 ],
 "metadata": {
  "kernelspec": {
   "display_name": "BQSKit",
   "language": "python",
   "name": "python3"
  },
  "language_info": {
   "codemirror_mode": {
    "name": "ipython",
    "version": 3
   },
   "file_extension": ".py",
   "mimetype": "text/x-python",
   "name": "python",
   "nbconvert_exporter": "python",
   "pygments_lexer": "ipython3",
   "version": "3.11.5"
  }
 },
 "nbformat": 4,
 "nbformat_minor": 2
}
