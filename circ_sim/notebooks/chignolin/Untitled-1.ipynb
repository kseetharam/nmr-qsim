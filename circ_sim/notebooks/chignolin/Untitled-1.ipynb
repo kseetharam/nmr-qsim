{
 "cells": [
  {
   "cell_type": "code",
   "execution_count": 1,
   "metadata": {},
   "outputs": [],
   "source": [
    "import numpy as np\n",
    "import scipy.io as spio\n",
    "\n",
    "import numpy as np\n",
    "import matplotlib.pyplot as plt\n",
    "from mpl_toolkits.mplot3d import Axes3D\n",
    "\n",
    "import sys\n",
    "sys.path.append('../../utils/')\n",
    "\n",
    "from analytical_fit import Get_Det_And_Rates\n",
    "from basis_utils import Sx,Sy,Sz"
   ]
  },
  {
   "cell_type": "code",
   "execution_count": 2,
   "metadata": {},
   "outputs": [],
   "source": [
    "def get_coords(filename):\n",
    "\n",
    "    loadMat = spio.loadmat(filename,squeeze_me=True)\n",
    "\n",
    "    coords = loadMat['spin_system']['inter'].item()['coordinates'].item()\n",
    "\n",
    "    rep_coords = np.zeros([len(coords),3])\n",
    "\n",
    "    for i in range(len(coords)):\n",
    "        \n",
    "        rep_coords[i,:] = coords[i]\n",
    "\n",
    "    return rep_coords\n",
    "\n",
    "\n",
    "def get_zeemanfreqs(filename):\n",
    "    \"\"\"\n",
    "    Get zeeman frequencies as the average of the zeeman frequency tensors for each spin \n",
    "    \"\"\"\n",
    "\n",
    "    loadMat = spio.loadmat(filename,squeeze_me=True)\n",
    "    zeem_mats = loadMat['spin_system']['inter'].item()['zeeman'].item()['matrix'].item()\n",
    "\n",
    "    freqs = np.zeros(len(zeem_mats))\n",
    "\n",
    "    for i in range(len(freqs)):\n",
    "        freqs[i] = np.trace(zeem_mats[i])/3.0\n",
    "\n",
    "    return freqs\n",
    "\n",
    "def get_chemshifts(filename):\n",
    "    \"\"\"\n",
    "    Return list of chemical shifts in rad s-1 for all nuclei, zero-ing the lowest-frequency spins \n",
    "    \"\"\"\n",
    "    \n",
    "    zeemanfreqs = get_zeemanfreqs(filename)\n",
    "\n",
    "    Nspins = len(zeemanfreqs)\n",
    "\n",
    "    min_freq = np.min(zeemanfreqs)\n",
    "\n",
    "    return zeemanfreqs-min_freq\n",
    "\n",
    "\n",
    "def get_Jcouplings(filename):\n",
    "\n",
    "\n",
    "    loadcoups = spio.loadmat(filename,squeeze_me=True)\n",
    "\n",
    "    testJmat = loadcoups['Couplings']['inter'].item()['coupling'].item()['scalar'].item()\n",
    "    testC = loadcoups['Couplings']['carbon13'].item()\n",
    "    testN = loadcoups['Couplings']['nitrogen15'].item()\n",
    "    testD = loadcoups['Couplings']['deuterons'].item()\n",
    "    testsum = testC+testN+testD\n",
    "\n",
    "    rm_idxs = np.where(testsum == 1)[0]\n",
    "\n",
    "    filt_mat = np.delete(testJmat,rm_idxs, axis=0)\n",
    "    filt_mat = np.delete(filt_mat,rm_idxs,axis=1)\n",
    "\n",
    "    ###Cleaning up the matrix of J couplings....\n",
    "    \n",
    "    for i in range(filt_mat.shape[0]):\n",
    "        for j in range(filt_mat.shape[1]):\n",
    "            if isinstance(filt_mat[i, j], np.ndarray):\n",
    "                filt_mat[i, j] = 0.0\n",
    "\n",
    "\n",
    "    return filt_mat\n",
    "\n"
   ]
  },
  {
   "cell_type": "code",
   "execution_count": 110,
   "metadata": {},
   "outputs": [],
   "source": [
    "ching_sys = '../../../matlab_analysis/small_spin_systems/chignolin.mat'\n",
    "ching_inter = '../../../matlab_analysis/small_spin_systems/chignolin_inter.mat'\n",
    "\n",
    "ching_sysmat = spio.loadmat(ching_sys,squeeze_me=True)\n",
    "ching_intermat = spio.loadmat(ching_inter,squeeze_me=True)\n",
    "\n",
    "###Extracting the J couplings from the loaded file...\n",
    "\n",
    "Jcoupmat = ching_intermat['inter']['coupling'].item()['scalar'].item()\n",
    "\n",
    "formJcoupmat = np.zeros_like(Jcoupmat,dtype=float)\n",
    "\n",
    "for i in range(Jcoupmat.shape[0]):\n",
    "        for j in range(Jcoupmat.shape[1]):\n",
    "\n",
    "            test = isinstance(Jcoupmat[i, j], np.ndarray)\n",
    "            if not test:\n",
    "                #filt_mat[i, j] = 0.0\n",
    "                #print(Jcoupmat[i,j])\n",
    "                #print(type(float(Jcoupmat[i,j])))\n",
    "                formJcoupmat[i,j] = float(Jcoupmat[i,j])\n",
    "            else:\n",
    "                formJcoupmat[i,j] = 0.0\n"
   ]
  },
  {
   "cell_type": "code",
   "execution_count": 104,
   "metadata": {},
   "outputs": [],
   "source": [
    "#for i in range(formJcoupmat.shape[0]):\n",
    "#    for j in range(formJcoupmat.shape[1]):\n",
    "        #print(type(formJcoupmat[i,j]))\n"
   ]
  },
  {
   "cell_type": "code",
   "execution_count": 112,
   "metadata": {},
   "outputs": [
    {
     "data": {
      "text/plain": [
       "<matplotlib.colorbar.Colorbar at 0x13886f290>"
      ]
     },
     "execution_count": 112,
     "metadata": {},
     "output_type": "execute_result"
    },
    {
     "data": {
      "image/png": "[encoded data removed]",
      "text/plain": [
       "<Figure size 640x480 with 2 Axes>"
      ]
     },
     "metadata": {},
     "output_type": "display_data"
    }
   ],
   "source": [
    "plt.imshow(np.abs(formJcoupmat), cmap='viridis', interpolation='nearest')\n",
    "# Add a color bar to sh-1j*ow the scale\n",
    "\n",
    "plt.colorbar()"
   ]
  },
  {
   "cell_type": "code",
   "execution_count": 133,
   "metadata": {},
   "outputs": [
    {
     "data": {
      "text/plain": [
       "12.899956488053935"
      ]
     },
     "execution_count": 133,
     "metadata": {},
     "output_type": "execute_result"
    }
   ],
   "source": [
    "nonzerolist = []\n",
    "for i in range(formJcoupmat.shape[0]):\n",
    "    for j in range(formJcoupmat.shape[1]):\n",
    "        if formJcoupmat[i,j] != 0.0:\n",
    "            nonzerolist.append(formJcoupmat[i,j])\n",
    "\n",
    "\n",
    "np.max(np.abs(nonzerolist))"
   ]
  },
  {
   "cell_type": "code",
   "execution_count": 139,
   "metadata": {},
   "outputs": [],
   "source": [
    "import openfermion as of"
   ]
  },
  {
   "cell_type": "code",
   "execution_count": null,
   "metadata": {},
   "outputs": [],
   "source": []
  },
  {
   "cell_type": "code",
   "execution_count": 136,
   "metadata": {},
   "outputs": [
    {
     "data": {
      "text/plain": [
       "522.2442207363357"
      ]
     },
     "execution_count": 136,
     "metadata": {},
     "output_type": "execute_result"
    }
   ],
   "source": [
    "np.sum(np.abs(formJcoupmat))"
   ]
  },
  {
   "cell_type": "code",
   "execution_count": 144,
   "metadata": {},
   "outputs": [
    {
     "data": {
      "text/plain": [
       "1.9157088122605364"
      ]
     },
     "execution_count": 144,
     "metadata": {},
     "output_type": "execute_result"
    }
   ],
   "source": [
    "1000/522"
   ]
  },
  {
   "cell_type": "code",
   "execution_count": 145,
   "metadata": {},
   "outputs": [
    {
     "data": {
      "text/plain": [
       "41.76001770624751"
      ]
     },
     "execution_count": 145,
     "metadata": {},
     "output_type": "execute_result"
    }
   ],
   "source": [
    "80/1.915708"
   ]
  },
  {
   "cell_type": "code",
   "execution_count": 134,
   "metadata": {},
   "outputs": [
    {
     "data": {
      "text/plain": [
       "12.899956488053935"
      ]
     },
     "execution_count": 134,
     "metadata": {},
     "output_type": "execute_result"
    }
   ],
   "source": [
    "np.max(np.abs(formJcoupmat))"
   ]
  },
  {
   "cell_type": "code",
   "execution_count": 135,
   "metadata": {},
   "outputs": [
    {
     "data": {
      "text/plain": [
       "0.07751937984496124"
      ]
     },
     "execution_count": 135,
     "metadata": {},
     "output_type": "execute_result"
    }
   ],
   "source": [
    "1/12.9"
   ]
  },
  {
   "cell_type": "code",
   "execution_count": 132,
   "metadata": {},
   "outputs": [
    {
     "data": {
      "text/plain": [
       "77.51937984496124"
      ]
     },
     "execution_count": 132,
     "metadata": {},
     "output_type": "execute_result"
    }
   ],
   "source": [
    "1000/12.9"
   ]
  },
  {
   "cell_type": "code",
   "execution_count": 143,
   "metadata": {},
   "outputs": [
    {
     "data": {
      "text/plain": [
       "[(0, 1, 12.0),\n",
       " (2, 3, 7.364298564186566),\n",
       " (3, 4, 3.379670199003643),\n",
       " (3, 5, 12.899956488053935),\n",
       " (4, 5, 12.0),\n",
       " (6, 8, 10.2),\n",
       " (7, 9, 10.2),\n",
       " (10, 11, 5.623267280903999),\n",
       " (11, 12, 2.834734859173328),\n",
       " (11, 13, 12.824592187651575),\n",
       " (12, 13, 12.0),\n",
       " (14, 15, 2.3564074291375205),\n",
       " (14, 16, 8.502571025497721),\n",
       " (15, 16, 12.0),\n",
       " (17, 15, 7.678992506862097),\n",
       " (17, 16, 7.614117003598883),\n",
       " (17, 18, 12.0),\n",
       " (17, 19, 8.051462598860798),\n",
       " (17, 20, 6.9394483482079945),\n",
       " (18, 15, 4.713054557461944),\n",
       " (18, 16, 7.681059325815575),\n",
       " (18, 19, 5.143833995884075),\n",
       " (18, 20, 8.013750059636088),\n",
       " (19, 20, 12.0),\n",
       " (21, 22, 4.22054531420266),\n",
       " (22, 23, 1.734994554188244),\n",
       " (22, 24, 11.150838162198996),\n",
       " (23, 24, 12.0),\n",
       " (25, 23, 5.012761001800483),\n",
       " (25, 24, 6.802723081307943),\n",
       " (25, 26, 12.0),\n",
       " (26, 23, 8.019796515074262),\n",
       " (26, 24, 5.002630367132356),\n",
       " (27, 28, 9.526330347830193),\n",
       " (28, 29, 5.425227846646206),\n",
       " (30, 29, 4.485545340437076),\n",
       " (30, 31, 12.0),\n",
       " (30, 32, 12.0),\n",
       " (31, 29, 6.990157362293302),\n",
       " (31, 32, 12.0),\n",
       " (32, 29, 8.358183882337027),\n",
       " (33, 34, 4.901284576962015),\n",
       " (33, 35, 8.064805729664041),\n",
       " (34, 35, 12.0),\n",
       " (36, 37, 6.693089553458508),\n",
       " (37, 38, 2.8208298952154314),\n",
       " (39, 38, 6.023344429449335),\n",
       " (39, 40, 12.0),\n",
       " (39, 41, 12.0),\n",
       " (40, 38, 4.76184572303454),\n",
       " (40, 41, 12.0),\n",
       " (41, 38, 9.037769229609715),\n",
       " (42, 43, 5.272277590153193),\n",
       " (43, 44, 11.188905699500978),\n",
       " (43, 45, 6.692750089995029),\n",
       " (44, 45, 12.0),\n",
       " (46, 47, 3.64),\n",
       " (48, 50, 11.09),\n",
       " (51, 49, 10.87),\n",
       " (51, 50, 9.41),\n",
       " (52, 53, 2.8763189875102033),\n",
       " (52, 54, 6.150049026398262),\n",
       " (53, 54, 12.0)]"
      ]
     },
     "execution_count": 143,
     "metadata": {},
     "output_type": "execute_result"
    }
   ],
   "source": [
    "edges"
   ]
  },
  {
   "cell_type": "code",
   "execution_count": 126,
   "metadata": {},
   "outputs": [
    {
     "data": {
      "image/png": "[encoded data removed]",
      "text/plain": [
       "<Figure size 640x480 with 1 Axes>"
      ]
     },
     "metadata": {},
     "output_type": "display_data"
    }
   ],
   "source": [
    "import networkx as nx\n",
    "\n",
    "A = np.copy(np.abs(formJcoupmat))\n",
    "\n",
    "edges = [(i, j, A[i][j]) for i in range(len(A)) for j in range(len(A)) if A[i][j] > 0]\n",
    "G = nx.Graph()\n",
    "G.add_weighted_edges_from(edges)\n",
    "\n",
    "pos = nx.spring_layout(G)\n",
    "nx.draw(G, pos, with_labels=True, node_color='lightblue', node_size=80,font_size=5)\n",
    "edge_labels = {(i, j): f\"{w:.1f}\" for i, j, w in edges}\n",
    "#nx.draw_networkx_edge_labels(G, pos, edge_labels=edge_labels)\n",
    "nx.draw_networkx_edge_labels(G, pos, edge_labels=edge_labels, font_size=2)\n",
    "plt.show()\n"
   ]
  },
  {
   "cell_type": "code",
   "execution_count": null,
   "metadata": {},
   "outputs": [],
   "source": []
  },
  {
   "cell_type": "code",
   "execution_count": 114,
   "metadata": {},
   "outputs": [
    {
     "data": {
      "text/plain": [
       "0.0"
      ]
     },
     "execution_count": 114,
     "metadata": {},
     "output_type": "execute_result"
    }
   ],
   "source": [
    "np.trace(formJcoupmat)"
   ]
  },
  {
   "cell_type": "code",
   "execution_count": 113,
   "metadata": {},
   "outputs": [
    {
     "name": "stdout",
     "output_type": "stream",
     "text": [
      "0.0\n",
      "0.0\n",
      "0.0\n",
      "0.0\n",
      "0.0\n",
      "0.0\n",
      "0.0\n",
      "0.0\n",
      "0.0\n",
      "0.0\n",
      "0.0\n",
      "0.0\n",
      "0.0\n",
      "0.0\n",
      "0.0\n",
      "0.0\n",
      "0.0\n",
      "0.0\n",
      "0.0\n",
      "0.0\n",
      "0.0\n",
      "0.0\n",
      "0.0\n",
      "0.0\n",
      "0.0\n",
      "0.0\n",
      "0.0\n",
      "0.0\n",
      "0.0\n",
      "0.0\n",
      "0.0\n",
      "0.0\n",
      "0.0\n",
      "0.0\n",
      "0.0\n",
      "0.0\n",
      "0.0\n",
      "0.0\n",
      "0.0\n",
      "0.0\n",
      "0.0\n",
      "0.0\n",
      "0.0\n",
      "0.0\n",
      "0.0\n",
      "0.0\n",
      "0.0\n",
      "0.0\n",
      "0.0\n",
      "0.0\n",
      "0.0\n",
      "0.0\n",
      "0.0\n",
      "0.0\n",
      "0.0\n"
     ]
    }
   ],
   "source": [
    "for i in range(formJcoupmat.shape[0]):\n",
    "    print(formJcoupmat[i,i])"
   ]
  },
  {
   "cell_type": "code",
   "execution_count": null,
   "metadata": {},
   "outputs": [],
   "source": []
  }
 ],
 "metadata": {
  "kernelspec": {
   "display_name": "qiskit1.1",
   "language": "python",
   "name": "python3"
  },
  "language_info": {
   "codemirror_mode": {
    "name": "ipython",
    "version": 3
   },
   "file_extension": ".py",
   "mimetype": "text/x-python",
   "name": "python",
   "nbconvert_exporter": "python",
   "pygments_lexer": "ipython3",
   "version": "3.11.5"
  }
 },
 "nbformat": 4,
 "nbformat_minor": 2
}
