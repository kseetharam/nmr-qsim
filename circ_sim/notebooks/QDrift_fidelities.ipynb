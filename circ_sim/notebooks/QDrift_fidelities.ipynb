{
 "cells": [
  {
   "cell_type": "code",
   "execution_count": 5,
   "metadata": {},
   "outputs": [],
   "source": [
    "###Providing numerical evidence of the fidelity of a QDrift channel to reproduce spectrum in Alanine in either the longest time scale of the protocol (mixing time)\n",
    "# or both the mixing time and t1/t2 timescales...\n",
    "\n",
    "#TODO: fix the QDrift channel formulation!\n",
    "\n",
    "import openfermion as of\n",
    "\n",
    "import sys\n",
    "sys.path.append('./utils/')\n",
    "\n",
    "from basis_utils import Sz,Sx,Sz, Sy\n",
    "from basis_utils import read_spinach_info, build_list_ISTs, NormalizeBasis, build_symbolic_list_ISTs, MatRepLib\n",
    "from simulation_utils import GenH0_Ham, HamMatRep, GenNOESYSpectrum, sqcosbell_2d_apod, GenFIDsignals\n",
    "import scipy.io as spio\n",
    "#from \n",
    "from scipy.linalg import expm\n",
    "import cirq\n",
    "import numpy as np\n",
    "from matplotlib import pyplot as plt\n",
    "from scipy.io import savemat\n",
    "import pickle\n",
    "\n",
    "from matplotlib.colors import TwoSlopeNorm\n",
    "\n"
   ]
  },
  {
   "cell_type": "code",
   "execution_count": 6,
   "metadata": {},
   "outputs": [],
   "source": [
    "from scipy.linalg import sqrtm\n",
    "\n",
    "#calculation o0f square roots in the Pauli basis \n",
    "\n",
    "#####Function to compute fidelities between density matrices...\n",
    "#def Fid_DenMat(rho,sigma):\n",
    "#    sqrt_\n",
    "\n",
    "\n",
    "# QDrift implementation.\n",
    "\n",
    "def Samp_Gates(ListGates,List_weights,N):\n",
    "    #Return a QDrift product formula that simulates a target time T using N samples drawn from the probability distribution...\n",
    "\n",
    "    Gamma = np.sum(List_weights)\n",
    "    prob_dist = (1.0/Gamma)*np.array(List_weights)\n",
    "\n",
    "    #Draw a sample of size N for the implementation of the product formula...\n",
    "    values = np.arange(len(ListGates))\n",
    "    samples = np.random.choice(values, size=N, p=prob_dist)\n",
    "    \n",
    "    #print(\"Indixes of gates sampled:\",samples)\n",
    "    drawn_jumps = []\n",
    "    for i in range(len(samples)):\n",
    "        if samples[i]!=0:\n",
    "            drawn_jumps.append(samples[i])\n",
    "\n",
    "    print(\"Indices of jump operators drwan during construction of QDrift channel\", drawn_jumps)\n",
    "\n",
    "    ProdF = np.copy(ListGates[samples[0]])\n",
    "    for i in range(1,N):\n",
    "        ProdF=ListGates[samples[i]]@ProdF\n",
    "\n",
    "    return ProdF\n",
    "\n",
    "\n",
    "def Normalize_and_weightOps(ListOps):\n",
    "    \"\"\"\n",
    "    ListOps contains the generators of evolution, either the representation of the coherent part of evolution or the jump operators \n",
    "    \"\"\"\n",
    "    List_weights=[]\n",
    "\n",
    "    for i in range(len(ListOps)):\n",
    "        List_weights.append(np.max(np.abs(np.linalg.eigvals(ListOps[i]))))\n",
    "\n",
    "    #Normalize the operator according to the weights...\n",
    "    Norm_ops =[]\n",
    "\n",
    "    for i in range(len(ListOps)):\n",
    "        Norm_ops.append(ListOps[i]/List_weights[i])\n",
    "\n",
    "    return Norm_ops, List_weights\n",
    "\n",
    "\n",
    "def QDrift(H0,List_jumps,T,N):\n",
    "\n",
    "\n",
    "    Norm_ops, List_weights= Normalize_and_weightOps([H0]+List_jumps)\n",
    "\n",
    "    ###Definition of gates...\n",
    "    List_Gates = []\n",
    "\n",
    "    #for i in range(len(List_jumps)):\n",
    "    #    List_weights.append(rates[i])\n",
    "    Gamma = np.sum(np.array(List_weights))\n",
    "\n",
    "    deltaT = T*Gamma/N\n",
    "\n",
    "    #List_Gates.append(expm(-1j*H0*deltaT))\n",
    "\n",
    "    for i in range(len(Norm_ops)):\n",
    "        if i==0:###I assume that the first element of the operators correspond to H0!!!\n",
    "            List_Gates.append(expm(-1j*Norm_ops[i]*deltaT))\n",
    "        else:\n",
    "            List_Gates.append(expm(Norm_ops[i]*deltaT))\n",
    "        \n",
    "\n",
    "    ProdF = Samp_Gates(List_Gates,List_weights,N)\n",
    "\n",
    "    return ProdF\n",
    "\n",
    "\n",
    "def QDriftChann(List_gens,time_evol):\n",
    "    \"\"\"\n",
    "    Args:\n",
    "    List_gens: list of the generators of the time evolution, it is assumed that the first element is H_{0}\n",
    "    list_probs: list of the corresponding probabilities to sample the exponentials of generators\n",
    "    Gamma: sum of the weights of each of the normalized operators\n",
    "    time_evol: the time for which we perform the propagation\n",
    "    \"\"\"\n",
    "\n",
    "    Norm_ops, List_weights = Normalize_and_weightOps(List_gens)\n",
    "\n",
    "    List_weights = np.array(List_weights)\n",
    "    Gamma =  np.sum(List_weights)\n",
    "\n",
    "    pks = (1.0/Gamma)*List_weights\n",
    "\n",
    "    Qdrift_chann = pks[0]*expm(-1j*Norm_ops[0]*time_evol*Gamma)\n",
    "    for i in range(1,len(pks)):\n",
    "        Qdrift_chann = pks[i]*expm(Norm_ops[i]*time_evol*Gamma)\n",
    "\n",
    "    return Qdrift_chann\n",
    "\n",
    "\n",
    "def ProbSingleJumpLayers(List_gens,SingProbs,time_evol,Nsteps):\n",
    "\n",
    "    deltT = time_evol/Nsteps\n",
    "    \n",
    "    JumpEv_ops = []\n",
    "    for i in range(1,len(List_gens)):\n",
    "        JumpEv_ops.append(expm(List_gens[i]*deltT))\n",
    "\n",
    "\n",
    "    Glob_diss_chann = np.zeros_like(JumpEv_ops[0])\n",
    "\n",
    "    for n in range(Nsteps):\n",
    "        R_Op = expm(-1j*n*deltT*List_gens[0])\n",
    "        L_Op = expm(-1j*(Nsteps-n-1)*deltT*List_gens[0])\n",
    "\n",
    "        for k in range(len(SingProbs)):\n",
    "            Glob_diss_chann+=SingProbs[k]*L_Op@JumpEv_ops[k]@R_Op\n",
    "\n",
    "    return Glob_diss_chann\n",
    "\n",
    "\n",
    "\n",
    "def eff_QDriftChann_OneJump(List_gens,time_evol,NSteps):\n",
    "    \"\"\"\n",
    "    Calculation of an effective QDrift channel. Based on the observation that the action of jump operators are in essence rare events \n",
    "    \"\"\"\n",
    "    Norm_ops, List_weights = Normalize_and_weightOps(List_gens)\n",
    "\n",
    "    List_weights = np.array(List_weights)\n",
    "    Gamma =  np.sum(List_weights)\n",
    "\n",
    "    pks = (1.0/Gamma)*List_weights\n",
    "\n",
    "    Eff_probs = np.zeros(len(List_gens))\n",
    "\n",
    "    Eff_probs[0] = pks[0]**(NSteps) #probability of sampling coherent evolution only\n",
    "\n",
    "    for i in range(1,len(Eff_probs)):\n",
    "        Eff_probs[i] = pks[0]**(NSteps-1) * pks[i] #probability of sampling a circuit with NSteps-1 layers of H0 and one jump operator\n",
    "    \n",
    "    #Glob_Chann = Eff_probs[0]*expm(-1j*List_gens[0]*time_evol)\n",
    "    Glob_Chann = Eff_probs[0]*expm(-1j*Norm_ops[0]*time_evol*Gamma)\n",
    "\n",
    "    #Glob_Chann = Glob_Chann+ProbSingleJumpLayers(List_gens,Eff_probs[1:],time_evol,NSteps)\n",
    "\n",
    "    Glob_Chann = Glob_Chann+ProbSingleJumpLayers(Norm_ops,Eff_probs[1:],time_evol*Gamma,NSteps)\n",
    "    return Glob_Chann\n",
    "\n",
    "\n",
    "def eff_QDriftChann_InitJump(List_gens,time_evol,NSteps):\n",
    "    \"\"\"\n",
    "    Calculation of an effective QDrift channel. Based on the observation that the action of jump operators are in essence rare events \n",
    "    \"\"\"\n",
    "    Norm_ops, List_weights = Normalize_and_weightOps(List_gens)\n",
    "\n",
    "    List_weights = np.array(List_weights)\n",
    "    Gamma =  np.sum(List_weights)\n",
    "\n",
    "    pks = (1.0/Gamma)*List_weights\n",
    "\n",
    "    Eff_probs = np.zeros(len(List_gens))\n",
    "\n",
    "    Eff_probs[0] = pks[0]**(NSteps) #probability of sampling coherent evolution only\n",
    "\n",
    "    for i in range(1,len(Eff_probs)):\n",
    "        Eff_probs[i] = pks[0]**(NSteps-1) * pks[i] #probability of sampling a circuit with NSteps-1 layers of H0 and one jump operator\n",
    "    \n",
    "    #Glob_Chann = Eff_probs[0]*expm(-1j*List_gens[0]*time_evol)\n",
    "    Glob_Chann = Eff_probs[0]*expm(-1j*Norm_ops[0]*time_evol*Gamma)\n",
    "\n",
    "    for i in range(1,len(Eff_probs)):\n",
    "        Glob_Chann = Glob_Chann + NSteps*Eff_probs[i]*expm(-1j*Norm_ops[0]*(time_evol/NSteps)*Gamma*(NSteps-1))*expm(Norm_ops[i]*(time_evol/NSteps)*Gamma)\n",
    "\n",
    "    #Glob_Chann =Glob_Chann + Eff_probs[0]\n",
    "\n",
    "    #Glob_Chann = Glob_Chann+ProbSingleJumpLayers(List_gens,Eff_probs[1:],time_evol,NSteps)\n",
    "\n",
    "    #Glob_Chann = Glob_Chann+ProbSingleJumpLayers(Norm_ops,Eff_probs[1:],time_evol*Gamma,NSteps)\n",
    "    return Glob_Chann\n",
    "\n",
    "\n",
    "###Generation of QDrift-based NOESY spectrum..\n",
    "\n",
    "def GenFID_TmixQDriftsignals(Ham,List_jumps,T1,T2,rho0,coil,tmix,dt1,dt2,Ntmix,Lx,Ly):\n",
    "    \"\"\"\n",
    "    Implement a first-order deterministic Trotter simulation of the FID NOESY signals, to numerically explore optimization of number of Trotter steps needed in the simulation\n",
    "    for a target precision\n",
    "    Args:\n",
    "    Ham: matrix representation of the \"coherent\" part of the Liouvillian superoperator\n",
    "    List_jumps: list of the matrix representation of the jump operators\n",
    "    T1: maximal simulation time for the first phase of the protocol\n",
    "    T2: maximal simulation time for the second phase of the protocol\n",
    "    rho0: initial density matrix vector\n",
    "    coil: vector that represents the obervable we trace over to compute FID\n",
    "    Ntmix: number of samples to drawn in QDrift for the simulation of the system for tmix\n",
    "    \"\"\"\n",
    "    #This is the convention for our Trotter step: apply first the coherent part of the super-Liouvillian operator, followed by the jump operators in the order they appear in the array...\n",
    "    R = sum(List_jumps)\n",
    "\n",
    "    L_dt1 = expm((-1j*Ham+R)*dt1)\n",
    "\n",
    "    L_dt2 = expm((-1j*Ham+R)*dt2)\n",
    "\n",
    "    Tpts1 = int(np.floor(T1/dt1))\n",
    "    Tpts2 = int(np.floor(T2/dt2))\n",
    "\n",
    "    print(\"Number of Trotter steps for deterministic simulation of T1\",Tpts1)\n",
    "    print(\"Number of Trotter steps for deterministic simulation of T2\",Tpts2)\n",
    "    print(\"Number of Trotter steps for QDrift simulation of tmix\", Ntmix)\n",
    "    \n",
    "    pulse_mix = eff_QDriftChann_OneJump([Ham]+List_jumps,tmix,Ntmix)\n",
    "    #QDriftChann([Ham]+List_jumps,tmix)\n",
    "    #for i in range(Ntmix):\n",
    "    #    pulse_mix = L_dtmix@pulse_mix\n",
    "\n",
    "    print(\"Difference between Trotterized pulse_mix and reference pulse_mix:\", np.linalg.norm(pulse_mix-expm((-1j*Ham+R)*tmix)))\n",
    "\n",
    "\n",
    "    pulse_90x = expm(-1j*Lx*np.pi/2)\n",
    "    pulse_90y = expm(-1j*Ly*np.pi/2)\n",
    "    pulse_90mx = expm(1j*Lx*np.pi/2)\n",
    "    pulse_90my = expm(1j*Ly*np.pi/2)\n",
    "\n",
    "    #First 90x pulse:\n",
    "    rho_t = np.copy(rho0)\n",
    "    rho_t = np.dot(pulse_90x,rho_t)\n",
    "\n",
    "    rho_stack = []\n",
    "    rho_stack.append(rho_t)\n",
    "\n",
    "    rho_temp = np.copy(rho_t)\n",
    "    for i in range(1,Tpts1):\n",
    "        rho_temp = np.dot(L_dt1,rho_temp)\n",
    "        rho_stack.append(rho_temp)\n",
    "\n",
    "\n",
    "    rho_stack1_1 = []\n",
    "    rho_stack1_2 = []\n",
    "    rho_stack1_3 = []\n",
    "    rho_stack1_4 = []\n",
    "\n",
    "    for i in range(Tpts1):\n",
    "        rho_stack1_1.append(pulse_90y@pulse_mix@pulse_90x@rho_stack[i])\n",
    "        rho_stack1_2.append(pulse_90y@pulse_mix@pulse_90y@rho_stack[i])\n",
    "        rho_stack1_3.append(pulse_90y@pulse_mix@pulse_90mx@rho_stack[i])\n",
    "        rho_stack1_4.append(pulse_90y@pulse_mix@pulse_90my@rho_stack[i])\n",
    "\n",
    "\n",
    "    fid_temp_1 = np.zeros([Tpts2,Tpts1],dtype=complex)\n",
    "    fid_temp_2 = np.zeros([Tpts2,Tpts1],dtype=complex)\n",
    "    fid_temp_3 = np.zeros([Tpts2,Tpts1],dtype=complex)\n",
    "    fid_temp_4 = np.zeros([Tpts2,Tpts1],dtype=complex)\n",
    "\n",
    "    for i in range(Tpts1):\n",
    "        rho1 = rho_stack1_1[i]\n",
    "        rho2 = rho_stack1_2[i]\n",
    "        rho3 = rho_stack1_3[i]\n",
    "        rho4 = rho_stack1_4[i]\n",
    "\n",
    "        for j in range(Tpts2):\n",
    "            fid_temp_1[j,i] = np.dot(coil,rho1)\n",
    "            rho1 = L_dt2@rho1\n",
    "\n",
    "            fid_temp_2[j,i] = np.dot(coil,rho2)\n",
    "            rho2 = L_dt2@rho2\n",
    "\n",
    "            fid_temp_3[j,i] = np.dot(coil,rho3)\n",
    "            rho3 = L_dt2@rho3\n",
    "\n",
    "            fid_temp_4[j,i] = np.dot(coil,rho4)\n",
    "            rho4 = L_dt2@rho4\n",
    "    \n",
    "    return fid_temp_1, fid_temp_2, fid_temp_3, fid_temp_4\n",
    "\n",
    "\n",
    "def GenFID_TmixQDrift_cohT1T2(Ham,List_jumps,T1,T2,rho0,coil,tmix,dt1,dt2,Ntmix,Lx,Ly):\n",
    "    \"\"\"\n",
    "    Implement a first-order deterministic Trotter simulation of the FID NOESY signals, to numerically explore optimization of number of Trotter steps needed in the simulation\n",
    "    for a target precision\n",
    "    Args:\n",
    "    Ham: matrix representation of the \"coherent\" part of the Liouvillian superoperator\n",
    "    List_jumps: list of the matrix representation of the jump operators\n",
    "    T1: maximal simulation time for the first phase of the protocol\n",
    "    T2: maximal simulation time for the second phase of the protocol\n",
    "    rho0: initial density matrix vector\n",
    "    coil: vector that represents the obervable we trace over to compute FID\n",
    "    Ntmix: number of samples to drawn in QDrift for the simulation of the system for tmix\n",
    "    \"\"\"\n",
    "    \n",
    "    R = sum(List_jumps)\n",
    "\n",
    "    #In this version, we drop the dissipation channels of the evolution during T1 and T2\n",
    "    L_dt1 = expm((-1j*Ham)*dt1)\n",
    "\n",
    "    L_dt2 = expm((-1j*Ham)*dt2)\n",
    "\n",
    "    Tpts1 = int(np.floor(T1/dt1))\n",
    "    Tpts2 = int(np.floor(T2/dt2))\n",
    "\n",
    "    print(\"Number of Trotter steps for deterministic simulation of T1\",Tpts1)\n",
    "    print(\"Number of Trotter steps for deterministic simulation of T2\",Tpts2)\n",
    "    print(\"Number of Trotter steps for QDrift simulation of tmix\", Ntmix)\n",
    "    \n",
    "    pulse_mix = eff_QDriftChann_OneJump([Ham]+List_jumps,tmix,Ntmix)\n",
    "    #QDriftChann([Ham]+List_jumps,tmix)\n",
    "    #for i in range(Ntmix):\n",
    "    #    pulse_mix = L_dtmix@pulse_mix\n",
    "\n",
    "    print(\"Difference between Trotterized pulse_mix and reference pulse_mix:\", np.linalg.norm(pulse_mix-expm((-1j*Ham+R)*tmix)))\n",
    "\n",
    "\n",
    "    pulse_90x = expm(-1j*Lx*np.pi/2)\n",
    "    pulse_90y = expm(-1j*Ly*np.pi/2)\n",
    "    pulse_90mx = expm(1j*Lx*np.pi/2)\n",
    "    pulse_90my = expm(1j*Ly*np.pi/2)\n",
    "\n",
    "    #First 90x pulse:\n",
    "    rho_t = np.copy(rho0)\n",
    "    rho_t = np.dot(pulse_90x,rho_t)\n",
    "\n",
    "    rho_stack = []\n",
    "    rho_stack.append(rho_t)\n",
    "\n",
    "    rho_temp = np.copy(rho_t)\n",
    "    for i in range(1,Tpts1):\n",
    "        rho_temp = np.dot(L_dt1,rho_temp)\n",
    "        rho_stack.append(rho_temp)\n",
    "\n",
    "\n",
    "    rho_stack1_1 = []\n",
    "    rho_stack1_2 = []\n",
    "    rho_stack1_3 = []\n",
    "    rho_stack1_4 = []\n",
    "\n",
    "    for i in range(Tpts1):\n",
    "        rho_stack1_1.append(pulse_90y@pulse_mix@pulse_90x@rho_stack[i])\n",
    "        rho_stack1_2.append(pulse_90y@pulse_mix@pulse_90y@rho_stack[i])\n",
    "        rho_stack1_3.append(pulse_90y@pulse_mix@pulse_90mx@rho_stack[i])\n",
    "        rho_stack1_4.append(pulse_90y@pulse_mix@pulse_90my@rho_stack[i])\n",
    "\n",
    "\n",
    "    fid_temp_1 = np.zeros([Tpts2,Tpts1],dtype=complex)\n",
    "    fid_temp_2 = np.zeros([Tpts2,Tpts1],dtype=complex)\n",
    "    fid_temp_3 = np.zeros([Tpts2,Tpts1],dtype=complex)\n",
    "    fid_temp_4 = np.zeros([Tpts2,Tpts1],dtype=complex)\n",
    "\n",
    "    for i in range(Tpts1):\n",
    "        rho1 = rho_stack1_1[i]\n",
    "        rho2 = rho_stack1_2[i]\n",
    "        rho3 = rho_stack1_3[i]\n",
    "        rho4 = rho_stack1_4[i]\n",
    "\n",
    "        for j in range(Tpts2):\n",
    "            fid_temp_1[j,i] = np.dot(coil,rho1)\n",
    "            rho1 = L_dt2@rho1\n",
    "\n",
    "            fid_temp_2[j,i] = np.dot(coil,rho2)\n",
    "            rho2 = L_dt2@rho2\n",
    "\n",
    "            fid_temp_3[j,i] = np.dot(coil,rho3)\n",
    "            rho3 = L_dt2@rho3\n",
    "\n",
    "            fid_temp_4[j,i] = np.dot(coil,rho4)\n",
    "            rho4 = L_dt2@rho4\n",
    "    \n",
    "    return fid_temp_1, fid_temp_2, fid_temp_3, fid_temp_4\n",
    "\n",
    "\n",
    "def GenFID_TmixInitJumpQDrift_cohT1T2(Ham,List_jumps,T1,T2,rho0,coil,tmix,dt1,dt2,Ntmix,Lx,Ly):\n",
    "    \"\"\"\n",
    "    Implement a first-order deterministic Trotter simulation of the FID NOESY signals, to numerically explore optimization of number of Trotter steps needed in the simulation\n",
    "    for a target precision\n",
    "    Args:\n",
    "    Ham: matrix representation of the \"coherent\" part of the Liouvillian superoperator\n",
    "    List_jumps: list of the matrix representation of the jump operators\n",
    "    T1: maximal simulation time for the first phase of the protocol\n",
    "    T2: maximal simulation time for the second phase of the protocol\n",
    "    rho0: initial density matrix vector\n",
    "    coil: vector that represents the obervable we trace over to compute FID\n",
    "    Ntmix: number of samples to drawn in QDrift for the simulation of the system for tmix\n",
    "    \"\"\"\n",
    "    \n",
    "    R = sum(List_jumps)\n",
    "\n",
    "    #In this version, we drop the dissipation channels of the evolution during T1 and T2\n",
    "    L_dt1 = expm((-1j*Ham)*dt1)\n",
    "\n",
    "    L_dt2 = expm((-1j*Ham)*dt2)\n",
    "\n",
    "    Tpts1 = int(np.floor(T1/dt1))\n",
    "    Tpts2 = int(np.floor(T2/dt2))\n",
    "\n",
    "    print(\"Number of Trotter steps for deterministic simulation of T1\",Tpts1)\n",
    "    print(\"Number of Trotter steps for deterministic simulation of T2\",Tpts2)\n",
    "    print(\"Number of Trotter steps for QDrift simulation of tmix\", Ntmix)\n",
    "    \n",
    "    #pulse_mix = eff_QDriftChann_OneJump([Ham]+List_jumps,tmix,Ntmix)\n",
    "    pulse_mix = eff_QDriftChann_InitJump([Ham]+List_jumps,tmix,Ntmix)\n",
    "    #QDriftChann([Ham]+List_jumps,tmix)\n",
    "    #for i in range(Ntmix):\n",
    "    #    pulse_mix = L_dtmix@pulse_mix\n",
    "\n",
    "    print(\"Difference between Trotterized pulse_mix and reference pulse_mix:\", np.linalg.norm(pulse_mix-expm((-1j*Ham+R)*tmix)))\n",
    "\n",
    "\n",
    "    pulse_90x = expm(-1j*Lx*np.pi/2)\n",
    "    pulse_90y = expm(-1j*Ly*np.pi/2)\n",
    "    pulse_90mx = expm(1j*Lx*np.pi/2)\n",
    "    pulse_90my = expm(1j*Ly*np.pi/2)\n",
    "\n",
    "    #First 90x pulse:\n",
    "    rho_t = np.copy(rho0)\n",
    "    rho_t = np.dot(pulse_90x,rho_t)\n",
    "\n",
    "    rho_stack = []\n",
    "    rho_stack.append(rho_t)\n",
    "\n",
    "    rho_temp = np.copy(rho_t)\n",
    "    for i in range(1,Tpts1):\n",
    "        rho_temp = np.dot(L_dt1,rho_temp)\n",
    "        rho_stack.append(rho_temp)\n",
    "\n",
    "\n",
    "    rho_stack1_1 = []\n",
    "    rho_stack1_2 = []\n",
    "    rho_stack1_3 = []\n",
    "    rho_stack1_4 = []\n",
    "\n",
    "    for i in range(Tpts1):\n",
    "        rho_stack1_1.append(pulse_90y@pulse_mix@pulse_90x@rho_stack[i])\n",
    "        rho_stack1_2.append(pulse_90y@pulse_mix@pulse_90y@rho_stack[i])\n",
    "        rho_stack1_3.append(pulse_90y@pulse_mix@pulse_90mx@rho_stack[i])\n",
    "        rho_stack1_4.append(pulse_90y@pulse_mix@pulse_90my@rho_stack[i])\n",
    "\n",
    "\n",
    "    fid_temp_1 = np.zeros([Tpts2,Tpts1],dtype=complex)\n",
    "    fid_temp_2 = np.zeros([Tpts2,Tpts1],dtype=complex)\n",
    "    fid_temp_3 = np.zeros([Tpts2,Tpts1],dtype=complex)\n",
    "    fid_temp_4 = np.zeros([Tpts2,Tpts1],dtype=complex)\n",
    "\n",
    "    for i in range(Tpts1):\n",
    "        rho1 = rho_stack1_1[i]\n",
    "        rho2 = rho_stack1_2[i]\n",
    "        rho3 = rho_stack1_3[i]\n",
    "        rho4 = rho_stack1_4[i]\n",
    "\n",
    "        for j in range(Tpts2):\n",
    "            fid_temp_1[j,i] = np.dot(coil,rho1)\n",
    "            rho1 = L_dt2@rho1\n",
    "\n",
    "            fid_temp_2[j,i] = np.dot(coil,rho2)\n",
    "            rho2 = L_dt2@rho2\n",
    "\n",
    "            fid_temp_3[j,i] = np.dot(coil,rho3)\n",
    "            rho3 = L_dt2@rho3\n",
    "\n",
    "            fid_temp_4[j,i] = np.dot(coil,rho4)\n",
    "            rho4 = L_dt2@rho4\n",
    "    \n",
    "    return fid_temp_1, fid_temp_2, fid_temp_3, fid_temp_4\n",
    "\n",
    "\n",
    "\n",
    "\n",
    "\n",
    "def GenFID_DissTmix(Ham,List_jumps,T1,T2,rho0,coil,tmix,dt1,dt2,Ntmix,Lx,Ly):\n",
    "    \"\"\"\n",
    "    Implement a first-order deterministic Trotter simulation of the FID NOESY signals, to numerically explore optimization of number of Trotter steps needed in the simulation\n",
    "    for a target precision\n",
    "    Args:\n",
    "    Ham: matrix representation of the \"coherent\" part of the Liouvillian superoperator\n",
    "    List_jumps: list of the matrix representation of the jump operators\n",
    "    T1: maximal simulation time for the first phase of the protocol\n",
    "    T2: maximal simulation time for the second phase of the protocol\n",
    "    rho0: initial density matrix vector\n",
    "    coil: vector that represents the obervable we trace over to compute FID\n",
    "    Ntmix: number of samples to drawn in QDrift for the simulation of the system for tmix\n",
    "    \"\"\"\n",
    "    \n",
    "    R = sum(List_jumps)\n",
    "\n",
    "    #In this version, we drop the dissipation channels of the evolution during T1 and T2\n",
    "    L_dt1 = expm((-1j*Ham+R)*dt1)\n",
    "\n",
    "    L_dt2 = expm((-1j*Ham+R)*dt2)\n",
    "\n",
    "    Tpts1 = int(np.floor(T1/dt1))\n",
    "    Tpts2 = int(np.floor(T2/dt2))\n",
    "\n",
    "    print(\"Number of Trotter steps for deterministic simulation of T1\",Tpts1)\n",
    "    print(\"Number of Trotter steps for deterministic simulation of T2\",Tpts2)\n",
    "    print(\"Number of Trotter steps for QDrift simulation of tmix\", Ntmix)\n",
    "    \n",
    "    pulse_mix = expm(R*tmix) #eff_QDriftChann_OneJump([Ham]+List_jumps,tmix,Ntmix)\n",
    "    #QDriftChann([Ham]+List_jumps,tmix)\n",
    "    #for i in range(Ntmix):\n",
    "    #    pulse_mix = L_dtmix@pulse_mix\n",
    "\n",
    "    print(\"Difference between pulse_mix and reference pulse_mix:\", np.linalg.norm(pulse_mix-expm((-1j*Ham+R)*tmix)))\n",
    "\n",
    "\n",
    "    pulse_90x = expm(-1j*Lx*np.pi/2)\n",
    "    pulse_90y = expm(-1j*Ly*np.pi/2)\n",
    "    pulse_90mx = expm(1j*Lx*np.pi/2)\n",
    "    pulse_90my = expm(1j*Ly*np.pi/2)\n",
    "\n",
    "    #First 90x pulse:\n",
    "    rho_t = np.copy(rho0)\n",
    "    rho_t = np.dot(pulse_90x,rho_t)\n",
    "\n",
    "    rho_stack = []\n",
    "    rho_stack.append(rho_t)\n",
    "\n",
    "    rho_temp = np.copy(rho_t)\n",
    "    for i in range(1,Tpts1):\n",
    "        rho_temp = np.dot(L_dt1,rho_temp)\n",
    "        rho_stack.append(rho_temp)\n",
    "\n",
    "\n",
    "    rho_stack1_1 = []\n",
    "    rho_stack1_2 = []\n",
    "    rho_stack1_3 = []\n",
    "    rho_stack1_4 = []\n",
    "\n",
    "    for i in range(Tpts1):\n",
    "        rho_stack1_1.append(pulse_90y@pulse_mix@pulse_90x@rho_stack[i])\n",
    "        rho_stack1_2.append(pulse_90y@pulse_mix@pulse_90y@rho_stack[i])\n",
    "        rho_stack1_3.append(pulse_90y@pulse_mix@pulse_90mx@rho_stack[i])\n",
    "        rho_stack1_4.append(pulse_90y@pulse_mix@pulse_90my@rho_stack[i])\n",
    "\n",
    "\n",
    "    fid_temp_1 = np.zeros([Tpts2,Tpts1],dtype=complex)\n",
    "    fid_temp_2 = np.zeros([Tpts2,Tpts1],dtype=complex)\n",
    "    fid_temp_3 = np.zeros([Tpts2,Tpts1],dtype=complex)\n",
    "    fid_temp_4 = np.zeros([Tpts2,Tpts1],dtype=complex)\n",
    "\n",
    "    for i in range(Tpts1):\n",
    "        rho1 = rho_stack1_1[i]\n",
    "        rho2 = rho_stack1_2[i]\n",
    "        rho3 = rho_stack1_3[i]\n",
    "        rho4 = rho_stack1_4[i]\n",
    "\n",
    "        for j in range(Tpts2):\n",
    "            fid_temp_1[j,i] = np.dot(coil,rho1)\n",
    "            rho1 = L_dt2@rho1\n",
    "\n",
    "            fid_temp_2[j,i] = np.dot(coil,rho2)\n",
    "            rho2 = L_dt2@rho2\n",
    "\n",
    "            fid_temp_3[j,i] = np.dot(coil,rho3)\n",
    "            rho3 = L_dt2@rho3\n",
    "\n",
    "            fid_temp_4[j,i] = np.dot(coil,rho4)\n",
    "            rho4 = L_dt2@rho4\n",
    "    \n",
    "    return fid_temp_1, fid_temp_2, fid_temp_3, fid_temp_4\n",
    "\n",
    "\n",
    "\n",
    "    \n",
    "\n"
   ]
  },
  {
   "cell_type": "code",
   "execution_count": 7,
   "metadata": {},
   "outputs": [],
   "source": [
    "text4=\"\"\"1      (0,0)   (0,0)   (0,0)   (0,0)   \n",
    "  2      (0,0)   (0,0)   (0,0)   (1,1)   \n",
    "  3      (0,0)   (0,0)   (0,0)   (1,0)   \n",
    "  4      (0,0)   (0,0)   (0,0)   (1,-1)  \n",
    "  5      (0,0)   (0,0)   (1,1)   (0,0)   \n",
    "  6      (0,0)   (0,0)   (1,1)   (1,1)   \n",
    "  7      (0,0)   (0,0)   (1,1)   (1,0)   \n",
    "  8      (0,0)   (0,0)   (1,1)   (1,-1)  \n",
    "  9      (0,0)   (0,0)   (1,0)   (0,0)   \n",
    "  10     (0,0)   (0,0)   (1,0)   (1,1)   \n",
    "  11     (0,0)   (0,0)   (1,0)   (1,0)   \n",
    "  12     (0,0)   (0,0)   (1,0)   (1,-1)  \n",
    "  13     (0,0)   (0,0)   (1,-1)  (0,0)   \n",
    "  14     (0,0)   (0,0)   (1,-1)  (1,1)   \n",
    "  15     (0,0)   (0,0)   (1,-1)  (1,0)   \n",
    "  16     (0,0)   (0,0)   (1,-1)  (1,-1)  \n",
    "  17     (0,0)   (1,1)   (0,0)   (0,0)   \n",
    "  18     (0,0)   (1,1)   (0,0)   (1,1)   \n",
    "  19     (0,0)   (1,1)   (0,0)   (1,0)   \n",
    "  20     (0,0)   (1,1)   (0,0)   (1,-1)  \n",
    "  21     (0,0)   (1,1)   (1,1)   (0,0)   \n",
    "  22     (0,0)   (1,1)   (1,1)   (1,1)   \n",
    "  23     (0,0)   (1,1)   (1,1)   (1,0)   \n",
    "  24     (0,0)   (1,1)   (1,1)   (1,-1)  \n",
    "  25     (0,0)   (1,1)   (1,0)   (0,0)   \n",
    "  26     (0,0)   (1,1)   (1,0)   (1,1)   \n",
    "  27     (0,0)   (1,1)   (1,0)   (1,0)   \n",
    "  28     (0,0)   (1,1)   (1,0)   (1,-1)  \n",
    "  29     (0,0)   (1,1)   (1,-1)  (0,0)   \n",
    "  30     (0,0)   (1,1)   (1,-1)  (1,1)   \n",
    "  31     (0,0)   (1,1)   (1,-1)  (1,0)   \n",
    "  32     (0,0)   (1,1)   (1,-1)  (1,-1)  \n",
    "  33     (0,0)   (1,0)   (0,0)   (0,0)   \n",
    "  34     (0,0)   (1,0)   (0,0)   (1,1)   \n",
    "  35     (0,0)   (1,0)   (0,0)   (1,0)   \n",
    "  36     (0,0)   (1,0)   (0,0)   (1,-1)  \n",
    "  37     (0,0)   (1,0)   (1,1)   (0,0)   \n",
    "  38     (0,0)   (1,0)   (1,1)   (1,1)   \n",
    "  39     (0,0)   (1,0)   (1,1)   (1,0)   \n",
    "  40     (0,0)   (1,0)   (1,1)   (1,-1)  \n",
    "  41     (0,0)   (1,0)   (1,0)   (0,0)   \n",
    "  42     (0,0)   (1,0)   (1,0)   (1,1)   \n",
    "  43     (0,0)   (1,0)   (1,0)   (1,0)   \n",
    "  44     (0,0)   (1,0)   (1,0)   (1,-1)  \n",
    "  45     (0,0)   (1,0)   (1,-1)  (0,0)   \n",
    "  46     (0,0)   (1,0)   (1,-1)  (1,1)   \n",
    "  47     (0,0)   (1,0)   (1,-1)  (1,0)   \n",
    "  48     (0,0)   (1,0)   (1,-1)  (1,-1)  \n",
    "  49     (0,0)   (1,-1)  (0,0)   (0,0)   \n",
    "  50     (0,0)   (1,-1)  (0,0)   (1,1)   \n",
    "  51     (0,0)   (1,-1)  (0,0)   (1,0)   \n",
    "  52     (0,0)   (1,-1)  (0,0)   (1,-1)  \n",
    "  53     (0,0)   (1,-1)  (1,1)   (0,0)   \n",
    "  54     (0,0)   (1,-1)  (1,1)   (1,1)   \n",
    "  55     (0,0)   (1,-1)  (1,1)   (1,0)   \n",
    "  56     (0,0)   (1,-1)  (1,1)   (1,-1)  \n",
    "  57     (0,0)   (1,-1)  (1,0)   (0,0)   \n",
    "  58     (0,0)   (1,-1)  (1,0)   (1,1)   \n",
    "  59     (0,0)   (1,-1)  (1,0)   (1,0)   \n",
    "  60     (0,0)   (1,-1)  (1,0)   (1,-1)  \n",
    "  61     (0,0)   (1,-1)  (1,-1)  (0,0)   \n",
    "  62     (0,0)   (1,-1)  (1,-1)  (1,1)   \n",
    "  63     (0,0)   (1,-1)  (1,-1)  (1,0)   \n",
    "  64     (0,0)   (1,-1)  (1,-1)  (1,-1)  \n",
    "  65     (1,1)   (0,0)   (0,0)   (0,0)   \n",
    "  66     (1,1)   (0,0)   (0,0)   (1,1)   \n",
    "  67     (1,1)   (0,0)   (0,0)   (1,0)   \n",
    "  68     (1,1)   (0,0)   (0,0)   (1,-1)  \n",
    "  69     (1,1)   (0,0)   (1,1)   (0,0)   \n",
    "  70     (1,1)   (0,0)   (1,1)   (1,1)   \n",
    "  71     (1,1)   (0,0)   (1,1)   (1,0)   \n",
    "  72     (1,1)   (0,0)   (1,1)   (1,-1)  \n",
    "  73     (1,1)   (0,0)   (1,0)   (0,0)   \n",
    "  74     (1,1)   (0,0)   (1,0)   (1,1)   \n",
    "  75     (1,1)   (0,0)   (1,0)   (1,0)   \n",
    "  76     (1,1)   (0,0)   (1,0)   (1,-1)  \n",
    "  77     (1,1)   (0,0)   (1,-1)  (0,0)   \n",
    "  78     (1,1)   (0,0)   (1,-1)  (1,1)   \n",
    "  79     (1,1)   (0,0)   (1,-1)  (1,0)   \n",
    "  80     (1,1)   (0,0)   (1,-1)  (1,-1)  \n",
    "  81     (1,1)   (1,1)   (0,0)   (0,0)   \n",
    "  82     (1,1)   (1,1)   (0,0)   (1,1)   \n",
    "  83     (1,1)   (1,1)   (0,0)   (1,0)   \n",
    "  84     (1,1)   (1,1)   (0,0)   (1,-1)  \n",
    "  85     (1,1)   (1,1)   (1,1)   (0,0)   \n",
    "  86     (1,1)   (1,1)   (1,1)   (1,1)   \n",
    "  87     (1,1)   (1,1)   (1,1)   (1,0)   \n",
    "  88     (1,1)   (1,1)   (1,1)   (1,-1)  \n",
    "  89     (1,1)   (1,1)   (1,0)   (0,0)   \n",
    "  90     (1,1)   (1,1)   (1,0)   (1,1)   \n",
    "  91     (1,1)   (1,1)   (1,0)   (1,0)   \n",
    "  92     (1,1)   (1,1)   (1,0)   (1,-1)  \n",
    "  93     (1,1)   (1,1)   (1,-1)  (0,0)   \n",
    "  94     (1,1)   (1,1)   (1,-1)  (1,1)   \n",
    "  95     (1,1)   (1,1)   (1,-1)  (1,0)   \n",
    "  96     (1,1)   (1,1)   (1,-1)  (1,-1)  \n",
    "  97     (1,1)   (1,0)   (0,0)   (0,0)   \n",
    "  98     (1,1)   (1,0)   (0,0)   (1,1)   \n",
    "  99     (1,1)   (1,0)   (0,0)   (1,0)   \n",
    "  100    (1,1)   (1,0)   (0,0)   (1,-1)  \n",
    "  101    (1,1)   (1,0)   (1,1)   (0,0)   \n",
    "  102    (1,1)   (1,0)   (1,1)   (1,1)   \n",
    "  103    (1,1)   (1,0)   (1,1)   (1,0)   \n",
    "  104    (1,1)   (1,0)   (1,1)   (1,-1)  \n",
    "  105    (1,1)   (1,0)   (1,0)   (0,0)   \n",
    "  106    (1,1)   (1,0)   (1,0)   (1,1)   \n",
    "  107    (1,1)   (1,0)   (1,0)   (1,0)   \n",
    "  108    (1,1)   (1,0)   (1,0)   (1,-1)  \n",
    "  109    (1,1)   (1,0)   (1,-1)  (0,0)   \n",
    "  110    (1,1)   (1,0)   (1,-1)  (1,1)   \n",
    "  111    (1,1)   (1,0)   (1,-1)  (1,0)   \n",
    "  112    (1,1)   (1,0)   (1,-1)  (1,-1)  \n",
    "  113    (1,1)   (1,-1)  (0,0)   (0,0)   \n",
    "  114    (1,1)   (1,-1)  (0,0)   (1,1)   \n",
    "  115    (1,1)   (1,-1)  (0,0)   (1,0)   \n",
    "  116    (1,1)   (1,-1)  (0,0)   (1,-1)  \n",
    "  117    (1,1)   (1,-1)  (1,1)   (0,0)   \n",
    "  118    (1,1)   (1,-1)  (1,1)   (1,1)   \n",
    "  119    (1,1)   (1,-1)  (1,1)   (1,0)   \n",
    "  120    (1,1)   (1,-1)  (1,1)   (1,-1)  \n",
    "  121    (1,1)   (1,-1)  (1,0)   (0,0)   \n",
    "  122    (1,1)   (1,-1)  (1,0)   (1,1)   \n",
    "  123    (1,1)   (1,-1)  (1,0)   (1,0)   \n",
    "  124    (1,1)   (1,-1)  (1,0)   (1,-1)  \n",
    "  125    (1,1)   (1,-1)  (1,-1)  (0,0)   \n",
    "  126    (1,1)   (1,-1)  (1,-1)  (1,1)   \n",
    "  127    (1,1)   (1,-1)  (1,-1)  (1,0)   \n",
    "  128    (1,1)   (1,-1)  (1,-1)  (1,-1)  \n",
    "  129    (1,0)   (0,0)   (0,0)   (0,0)   \n",
    "  130    (1,0)   (0,0)   (0,0)   (1,1)   \n",
    "  131    (1,0)   (0,0)   (0,0)   (1,0)   \n",
    "  132    (1,0)   (0,0)   (0,0)   (1,-1)  \n",
    "  133    (1,0)   (0,0)   (1,1)   (0,0)   \n",
    "  134    (1,0)   (0,0)   (1,1)   (1,1)   \n",
    "  135    (1,0)   (0,0)   (1,1)   (1,0)   \n",
    "  136    (1,0)   (0,0)   (1,1)   (1,-1)  \n",
    "  137    (1,0)   (0,0)   (1,0)   (0,0)   \n",
    "  138    (1,0)   (0,0)   (1,0)   (1,1)   \n",
    "  139    (1,0)   (0,0)   (1,0)   (1,0)   \n",
    "  140    (1,0)   (0,0)   (1,0)   (1,-1)  \n",
    "  141    (1,0)   (0,0)   (1,-1)  (0,0)   \n",
    "  142    (1,0)   (0,0)   (1,-1)  (1,1)   \n",
    "  143    (1,0)   (0,0)   (1,-1)  (1,0)   \n",
    "  144    (1,0)   (0,0)   (1,-1)  (1,-1)  \n",
    "  145    (1,0)   (1,1)   (0,0)   (0,0)   \n",
    "  146    (1,0)   (1,1)   (0,0)   (1,1)   \n",
    "  147    (1,0)   (1,1)   (0,0)   (1,0)   \n",
    "  148    (1,0)   (1,1)   (0,0)   (1,-1)  \n",
    "  149    (1,0)   (1,1)   (1,1)   (0,0)   \n",
    "  150    (1,0)   (1,1)   (1,1)   (1,1)   \n",
    "  151    (1,0)   (1,1)   (1,1)   (1,0)   \n",
    "  152    (1,0)   (1,1)   (1,1)   (1,-1)  \n",
    "  153    (1,0)   (1,1)   (1,0)   (0,0)   \n",
    "  154    (1,0)   (1,1)   (1,0)   (1,1)   \n",
    "  155    (1,0)   (1,1)   (1,0)   (1,0)   \n",
    "  156    (1,0)   (1,1)   (1,0)   (1,-1)  \n",
    "  157    (1,0)   (1,1)   (1,-1)  (0,0)   \n",
    "  158    (1,0)   (1,1)   (1,-1)  (1,1)   \n",
    "  159    (1,0)   (1,1)   (1,-1)  (1,0)   \n",
    "  160    (1,0)   (1,1)   (1,-1)  (1,-1)  \n",
    "  161    (1,0)   (1,0)   (0,0)   (0,0)   \n",
    "  162    (1,0)   (1,0)   (0,0)   (1,1)   \n",
    "  163    (1,0)   (1,0)   (0,0)   (1,0)   \n",
    "  164    (1,0)   (1,0)   (0,0)   (1,-1)  \n",
    "  165    (1,0)   (1,0)   (1,1)   (0,0)   \n",
    "  166    (1,0)   (1,0)   (1,1)   (1,1)   \n",
    "  167    (1,0)   (1,0)   (1,1)   (1,0)   \n",
    "  168    (1,0)   (1,0)   (1,1)   (1,-1)  \n",
    "  169    (1,0)   (1,0)   (1,0)   (0,0)   \n",
    "  170    (1,0)   (1,0)   (1,0)   (1,1)   \n",
    "  171    (1,0)   (1,0)   (1,0)   (1,0)   \n",
    "  172    (1,0)   (1,0)   (1,0)   (1,-1)  \n",
    "  173    (1,0)   (1,0)   (1,-1)  (0,0)   \n",
    "  174    (1,0)   (1,0)   (1,-1)  (1,1)   \n",
    "  175    (1,0)   (1,0)   (1,-1)  (1,0)   \n",
    "  176    (1,0)   (1,0)   (1,-1)  (1,-1)  \n",
    "  177    (1,0)   (1,-1)  (0,0)   (0,0)   \n",
    "  178    (1,0)   (1,-1)  (0,0)   (1,1)   \n",
    "  179    (1,0)   (1,-1)  (0,0)   (1,0)   \n",
    "  180    (1,0)   (1,-1)  (0,0)   (1,-1)  \n",
    "  181    (1,0)   (1,-1)  (1,1)   (0,0)   \n",
    "  182    (1,0)   (1,-1)  (1,1)   (1,1)   \n",
    "  183    (1,0)   (1,-1)  (1,1)   (1,0)   \n",
    "  184    (1,0)   (1,-1)  (1,1)   (1,-1)  \n",
    "  185    (1,0)   (1,-1)  (1,0)   (0,0)   \n",
    "  186    (1,0)   (1,-1)  (1,0)   (1,1)   \n",
    "  187    (1,0)   (1,-1)  (1,0)   (1,0)   \n",
    "  188    (1,0)   (1,-1)  (1,0)   (1,-1)  \n",
    "  189    (1,0)   (1,-1)  (1,-1)  (0,0)   \n",
    "  190    (1,0)   (1,-1)  (1,-1)  (1,1)   \n",
    "  191    (1,0)   (1,-1)  (1,-1)  (1,0)   \n",
    "  192    (1,0)   (1,-1)  (1,-1)  (1,-1)  \n",
    "  193    (1,-1)  (0,0)   (0,0)   (0,0)   \n",
    "  194    (1,-1)  (0,0)   (0,0)   (1,1)   \n",
    "  195    (1,-1)  (0,0)   (0,0)   (1,0)   \n",
    "  196    (1,-1)  (0,0)   (0,0)   (1,-1)  \n",
    "  197    (1,-1)  (0,0)   (1,1)   (0,0)   \n",
    "  198    (1,-1)  (0,0)   (1,1)   (1,1)   \n",
    "  199    (1,-1)  (0,0)   (1,1)   (1,0)   \n",
    "  200    (1,-1)  (0,0)   (1,1)   (1,-1)  \n",
    "  201    (1,-1)  (0,0)   (1,0)   (0,0)   \n",
    "  202    (1,-1)  (0,0)   (1,0)   (1,1)   \n",
    "  203    (1,-1)  (0,0)   (1,0)   (1,0)   \n",
    "  204    (1,-1)  (0,0)   (1,0)   (1,-1)  \n",
    "  205    (1,-1)  (0,0)   (1,-1)  (0,0)   \n",
    "  206    (1,-1)  (0,0)   (1,-1)  (1,1)   \n",
    "  207    (1,-1)  (0,0)   (1,-1)  (1,0)   \n",
    "  208    (1,-1)  (0,0)   (1,-1)  (1,-1)  \n",
    "  209    (1,-1)  (1,1)   (0,0)   (0,0)   \n",
    "  210    (1,-1)  (1,1)   (0,0)   (1,1)   \n",
    "  211    (1,-1)  (1,1)   (0,0)   (1,0)   \n",
    "  212    (1,-1)  (1,1)   (0,0)   (1,-1)  \n",
    "  213    (1,-1)  (1,1)   (1,1)   (0,0)   \n",
    "  214    (1,-1)  (1,1)   (1,1)   (1,1)   \n",
    "  215    (1,-1)  (1,1)   (1,1)   (1,0)   \n",
    "  216    (1,-1)  (1,1)   (1,1)   (1,-1)  \n",
    "  217    (1,-1)  (1,1)   (1,0)   (0,0)   \n",
    "  218    (1,-1)  (1,1)   (1,0)   (1,1)   \n",
    "  219    (1,-1)  (1,1)   (1,0)   (1,0)   \n",
    "  220    (1,-1)  (1,1)   (1,0)   (1,-1)  \n",
    "  221    (1,-1)  (1,1)   (1,-1)  (0,0)   \n",
    "  222    (1,-1)  (1,1)   (1,-1)  (1,1)   \n",
    "  223    (1,-1)  (1,1)   (1,-1)  (1,0)   \n",
    "  224    (1,-1)  (1,1)   (1,-1)  (1,-1)  \n",
    "  225    (1,-1)  (1,0)   (0,0)   (0,0)   \n",
    "  226    (1,-1)  (1,0)   (0,0)   (1,1)   \n",
    "  227    (1,-1)  (1,0)   (0,0)   (1,0)   \n",
    "  228    (1,-1)  (1,0)   (0,0)   (1,-1)  \n",
    "  229    (1,-1)  (1,0)   (1,1)   (0,0)   \n",
    "  230    (1,-1)  (1,0)   (1,1)   (1,1)   \n",
    "  231    (1,-1)  (1,0)   (1,1)   (1,0)   \n",
    "  232    (1,-1)  (1,0)   (1,1)   (1,-1)  \n",
    "  233    (1,-1)  (1,0)   (1,0)   (0,0)   \n",
    "  234    (1,-1)  (1,0)   (1,0)   (1,1)   \n",
    "  235    (1,-1)  (1,0)   (1,0)   (1,0)   \n",
    "  236    (1,-1)  (1,0)   (1,0)   (1,-1)  \n",
    "  237    (1,-1)  (1,0)   (1,-1)  (0,0)   \n",
    "  238    (1,-1)  (1,0)   (1,-1)  (1,1)   \n",
    "  239    (1,-1)  (1,0)   (1,-1)  (1,0)   \n",
    "  240    (1,-1)  (1,0)   (1,-1)  (1,-1)  \n",
    "  241    (1,-1)  (1,-1)  (0,0)   (0,0)   \n",
    "  242    (1,-1)  (1,-1)  (0,0)   (1,1)   \n",
    "  243    (1,-1)  (1,-1)  (0,0)   (1,0)   \n",
    "  244    (1,-1)  (1,-1)  (0,0)   (1,-1)  \n",
    "  245    (1,-1)  (1,-1)  (1,1)   (0,0)   \n",
    "  246    (1,-1)  (1,-1)  (1,1)   (1,1)   \n",
    "  247    (1,-1)  (1,-1)  (1,1)   (1,0)   \n",
    "  248    (1,-1)  (1,-1)  (1,1)   (1,-1)  \n",
    "  249    (1,-1)  (1,-1)  (1,0)   (0,0)   \n",
    "  250    (1,-1)  (1,-1)  (1,0)   (1,1)   \n",
    "  251    (1,-1)  (1,-1)  (1,0)   (1,0)   \n",
    "  252    (1,-1)  (1,-1)  (1,0)   (1,-1)  \n",
    "  253    (1,-1)  (1,-1)  (1,-1)  (0,0)   \n",
    "  254    (1,-1)  (1,-1)  (1,-1)  (1,1)   \n",
    "  255    (1,-1)  (1,-1)  (1,-1)  (1,0)   \n",
    "  256    (1,-1)  (1,-1)  (1,-1)  (1,-1)\"\"\"\n",
    "\n"
   ]
  },
  {
   "cell_type": "code",
   "execution_count": 45,
   "metadata": {},
   "outputs": [
    {
     "data": {
      "text/plain": [
       "0.125j [X0 Y1 Z2] +\n",
       "-0.125j [X0 Z1 Y2] +\n",
       "-0.125j [Y0 X1 Z2] +\n",
       "0.125j [Y0 Z1 X2] +\n",
       "0.125j [Z0 X1 Y2] +\n",
       "-0.125j [Z0 Y1 X2]"
      ]
     },
     "execution_count": 45,
     "metadata": {},
     "output_type": "execute_result"
    }
   ],
   "source": [
    "of.commutator(Sz(0)*Sz(1)+Sy(0)*Sy(1)+Sx(0)*Sx(1),Sz(0)*Sz(2)+Sy(0)*Sy(2)+Sx(0)*Sx(2))"
   ]
  },
  {
   "cell_type": "code",
   "execution_count": 8,
   "metadata": {},
   "outputs": [],
   "source": [
    "data_ala = read_spinach_info(text4)\n",
    "\n",
    "basis_ala = build_list_ISTs(data_ala)\n",
    "prefacts,Symb_ALA_basis = build_symbolic_list_ISTs(data_ala)\n",
    "\n",
    "#Normbasis = NormalizeBasis(basis,n_qubits=4,checkOrth=True) I have verified the orthonormalization of the basis\n",
    "Normbasis_ala = NormalizeBasis(basis_ala,n_qubits=4,checkOrth=False)\n",
    "Normbasis_ala = np.array(Normbasis_ala)\n",
    "\n",
    "f = open('./data/ALA_JOps.pk','rb')\n",
    "dat = pickle.load(f)\n",
    "\n",
    "JumpOps = dat['JOps']\n",
    "\n",
    "Rtrunc = sum(JumpOps)\n"
   ]
  },
  {
   "cell_type": "code",
   "execution_count": 9,
   "metadata": {},
   "outputs": [],
   "source": [
    "###The reference FID signals and spectrum\n",
    "loadMat = spio.loadmat('./data/NOESYdata_ALA_withGradients.mat',squeeze_me=True)\n",
    "\n",
    "t_grid1 = loadMat['p']['time_grid1'].item()\n",
    "t_grid2 = loadMat['p']['time_grid2'].item()\n",
    "\n",
    "R_ala = loadMat['p']['R'].item()\n",
    "H_ala = loadMat['p']['H'].item().toarray()\n",
    "\n",
    "rho0 = np.array(loadMat['p']['rho0'].item().toarray())\n",
    "\n",
    "coil = np.array(loadMat['p']['coil'].item())\n",
    "\n",
    "Lx = loadMat['p']['Lx'].item().toarray() \n",
    "Ly = loadMat['p']['Ly'].item().toarray() \n",
    "\n",
    "###Dynamical evolution for calculation of 2D spectra...\n",
    "#Tpts1 = len(t_grid1)\n",
    "#Tpts2 = len(t_grid2)\n",
    "\n",
    "#Parameters taken from Spinach script\n",
    "tmix = 1.0\n",
    "dt1 = 5e-4\n",
    "dt2 = 5e-4\n",
    "#dt1 = 0.00512\n",
    "#dt2 = 0.00512\n",
    "Tpts1 = 512\n",
    "Tpts2 = 512\n",
    "\n",
    "##Parameters for Fourier transform\n",
    "#zerofill1 = 4096\n",
    "#zerofill2 = 4096\n",
    "\n",
    "#R_trunc is going to be the sum of the matrix representation of the three jump operators\n",
    "#fid_1_ref, fid_2_ref, fid_3_ref, fid_4_ref =  GenFIDsignals(H_ala,Rtrunc,Tpts1,Tpts2,rho0,coil,tmix,dt1,dt2,Lx,Ly)\n"
   ]
  },
  {
   "cell_type": "code",
   "execution_count": 68,
   "metadata": {},
   "outputs": [],
   "source": [
    "#effQdriftTmix = eff_QDriftChann_OneJump([H_ala]+JumpOps,tmix,Ntmix)"
   ]
  },
  {
   "cell_type": "code",
   "execution_count": 71,
   "metadata": {},
   "outputs": [
    {
     "data": {
      "text/plain": [
       "3.3026644544248986"
      ]
     },
     "execution_count": 71,
     "metadata": {},
     "output_type": "execute_result"
    }
   ],
   "source": [
    "#np.linalg.norm(expm((-1j*H_ala+Rtrunc)*tmix)-effQdriftTmix)"
   ]
  },
  {
   "cell_type": "code",
   "execution_count": 70,
   "metadata": {},
   "outputs": [
    {
     "data": {
      "text/plain": [
       "3.8675275638659836"
      ]
     },
     "execution_count": 70,
     "metadata": {},
     "output_type": "execute_result"
    }
   ],
   "source": [
    "np.linalg.norm(expm((-1j*H_ala+Rtrunc)*tmix)-expm(-1j*H_ala*tmix))"
   ]
  },
  {
   "cell_type": "code",
   "execution_count": 84,
   "metadata": {},
   "outputs": [],
   "source": [
    "####Some understanding of the QDrift channel...\n",
    "\n",
    "ListOps = [H_ala]+JumpOps\n",
    "\n",
    "Norm_ops, List_weights = Normalize_and_weightOps(ListOps)\n",
    "\n",
    "\n",
    "#probabilites for gate sampling\n",
    "pks = np.array(np.copy(List_weights))\n",
    "Gamma = np.sum(pks)\n",
    "pks = (1.0/Gamma)*pks\n",
    "\n"
   ]
  },
  {
   "cell_type": "code",
   "execution_count": 85,
   "metadata": {},
   "outputs": [],
   "source": [
    "###What is a reasonable discretization timestep for mixing time assuming a QDrift implementation?\n",
    "#we can identify the relevant timescale by identifying the highest frequency of oscillation of transversal polarization under free evolution...\n",
    "\n",
    "trans_pol = expm(-1j*Lx*np.pi/2)@rho0\n",
    "trans_pol = trans_pol.flatten()\n",
    "\n",
    "eigvalsL,eigvectL = np.linalg.eig(H_ala+1j*Rtrunc)\n",
    "\n",
    "overlaps = np.zeros(len(eigvalsL),dtype=complex)\n",
    "\n",
    "for i in range(len(overlaps)):\n",
    "    overlaps[i] =  np.dot(np.conj(eigvectL[:,i]),trans_pol)\n",
    "\n",
    "\n",
    "idx_max = np.abs(overlaps).argmax()\n",
    "\n",
    "tmix_disc_tscale = 1/np.real(eigvalsL[idx_max])\n",
    "\n",
    "Ntmix_steps = int(np.ceil(tmix/tmix_disc_tscale))\n"
   ]
  },
  {
   "cell_type": "code",
   "execution_count": 86,
   "metadata": {},
   "outputs": [
    {
     "data": {
      "text/plain": [
       "array([9.99955205e-01, 1.53581459e-05, 1.48248770e-05, 1.46115694e-05])"
      ]
     },
     "execution_count": 86,
     "metadata": {},
     "output_type": "execute_result"
    }
   ],
   "source": [
    "List_weights/sum(List_weights)"
   ]
  },
  {
   "cell_type": "code",
   "execution_count": 87,
   "metadata": {},
   "outputs": [
    {
     "data": {
      "text/plain": [
       "0.1111770433453948"
      ]
     },
     "execution_count": 87,
     "metadata": {},
     "output_type": "execute_result"
    }
   ],
   "source": [
    "###probability of sampling at least 1 jump operator:\n",
    "\n",
    "1 - pks[0]**(Ntmix_steps)\n"
   ]
  },
  {
   "cell_type": "code",
   "execution_count": 88,
   "metadata": {},
   "outputs": [
    {
     "data": {
      "text/plain": [
       "(0.03591652871427717, 0.034669427022809174, 0.03417058634622201)"
      ]
     },
     "execution_count": 88,
     "metadata": {},
     "output_type": "execute_result"
    }
   ],
   "source": [
    "#Probability of sampling jump operators 1,2 and 3...\n",
    "\n",
    "Ntmix_steps*pks[0]**(Ntmix_steps-1)*pks[1],Ntmix_steps*pks[0]**(Ntmix_steps-1)*pks[2], Ntmix_steps*pks[0]**(Ntmix_steps-1)*pks[3]\n"
   ]
  },
  {
   "cell_type": "code",
   "execution_count": 30,
   "metadata": {},
   "outputs": [
    {
     "data": {
      "text/plain": [
       "192"
      ]
     },
     "execution_count": 30,
     "metadata": {},
     "output_type": "execute_result"
    }
   ],
   "source": [
    "np.abs(overlaps).argmax()"
   ]
  },
  {
   "cell_type": "code",
   "execution_count": 31,
   "metadata": {},
   "outputs": [
    {
     "data": {
      "text/plain": [
       "0.21732502529005593"
      ]
     },
     "execution_count": 31,
     "metadata": {},
     "output_type": "execute_result"
    }
   ],
   "source": [
    "np.abs(overlaps)[192]"
   ]
  },
  {
   "cell_type": "code",
   "execution_count": 21,
   "metadata": {},
   "outputs": [
    {
     "data": {
      "text/plain": [
       "1.0000000000000002"
      ]
     },
     "execution_count": 21,
     "metadata": {},
     "output_type": "execute_result"
    }
   ],
   "source": [
    "np.max(np.abs(np.linalg.eigvals(Norm_ops[3])))\n"
   ]
  },
  {
   "cell_type": "code",
   "execution_count": 61,
   "metadata": {},
   "outputs": [
    {
     "name": "stdout",
     "output_type": "stream",
     "text": [
      "Number of Trotter steps for deterministic simulation of T1 512\n",
      "Number of Trotter steps for deterministic simulation of T2 512\n",
      "Number of Trotter steps for QDrift simulation of tmix 2631\n",
      "Difference between Trotterized pulse_mix and reference pulse_mix: 3.0162096461998376\n"
     ]
    },
    {
     "name": "stderr",
     "output_type": "stream",
     "text": [
      "/var/folders/rm/xdxcjr7n7_13f9m1905zyf6c0000gq/T/ipykernel_42693/1932871311.py:262: DeprecationWarning: Conversion of an array with ndim > 0 to a scalar is deprecated, and will error in future. Ensure you extract a single element from your array before performing this operation. (Deprecated NumPy 1.25.)\n",
      "  fid_temp_1[j,i] = np.dot(coil,rho1)\n",
      "/var/folders/rm/xdxcjr7n7_13f9m1905zyf6c0000gq/T/ipykernel_42693/1932871311.py:265: DeprecationWarning: Conversion of an array with ndim > 0 to a scalar is deprecated, and will error in future. Ensure you extract a single element from your array before performing this operation. (Deprecated NumPy 1.25.)\n",
      "  fid_temp_2[j,i] = np.dot(coil,rho2)\n",
      "/var/folders/rm/xdxcjr7n7_13f9m1905zyf6c0000gq/T/ipykernel_42693/1932871311.py:268: DeprecationWarning: Conversion of an array with ndim > 0 to a scalar is deprecated, and will error in future. Ensure you extract a single element from your array before performing this operation. (Deprecated NumPy 1.25.)\n",
      "  fid_temp_3[j,i] = np.dot(coil,rho3)\n",
      "/var/folders/rm/xdxcjr7n7_13f9m1905zyf6c0000gq/T/ipykernel_42693/1932871311.py:271: DeprecationWarning: Conversion of an array with ndim > 0 to a scalar is deprecated, and will error in future. Ensure you extract a single element from your array before performing this operation. (Deprecated NumPy 1.25.)\n",
      "  fid_temp_4[j,i] = np.dot(coil,rho4)\n"
     ]
    }
   ],
   "source": [
    "#Calculation of the FID signals through an effective QDrift channel:\n",
    "\n",
    "Ntmix = 2631\n",
    "T1 = dt1*Tpts1\n",
    "T2 = dt2*Tpts2\n",
    "\n",
    "\n",
    "fid_temp_1, fid_temp_2, fid_temp_3, fid_temp_4 = GenFID_TmixQDriftsignals(H_ala,JumpOps,T1,T2,rho0,coil,tmix,dt1,dt2,Ntmix,Lx,Ly)\n"
   ]
  },
  {
   "cell_type": "code",
   "execution_count": 75,
   "metadata": {},
   "outputs": [],
   "source": [
    "####Saving FID for spectrum plotting....\n",
    "\n",
    "cos_fid = fid_temp_1 - fid_temp_3\n",
    "sin_fid = fid_temp_2 - fid_temp_4\n",
    "\n",
    "ref_cos_fid = fid_1_ref - fid_3_ref\n",
    "ref_sin_fid = fid_2_ref - fid_4_ref\n",
    "\n",
    "savemat('ALA_truncR_FIDcos_QDrift512.mat', {'FID_cos': cos_fid})\n",
    "savemat('ALA_truncR_FIDsin_QDrift512.mat', {'FID_sin': sin_fid})\n",
    "\n",
    "savemat('ALA_truncR_FIDcos_Ref512.mat', {'FID_cos': ref_cos_fid})\n",
    "savemat('ALA_truncR_FIDsin_Ref512.mat', {'FID_sin': ref_sin_fid})\n",
    "\n"
   ]
  },
  {
   "cell_type": "markdown",
   "metadata": {},
   "source": [
    "# Coherent T1/T2 evolution"
   ]
  },
  {
   "cell_type": "code",
   "execution_count": 92,
   "metadata": {},
   "outputs": [
    {
     "name": "stdout",
     "output_type": "stream",
     "text": [
      "Number of Trotter steps for deterministic simulation of T1 512\n",
      "Number of Trotter steps for deterministic simulation of T2 512\n",
      "Number of Trotter steps for QDrift simulation of tmix 2631\n",
      "Difference between Trotterized pulse_mix and reference pulse_mix: 3.3026644544248986\n"
     ]
    },
    {
     "name": "stderr",
     "output_type": "stream",
     "text": [
      "/var/folders/rm/xdxcjr7n7_13f9m1905zyf6c0000gq/T/ipykernel_42693/2501787718.py:328: DeprecationWarning: Conversion of an array with ndim > 0 to a scalar is deprecated, and will error in future. Ensure you extract a single element from your array before performing this operation. (Deprecated NumPy 1.25.)\n",
      "  fid_temp_1[j,i] = np.dot(coil,rho1)\n",
      "/var/folders/rm/xdxcjr7n7_13f9m1905zyf6c0000gq/T/ipykernel_42693/2501787718.py:331: DeprecationWarning: Conversion of an array with ndim > 0 to a scalar is deprecated, and will error in future. Ensure you extract a single element from your array before performing this operation. (Deprecated NumPy 1.25.)\n",
      "  fid_temp_2[j,i] = np.dot(coil,rho2)\n",
      "/var/folders/rm/xdxcjr7n7_13f9m1905zyf6c0000gq/T/ipykernel_42693/2501787718.py:334: DeprecationWarning: Conversion of an array with ndim > 0 to a scalar is deprecated, and will error in future. Ensure you extract a single element from your array before performing this operation. (Deprecated NumPy 1.25.)\n",
      "  fid_temp_3[j,i] = np.dot(coil,rho3)\n",
      "/var/folders/rm/xdxcjr7n7_13f9m1905zyf6c0000gq/T/ipykernel_42693/2501787718.py:337: DeprecationWarning: Conversion of an array with ndim > 0 to a scalar is deprecated, and will error in future. Ensure you extract a single element from your array before performing this operation. (Deprecated NumPy 1.25.)\n",
      "  fid_temp_4[j,i] = np.dot(coil,rho4)\n"
     ]
    }
   ],
   "source": [
    "fid_coh_1, fid_coh_2, fid_coh_3, fid_coh_4 = GenFID_TmixQDrift_cohT1T2(H_ala,JumpOps,T1,T2,rho0,coil,tmix,dt1,dt2,Ntmix,Lx,Ly)"
   ]
  },
  {
   "cell_type": "code",
   "execution_count": 93,
   "metadata": {},
   "outputs": [],
   "source": [
    "cos_coh_fid = fid_coh_1 - fid_coh_3\n",
    "sin_coh_fid = fid_coh_2 - fid_coh_4\n",
    "\n",
    "savemat('ALA_truncR_FIDcos_QDrift512_cohT1T2.mat', {'FID_cos': cos_coh_fid})\n",
    "savemat('ALA_truncR_FIDsin_QDrift512_cohT1T2.mat', {'FID_sin': sin_coh_fid})\n",
    "\n",
    "#The spectrum only shows quantitative differences"
   ]
  },
  {
   "cell_type": "markdown",
   "metadata": {},
   "source": [
    "# Coherent T1/T2 time evolution + 1 step QDrift channel"
   ]
  },
  {
   "cell_type": "code",
   "execution_count": 102,
   "metadata": {},
   "outputs": [
    {
     "name": "stdout",
     "output_type": "stream",
     "text": [
      "Number of Trotter steps for deterministic simulation of T1 512\n",
      "Number of Trotter steps for deterministic simulation of T2 512\n",
      "Number of Trotter steps for QDrift simulation of tmix 1\n",
      "Difference between Trotterized pulse_mix and reference pulse_mix: 4.680482060069453\n"
     ]
    },
    {
     "name": "stderr",
     "output_type": "stream",
     "text": [
      "/var/folders/rm/xdxcjr7n7_13f9m1905zyf6c0000gq/T/ipykernel_42693/1436620669.py:328: DeprecationWarning: Conversion of an array with ndim > 0 to a scalar is deprecated, and will error in future. Ensure you extract a single element from your array before performing this operation. (Deprecated NumPy 1.25.)\n",
      "  fid_temp_1[j,i] = np.dot(coil,rho1)\n",
      "/var/folders/rm/xdxcjr7n7_13f9m1905zyf6c0000gq/T/ipykernel_42693/1436620669.py:331: DeprecationWarning: Conversion of an array with ndim > 0 to a scalar is deprecated, and will error in future. Ensure you extract a single element from your array before performing this operation. (Deprecated NumPy 1.25.)\n",
      "  fid_temp_2[j,i] = np.dot(coil,rho2)\n",
      "/var/folders/rm/xdxcjr7n7_13f9m1905zyf6c0000gq/T/ipykernel_42693/1436620669.py:334: DeprecationWarning: Conversion of an array with ndim > 0 to a scalar is deprecated, and will error in future. Ensure you extract a single element from your array before performing this operation. (Deprecated NumPy 1.25.)\n",
      "  fid_temp_3[j,i] = np.dot(coil,rho3)\n",
      "/var/folders/rm/xdxcjr7n7_13f9m1905zyf6c0000gq/T/ipykernel_42693/1436620669.py:337: DeprecationWarning: Conversion of an array with ndim > 0 to a scalar is deprecated, and will error in future. Ensure you extract a single element from your array before performing this operation. (Deprecated NumPy 1.25.)\n",
      "  fid_temp_4[j,i] = np.dot(coil,rho4)\n"
     ]
    }
   ],
   "source": [
    "Ntmix = 1\n",
    "\n",
    "fid_coh_1, fid_coh_2, fid_coh_3, fid_coh_4 = GenFID_TmixQDrift_cohT1T2(H_ala,JumpOps,T1,T2,rho0,coil,tmix,dt1,dt2,Ntmix,Lx,Ly)"
   ]
  },
  {
   "cell_type": "code",
   "execution_count": 103,
   "metadata": {},
   "outputs": [],
   "source": [
    "cos_coh_fid = fid_coh_1 - fid_coh_3\n",
    "sin_coh_fid = fid_coh_2 - fid_coh_4\n",
    "\n",
    "savemat('ALA_truncR_FIDcos_QDrift512_cohT1T2_1Step.mat', {'FID_cos': cos_coh_fid})\n",
    "savemat('ALA_truncR_FIDsin_QDrift512_cohT1T2_1Step.mat', {'FID_sin': sin_coh_fid})\n",
    "\n",
    "\n",
    "\n"
   ]
  },
  {
   "cell_type": "code",
   "execution_count": null,
   "metadata": {},
   "outputs": [],
   "source": []
  },
  {
   "cell_type": "code",
   "execution_count": 107,
   "metadata": {},
   "outputs": [],
   "source": [
    "\n",
    "#####Numerical experiment to check whether it is more accurate to implement the dissipative single channel at the beginning or at the end of mixing time:\n",
    "\n",
    "def eff_QDriftChann_InitJump(List_gens,time_evol,NSteps):\n",
    "    \"\"\"\n",
    "    Calculation of an effective QDrift channel. Based on the observation that the action of jump operators are in essence rare events \n",
    "    \"\"\"\n",
    "    Norm_ops, List_weights = Normalize_and_weightOps(List_gens)\n",
    "\n",
    "    List_weights = np.array(List_weights)\n",
    "    Gamma =  np.sum(List_weights)\n",
    "\n",
    "    pks = (1.0/Gamma)*List_weights\n",
    "\n",
    "    Eff_probs = np.zeros(len(List_gens))\n",
    "\n",
    "    Eff_probs[0] = pks[0]**(NSteps) #probability of sampling coherent evolution only\n",
    "\n",
    "    for i in range(1,len(Eff_probs)):\n",
    "        Eff_probs[i] = pks[0]**(NSteps-1) * pks[i] #probability of sampling a circuit with NSteps-1 layers of H0 and one jump operator\n",
    "    \n",
    "    #Glob_Chann = Eff_probs[0]*expm(-1j*List_gens[0]*time_evol)\n",
    "    Glob_Chann = Eff_probs[0]*expm(-1j*Norm_ops[0]*time_evol*Gamma)\n",
    "\n",
    "    for i in range(1,len(Eff_probs)):\n",
    "        Glob_Chann = Glob_Chann + NSteps*Eff_probs[i]*expm(-1j*Norm_ops[0]*(time_evol/NSteps)*Gamma*(NSteps-1))*expm(Norm_ops[i]*(time_evol/NSteps)*Gamma)\n",
    "\n",
    "    #Glob_Chann =Glob_Chann + Eff_probs[0]\n",
    "\n",
    "    #Glob_Chann = Glob_Chann+ProbSingleJumpLayers(List_gens,Eff_probs[1:],time_evol,NSteps)\n",
    "\n",
    "    #Glob_Chann = Glob_Chann+ProbSingleJumpLayers(Norm_ops,Eff_probs[1:],time_evol*Gamma,NSteps)\n",
    "    return Glob_Chann\n",
    "\n",
    "def eff_QDriftChann_FinJump(List_gens,time_evol,NSteps):\n",
    "    \"\"\"\n",
    "    Calculation of an effective QDrift channel. Based on the observation that the action of jump operators are in essence rare events \n",
    "    \"\"\"\n",
    "    Norm_ops, List_weights = Normalize_and_weightOps(List_gens)\n",
    "\n",
    "    List_weights = np.array(List_weights)\n",
    "    Gamma =  np.sum(List_weights)\n",
    "\n",
    "    pks = (1.0/Gamma)*List_weights\n",
    "\n",
    "    Eff_probs = np.zeros(len(List_gens))\n",
    "\n",
    "    Eff_probs[0] = pks[0]**(NSteps) #probability of sampling coherent evolution only\n",
    "\n",
    "    for i in range(1,len(Eff_probs)):\n",
    "        Eff_probs[i] = pks[0]**(NSteps-1) * pks[i] #probability of sampling a circuit with NSteps-1 layers of H0 and one jump operator\n",
    "    \n",
    "    #Glob_Chann = Eff_probs[0]*expm(-1j*List_gens[0]*time_evol)\n",
    "    Glob_Chann = Eff_probs[0]*expm(-1j*Norm_ops[0]*time_evol*Gamma)\n",
    "\n",
    "    for i in range(1,len(Eff_probs)):\n",
    "        Glob_Chann = Glob_Chann + NSteps*Eff_probs[i]*expm(Norm_ops[i]*(time_evol/NSteps)*Gamma)*expm(-1j*Norm_ops[0]*(time_evol/NSteps)*Gamma*(NSteps-1))\n",
    "\n",
    "    #Glob_Chann =Glob_Chann + Eff_probs[0]\n",
    "\n",
    "    #Glob_Chann = Glob_Chann+ProbSingleJumpLayers(List_gens,Eff_probs[1:],time_evol,NSteps)\n",
    "\n",
    "    #Glob_Chann = Glob_Chann+ProbSingleJumpLayers(Norm_ops,Eff_probs[1:],time_evol*Gamma,NSteps)\n",
    "    return Glob_Chann\n",
    "\n",
    "\n"
   ]
  },
  {
   "cell_type": "code",
   "execution_count": 111,
   "metadata": {},
   "outputs": [
    {
     "name": "stdout",
     "output_type": "stream",
     "text": [
      "Fidelity of Init channel is:  (0.6854236443419044+3.833063756297431e-14j)\n",
      "Fidelity of Fin channel is:  (0.6854236443419044+3.833063756297431e-14j)\n",
      "Fidelity of the one-jump effective channel is:  (0.7060071383742876+5.317215139842124e-14j)\n"
     ]
    }
   ],
   "source": [
    "rho_init = expm(-1j*Lx*np.pi/2)@rho0.flatten()\n",
    "\n",
    "ref_rho_t = expm((-1j*H_ala+sum(JumpOps))*tmix)@rho_init\n",
    "\n",
    "orig_chann = eff_QDriftChann_OneJump([H_ala]+JumpOps,tmix, 2631)\n",
    "\n",
    "InitJ_chann = eff_QDriftChann_InitJump([H_ala]+JumpOps,tmix,2631)\n",
    "FinJ_chann = eff_QDriftChann_FinJump([H_ala]+JumpOps,tmix,2631)\n",
    "\n",
    "print(\"Fidelity of Init channel is: \", np.dot(np.conjugate(ref_rho_t),InitJ_chann@rho_init))\n",
    "print(\"Fidelity of Fin channel is: \", np.dot(np.conjugate(ref_rho_t),FinJ_chann@rho_init))\n",
    "print(\"Fidelity of the one-jump effective channel is: \", np.dot(np.conjugate(ref_rho_t),orig_chann@rho_init))\n",
    "\n",
    "\n",
    "\n"
   ]
  },
  {
   "cell_type": "markdown",
   "metadata": {},
   "source": [
    "# Coherent T1/T2 time evolution + jump at beginning of evolution"
   ]
  },
  {
   "cell_type": "code",
   "execution_count": 123,
   "metadata": {},
   "outputs": [
    {
     "name": "stdout",
     "output_type": "stream",
     "text": [
      "Number of Trotter steps for deterministic simulation of T1 512\n",
      "Number of Trotter steps for deterministic simulation of T2 512\n",
      "Number of Trotter steps for QDrift simulation of tmix 2631\n",
      "Difference between Trotterized pulse_mix and reference pulse_mix: 3.4057490874963046\n"
     ]
    },
    {
     "name": "stderr",
     "output_type": "stream",
     "text": [
      "/var/folders/rm/xdxcjr7n7_13f9m1905zyf6c0000gq/T/ipykernel_42693/1202082691.py:453: DeprecationWarning: Conversion of an array with ndim > 0 to a scalar is deprecated, and will error in future. Ensure you extract a single element from your array before performing this operation. (Deprecated NumPy 1.25.)\n",
      "  fid_temp_1[j,i] = np.dot(coil,rho1)\n",
      "/var/folders/rm/xdxcjr7n7_13f9m1905zyf6c0000gq/T/ipykernel_42693/1202082691.py:456: DeprecationWarning: Conversion of an array with ndim > 0 to a scalar is deprecated, and will error in future. Ensure you extract a single element from your array before performing this operation. (Deprecated NumPy 1.25.)\n",
      "  fid_temp_2[j,i] = np.dot(coil,rho2)\n",
      "/var/folders/rm/xdxcjr7n7_13f9m1905zyf6c0000gq/T/ipykernel_42693/1202082691.py:459: DeprecationWarning: Conversion of an array with ndim > 0 to a scalar is deprecated, and will error in future. Ensure you extract a single element from your array before performing this operation. (Deprecated NumPy 1.25.)\n",
      "  fid_temp_3[j,i] = np.dot(coil,rho3)\n",
      "/var/folders/rm/xdxcjr7n7_13f9m1905zyf6c0000gq/T/ipykernel_42693/1202082691.py:462: DeprecationWarning: Conversion of an array with ndim > 0 to a scalar is deprecated, and will error in future. Ensure you extract a single element from your array before performing this operation. (Deprecated NumPy 1.25.)\n",
      "  fid_temp_4[j,i] = np.dot(coil,rho4)\n"
     ]
    }
   ],
   "source": [
    "Ntmix = 2631\n",
    "\n",
    "fid_coh_1, fid_coh_2, fid_coh_3, fid_coh_4 =GenFID_TmixInitJumpQDrift_cohT1T2(H_ala,JumpOps,T1,T2,rho0,coil,tmix,dt1,dt2,Ntmix,Lx,Ly)"
   ]
  },
  {
   "cell_type": "code",
   "execution_count": 124,
   "metadata": {},
   "outputs": [],
   "source": [
    "cos_coh_fid = fid_coh_1 - fid_coh_3\n",
    "sin_coh_fid = fid_coh_2 - fid_coh_4\n",
    "\n",
    "savemat('ALA_truncR_FIDcos_QDrift512_cohT1T2_initJump.mat', {'FID_cos': cos_coh_fid})\n",
    "savemat('ALA_truncR_FIDsin_QDrift512_cohT1T2_initJump.mat', {'FID_sin': sin_coh_fid})\n",
    "\n",
    "\n",
    "####There are only quantitative changes in a couple of signals with respect to the coherent T1/T2 evolution + qdrift for Tmix timescale...\n",
    "\n",
    "#for resource efficiency purposes, the best compromise with accuracy corresponds to effective QDrift channel+coherent T1/T2 evolution\n",
    "\n",
    "#Next step: how to Trotterize the coherent evolution"
   ]
  },
  {
   "cell_type": "code",
   "execution_count": null,
   "metadata": {},
   "outputs": [],
   "source": []
  },
  {
   "cell_type": "markdown",
   "metadata": {},
   "source": [
    "# Coherent T1/T2 time evolution + 2 step QDrift channel\n",
    "\n"
   ]
  },
  {
   "cell_type": "code",
   "execution_count": 118,
   "metadata": {},
   "outputs": [
    {
     "name": "stdout",
     "output_type": "stream",
     "text": [
      "Number of Trotter steps for deterministic simulation of T1 512\n",
      "Number of Trotter steps for deterministic simulation of T2 512\n",
      "Number of Trotter steps for QDrift simulation of tmix 2\n",
      "Difference between Trotterized pulse_mix and reference pulse_mix: 4.679913226275962\n"
     ]
    },
    {
     "name": "stderr",
     "output_type": "stream",
     "text": [
      "/var/folders/rm/xdxcjr7n7_13f9m1905zyf6c0000gq/T/ipykernel_42693/1436620669.py:328: DeprecationWarning: Conversion of an array with ndim > 0 to a scalar is deprecated, and will error in future. Ensure you extract a single element from your array before performing this operation. (Deprecated NumPy 1.25.)\n",
      "  fid_temp_1[j,i] = np.dot(coil,rho1)\n",
      "/var/folders/rm/xdxcjr7n7_13f9m1905zyf6c0000gq/T/ipykernel_42693/1436620669.py:331: DeprecationWarning: Conversion of an array with ndim > 0 to a scalar is deprecated, and will error in future. Ensure you extract a single element from your array before performing this operation. (Deprecated NumPy 1.25.)\n",
      "  fid_temp_2[j,i] = np.dot(coil,rho2)\n",
      "/var/folders/rm/xdxcjr7n7_13f9m1905zyf6c0000gq/T/ipykernel_42693/1436620669.py:334: DeprecationWarning: Conversion of an array with ndim > 0 to a scalar is deprecated, and will error in future. Ensure you extract a single element from your array before performing this operation. (Deprecated NumPy 1.25.)\n",
      "  fid_temp_3[j,i] = np.dot(coil,rho3)\n",
      "/var/folders/rm/xdxcjr7n7_13f9m1905zyf6c0000gq/T/ipykernel_42693/1436620669.py:337: DeprecationWarning: Conversion of an array with ndim > 0 to a scalar is deprecated, and will error in future. Ensure you extract a single element from your array before performing this operation. (Deprecated NumPy 1.25.)\n",
      "  fid_temp_4[j,i] = np.dot(coil,rho4)\n"
     ]
    }
   ],
   "source": [
    "Ntmix = 2\n",
    "\n",
    "\n",
    "fid_coh_1, fid_coh_2, fid_coh_3, fid_coh_4 = GenFID_TmixQDrift_cohT1T2(H_ala,JumpOps,T1,T2,rho0,coil,tmix,dt1,dt2,Ntmix,Lx,Ly)\n"
   ]
  },
  {
   "cell_type": "code",
   "execution_count": 119,
   "metadata": {},
   "outputs": [],
   "source": [
    "cos_coh_fid = fid_coh_1 - fid_coh_3\n",
    "sin_coh_fid = fid_coh_2 - fid_coh_4\n",
    "\n",
    "\n",
    "savemat('ALA_truncR_FIDcos_QDrift512_cohT1T2_2Step.mat', {'FID_cos': cos_coh_fid})\n",
    "savemat('ALA_truncR_FIDsin_QDrift512_cohT1T2_2Step.mat', {'FID_sin': sin_coh_fid})\n"
   ]
  },
  {
   "cell_type": "code",
   "execution_count": 117,
   "metadata": {},
   "outputs": [
    {
     "data": {
      "text/plain": [
       "array([9.99955205e-01, 1.53581459e-05, 1.48248770e-05, 1.46115694e-05])"
      ]
     },
     "execution_count": 117,
     "metadata": {},
     "output_type": "execute_result"
    }
   ],
   "source": [
    "List_weights/sum(List_weights)"
   ]
  },
  {
   "cell_type": "markdown",
   "metadata": {},
   "source": [
    "# Simplifying the coarse-graining of the QDrift channel"
   ]
  },
  {
   "cell_type": "code",
   "execution_count": 94,
   "metadata": {},
   "outputs": [
    {
     "name": "stdout",
     "output_type": "stream",
     "text": [
      "Number of Trotter steps for deterministic simulation of T1 512\n",
      "Number of Trotter steps for deterministic simulation of T2 512\n",
      "Number of Trotter steps for QDrift simulation of tmix 1\n",
      "Difference between Trotterized pulse_mix and reference pulse_mix: 4.680482060069453\n"
     ]
    },
    {
     "name": "stderr",
     "output_type": "stream",
     "text": [
      "/var/folders/rm/xdxcjr7n7_13f9m1905zyf6c0000gq/T/ipykernel_42693/2501787718.py:235: DeprecationWarning: Conversion of an array with ndim > 0 to a scalar is deprecated, and will error in future. Ensure you extract a single element from your array before performing this operation. (Deprecated NumPy 1.25.)\n",
      "  fid_temp_1[j,i] = np.dot(coil,rho1)\n",
      "/var/folders/rm/xdxcjr7n7_13f9m1905zyf6c0000gq/T/ipykernel_42693/2501787718.py:238: DeprecationWarning: Conversion of an array with ndim > 0 to a scalar is deprecated, and will error in future. Ensure you extract a single element from your array before performing this operation. (Deprecated NumPy 1.25.)\n",
      "  fid_temp_2[j,i] = np.dot(coil,rho2)\n",
      "/var/folders/rm/xdxcjr7n7_13f9m1905zyf6c0000gq/T/ipykernel_42693/2501787718.py:241: DeprecationWarning: Conversion of an array with ndim > 0 to a scalar is deprecated, and will error in future. Ensure you extract a single element from your array before performing this operation. (Deprecated NumPy 1.25.)\n",
      "  fid_temp_3[j,i] = np.dot(coil,rho3)\n",
      "/var/folders/rm/xdxcjr7n7_13f9m1905zyf6c0000gq/T/ipykernel_42693/2501787718.py:244: DeprecationWarning: Conversion of an array with ndim > 0 to a scalar is deprecated, and will error in future. Ensure you extract a single element from your array before performing this operation. (Deprecated NumPy 1.25.)\n",
      "  fid_temp_4[j,i] = np.dot(coil,rho4)\n"
     ]
    }
   ],
   "source": [
    "Ntmix = 1\n",
    "\n",
    "fid_temp_1, fid_temp_2, fid_temp_3, fid_temp_4 = GenFID_TmixQDriftsignals(H_ala,JumpOps,T1,T2,rho0,coil,tmix,dt1,dt2,Ntmix,Lx,Ly)"
   ]
  },
  {
   "cell_type": "code",
   "execution_count": 1,
   "metadata": {},
   "outputs": [
    {
     "ename": "NameError",
     "evalue": "name 'fid_temp_1' is not defined",
     "output_type": "error",
     "traceback": [
      "\u001b[0;31m---------------------------------------------------------------------------\u001b[0m",
      "\u001b[0;31mNameError\u001b[0m                                 Traceback (most recent call last)",
      "Cell \u001b[0;32mIn[1], line 1\u001b[0m\n\u001b[0;32m----> 1\u001b[0m cos_fid \u001b[38;5;241m=\u001b[39m \u001b[43mfid_temp_1\u001b[49m \u001b[38;5;241m-\u001b[39m fid_temp_3\n\u001b[1;32m      2\u001b[0m sin_fid \u001b[38;5;241m=\u001b[39m fid_temp_2 \u001b[38;5;241m-\u001b[39m fid_temp_4\n\u001b[1;32m      5\u001b[0m savemat(\u001b[38;5;124m'\u001b[39m\u001b[38;5;124mALA_truncR_FIDcos_QDrift512_1step.mat\u001b[39m\u001b[38;5;124m'\u001b[39m, {\u001b[38;5;124m'\u001b[39m\u001b[38;5;124mFID_cos\u001b[39m\u001b[38;5;124m'\u001b[39m: cos_fid})\n",
      "\u001b[0;31mNameError\u001b[0m: name 'fid_temp_1' is not defined"
     ]
    }
   ],
   "source": [
    "\n",
    "cos_fid = fid_temp_1 - fid_temp_3\n",
    "sin_fid = fid_temp_2 - fid_temp_4\n",
    "\n",
    "\n",
    "savemat('ALA_truncR_FIDcos_QDrift512_1step.mat', {'FID_cos': cos_fid})\n",
    "savemat('ALA_truncR_FIDsin_QDrift512_1step.mat', {'FID_sin': sin_fid})"
   ]
  },
  {
   "cell_type": "markdown",
   "metadata": {},
   "source": [
    "# Approximating the space of trajectories to a single jump operator for the whole protocol"
   ]
  },
  {
   "cell_type": "code",
   "execution_count": 14,
   "metadata": {},
   "outputs": [],
   "source": [
    "\n",
    "def eff_QDriftChann_FinJump(List_gens,time_evol,NSteps):\n",
    "    \"\"\"\n",
    "    Calculation of an effective QDrift channel. Based on the observation that the action of jump operators are in essence rare events \n",
    "    \"\"\"\n",
    "    Norm_ops, List_weights = Normalize_and_weightOps(List_gens)\n",
    "\n",
    "    List_weights = np.array(List_weights)\n",
    "    Gamma =  np.sum(List_weights)\n",
    "\n",
    "    pks = (1.0/Gamma)*List_weights\n",
    "\n",
    "    Eff_probs = np.zeros(len(List_gens))\n",
    "\n",
    "    Eff_probs[0] = pks[0]**(NSteps) #probability of sampling coherent evolution only\n",
    "\n",
    "    for i in range(1,len(Eff_probs)):\n",
    "        Eff_probs[i] = pks[0]**(NSteps-1) * pks[i] #probability of sampling a circuit with NSteps-1 layers of H0 and one jump operator\n",
    "    \n",
    "    #Glob_Chann = Eff_probs[0]*expm(-1j*List_gens[0]*time_evol)\n",
    "    Glob_Chann = Eff_probs[0]*expm(-1j*Norm_ops[0]*time_evol*Gamma)\n",
    "\n",
    "    for i in range(1,len(Eff_probs)):\n",
    "        Glob_Chann = Glob_Chann + NSteps*Eff_probs[i]*expm(Norm_ops[i]*(time_evol/NSteps)*Gamma)*expm(-1j*Norm_ops[0]*(time_evol/NSteps)*Gamma*(NSteps-1))\n",
    "\n",
    "    #Glob_Chann =Glob_Chann + Eff_probs[0]\n",
    "\n",
    "    #Glob_Chann = Glob_Chann+ProbSingleJumpLayers(List_gens,Eff_probs[1:],time_evol,NSteps)\n",
    "\n",
    "    #Glob_Chann = Glob_Chann+ProbSingleJumpLayers(Norm_ops,Eff_probs[1:],time_evol*Gamma,NSteps)\n",
    "    return Glob_Chann\n",
    "\n",
    "\n",
    "def GenFID_JumpQDriftEnd_cohT1T2(Ham,List_jumps,T1,T2,rho0,coil,tmix,dt1,dt2,Ntmix,Lx,Ly):\n",
    "    \"\"\"\n",
    "    Implement a first-order deterministic Trotter simulation of the FID NOESY signals, to numerically explore optimization of number of Trotter steps needed in the simulation\n",
    "    for a target precision\n",
    "    Args:\n",
    "    Ham: matrix representation of the \"coherent\" part of the Liouvillian superoperator\n",
    "    List_jumps: list of the matrix representation of the jump operators\n",
    "    T1: maximal simulation time for the first phase of the protocol\n",
    "    T2: maximal simulation time for the second phase of the protocol\n",
    "    rho0: initial density matrix vector\n",
    "    coil: vector that represents the obervable we trace over to compute FID\n",
    "    Ntmix: number of samples to drawn in QDrift for the simulation of the system for tmix\n",
    "    \"\"\"\n",
    "    \n",
    "    R = sum(List_jumps)\n",
    "\n",
    "    #In this version, we drop the dissipation channels of the evolution during T1 and T2\n",
    "    L_dt1 = expm((-1j*Ham)*dt1)\n",
    "\n",
    "    L_dt2 = expm((-1j*Ham)*dt2)\n",
    "\n",
    "    Tpts1 = int(np.floor(T1/dt1))\n",
    "    Tpts2 = int(np.floor(T2/dt2))\n",
    "\n",
    "    print(\"Number of Trotter steps for deterministic simulation of T1\",Tpts1)\n",
    "    print(\"Number of Trotter steps for deterministic simulation of T2\",Tpts2)\n",
    "    print(\"Number of Trotter steps for QDrift simulation of tmix\", Ntmix)\n",
    "    \n",
    "    #pulse_mix = eff_QDriftChann_OneJump([Ham]+List_jumps,tmix,Ntmix)\n",
    "    #pulse_mix = eff_QDriftChann_InitJump([Ham]+List_jumps,tmix,Ntmix)\n",
    "    pulse_mix = expm((-1j*Ham)*tmix)\n",
    "    #QDriftChann([Ham]+List_jumps,tmix)\n",
    "    #for i in range(Ntmix):\n",
    "    #    pulse_mix = L_dtmix@pulse_mix\n",
    "\n",
    "    print(\"Difference between Trotterized pulse_mix and reference pulse_mix:\", np.linalg.norm(pulse_mix-expm((-1j*Ham+R)*tmix)))\n",
    "\n",
    "\n",
    "    pulse_90x = expm(-1j*Lx*np.pi/2)\n",
    "    pulse_90y = expm(-1j*Ly*np.pi/2)\n",
    "    pulse_90mx = expm(1j*Lx*np.pi/2)\n",
    "    pulse_90my = expm(1j*Ly*np.pi/2)\n",
    "\n",
    "    #First 90x pulse:\n",
    "    rho_t = np.copy(rho0)\n",
    "    rho_t = np.dot(pulse_90x,rho_t)\n",
    "\n",
    "    rho_stack = []\n",
    "    rho_stack.append(rho_t)\n",
    "\n",
    "    rho_temp = np.copy(rho_t)\n",
    "    for i in range(1,Tpts1):\n",
    "        rho_temp = np.dot(L_dt1,rho_temp)\n",
    "        rho_stack.append(rho_temp)\n",
    "\n",
    "\n",
    "    rho_stack1_1 = []\n",
    "    rho_stack1_2 = []\n",
    "    rho_stack1_3 = []\n",
    "    rho_stack1_4 = []\n",
    "\n",
    "    for i in range(Tpts1):\n",
    "        rho_stack1_1.append(pulse_90y@pulse_mix@pulse_90x@rho_stack[i])\n",
    "        rho_stack1_2.append(pulse_90y@pulse_mix@pulse_90y@rho_stack[i])\n",
    "        rho_stack1_3.append(pulse_90y@pulse_mix@pulse_90mx@rho_stack[i])\n",
    "        rho_stack1_4.append(pulse_90y@pulse_mix@pulse_90my@rho_stack[i])\n",
    "\n",
    "\n",
    "    fid_temp_1 = np.zeros([Tpts2,Tpts1],dtype=complex)\n",
    "    fid_temp_2 = np.zeros([Tpts2,Tpts1],dtype=complex)\n",
    "    fid_temp_3 = np.zeros([Tpts2,Tpts1],dtype=complex)\n",
    "    fid_temp_4 = np.zeros([Tpts2,Tpts1],dtype=complex)\n",
    "\n",
    "    for i in range(Tpts1):\n",
    "        rho1 = rho_stack1_1[i]\n",
    "        rho2 = rho_stack1_2[i]\n",
    "        rho3 = rho_stack1_3[i]\n",
    "        rho4 = rho_stack1_4[i]\n",
    "\n",
    "        for j in range(Tpts2):\n",
    "            fid_temp_1[j,i] = np.dot(coil,rho1)\n",
    "\n",
    "            Ldt2 = eff_QDriftChann_FinJump([Ham]+List_jumps,(j+1)*dt2,j+1)\n",
    "            rho1 = L_dt2@rho1\n",
    "\n",
    "            fid_temp_2[j,i] = np.dot(coil,rho2)\n",
    "            Ldt2 = eff_QDriftChann_FinJump([Ham]+List_jumps,(j+1)*dt2,j+1)\n",
    "            rho2 = L_dt2@rho2\n",
    "\n",
    "            fid_temp_3[j,i] = np.dot(coil,rho3)\n",
    "            Ldt2 = eff_QDriftChann_FinJump([Ham]+List_jumps,(j+1)*dt2,j+1)\n",
    "            rho3 = L_dt2@rho3\n",
    "\n",
    "            fid_temp_4[j,i] = np.dot(coil,rho4)\n",
    "            Ldt2 = eff_QDriftChann_FinJump([Ham]+List_jumps,(j+1)*dt2,j+1)\n",
    "            rho4 = L_dt2@rho4\n",
    "    \n",
    "    return fid_temp_1, fid_temp_2, fid_temp_3, fid_temp_4"
   ]
  },
  {
   "cell_type": "code",
   "execution_count": 15,
   "metadata": {},
   "outputs": [],
   "source": [
    "T1 = Tpts1*dt1\n",
    "T2 = Tpts2*dt2\n",
    "Ntmix = 2631"
   ]
  },
  {
   "cell_type": "code",
   "execution_count": 21,
   "metadata": {},
   "outputs": [],
   "source": [
    "###Loadiing remotely-processed data...\n",
    "\n",
    "f = open('./data/ALA_FinJump_cohEvol.pk','rb')\n",
    "dat = pickle.load(f)\n",
    "\n",
    "fid_1 = dat['fid_1']\n",
    "fid_2 = dat['fid_2']\n",
    "fid_3 = dat['fid_3']\n",
    "fid_4 = dat['fid_4']\n"
   ]
  },
  {
   "cell_type": "code",
   "execution_count": 23,
   "metadata": {},
   "outputs": [],
   "source": [
    "\n",
    "cos_fid = fid_1 - fid_3\n",
    "sin_fid = fid_2 - fid_4\n",
    "\n",
    "\n",
    "savemat('ALA_truncR_FIDcos_FinJump_coh.mat', {'FID_cos': cos_fid})\n",
    "savemat('ALA_truncR_FIDsin_FinJump_coh.mat', {'FID_sin': sin_fid})"
   ]
  },
  {
   "cell_type": "code",
   "execution_count": 17,
   "metadata": {},
   "outputs": [],
   "source": [
    "\n",
    "#fid_1, fid_2, fid_3, fid_4 = GenFID_JumpQDriftEnd_cohT1T2(H_ala,JumpOps,T1,T2,rho0,coil,tmix,dt1,dt2,Ntmix,Lx,Ly)"
   ]
  },
  {
   "cell_type": "markdown",
   "metadata": {},
   "source": [
    "# Purely dissipative free evolution during mixing time"
   ]
  },
  {
   "cell_type": "code",
   "execution_count": null,
   "metadata": {},
   "outputs": [],
   "source": [
    "#####There is a qualitative difference between the reproduced spectrum simulating the dissipation channels only during the mixing time"
   ]
  },
  {
   "cell_type": "code",
   "execution_count": 97,
   "metadata": {},
   "outputs": [
    {
     "name": "stdout",
     "output_type": "stream",
     "text": [
      "Number of Trotter steps for deterministic simulation of T1 512\n",
      "Number of Trotter steps for deterministic simulation of T2 512\n",
      "Number of Trotter steps for QDrift simulation of tmix 1\n",
      "Difference between pulse_mix and reference pulse_mix: 17.02697525169766\n"
     ]
    },
    {
     "name": "stderr",
     "output_type": "stream",
     "text": [
      "/var/folders/rm/xdxcjr7n7_13f9m1905zyf6c0000gq/T/ipykernel_42693/1436620669.py:420: DeprecationWarning: Conversion of an array with ndim > 0 to a scalar is deprecated, and will error in future. Ensure you extract a single element from your array before performing this operation. (Deprecated NumPy 1.25.)\n",
      "  fid_temp_1[j,i] = np.dot(coil,rho1)\n",
      "/var/folders/rm/xdxcjr7n7_13f9m1905zyf6c0000gq/T/ipykernel_42693/1436620669.py:423: DeprecationWarning: Conversion of an array with ndim > 0 to a scalar is deprecated, and will error in future. Ensure you extract a single element from your array before performing this operation. (Deprecated NumPy 1.25.)\n",
      "  fid_temp_2[j,i] = np.dot(coil,rho2)\n",
      "/var/folders/rm/xdxcjr7n7_13f9m1905zyf6c0000gq/T/ipykernel_42693/1436620669.py:426: DeprecationWarning: Conversion of an array with ndim > 0 to a scalar is deprecated, and will error in future. Ensure you extract a single element from your array before performing this operation. (Deprecated NumPy 1.25.)\n",
      "  fid_temp_3[j,i] = np.dot(coil,rho3)\n",
      "/var/folders/rm/xdxcjr7n7_13f9m1905zyf6c0000gq/T/ipykernel_42693/1436620669.py:429: DeprecationWarning: Conversion of an array with ndim > 0 to a scalar is deprecated, and will error in future. Ensure you extract a single element from your array before performing this operation. (Deprecated NumPy 1.25.)\n",
      "  fid_temp_4[j,i] = np.dot(coil,rho4)\n"
     ]
    }
   ],
   "source": [
    "fid_temp_1, fid_temp_2, fid_temp_3, fid_temp_4 = GenFID_DissTmix(H_ala,JumpOps,T1,T2,rho0,coil,tmix,dt1,dt2,Ntmix,Lx,Ly)"
   ]
  },
  {
   "cell_type": "code",
   "execution_count": 98,
   "metadata": {},
   "outputs": [],
   "source": [
    "cos_fid = fid_temp_1 - fid_temp_3\n",
    "sin_fid = fid_temp_2 - fid_temp_4\n",
    "\n",
    "savemat('ALA_truncR_FIDcos_DissTmix.mat', {'FID_cos': cos_fid})\n",
    "savemat('ALA_truncR_FIDsin_DissTmix.mat', {'FID_sin': sin_fid})\n"
   ]
  },
  {
   "cell_type": "markdown",
   "metadata": {},
   "source": [
    "# Fidelity of QDrift channel with respect to exact propagation\n",
    "\n",
    "\n",
    "\n"
   ]
  },
  {
   "cell_type": "code",
   "execution_count": 129,
   "metadata": {},
   "outputs": [
    {
     "data": {
      "text/plain": [
       "array([0, 0, 0, 1])"
      ]
     },
     "execution_count": 129,
     "metadata": {},
     "output_type": "execute_result"
    }
   ],
   "source": [
    "np.kron(np.array([0,1]),np.array([0,1]))"
   ]
  },
  {
   "cell_type": "code",
   "execution_count": 128,
   "metadata": {},
   "outputs": [
    {
     "data": {
      "text/plain": [
       "<module 'scipy.linalg' from '/Users/luismartinezmartinez/BQSKit/lib/python3.11/site-packages/scipy/linalg/__init__.py'>"
      ]
     },
     "execution_count": 128,
     "metadata": {},
     "output_type": "execute_result"
    }
   ],
   "source": [
    "import scipy.linalg\n",
    "\n",
    "\n",
    "scipy.linal"
   ]
  },
  {
   "cell_type": "code",
   "execution_count": 130,
   "metadata": {},
   "outputs": [
    {
     "data": {
      "text/plain": [
       "array([[0., 0., 1., 0.],\n",
       "       [0., 0., 0., 1.],\n",
       "       [0., 0., 0., 0.],\n",
       "       [0., 0., 0., 0.]])"
      ]
     },
     "execution_count": 130,
     "metadata": {},
     "output_type": "execute_result"
    }
   ],
   "source": [
    "np.kron(np.array([[0,1],[0,0]]),np.eye(2))"
   ]
  },
  {
   "cell_type": "code",
   "execution_count": 131,
   "metadata": {},
   "outputs": [],
   "source": [
    "####Decomposing the density matrix of a maximally entangled state in an extended Hilbert space, using the Sz eigenbasis\n",
    "\n",
    "#We can use our pipeline based on an orthonormalized Pauli basis to simplify the calculation:\n",
    "\n",
    "def Get_RT(Channel):\n",
    "    ###Dimensionality of the channel:\n",
    "    dim_chan = Channel.shape[0]\n",
    "\n",
    "    Phi_plus = np.zeros(dim_chan**2)\n",
    "\n",
    "    for i in range(dim_chan):\n",
    "        vec = np.zeros(dim_chan)\n",
    "        vec[i] = 1.0\n",
    "        Phi_plus+=np.kron(vec,vec)\n",
    "\n",
    "    #Extended channel:\n",
    "    Chann_I = np.kron(Channel,np.eye(dim_chan))\n",
    "\n",
    "    return (1.0/dim_chan)*Chann_I@Phi_plus\n",
    "\n",
    "\n"
   ]
  },
  {
   "cell_type": "code",
   "execution_count": 132,
   "metadata": {},
   "outputs": [],
   "source": [
    "Ref_Ext_den = Get_RT(expm((-1j*H_ala+Rtrunc)*0.1))"
   ]
  },
  {
   "cell_type": "code",
   "execution_count": 161,
   "metadata": {},
   "outputs": [],
   "source": [
    "####The calculation of the \"purified\" density matrix in the Pauli basis was simple but the fidelity of density matrices is not thats simple...\n",
    "####Construction of the density matrix...\n",
    "\n",
    "\n",
    "def Get_DenMat_vromVect(Vect,NormBasis):\n",
    "    \"\"\"\n",
    "    Get the density matrix in the {S_{z}} eigenbasis starting from its vector representation in the Pauli Spinach's basis\n",
    "    \"\"\"\n",
    "    dim_orig = len(NormBasis)\n",
    "    nqubs = int(np.log2(dim_orig)/2)\n",
    "\n",
    "    DenMat = np.zeros([2**(2*nqubs),2**(2*nqubs)],dtype=complex)\n",
    "\n",
    "    for i in range(dim_orig):\n",
    "        vec= np.zeros(dim_orig)\n",
    "        vec[i] = 1.0\n",
    "        ext_vec = np.kron(vec,vec)\n",
    "        weight = np.vdot(ext_vec,Vect)\n",
    "        Bas_element_mat_form = of.get_sparse_operator(NormBasis[i],n_qubits=nqubs)\n",
    "\n",
    "        DenMat+=weight*np.kron(Bas_element_mat_form.toarray(),Bas_element_mat_form.toarray())\n",
    "\n",
    "\n",
    "    return DenMat\n",
    "\n",
    "\n"
   ]
  },
  {
   "cell_type": "code",
   "execution_count": 162,
   "metadata": {},
   "outputs": [],
   "source": [
    "Ref_DenMat = Get_DenMat_vromVect(Ref_Ext_den,Normbasis_ala)"
   ]
  },
  {
   "cell_type": "code",
   "execution_count": 163,
   "metadata": {},
   "outputs": [
    {
     "data": {
      "text/plain": [
       "(256, 256)"
      ]
     },
     "execution_count": 163,
     "metadata": {},
     "output_type": "execute_result"
    }
   ],
   "source": [
    "np.shape(Ref_DenMat)"
   ]
  },
  {
   "cell_type": "code",
   "execution_count": null,
   "metadata": {},
   "outputs": [],
   "source": []
  }
 ],
 "metadata": {
  "kernelspec": {
   "display_name": "BQSKit",
   "language": "python",
   "name": "python3"
  },
  "language_info": {
   "codemirror_mode": {
    "name": "ipython",
    "version": 3
   },
   "file_extension": ".py",
   "mimetype": "text/x-python",
   "name": "python",
   "nbconvert_exporter": "python",
   "pygments_lexer": "ipython3",
   "version": "3.11.5"
  }
 },
 "nbformat": 4,
 "nbformat_minor": 2
}
