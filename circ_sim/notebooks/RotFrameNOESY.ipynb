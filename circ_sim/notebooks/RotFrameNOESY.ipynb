{
 "cells": [
  {
   "cell_type": "code",
   "execution_count": 18,
   "metadata": {},
   "outputs": [],
   "source": [
    "#NOESY spectrum performing the simulation in a rotating frame\n",
    "\n",
    "import sys\n",
    "sys.path.append('./utils/')\n",
    "import numpy as np\n",
    "import scipy.io as spio\n",
    "from scipy.linalg import expm\n",
    "import sys \n",
    "import json\n",
    "#import pandas as pd\n",
    "\n",
    "from basis_utils import read_spinach_info, build_list_ISTs, NormalizeBasis, build_symbolic_list_ISTs,Sz,Sx,Sy,Sz, InnProd\n",
    "from analytical_fit import get_chemical_shifts, Get_Det_And_Rates ,Get_Det_And_Rates_latex,RelMat_from_ops_and_rates\n",
    "from simulation_utils import GenNOESYSpectrum, GenH0_Ham,  HamMatRep, sqcosbell_2d_apod, GenFIDsignals\n",
    "import openfermion as of\n",
    "from scipy.io import savemat\n",
    "\n",
    "from matplotlib import pyplot as plt\n",
    "\n",
    "import copy"
   ]
  },
  {
   "cell_type": "code",
   "execution_count": 242,
   "metadata": {},
   "outputs": [],
   "source": [
    "def pulse_90xRot(Lx,Ly,ws,t):\n",
    "\n",
    "    return expm(-1j*(np.pi/2)*(np.cos(ws*t)*Lx+np.sin(ws*t)*Ly))\n",
    "\n",
    "def pulse_90yRot(Lx,Ly,ws,t):\n",
    "    return expm(-1j*(np.pi/2)*(-np.sin(ws*t)*Lx+np.cos(ws*t)*Ly))\n",
    "\n",
    "\n",
    "def GenFIDsignals_Rot(Ham,R,basis,w0,Tpts1,Tpts2,rho0,coil,tmix,dt1,dt2,Lx,Ly):\n",
    "    \"\"\"\n",
    "    Returns: the FID signals for calculation of NOESY spectrum.\n",
    "    Args:\n",
    "    Ham: the target Hamiltonian to simulate, in openfermion format\n",
    "    R: the relaxation matrix\n",
    "    w0: the frequecy in w0\\sum_{i}S_{z,i}, that defines the rotating frame\n",
    "    Tpts1, number of time points along dim 1\n",
    "    Tpst2, number of points along dim 2\n",
    "    rho0: initial vector to propagate\n",
    "    coil, the vector that represents the observable to measure to obtain FID (transverse magnetization )\n",
    "    tmix, mixing time\n",
    "    dt1, delta of time along dim 1\n",
    "    dt2, delta of time along dim2\n",
    "    Lx, \\sum_{i}S_{x,i}\n",
    "\n",
    "    \"\"\"\n",
    "\n",
    "    t_grid1= np.linspace(0,(Tpts1-1)*dt1,Tpts1)\n",
    "    t_grid2 = np.linspace(0,(Tpts2-1)*dt2,Tpts2)\n",
    "\n",
    "    ###Renormalization of Hamiltonian frequencies\n",
    "    Nspins = of.count_qubits(Ham)\n",
    "\n",
    "    Rot_Ham = copy.deepcopy(Ham)\n",
    "\n",
    "    H0 = of.QubitOperator()\n",
    "\n",
    "    for i in range(Nspins):\n",
    "        H0+=w0*Sz(i)\n",
    "        Rot_Ham+=w0*Sz(i)\n",
    "\n",
    "\n",
    "    print(\"The Hamiltonian in the rotating frame is:\",Rot_Ham)\n",
    "\n",
    "    ###Matrix representation of the rotating frame...\n",
    "    Mat_Rot_Ham = HamMatRep(Rot_Ham,basis,n_qubits=Nspins)\n",
    "\n",
    "    #Matrix representation of the H0 Hamiltonian\n",
    "    MatH0 = HamMatRep(H0,basis,n_qubits=Nspins)\n",
    "    \n",
    "\n",
    "    #Dim = Ham.shape[0]\n",
    "    Lnet = Mat_Rot_Ham+1j*R \n",
    "    L_dt1 = expm(-1j*Lnet*dt1)\n",
    "    L_dt2 = expm(-1j*Lnet*dt2)\n",
    "    pulse_mix = expm(-1j*Lnet*tmix)\n",
    "\n",
    "\n",
    "    pulse_90x = expm(-1j*Lx*np.pi/2)\n",
    "    #pulse_90y = expm(-1j*Ly*np.pi/2)\n",
    "    #pulse_90mx = expm(1j*Lx*np.pi/2)\n",
    "    #pulse_90my = expm(1j*Ly*np.pi/2)\n",
    "\n",
    "\n",
    "    #FID_1 = np.zeros([Tpts2,Tpts1],dtype=complex)\n",
    "    #FID_2 = np.zeros([Tpts2,Tpts1],dtype=complex)\n",
    "    #FID_3 = np.zeros([Tpts2,Tpts1],dtype=complex)\n",
    "    #FID_4 = np.zeros([Tpts2,Tpts1],dtype=complex)\n",
    "\n",
    "    #First 90x pulse:\n",
    "    rho_t = np.copy(rho0)\n",
    "    rho_t = np.dot(pulse_90x,rho_t)\n",
    "\n",
    "    rho_stack = []\n",
    "    rho_stack.append(rho_t)\n",
    "\n",
    "    rho_temp = np.copy(rho_t)\n",
    "    for i in range(1,Tpts1):\n",
    "        rho_temp = np.dot(L_dt1,rho_temp)\n",
    "        rho_stack.append(rho_temp)\n",
    "\n",
    "\n",
    "    rho_stack1_1 = []\n",
    "    rho_stack1_2 = []\n",
    "    rho_stack1_3 = []\n",
    "    rho_stack1_4 = []\n",
    "\n",
    "    for i in range(Tpts1):\n",
    "        \n",
    "        pulse_90_x_t = pulse_90xRot(Lx,Ly,w0,t_grid1[i])\n",
    "        pulse_90_y_t = pulse_90yRot(Lx,Ly,w0,t_grid1[i])\n",
    "        pulse_90_x_tm = np.conjugate(np.transpose(pulse_90_x_t))\n",
    "        pulse_90_y_tm= np.conjugate(np.transpose(pulse_90_y_t))\n",
    "\n",
    "        pulse_90yRotMix = pulse_90yRot(Lx,Ly,w0,t_grid1[i]+tmix)\n",
    "\n",
    "        rho_stack1_1.append(pulse_90yRotMix@pulse_mix@pulse_90_x_t@rho_stack[i])\n",
    "        rho_stack1_2.append(pulse_90yRotMix@pulse_mix@pulse_90_y_t@rho_stack[i])\n",
    "        rho_stack1_3.append(pulse_90yRotMix@pulse_mix@pulse_90_x_tm@rho_stack[i])\n",
    "        rho_stack1_4.append(pulse_90yRotMix@pulse_mix@pulse_90_y_tm@rho_stack[i])\n",
    "\n",
    "\n",
    "    fid_temp_1 = np.zeros([Tpts2,Tpts1],dtype=complex)\n",
    "    fid_temp_2 = np.zeros([Tpts2,Tpts1],dtype=complex)\n",
    "    fid_temp_3 = np.zeros([Tpts2,Tpts1],dtype=complex)\n",
    "    fid_temp_4 = np.zeros([Tpts2,Tpts1],dtype=complex)\n",
    "\n",
    "    for i in range(Tpts1):\n",
    "        rho1 = rho_stack1_1[i]\n",
    "        rho2 = rho_stack1_2[i]\n",
    "        rho3 = rho_stack1_3[i]\n",
    "        rho4 = rho_stack1_4[i]\n",
    "\n",
    "        for j in range(Tpts2):\n",
    "            #To ensure the invariance of FID under the change of frames, we need to introduce a unitary transform...\n",
    "            #coil_rot = np.dot(np.transpose(coil),expm(-1j*MatH0*(j*dt2+tmix+dt1*i)))\n",
    "            coil_rot = expm(-1j*MatH0*(j*dt2+tmix+dt1*i))@coil\n",
    "\n",
    "            coil_rot = np.transpose(np.conjugate(coil_rot))\n",
    "\n",
    "            fid_temp_1[j,i] = np.dot(coil_rot,rho1)\n",
    "            rho1 = L_dt2@rho1\n",
    "\n",
    "            fid_temp_2[j,i] = np.dot(coil_rot,rho2)\n",
    "            rho2 = L_dt2@rho2\n",
    "\n",
    "            fid_temp_3[j,i] = np.dot(coil_rot,rho3)\n",
    "            rho3 = L_dt2@rho3\n",
    "\n",
    "            fid_temp_4[j,i] = np.dot(coil_rot,rho4)\n",
    "            rho4 = L_dt2@rho4\n",
    "    \n",
    "    return fid_temp_1, fid_temp_2, fid_temp_3, fid_temp_4\n",
    "\n",
    "\n",
    "#fid_temp_1, fid_temp_2, fid_temp_3, fid_temp_4 = GenFIDsignals(Ham,R,Tpts1,Tpts2,rho0,coil,tmix,dt1,dt2,Lx,Ly)\n",
    "    \n",
    "def GenSpec_from_FIDs(fid_temp_1, fid_temp_2, fid_temp_3, fid_temp_4,zerofill1,zerofill2):\n",
    "\n",
    "    fid_test_cos = fid_temp_1 - fid_temp_3\n",
    "    fid_test_sin = fid_temp_2 - fid_temp_4\n",
    "\n",
    "    fid_cos = sqcosbell_2d_apod(fid_test_cos)\n",
    "    fid_sin = sqcosbell_2d_apod(fid_test_sin)\n",
    "\n",
    "    f1_cos = np.real(np.fft.fftshift(np.fft.fft2(fid_cos,[zerofill2],[0]),[0]))\n",
    "    f1_sin = np.real(np.fft.fftshift(np.fft.fft2(fid_sin,[zerofill2],[0]),[0]))\n",
    "\n",
    "\n",
    "    f1_states = f1_cos-1j*f1_sin\n",
    "\n",
    "    spectrum = np.fft.fftshift(np.fft.fft2(f1_states,[zerofill1],[1]),[1])\n",
    "    #if returnFID:\n",
    "        ###NOTE: return the FID witouth post-processing\n",
    "    #    return spectrum, fid_test_cos-1j*fid_test_sin\n",
    "    #else:\n",
    "    return spectrum\n",
    "\n",
    "\n",
    "def Ref_NOESY_debug(Ham,R,Tpts1,Tpts2,rho0,coil,tmix,dt1,dt2,Lx,Ly):\n",
    "    \n",
    "    #Dim = Ham.shape[0]\n",
    "    Lnet = Ham+1j*R \n",
    "    L_dt1 = expm(-1j*Lnet*dt1)\n",
    "    L_dt2 = expm(-1j*Lnet*dt2)\n",
    "    pulse_mix = expm(-1j*Lnet*tmix)\n",
    "\n",
    "\n",
    "    \n",
    "    pulse_90x = expm(-1j*Lx*np.pi/2)\n",
    "    pulse_90y = expm(-1j*Ly*np.pi/2)\n",
    "    pulse_90mx = expm(1j*Lx*np.pi/2)\n",
    "    pulse_90my = expm(1j*Ly*np.pi/2)\n",
    "\n",
    "\n",
    "    #FID_1 = np.zeros([Tpts2,Tpts1],dtype=complex)\n",
    "    #FID_2 = np.zeros([Tpts2,Tpts1],dtype=complex)\n",
    "    #FID_3 = np.zeros([Tpts2,Tpts1],dtype=complex)\n",
    "    #FID_4 = np.zeros([Tpts2,Tpts1],dtype=complex)\n",
    "\n",
    "    #First 90x pulse:\n",
    "    rho_t = np.copy(rho0)\n",
    "    rho_t = np.dot(pulse_90x,rho_t)\n",
    "\n",
    "    rho_stack = []\n",
    "    rho_stack.append(rho_t)\n",
    "\n",
    "    rho_temp = np.copy(rho_t)\n",
    "    for i in range(1,Tpts1):\n",
    "        rho_temp = np.dot(L_dt1,rho_temp)\n",
    "        rho_stack.append(rho_temp)\n",
    "\n",
    "\n",
    "    rho_stack1_1 = []\n",
    "    rho_stack1_2 = []\n",
    "    rho_stack1_3 = []\n",
    "    rho_stack1_4 = []\n",
    "\n",
    "    for i in range(Tpts1):\n",
    "        rho_stack1_1.append(pulse_90y@pulse_mix@pulse_90x@rho_stack[i])\n",
    "        rho_stack1_2.append(pulse_90y@pulse_mix@pulse_90y@rho_stack[i])\n",
    "        rho_stack1_3.append(pulse_90y@pulse_mix@pulse_90mx@rho_stack[i])\n",
    "        rho_stack1_4.append(pulse_90y@pulse_mix@pulse_90my@rho_stack[i])\n",
    "\n",
    "    return rho_stack1_1, rho_stack1_2\n",
    "\n"
   ]
  },
  {
   "cell_type": "code",
   "execution_count": 243,
   "metadata": {},
   "outputs": [],
   "source": [
    "#translation of basis format in Spinach to symbolic form\n",
    "text=\"\"\"1      (0,0)   (0,0)   \n",
    "  2      (0,0)   (1,1)   \n",
    "  3      (0,0)   (1,0)   \n",
    "  4      (0,0)   (1,-1)  \n",
    "  5      (1,1)   (0,0)   \n",
    "  6      (1,1)   (1,1)   \n",
    "  7      (1,1)   (1,0)   \n",
    "  8      (1,1)   (1,-1)  \n",
    "  9      (1,0)   (0,0)   \n",
    "  10     (1,0)   (1,1)   \n",
    "  11     (1,0)   (1,0)   \n",
    "  12     (1,0)   (1,-1)  \n",
    "  13     (1,-1)  (0,0)   \n",
    "  14     (1,-1)  (1,1)   \n",
    "  15     (1,-1)  (1,0)   \n",
    "  16     (1,-1)  (1,-1)  \n",
    "\"\"\"\n",
    "\n",
    "data = read_spinach_info(text)\n",
    "\n",
    "basis = build_list_ISTs(data)\n",
    "prefacts,Symb_basis = build_symbolic_list_ISTs(data)\n",
    "\n",
    "#Normbasis = NormalizeBasis(basis,n_qubits=4,checkOrth=True) I have verified the orthonormalization of the basis\n",
    "Normbasis = NormalizeBasis(basis,n_qubits=2,checkOrth=True)"
   ]
  },
  {
   "cell_type": "code",
   "execution_count": 244,
   "metadata": {},
   "outputs": [],
   "source": [
    "offset = -46681\n",
    "B0 = 9.3933\n",
    "zeeman_scalar_1 = -113.8796\n",
    "zeeman_scalar_2 = -129.8002\n",
    "zeeman_scalars = [zeeman_scalar_1,zeeman_scalar_2]\n",
    "Jcoup = 238.0633\n",
    "Jcoups = np.zeros([2,2])\n",
    "Jcoups[0,1] = Jcoup\n",
    "gammaF = 251814800\n",
    "\n",
    "\n",
    "#GenH0_Ham(offset,B0,zeeman_scalars,Jcoups,gammaF)\n",
    "\n",
    "#freqs = [-2996.74,2996.74] # we were missing a factor of 2!\n",
    "#freqs = [0.0,2*2996.74]\n",
    "#freqs = [-11968.88/(2*np.pi),6860.19/(2*np.pi)]\n",
    "\n",
    "#H0_Ham_dfg = GenH0_Ham_allparam(freqs,Jcoups,2)\n",
    "\n",
    "#zeeman_scalars = [0.0,-15.920]\n",
    "#zeeman_scalars = [0.0, -15.920599]\n",
    "#offset=0.0\n",
    "\n",
    "H0_dfg_ref = GenH0_Ham(offset,B0,zeeman_scalars,Jcoups,gammaF)\n",
    "\n",
    "\n",
    "\n"
   ]
  },
  {
   "cell_type": "code",
   "execution_count": 245,
   "metadata": {},
   "outputs": [
    {
     "name": "stdout",
     "output_type": "stream",
     "text": [
      "The Hamiltonian in the rotating frame is: 373.9489571846715 [X0 X1] +\n",
      "373.9489571846715 [Y0 Y1] +\n",
      "-18829.07041978772 [Z0] +\n",
      "373.9489571846715 [Z0 Z1] +\n",
      "8.69322320795618e-08 [Z1]\n"
     ]
    }
   ],
   "source": [
    "#Parameters to perform the simualtion in the rotating frame...\n",
    "\n",
    "w0 = -6860.1901334*2 ##The factor of 2 is to account for the construction of the Hamiltonian in the Sz basis!\n",
    "\n",
    "\n",
    "loadMat = spio.loadmat('./data/DFG.mat',squeeze_me=True)\n",
    "\n",
    "AuxMats = spio.loadmat('./data/DFG_NOESYmatrices.mat',squeeze_me=True)\n",
    "\n",
    "\n",
    "H = loadMat['p']['H'].item()\n",
    "R = loadMat['p']['R'].item()\n",
    "t_grid1 = loadMat['p']['time_grid1'].item()\n",
    "t_grid2 = loadMat['p']['time_grid2'].item()\n",
    "\n",
    "\n",
    "Tpts1 = len(t_grid1)\n",
    "Tpts2 = len(t_grid2)\n",
    "Dim = H.shape[0]\n",
    "\n",
    "rho0 = np.array(AuxMats['rho0'].toarray())\n",
    "rho0 = rho0.flatten()\n",
    "coil = AuxMats['coil']\n",
    "\n",
    "\n",
    "tmix = 0.5\n",
    "dt1 = 1.1561e-04\n",
    "dt2 = 1.1561e-04\n",
    "\n",
    "##Parameters for Fourier transform\n",
    "zerofill1 = 1024\n",
    "zerofill2 = 1024\n",
    "\n",
    "##Definition of pulses in the experiment...\n",
    "#This also depends on the definition of the basis....\n",
    "Lx = AuxMats['Lx'].toarray()\n",
    "Ly = AuxMats['Ly'].toarray()\n",
    "\n",
    "\n",
    "\n",
    "fid_temp_1, fid_temp_2, fid_temp_3, fid_temp_4 = GenFIDsignals_Rot(H0_dfg_ref,R,Normbasis,w0,Tpts1,Tpts2,rho0,coil,tmix,dt1,dt2,Lx,Ly)"
   ]
  },
  {
   "cell_type": "code",
   "execution_count": 247,
   "metadata": {},
   "outputs": [],
   "source": [
    "ref_fid1, ref_fid2, ref_fid3, ref_fid4 =  GenFIDsignals(H,R,Tpts1,Tpts2,rho0,coil,tmix,dt1,dt2,Lx,Ly)"
   ]
  },
  {
   "cell_type": "code",
   "execution_count": 251,
   "metadata": {},
   "outputs": [
    {
     "data": {
      "text/plain": [
       "8.340298390785305e-08"
      ]
     },
     "execution_count": 251,
     "metadata": {},
     "output_type": "execute_result"
    }
   ],
   "source": [
    "np.linalg.norm(fid_temp_4-ref_fid4)"
   ]
  },
  {
   "cell_type": "code",
   "execution_count": 190,
   "metadata": {},
   "outputs": [
    {
     "data": {
      "text/plain": [
       "373.9489571846715 [X0 X1] +\n",
       "373.9489571846715 [Y0 Y1] +\n",
       "-11968.88028638772 [Z0] +\n",
       "373.9489571846715 [Z0 Z1] +\n",
       "6860.190133486933 [Z1]"
      ]
     },
     "execution_count": 190,
     "metadata": {},
     "output_type": "execute_result"
    }
   ],
   "source": [
    "H0_dfg_ref"
   ]
  },
  {
   "cell_type": "code",
   "execution_count": 201,
   "metadata": {},
   "outputs": [
    {
     "name": "stdout",
     "output_type": "stream",
     "text": [
      "The Hamiltonian in the rotating frame is: 373.9489571846715 [X0 X1] +\n",
      "373.9489571846715 [Y0 Y1] +\n",
      "-18829.07041978772 [Z0] +\n",
      "373.9489571846715 [Z0 Z1] +\n",
      "8.69322320795618e-08 [Z1]\n"
     ]
    }
   ],
   "source": [
    "###For debugging purposes, we check the different phases of the computation...\n",
    "\n",
    "Ham = H0_dfg_ref\n",
    "\n",
    "\n",
    "t_grid1= np.linspace(0,(Tpts1-1)*dt1,Tpts1)\n",
    "t_grid2 = np.linspace(0,(Tpts2-1)*dt2,Tpts2)\n",
    "\n",
    "###Renormalization of Hamiltonian frequencies\n",
    "Nspins = of.count_qubits(Ham)\n",
    "\n",
    "Rot_Ham = copy.deepcopy(Ham)\n",
    "\n",
    "H0 = of.QubitOperator()\n",
    "\n",
    "for i in range(Nspins):\n",
    "    H0+=w0*Sz(i)\n",
    "    Rot_Ham+=w0*Sz(i)\n",
    "\n",
    "\n",
    "print(\"The Hamiltonian in the rotating frame is:\",Rot_Ham)\n",
    "\n",
    "#Matrix representation of Hamiltonian in the original frame...\n",
    "Mat_Ham = HamMatRep(H0_dfg_ref,Normbasis,n_qubits=Nspins)\n",
    "\n",
    "###Matrix representation of the rotating frame...\n",
    "Mat_Rot_Ham = HamMatRep(Rot_Ham,Normbasis,n_qubits=Nspins)\n",
    "\n",
    "#Matrix representation of the H0 Hamiltonian\n",
    "MatH0 = HamMatRep(H0,Normbasis,n_qubits=Nspins)\n",
    "\n",
    "#Dim = Ham.shape[0]\n",
    "Lnet = Mat_Rot_Ham+1j*R \n",
    "L_net_orig = Mat_Ham+1j*R\n",
    "L_dt1_rot = expm(-1j*Lnet*dt1)\n",
    "L_dt2_rot = expm(-1j*Lnet*dt2)\n",
    "\n",
    "L_dt1_orig = expm(-1j*L_net_orig*dt1)\n",
    "L_dt2_orig = expm(-1j*L_net_orig*dt2)\n",
    "\n",
    "pulse_mix_rot = expm(-1j*Lnet*tmix)\n",
    "pulse_mix_orig = expm(-1j*L_net_orig*tmix)\n",
    "\n",
    "\n",
    "pulse_90x = expm(-1j*Lx*np.pi/2)\n",
    "pulse_90y = expm(-1j*Ly*np.pi/2)\n",
    "pulse_90mx = expm(1j*Lx*np.pi/2)\n",
    "pulse_90my = expm(1j*Ly*np.pi/2)\n",
    "\n",
    "\n",
    "#FID_1 = np.zeros([Tpts2,Tpts1],dtype=complex)\n",
    "#FID_2 = np.zeros([Tpts2,Tpts1],dtype=complex)\n",
    "#FID_3 = np.zeros([Tpts2,Tpts1],dtype=complex)\n",
    "#FID_4 = np.zeros([Tpts2,Tpts1],dtype=complex)\n",
    "\n",
    "#First 90x pulse:\n",
    "rho_t = np.copy(rho0)\n",
    "rho_t = np.dot(pulse_90x,rho_t)\n",
    "\n",
    "rho_stack = []\n",
    "rho_stack.append(rho_t)\n",
    "\n",
    "rho_temp = np.copy(rho_t)\n",
    "for i in range(1,Tpts1):\n",
    "    rho_temp = np.dot(L_dt1_rot,rho_temp)\n",
    "    rho_stack.append(rho_temp)\n",
    "\n",
    "\n",
    "rho_stack1_1 = []\n",
    "rho_stack1_2 = []\n",
    "rho_stack1_3 = []\n",
    "rho_stack1_4 = []\n",
    "\n",
    "for i in range(Tpts1):\n",
    "    \n",
    "    pulse_90_x_t = pulse_90xRot(Lx,Ly,w0,t_grid1[i])\n",
    "    pulse_90_y_t = pulse_90yRot(Lx,Ly,w0,t_grid1[i])\n",
    "    pulse_90_x_tm = np.conjugate(np.transpose(pulse_90_x_t))\n",
    "    pulse_90_y_tm= np.conjugate(np.transpose(pulse_90_y_t))\n",
    "\n",
    "    pulse_90yRotMix = pulse_90yRot(Lx,Ly,w0,t_grid1[i]+tmix)\n",
    "\n",
    "    rho_stack1_1.append(pulse_90yRotMix@pulse_mix_rot@pulse_90_x_t@rho_stack[i])\n",
    "    rho_stack1_2.append(pulse_90yRotMix@pulse_mix_rot@pulse_90_y_t@rho_stack[i])\n",
    "    rho_stack1_3.append(pulse_90yRotMix@pulse_mix_rot@pulse_90_x_tm@rho_stack[i])\n",
    "    rho_stack1_4.append(pulse_90yRotMix@pulse_mix_rot@pulse_90_y_tm@rho_stack[i])\n",
    "\n",
    "\n"
   ]
  },
  {
   "cell_type": "code",
   "execution_count": 241,
   "metadata": {},
   "outputs": [
    {
     "data": {
      "text/plain": [
       "7.271337980194656e-13"
      ]
     },
     "execution_count": 241,
     "metadata": {},
     "output_type": "execute_result"
    }
   ],
   "source": [
    "#expm(-1j*MatH0*(j*dt2+tmix+dt1*i))\n",
    "\n",
    "def pulse_90yRot(Lx,Ly,ws,t):\n",
    "    return expm(-1j*(np.pi/2)*(-np.sin(ws*t)*Lx+np.cos(ws*t)*Ly))\n",
    "\n",
    "i=0\n",
    "j=1\n",
    "pulse_90_x_t = pulse_90xRot(Lx,Ly,w0,dt1*i)\n",
    "pulse_90_y_t = pulse_90yRot(Lx,Ly,w0,dt1*i)\n",
    "pulse_90_x_tm = np.conjugate(np.transpose(pulse_90_x_t))\n",
    "pulse_90_y_tm= np.conjugate(np.transpose(pulse_90_y_t))\n",
    "\n",
    "pulse_90yRotMix = pulse_90yRot(Lx,Ly,w0,dt1*i+tmix)\n",
    "\n",
    "#np.linalg.norm(L_dt2_orig@pulse_90y@pulse_mix_orig@pulse_90x@rho_stack[0]-expm(1j*MatH0*(j*dt2+tmix+dt1*i))@L_dt2_rot@pulse_90yRotMix@pulse_mix_rot@pulse_90_x_t@rho_stack[0])\n",
    "\n",
    "#np.linalg.norm(pulse_90x@rho_stack[0]-pulse_90_x_t@rho_stack[0])\n",
    "#np.linalg.norm(L_dt2_orig@pulse_90y@pulse_mix_orig-expm(1j*MatH0*(j*dt2+tmix+dt1*i))@L_dt2_rot@pulse_90yRotMix@pulse_mix_rot)\n",
    "\n",
    "#test =expm(1j*(dt2*j+tmix+i*dt1)*MatH0)@expm(-1j*Lnet*dt2*j)@expm(-1j*MatH0*(tmix+dt1*i))@pulse_90y@expm(1j*MatH0*(tmix+dt1*i))@expm(-1j*Lnet*tmix)@expm(-1j*MatH0*dt1*i)@pulse_90x@expm(1j*MatH0*dt1*i)@expm(-1j*Lnet*dt1*i)\n",
    "\n",
    "test = expm(1j*(dt2*j+tmix+i*dt1)*MatH0)@expm(-1j*Lnet*dt2*j)@pulse_90yRotMix@expm(-1j*Lnet*tmix)@expm(-1j*MatH0*dt1*i)@pulse_90x@expm(1j*MatH0*dt1*i)@expm(-1j*Lnet*dt1*i)\n",
    "\n",
    "ref = expm(-1j*L_net_orig*dt2*j)@pulse_90y@expm(-1j*L_net_orig*tmix)@pulse_90x@expm(-1j*L_net_orig*dt1*i)\n",
    "\n",
    "np.linalg.norm(test-ref)"
   ]
  },
  {
   "cell_type": "code",
   "execution_count": 240,
   "metadata": {},
   "outputs": [
    {
     "data": {
      "text/plain": [
       "5.946255306031164"
      ]
     },
     "execution_count": 240,
     "metadata": {},
     "output_type": "execute_result"
    }
   ],
   "source": [
    "tau=0.1\n",
    "np.linalg.norm(np.sin(w0*tau)*Lx+np.cos(w0*tau)*Ly-expm(-1j*MatH0*tau)@Ly@expm(1j*MatH0*tau))"
   ]
  },
  {
   "cell_type": "code",
   "execution_count": 234,
   "metadata": {},
   "outputs": [
    {
     "data": {
      "text/plain": [
       "6.280369834735101e-16"
      ]
     },
     "execution_count": 234,
     "metadata": {},
     "output_type": "execute_result"
    }
   ],
   "source": [
    "np.linalg.norm(HamMatRep(Sy(0)+Sy(1),Normbasis)-Ly)"
   ]
  },
  {
   "cell_type": "code",
   "execution_count": 230,
   "metadata": {},
   "outputs": [
    {
     "data": {
      "text/plain": [
       "-13720.3802668"
      ]
     },
     "execution_count": 230,
     "metadata": {},
     "output_type": "execute_result"
    }
   ],
   "source": [
    "pulse_90y = expm(-1j*Ly*np.pi/2)\n",
    "np.linalg.norm(expm(-1j*MatH0*(tmix+dt1*i))@pulse_90y@expm(1j*MatH0*(tmix+dt1*i))-pulse_90yRot(Lx,Ly,-w0,dt1*i+tmix))\n",
    "w0"
   ]
  },
  {
   "cell_type": "code",
   "execution_count": 187,
   "metadata": {},
   "outputs": [
    {
     "data": {
      "text/plain": [
       "5.896231023102343e-13"
      ]
     },
     "execution_count": 187,
     "metadata": {},
     "output_type": "execute_result"
    }
   ],
   "source": [
    "\n",
    "\n",
    "tau=1.0\n",
    "Nspins=2\n",
    "pulse_90x = expm(-1j*Lx*np.pi/2)\n",
    "\n",
    "MatHam = HamMatRep(Ham,Normbasis,n_qubits=Nspins)\n",
    "MatH0 = HamMatRep(H0,Normbasis,n_qubits=Nspins)\n",
    "Mat_Rot_Ham = HamMatRep(Rot_Ham,Normbasis,n_qubits=Nspins)\n",
    "\n",
    "Lnet = MatHam+1j*R \n",
    "L_dtorig = expm(-1j*Lnet*tau)\n",
    "L_dt0 = expm(-1j*MatH0*tau)\n",
    "L_dtRot = expm(-1j*(Mat_Rot_Ham+1j*R)*tau)\n",
    "\n",
    "\n",
    "pulse_90x_t = pulse_90xRot(Lx,Ly,w0,tau)\n",
    "\n",
    "\n",
    "#np.linalg.norm(L_dt0@pulse_90x@L_dtorig@rho0-L_dt0@pulse_90x@L_dt0.conj().T@L_dtRot@rho0)\n",
    "\n",
    "np.linalg.norm(L_dt0@pulse_90x@L_dtorig@rho0-pulse_90x_t@L_dtRot@rho0)\n"
   ]
  },
  {
   "cell_type": "code",
   "execution_count": 174,
   "metadata": {},
   "outputs": [
    {
     "data": {
      "text/plain": [
       "6.280369834735101e-16"
      ]
     },
     "execution_count": 174,
     "metadata": {},
     "output_type": "execute_result"
    }
   ],
   "source": []
  },
  {
   "cell_type": "code",
   "execution_count": 181,
   "metadata": {},
   "outputs": [
    {
     "data": {
      "text/plain": [
       "7.2757626474706865e-12"
      ]
     },
     "execution_count": 181,
     "metadata": {},
     "output_type": "execute_result"
    }
   ],
   "source": [
    "np.linalg.norm(L_dt0@expm(-1j*(np.pi/2)*Lx)@L_dt0.conj().T-expm(-1j*(np.pi/2)*(np.cos(w0*tau)*Lx+np.sin(w0*tau)*Ly)))"
   ]
  },
  {
   "cell_type": "code",
   "execution_count": 179,
   "metadata": {},
   "outputs": [
    {
     "data": {
      "text/plain": [
       "5.870706983545453e-12"
      ]
     },
     "execution_count": 179,
     "metadata": {},
     "output_type": "execute_result"
    }
   ],
   "source": [
    "np.linalg.norm(expm(-1j*L_dt0@Lx@L_dt0.conj().T)-expm(-1j*np.cos(w0*tau)*Lx-1j*np.sin(w0*tau)*Ly))"
   ]
  },
  {
   "cell_type": "code",
   "execution_count": null,
   "metadata": {},
   "outputs": [],
   "source": [
    "def pulse_90xRot(Lx,Ly,ws,t):\n",
    "\n",
    "    return expm(-1j*(np.pi/2)*(np.cos(ws*t)*Lx+np.sin(ws*t)*Ly))"
   ]
  },
  {
   "cell_type": "code",
   "execution_count": 185,
   "metadata": {},
   "outputs": [
    {
     "data": {
      "text/plain": [
       "7.2757626474706865e-12"
      ]
     },
     "execution_count": 185,
     "metadata": {},
     "output_type": "execute_result"
    }
   ],
   "source": [
    "tau=1.0\n",
    "pulse_90x = expm(-1j*(np.pi/2)*Lx)\n",
    "pulse_90x_t = pulse_90xRot(Lx,Ly,w0,tau)\n",
    "\n",
    "L_dt0 = expm(-1j*MatH0*tau)\n",
    "np.linalg.norm(L_dt0@pulse_90x@L_dt0.conj().T - pulse_90x_t)"
   ]
  },
  {
   "cell_type": "code",
   "execution_count": 167,
   "metadata": {},
   "outputs": [
    {
     "data": {
      "text/plain": [
       "0.0"
      ]
     },
     "execution_count": 167,
     "metadata": {},
     "output_type": "execute_result"
    }
   ],
   "source": [
    "np.linalg.norm(pulse_90xRot(Lx,Ly,w0,0)-pulse_90x)"
   ]
  },
  {
   "cell_type": "code",
   "execution_count": 162,
   "metadata": {},
   "outputs": [
    {
     "data": {
      "text/plain": [
       "2.9331204132176936e-11"
      ]
     },
     "execution_count": 162,
     "metadata": {},
     "output_type": "execute_result"
    }
   ],
   "source": [
    "\n",
    "np.linalg.norm(MatHam+MatH0-Mat_Rot_Ham)"
   ]
  },
  {
   "cell_type": "code",
   "execution_count": 136,
   "metadata": {},
   "outputs": [
    {
     "data": {
      "text/plain": [
       "373.9489571846715 [X0 X1] +\n",
       "373.9489571846715 [Y0 Y1] +\n",
       "-11968.88028638772 [Z0] +\n",
       "373.9489571846715 [Z0 Z1] +\n",
       "6860.190133486933 [Z1]"
      ]
     },
     "execution_count": 136,
     "metadata": {},
     "output_type": "execute_result"
    }
   ],
   "source": [
    "Ham"
   ]
  },
  {
   "cell_type": "code",
   "execution_count": 134,
   "metadata": {},
   "outputs": [
    {
     "data": {
      "text/plain": [
       "-6860.1901334 [Z0] +\n",
       "-6860.1901334 [Z1]"
      ]
     },
     "execution_count": 134,
     "metadata": {},
     "output_type": "execute_result"
    }
   ],
   "source": [
    "H0"
   ]
  },
  {
   "cell_type": "code",
   "execution_count": 137,
   "metadata": {},
   "outputs": [
    {
     "data": {
      "text/plain": [
       "373.9489571846715 [X0 X1] +\n",
       "373.9489571846715 [Y0 Y1] +\n",
       "-18829.07041978772 [Z0] +\n",
       "373.9489571846715 [Z0 Z1] +\n",
       "8.69322320795618e-08 [Z1]"
      ]
     },
     "execution_count": 137,
     "metadata": {},
     "output_type": "execute_result"
    }
   ],
   "source": [
    "Rot_Ham"
   ]
  },
  {
   "cell_type": "code",
   "execution_count": 140,
   "metadata": {},
   "outputs": [
    {
     "data": {
      "text/plain": [
       "2.9331204132176936e-11"
      ]
     },
     "execution_count": 140,
     "metadata": {},
     "output_type": "execute_result"
    }
   ],
   "source": [
    "\n",
    "np.linalg.norm(MatHam+MatH0-Mat_Rot_Ham)"
   ]
  },
  {
   "cell_type": "code",
   "execution_count": 119,
   "metadata": {},
   "outputs": [
    {
     "data": {
      "text/plain": [
       "array([0. , 0. , 0.5, 0. , 0. , 0. , 0. , 0. , 0.5, 0. , 0. , 0. , 0. ,\n",
       "       0. , 0. , 0. ])"
      ]
     },
     "execution_count": 119,
     "metadata": {},
     "output_type": "execute_result"
    }
   ],
   "source": [
    "rho0"
   ]
  },
  {
   "cell_type": "code",
   "execution_count": 103,
   "metadata": {},
   "outputs": [],
   "source": [
    "ref_rho_stack1_1 = Ref_NOESY_debug(H,R,Tpts1,Tpts2,rho0,coil,tmix,dt1,dt2,Lx,Ly)"
   ]
  },
  {
   "cell_type": "code",
   "execution_count": 110,
   "metadata": {},
   "outputs": [
    {
     "data": {
      "text/plain": [
       "(-0.1150127204031956+2.4732877302645524e-17j)"
      ]
     },
     "execution_count": 110,
     "metadata": {},
     "output_type": "execute_result"
    }
   ],
   "source": [
    "np.dot(np.conjugate(expm(1j*MatH0*tmix)@rho_stack1_1[0]),ref_rho_stack1_1[0])"
   ]
  },
  {
   "cell_type": "code",
   "execution_count": 107,
   "metadata": {},
   "outputs": [
    {
     "data": {
      "text/plain": [
       "(0.1144028062943162-6.77412778267744e-17j)"
      ]
     },
     "execution_count": 107,
     "metadata": {},
     "output_type": "execute_result"
    }
   ],
   "source": [
    "np.dot(np.conjugate(rho_stack1_1[0]),ref_rho_stack1_1[0])"
   ]
  },
  {
   "cell_type": "code",
   "execution_count": 65,
   "metadata": {},
   "outputs": [],
   "source": [
    "####Reference FIDS...\n",
    "ref_fid1, ref_fid2, ref_fid3, ref_fid4 =  GenFIDsignals(Ham,R,Tpts1,Tpts2,rho0,coil,tmix,dt1,dt2,Lx,Ly)"
   ]
  },
  {
   "cell_type": "code",
   "execution_count": 66,
   "metadata": {},
   "outputs": [
    {
     "data": {
      "text/plain": [
       "20.019868021354128"
      ]
     },
     "execution_count": 66,
     "metadata": {},
     "output_type": "execute_result"
    }
   ],
   "source": [
    "np.linalg.norm(ref_fid1)"
   ]
  },
  {
   "cell_type": "code",
   "execution_count": 67,
   "metadata": {},
   "outputs": [
    {
     "data": {
      "text/plain": [
       "30.834077401112097"
      ]
     },
     "execution_count": 67,
     "metadata": {},
     "output_type": "execute_result"
    }
   ],
   "source": [
    "np.linalg.norm(fid_temp_4-ref_fid4)"
   ]
  },
  {
   "cell_type": "code",
   "execution_count": 42,
   "metadata": {},
   "outputs": [],
   "source": [
    "sepc2D = GenSpec_from_FIDs(fid_temp_1, fid_temp_2, fid_temp_3, fid_temp_4,zerofill1,zerofill2)"
   ]
  },
  {
   "cell_type": "code",
   "execution_count": 43,
   "metadata": {},
   "outputs": [
    {
     "data": {
      "image/png": "[encoded data removed]",
      "text/plain": [
       "<Figure size 600x600 with 2 Axes>"
      ]
     },
     "metadata": {},
     "output_type": "display_data"
    }
   ],
   "source": [
    "from matplotlib.colors import TwoSlopeNorm\n",
    "\n",
    "norm = TwoSlopeNorm(vmin=np.min(np.real(sepc2D)), vcenter=0, vmax=np.max(np.real(sepc2D)))\n",
    "\n",
    "plt.figure(figsize=(6, 6))\n",
    "plt.imshow(-np.real(sepc2D), cmap='seismic',norm=norm)\n",
    "plt.colorbar()\n",
    "plt.show()"
   ]
  },
  {
   "cell_type": "code",
   "execution_count": null,
   "metadata": {},
   "outputs": [],
   "source": []
  }
 ],
 "metadata": {
  "kernelspec": {
   "display_name": "BQSKit",
   "language": "python",
   "name": "python3"
  },
  "language_info": {
   "codemirror_mode": {
    "name": "ipython",
    "version": 3
   },
   "file_extension": ".py",
   "mimetype": "text/x-python",
   "name": "python",
   "nbconvert_exporter": "python",
   "pygments_lexer": "ipython3",
   "version": "3.11.5"
  }
 },
 "nbformat": 4,
 "nbformat_minor": 2
}
