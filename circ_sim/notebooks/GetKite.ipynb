{
 "cells": [
  {
   "cell_type": "code",
   "execution_count": 1,
   "metadata": {},
   "outputs": [],
   "source": [
    "#Exploring removal of transversal cross-relaxation pathways to obtain a Kite-type relaxation matrix\n",
    "import sys\n",
    "sys.path.append('./utils/')\n",
    "import numpy as np\n",
    "import scipy.io as spio\n",
    "from scipy.linalg import expm\n",
    "from matplotlib import pyplot as plt\n",
    "import sys \n",
    "import openfermion as of\n",
    "import pandas as pd\n",
    "\n",
    "from analytical_fit import  KiteRelMatrixMany, Get_K2RatesAndOps, Get_K1RatesAndOps, Get_K0RatesAndOps,  get_chemical_shifts, Get_Det_And_Rates, RelMat_from_ops_and_rates\n",
    "from basis_utils import read_spinach_info, build_list_ISTs, NormalizeBasis, build_symbolic_list_ISTs\n",
    "from simulation_utils import Hellinger_2D, GenNOESYSpectrum\n",
    "\n",
    "import copy\n",
    "import pickle"
   ]
  },
  {
   "cell_type": "code",
   "execution_count": 41,
   "metadata": {},
   "outputs": [],
   "source": [
    "def Get_RatesAndOps(freqs,tc,coords,Nspins,gamma):\n",
    "    \"\"\" \n",
    "    Returns: 1) a list of damping rates 2) the corresponding list of pairs of jump operators, where each pair defines a Linblad channel \\mathcal{L}_{A,B} as defined in the notes\n",
    "    Args:\n",
    "    freqs: list of chemically shifted Zeeman frequencies of the spins\n",
    "    tc: rotational correlatio0n time of the isotropic solvent\n",
    "    coords: list that contains the cartesian coordinates of the spins\n",
    "    Nspins: number of spins\n",
    "    gamma; gyromagnetic ratio of the spins (it is assumed a homonuclear case)\n",
    "    \"\"\"\n",
    "    \n",
    "    ratesK2,OpsK2,Str_OpsK2=Get_K2RatesAndOps(freqs,tc,coords,Nspins,gamma)\n",
    "    ratesK1,OpsK1,Str_OpsK1=Get_K1RatesAndOps(freqs,tc,coords,Nspins,gamma)\n",
    "    ratesK0,OpsK0,Str_OpsK0=Get_K0RatesAndOps(freqs,tc,coords,Nspins,gamma)\n",
    "\n",
    "    tot_rates=ratesK2+ratesK1+ratesK0\n",
    "    tot_Ops=OpsK2+OpsK1+OpsK0\n",
    "    tot_strs = Str_OpsK2+Str_OpsK1+Str_OpsK0\n",
    "    return 0.25*np.array(tot_rates),tot_Ops, tot_strs\n",
    "\n",
    "def is_diagonal(matrix):\n",
    "    # Compare the matrix with its diagonal (converted back to a full matrix)\n",
    "    return np.all(matrix == np.diag(np.diag(matrix)))"
   ]
  },
  {
   "cell_type": "markdown",
   "metadata": {},
   "source": [
    "# Ratios of damping rates and detunings in rotating frame"
   ]
  },
  {
   "cell_type": "code",
   "execution_count": 2,
   "metadata": {},
   "outputs": [],
   "source": [
    "text=\"\"\"1      (0,0)   (0,0)   \n",
    "  2      (0,0)   (1,1)   \n",
    "  3      (0,0)   (1,0)   \n",
    "  4      (0,0)   (1,-1)  \n",
    "  5      (1,1)   (0,0)   \n",
    "  6      (1,1)   (1,1)   \n",
    "  7      (1,1)   (1,0)   \n",
    "  8      (1,1)   (1,-1)  \n",
    "  9      (1,0)   (0,0)   \n",
    "  10     (1,0)   (1,1)   \n",
    "  11     (1,0)   (1,0)   \n",
    "  12     (1,0)   (1,-1)  \n",
    "  13     (1,-1)  (0,0)   \n",
    "  14     (1,-1)  (1,1)   \n",
    "  15     (1,-1)  (1,0)   \n",
    "  16     (1,-1)  (1,-1)  \n",
    "\"\"\"\n",
    "\n",
    "data = read_spinach_info(text)\n",
    "\n",
    "basis = build_list_ISTs(data)\n",
    "\n",
    "Normbasis = NormalizeBasis(basis,n_qubits=2,checkOrth=True)\n"
   ]
  },
  {
   "cell_type": "code",
   "execution_count": 3,
   "metadata": {},
   "outputs": [],
   "source": [
    "#Testing list of parameters for DFG...\n",
    "\n",
    "#offset = -46681\n",
    "gammaF = 251814800\n",
    "B0 = 9.3933\n",
    "w0 = -gammaF*B0\n",
    "#o1 = 2*np.pi*offset\n",
    "#complete Zeeeman frequencies obtained from Spinach\n",
    "w1 = -376417768.6316 \n",
    "w2 = -376411775.1523 \n",
    "freqs = np.array([w1,w2])\n",
    "#coordinates\n",
    "coord1 = np.array([-0.0551,-1.2087,-1.6523])*1e-10\n",
    "coord2 = np.array([-0.8604 ,-2.3200 ,-0.0624])*1e-10\n",
    "coords = np.array([coord1,coord2])\n",
    "tc =  0.5255e-9 #correlation time\n",
    "Nspins = 2 \n",
    "\n",
    "#The chemical shifts in ppm, used as input in Spinach\n",
    "zeeman_scalar_1 = -113.8796\n",
    "zeeman_scalar_2 = -129.8002\n",
    "zeeman_scalars = [zeeman_scalar_1,zeeman_scalar_2]\n",
    "\n",
    "#w0*zeeman_scalars[i]/1e6\n",
    "chem_shifts = get_chemical_shifts(gammaF,B0,zeeman_scalars)\n",
    "\n",
    "\n",
    "list_jumps, list_damp_rates, list_dets=Get_Det_And_Rates(2*np.pi*freqs,tc,coords,Nspins,gammaF,chem_shifts)\n",
    "\n"
   ]
  },
  {
   "cell_type": "code",
   "execution_count": null,
   "metadata": {},
   "outputs": [],
   "source": []
  },
  {
   "cell_type": "code",
   "execution_count": 4,
   "metadata": {},
   "outputs": [
    {
     "name": "stdout",
     "output_type": "stream",
     "text": [
      "            Jump Ops  Damp Rates (rad/s)  Detunings (rad/s)\n",
      "0   [S0+S1+, S0-S1-]            0.114401       5.820766e-11\n",
      "1   [S0-S1-, S0+S1+]            0.114401       5.820766e-11\n",
      "2   [S0zS1+, S0zS1-]            0.322737       0.000000e+00\n",
      "3   [S0zS1-, S0zS1+]            0.322737       0.000000e+00\n",
      "4   [S0+S1z, S0zS1-]            0.322737       3.765814e+04\n",
      "5   [S0zS1-, S0+S1z]            0.322737       3.765814e+04\n",
      "6   [S0+S1z, S0-S1z]            0.322731       0.000000e+00\n",
      "7   [S0-S1z, S0+S1z]            0.322731       0.000000e+00\n",
      "8   [S0zS1+, S0-S1z]            0.322731       3.765814e+04\n",
      "9   [S0-S1z, S0zS1+]            0.322731       3.765814e+04\n",
      "10  [S0zS1z, S0zS1z]            2.190013       0.000000e+00\n",
      "11  [S0+S1-, S0zS1z]            0.547503       3.765814e+04\n",
      "12  [S0zS1z, S0+S1-]            0.547503       3.765814e+04\n",
      "13  [S0zS1z, S0-S1+]            0.547503       3.765814e+04\n",
      "14  [S0-S1+, S0zS1z]            0.547503       3.765814e+04\n",
      "15  [S0+S1-, S0-S1+]            0.136876       5.820766e-11\n",
      "16  [S0-S1+, S0+S1-]            0.136876       5.820766e-11\n",
      "17  [S0-S1+, S0-S1+]            0.136876       7.531628e+04\n",
      "18  [S0-S1+, S0-S1+]            0.136876       7.531628e+04\n"
     ]
    }
   ],
   "source": [
    "# Create the DataFrame\n",
    "df = pd.DataFrame({\n",
    "    'Jump Ops': list_jumps,\n",
    "    'Damp Rates (rad/s)': list_damp_rates,\n",
    "    'Detunings (rad/s)': list_dets\n",
    "})\n",
    "\n",
    "# Display the DataFrame\n",
    "print(df)"
   ]
  },
  {
   "cell_type": "code",
   "execution_count": 23,
   "metadata": {},
   "outputs": [],
   "source": [
    "#Computing approximated relaxation matrix...\n",
    "filt_jump_ops = []\n",
    "filt_damp_rates = []\n",
    "thresh=1e-4 #threshold to determine when to ignore jump operators...\n",
    "for i in range(len(list_dets)):\n",
    "    if list_dets[i]<thresh:\n",
    "        filt_jump_ops.append(list_jumps[i])\n",
    "        filt_damp_rates.append(list_damp_rates[i])\n",
    "\n",
    "Approx_R = RelMat_from_ops_and_rates(filt_jump_ops,filt_damp_rates,Normbasis,Nspins)"
   ]
  },
  {
   "cell_type": "code",
   "execution_count": 24,
   "metadata": {},
   "outputs": [
    {
     "name": "stdout",
     "output_type": "stream",
     "text": [
      "           Jump Ops  Damp Rates (rad/s)\n",
      "0  [S0+S1+, S0-S1-]            0.114401\n",
      "1  [S0-S1-, S0+S1+]            0.114401\n",
      "2  [S0zS1+, S0zS1-]            0.322737\n",
      "3  [S0zS1-, S0zS1+]            0.322737\n",
      "4  [S0+S1z, S0-S1z]            0.322731\n",
      "5  [S0-S1z, S0+S1z]            0.322731\n",
      "6  [S0zS1z, S0zS1z]            2.190013\n",
      "7  [S0+S1-, S0-S1+]            0.136876\n",
      "8  [S0-S1+, S0+S1-]            0.136876\n"
     ]
    }
   ],
   "source": [
    "# Create the DataFrame\n",
    "df = pd.DataFrame({\n",
    "    'Jump Ops': filt_jump_ops,\n",
    "    'Damp Rates (rad/s)': filt_damp_rates,\n",
    "    #'Detunings (rad/s)': list_dets\n",
    "})\n",
    "\n",
    "# Display the DataFrame\n",
    "print(df)"
   ]
  },
  {
   "cell_type": "code",
   "execution_count": 25,
   "metadata": {},
   "outputs": [],
   "source": [
    "###Getting NOESY spectra using the secular and the the truncated relaxation matrix\n",
    "\n",
    "#loading reference relaxation matrix...\n",
    "loadMat = spio.loadmat('./data/DFG_secular.mat',squeeze_me=True)\n",
    "\n",
    "AuxMats = spio.loadmat('./data/DFG_NOESYmatrices.mat',squeeze_me=True)\n",
    "\n",
    "\n",
    "Ham = loadMat['p']['H'].item()\n",
    "R = loadMat['p']['R'].item()\n",
    "\n",
    "t_grid1 = loadMat['p']['time_grid1'].item()\n",
    "t_grid2 = loadMat['p']['time_grid2'].item()\n",
    "\n",
    "###Load the kite-approximated matrix...\n",
    "loadMat = spio.loadmat('./data/DFG_kite.mat',squeeze_me=True)\n",
    "\n",
    "R_kite = loadMat['p']['R'].item()\n",
    "#H = loadMat['p']['H'].item()\n",
    "\n",
    "\n",
    "###Dynamical evolution for calculation of 2D spectra...\n",
    "Tpts1 = len(t_grid1)\n",
    "Tpts2 = len(t_grid2)\n",
    "\n",
    "Dim = Ham.shape[0]\n",
    "\n",
    "rho0 = np.array(AuxMats['rho0'].toarray())\n",
    "rho0 = rho0.flatten()\n",
    "coil = AuxMats['coil']\n",
    "\n",
    "\n",
    "tmix = 0.5\n",
    "dt1 = 1.1561e-04\n",
    "dt2 = 1.1561e-04\n",
    "\n",
    "##Parameters for Fourier transform\n",
    "zerofill1 = 1024\n",
    "zerofill2 = 1024\n",
    "\n",
    "Lx = AuxMats['Lx'].toarray()\n",
    "Ly = AuxMats['Ly'].toarray()\n",
    "\n",
    "Ref_spec = GenNOESYSpectrum(Ham,R,Tpts1,Tpts2,rho0,coil,tmix,dt1,dt2,zerofill1,zerofill2,Lx,Ly)\n",
    "\n",
    "Approx_spec = GenNOESYSpectrum(Ham,Approx_R,Tpts1,Tpts2,rho0,coil,tmix,dt1,dt2,zerofill1,zerofill2,Lx,Ly)\n",
    "\n",
    "Kite_spec = GenNOESYSpectrum(Ham,R_kite,Tpts1,Tpts2,rho0,coil,tmix,dt1,dt2,zerofill1,zerofill2,Lx,Ly)\n"
   ]
  },
  {
   "cell_type": "code",
   "execution_count": 26,
   "metadata": {},
   "outputs": [
    {
     "data": {
      "text/plain": [
       "(2.1886317335554843, 2.1886310037064916, 0.0017873835640860281)"
      ]
     },
     "execution_count": 26,
     "metadata": {},
     "output_type": "execute_result"
    }
   ],
   "source": [
    "np.linalg.norm(Approx_R-R), np.linalg.norm(R-R_kite), np.linalg.norm(R_kite-Approx_R)"
   ]
  },
  {
   "cell_type": "code",
   "execution_count": 27,
   "metadata": {},
   "outputs": [
    {
     "data": {
      "text/plain": [
       "2.1455206636138372e-07"
      ]
     },
     "execution_count": 27,
     "metadata": {},
     "output_type": "execute_result"
    }
   ],
   "source": [
    "Hellinger_2D(Ref_spec,Approx_spec,Tpts1,Tpts2,dt1,dt2)"
   ]
  },
  {
   "cell_type": "code",
   "execution_count": 28,
   "metadata": {},
   "outputs": [
    {
     "data": {
      "text/plain": [
       "2.1348181857353623e-07"
      ]
     },
     "execution_count": 28,
     "metadata": {},
     "output_type": "execute_result"
    }
   ],
   "source": [
    "Hellinger_2D(Ref_spec,Kite_spec,Tpts1,Tpts2,dt1,dt2)"
   ]
  },
  {
   "cell_type": "code",
   "execution_count": null,
   "metadata": {},
   "outputs": [],
   "source": []
  },
  {
   "cell_type": "markdown",
   "metadata": {},
   "source": [
    "# TFG damping rates and detunings"
   ]
  },
  {
   "cell_type": "code",
   "execution_count": 88,
   "metadata": {},
   "outputs": [],
   "source": [
    "from basis_utils import MatRepLib, S_plus, S_minus, Sz, Linb_Channel, InnProd\n",
    "from scipy.io import savemat"
   ]
  },
  {
   "cell_type": "code",
   "execution_count": 89,
   "metadata": {},
   "outputs": [],
   "source": [
    "def find_largest_index(arr):\n",
    "    # Convert the list to a numpy array if it is not already\n",
    "    arr = np.array(arr)\n",
    "    \n",
    "    # Find the index of the largest element\n",
    "    max_index = np.unravel_index(np.argmax(arr), arr.shape)\n",
    "    return max_index"
   ]
  },
  {
   "cell_type": "code",
   "execution_count": 90,
   "metadata": {},
   "outputs": [],
   "source": [
    "text4=\"\"\"1      (0,0)   (0,0)   (0,0)   (0,0)   \n",
    "  2      (0,0)   (0,0)   (0,0)   (1,1)   \n",
    "  3      (0,0)   (0,0)   (0,0)   (1,0)   \n",
    "  4      (0,0)   (0,0)   (0,0)   (1,-1)  \n",
    "  5      (0,0)   (0,0)   (1,1)   (0,0)   \n",
    "  6      (0,0)   (0,0)   (1,1)   (1,1)   \n",
    "  7      (0,0)   (0,0)   (1,1)   (1,0)   \n",
    "  8      (0,0)   (0,0)   (1,1)   (1,-1)  \n",
    "  9      (0,0)   (0,0)   (1,0)   (0,0)   \n",
    "  10     (0,0)   (0,0)   (1,0)   (1,1)   \n",
    "  11     (0,0)   (0,0)   (1,0)   (1,0)   \n",
    "  12     (0,0)   (0,0)   (1,0)   (1,-1)  \n",
    "  13     (0,0)   (0,0)   (1,-1)  (0,0)   \n",
    "  14     (0,0)   (0,0)   (1,-1)  (1,1)   \n",
    "  15     (0,0)   (0,0)   (1,-1)  (1,0)   \n",
    "  16     (0,0)   (0,0)   (1,-1)  (1,-1)  \n",
    "  17     (0,0)   (1,1)   (0,0)   (0,0)   \n",
    "  18     (0,0)   (1,1)   (0,0)   (1,1)   \n",
    "  19     (0,0)   (1,1)   (0,0)   (1,0)   \n",
    "  20     (0,0)   (1,1)   (0,0)   (1,-1)  \n",
    "  21     (0,0)   (1,1)   (1,1)   (0,0)   \n",
    "  22     (0,0)   (1,1)   (1,1)   (1,1)   \n",
    "  23     (0,0)   (1,1)   (1,1)   (1,0)   \n",
    "  24     (0,0)   (1,1)   (1,1)   (1,-1)  \n",
    "  25     (0,0)   (1,1)   (1,0)   (0,0)   \n",
    "  26     (0,0)   (1,1)   (1,0)   (1,1)   \n",
    "  27     (0,0)   (1,1)   (1,0)   (1,0)   \n",
    "  28     (0,0)   (1,1)   (1,0)   (1,-1)  \n",
    "  29     (0,0)   (1,1)   (1,-1)  (0,0)   \n",
    "  30     (0,0)   (1,1)   (1,-1)  (1,1)   \n",
    "  31     (0,0)   (1,1)   (1,-1)  (1,0)   \n",
    "  32     (0,0)   (1,1)   (1,-1)  (1,-1)  \n",
    "  33     (0,0)   (1,0)   (0,0)   (0,0)   \n",
    "  34     (0,0)   (1,0)   (0,0)   (1,1)   \n",
    "  35     (0,0)   (1,0)   (0,0)   (1,0)   \n",
    "  36     (0,0)   (1,0)   (0,0)   (1,-1)  \n",
    "  37     (0,0)   (1,0)   (1,1)   (0,0)   \n",
    "  38     (0,0)   (1,0)   (1,1)   (1,1)   \n",
    "  39     (0,0)   (1,0)   (1,1)   (1,0)   \n",
    "  40     (0,0)   (1,0)   (1,1)   (1,-1)  \n",
    "  41     (0,0)   (1,0)   (1,0)   (0,0)   \n",
    "  42     (0,0)   (1,0)   (1,0)   (1,1)   \n",
    "  43     (0,0)   (1,0)   (1,0)   (1,0)   \n",
    "  44     (0,0)   (1,0)   (1,0)   (1,-1)  \n",
    "  45     (0,0)   (1,0)   (1,-1)  (0,0)   \n",
    "  46     (0,0)   (1,0)   (1,-1)  (1,1)   \n",
    "  47     (0,0)   (1,0)   (1,-1)  (1,0)   \n",
    "  48     (0,0)   (1,0)   (1,-1)  (1,-1)  \n",
    "  49     (0,0)   (1,-1)  (0,0)   (0,0)   \n",
    "  50     (0,0)   (1,-1)  (0,0)   (1,1)   \n",
    "  51     (0,0)   (1,-1)  (0,0)   (1,0)   \n",
    "  52     (0,0)   (1,-1)  (0,0)   (1,-1)  \n",
    "  53     (0,0)   (1,-1)  (1,1)   (0,0)   \n",
    "  54     (0,0)   (1,-1)  (1,1)   (1,1)   \n",
    "  55     (0,0)   (1,-1)  (1,1)   (1,0)   \n",
    "  56     (0,0)   (1,-1)  (1,1)   (1,-1)  \n",
    "  57     (0,0)   (1,-1)  (1,0)   (0,0)   \n",
    "  58     (0,0)   (1,-1)  (1,0)   (1,1)   \n",
    "  59     (0,0)   (1,-1)  (1,0)   (1,0)   \n",
    "  60     (0,0)   (1,-1)  (1,0)   (1,-1)  \n",
    "  61     (0,0)   (1,-1)  (1,-1)  (0,0)   \n",
    "  62     (0,0)   (1,-1)  (1,-1)  (1,1)   \n",
    "  63     (0,0)   (1,-1)  (1,-1)  (1,0)   \n",
    "  64     (0,0)   (1,-1)  (1,-1)  (1,-1)  \n",
    "  65     (1,1)   (0,0)   (0,0)   (0,0)   \n",
    "  66     (1,1)   (0,0)   (0,0)   (1,1)   \n",
    "  67     (1,1)   (0,0)   (0,0)   (1,0)   \n",
    "  68     (1,1)   (0,0)   (0,0)   (1,-1)  \n",
    "  69     (1,1)   (0,0)   (1,1)   (0,0)   \n",
    "  70     (1,1)   (0,0)   (1,1)   (1,1)   \n",
    "  71     (1,1)   (0,0)   (1,1)   (1,0)   \n",
    "  72     (1,1)   (0,0)   (1,1)   (1,-1)  \n",
    "  73     (1,1)   (0,0)   (1,0)   (0,0)   \n",
    "  74     (1,1)   (0,0)   (1,0)   (1,1)   \n",
    "  75     (1,1)   (0,0)   (1,0)   (1,0)   \n",
    "  76     (1,1)   (0,0)   (1,0)   (1,-1)  \n",
    "  77     (1,1)   (0,0)   (1,-1)  (0,0)   \n",
    "  78     (1,1)   (0,0)   (1,-1)  (1,1)   \n",
    "  79     (1,1)   (0,0)   (1,-1)  (1,0)   \n",
    "  80     (1,1)   (0,0)   (1,-1)  (1,-1)  \n",
    "  81     (1,1)   (1,1)   (0,0)   (0,0)   \n",
    "  82     (1,1)   (1,1)   (0,0)   (1,1)   \n",
    "  83     (1,1)   (1,1)   (0,0)   (1,0)   \n",
    "  84     (1,1)   (1,1)   (0,0)   (1,-1)  \n",
    "  85     (1,1)   (1,1)   (1,1)   (0,0)   \n",
    "  86     (1,1)   (1,1)   (1,1)   (1,1)   \n",
    "  87     (1,1)   (1,1)   (1,1)   (1,0)   \n",
    "  88     (1,1)   (1,1)   (1,1)   (1,-1)  \n",
    "  89     (1,1)   (1,1)   (1,0)   (0,0)   \n",
    "  90     (1,1)   (1,1)   (1,0)   (1,1)   \n",
    "  91     (1,1)   (1,1)   (1,0)   (1,0)   \n",
    "  92     (1,1)   (1,1)   (1,0)   (1,-1)  \n",
    "  93     (1,1)   (1,1)   (1,-1)  (0,0)   \n",
    "  94     (1,1)   (1,1)   (1,-1)  (1,1)   \n",
    "  95     (1,1)   (1,1)   (1,-1)  (1,0)   \n",
    "  96     (1,1)   (1,1)   (1,-1)  (1,-1)  \n",
    "  97     (1,1)   (1,0)   (0,0)   (0,0)   \n",
    "  98     (1,1)   (1,0)   (0,0)   (1,1)   \n",
    "  99     (1,1)   (1,0)   (0,0)   (1,0)   \n",
    "  100    (1,1)   (1,0)   (0,0)   (1,-1)  \n",
    "  101    (1,1)   (1,0)   (1,1)   (0,0)   \n",
    "  102    (1,1)   (1,0)   (1,1)   (1,1)   \n",
    "  103    (1,1)   (1,0)   (1,1)   (1,0)   \n",
    "  104    (1,1)   (1,0)   (1,1)   (1,-1)  \n",
    "  105    (1,1)   (1,0)   (1,0)   (0,0)   \n",
    "  106    (1,1)   (1,0)   (1,0)   (1,1)   \n",
    "  107    (1,1)   (1,0)   (1,0)   (1,0)   \n",
    "  108    (1,1)   (1,0)   (1,0)   (1,-1)  \n",
    "  109    (1,1)   (1,0)   (1,-1)  (0,0)   \n",
    "  110    (1,1)   (1,0)   (1,-1)  (1,1)   \n",
    "  111    (1,1)   (1,0)   (1,-1)  (1,0)   \n",
    "  112    (1,1)   (1,0)   (1,-1)  (1,-1)  \n",
    "  113    (1,1)   (1,-1)  (0,0)   (0,0)   \n",
    "  114    (1,1)   (1,-1)  (0,0)   (1,1)   \n",
    "  115    (1,1)   (1,-1)  (0,0)   (1,0)   \n",
    "  116    (1,1)   (1,-1)  (0,0)   (1,-1)  \n",
    "  117    (1,1)   (1,-1)  (1,1)   (0,0)   \n",
    "  118    (1,1)   (1,-1)  (1,1)   (1,1)   \n",
    "  119    (1,1)   (1,-1)  (1,1)   (1,0)   \n",
    "  120    (1,1)   (1,-1)  (1,1)   (1,-1)  \n",
    "  121    (1,1)   (1,-1)  (1,0)   (0,0)   \n",
    "  122    (1,1)   (1,-1)  (1,0)   (1,1)   \n",
    "  123    (1,1)   (1,-1)  (1,0)   (1,0)   \n",
    "  124    (1,1)   (1,-1)  (1,0)   (1,-1)  \n",
    "  125    (1,1)   (1,-1)  (1,-1)  (0,0)   \n",
    "  126    (1,1)   (1,-1)  (1,-1)  (1,1)   \n",
    "  127    (1,1)   (1,-1)  (1,-1)  (1,0)   \n",
    "  128    (1,1)   (1,-1)  (1,-1)  (1,-1)  \n",
    "  129    (1,0)   (0,0)   (0,0)   (0,0)   \n",
    "  130    (1,0)   (0,0)   (0,0)   (1,1)   \n",
    "  131    (1,0)   (0,0)   (0,0)   (1,0)   \n",
    "  132    (1,0)   (0,0)   (0,0)   (1,-1)  \n",
    "  133    (1,0)   (0,0)   (1,1)   (0,0)   \n",
    "  134    (1,0)   (0,0)   (1,1)   (1,1)   \n",
    "  135    (1,0)   (0,0)   (1,1)   (1,0)   \n",
    "  136    (1,0)   (0,0)   (1,1)   (1,-1)  \n",
    "  137    (1,0)   (0,0)   (1,0)   (0,0)   \n",
    "  138    (1,0)   (0,0)   (1,0)   (1,1)   \n",
    "  139    (1,0)   (0,0)   (1,0)   (1,0)   \n",
    "  140    (1,0)   (0,0)   (1,0)   (1,-1)  \n",
    "  141    (1,0)   (0,0)   (1,-1)  (0,0)   \n",
    "  142    (1,0)   (0,0)   (1,-1)  (1,1)   \n",
    "  143    (1,0)   (0,0)   (1,-1)  (1,0)   \n",
    "  144    (1,0)   (0,0)   (1,-1)  (1,-1)  \n",
    "  145    (1,0)   (1,1)   (0,0)   (0,0)   \n",
    "  146    (1,0)   (1,1)   (0,0)   (1,1)   \n",
    "  147    (1,0)   (1,1)   (0,0)   (1,0)   \n",
    "  148    (1,0)   (1,1)   (0,0)   (1,-1)  \n",
    "  149    (1,0)   (1,1)   (1,1)   (0,0)   \n",
    "  150    (1,0)   (1,1)   (1,1)   (1,1)   \n",
    "  151    (1,0)   (1,1)   (1,1)   (1,0)   \n",
    "  152    (1,0)   (1,1)   (1,1)   (1,-1)  \n",
    "  153    (1,0)   (1,1)   (1,0)   (0,0)   \n",
    "  154    (1,0)   (1,1)   (1,0)   (1,1)   \n",
    "  155    (1,0)   (1,1)   (1,0)   (1,0)   \n",
    "  156    (1,0)   (1,1)   (1,0)   (1,-1)  \n",
    "  157    (1,0)   (1,1)   (1,-1)  (0,0)   \n",
    "  158    (1,0)   (1,1)   (1,-1)  (1,1)   \n",
    "  159    (1,0)   (1,1)   (1,-1)  (1,0)   \n",
    "  160    (1,0)   (1,1)   (1,-1)  (1,-1)  \n",
    "  161    (1,0)   (1,0)   (0,0)   (0,0)   \n",
    "  162    (1,0)   (1,0)   (0,0)   (1,1)   \n",
    "  163    (1,0)   (1,0)   (0,0)   (1,0)   \n",
    "  164    (1,0)   (1,0)   (0,0)   (1,-1)  \n",
    "  165    (1,0)   (1,0)   (1,1)   (0,0)   \n",
    "  166    (1,0)   (1,0)   (1,1)   (1,1)   \n",
    "  167    (1,0)   (1,0)   (1,1)   (1,0)   \n",
    "  168    (1,0)   (1,0)   (1,1)   (1,-1)  \n",
    "  169    (1,0)   (1,0)   (1,0)   (0,0)   \n",
    "  170    (1,0)   (1,0)   (1,0)   (1,1)   \n",
    "  171    (1,0)   (1,0)   (1,0)   (1,0)   \n",
    "  172    (1,0)   (1,0)   (1,0)   (1,-1)  \n",
    "  173    (1,0)   (1,0)   (1,-1)  (0,0)   \n",
    "  174    (1,0)   (1,0)   (1,-1)  (1,1)   \n",
    "  175    (1,0)   (1,0)   (1,-1)  (1,0)   \n",
    "  176    (1,0)   (1,0)   (1,-1)  (1,-1)  \n",
    "  177    (1,0)   (1,-1)  (0,0)   (0,0)   \n",
    "  178    (1,0)   (1,-1)  (0,0)   (1,1)   \n",
    "  179    (1,0)   (1,-1)  (0,0)   (1,0)   \n",
    "  180    (1,0)   (1,-1)  (0,0)   (1,-1)  \n",
    "  181    (1,0)   (1,-1)  (1,1)   (0,0)   \n",
    "  182    (1,0)   (1,-1)  (1,1)   (1,1)   \n",
    "  183    (1,0)   (1,-1)  (1,1)   (1,0)   \n",
    "  184    (1,0)   (1,-1)  (1,1)   (1,-1)  \n",
    "  185    (1,0)   (1,-1)  (1,0)   (0,0)   \n",
    "  186    (1,0)   (1,-1)  (1,0)   (1,1)   \n",
    "  187    (1,0)   (1,-1)  (1,0)   (1,0)   \n",
    "  188    (1,0)   (1,-1)  (1,0)   (1,-1)  \n",
    "  189    (1,0)   (1,-1)  (1,-1)  (0,0)   \n",
    "  190    (1,0)   (1,-1)  (1,-1)  (1,1)   \n",
    "  191    (1,0)   (1,-1)  (1,-1)  (1,0)   \n",
    "  192    (1,0)   (1,-1)  (1,-1)  (1,-1)  \n",
    "  193    (1,-1)  (0,0)   (0,0)   (0,0)   \n",
    "  194    (1,-1)  (0,0)   (0,0)   (1,1)   \n",
    "  195    (1,-1)  (0,0)   (0,0)   (1,0)   \n",
    "  196    (1,-1)  (0,0)   (0,0)   (1,-1)  \n",
    "  197    (1,-1)  (0,0)   (1,1)   (0,0)   \n",
    "  198    (1,-1)  (0,0)   (1,1)   (1,1)   \n",
    "  199    (1,-1)  (0,0)   (1,1)   (1,0)   \n",
    "  200    (1,-1)  (0,0)   (1,1)   (1,-1)  \n",
    "  201    (1,-1)  (0,0)   (1,0)   (0,0)   \n",
    "  202    (1,-1)  (0,0)   (1,0)   (1,1)   \n",
    "  203    (1,-1)  (0,0)   (1,0)   (1,0)   \n",
    "  204    (1,-1)  (0,0)   (1,0)   (1,-1)  \n",
    "  205    (1,-1)  (0,0)   (1,-1)  (0,0)   \n",
    "  206    (1,-1)  (0,0)   (1,-1)  (1,1)   \n",
    "  207    (1,-1)  (0,0)   (1,-1)  (1,0)   \n",
    "  208    (1,-1)  (0,0)   (1,-1)  (1,-1)  \n",
    "  209    (1,-1)  (1,1)   (0,0)   (0,0)   \n",
    "  210    (1,-1)  (1,1)   (0,0)   (1,1)   \n",
    "  211    (1,-1)  (1,1)   (0,0)   (1,0)   \n",
    "  212    (1,-1)  (1,1)   (0,0)   (1,-1)  \n",
    "  213    (1,-1)  (1,1)   (1,1)   (0,0)   \n",
    "  214    (1,-1)  (1,1)   (1,1)   (1,1)   \n",
    "  215    (1,-1)  (1,1)   (1,1)   (1,0)   \n",
    "  216    (1,-1)  (1,1)   (1,1)   (1,-1)  \n",
    "  217    (1,-1)  (1,1)   (1,0)   (0,0)   \n",
    "  218    (1,-1)  (1,1)   (1,0)   (1,1)   \n",
    "  219    (1,-1)  (1,1)   (1,0)   (1,0)   \n",
    "  220    (1,-1)  (1,1)   (1,0)   (1,-1)  \n",
    "  221    (1,-1)  (1,1)   (1,-1)  (0,0)   \n",
    "  222    (1,-1)  (1,1)   (1,-1)  (1,1)   \n",
    "  223    (1,-1)  (1,1)   (1,-1)  (1,0)   \n",
    "  224    (1,-1)  (1,1)   (1,-1)  (1,-1)  \n",
    "  225    (1,-1)  (1,0)   (0,0)   (0,0)   \n",
    "  226    (1,-1)  (1,0)   (0,0)   (1,1)   \n",
    "  227    (1,-1)  (1,0)   (0,0)   (1,0)   \n",
    "  228    (1,-1)  (1,0)   (0,0)   (1,-1)  \n",
    "  229    (1,-1)  (1,0)   (1,1)   (0,0)   \n",
    "  230    (1,-1)  (1,0)   (1,1)   (1,1)   \n",
    "  231    (1,-1)  (1,0)   (1,1)   (1,0)   \n",
    "  232    (1,-1)  (1,0)   (1,1)   (1,-1)  \n",
    "  233    (1,-1)  (1,0)   (1,0)   (0,0)   \n",
    "  234    (1,-1)  (1,0)   (1,0)   (1,1)   \n",
    "  235    (1,-1)  (1,0)   (1,0)   (1,0)   \n",
    "  236    (1,-1)  (1,0)   (1,0)   (1,-1)  \n",
    "  237    (1,-1)  (1,0)   (1,-1)  (0,0)   \n",
    "  238    (1,-1)  (1,0)   (1,-1)  (1,1)   \n",
    "  239    (1,-1)  (1,0)   (1,-1)  (1,0)   \n",
    "  240    (1,-1)  (1,0)   (1,-1)  (1,-1)  \n",
    "  241    (1,-1)  (1,-1)  (0,0)   (0,0)   \n",
    "  242    (1,-1)  (1,-1)  (0,0)   (1,1)   \n",
    "  243    (1,-1)  (1,-1)  (0,0)   (1,0)   \n",
    "  244    (1,-1)  (1,-1)  (0,0)   (1,-1)  \n",
    "  245    (1,-1)  (1,-1)  (1,1)   (0,0)   \n",
    "  246    (1,-1)  (1,-1)  (1,1)   (1,1)   \n",
    "  247    (1,-1)  (1,-1)  (1,1)   (1,0)   \n",
    "  248    (1,-1)  (1,-1)  (1,1)   (1,-1)  \n",
    "  249    (1,-1)  (1,-1)  (1,0)   (0,0)   \n",
    "  250    (1,-1)  (1,-1)  (1,0)   (1,1)   \n",
    "  251    (1,-1)  (1,-1)  (1,0)   (1,0)   \n",
    "  252    (1,-1)  (1,-1)  (1,0)   (1,-1)  \n",
    "  253    (1,-1)  (1,-1)  (1,-1)  (0,0)   \n",
    "  254    (1,-1)  (1,-1)  (1,-1)  (1,1)   \n",
    "  255    (1,-1)  (1,-1)  (1,-1)  (1,0)   \n",
    "  256    (1,-1)  (1,-1)  (1,-1)  (1,-1)\"\"\"\n"
   ]
  },
  {
   "cell_type": "code",
   "execution_count": 91,
   "metadata": {},
   "outputs": [],
   "source": [
    "data_tfg = read_spinach_info(text4)\n",
    "\n",
    "basis_tfg = build_list_ISTs(data_tfg)\n",
    "prefacts,Symb_TFG_basis = build_symbolic_list_ISTs(data_tfg)\n",
    "\n",
    "#Normbasis = NormalizeBasis(basis,n_qubits=4,checkOrth=True) I have verified the orthonormalization of the basis\n",
    "Normbasis_tfg = NormalizeBasis(basis_tfg,n_qubits=4,checkOrth=False)"
   ]
  },
  {
   "cell_type": "code",
   "execution_count": 130,
   "metadata": {},
   "outputs": [],
   "source": [
    "tc = 0.951e-9 # in seconds\n",
    "gammaF = 251814800\n",
    "B0 =9.3933\n",
    "\n",
    "w1 = -376415149.7831\n",
    "w2 = -376410090.0768\n",
    "w3 = -376411850.9715\n",
    "w4 = -376411792.9965\n",
    "\n",
    "\n",
    "freqs = np.array([w1,w2,w3,w4])\n",
    "\n",
    "coords = np.array([\n",
    "    [-0.0551 , -1.2087, -1.6523],\n",
    "    [-0.8604, -2.3200, -0.0624],\n",
    "    [-2.4464, -0.1125, -0.9776],\n",
    "    [-1.9914, -0.0836, 1.0743]\n",
    "])\n",
    "\n",
    "coords = coords*1e-10\n",
    "\n",
    "Nspins = 4\n",
    "\n",
    "#R_kiteALA_dev = Kite_relMat(2*np.pi*freqs,tc,coords,Nspins,gammaH,Sub_norm_basis)\n",
    "#R_kite_dev = KiteRelMatrixManyParallel(2*np.pi*freqs,tc,coords,Nspins,gammaH,Normbasis_ala,num_workers=20)\n",
    "\n",
    "#isotropic chemical shifts in ppm taken from the chemical shift tensors introduced in Spinach\n",
    "#-120.8361 -134.2763 -129.5988 -129.7528\n",
    "zeeman_scalar_1 = -120.8361\n",
    "zeeman_scalar_2 = -134.2763\n",
    "zeeman_scalar_3 = -129.5988\n",
    "zeeman_scalar_4 = -129.7528\n",
    "\n",
    "zeeman_scalars = [zeeman_scalar_1,zeeman_scalar_2,zeeman_scalar_3,zeeman_scalar_4]\n",
    "\n",
    "chem_shifts = get_chemical_shifts(gammaF,B0,zeeman_scalars)\n",
    "\n",
    "list_jumps, list_damp_rates, list_dets=Get_Det_And_Rates(2*np.pi*freqs,tc,coords,Nspins,gammaF,chem_shifts)\n",
    "\n",
    "filt_jump_ops = []\n",
    "filt_damp_rates = []\n",
    "thresh = 370\n",
    "for i in range(len(list_dets)):\n",
    "    if np.abs(list_dets[i])<thresh:\n",
    "        filt_jump_ops.append(list_jumps[i])\n",
    "        filt_damp_rates.append(list_damp_rates[i])"
   ]
  },
  {
   "cell_type": "code",
   "execution_count": 131,
   "metadata": {},
   "outputs": [
    {
     "data": {
      "text/plain": [
       "208"
      ]
     },
     "execution_count": 131,
     "metadata": {},
     "output_type": "execute_result"
    }
   ],
   "source": [
    "len(filt_jump_ops)"
   ]
  },
  {
   "cell_type": "code",
   "execution_count": 81,
   "metadata": {},
   "outputs": [
    {
     "data": {
      "text/plain": [
       "-364.2672819693107"
      ]
     },
     "execution_count": 81,
     "metadata": {},
     "output_type": "execute_result"
    }
   ],
   "source": [
    "306549.36767851110-306913.6349604804"
   ]
  },
  {
   "cell_type": "code",
   "execution_count": 82,
   "metadata": {},
   "outputs": [
    {
     "data": {
      "text/plain": [
       "31791.0722280817"
      ]
     },
     "execution_count": 82,
     "metadata": {},
     "output_type": "execute_result"
    }
   ],
   "source": [
    "317613.3950253401-285822.3227972584"
   ]
  },
  {
   "cell_type": "code",
   "execution_count": 79,
   "metadata": {},
   "outputs": [
    {
     "data": {
      "text/plain": [
       "[285822.3227972584, 317613.3950253401, 306549.3676785111, 306913.6349604804]"
      ]
     },
     "execution_count": 79,
     "metadata": {},
     "output_type": "execute_result"
    }
   ],
   "source": [
    "chem_shifts"
   ]
  },
  {
   "cell_type": "code",
   "execution_count": 94,
   "metadata": {},
   "outputs": [],
   "source": [
    "##Matrix computed with  filtered operators...\n",
    "f = open('./data/R_TFG_Approx_higher_thresh.pk','rb')\n",
    "\n",
    "dat = pickle.load(f)\n",
    "\n",
    "R_anTFG = dat['KiteMat']\n",
    "\n",
    "#Reference Kite matrix...\n",
    "loadMat = spio.loadmat('./data/TFG_kite.mat',squeeze_me=True)\n",
    "\n",
    "R_refKiteTFG= loadMat['p']['R'].item()\n",
    "R_refKiteTFG = R_refKiteTFG.toarray()\n",
    "H_refKiteTFG = loadMat['p']['H'].item()\n"
   ]
  },
  {
   "cell_type": "code",
   "execution_count": 95,
   "metadata": {},
   "outputs": [],
   "source": [
    "savemat('R_TFG_Approx_Jumps_high_thresh.mat',{'R_TFG_App':R_anTFG})"
   ]
  },
  {
   "cell_type": "code",
   "execution_count": 96,
   "metadata": {},
   "outputs": [],
   "source": [
    "####Generation of spectra using the different relaxation matrices....\n",
    "\n",
    "#loading the reference secular relaxation matrix...\n",
    "loadMat = spio.loadmat('./data/TFG_secular.mat',squeeze_me=True)\n",
    "\n",
    "t_grid1 = loadMat['p']['time_grid1'].item()\n",
    "t_grid2 = loadMat['p']['time_grid2'].item()\n",
    "\n",
    "R_secular = loadMat['p']['R'].item()\n",
    "\n",
    "rho0 = np.array(loadMat['p']['rho0'].item().toarray())\n",
    "\n",
    "coil = np.array(loadMat['p']['coil'].item())\n",
    "\n",
    "Lx = loadMat['p']['Lx'].item().toarray() \n",
    "Ly = loadMat['p']['Ly'].item().toarray() \n",
    "\n",
    "###Dynamical evolution for calculation of 2D spectra...\n",
    "Tpts1 = len(t_grid1)\n",
    "Tpts2 = len(t_grid2)\n",
    "\n",
    "\n",
    "\n",
    "#Parameters taken from Spinach script\n",
    "tmix = 0.5\n",
    "dt1 = 0.125e-3\n",
    "dt2 = 0.125e-3\n",
    "\n",
    "##Parameters for Fourier transform\n",
    "zerofill1 = 1024\n",
    "zerofill2 = 512\n",
    "\n",
    "\n",
    "#Calculation of the NOESY spectra using the reference relaxation matrix and the Kite and the jump-operator-truncated approach\n",
    "\n",
    "Ref_spec = GenNOESYSpectrum(H_refKiteTFG,R_secular,Tpts1,Tpts2,rho0,coil,tmix,dt1,dt2,zerofill1,zerofill2,Lx,Ly)\n",
    "\n",
    "Approx_spec = GenNOESYSpectrum(H_refKiteTFG,R_anTFG,Tpts1,Tpts2,rho0,coil,tmix,dt1,dt2,zerofill1,zerofill2,Lx,Ly)\n",
    "\n",
    "Kite_spec = GenNOESYSpectrum(H_refKiteTFG,R_refKiteTFG,Tpts1,Tpts2,rho0,coil,tmix,dt1,dt2,zerofill1,zerofill2,Lx,Ly)\n",
    "\n"
   ]
  },
  {
   "cell_type": "code",
   "execution_count": 97,
   "metadata": {},
   "outputs": [
    {
     "data": {
      "text/plain": [
       "0.004803293551365939"
      ]
     },
     "execution_count": 97,
     "metadata": {},
     "output_type": "execute_result"
    }
   ],
   "source": [
    "\n",
    "Hellinger_2D(Ref_spec,Approx_spec,Tpts1,Tpts2,dt1,dt2)\n"
   ]
  },
  {
   "cell_type": "code",
   "execution_count": 98,
   "metadata": {},
   "outputs": [
    {
     "data": {
      "text/plain": [
       "0.0037288192439894016"
      ]
     },
     "execution_count": 98,
     "metadata": {},
     "output_type": "execute_result"
    }
   ],
   "source": [
    "Hellinger_2D(Ref_spec,Kite_spec,Tpts1,Tpts2,dt1,dt2)"
   ]
  },
  {
   "cell_type": "code",
   "execution_count": 71,
   "metadata": {},
   "outputs": [
    {
     "data": {
      "text/plain": [
       "0.0"
      ]
     },
     "execution_count": 71,
     "metadata": {},
     "output_type": "execute_result"
    }
   ],
   "source": [
    "Hellinger_2D(Ref_spec,Ref_spec,Tpts1,Tpts2,dt1,dt2)"
   ]
  },
  {
   "cell_type": "code",
   "execution_count": 72,
   "metadata": {},
   "outputs": [
    {
     "data": {
      "text/plain": [
       "22.007695972856347"
      ]
     },
     "execution_count": 72,
     "metadata": {},
     "output_type": "execute_result"
    }
   ],
   "source": [
    "np.linalg.norm(R_secular-R_refKiteTFG)"
   ]
  },
  {
   "cell_type": "code",
   "execution_count": 73,
   "metadata": {},
   "outputs": [
    {
     "data": {
      "text/plain": [
       "22.13035723686888"
      ]
     },
     "execution_count": 73,
     "metadata": {},
     "output_type": "execute_result"
    }
   ],
   "source": [
    "np.linalg.norm(R_secular-R_anTFG)"
   ]
  },
  {
   "cell_type": "code",
   "execution_count": null,
   "metadata": {},
   "outputs": [],
   "source": []
  },
  {
   "cell_type": "code",
   "execution_count": 38,
   "metadata": {},
   "outputs": [
    {
     "data": {
      "text/plain": [
       "10.461062203750785"
      ]
     },
     "execution_count": 38,
     "metadata": {},
     "output_type": "execute_result"
    }
   ],
   "source": [
    "np.linalg.norm(R_refKiteTFG-R_anTFG)"
   ]
  },
  {
   "cell_type": "code",
   "execution_count": 56,
   "metadata": {},
   "outputs": [
    {
     "data": {
      "text/plain": [
       "<matplotlib.colorbar.Colorbar at 0x13fb45c90>"
      ]
     },
     "execution_count": 56,
     "metadata": {},
     "output_type": "execute_result"
    },
    {
     "data": {
      "image/png": "[encoded data removed]",
      "text/plain": [
       "<Figure size 640x480 with 2 Axes>"
      ]
     },
     "metadata": {},
     "output_type": "display_data"
    }
   ],
   "source": [
    "plt.imshow(np.real(R_refKiteTFG.toarray()[0:16,0:16]), cmap='viridis', interpolation='nearest')\n",
    "# Add a color bar to sh-1j*ow the scale\n",
    "plt.colorbar()"
   ]
  },
  {
   "cell_type": "code",
   "execution_count": 64,
   "metadata": {},
   "outputs": [
    {
     "data": {
      "text/plain": [
       "<matplotlib.colorbar.Colorbar at 0x13fb4f010>"
      ]
     },
     "execution_count": 64,
     "metadata": {},
     "output_type": "execute_result"
    },
    {
     "data": {
      "image/png": "[encoded data removed]",
      "text/plain": [
       "<Figure size 640x480 with 2 Axes>"
      ]
     },
     "metadata": {},
     "output_type": "display_data"
    }
   ],
   "source": [
    "plt.imshow(np.real(R_anTFG-R_refKiteTFG), cmap='viridis', interpolation='nearest')\n",
    "# Add a color bar to sh-1j*ow the scale\n",
    "plt.colorbar()"
   ]
  },
  {
   "cell_type": "code",
   "execution_count": 66,
   "metadata": {},
   "outputs": [
    {
     "data": {
      "text/plain": [
       "(30, 156)"
      ]
     },
     "execution_count": 66,
     "metadata": {},
     "output_type": "execute_result"
    }
   ],
   "source": [
    "##Trying to understand the difference in oyutcomes...\n",
    "\n",
    "find_largest_index(np.abs(R_anTFG-R_refKiteTFG))"
   ]
  },
  {
   "cell_type": "code",
   "execution_count": 67,
   "metadata": {},
   "outputs": [
    {
     "data": {
      "text/plain": [
       "((1.4568403612016099+0j), (-3.7e-09+0j))"
      ]
     },
     "execution_count": 67,
     "metadata": {},
     "output_type": "execute_result"
    }
   ],
   "source": [
    "R_anTFG[30,156],R_refKiteTFG[30,156]"
   ]
  },
  {
   "cell_type": "code",
   "execution_count": 71,
   "metadata": {},
   "outputs": [
    {
     "data": {
      "text/plain": [
       "('   S+1 S-2 Sz3', ' Sz0 S+1 S-2  ')"
      ]
     },
     "execution_count": 71,
     "metadata": {},
     "output_type": "execute_result"
    }
   ],
   "source": [
    "Symb_TFG_basis[30], Symb_TFG_basis[156]"
   ]
  },
  {
   "cell_type": "code",
   "execution_count": 76,
   "metadata": {},
   "outputs": [
    {
     "data": {
      "text/plain": [
       "True"
      ]
     },
     "execution_count": 76,
     "metadata": {},
     "output_type": "execute_result"
    }
   ],
   "source": [
    "['S0+S3+','S0-S3-'] in filt_jump_ops"
   ]
  },
  {
   "cell_type": "code",
   "execution_count": 89,
   "metadata": {},
   "outputs": [
    {
     "data": {
      "text/plain": [
       "(-0.5+0j)"
      ]
     },
     "execution_count": 89,
     "metadata": {},
     "output_type": "execute_result"
    }
   ],
   "source": [
    "#MatRepLib(Normbasis_tfg,S_plus(0)*S_plus(3),of.hermitian_conjugated(S_minus(0)*S_minus(3)),n_qubits=4)\n",
    "linb_chan = Linb_Channel(S_plus(0)*S_plus(3),of.hermitian_conjugated(S_minus(0)*S_minus(3)),Sz(0)*S_plus(1)*S_minus(2))\n",
    "\n",
    "#linb_chan_sp = of.get_sparse_operator(linb_chan)\n",
    "\n",
    "InnProd(S_plus(1)*S_minus(2)*Sz(3),linb_chan)\n"
   ]
  },
  {
   "cell_type": "code",
   "execution_count": 90,
   "metadata": {},
   "outputs": [
    {
     "data": {
      "text/plain": [
       "[285822.3227972584, 317613.3950253401, 306549.3676785111, 306913.6349604804]"
      ]
     },
     "execution_count": 90,
     "metadata": {},
     "output_type": "execute_result"
    }
   ],
   "source": [
    "chem_shifts"
   ]
  },
  {
   "cell_type": "code",
   "execution_count": null,
   "metadata": {},
   "outputs": [],
   "source": [
    "chem_shifts[0]+chem_shifts[3]-chem_shifts[]"
   ]
  },
  {
   "cell_type": "code",
   "execution_count": null,
   "metadata": {},
   "outputs": [],
   "source": []
  },
  {
   "cell_type": "markdown",
   "metadata": {},
   "source": [
    "# Alanine damping rates and detunings"
   ]
  },
  {
   "cell_type": "code",
   "execution_count": 147,
   "metadata": {},
   "outputs": [],
   "source": [
    "# Define the functions for S_plus, S_minus, and Sz\n",
    "from basis_utils import S_plus, S_minus, Sz, MatRepLib\n",
    "from openfermion import QubitOperator\n"
   ]
  },
  {
   "cell_type": "code",
   "execution_count": 148,
   "metadata": {},
   "outputs": [],
   "source": [
    "text4=\"\"\"1      (0,0)   (0,0)   (0,0)   (0,0)   \n",
    "  2      (0,0)   (0,0)   (0,0)   (1,1)   \n",
    "  3      (0,0)   (0,0)   (0,0)   (1,0)   \n",
    "  4      (0,0)   (0,0)   (0,0)   (1,-1)  \n",
    "  5      (0,0)   (0,0)   (1,1)   (0,0)   \n",
    "  6      (0,0)   (0,0)   (1,1)   (1,1)   \n",
    "  7      (0,0)   (0,0)   (1,1)   (1,0)   \n",
    "  8      (0,0)   (0,0)   (1,1)   (1,-1)  \n",
    "  9      (0,0)   (0,0)   (1,0)   (0,0)   \n",
    "  10     (0,0)   (0,0)   (1,0)   (1,1)   \n",
    "  11     (0,0)   (0,0)   (1,0)   (1,0)   \n",
    "  12     (0,0)   (0,0)   (1,0)   (1,-1)  \n",
    "  13     (0,0)   (0,0)   (1,-1)  (0,0)   \n",
    "  14     (0,0)   (0,0)   (1,-1)  (1,1)   \n",
    "  15     (0,0)   (0,0)   (1,-1)  (1,0)   \n",
    "  16     (0,0)   (0,0)   (1,-1)  (1,-1)  \n",
    "  17     (0,0)   (1,1)   (0,0)   (0,0)   \n",
    "  18     (0,0)   (1,1)   (0,0)   (1,1)   \n",
    "  19     (0,0)   (1,1)   (0,0)   (1,0)   \n",
    "  20     (0,0)   (1,1)   (0,0)   (1,-1)  \n",
    "  21     (0,0)   (1,1)   (1,1)   (0,0)   \n",
    "  22     (0,0)   (1,1)   (1,1)   (1,1)   \n",
    "  23     (0,0)   (1,1)   (1,1)   (1,0)   \n",
    "  24     (0,0)   (1,1)   (1,1)   (1,-1)  \n",
    "  25     (0,0)   (1,1)   (1,0)   (0,0)   \n",
    "  26     (0,0)   (1,1)   (1,0)   (1,1)   \n",
    "  27     (0,0)   (1,1)   (1,0)   (1,0)   \n",
    "  28     (0,0)   (1,1)   (1,0)   (1,-1)  \n",
    "  29     (0,0)   (1,1)   (1,-1)  (0,0)   \n",
    "  30     (0,0)   (1,1)   (1,-1)  (1,1)   \n",
    "  31     (0,0)   (1,1)   (1,-1)  (1,0)   \n",
    "  32     (0,0)   (1,1)   (1,-1)  (1,-1)  \n",
    "  33     (0,0)   (1,0)   (0,0)   (0,0)   \n",
    "  34     (0,0)   (1,0)   (0,0)   (1,1)   \n",
    "  35     (0,0)   (1,0)   (0,0)   (1,0)   \n",
    "  36     (0,0)   (1,0)   (0,0)   (1,-1)  \n",
    "  37     (0,0)   (1,0)   (1,1)   (0,0)   \n",
    "  38     (0,0)   (1,0)   (1,1)   (1,1)   \n",
    "  39     (0,0)   (1,0)   (1,1)   (1,0)   \n",
    "  40     (0,0)   (1,0)   (1,1)   (1,-1)  \n",
    "  41     (0,0)   (1,0)   (1,0)   (0,0)   \n",
    "  42     (0,0)   (1,0)   (1,0)   (1,1)   \n",
    "  43     (0,0)   (1,0)   (1,0)   (1,0)   \n",
    "  44     (0,0)   (1,0)   (1,0)   (1,-1)  \n",
    "  45     (0,0)   (1,0)   (1,-1)  (0,0)   \n",
    "  46     (0,0)   (1,0)   (1,-1)  (1,1)   \n",
    "  47     (0,0)   (1,0)   (1,-1)  (1,0)   \n",
    "  48     (0,0)   (1,0)   (1,-1)  (1,-1)  \n",
    "  49     (0,0)   (1,-1)  (0,0)   (0,0)   \n",
    "  50     (0,0)   (1,-1)  (0,0)   (1,1)   \n",
    "  51     (0,0)   (1,-1)  (0,0)   (1,0)   \n",
    "  52     (0,0)   (1,-1)  (0,0)   (1,-1)  \n",
    "  53     (0,0)   (1,-1)  (1,1)   (0,0)   \n",
    "  54     (0,0)   (1,-1)  (1,1)   (1,1)   \n",
    "  55     (0,0)   (1,-1)  (1,1)   (1,0)   \n",
    "  56     (0,0)   (1,-1)  (1,1)   (1,-1)  \n",
    "  57     (0,0)   (1,-1)  (1,0)   (0,0)   \n",
    "  58     (0,0)   (1,-1)  (1,0)   (1,1)   \n",
    "  59     (0,0)   (1,-1)  (1,0)   (1,0)   \n",
    "  60     (0,0)   (1,-1)  (1,0)   (1,-1)  \n",
    "  61     (0,0)   (1,-1)  (1,-1)  (0,0)   \n",
    "  62     (0,0)   (1,-1)  (1,-1)  (1,1)   \n",
    "  63     (0,0)   (1,-1)  (1,-1)  (1,0)   \n",
    "  64     (0,0)   (1,-1)  (1,-1)  (1,-1)  \n",
    "  65     (1,1)   (0,0)   (0,0)   (0,0)   \n",
    "  66     (1,1)   (0,0)   (0,0)   (1,1)   \n",
    "  67     (1,1)   (0,0)   (0,0)   (1,0)   \n",
    "  68     (1,1)   (0,0)   (0,0)   (1,-1)  \n",
    "  69     (1,1)   (0,0)   (1,1)   (0,0)   \n",
    "  70     (1,1)   (0,0)   (1,1)   (1,1)   \n",
    "  71     (1,1)   (0,0)   (1,1)   (1,0)   \n",
    "  72     (1,1)   (0,0)   (1,1)   (1,-1)  \n",
    "  73     (1,1)   (0,0)   (1,0)   (0,0)   \n",
    "  74     (1,1)   (0,0)   (1,0)   (1,1)   \n",
    "  75     (1,1)   (0,0)   (1,0)   (1,0)   \n",
    "  76     (1,1)   (0,0)   (1,0)   (1,-1)  \n",
    "  77     (1,1)   (0,0)   (1,-1)  (0,0)   \n",
    "  78     (1,1)   (0,0)   (1,-1)  (1,1)   \n",
    "  79     (1,1)   (0,0)   (1,-1)  (1,0)   \n",
    "  80     (1,1)   (0,0)   (1,-1)  (1,-1)  \n",
    "  81     (1,1)   (1,1)   (0,0)   (0,0)   \n",
    "  82     (1,1)   (1,1)   (0,0)   (1,1)   \n",
    "  83     (1,1)   (1,1)   (0,0)   (1,0)   \n",
    "  84     (1,1)   (1,1)   (0,0)   (1,-1)  \n",
    "  85     (1,1)   (1,1)   (1,1)   (0,0)   \n",
    "  86     (1,1)   (1,1)   (1,1)   (1,1)   \n",
    "  87     (1,1)   (1,1)   (1,1)   (1,0)   \n",
    "  88     (1,1)   (1,1)   (1,1)   (1,-1)  \n",
    "  89     (1,1)   (1,1)   (1,0)   (0,0)   \n",
    "  90     (1,1)   (1,1)   (1,0)   (1,1)   \n",
    "  91     (1,1)   (1,1)   (1,0)   (1,0)   \n",
    "  92     (1,1)   (1,1)   (1,0)   (1,-1)  \n",
    "  93     (1,1)   (1,1)   (1,-1)  (0,0)   \n",
    "  94     (1,1)   (1,1)   (1,-1)  (1,1)   \n",
    "  95     (1,1)   (1,1)   (1,-1)  (1,0)   \n",
    "  96     (1,1)   (1,1)   (1,-1)  (1,-1)  \n",
    "  97     (1,1)   (1,0)   (0,0)   (0,0)   \n",
    "  98     (1,1)   (1,0)   (0,0)   (1,1)   \n",
    "  99     (1,1)   (1,0)   (0,0)   (1,0)   \n",
    "  100    (1,1)   (1,0)   (0,0)   (1,-1)  \n",
    "  101    (1,1)   (1,0)   (1,1)   (0,0)   \n",
    "  102    (1,1)   (1,0)   (1,1)   (1,1)   \n",
    "  103    (1,1)   (1,0)   (1,1)   (1,0)   \n",
    "  104    (1,1)   (1,0)   (1,1)   (1,-1)  \n",
    "  105    (1,1)   (1,0)   (1,0)   (0,0)   \n",
    "  106    (1,1)   (1,0)   (1,0)   (1,1)   \n",
    "  107    (1,1)   (1,0)   (1,0)   (1,0)   \n",
    "  108    (1,1)   (1,0)   (1,0)   (1,-1)  \n",
    "  109    (1,1)   (1,0)   (1,-1)  (0,0)   \n",
    "  110    (1,1)   (1,0)   (1,-1)  (1,1)   \n",
    "  111    (1,1)   (1,0)   (1,-1)  (1,0)   \n",
    "  112    (1,1)   (1,0)   (1,-1)  (1,-1)  \n",
    "  113    (1,1)   (1,-1)  (0,0)   (0,0)   \n",
    "  114    (1,1)   (1,-1)  (0,0)   (1,1)   \n",
    "  115    (1,1)   (1,-1)  (0,0)   (1,0)   \n",
    "  116    (1,1)   (1,-1)  (0,0)   (1,-1)  \n",
    "  117    (1,1)   (1,-1)  (1,1)   (0,0)   \n",
    "  118    (1,1)   (1,-1)  (1,1)   (1,1)   \n",
    "  119    (1,1)   (1,-1)  (1,1)   (1,0)   \n",
    "  120    (1,1)   (1,-1)  (1,1)   (1,-1)  \n",
    "  121    (1,1)   (1,-1)  (1,0)   (0,0)   \n",
    "  122    (1,1)   (1,-1)  (1,0)   (1,1)   \n",
    "  123    (1,1)   (1,-1)  (1,0)   (1,0)   \n",
    "  124    (1,1)   (1,-1)  (1,0)   (1,-1)  \n",
    "  125    (1,1)   (1,-1)  (1,-1)  (0,0)   \n",
    "  126    (1,1)   (1,-1)  (1,-1)  (1,1)   \n",
    "  127    (1,1)   (1,-1)  (1,-1)  (1,0)   \n",
    "  128    (1,1)   (1,-1)  (1,-1)  (1,-1)  \n",
    "  129    (1,0)   (0,0)   (0,0)   (0,0)   \n",
    "  130    (1,0)   (0,0)   (0,0)   (1,1)   \n",
    "  131    (1,0)   (0,0)   (0,0)   (1,0)   \n",
    "  132    (1,0)   (0,0)   (0,0)   (1,-1)  \n",
    "  133    (1,0)   (0,0)   (1,1)   (0,0)   \n",
    "  134    (1,0)   (0,0)   (1,1)   (1,1)   \n",
    "  135    (1,0)   (0,0)   (1,1)   (1,0)   \n",
    "  136    (1,0)   (0,0)   (1,1)   (1,-1)  \n",
    "  137    (1,0)   (0,0)   (1,0)   (0,0)   \n",
    "  138    (1,0)   (0,0)   (1,0)   (1,1)   \n",
    "  139    (1,0)   (0,0)   (1,0)   (1,0)   \n",
    "  140    (1,0)   (0,0)   (1,0)   (1,-1)  \n",
    "  141    (1,0)   (0,0)   (1,-1)  (0,0)   \n",
    "  142    (1,0)   (0,0)   (1,-1)  (1,1)   \n",
    "  143    (1,0)   (0,0)   (1,-1)  (1,0)   \n",
    "  144    (1,0)   (0,0)   (1,-1)  (1,-1)  \n",
    "  145    (1,0)   (1,1)   (0,0)   (0,0)   \n",
    "  146    (1,0)   (1,1)   (0,0)   (1,1)   \n",
    "  147    (1,0)   (1,1)   (0,0)   (1,0)   \n",
    "  148    (1,0)   (1,1)   (0,0)   (1,-1)  \n",
    "  149    (1,0)   (1,1)   (1,1)   (0,0)   \n",
    "  150    (1,0)   (1,1)   (1,1)   (1,1)   \n",
    "  151    (1,0)   (1,1)   (1,1)   (1,0)   \n",
    "  152    (1,0)   (1,1)   (1,1)   (1,-1)  \n",
    "  153    (1,0)   (1,1)   (1,0)   (0,0)   \n",
    "  154    (1,0)   (1,1)   (1,0)   (1,1)   \n",
    "  155    (1,0)   (1,1)   (1,0)   (1,0)   \n",
    "  156    (1,0)   (1,1)   (1,0)   (1,-1)  \n",
    "  157    (1,0)   (1,1)   (1,-1)  (0,0)   \n",
    "  158    (1,0)   (1,1)   (1,-1)  (1,1)   \n",
    "  159    (1,0)   (1,1)   (1,-1)  (1,0)   \n",
    "  160    (1,0)   (1,1)   (1,-1)  (1,-1)  \n",
    "  161    (1,0)   (1,0)   (0,0)   (0,0)   \n",
    "  162    (1,0)   (1,0)   (0,0)   (1,1)   \n",
    "  163    (1,0)   (1,0)   (0,0)   (1,0)   \n",
    "  164    (1,0)   (1,0)   (0,0)   (1,-1)  \n",
    "  165    (1,0)   (1,0)   (1,1)   (0,0)   \n",
    "  166    (1,0)   (1,0)   (1,1)   (1,1)   \n",
    "  167    (1,0)   (1,0)   (1,1)   (1,0)   \n",
    "  168    (1,0)   (1,0)   (1,1)   (1,-1)  \n",
    "  169    (1,0)   (1,0)   (1,0)   (0,0)   \n",
    "  170    (1,0)   (1,0)   (1,0)   (1,1)   \n",
    "  171    (1,0)   (1,0)   (1,0)   (1,0)   \n",
    "  172    (1,0)   (1,0)   (1,0)   (1,-1)  \n",
    "  173    (1,0)   (1,0)   (1,-1)  (0,0)   \n",
    "  174    (1,0)   (1,0)   (1,-1)  (1,1)   \n",
    "  175    (1,0)   (1,0)   (1,-1)  (1,0)   \n",
    "  176    (1,0)   (1,0)   (1,-1)  (1,-1)  \n",
    "  177    (1,0)   (1,-1)  (0,0)   (0,0)   \n",
    "  178    (1,0)   (1,-1)  (0,0)   (1,1)   \n",
    "  179    (1,0)   (1,-1)  (0,0)   (1,0)   \n",
    "  180    (1,0)   (1,-1)  (0,0)   (1,-1)  \n",
    "  181    (1,0)   (1,-1)  (1,1)   (0,0)   \n",
    "  182    (1,0)   (1,-1)  (1,1)   (1,1)   \n",
    "  183    (1,0)   (1,-1)  (1,1)   (1,0)   \n",
    "  184    (1,0)   (1,-1)  (1,1)   (1,-1)  \n",
    "  185    (1,0)   (1,-1)  (1,0)   (0,0)   \n",
    "  186    (1,0)   (1,-1)  (1,0)   (1,1)   \n",
    "  187    (1,0)   (1,-1)  (1,0)   (1,0)   \n",
    "  188    (1,0)   (1,-1)  (1,0)   (1,-1)  \n",
    "  189    (1,0)   (1,-1)  (1,-1)  (0,0)   \n",
    "  190    (1,0)   (1,-1)  (1,-1)  (1,1)   \n",
    "  191    (1,0)   (1,-1)  (1,-1)  (1,0)   \n",
    "  192    (1,0)   (1,-1)  (1,-1)  (1,-1)  \n",
    "  193    (1,-1)  (0,0)   (0,0)   (0,0)   \n",
    "  194    (1,-1)  (0,0)   (0,0)   (1,1)   \n",
    "  195    (1,-1)  (0,0)   (0,0)   (1,0)   \n",
    "  196    (1,-1)  (0,0)   (0,0)   (1,-1)  \n",
    "  197    (1,-1)  (0,0)   (1,1)   (0,0)   \n",
    "  198    (1,-1)  (0,0)   (1,1)   (1,1)   \n",
    "  199    (1,-1)  (0,0)   (1,1)   (1,0)   \n",
    "  200    (1,-1)  (0,0)   (1,1)   (1,-1)  \n",
    "  201    (1,-1)  (0,0)   (1,0)   (0,0)   \n",
    "  202    (1,-1)  (0,0)   (1,0)   (1,1)   \n",
    "  203    (1,-1)  (0,0)   (1,0)   (1,0)   \n",
    "  204    (1,-1)  (0,0)   (1,0)   (1,-1)  \n",
    "  205    (1,-1)  (0,0)   (1,-1)  (0,0)   \n",
    "  206    (1,-1)  (0,0)   (1,-1)  (1,1)   \n",
    "  207    (1,-1)  (0,0)   (1,-1)  (1,0)   \n",
    "  208    (1,-1)  (0,0)   (1,-1)  (1,-1)  \n",
    "  209    (1,-1)  (1,1)   (0,0)   (0,0)   \n",
    "  210    (1,-1)  (1,1)   (0,0)   (1,1)   \n",
    "  211    (1,-1)  (1,1)   (0,0)   (1,0)   \n",
    "  212    (1,-1)  (1,1)   (0,0)   (1,-1)  \n",
    "  213    (1,-1)  (1,1)   (1,1)   (0,0)   \n",
    "  214    (1,-1)  (1,1)   (1,1)   (1,1)   \n",
    "  215    (1,-1)  (1,1)   (1,1)   (1,0)   \n",
    "  216    (1,-1)  (1,1)   (1,1)   (1,-1)  \n",
    "  217    (1,-1)  (1,1)   (1,0)   (0,0)   \n",
    "  218    (1,-1)  (1,1)   (1,0)   (1,1)   \n",
    "  219    (1,-1)  (1,1)   (1,0)   (1,0)   \n",
    "  220    (1,-1)  (1,1)   (1,0)   (1,-1)  \n",
    "  221    (1,-1)  (1,1)   (1,-1)  (0,0)   \n",
    "  222    (1,-1)  (1,1)   (1,-1)  (1,1)   \n",
    "  223    (1,-1)  (1,1)   (1,-1)  (1,0)   \n",
    "  224    (1,-1)  (1,1)   (1,-1)  (1,-1)  \n",
    "  225    (1,-1)  (1,0)   (0,0)   (0,0)   \n",
    "  226    (1,-1)  (1,0)   (0,0)   (1,1)   \n",
    "  227    (1,-1)  (1,0)   (0,0)   (1,0)   \n",
    "  228    (1,-1)  (1,0)   (0,0)   (1,-1)  \n",
    "  229    (1,-1)  (1,0)   (1,1)   (0,0)   \n",
    "  230    (1,-1)  (1,0)   (1,1)   (1,1)   \n",
    "  231    (1,-1)  (1,0)   (1,1)   (1,0)   \n",
    "  232    (1,-1)  (1,0)   (1,1)   (1,-1)  \n",
    "  233    (1,-1)  (1,0)   (1,0)   (0,0)   \n",
    "  234    (1,-1)  (1,0)   (1,0)   (1,1)   \n",
    "  235    (1,-1)  (1,0)   (1,0)   (1,0)   \n",
    "  236    (1,-1)  (1,0)   (1,0)   (1,-1)  \n",
    "  237    (1,-1)  (1,0)   (1,-1)  (0,0)   \n",
    "  238    (1,-1)  (1,0)   (1,-1)  (1,1)   \n",
    "  239    (1,-1)  (1,0)   (1,-1)  (1,0)   \n",
    "  240    (1,-1)  (1,0)   (1,-1)  (1,-1)  \n",
    "  241    (1,-1)  (1,-1)  (0,0)   (0,0)   \n",
    "  242    (1,-1)  (1,-1)  (0,0)   (1,1)   \n",
    "  243    (1,-1)  (1,-1)  (0,0)   (1,0)   \n",
    "  244    (1,-1)  (1,-1)  (0,0)   (1,-1)  \n",
    "  245    (1,-1)  (1,-1)  (1,1)   (0,0)   \n",
    "  246    (1,-1)  (1,-1)  (1,1)   (1,1)   \n",
    "  247    (1,-1)  (1,-1)  (1,1)   (1,0)   \n",
    "  248    (1,-1)  (1,-1)  (1,1)   (1,-1)  \n",
    "  249    (1,-1)  (1,-1)  (1,0)   (0,0)   \n",
    "  250    (1,-1)  (1,-1)  (1,0)   (1,1)   \n",
    "  251    (1,-1)  (1,-1)  (1,0)   (1,0)   \n",
    "  252    (1,-1)  (1,-1)  (1,0)   (1,-1)  \n",
    "  253    (1,-1)  (1,-1)  (1,-1)  (0,0)   \n",
    "  254    (1,-1)  (1,-1)  (1,-1)  (1,1)   \n",
    "  255    (1,-1)  (1,-1)  (1,-1)  (1,0)   \n",
    "  256    (1,-1)  (1,-1)  (1,-1)  (1,-1)\"\"\"\n"
   ]
  },
  {
   "cell_type": "code",
   "execution_count": 225,
   "metadata": {},
   "outputs": [],
   "source": [
    "####Loading of externally computed relaxation matrix...\n",
    "f = open('./data/ALA_Approx_Filt.pk','rb')\n",
    "dat = pickle.load(f)\n",
    "\n",
    "R_ala_approx = dat['KiteMat']\n",
    "\n",
    "##Loading the analytically-generated secular relaxation matrix...\n",
    "f = open('./data/R_ALA_sec_analytical.pk','rb')\n",
    "dat = pickle.load(f)\n",
    "R_ala_sec_an = dat['mat']\n",
    "\n",
    "loadMat = spio.loadmat('./data/ALA_NOESY_withGradients_kite.mat',squeeze_me=True)\n",
    "\n",
    "R_refALAKite= loadMat['p']['R'].item()\n",
    "R_refALAKite=R_refALAKite.toarray()\n",
    "#R_ala_kite = \n",
    "\n",
    "\n",
    "loadMat = spio.loadmat('./data/NOESYdata_ALA_withGradients.mat',squeeze_me=True)\n",
    "\n",
    "\n",
    "R_secular = loadMat['p']['R'].item()\n",
    "R_secular = R_secular.toarray()\n",
    "H_ala = loadMat['p']['H'].item().toarray()"
   ]
  },
  {
   "cell_type": "code",
   "execution_count": 216,
   "metadata": {},
   "outputs": [
    {
     "data": {
      "text/plain": [
       "<matplotlib.colorbar.Colorbar at 0x13befb110>"
      ]
     },
     "execution_count": 216,
     "metadata": {},
     "output_type": "execute_result"
    },
    {
     "data": {
      "image/png": "[encoded data removed]",
      "text/plain": [
       "<Figure size 640x480 with 2 Axes>"
      ]
     },
     "metadata": {},
     "output_type": "display_data"
    }
   ],
   "source": [
    "plt.imshow(np.real(R_secular[0:16,0:16]), cmap='viridis', interpolation='nearest')\n",
    "# Add a color bar to sh-1j*ow the scale\n",
    "plt.colorbar()"
   ]
  },
  {
   "cell_type": "code",
   "execution_count": 215,
   "metadata": {},
   "outputs": [
    {
     "data": {
      "text/plain": [
       "<matplotlib.colorbar.Colorbar at 0x13ba13a50>"
      ]
     },
     "execution_count": 215,
     "metadata": {},
     "output_type": "execute_result"
    },
    {
     "data": {
      "image/png": "[encoded data removed]",
      "text/plain": [
       "<Figure size 640x480 with 2 Axes>"
      ]
     },
     "metadata": {},
     "output_type": "display_data"
    }
   ],
   "source": [
    "plt.imshow(np.real(R_secular[0:16,0:16]-R_ala_sec_an[0:16,0:16]), cmap='viridis', interpolation='nearest')\n",
    "# Add a color bar to sh-1j*ow the scale\n",
    "plt.colorbar()"
   ]
  },
  {
   "cell_type": "code",
   "execution_count": null,
   "metadata": {},
   "outputs": [],
   "source": []
  },
  {
   "cell_type": "code",
   "execution_count": 150,
   "metadata": {},
   "outputs": [],
   "source": [
    "savemat('R_ala_approx.mat',{'R_ala_App':R_ala_approx})"
   ]
  },
  {
   "cell_type": "code",
   "execution_count": 157,
   "metadata": {},
   "outputs": [],
   "source": [
    "data_ala = read_spinach_info(text4)\n",
    "\n",
    "basis_ala = build_list_ISTs(data_ala)\n",
    "prefacts,Symb_ALA_basis = build_symbolic_list_ISTs(data_ala)\n",
    "\n",
    "#Normbasis = NormalizeBasis(basis,n_qubits=4,checkOrth=True) I have verified the orthonormalization of the basis\n",
    "Normbasis_ala = NormalizeBasis(basis_ala,n_qubits=4,checkOrth=False)\n",
    "Normbasis_ala = np.array(Normbasis_ala)"
   ]
  },
  {
   "cell_type": "code",
   "execution_count": 152,
   "metadata": {},
   "outputs": [],
   "source": [
    "tc = 0.05e-9 # in seconds\n",
    "gammaH = 2.6752e8\n",
    "B0 =14.1\n",
    "Nspins = 4\n",
    "\n",
    "w1 = -600344544.5579\n",
    "w2 = -600343524.536\n",
    "w3 = -600343524.536\n",
    "w4 = -600343524.536\n",
    "\n",
    "freqs = np.array([w1,w2,w3,w4])\n",
    "\n",
    "coords = np.array([\n",
    "    [ 0.6861,0.2705,1.5010],\n",
    "    [1.3077, 1.1298, -1.3993],\n",
    "    [0.7905, 2.2125, -0.0860],\n",
    "    [ 2.3693, 1.3798, 0.0233]\n",
    "])\n",
    "\n",
    "coords = coords*1e-10\n",
    "\n",
    "#isotropic chemical shifts in ppm taken from the chemical shift tensors introduced in Spinach\n",
    "zeeman_scalar_1 = 3.4938\n",
    "zeeman_scalar_2 = 1.7947\n",
    "zeeman_scalar_3 = 1.7947\n",
    "zeeman_scalar_4 = 1.7947\n",
    "\n",
    "zeeman_scalars = [zeeman_scalar_1,zeeman_scalar_2,zeeman_scalar_3,zeeman_scalar_4]\n",
    "\n",
    "chem_shifts = get_chemical_shifts(gammaH,B0,zeeman_scalars)\n",
    "\n",
    "list_jumps, list_damp_rates, list_dets=Get_Det_And_Rates(2*np.pi*freqs,tc,coords,Nspins,gammaH,chem_shifts)\n"
   ]
  },
  {
   "cell_type": "code",
   "execution_count": 187,
   "metadata": {},
   "outputs": [
    {
     "data": {
      "text/plain": [
       "True"
      ]
     },
     "execution_count": 187,
     "metadata": {},
     "output_type": "execute_result"
    }
   ],
   "source": [
    "['S2zS3z','S1zS3z'] in list_jumps"
   ]
  },
  {
   "cell_type": "code",
   "execution_count": 173,
   "metadata": {},
   "outputs": [
    {
     "data": {
      "text/plain": [
       "0.08454708045960713"
      ]
     },
     "execution_count": 173,
     "metadata": {},
     "output_type": "execute_result"
    }
   ],
   "source": [
    "np.linalg.norm(np.diag(R_secular)-np.diag(R_ala_approx))"
   ]
  },
  {
   "cell_type": "code",
   "execution_count": 192,
   "metadata": {},
   "outputs": [
    {
     "data": {
      "text/plain": [
       "5.725972188480124"
      ]
     },
     "execution_count": 192,
     "metadata": {},
     "output_type": "execute_result"
    }
   ],
   "source": [
    "np.linalg.norm(R_refALAKite-R_ala_approx)"
   ]
  },
  {
   "cell_type": "code",
   "execution_count": 196,
   "metadata": {},
   "outputs": [
    {
     "data": {
      "text/plain": [
       "0.004718530513963509"
      ]
     },
     "execution_count": 196,
     "metadata": {},
     "output_type": "execute_result"
    }
   ],
   "source": [
    "np.sum(np.abs(np.diag(R_refALAKite)-np.diag(R_ala_approx)))/256"
   ]
  },
  {
   "cell_type": "code",
   "execution_count": 193,
   "metadata": {},
   "outputs": [
    {
     "data": {
      "text/plain": [
       "0.0845470808264419"
      ]
     },
     "execution_count": 193,
     "metadata": {},
     "output_type": "execute_result"
    }
   ],
   "source": [
    "np.linalg.norm(np.diag(R_refALAKite)-np.diag(R_ala_approx))"
   ]
  },
  {
   "cell_type": "code",
   "execution_count": 153,
   "metadata": {},
   "outputs": [],
   "source": [
    "###Filtering out the jump operators with an associated zero detuning, and construction of the relaxation matrix...\n",
    "#It is important to keep in mind that for the construction of the relaxation matrix, we need to add the hermitian conjugate of each channel\n",
    "filt_jump_ops = []\n",
    "filt_damp_rates = []\n",
    "for i in range(len(list_dets)):\n",
    "    if list_dets[i]==0:\n",
    "        filt_jump_ops.append(list_jumps[i])\n",
    "        filt_damp_rates.append(list_damp_rates[i])\n"
   ]
  },
  {
   "cell_type": "code",
   "execution_count": 172,
   "metadata": {},
   "outputs": [
    {
     "data": {
      "text/plain": [
       "[['S0+S1+', 'S0-S1-'],\n",
       " ['S0-S1-', 'S0+S1+'],\n",
       " ['S0zS1+', 'S0zS1-'],\n",
       " ['S0zS1-', 'S0zS1+'],\n",
       " ['S0+S1z', 'S0-S1z'],\n",
       " ['S0-S1z', 'S0+S1z'],\n",
       " ['S0zS1z', 'S0zS1z'],\n",
       " ['S0+S1-', 'S0-S1+'],\n",
       " ['S0-S1+', 'S0+S1-'],\n",
       " ['S0+S1+', 'S0-S2-'],\n",
       " ['S0-S2-', 'S0+S1+'],\n",
       " ['S0zS1+', 'S0zS2-'],\n",
       " ['S0zS2-', 'S0zS1+'],\n",
       " ['S0+S1z', 'S0-S2z'],\n",
       " ['S0-S2z', 'S0+S1z'],\n",
       " ['S0zS1z', 'S0zS2z'],\n",
       " ['S0+S1-', 'S0-S2+'],\n",
       " ['S0-S2+', 'S0+S1-'],\n",
       " ['S0+S1+', 'S0-S3-'],\n",
       " ['S0-S3-', 'S0+S1+'],\n",
       " ['S0zS1+', 'S0zS3-'],\n",
       " ['S0zS3-', 'S0zS1+'],\n",
       " ['S0+S1z', 'S0-S3z'],\n",
       " ['S0-S3z', 'S0+S1z'],\n",
       " ['S0zS1z', 'S0zS3z'],\n",
       " ['S0+S1-', 'S0-S3+'],\n",
       " ['S0-S3+', 'S0+S1-'],\n",
       " ['S0zS1+', 'S1zS2-'],\n",
       " ['S1zS2-', 'S0zS1+'],\n",
       " ['S0zS1+', 'S1-S2z'],\n",
       " ['S1-S2z', 'S0zS1+'],\n",
       " ['S0zS1z', 'S1zS2z'],\n",
       " ['S0zS1z', 'S1-S2+'],\n",
       " ['S1-S2+', 'S0zS1z'],\n",
       " ['S0zS1+', 'S1zS3-'],\n",
       " ['S1zS3-', 'S0zS1+'],\n",
       " ['S0zS1+', 'S1-S3z'],\n",
       " ['S1-S3z', 'S0zS1+'],\n",
       " ['S0zS1z', 'S1zS3z'],\n",
       " ['S0zS1z', 'S1-S3+'],\n",
       " ['S1-S3+', 'S0zS1z'],\n",
       " ['S0zS1+', 'S2zS3-'],\n",
       " ['S2zS3-', 'S0zS1+'],\n",
       " ['S0zS1+', 'S2-S3z'],\n",
       " ['S2-S3z', 'S0zS1+'],\n",
       " ['S0zS1z', 'S2zS3z'],\n",
       " ['S0zS1z', 'S2-S3+'],\n",
       " ['S2-S3+', 'S0zS1z'],\n",
       " ['S0+S2+', 'S0-S1-'],\n",
       " ['S0-S1-', 'S0+S2+'],\n",
       " ['S0zS2+', 'S0zS1-'],\n",
       " ['S0zS1-', 'S0zS2+'],\n",
       " ['S0+S2z', 'S0-S1z'],\n",
       " ['S0-S1z', 'S0+S2z'],\n",
       " ['S0zS2z', 'S0zS1z'],\n",
       " ['S0+S2-', 'S0-S1+'],\n",
       " ['S0-S1+', 'S0+S2-'],\n",
       " ['S0+S2+', 'S0-S2-'],\n",
       " ['S0-S2-', 'S0+S2+'],\n",
       " ['S0zS2+', 'S0zS2-'],\n",
       " ['S0zS2-', 'S0zS2+'],\n",
       " ['S0+S2z', 'S0-S2z'],\n",
       " ['S0-S2z', 'S0+S2z'],\n",
       " ['S0zS2z', 'S0zS2z'],\n",
       " ['S0+S2-', 'S0-S2+'],\n",
       " ['S0-S2+', 'S0+S2-'],\n",
       " ['S0+S2+', 'S0-S3-'],\n",
       " ['S0-S3-', 'S0+S2+'],\n",
       " ['S0zS2+', 'S0zS3-'],\n",
       " ['S0zS3-', 'S0zS2+'],\n",
       " ['S0+S2z', 'S0-S3z'],\n",
       " ['S0-S3z', 'S0+S2z'],\n",
       " ['S0zS2z', 'S0zS3z'],\n",
       " ['S0+S2-', 'S0-S3+'],\n",
       " ['S0-S3+', 'S0+S2-'],\n",
       " ['S0zS2+', 'S1zS2-'],\n",
       " ['S1zS2-', 'S0zS2+'],\n",
       " ['S0zS2+', 'S1-S2z'],\n",
       " ['S1-S2z', 'S0zS2+'],\n",
       " ['S0zS2z', 'S1zS2z'],\n",
       " ['S0zS2z', 'S1-S2+'],\n",
       " ['S1-S2+', 'S0zS2z'],\n",
       " ['S0zS2+', 'S1zS3-'],\n",
       " ['S1zS3-', 'S0zS2+'],\n",
       " ['S0zS2+', 'S1-S3z'],\n",
       " ['S1-S3z', 'S0zS2+'],\n",
       " ['S0zS2z', 'S1zS3z'],\n",
       " ['S0zS2z', 'S1-S3+'],\n",
       " ['S1-S3+', 'S0zS2z'],\n",
       " ['S0zS2+', 'S2zS3-'],\n",
       " ['S2zS3-', 'S0zS2+'],\n",
       " ['S0zS2+', 'S2-S3z'],\n",
       " ['S2-S3z', 'S0zS2+'],\n",
       " ['S0zS2z', 'S2zS3z'],\n",
       " ['S0zS2z', 'S2-S3+'],\n",
       " ['S2-S3+', 'S0zS2z'],\n",
       " ['S0+S3+', 'S0-S1-'],\n",
       " ['S0-S1-', 'S0+S3+'],\n",
       " ['S0zS3+', 'S0zS1-'],\n",
       " ['S0zS1-', 'S0zS3+'],\n",
       " ['S0+S3z', 'S0-S1z'],\n",
       " ['S0-S1z', 'S0+S3z'],\n",
       " ['S0zS3z', 'S0zS1z'],\n",
       " ['S0+S3-', 'S0-S1+'],\n",
       " ['S0-S1+', 'S0+S3-'],\n",
       " ['S0+S3+', 'S0-S2-'],\n",
       " ['S0-S2-', 'S0+S3+'],\n",
       " ['S0zS3+', 'S0zS2-'],\n",
       " ['S0zS2-', 'S0zS3+'],\n",
       " ['S0+S3z', 'S0-S2z'],\n",
       " ['S0-S2z', 'S0+S3z'],\n",
       " ['S0zS3z', 'S0zS2z'],\n",
       " ['S0+S3-', 'S0-S2+'],\n",
       " ['S0-S2+', 'S0+S3-'],\n",
       " ['S0+S3+', 'S0-S3-'],\n",
       " ['S0-S3-', 'S0+S3+'],\n",
       " ['S0zS3+', 'S0zS3-'],\n",
       " ['S0zS3-', 'S0zS3+'],\n",
       " ['S0+S3z', 'S0-S3z'],\n",
       " ['S0-S3z', 'S0+S3z'],\n",
       " ['S0zS3z', 'S0zS3z'],\n",
       " ['S0+S3-', 'S0-S3+'],\n",
       " ['S0-S3+', 'S0+S3-'],\n",
       " ['S0zS3+', 'S1zS2-'],\n",
       " ['S1zS2-', 'S0zS3+'],\n",
       " ['S0zS3+', 'S1-S2z'],\n",
       " ['S1-S2z', 'S0zS3+'],\n",
       " ['S0zS3z', 'S1zS2z'],\n",
       " ['S0zS3z', 'S1-S2+'],\n",
       " ['S1-S2+', 'S0zS3z'],\n",
       " ['S0zS3+', 'S1zS3-'],\n",
       " ['S1zS3-', 'S0zS3+'],\n",
       " ['S0zS3+', 'S1-S3z'],\n",
       " ['S1-S3z', 'S0zS3+'],\n",
       " ['S0zS3z', 'S1zS3z'],\n",
       " ['S0zS3z', 'S1-S3+'],\n",
       " ['S1-S3+', 'S0zS3z'],\n",
       " ['S0zS3+', 'S2zS3-'],\n",
       " ['S2zS3-', 'S0zS3+'],\n",
       " ['S0zS3+', 'S2-S3z'],\n",
       " ['S2-S3z', 'S0zS3+'],\n",
       " ['S0zS3z', 'S2zS3z'],\n",
       " ['S0zS3z', 'S2-S3+'],\n",
       " ['S2-S3+', 'S0zS3z'],\n",
       " ['S1zS2+', 'S0zS1-'],\n",
       " ['S0zS1-', 'S1zS2+'],\n",
       " ['S1+S2z', 'S0zS1-'],\n",
       " ['S0zS1-', 'S1+S2z'],\n",
       " ['S1zS2z', 'S0zS1z'],\n",
       " ['S1+S2-', 'S0zS1z'],\n",
       " ['S0zS1z', 'S1+S2-'],\n",
       " ['S1zS2+', 'S0zS2-'],\n",
       " ['S0zS2-', 'S1zS2+'],\n",
       " ['S1+S2z', 'S0zS2-'],\n",
       " ['S0zS2-', 'S1+S2z'],\n",
       " ['S1zS2z', 'S0zS2z'],\n",
       " ['S1+S2-', 'S0zS2z'],\n",
       " ['S0zS2z', 'S1+S2-'],\n",
       " ['S1zS2+', 'S0zS3-'],\n",
       " ['S0zS3-', 'S1zS2+'],\n",
       " ['S1+S2z', 'S0zS3-'],\n",
       " ['S0zS3-', 'S1+S2z'],\n",
       " ['S1zS2z', 'S0zS3z'],\n",
       " ['S1+S2-', 'S0zS3z'],\n",
       " ['S0zS3z', 'S1+S2-'],\n",
       " ['S1+S2+', 'S1-S2-'],\n",
       " ['S1-S2-', 'S1+S2+'],\n",
       " ['S1zS2+', 'S1zS2-'],\n",
       " ['S1zS2-', 'S1zS2+'],\n",
       " ['S1+S2z', 'S1zS2-'],\n",
       " ['S1zS2-', 'S1+S2z'],\n",
       " ['S1+S2z', 'S1-S2z'],\n",
       " ['S1-S2z', 'S1+S2z'],\n",
       " ['S1zS2+', 'S1-S2z'],\n",
       " ['S1-S2z', 'S1zS2+'],\n",
       " ['S1zS2z', 'S1zS2z'],\n",
       " ['S1+S2-', 'S1zS2z'],\n",
       " ['S1zS2z', 'S1+S2-'],\n",
       " ['S1zS2z', 'S1-S2+'],\n",
       " ['S1-S2+', 'S1zS2z'],\n",
       " ['S1+S2-', 'S1-S2+'],\n",
       " ['S1-S2+', 'S1+S2-'],\n",
       " ['S1-S2+', 'S1-S2+'],\n",
       " ['S1-S2+', 'S1-S2+'],\n",
       " ['S1+S2+', 'S1-S3-'],\n",
       " ['S1-S3-', 'S1+S2+'],\n",
       " ['S1zS2+', 'S1zS3-'],\n",
       " ['S1zS3-', 'S1zS2+'],\n",
       " ['S1+S2z', 'S1zS3-'],\n",
       " ['S1zS3-', 'S1+S2z'],\n",
       " ['S1+S2z', 'S1-S3z'],\n",
       " ['S1-S3z', 'S1+S2z'],\n",
       " ['S1zS2+', 'S1-S3z'],\n",
       " ['S1-S3z', 'S1zS2+'],\n",
       " ['S1zS2z', 'S1zS3z'],\n",
       " ['S1+S2-', 'S1zS3z'],\n",
       " ['S1zS3z', 'S1+S2-'],\n",
       " ['S1zS2z', 'S1-S3+'],\n",
       " ['S1-S3+', 'S1zS2z'],\n",
       " ['S1+S2-', 'S1-S3+'],\n",
       " ['S1-S3+', 'S1+S2-'],\n",
       " ['S1-S2+', 'S1-S3+'],\n",
       " ['S1-S3+', 'S1-S2+'],\n",
       " ['S1+S2+', 'S2-S3-'],\n",
       " ['S2-S3-', 'S1+S2+'],\n",
       " ['S1zS2+', 'S2zS3-'],\n",
       " ['S2zS3-', 'S1zS2+'],\n",
       " ['S1+S2z', 'S2zS3-'],\n",
       " ['S2zS3-', 'S1+S2z'],\n",
       " ['S1+S2z', 'S2-S3z'],\n",
       " ['S2-S3z', 'S1+S2z'],\n",
       " ['S1zS2+', 'S2-S3z'],\n",
       " ['S2-S3z', 'S1zS2+'],\n",
       " ['S1zS2z', 'S2zS3z'],\n",
       " ['S1+S2-', 'S2zS3z'],\n",
       " ['S2zS3z', 'S1+S2-'],\n",
       " ['S1zS2z', 'S2-S3+'],\n",
       " ['S2-S3+', 'S1zS2z'],\n",
       " ['S1+S2-', 'S2-S3+'],\n",
       " ['S2-S3+', 'S1+S2-'],\n",
       " ['S1-S2+', 'S2-S3+'],\n",
       " ['S2-S3+', 'S1-S2+'],\n",
       " ['S1zS3+', 'S0zS1-'],\n",
       " ['S0zS1-', 'S1zS3+'],\n",
       " ['S1+S3z', 'S0zS1-'],\n",
       " ['S0zS1-', 'S1+S3z'],\n",
       " ['S1zS3z', 'S0zS1z'],\n",
       " ['S1+S3-', 'S0zS1z'],\n",
       " ['S0zS1z', 'S1+S3-'],\n",
       " ['S1zS3+', 'S0zS2-'],\n",
       " ['S0zS2-', 'S1zS3+'],\n",
       " ['S1+S3z', 'S0zS2-'],\n",
       " ['S0zS2-', 'S1+S3z'],\n",
       " ['S1zS3z', 'S0zS2z'],\n",
       " ['S1+S3-', 'S0zS2z'],\n",
       " ['S0zS2z', 'S1+S3-'],\n",
       " ['S1zS3+', 'S0zS3-'],\n",
       " ['S0zS3-', 'S1zS3+'],\n",
       " ['S1+S3z', 'S0zS3-'],\n",
       " ['S0zS3-', 'S1+S3z'],\n",
       " ['S1zS3z', 'S0zS3z'],\n",
       " ['S1+S3-', 'S0zS3z'],\n",
       " ['S0zS3z', 'S1+S3-'],\n",
       " ['S1+S3+', 'S1-S2-'],\n",
       " ['S1-S2-', 'S1+S3+'],\n",
       " ['S1zS3+', 'S1zS2-'],\n",
       " ['S1zS2-', 'S1zS3+'],\n",
       " ['S1+S3z', 'S1zS2-'],\n",
       " ['S1zS2-', 'S1+S3z'],\n",
       " ['S1+S3z', 'S1-S2z'],\n",
       " ['S1-S2z', 'S1+S3z'],\n",
       " ['S1zS3+', 'S1-S2z'],\n",
       " ['S1-S2z', 'S1zS3+'],\n",
       " ['S1zS3z', 'S1zS2z'],\n",
       " ['S1+S3-', 'S1zS2z'],\n",
       " ['S1zS2z', 'S1+S3-'],\n",
       " ['S1zS3z', 'S1-S2+'],\n",
       " ['S1-S2+', 'S1zS3z'],\n",
       " ['S1+S3-', 'S1-S2+'],\n",
       " ['S1-S2+', 'S1+S3-'],\n",
       " ['S1-S3+', 'S1-S2+'],\n",
       " ['S1-S2+', 'S1-S3+'],\n",
       " ['S1+S3+', 'S1-S3-'],\n",
       " ['S1-S3-', 'S1+S3+'],\n",
       " ['S1zS3+', 'S1zS3-'],\n",
       " ['S1zS3-', 'S1zS3+'],\n",
       " ['S1+S3z', 'S1zS3-'],\n",
       " ['S1zS3-', 'S1+S3z'],\n",
       " ['S1+S3z', 'S1-S3z'],\n",
       " ['S1-S3z', 'S1+S3z'],\n",
       " ['S1zS3+', 'S1-S3z'],\n",
       " ['S1-S3z', 'S1zS3+'],\n",
       " ['S1zS3z', 'S1zS3z'],\n",
       " ['S1+S3-', 'S1zS3z'],\n",
       " ['S1zS3z', 'S1+S3-'],\n",
       " ['S1zS3z', 'S1-S3+'],\n",
       " ['S1-S3+', 'S1zS3z'],\n",
       " ['S1+S3-', 'S1-S3+'],\n",
       " ['S1-S3+', 'S1+S3-'],\n",
       " ['S1-S3+', 'S1-S3+'],\n",
       " ['S1-S3+', 'S1-S3+'],\n",
       " ['S1+S3+', 'S2-S3-'],\n",
       " ['S2-S3-', 'S1+S3+'],\n",
       " ['S1zS3+', 'S2zS3-'],\n",
       " ['S2zS3-', 'S1zS3+'],\n",
       " ['S1+S3z', 'S2zS3-'],\n",
       " ['S2zS3-', 'S1+S3z'],\n",
       " ['S1+S3z', 'S2-S3z'],\n",
       " ['S2-S3z', 'S1+S3z'],\n",
       " ['S1zS3+', 'S2-S3z'],\n",
       " ['S2-S3z', 'S1zS3+'],\n",
       " ['S1zS3z', 'S2zS3z'],\n",
       " ['S1+S3-', 'S2zS3z'],\n",
       " ['S2zS3z', 'S1+S3-'],\n",
       " ['S1zS3z', 'S2-S3+'],\n",
       " ['S2-S3+', 'S1zS3z'],\n",
       " ['S1+S3-', 'S2-S3+'],\n",
       " ['S2-S3+', 'S1+S3-'],\n",
       " ['S1-S3+', 'S2-S3+'],\n",
       " ['S2-S3+', 'S1-S3+'],\n",
       " ['S2zS3+', 'S0zS1-'],\n",
       " ['S0zS1-', 'S2zS3+'],\n",
       " ['S2+S3z', 'S0zS1-'],\n",
       " ['S0zS1-', 'S2+S3z'],\n",
       " ['S2zS3z', 'S0zS1z'],\n",
       " ['S2+S3-', 'S0zS1z'],\n",
       " ['S0zS1z', 'S2+S3-'],\n",
       " ['S2zS3+', 'S0zS2-'],\n",
       " ['S0zS2-', 'S2zS3+'],\n",
       " ['S2+S3z', 'S0zS2-'],\n",
       " ['S0zS2-', 'S2+S3z'],\n",
       " ['S2zS3z', 'S0zS2z'],\n",
       " ['S2+S3-', 'S0zS2z'],\n",
       " ['S0zS2z', 'S2+S3-'],\n",
       " ['S2zS3+', 'S0zS3-'],\n",
       " ['S0zS3-', 'S2zS3+'],\n",
       " ['S2+S3z', 'S0zS3-'],\n",
       " ['S0zS3-', 'S2+S3z'],\n",
       " ['S2zS3z', 'S0zS3z'],\n",
       " ['S2+S3-', 'S0zS3z'],\n",
       " ['S0zS3z', 'S2+S3-'],\n",
       " ['S2+S3+', 'S1-S2-'],\n",
       " ['S1-S2-', 'S2+S3+'],\n",
       " ['S2zS3+', 'S1zS2-'],\n",
       " ['S1zS2-', 'S2zS3+'],\n",
       " ['S2+S3z', 'S1zS2-'],\n",
       " ['S1zS2-', 'S2+S3z'],\n",
       " ['S2+S3z', 'S1-S2z'],\n",
       " ['S1-S2z', 'S2+S3z'],\n",
       " ['S2zS3+', 'S1-S2z'],\n",
       " ['S1-S2z', 'S2zS3+'],\n",
       " ['S2zS3z', 'S1zS2z'],\n",
       " ['S2+S3-', 'S1zS2z'],\n",
       " ['S1zS2z', 'S2+S3-'],\n",
       " ['S2zS3z', 'S1-S2+'],\n",
       " ['S1-S2+', 'S2zS3z'],\n",
       " ['S2+S3-', 'S1-S2+'],\n",
       " ['S1-S2+', 'S2+S3-'],\n",
       " ['S2-S3+', 'S1-S2+'],\n",
       " ['S1-S2+', 'S2-S3+'],\n",
       " ['S2+S3+', 'S1-S3-'],\n",
       " ['S1-S3-', 'S2+S3+'],\n",
       " ['S2zS3+', 'S1zS3-'],\n",
       " ['S1zS3-', 'S2zS3+'],\n",
       " ['S2+S3z', 'S1zS3-'],\n",
       " ['S1zS3-', 'S2+S3z'],\n",
       " ['S2+S3z', 'S1-S3z'],\n",
       " ['S1-S3z', 'S2+S3z'],\n",
       " ['S2zS3+', 'S1-S3z'],\n",
       " ['S1-S3z', 'S2zS3+'],\n",
       " ['S2zS3z', 'S1zS3z'],\n",
       " ['S2+S3-', 'S1zS3z'],\n",
       " ['S1zS3z', 'S2+S3-'],\n",
       " ['S2zS3z', 'S1-S3+'],\n",
       " ['S1-S3+', 'S2zS3z'],\n",
       " ['S2+S3-', 'S1-S3+'],\n",
       " ['S1-S3+', 'S2+S3-'],\n",
       " ['S2-S3+', 'S1-S3+'],\n",
       " ['S1-S3+', 'S2-S3+'],\n",
       " ['S2+S3+', 'S2-S3-'],\n",
       " ['S2-S3-', 'S2+S3+'],\n",
       " ['S2zS3+', 'S2zS3-'],\n",
       " ['S2zS3-', 'S2zS3+'],\n",
       " ['S2+S3z', 'S2zS3-'],\n",
       " ['S2zS3-', 'S2+S3z'],\n",
       " ['S2+S3z', 'S2-S3z'],\n",
       " ['S2-S3z', 'S2+S3z'],\n",
       " ['S2zS3+', 'S2-S3z'],\n",
       " ['S2-S3z', 'S2zS3+'],\n",
       " ['S2zS3z', 'S2zS3z'],\n",
       " ['S2+S3-', 'S2zS3z'],\n",
       " ['S2zS3z', 'S2+S3-'],\n",
       " ['S2zS3z', 'S2-S3+'],\n",
       " ['S2-S3+', 'S2zS3z'],\n",
       " ['S2+S3-', 'S2-S3+'],\n",
       " ['S2-S3+', 'S2+S3-'],\n",
       " ['S2-S3+', 'S2-S3+'],\n",
       " ['S2-S3+', 'S2-S3+']]"
      ]
     },
     "execution_count": 172,
     "metadata": {},
     "output_type": "execute_result"
    }
   ],
   "source": [
    "filt_jump_ops"
   ]
  },
  {
   "cell_type": "code",
   "execution_count": null,
   "metadata": {},
   "outputs": [],
   "source": [
    "#TODO: verify the quality of matching between the Kite-approximated spectrum and the secular and see what the biggest differences between "
   ]
  },
  {
   "cell_type": "code",
   "execution_count": 159,
   "metadata": {},
   "outputs": [],
   "source": [
    "test_rel_ala =RelMat_from_ops_and_rates(filt_jump_ops,filt_damp_rates,Normbasis_ala[0:8],Nspins)\n"
   ]
  },
  {
   "cell_type": "code",
   "execution_count": 171,
   "metadata": {},
   "outputs": [
    {
     "data": {
      "text/plain": [
       "0.002879236925879157"
      ]
     },
     "execution_count": 171,
     "metadata": {},
     "output_type": "execute_result"
    }
   ],
   "source": [
    "np.linalg.norm(np.diag(R_secular[0:8,0:8])-np.diag(test_rel_ala))"
   ]
  },
  {
   "cell_type": "code",
   "execution_count": 167,
   "metadata": {},
   "outputs": [
    {
     "data": {
      "text/plain": [
       "('     S+2  ', '       S+3')"
      ]
     },
     "execution_count": 167,
     "metadata": {},
     "output_type": "execute_result"
    }
   ],
   "source": [
    "Symb_ALA_basis[4], Symb_ALA_basis[1]"
   ]
  },
  {
   "cell_type": "code",
   "execution_count": 144,
   "metadata": {},
   "outputs": [],
   "source": [
    "#There are a few channels that we did not include in the computation of the relaxation matrix, because we filtered out channels oscillating exactly at zero, whereas numerically we have\n",
    "#channels oscillating at frequencies very close to zero, that were filtered out.\n",
    "\n",
    "#We identify the jump operators that should be included....\n",
    "add_jump_ops = []\n",
    "add_damp_rates = []\n",
    "for i in range(len(list_jumps)):\n",
    "    if np.abs(list_dets[i])>0.0 and np.abs(list_dets[i])<1e-6:\n",
    "        add_jump_ops.append(list_jumps[i])\n",
    "        add_damp_rates.append(list_damp_rates[i])\n",
    "\n"
   ]
  },
  {
   "cell_type": "code",
   "execution_count": 200,
   "metadata": {},
   "outputs": [],
   "source": [
    "###Compute the correction to the relaxation matrix....\n",
    "\n",
    "#correction_R_ala = RelMat_from_ops_and_rates(add_jump_ops,add_damp_rates,Normbasis_ala,Nspins)\n"
   ]
  },
  {
   "cell_type": "code",
   "execution_count": 127,
   "metadata": {},
   "outputs": [
    {
     "name": "stdout",
     "output_type": "stream",
     "text": [
      "             Jump Ops  Damp Rates (rad/s)  Detunings (rad/s)\n",
      "0    [S0+S1+, S0-S1-]            0.008624           0.000000\n",
      "1    [S0-S1-, S0+S1+]            0.008624           0.000000\n",
      "2    [S0zS1+, S0zS1-]            0.009513           0.000000\n",
      "3    [S0zS1-, S0zS1+]            0.009513           0.000000\n",
      "4    [S0+S1z, S0zS1-]            0.009513        6409.059571\n",
      "..                ...                 ...                ...\n",
      "679  [S2-S3+, S2zS3z]            0.174166           0.000000\n",
      "680  [S2+S3-, S2-S3+]            0.043542           0.000000\n",
      "681  [S2-S3+, S2+S3-]            0.043542           0.000000\n",
      "682  [S2-S3+, S2-S3+]            0.043542           0.000000\n",
      "683  [S2-S3+, S2-S3+]            0.043542           0.000000\n",
      "\n",
      "[684 rows x 3 columns]\n"
     ]
    }
   ],
   "source": [
    "# Create the DataFrame\n",
    "df = pd.DataFrame({\n",
    "    'Jump Ops': list_jumps,\n",
    "    'Damp Rates (rad/s)': list_damp_rates,\n",
    "    'Detunings (rad/s)': list_dets\n",
    "})\n",
    "\n",
    "# Display the DataFrame\n",
    "print(df)"
   ]
  },
  {
   "cell_type": "code",
   "execution_count": 6,
   "metadata": {},
   "outputs": [
    {
     "data": {
      "text/plain": [
       "True"
      ]
     },
     "execution_count": 6,
     "metadata": {},
     "output_type": "execute_result"
    }
   ],
   "source": [
    "list_dets[0]==0.0"
   ]
  },
  {
   "cell_type": "code",
   "execution_count": 128,
   "metadata": {},
   "outputs": [],
   "source": [
    "###Filtering out the jump operators with an associated zero detuning, and construction of the relaxation matrix...\n",
    "#It is important to keep in mind that for the construction of the relaxation matrix, we need to add the hermitian conjugate of each channel\n",
    "filt_jump_ops = []\n",
    "filt_damp_rates = []\n",
    "for i in range(len(list_dets)):\n",
    "    if list_dets[i]==0:\n",
    "        filt_jump_ops.append(list_jumps[i])\n",
    "        filt_damp_rates.append(list_damp_rates[i])\n",
    "\n"
   ]
  },
  {
   "cell_type": "code",
   "execution_count": 217,
   "metadata": {},
   "outputs": [],
   "source": [
    "loadMat = spio.loadmat('./data/NOESYdata_ALA_withGradients.mat',squeeze_me=True)\n",
    "\n",
    "t_grid1 = loadMat['p']['time_grid1'].item()\n",
    "t_grid2 = loadMat['p']['time_grid2'].item()\n",
    "\n",
    "R_secular = loadMat['p']['R'].item()\n",
    "H_ala = loadMat['p']['H'].item().toarray()\n",
    "\n",
    "rho0 = np.array(loadMat['p']['rho0'].item().toarray())\n",
    "\n",
    "coil = np.array(loadMat['p']['coil'].item())\n",
    "\n",
    "Lx = loadMat['p']['Lx'].item().toarray() \n",
    "Ly = loadMat['p']['Ly'].item().toarray() \n",
    "\n",
    "###Dynamical evolution for calculation of 2D spectra...\n",
    "Tpts1 = len(t_grid1)\n",
    "Tpts2 = len(t_grid2)\n",
    "\n",
    "\n",
    "\n",
    "#Parameters taken from Spinach script\n",
    "tmix = 1.0\n",
    "dt1 = 0.25e-3\n",
    "dt2 = 0.25e-3\n",
    "\n",
    "##Parameters for Fourier transform\n",
    "zerofill1 = 4096\n",
    "zerofill2 = 4096\n",
    "\n",
    "\n",
    "#Calculation of the NOESY spectra using the reference relaxation matrix and the Kite and the jump-operator-truncated approach\n",
    "\n",
    "Ref_spec = GenNOESYSpectrum(H_ala,R_secular,Tpts1,Tpts2,rho0,coil,tmix,dt1,dt2,zerofill1,zerofill2,Lx,Ly)\n",
    "\n",
    "Approx_spec = GenNOESYSpectrum(H_ala,R_ala_approx,Tpts1,Tpts2,rho0,coil,tmix,dt1,dt2,zerofill1,zerofill2,Lx,Ly)\n",
    "\n",
    "Kite_spec = GenNOESYSpectrum(H_ala,R_refALAKite,Tpts1,Tpts2,rho0,coil,tmix,dt1,dt2,zerofill1,zerofill2,Lx,Ly)\n",
    "\n",
    "Sec_An_spec = GenNOESYSpectrum(H_ala,R_ala_sec_an,Tpts1,Tpts2,rho0,coil,tmix,dt1,dt2,zerofill1,zerofill2,Lx,Ly)\n"
   ]
  },
  {
   "cell_type": "code",
   "execution_count": 218,
   "metadata": {},
   "outputs": [
    {
     "data": {
      "text/plain": [
       "0.04496905575512669"
      ]
     },
     "execution_count": 218,
     "metadata": {},
     "output_type": "execute_result"
    }
   ],
   "source": [
    "Hellinger_2D(Ref_spec,Approx_spec,Tpts1,Tpts2,dt1,dt2)"
   ]
  },
  {
   "cell_type": "code",
   "execution_count": 219,
   "metadata": {},
   "outputs": [
    {
     "data": {
      "text/plain": [
       "0.013655490732371116"
      ]
     },
     "execution_count": 219,
     "metadata": {},
     "output_type": "execute_result"
    }
   ],
   "source": [
    "Hellinger_2D(Ref_spec,Sec_An_spec,Tpts1,Tpts2,dt1,dt2)"
   ]
  },
  {
   "cell_type": "code",
   "execution_count": 221,
   "metadata": {},
   "outputs": [
    {
     "data": {
      "text/plain": [
       "0.03477831795384649"
      ]
     },
     "execution_count": 221,
     "metadata": {},
     "output_type": "execute_result"
    }
   ],
   "source": [
    "Hellinger_2D(Ref_spec,Kite_spec,Tpts1,Tpts2,dt1,dt2)\n"
   ]
  },
  {
   "cell_type": "code",
   "execution_count": 227,
   "metadata": {},
   "outputs": [
    {
     "data": {
      "text/plain": [
       "1.4283037672658028"
      ]
     },
     "execution_count": 227,
     "metadata": {},
     "output_type": "execute_result"
    }
   ],
   "source": [
    "np.linalg.norm(np.diag(R_ala_approx)-np.diag(R_ala_sec_an))"
   ]
  },
  {
   "cell_type": "code",
   "execution_count": 229,
   "metadata": {},
   "outputs": [
    {
     "data": {
      "text/plain": [
       "3.8369300805827757"
      ]
     },
     "execution_count": 229,
     "metadata": {},
     "output_type": "execute_result"
    }
   ],
   "source": [
    "np.linalg.norm(R_secular-R_ala_sec_an)"
   ]
  },
  {
   "cell_type": "code",
   "execution_count": 235,
   "metadata": {},
   "outputs": [],
   "source": [
    "####We need to take a closer look to the Hamiltonian parameters...\n",
    "from simulation_utils import GenH0_Ham, HamMatRep\n",
    "\n",
    "offset = 1500\n",
    "\n",
    "Jcoups = np.array([[0.0, 3.822, 3.822, 3.822],\n",
    "[3.822,0.0,-6.9992,-6.992],\n",
    "[3.822,-6.9992,0.0,-6.9992],\n",
    "[3.822,-6.999,-6.9992,0.0]])\n",
    "\n",
    "An_Ham_ALA = GenH0_Ham(offset,B0,zeeman_scalars,Jcoups,gammaH)\n",
    "\n",
    "#An_Ham_paulibas = HamMatRep(An_Ham_ALA,Normbasis_ala,n_qubits=4)"
   ]
  },
  {
   "cell_type": "code",
   "execution_count": 308,
   "metadata": {},
   "outputs": [],
   "source": [
    "#To verify our physical intuition, lets consider how the initial state evolves in time, and whether there is a significant change when approximating the relaxation matrix...\n",
    "#ala_sec_vals,ala_sec_vecs = np.linalg.eig(H_ala+ R_secular)\n",
    "\n",
    "#using tmix as a relevant time scale....\n",
    "\n",
    "#Initrho = expm(-1j*Lx*np.pi/2)@rho0.flatten()\n",
    "Initrho = rho0.flatten()\n",
    "\n",
    "t=10/3.822\n",
    "fin_vec_sec = expm(-1j*(H_ala+R_secular)*t)@Initrho\n",
    "fin_vec_sec_an =  expm(-1j*(H_ala+R_ala_sec_an)*t)@Initrho\n",
    "fin_vec_approx = expm(-1j*(H_ala+R_ala_approx)*t)@Initrho\n",
    "\n"
   ]
  },
  {
   "cell_type": "code",
   "execution_count": 309,
   "metadata": {},
   "outputs": [
    {
     "data": {
      "text/plain": [
       "(0.3167432610833638, 0.21003783871406959)"
      ]
     },
     "execution_count": 309,
     "metadata": {},
     "output_type": "execute_result"
    }
   ],
   "source": [
    "np.linalg.norm(fin_vec_sec-fin_vec_sec_an), np.linalg.norm(fin_vec_sec-fin_vec_approx)#, np.linalg.norm(fin_vec_sec_an-fin_vec_approx)"
   ]
  },
  {
   "cell_type": "code",
   "execution_count": null,
   "metadata": {},
   "outputs": [],
   "source": [
    "#TODO: run spectra generation using a different initial state to prove the hypothesis that results are highly sensitive to the initial state?"
   ]
  },
  {
   "cell_type": "code",
   "execution_count": 290,
   "metadata": {},
   "outputs": [
    {
     "data": {
      "text/plain": [
       "array([0.00000000e+00, 0.00000000e+00, 6.25142306e-04, 0.00000000e+00,\n",
       "       0.00000000e+00, 1.76692104e-27, 0.00000000e+00, 4.06890669e-03,\n",
       "       1.85284913e-03, 0.00000000e+00, 8.36012417e-03, 0.00000000e+00,\n",
       "       0.00000000e+00, 4.09146083e-03, 0.00000000e+00, 5.51750174e-27,\n",
       "       0.00000000e+00, 9.92680060e-28, 0.00000000e+00, 4.10763791e-03,\n",
       "       6.77150417e-27, 0.00000000e+00, 1.80303478e-25, 0.00000000e+00,\n",
       "       0.00000000e+00, 2.03179080e-25, 0.00000000e+00, 7.20171000e-03,\n",
       "       4.12978714e-03, 0.00000000e+00, 8.95507860e-03, 0.00000000e+00,\n",
       "       1.94124854e-03, 0.00000000e+00, 8.31008294e-03, 0.00000000e+00,\n",
       "       0.00000000e+00, 1.98871588e-25, 0.00000000e+00, 1.05395138e-02,\n",
       "       8.30136056e-03, 0.00000000e+00, 6.30721077e-03, 0.00000000e+00,\n",
       "       0.00000000e+00, 1.05288851e-02, 0.00000000e+00, 1.93547833e-25,\n",
       "       0.00000000e+00, 4.16020569e-03, 0.00000000e+00, 3.28969066e-27,\n",
       "       4.15558813e-03, 0.00000000e+00, 8.96275788e-03, 0.00000000e+00,\n",
       "       0.00000000e+00, 7.20244731e-03, 0.00000000e+00, 2.06338328e-25,\n",
       "       2.77140252e-27, 0.00000000e+00, 1.84360836e-25, 0.00000000e+00,\n",
       "       0.00000000e+00, 5.92401328e-24, 0.00000000e+00, 1.09886349e-04,\n",
       "       4.01811463e-24, 0.00000000e+00, 4.38724536e-25, 0.00000000e+00,\n",
       "       0.00000000e+00, 2.80620713e-25, 0.00000000e+00, 4.85625402e-05,\n",
       "       1.13387975e-04, 0.00000000e+00, 4.89823216e-05, 0.00000000e+00,\n",
       "       1.77179408e-24, 0.00000000e+00, 2.27868785e-25, 0.00000000e+00,\n",
       "       0.00000000e+00, 5.24993180e-24, 0.00000000e+00, 2.23211851e-23,\n",
       "       4.71742140e-25, 0.00000000e+00, 7.60185260e-24, 0.00000000e+00,\n",
       "       0.00000000e+00, 2.67383534e-23, 0.00000000e+00, 1.55864178e-04,\n",
       "       0.00000000e+00, 2.25664534e-25, 0.00000000e+00, 5.46278667e-05,\n",
       "       9.99141935e-25, 0.00000000e+00, 8.05348111e-24, 0.00000000e+00,\n",
       "       0.00000000e+00, 8.60118212e-24, 0.00000000e+00, 6.58648753e-05,\n",
       "       5.49451654e-05, 0.00000000e+00, 7.04743752e-05, 0.00000000e+00,\n",
       "       1.02535757e-04, 0.00000000e+00, 5.21697728e-05, 0.00000000e+00,\n",
       "       0.00000000e+00, 2.55566666e-23, 0.00000000e+00, 1.70176921e-04,\n",
       "       5.27470265e-05, 0.00000000e+00, 5.09897405e-05, 0.00000000e+00,\n",
       "       0.00000000e+00, 1.65811494e-04, 0.00000000e+00, 2.09529581e-24,\n",
       "       1.99585306e-03, 0.00000000e+00, 1.09853048e-03, 0.00000000e+00,\n",
       "       0.00000000e+00, 8.06268495e-26, 0.00000000e+00, 1.51024375e-02,\n",
       "       6.52593405e-04, 0.00000000e+00, 1.51537743e-03, 0.00000000e+00,\n",
       "       0.00000000e+00, 1.51311355e-02, 0.00000000e+00, 7.46425840e-26,\n",
       "       0.00000000e+00, 9.51459208e-26, 0.00000000e+00, 1.49702526e-02,\n",
       "       8.42274791e-26, 0.00000000e+00, 2.72606765e-27, 0.00000000e+00,\n",
       "       0.00000000e+00, 8.37404739e-28, 0.00000000e+00, 1.36124064e-03,\n",
       "       1.42469108e-02, 0.00000000e+00, 2.46787727e-03, 0.00000000e+00,\n",
       "       1.06789733e-03, 0.00000000e+00, 9.70068612e-04, 0.00000000e+00,\n",
       "       0.00000000e+00, 2.61198948e-27, 0.00000000e+00, 9.45965018e-04,\n",
       "       1.21733209e-03, 0.00000000e+00, 3.89955813e-03, 0.00000000e+00,\n",
       "       0.00000000e+00, 9.41205340e-04, 0.00000000e+00, 2.87013077e-27,\n",
       "       0.00000000e+00, 1.50227110e-02, 0.00000000e+00, 9.82953621e-26,\n",
       "       1.42740031e-02, 0.00000000e+00, 2.44915743e-03, 0.00000000e+00,\n",
       "       0.00000000e+00, 1.34005233e-03, 0.00000000e+00, 2.42343313e-27,\n",
       "       8.83241267e-26, 0.00000000e+00, 3.47636633e-27, 0.00000000e+00,\n",
       "       0.00000000e+00, 1.08042281e-04, 0.00000000e+00, 5.97432311e-24,\n",
       "       1.11787448e-04, 0.00000000e+00, 4.17980185e-05, 0.00000000e+00,\n",
       "       0.00000000e+00, 4.19691465e-05, 0.00000000e+00, 3.87157458e-25,\n",
       "       4.07276694e-24, 0.00000000e+00, 7.76751945e-25, 0.00000000e+00,\n",
       "       9.32662930e-05, 0.00000000e+00, 5.30229247e-05, 0.00000000e+00,\n",
       "       0.00000000e+00, 1.99337255e-24, 0.00000000e+00, 1.65324385e-04,\n",
       "       5.27147264e-05, 0.00000000e+00, 5.97154742e-05, 0.00000000e+00,\n",
       "       0.00000000e+00, 1.69806999e-04, 0.00000000e+00, 2.42002623e-23,\n",
       "       0.00000000e+00, 4.56727036e-05, 0.00000000e+00, 2.16417691e-25,\n",
       "       4.58839862e-05, 0.00000000e+00, 7.05439480e-05, 0.00000000e+00,\n",
       "       0.00000000e+00, 6.61337146e-05, 0.00000000e+00, 8.67527229e-24,\n",
       "       4.95681887e-25, 0.00000000e+00, 8.06992255e-24, 0.00000000e+00,\n",
       "       1.66634846e-24, 0.00000000e+00, 3.79010439e-25, 0.00000000e+00,\n",
       "       0.00000000e+00, 1.55760785e-04, 0.00000000e+00, 2.73006257e-23,\n",
       "       6.97081825e-25, 0.00000000e+00, 7.59482600e-24, 0.00000000e+00,\n",
       "       0.00000000e+00, 2.31539304e-23, 0.00000000e+00, 5.51457477e-24])"
      ]
     },
     "execution_count": 290,
     "metadata": {},
     "output_type": "execute_result"
    }
   ],
   "source": [
    "np.abs(fin_vec_approx-fin_vec_sec)"
   ]
  },
  {
   "cell_type": "code",
   "execution_count": 239,
   "metadata": {},
   "outputs": [
    {
     "data": {
      "text/plain": [
       "3.6754470560348324e-10"
      ]
     },
     "execution_count": 239,
     "metadata": {},
     "output_type": "execute_result"
    }
   ],
   "source": [
    "#np.linalg.norm(ala_sec_vecs@np.diag(ala_sec_vals)@np.linalg.inv(ala_sec_vecs)-H_ala- R_secular)"
   ]
  },
  {
   "cell_type": "code",
   "execution_count": 245,
   "metadata": {},
   "outputs": [
    {
     "data": {
      "text/plain": [
       "array([0. , 0. , 0.5, 0. , 0. , 0. , 0. , 0. , 0.5, 0. , 0. , 0. , 0. ,\n",
       "       0. , 0. , 0. , 0. , 0. , 0. , 0. , 0. , 0. , 0. , 0. , 0. , 0. ,\n",
       "       0. , 0. , 0. , 0. , 0. , 0. , 0.5, 0. , 0. , 0. , 0. , 0. , 0. ,\n",
       "       0. , 0. , 0. , 0. , 0. , 0. , 0. , 0. , 0. , 0. , 0. , 0. , 0. ,\n",
       "       0. , 0. , 0. , 0. , 0. , 0. , 0. , 0. , 0. , 0. , 0. , 0. , 0. ,\n",
       "       0. , 0. , 0. , 0. , 0. , 0. , 0. , 0. , 0. , 0. , 0. , 0. , 0. ,\n",
       "       0. , 0. , 0. , 0. , 0. , 0. , 0. , 0. , 0. , 0. , 0. , 0. , 0. ,\n",
       "       0. , 0. , 0. , 0. , 0. , 0. , 0. , 0. , 0. , 0. , 0. , 0. , 0. ,\n",
       "       0. , 0. , 0. , 0. , 0. , 0. , 0. , 0. , 0. , 0. , 0. , 0. , 0. ,\n",
       "       0. , 0. , 0. , 0. , 0. , 0. , 0. , 0. , 0. , 0. , 0. , 0.5, 0. ,\n",
       "       0. , 0. , 0. , 0. , 0. , 0. , 0. , 0. , 0. , 0. , 0. , 0. , 0. ,\n",
       "       0. , 0. , 0. , 0. , 0. , 0. , 0. , 0. , 0. , 0. , 0. , 0. , 0. ,\n",
       "       0. , 0. , 0. , 0. , 0. , 0. , 0. , 0. , 0. , 0. , 0. , 0. , 0. ,\n",
       "       0. , 0. , 0. , 0. , 0. , 0. , 0. , 0. , 0. , 0. , 0. , 0. , 0. ,\n",
       "       0. , 0. , 0. , 0. , 0. , 0. , 0. , 0. , 0. , 0. , 0. , 0. , 0. ,\n",
       "       0. , 0. , 0. , 0. , 0. , 0. , 0. , 0. , 0. , 0. , 0. , 0. , 0. ,\n",
       "       0. , 0. , 0. , 0. , 0. , 0. , 0. , 0. , 0. , 0. , 0. , 0. , 0. ,\n",
       "       0. , 0. , 0. , 0. , 0. , 0. , 0. , 0. , 0. , 0. , 0. , 0. , 0. ,\n",
       "       0. , 0. , 0. , 0. , 0. , 0. , 0. , 0. , 0. , 0. , 0. , 0. , 0. ,\n",
       "       0. , 0. , 0. , 0. , 0. , 0. , 0. , 0. , 0. ])"
      ]
     },
     "execution_count": 245,
     "metadata": {},
     "output_type": "execute_result"
    }
   ],
   "source": []
  },
  {
   "cell_type": "code",
   "execution_count": 287,
   "metadata": {},
   "outputs": [
    {
     "data": {
      "text/plain": [
       "('       Sz3', '     Sz2  ', '   Sz1    ', ' Sz0      ')"
      ]
     },
     "execution_count": 287,
     "metadata": {},
     "output_type": "execute_result"
    }
   ],
   "source": [
    "Symb_ALA_basis[2], Symb_ALA_basis[8], Symb_ALA_basis[32], Symb_ALA_basis[128]"
   ]
  },
  {
   "cell_type": "code",
   "execution_count": 263,
   "metadata": {},
   "outputs": [
    {
     "data": {
      "text/plain": [
       "array([255, 253, 254,  36, 139, 125,   5,  75,   1,  11,  89,  62,   0,\n",
       "       197, 200,  35,  14, 190,  13,  51,  61,  82,  66,  63,   3,   2,\n",
       "       210,  65, 136, 213, 195, 102,   7,  31,  64,   6, 101, 108,  88,\n",
       "        70, 116, 207, 172, 182, 131, 133,   4, 174, 100,  43, 117,  96,\n",
       "       110, 107, 124, 185, 183, 153, 170, 191,   8, 157, 189, 194, 109,\n",
       "        47,  30, 211,  91, 205, 115, 111,  77,  90, 196, 203,  93,   9,\n",
       "        74,  15,  92, 104, 130,  94, 171, 154,  79,  72, 141,  12, 143,\n",
       "       178,  86, 142,  99,  60, 106, 152,  10,  95,  81,  48, 161,  44,\n",
       "        46, 155, 132,  97, 105, 202, 137, 209, 163, 176, 129, 193, 103,\n",
       "       147, 144,  76,  68, 113, 175,  69,  71,  85,  45, 199, 206, 198,\n",
       "       114, 122, 112, 140, 146, 204,  80, 184, 167,  87, 166, 208,  98,\n",
       "        16, 212, 177, 135,  83, 156, 179,  67,  17,  78,  73, 149, 148,\n",
       "       160, 151, 158, 138,  84,  52, 186, 187, 180, 134, 201, 181, 123,\n",
       "       127, 188, 150, 192, 126, 118, 169, 145, 119, 173, 128, 164, 159,\n",
       "       121, 165, 168, 162, 120,  59,  39,  41,  40,  57,  58,  42,  38,\n",
       "        56,  55,  49,  24,  18,  28,  26,  53,  32,  20,  33,  21,  27,\n",
       "        54,  19,  29,  22,  34,  50,  25,  37,  23, 223, 217, 214, 224,\n",
       "       244, 225, 247, 252, 216, 215, 229, 218, 221, 227, 222, 219, 226,\n",
       "       228, 220, 243, 245, 236, 251, 249, 246, 238, 240, 248, 250, 241,\n",
       "       242, 233, 232, 239, 237, 231, 230, 234, 235])"
      ]
     },
     "execution_count": 263,
     "metadata": {},
     "output_type": "execute_result"
    }
   ],
   "source": [
    "np.argsort(np.abs(np.linalg.inv(ala_sec_vecs)@rho0.flatten()))"
   ]
  },
  {
   "cell_type": "code",
   "execution_count": 265,
   "metadata": {},
   "outputs": [
    {
     "data": {
      "text/plain": [
       "array([  0,  85, 255, 190, 115,  21,  87, 253,  44,  55, 252,  61,  92,\n",
       "       202, 200, 197,   4,  53, 117, 209,  56, 237,  60, 234, 213, 131,\n",
       "       217,  66, 226, 127, 207,  38, 106, 171, 229, 242,  29, 164, 143,\n",
       "       212, 124, 246, 144,  47, 159, 188, 151, 175, 222,  71,  22, 134,\n",
       "       149, 103, 254,  82, 105, 204, 116,  63, 123, 205, 129,  37, 140,\n",
       "        79,  83, 157,  17, 183,   6, 211, 148,   5, 247, 187, 150,  72,\n",
       "        74, 111, 192,  98,  94, 104, 231, 126,  64,  59, 133, 239, 118,\n",
       "       249,  20, 214, 224, 153,   9, 109, 232,  15, 166,  51,  31, 174,\n",
       "        50,  77,  43, 219, 238, 142,  86,  91, 121, 165, 243,   3, 179,\n",
       "       100, 184, 195,  81, 132, 194, 223, 227,  25, 145, 113, 244, 101,\n",
       "        58,  62,  69, 137,  24,  41, 163, 241,  48, 248,  26, 251,  89,\n",
       "        46,  18,  96, 191, 102,  11,   1, 186, 220,  36, 199, 181,  65,\n",
       "       178, 139, 152, 240,  88, 172, 154, 189,  68, 161,  23, 236, 176,\n",
       "       169,  33, 146,  12,  16,  14, 206,  35, 250,  90,  84,  97,  73,\n",
       "       235,  80, 203,  93,  70,  99, 108,  75,  78, 216, 210, 114, 120,\n",
       "       198, 201, 228, 225, 119, 221,  95, 245, 125, 215, 160, 110, 230,\n",
       "       122, 218, 107, 233,  67, 193, 112, 208,  76, 196, 136,   7,  13,\n",
       "        19,  49,  52,  28, 130,  40,  34,  10, 128, 135, 141, 158, 155,\n",
       "       182, 185, 173, 167, 147, 177, 156, 180, 170, 168, 162, 138,  45,\n",
       "        39,  30,  54,  27,  57,  42,  32,   2,   8])"
      ]
     },
     "execution_count": 265,
     "metadata": {},
     "output_type": "execute_result"
    }
   ],
   "source": [
    "###Taking a closer look to the eigenbasis...\n",
    "np.argsort(np.abs(ala_sec_vecs[:,235]))"
   ]
  },
  {
   "cell_type": "code",
   "execution_count": 281,
   "metadata": {},
   "outputs": [
    {
     "data": {
      "text/plain": [
       "('     Sz2  ', '       Sz3', '   Sz1    ', '   Sz1 Sz2 Sz3', '   S-1 Sz2 S+3')"
      ]
     },
     "execution_count": 281,
     "metadata": {},
     "output_type": "execute_result"
    }
   ],
   "source": [
    "Symb_ALA_basis[8], Symb_ALA_basis[2], Symb_ALA_basis[32], Symb_ALA_basis[42], Symb_ALA_basis[57]"
   ]
  },
  {
   "cell_type": "code",
   "execution_count": 282,
   "metadata": {},
   "outputs": [
    {
     "data": {
      "text/plain": [
       "(0.20917109537576473+0j)"
      ]
     },
     "execution_count": 282,
     "metadata": {},
     "output_type": "execute_result"
    }
   ],
   "source": [
    "ala_sec_vecs[:,235][57]"
   ]
  },
  {
   "cell_type": "code",
   "execution_count": 266,
   "metadata": {},
   "outputs": [],
   "source": [
    "chg_rho0 = np.linalg.inv(ala_sec_vecs)@rho0.flatten()"
   ]
  },
  {
   "cell_type": "code",
   "execution_count": 271,
   "metadata": {},
   "outputs": [
    {
     "data": {
      "text/plain": [
       "(-0.0956505006856721+0j)"
      ]
     },
     "execution_count": 271,
     "metadata": {},
     "output_type": "execute_result"
    }
   ],
   "source": [
    "chg_rho0[237]"
   ]
  },
  {
   "cell_type": "code",
   "execution_count": 250,
   "metadata": {},
   "outputs": [
    {
     "data": {
      "text/plain": [
       "(0.6733620594678217+0j)"
      ]
     },
     "execution_count": 250,
     "metadata": {},
     "output_type": "execute_result"
    }
   ],
   "source": [
    "chg_rho0[235]"
   ]
  },
  {
   "cell_type": "markdown",
   "metadata": {},
   "source": [
    "# The DFG case"
   ]
  },
  {
   "cell_type": "code",
   "execution_count": 42,
   "metadata": {},
   "outputs": [],
   "source": [
    "loadMat = spio.loadmat('./data/DFG_kite.mat',squeeze_me=True)\n",
    "\n",
    "R_refKite= loadMat['p']['R'].item()\n",
    "H_refKite = loadMat['p']['H'].item()"
   ]
  },
  {
   "cell_type": "code",
   "execution_count": 43,
   "metadata": {},
   "outputs": [],
   "source": [
    "###Analytically generated ZZ-terms,\n",
    "text=\"\"\"1      (0,0)   (0,0)   \n",
    "  2      (0,0)   (1,1)   \n",
    "  3      (0,0)   (1,0)   \n",
    "  4      (0,0)   (1,-1)  \n",
    "  5      (1,1)   (0,0)   \n",
    "  6      (1,1)   (1,1)   \n",
    "  7      (1,1)   (1,0)   \n",
    "  8      (1,1)   (1,-1)  \n",
    "  9      (1,0)   (0,0)   \n",
    "  10     (1,0)   (1,1)   \n",
    "  11     (1,0)   (1,0)   \n",
    "  12     (1,0)   (1,-1)  \n",
    "  13     (1,-1)  (0,0)   \n",
    "  14     (1,-1)  (1,1)   \n",
    "  15     (1,-1)  (1,0)   \n",
    "  16     (1,-1)  (1,-1)  \n",
    "\"\"\"\n",
    "\n",
    "\n",
    "gammaF = 251814800\n",
    "coord1 = np.array([-0.0551,-1.2087,-1.6523])*1e-10\n",
    "coord2 = np.array([-0.8604 ,-2.3200 ,-0.0624])*1e-10\n",
    "\n",
    "coords = np.array([coord1,coord2])\n",
    "w1 = -376417768.6316 \n",
    "w2 = -376411775.1523 \n",
    "freqs = np.array([w1,w2])\n",
    "\n",
    "tc =  0.5255e-9\n",
    "Nspins = 2 \n",
    "\n",
    "data = read_spinach_info(text)\n",
    "\n",
    "basis = build_list_ISTs(data)\n",
    "\n",
    "Normbasis = NormalizeBasis(basis,n_qubits=2,checkOrth=True)"
   ]
  },
  {
   "cell_type": "code",
   "execution_count": 5,
   "metadata": {},
   "outputs": [
    {
     "name": "stdout",
     "output_type": "stream",
     "text": [
      "Finished computing the K2 type contributions\n",
      "Finished computing the K1 type contributions\n",
      "Finished computing the K0 type contributions\n",
      "Finished computing the K1 type contributions\n",
      "Finished computing the K0 type contributions\n"
     ]
    }
   ],
   "source": [
    "R_kite_dev = KiteRelMatrixMany(2*np.pi*freqs,tc,coords,Nspins,gammaF,Normbasis)\n",
    "R_kite_approx = ApproxKiteMany(2*np.pi*freqs,tc,coords,Nspins,gammaF,Normbasis)"
   ]
  },
  {
   "cell_type": "code",
   "execution_count": 6,
   "metadata": {},
   "outputs": [
    {
     "data": {
      "text/plain": [
       "0.0017873835640859778"
      ]
     },
     "execution_count": 6,
     "metadata": {},
     "output_type": "execute_result"
    }
   ],
   "source": [
    "np.linalg.norm(R_refKite-R_kite_dev)"
   ]
  },
  {
   "cell_type": "code",
   "execution_count": 7,
   "metadata": {},
   "outputs": [
    {
     "data": {
      "text/plain": [
       "0.6459184908148382"
      ]
     },
     "execution_count": 7,
     "metadata": {},
     "output_type": "execute_result"
    }
   ],
   "source": [
    "np.linalg.norm(R_refKite-R_kite_approx)"
   ]
  },
  {
   "cell_type": "code",
   "execution_count": 9,
   "metadata": {},
   "outputs": [
    {
     "data": {
      "text/plain": [
       "<matplotlib.colorbar.Colorbar at 0x134ea9f90>"
      ]
     },
     "execution_count": 9,
     "metadata": {},
     "output_type": "execute_result"
    },
    {
     "data": {
      "image/png": "[encoded data removed]",
      "text/plain": [
       "<Figure size 640x480 with 2 Axes>"
      ]
     },
     "metadata": {},
     "output_type": "display_data"
    }
   ],
   "source": [
    "plt.imshow(np.real(R_kite_approx), cmap='viridis', interpolation='nearest')\n",
    "# Add a color bar to sh-1j*ow the scale\n",
    "plt.colorbar()"
   ]
  },
  {
   "cell_type": "code",
   "execution_count": 6,
   "metadata": {},
   "outputs": [
    {
     "data": {
      "text/plain": [
       "<matplotlib.colorbar.Colorbar at 0x134db9890>"
      ]
     },
     "execution_count": 6,
     "metadata": {},
     "output_type": "execute_result"
    },
    {
     "data": {
      "image/png": "[encoded data removed]",
      "text/plain": [
       "<Figure size 640x480 with 2 Axes>"
      ]
     },
     "metadata": {},
     "output_type": "display_data"
    }
   ],
   "source": [
    "plt.imshow(np.real(R_kite_dev), cmap='viridis', interpolation='nearest')\n",
    "# Add a color bar to sh-1j*ow the scale\n",
    "plt.colorbar()"
   ]
  },
  {
   "cell_type": "code",
   "execution_count": 8,
   "metadata": {},
   "outputs": [
    {
     "data": {
      "text/plain": [
       "0.0017873835640859778"
      ]
     },
     "execution_count": 8,
     "metadata": {},
     "output_type": "execute_result"
    }
   ],
   "source": [
    "np.linalg.norm(R_refKite-R_kite_dev)"
   ]
  },
  {
   "cell_type": "code",
   "execution_count": 9,
   "metadata": {},
   "outputs": [
    {
     "data": {
      "text/plain": [
       "<matplotlib.colorbar.Colorbar at 0x1405cc350>"
      ]
     },
     "execution_count": 9,
     "metadata": {},
     "output_type": "execute_result"
    },
    {
     "data": {
      "image/png": "[encoded data removed]",
      "text/plain": [
       "<Figure size 640x480 with 2 Axes>"
      ]
     },
     "metadata": {},
     "output_type": "display_data"
    }
   ],
   "source": [
    "plt.imshow(np.real(R_refKite), cmap='viridis', interpolation='nearest')\n",
    "# Add a color bar to sh-1j*ow the scale\n",
    "plt.colorbar()"
   ]
  },
  {
   "cell_type": "markdown",
   "metadata": {},
   "source": [
    "# Checking the 4 spin case"
   ]
  },
  {
   "cell_type": "code",
   "execution_count": 8,
   "metadata": {},
   "outputs": [],
   "source": [
    "import pickle"
   ]
  },
  {
   "cell_type": "code",
   "execution_count": 9,
   "metadata": {},
   "outputs": [],
   "source": [
    "loadMat = spio.loadmat('./data/ALA_NOESY_withGradients_kite.mat',squeeze_me=True)\n",
    "\n",
    "R_refALAKite= loadMat['p']['R'].item()\n",
    "R_refALAKite=R_refALAKite.toarray()\n",
    "H_refALAKite = loadMat['p']['H'].item()"
   ]
  },
  {
   "cell_type": "code",
   "execution_count": 10,
   "metadata": {},
   "outputs": [],
   "source": [
    "f = open('./data/ALA_Analytical_Kite.pk','rb')\n",
    "data = pickle.load(f)\n",
    "\n",
    "ALA_Analytical_Kite = data['KiteMat']"
   ]
  },
  {
   "cell_type": "code",
   "execution_count": 11,
   "metadata": {},
   "outputs": [],
   "source": [
    "#Collecting off-diagonal indexes....\n",
    "\n",
    "Ref_Kite_offidxs = []\n",
    "AN_Kite_offdixs = []\n",
    "\n",
    "for i in range(256):\n",
    "    for j in range(i+1,256):\n",
    "        if np.abs(R_refALAKite[i,j])!=0:\n",
    "            Ref_Kite_offidxs.append([i,j])\n",
    "        if np.abs(ALA_Analytical_Kite[i,j])!=0:\n",
    "            AN_Kite_offdixs.append([i,j])\n",
    "\n",
    "#collect all the indexes that are not in the reference...\n",
    "\n",
    "Extra_offidxs_ALA = []\n",
    "for idx in AN_Kite_offdixs:\n",
    "    if idx not in Ref_Kite_offidxs:\n",
    "        Extra_offidxs_ALA.append(idx)\n",
    "\n"
   ]
  },
  {
   "cell_type": "code",
   "execution_count": 18,
   "metadata": {},
   "outputs": [],
   "source": [
    "sum_off = 0.0\n",
    "\n",
    "list_off_values = []\n",
    "for idx in Extra_offidxs_ALA:\n",
    "    sum_off+=np.abs(ALA_Analytical_Kite[idx[0],idx[1]])\n",
    "    list_off_values.append(ALA_Analytical_Kite[idx[0],idx[1]])\n"
   ]
  },
  {
   "cell_type": "code",
   "execution_count": 36,
   "metadata": {},
   "outputs": [],
   "source": [
    "diff=0.0\n",
    "for i in range(256):\n",
    "    diff+=np.abs(R_refALAKite[i,i]-ALA_Analytical_Kite[i,i])\n"
   ]
  },
  {
   "cell_type": "code",
   "execution_count": 38,
   "metadata": {},
   "outputs": [
    {
     "data": {
      "text/plain": [
       "0.06425369883525303"
      ]
     },
     "execution_count": 38,
     "metadata": {},
     "output_type": "execute_result"
    }
   ],
   "source": [
    "diff/256"
   ]
  },
  {
   "cell_type": "code",
   "execution_count": 39,
   "metadata": {},
   "outputs": [
    {
     "data": {
      "text/plain": [
       "array([ 0.        +0.j, -1.74919009+0.j, -1.68958886+0.j, -1.74919009+0.j,\n",
       "       -1.78472988+0.j, -2.52290813+0.j, -2.42520965+0.j, -2.29450392+0.j,\n",
       "       -1.7239392 +0.j, -2.42399897+0.j, -2.32450054+0.j, -2.42399897+0.j,\n",
       "       -1.78472988+0.j, -2.29450392+0.j, -2.42520965+0.j, -2.52290813+0.j,\n",
       "       -1.69609165+0.j, -2.43466071+0.j, -2.35168549+0.j, -2.2378731 +0.j,\n",
       "       -2.44382745+0.j, -2.39809851+0.j, -2.10809152+0.j, -1.65709032+0.j,\n",
       "       -2.33725378+0.j, -2.09468537+0.j, -1.9038369 +0.j, -1.76197844+0.j,\n",
       "       -2.19515167+0.j, -1.62953743+0.j, -1.74391787+0.j, -1.65333307+0.j,\n",
       "       -1.63832069+0.j, -2.35350966+0.j, -2.25454433+0.j, -2.35350966+0.j,\n",
       "       -2.34028862+0.j, -2.1091586 +0.j, -1.90741754+0.j, -1.75140322+0.j,\n",
       "       -2.23824941+0.j, -1.90433717+0.j, -1.76544553+0.j, -1.90433717+0.j,\n",
       "       -2.34028862+0.j, -1.75140322+0.j, -1.90741754+0.j, -2.1091586 +0.j,\n",
       "       -1.69609165+0.j, -2.2378731 +0.j, -2.35168549+0.j, -2.43466071+0.j,\n",
       "       -2.19515167+0.j, -1.65333307+0.j, -1.74391787+0.j, -1.62953743+0.j,\n",
       "       -2.33725378+0.j, -1.76197844+0.j, -1.9038369 +0.j, -2.09468537+0.j,\n",
       "       -2.44382745+0.j, -1.65709032+0.j, -2.10809152+0.j, -2.39809851+0.j,\n",
       "       -0.25421344+0.j, -1.7852867 +0.j, -1.80307037+0.j, -1.91962244+0.j,\n",
       "       -1.81798334+0.j, -2.44663038+0.j, -2.37583799+0.j, -2.27370973+0.j,\n",
       "       -1.84096914+0.j, -2.37828538+0.j, -2.30081145+0.j, -2.40195833+0.j,\n",
       "       -1.9656645 +0.j, -2.28049231+0.j, -2.40730627+0.j, -2.45852372+0.j,\n",
       "       -1.60184339+0.j, -2.20841161+0.j, -2.20843643+0.j, -2.19217422+0.j,\n",
       "       -2.21676246+0.j, -2.14751433+0.j, -1.89009847+0.j, -1.50828961+0.j,\n",
       "       -2.19849331+0.j, -1.87923337+0.j, -1.71604373+0.j, -1.61644507+0.j,\n",
       "       -2.16021578+0.j, -1.4856926 +0.j, -1.60183563+0.j, -1.50538723+0.j,\n",
       "       -1.85296919+0.j, -2.34836504+0.j, -2.32847024+0.j, -2.48607718+0.j,\n",
       "       -2.33304001+0.j, -1.99071629+0.j, -1.81757261+0.j, -1.69185145+0.j,\n",
       "       -2.3157357 +0.j, -1.81737008+0.j, -1.70222212+0.j, -1.84440259+0.j,\n",
       "       -2.4825473 +0.j, -1.69701986+0.j, -1.85082385+0.j, -2.00780418+0.j,\n",
       "       -2.21389754+0.j, -2.44752866+0.j, -2.63705312+0.j, -2.74042378+0.j,\n",
       "       -2.40187136+0.j, -1.66040959+0.j, -1.77628195+0.j, -1.65394033+0.j,\n",
       "       -2.62522808+0.j, -1.79710929+0.j, -1.95935614+0.j, -2.11527165+0.j,\n",
       "       -2.7579285 +0.j, -1.68625379+0.j, -2.13162449+0.j, -2.33858698+0.j,\n",
       "       -0.24498659+0.j, -1.85343779+0.j, -1.78848447+0.j, -1.85343779+0.j,\n",
       "       -1.89254583+0.j, -2.46775724+0.j, -2.38693913+0.j, -2.28383241+0.j,\n",
       "       -1.82653411+0.j, -2.3858594 +0.j, -2.28100446+0.j, -2.3858594 +0.j,\n",
       "       -1.89254583+0.j, -2.28383241+0.j, -2.38693913+0.j, -2.46775724+0.j,\n",
       "       -1.90151048+0.j, -2.48160689+0.j, -2.41101786+0.j, -2.32031862+0.j,\n",
       "       -2.49428431+0.j, -2.26783512+0.j, -2.01245635+0.j, -1.60680766+0.j,\n",
       "       -2.40028534+0.j, -1.99923572+0.j, -1.820782  +0.j, -1.70203228+0.j,\n",
       "       -2.28120439+0.j, -1.57935615+0.j, -1.6838796 +0.j, -1.59415627+0.j,\n",
       "       -1.84223975+0.j, -2.41668987+0.j, -2.31237242+0.j, -2.41668987+0.j,\n",
       "       -2.40703709+0.j, -2.01292893+0.j, -1.82807954+0.j, -1.69966418+0.j,\n",
       "       -2.29977679+0.j, -1.82513012+0.j, -1.68088192+0.j, -1.82513012+0.j,\n",
       "       -2.40703709+0.j, -1.69966418+0.j, -1.82807954+0.j, -2.01292893+0.j,\n",
       "       -1.90151048+0.j, -2.32031862+0.j, -2.41101786+0.j, -2.48160689+0.j,\n",
       "       -2.28120439+0.j, -1.59415627+0.j, -1.6838796 +0.j, -1.57935615+0.j,\n",
       "       -2.40028534+0.j, -1.70203228+0.j, -1.820782  +0.j, -1.99923572+0.j,\n",
       "       -2.49428431+0.j, -1.60680766+0.j, -2.01245635+0.j, -2.26783512+0.j,\n",
       "       -0.25421344+0.j, -1.91962244+0.j, -1.80307037+0.j, -1.7852867 +0.j,\n",
       "       -1.9656645 +0.j, -2.45852372+0.j, -2.40730627+0.j, -2.28049231+0.j,\n",
       "       -1.84096914+0.j, -2.40195833+0.j, -2.30081145+0.j, -2.37828538+0.j,\n",
       "       -1.81798334+0.j, -2.27370973+0.j, -2.37583799+0.j, -2.44663038+0.j,\n",
       "       -2.21389754+0.j, -2.74042378+0.j, -2.63705312+0.j, -2.44752866+0.j,\n",
       "       -2.7579285 +0.j, -2.33858698+0.j, -2.13162449+0.j, -1.68625379+0.j,\n",
       "       -2.62522808+0.j, -2.11527165+0.j, -1.95935614+0.j, -1.79710929+0.j,\n",
       "       -2.40187136+0.j, -1.65394033+0.j, -1.77628195+0.j, -1.66040959+0.j,\n",
       "       -1.85296919+0.j, -2.48607718+0.j, -2.32847024+0.j, -2.34836504+0.j,\n",
       "       -2.4825473 +0.j, -2.00780418+0.j, -1.85082385+0.j, -1.69701986+0.j,\n",
       "       -2.3157357 +0.j, -1.84440259+0.j, -1.70222212+0.j, -1.81737008+0.j,\n",
       "       -2.33304001+0.j, -1.69185145+0.j, -1.81757261+0.j, -1.99071629+0.j,\n",
       "       -1.60184339+0.j, -2.19217422+0.j, -2.20843643+0.j, -2.20841161+0.j,\n",
       "       -2.16021578+0.j, -1.50538723+0.j, -1.60183563+0.j, -1.4856926 +0.j,\n",
       "       -2.19849331+0.j, -1.61644507+0.j, -1.71604373+0.j, -1.87923337+0.j,\n",
       "       -2.21676246+0.j, -1.50828961+0.j, -1.89009847+0.j, -2.14751433+0.j])"
      ]
     },
     "execution_count": 39,
     "metadata": {},
     "output_type": "execute_result"
    }
   ],
   "source": [
    "np.diag(R_refALAKite)"
   ]
  },
  {
   "cell_type": "code",
   "execution_count": 35,
   "metadata": {},
   "outputs": [
    {
     "data": {
      "text/plain": [
       "1.6486728558822372"
      ]
     },
     "execution_count": 35,
     "metadata": {},
     "output_type": "execute_result"
    }
   ],
   "source": [
    "np.linalg.norm(np.diag(ALA_Analytical_Kite)-np.diag(R_refALAKite))"
   ]
  },
  {
   "cell_type": "code",
   "execution_count": 33,
   "metadata": {},
   "outputs": [
    {
     "data": {
      "text/plain": [
       "0.03513270827257491"
      ]
     },
     "execution_count": 33,
     "metadata": {},
     "output_type": "execute_result"
    }
   ],
   "source": [
    "np.sum(np.abs(list_off_values))/len(list_off_values)"
   ]
  },
  {
   "cell_type": "code",
   "execution_count": 34,
   "metadata": {},
   "outputs": [
    {
     "data": {
      "text/plain": [
       "2.030772637636818"
      ]
     },
     "execution_count": 34,
     "metadata": {},
     "output_type": "execute_result"
    }
   ],
   "source": [
    "np.sum(np.abs(np.diag(ALA_Analytical_Kite)))/256"
   ]
  },
  {
   "cell_type": "code",
   "execution_count": 31,
   "metadata": {},
   "outputs": [
    {
     "data": {
      "text/plain": [
       "(' S+0   Sz2 S+3', ' S+0 Sz1   S+3')"
      ]
     },
     "execution_count": 31,
     "metadata": {},
     "output_type": "execute_result"
    }
   ],
   "source": [
    "Symb_ALA_basis[73], Symb_ALA_basis[97]"
   ]
  },
  {
   "cell_type": "code",
   "execution_count": null,
   "metadata": {},
   "outputs": [],
   "source": []
  },
  {
   "cell_type": "code",
   "execution_count": 24,
   "metadata": {},
   "outputs": [
    {
     "data": {
      "text/plain": [
       "(-0.38220176938405204+0j)"
      ]
     },
     "execution_count": 24,
     "metadata": {},
     "output_type": "execute_result"
    }
   ],
   "source": [
    "ALA_Analytical_Kite[73,97]"
   ]
  },
  {
   "cell_type": "code",
   "execution_count": 21,
   "metadata": {},
   "outputs": [
    {
     "data": {
      "text/plain": [
       "91"
      ]
     },
     "execution_count": 21,
     "metadata": {},
     "output_type": "execute_result"
    }
   ],
   "source": [
    "np.argmax(np.abs(list_off_values))"
   ]
  },
  {
   "cell_type": "code",
   "execution_count": 22,
   "metadata": {},
   "outputs": [
    {
     "data": {
      "text/plain": [
       "(-0.38220176938405204+0j)"
      ]
     },
     "execution_count": 22,
     "metadata": {},
     "output_type": "execute_result"
    }
   ],
   "source": [
    "list_off_values[91]"
   ]
  },
  {
   "cell_type": "code",
   "execution_count": 71,
   "metadata": {},
   "outputs": [
    {
     "data": {
      "text/plain": [
       "('     Sz2  ', ' Sz0      ')"
      ]
     },
     "execution_count": 71,
     "metadata": {},
     "output_type": "execute_result"
    }
   ],
   "source": [
    "Symb_ALA_basis[8], Symb_ALA_basis[128]"
   ]
  },
  {
   "cell_type": "code",
   "execution_count": 74,
   "metadata": {},
   "outputs": [
    {
     "data": {
      "text/plain": [
       "('     S+2 Sz3', '   Sz1 S+2  ')"
      ]
     },
     "execution_count": 74,
     "metadata": {},
     "output_type": "execute_result"
    }
   ],
   "source": [
    "Symb_ALA_basis[6], Symb_ALA_basis[36]"
   ]
  },
  {
   "cell_type": "code",
   "execution_count": 80,
   "metadata": {},
   "outputs": [
    {
     "data": {
      "text/plain": [
       "(-1+0j)"
      ]
     },
     "execution_count": 80,
     "metadata": {},
     "output_type": "execute_result"
    }
   ],
   "source": [
    "from openfermion import QubitOperator\n",
    "from basis_utils import S_plus,S_minus,Sz,InnProd\n",
    "\n",
    "\n",
    "def AN_Lib(rho,A,B):\n",
    "    return A*rho*B-0.5*(A*B*rho+rho*A*B)\n",
    "\n",
    "A = S_plus(1) * S_plus(3)\n",
    "B = S_minus(1)*S_minus(3)\n",
    "\n",
    "rho = Sz(1)*S_plus(2)\n",
    "\n",
    "\n",
    "#AN_Lib(rho,A,B)\n",
    "\n",
    "InnProd(Sz(3)*S_plus(2),AN_Lib(rho,B,A),n_qubits=4)"
   ]
  },
  {
   "cell_type": "code",
   "execution_count": 48,
   "metadata": {},
   "outputs": [
    {
     "data": {
      "text/plain": [
       "[[6, 36],\n",
       " [6, 132],\n",
       " [9, 33],\n",
       " [9, 129],\n",
       " [11, 35],\n",
       " [11, 131],\n",
       " [14, 44],\n",
       " [14, 140],\n",
       " [18, 24],\n",
       " [18, 144],\n",
       " [21, 23],\n",
       " [21, 29],\n",
       " [21, 31],\n",
       " [21, 53],\n",
       " [21, 55],\n",
       " [21, 61],\n",
       " [21, 63],\n",
       " [22, 148],\n",
       " [23, 29],\n",
       " [23, 31],\n",
       " [23, 53],\n",
       " [23, 55],\n",
       " [23, 61],\n",
       " [23, 63],\n",
       " [24, 144],\n",
       " [25, 145],\n",
       " [26, 146],\n",
       " [26, 152],\n",
       " [27, 147],\n",
       " [29, 31],\n",
       " [29, 53],\n",
       " [29, 55],\n",
       " [29, 61],\n",
       " [29, 63],\n",
       " [30, 156],\n",
       " [31, 53],\n",
       " [31, 55],\n",
       " [31, 61],\n",
       " [31, 63],\n",
       " [33, 129],\n",
       " [35, 131],\n",
       " [36, 132],\n",
       " [37, 133],\n",
       " [38, 134],\n",
       " [38, 164],\n",
       " [39, 135],\n",
       " [41, 137],\n",
       " [41, 161],\n",
       " [43, 139],\n",
       " [43, 163],\n",
       " [44, 140],\n",
       " [45, 141],\n",
       " [46, 142],\n",
       " [46, 172],\n",
       " [47, 143],\n",
       " [50, 56],\n",
       " [50, 176],\n",
       " [53, 55],\n",
       " [53, 61],\n",
       " [53, 63],\n",
       " [53, 181],\n",
       " [54, 180],\n",
       " [55, 61],\n",
       " [55, 63],\n",
       " [55, 183],\n",
       " [56, 176],\n",
       " [57, 177],\n",
       " [58, 178],\n",
       " [58, 184],\n",
       " [59, 179],\n",
       " [61, 63],\n",
       " [61, 189],\n",
       " [62, 188],\n",
       " [63, 191],\n",
       " [66, 72],\n",
       " [66, 96],\n",
       " [69, 71],\n",
       " [69, 77],\n",
       " [69, 79],\n",
       " [69, 197],\n",
       " [69, 199],\n",
       " [69, 205],\n",
       " [69, 207],\n",
       " [70, 100],\n",
       " [71, 77],\n",
       " [71, 79],\n",
       " [71, 197],\n",
       " [71, 199],\n",
       " [71, 205],\n",
       " [71, 207],\n",
       " [72, 96],\n",
       " [73, 97],\n",
       " [74, 98],\n",
       " [74, 104],\n",
       " [75, 99],\n",
       " [77, 79],\n",
       " [77, 197],\n",
       " [77, 199],\n",
       " [77, 205],\n",
       " [77, 207],\n",
       " [78, 108],\n",
       " [79, 197],\n",
       " [79, 199],\n",
       " [79, 205],\n",
       " [79, 207],\n",
       " [81, 83],\n",
       " [81, 113],\n",
       " [81, 115],\n",
       " [81, 209],\n",
       " [81, 211],\n",
       " [81, 241],\n",
       " [81, 243],\n",
       " [82, 88],\n",
       " [83, 113],\n",
       " [83, 115],\n",
       " [83, 209],\n",
       " [83, 211],\n",
       " [83, 241],\n",
       " [83, 243],\n",
       " [84, 92],\n",
       " [84, 116],\n",
       " [84, 124],\n",
       " [84, 212],\n",
       " [84, 220],\n",
       " [84, 244],\n",
       " [84, 252],\n",
       " [85, 87],\n",
       " [85, 93],\n",
       " [85, 95],\n",
       " [85, 117],\n",
       " [85, 119],\n",
       " [85, 125],\n",
       " [85, 127],\n",
       " [85, 213],\n",
       " [85, 215],\n",
       " [85, 221],\n",
       " [85, 223],\n",
       " [85, 245],\n",
       " [85, 247],\n",
       " [85, 253],\n",
       " [85, 255],\n",
       " [86, 94],\n",
       " [86, 118],\n",
       " [86, 126],\n",
       " [86, 214],\n",
       " [86, 222],\n",
       " [86, 246],\n",
       " [86, 254],\n",
       " [87, 93],\n",
       " [87, 95],\n",
       " [87, 117],\n",
       " [87, 119],\n",
       " [87, 125],\n",
       " [87, 127],\n",
       " [87, 213],\n",
       " [87, 215],\n",
       " [87, 221],\n",
       " [87, 223],\n",
       " [87, 245],\n",
       " [87, 247],\n",
       " [87, 253],\n",
       " [87, 255],\n",
       " [89, 91],\n",
       " [89, 121],\n",
       " [89, 123],\n",
       " [89, 217],\n",
       " [89, 219],\n",
       " [89, 249],\n",
       " [89, 251],\n",
       " [91, 121],\n",
       " [91, 123],\n",
       " [91, 217],\n",
       " [91, 219],\n",
       " [91, 249],\n",
       " [91, 251],\n",
       " [92, 116],\n",
       " [92, 124],\n",
       " [92, 212],\n",
       " [92, 220],\n",
       " [92, 244],\n",
       " [92, 252],\n",
       " [93, 95],\n",
       " [93, 117],\n",
       " [93, 119],\n",
       " [93, 125],\n",
       " [93, 127],\n",
       " [93, 213],\n",
       " [93, 215],\n",
       " [93, 221],\n",
       " [93, 223],\n",
       " [93, 245],\n",
       " [93, 247],\n",
       " [93, 253],\n",
       " [93, 255],\n",
       " [94, 118],\n",
       " [94, 126],\n",
       " [94, 214],\n",
       " [94, 222],\n",
       " [94, 246],\n",
       " [94, 254],\n",
       " [95, 117],\n",
       " [95, 119],\n",
       " [95, 125],\n",
       " [95, 127],\n",
       " [95, 213],\n",
       " [95, 215],\n",
       " [95, 221],\n",
       " [95, 223],\n",
       " [95, 245],\n",
       " [95, 247],\n",
       " [95, 253],\n",
       " [95, 255],\n",
       " [98, 104],\n",
       " [101, 103],\n",
       " [101, 109],\n",
       " [101, 111],\n",
       " [101, 229],\n",
       " [101, 231],\n",
       " [101, 237],\n",
       " [101, 239],\n",
       " [103, 109],\n",
       " [103, 111],\n",
       " [103, 229],\n",
       " [103, 231],\n",
       " [103, 237],\n",
       " [103, 239],\n",
       " [109, 111],\n",
       " [109, 229],\n",
       " [109, 231],\n",
       " [109, 237],\n",
       " [109, 239],\n",
       " [111, 229],\n",
       " [111, 231],\n",
       " [111, 237],\n",
       " [111, 239],\n",
       " [113, 115],\n",
       " [113, 209],\n",
       " [113, 211],\n",
       " [113, 241],\n",
       " [113, 243],\n",
       " [114, 120],\n",
       " [115, 209],\n",
       " [115, 211],\n",
       " [115, 241],\n",
       " [115, 243],\n",
       " [116, 124],\n",
       " [116, 212],\n",
       " [116, 220],\n",
       " [116, 244],\n",
       " [116, 252],\n",
       " [117, 119],\n",
       " [117, 125],\n",
       " [117, 127],\n",
       " [117, 213],\n",
       " [117, 215],\n",
       " [117, 221],\n",
       " [117, 223],\n",
       " [117, 245],\n",
       " [117, 247],\n",
       " [117, 253],\n",
       " [117, 255],\n",
       " [118, 126],\n",
       " [118, 214],\n",
       " [118, 222],\n",
       " [118, 246],\n",
       " [118, 254],\n",
       " [119, 125],\n",
       " [119, 127],\n",
       " [119, 213],\n",
       " [119, 215],\n",
       " [119, 221],\n",
       " [119, 223],\n",
       " [119, 245],\n",
       " [119, 247],\n",
       " [119, 253],\n",
       " [119, 255],\n",
       " [121, 123],\n",
       " [121, 217],\n",
       " [121, 219],\n",
       " [121, 249],\n",
       " [121, 251],\n",
       " [123, 217],\n",
       " [123, 219],\n",
       " [123, 249],\n",
       " [123, 251],\n",
       " [124, 212],\n",
       " [124, 220],\n",
       " [124, 244],\n",
       " [124, 252],\n",
       " [125, 127],\n",
       " [125, 213],\n",
       " [125, 215],\n",
       " [125, 221],\n",
       " [125, 223],\n",
       " [125, 245],\n",
       " [125, 247],\n",
       " [125, 253],\n",
       " [125, 255],\n",
       " [126, 214],\n",
       " [126, 222],\n",
       " [126, 246],\n",
       " [126, 254],\n",
       " [127, 213],\n",
       " [127, 215],\n",
       " [127, 221],\n",
       " [127, 223],\n",
       " [127, 245],\n",
       " [127, 247],\n",
       " [127, 253],\n",
       " [127, 255],\n",
       " [134, 164],\n",
       " [137, 161],\n",
       " [139, 163],\n",
       " [142, 172],\n",
       " [146, 152],\n",
       " [149, 151],\n",
       " [149, 157],\n",
       " [149, 159],\n",
       " [149, 181],\n",
       " [149, 183],\n",
       " [149, 189],\n",
       " [149, 191],\n",
       " [151, 157],\n",
       " [151, 159],\n",
       " [151, 181],\n",
       " [151, 183],\n",
       " [151, 189],\n",
       " [151, 191],\n",
       " [157, 159],\n",
       " [157, 181],\n",
       " [157, 183],\n",
       " [157, 189],\n",
       " [157, 191],\n",
       " [159, 181],\n",
       " [159, 183],\n",
       " [159, 189],\n",
       " [159, 191],\n",
       " [178, 184],\n",
       " [181, 183],\n",
       " [181, 189],\n",
       " [181, 191],\n",
       " [183, 189],\n",
       " [183, 191],\n",
       " [189, 191],\n",
       " [194, 200],\n",
       " [194, 224],\n",
       " [197, 199],\n",
       " [197, 205],\n",
       " [197, 207],\n",
       " [198, 228],\n",
       " [199, 205],\n",
       " [199, 207],\n",
       " [200, 224],\n",
       " [201, 225],\n",
       " [202, 226],\n",
       " [202, 232],\n",
       " [203, 227],\n",
       " [205, 207],\n",
       " [206, 236],\n",
       " [209, 211],\n",
       " [209, 241],\n",
       " [209, 243],\n",
       " [210, 216],\n",
       " [211, 241],\n",
       " [211, 243],\n",
       " [212, 220],\n",
       " [212, 244],\n",
       " [212, 252],\n",
       " [213, 215],\n",
       " [213, 221],\n",
       " [213, 223],\n",
       " [213, 245],\n",
       " [213, 247],\n",
       " [213, 253],\n",
       " [213, 255],\n",
       " [214, 222],\n",
       " [214, 246],\n",
       " [214, 254],\n",
       " [215, 221],\n",
       " [215, 223],\n",
       " [215, 245],\n",
       " [215, 247],\n",
       " [215, 253],\n",
       " [215, 255],\n",
       " [217, 219],\n",
       " [217, 249],\n",
       " [217, 251],\n",
       " [219, 249],\n",
       " [219, 251],\n",
       " [220, 244],\n",
       " [220, 252],\n",
       " [221, 223],\n",
       " [221, 245],\n",
       " [221, 247],\n",
       " [221, 253],\n",
       " [221, 255],\n",
       " [222, 246],\n",
       " [222, 254],\n",
       " [223, 245],\n",
       " [223, 247],\n",
       " [223, 253],\n",
       " [223, 255],\n",
       " [226, 232],\n",
       " [229, 231],\n",
       " [229, 237],\n",
       " [229, 239],\n",
       " [231, 237],\n",
       " [231, 239],\n",
       " [237, 239],\n",
       " [241, 243],\n",
       " [242, 248],\n",
       " [244, 252],\n",
       " [245, 247],\n",
       " [245, 253],\n",
       " [245, 255],\n",
       " [246, 254],\n",
       " [247, 253],\n",
       " [247, 255],\n",
       " [249, 251],\n",
       " [253, 255]]"
      ]
     },
     "execution_count": 48,
     "metadata": {},
     "output_type": "execute_result"
    }
   ],
   "source": [
    "InnProd(Op1,Op2,n_qubits=None)"
   ]
  },
  {
   "cell_type": "code",
   "execution_count": 44,
   "metadata": {},
   "outputs": [
    {
     "data": {
      "text/plain": [
       "444"
      ]
     },
     "execution_count": 44,
     "metadata": {},
     "output_type": "execute_result"
    }
   ],
   "source": [
    "len(AN_Kite_offdixs)"
   ]
  },
  {
   "cell_type": "code",
   "execution_count": 46,
   "metadata": {},
   "outputs": [
    {
     "data": {
      "text/plain": [
       "True"
      ]
     },
     "execution_count": 46,
     "metadata": {},
     "output_type": "execute_result"
    }
   ],
   "source": [
    "[2,8] in Ref_Kite_offidxs"
   ]
  },
  {
   "cell_type": "code",
   "execution_count": 40,
   "metadata": {},
   "outputs": [
    {
     "data": {
      "text/plain": [
       "<matplotlib.colorbar.Colorbar at 0x1412b8d10>"
      ]
     },
     "execution_count": 40,
     "metadata": {},
     "output_type": "execute_result"
    },
    {
     "data": {
      "image/png": "[encoded data removed]",
      "text/plain": [
       "<Figure size 640x480 with 2 Axes>"
      ]
     },
     "metadata": {},
     "output_type": "display_data"
    }
   ],
   "source": [
    "init =48 \n",
    "fin = 64\n",
    "\n",
    "plt.imshow(np.real(ALA_Analytical_Kite[init:fin,init:fin]), cmap='viridis', interpolation='nearest')\n",
    "# Add a color bar to sh-1j*ow the scale\n",
    "plt.colorbar()"
   ]
  },
  {
   "cell_type": "code",
   "execution_count": 41,
   "metadata": {},
   "outputs": [
    {
     "data": {
      "text/plain": [
       "<matplotlib.colorbar.Colorbar at 0x141388790>"
      ]
     },
     "execution_count": 41,
     "metadata": {},
     "output_type": "execute_result"
    },
    {
     "data": {
      "image/png": "[encoded data removed]",
      "text/plain": [
       "<Figure size 640x480 with 2 Axes>"
      ]
     },
     "metadata": {},
     "output_type": "display_data"
    }
   ],
   "source": [
    "plt.imshow(np.real(R_refALAKite[init:fin,init:fin]), cmap='viridis', interpolation='nearest')\n",
    "# Add a color bar to show the scale\n",
    "plt.colorbar()"
   ]
  },
  {
   "cell_type": "code",
   "execution_count": null,
   "metadata": {},
   "outputs": [],
   "source": []
  },
  {
   "cell_type": "code",
   "execution_count": null,
   "metadata": {},
   "outputs": [],
   "source": []
  },
  {
   "cell_type": "code",
   "execution_count": 26,
   "metadata": {},
   "outputs": [
    {
     "data": {
      "text/plain": [
       "33.30238499387605"
      ]
     },
     "execution_count": 26,
     "metadata": {},
     "output_type": "execute_result"
    }
   ],
   "source": [
    "np.linalg.norm(ALA_Analytical_Kite)"
   ]
  },
  {
   "cell_type": "code",
   "execution_count": null,
   "metadata": {},
   "outputs": [],
   "source": [
    "#Load the analytically generated Kite matrix:\n",
    "loadMat = spio.loadmat('./data/ALA_Analytical_Kite.pk')"
   ]
  },
  {
   "cell_type": "code",
   "execution_count": 19,
   "metadata": {},
   "outputs": [
    {
     "data": {
      "text/plain": [
       "33.21719025949559"
      ]
     },
     "execution_count": 19,
     "metadata": {},
     "output_type": "execute_result"
    }
   ],
   "source": [
    "np.linalg.norm(R_refALAKite)"
   ]
  },
  {
   "cell_type": "code",
   "execution_count": 25,
   "metadata": {},
   "outputs": [],
   "source": [
    "text4=\"\"\"1      (0,0)   (0,0)   (0,0)   (0,0)   \n",
    "  2      (0,0)   (0,0)   (0,0)   (1,1)   \n",
    "  3      (0,0)   (0,0)   (0,0)   (1,0)   \n",
    "  4      (0,0)   (0,0)   (0,0)   (1,-1)  \n",
    "  5      (0,0)   (0,0)   (1,1)   (0,0)   \n",
    "  6      (0,0)   (0,0)   (1,1)   (1,1)   \n",
    "  7      (0,0)   (0,0)   (1,1)   (1,0)   \n",
    "  8      (0,0)   (0,0)   (1,1)   (1,-1)  \n",
    "  9      (0,0)   (0,0)   (1,0)   (0,0)   \n",
    "  10     (0,0)   (0,0)   (1,0)   (1,1)   \n",
    "  11     (0,0)   (0,0)   (1,0)   (1,0)   \n",
    "  12     (0,0)   (0,0)   (1,0)   (1,-1)  \n",
    "  13     (0,0)   (0,0)   (1,-1)  (0,0)   \n",
    "  14     (0,0)   (0,0)   (1,-1)  (1,1)   \n",
    "  15     (0,0)   (0,0)   (1,-1)  (1,0)   \n",
    "  16     (0,0)   (0,0)   (1,-1)  (1,-1)  \n",
    "  17     (0,0)   (1,1)   (0,0)   (0,0)   \n",
    "  18     (0,0)   (1,1)   (0,0)   (1,1)   \n",
    "  19     (0,0)   (1,1)   (0,0)   (1,0)   \n",
    "  20     (0,0)   (1,1)   (0,0)   (1,-1)  \n",
    "  21     (0,0)   (1,1)   (1,1)   (0,0)   \n",
    "  22     (0,0)   (1,1)   (1,1)   (1,1)   \n",
    "  23     (0,0)   (1,1)   (1,1)   (1,0)   \n",
    "  24     (0,0)   (1,1)   (1,1)   (1,-1)  \n",
    "  25     (0,0)   (1,1)   (1,0)   (0,0)   \n",
    "  26     (0,0)   (1,1)   (1,0)   (1,1)   \n",
    "  27     (0,0)   (1,1)   (1,0)   (1,0)   \n",
    "  28     (0,0)   (1,1)   (1,0)   (1,-1)  \n",
    "  29     (0,0)   (1,1)   (1,-1)  (0,0)   \n",
    "  30     (0,0)   (1,1)   (1,-1)  (1,1)   \n",
    "  31     (0,0)   (1,1)   (1,-1)  (1,0)   \n",
    "  32     (0,0)   (1,1)   (1,-1)  (1,-1)  \n",
    "  33     (0,0)   (1,0)   (0,0)   (0,0)   \n",
    "  34     (0,0)   (1,0)   (0,0)   (1,1)   \n",
    "  35     (0,0)   (1,0)   (0,0)   (1,0)   \n",
    "  36     (0,0)   (1,0)   (0,0)   (1,-1)  \n",
    "  37     (0,0)   (1,0)   (1,1)   (0,0)   \n",
    "  38     (0,0)   (1,0)   (1,1)   (1,1)   \n",
    "  39     (0,0)   (1,0)   (1,1)   (1,0)   \n",
    "  40     (0,0)   (1,0)   (1,1)   (1,-1)  \n",
    "  41     (0,0)   (1,0)   (1,0)   (0,0)   \n",
    "  42     (0,0)   (1,0)   (1,0)   (1,1)   \n",
    "  43     (0,0)   (1,0)   (1,0)   (1,0)   \n",
    "  44     (0,0)   (1,0)   (1,0)   (1,-1)  \n",
    "  45     (0,0)   (1,0)   (1,-1)  (0,0)   \n",
    "  46     (0,0)   (1,0)   (1,-1)  (1,1)   \n",
    "  47     (0,0)   (1,0)   (1,-1)  (1,0)   \n",
    "  48     (0,0)   (1,0)   (1,-1)  (1,-1)  \n",
    "  49     (0,0)   (1,-1)  (0,0)   (0,0)   \n",
    "  50     (0,0)   (1,-1)  (0,0)   (1,1)   \n",
    "  51     (0,0)   (1,-1)  (0,0)   (1,0)   \n",
    "  52     (0,0)   (1,-1)  (0,0)   (1,-1)  \n",
    "  53     (0,0)   (1,-1)  (1,1)   (0,0)   \n",
    "  54     (0,0)   (1,-1)  (1,1)   (1,1)   \n",
    "  55     (0,0)   (1,-1)  (1,1)   (1,0)   \n",
    "  56     (0,0)   (1,-1)  (1,1)   (1,-1)  \n",
    "  57     (0,0)   (1,-1)  (1,0)   (0,0)   \n",
    "  58     (0,0)   (1,-1)  (1,0)   (1,1)   \n",
    "  59     (0,0)   (1,-1)  (1,0)   (1,0)   \n",
    "  60     (0,0)   (1,-1)  (1,0)   (1,-1)  \n",
    "  61     (0,0)   (1,-1)  (1,-1)  (0,0)   \n",
    "  62     (0,0)   (1,-1)  (1,-1)  (1,1)   \n",
    "  63     (0,0)   (1,-1)  (1,-1)  (1,0)   \n",
    "  64     (0,0)   (1,-1)  (1,-1)  (1,-1)  \n",
    "  65     (1,1)   (0,0)   (0,0)   (0,0)   \n",
    "  66     (1,1)   (0,0)   (0,0)   (1,1)   \n",
    "  67     (1,1)   (0,0)   (0,0)   (1,0)   \n",
    "  68     (1,1)   (0,0)   (0,0)   (1,-1)  \n",
    "  69     (1,1)   (0,0)   (1,1)   (0,0)   \n",
    "  70     (1,1)   (0,0)   (1,1)   (1,1)   \n",
    "  71     (1,1)   (0,0)   (1,1)   (1,0)   \n",
    "  72     (1,1)   (0,0)   (1,1)   (1,-1)  \n",
    "  73     (1,1)   (0,0)   (1,0)   (0,0)   \n",
    "  74     (1,1)   (0,0)   (1,0)   (1,1)   \n",
    "  75     (1,1)   (0,0)   (1,0)   (1,0)   \n",
    "  76     (1,1)   (0,0)   (1,0)   (1,-1)  \n",
    "  77     (1,1)   (0,0)   (1,-1)  (0,0)   \n",
    "  78     (1,1)   (0,0)   (1,-1)  (1,1)   \n",
    "  79     (1,1)   (0,0)   (1,-1)  (1,0)   \n",
    "  80     (1,1)   (0,0)   (1,-1)  (1,-1)  \n",
    "  81     (1,1)   (1,1)   (0,0)   (0,0)   \n",
    "  82     (1,1)   (1,1)   (0,0)   (1,1)   \n",
    "  83     (1,1)   (1,1)   (0,0)   (1,0)   \n",
    "  84     (1,1)   (1,1)   (0,0)   (1,-1)  \n",
    "  85     (1,1)   (1,1)   (1,1)   (0,0)   \n",
    "  86     (1,1)   (1,1)   (1,1)   (1,1)   \n",
    "  87     (1,1)   (1,1)   (1,1)   (1,0)   \n",
    "  88     (1,1)   (1,1)   (1,1)   (1,-1)  \n",
    "  89     (1,1)   (1,1)   (1,0)   (0,0)   \n",
    "  90     (1,1)   (1,1)   (1,0)   (1,1)   \n",
    "  91     (1,1)   (1,1)   (1,0)   (1,0)   \n",
    "  92     (1,1)   (1,1)   (1,0)   (1,-1)  \n",
    "  93     (1,1)   (1,1)   (1,-1)  (0,0)   \n",
    "  94     (1,1)   (1,1)   (1,-1)  (1,1)   \n",
    "  95     (1,1)   (1,1)   (1,-1)  (1,0)   \n",
    "  96     (1,1)   (1,1)   (1,-1)  (1,-1)  \n",
    "  97     (1,1)   (1,0)   (0,0)   (0,0)   \n",
    "  98     (1,1)   (1,0)   (0,0)   (1,1)   \n",
    "  99     (1,1)   (1,0)   (0,0)   (1,0)   \n",
    "  100    (1,1)   (1,0)   (0,0)   (1,-1)  \n",
    "  101    (1,1)   (1,0)   (1,1)   (0,0)   \n",
    "  102    (1,1)   (1,0)   (1,1)   (1,1)   \n",
    "  103    (1,1)   (1,0)   (1,1)   (1,0)   \n",
    "  104    (1,1)   (1,0)   (1,1)   (1,-1)  \n",
    "  105    (1,1)   (1,0)   (1,0)   (0,0)   \n",
    "  106    (1,1)   (1,0)   (1,0)   (1,1)   \n",
    "  107    (1,1)   (1,0)   (1,0)   (1,0)   \n",
    "  108    (1,1)   (1,0)   (1,0)   (1,-1)  \n",
    "  109    (1,1)   (1,0)   (1,-1)  (0,0)   \n",
    "  110    (1,1)   (1,0)   (1,-1)  (1,1)   \n",
    "  111    (1,1)   (1,0)   (1,-1)  (1,0)   \n",
    "  112    (1,1)   (1,0)   (1,-1)  (1,-1)  \n",
    "  113    (1,1)   (1,-1)  (0,0)   (0,0)   \n",
    "  114    (1,1)   (1,-1)  (0,0)   (1,1)   \n",
    "  115    (1,1)   (1,-1)  (0,0)   (1,0)   \n",
    "  116    (1,1)   (1,-1)  (0,0)   (1,-1)  \n",
    "  117    (1,1)   (1,-1)  (1,1)   (0,0)   \n",
    "  118    (1,1)   (1,-1)  (1,1)   (1,1)   \n",
    "  119    (1,1)   (1,-1)  (1,1)   (1,0)   \n",
    "  120    (1,1)   (1,-1)  (1,1)   (1,-1)  \n",
    "  121    (1,1)   (1,-1)  (1,0)   (0,0)   \n",
    "  122    (1,1)   (1,-1)  (1,0)   (1,1)   \n",
    "  123    (1,1)   (1,-1)  (1,0)   (1,0)   \n",
    "  124    (1,1)   (1,-1)  (1,0)   (1,-1)  \n",
    "  125    (1,1)   (1,-1)  (1,-1)  (0,0)   \n",
    "  126    (1,1)   (1,-1)  (1,-1)  (1,1)   \n",
    "  127    (1,1)   (1,-1)  (1,-1)  (1,0)   \n",
    "  128    (1,1)   (1,-1)  (1,-1)  (1,-1)  \n",
    "  129    (1,0)   (0,0)   (0,0)   (0,0)   \n",
    "  130    (1,0)   (0,0)   (0,0)   (1,1)   \n",
    "  131    (1,0)   (0,0)   (0,0)   (1,0)   \n",
    "  132    (1,0)   (0,0)   (0,0)   (1,-1)  \n",
    "  133    (1,0)   (0,0)   (1,1)   (0,0)   \n",
    "  134    (1,0)   (0,0)   (1,1)   (1,1)   \n",
    "  135    (1,0)   (0,0)   (1,1)   (1,0)   \n",
    "  136    (1,0)   (0,0)   (1,1)   (1,-1)  \n",
    "  137    (1,0)   (0,0)   (1,0)   (0,0)   \n",
    "  138    (1,0)   (0,0)   (1,0)   (1,1)   \n",
    "  139    (1,0)   (0,0)   (1,0)   (1,0)   \n",
    "  140    (1,0)   (0,0)   (1,0)   (1,-1)  \n",
    "  141    (1,0)   (0,0)   (1,-1)  (0,0)   \n",
    "  142    (1,0)   (0,0)   (1,-1)  (1,1)   \n",
    "  143    (1,0)   (0,0)   (1,-1)  (1,0)   \n",
    "  144    (1,0)   (0,0)   (1,-1)  (1,-1)  \n",
    "  145    (1,0)   (1,1)   (0,0)   (0,0)   \n",
    "  146    (1,0)   (1,1)   (0,0)   (1,1)   \n",
    "  147    (1,0)   (1,1)   (0,0)   (1,0)   \n",
    "  148    (1,0)   (1,1)   (0,0)   (1,-1)  \n",
    "  149    (1,0)   (1,1)   (1,1)   (0,0)   \n",
    "  150    (1,0)   (1,1)   (1,1)   (1,1)   \n",
    "  151    (1,0)   (1,1)   (1,1)   (1,0)   \n",
    "  152    (1,0)   (1,1)   (1,1)   (1,-1)  \n",
    "  153    (1,0)   (1,1)   (1,0)   (0,0)   \n",
    "  154    (1,0)   (1,1)   (1,0)   (1,1)   \n",
    "  155    (1,0)   (1,1)   (1,0)   (1,0)   \n",
    "  156    (1,0)   (1,1)   (1,0)   (1,-1)  \n",
    "  157    (1,0)   (1,1)   (1,-1)  (0,0)   \n",
    "  158    (1,0)   (1,1)   (1,-1)  (1,1)   \n",
    "  159    (1,0)   (1,1)   (1,-1)  (1,0)   \n",
    "  160    (1,0)   (1,1)   (1,-1)  (1,-1)  \n",
    "  161    (1,0)   (1,0)   (0,0)   (0,0)   \n",
    "  162    (1,0)   (1,0)   (0,0)   (1,1)   \n",
    "  163    (1,0)   (1,0)   (0,0)   (1,0)   \n",
    "  164    (1,0)   (1,0)   (0,0)   (1,-1)  \n",
    "  165    (1,0)   (1,0)   (1,1)   (0,0)   \n",
    "  166    (1,0)   (1,0)   (1,1)   (1,1)   \n",
    "  167    (1,0)   (1,0)   (1,1)   (1,0)   \n",
    "  168    (1,0)   (1,0)   (1,1)   (1,-1)  \n",
    "  169    (1,0)   (1,0)   (1,0)   (0,0)   \n",
    "  170    (1,0)   (1,0)   (1,0)   (1,1)   \n",
    "  171    (1,0)   (1,0)   (1,0)   (1,0)   \n",
    "  172    (1,0)   (1,0)   (1,0)   (1,-1)  \n",
    "  173    (1,0)   (1,0)   (1,-1)  (0,0)   \n",
    "  174    (1,0)   (1,0)   (1,-1)  (1,1)   \n",
    "  175    (1,0)   (1,0)   (1,-1)  (1,0)   \n",
    "  176    (1,0)   (1,0)   (1,-1)  (1,-1)  \n",
    "  177    (1,0)   (1,-1)  (0,0)   (0,0)   \n",
    "  178    (1,0)   (1,-1)  (0,0)   (1,1)   \n",
    "  179    (1,0)   (1,-1)  (0,0)   (1,0)   \n",
    "  180    (1,0)   (1,-1)  (0,0)   (1,-1)  \n",
    "  181    (1,0)   (1,-1)  (1,1)   (0,0)   \n",
    "  182    (1,0)   (1,-1)  (1,1)   (1,1)   \n",
    "  183    (1,0)   (1,-1)  (1,1)   (1,0)   \n",
    "  184    (1,0)   (1,-1)  (1,1)   (1,-1)  \n",
    "  185    (1,0)   (1,-1)  (1,0)   (0,0)   \n",
    "  186    (1,0)   (1,-1)  (1,0)   (1,1)   \n",
    "  187    (1,0)   (1,-1)  (1,0)   (1,0)   \n",
    "  188    (1,0)   (1,-1)  (1,0)   (1,-1)  \n",
    "  189    (1,0)   (1,-1)  (1,-1)  (0,0)   \n",
    "  190    (1,0)   (1,-1)  (1,-1)  (1,1)   \n",
    "  191    (1,0)   (1,-1)  (1,-1)  (1,0)   \n",
    "  192    (1,0)   (1,-1)  (1,-1)  (1,-1)  \n",
    "  193    (1,-1)  (0,0)   (0,0)   (0,0)   \n",
    "  194    (1,-1)  (0,0)   (0,0)   (1,1)   \n",
    "  195    (1,-1)  (0,0)   (0,0)   (1,0)   \n",
    "  196    (1,-1)  (0,0)   (0,0)   (1,-1)  \n",
    "  197    (1,-1)  (0,0)   (1,1)   (0,0)   \n",
    "  198    (1,-1)  (0,0)   (1,1)   (1,1)   \n",
    "  199    (1,-1)  (0,0)   (1,1)   (1,0)   \n",
    "  200    (1,-1)  (0,0)   (1,1)   (1,-1)  \n",
    "  201    (1,-1)  (0,0)   (1,0)   (0,0)   \n",
    "  202    (1,-1)  (0,0)   (1,0)   (1,1)   \n",
    "  203    (1,-1)  (0,0)   (1,0)   (1,0)   \n",
    "  204    (1,-1)  (0,0)   (1,0)   (1,-1)  \n",
    "  205    (1,-1)  (0,0)   (1,-1)  (0,0)   \n",
    "  206    (1,-1)  (0,0)   (1,-1)  (1,1)   \n",
    "  207    (1,-1)  (0,0)   (1,-1)  (1,0)   \n",
    "  208    (1,-1)  (0,0)   (1,-1)  (1,-1)  \n",
    "  209    (1,-1)  (1,1)   (0,0)   (0,0)   \n",
    "  210    (1,-1)  (1,1)   (0,0)   (1,1)   \n",
    "  211    (1,-1)  (1,1)   (0,0)   (1,0)   \n",
    "  212    (1,-1)  (1,1)   (0,0)   (1,-1)  \n",
    "  213    (1,-1)  (1,1)   (1,1)   (0,0)   \n",
    "  214    (1,-1)  (1,1)   (1,1)   (1,1)   \n",
    "  215    (1,-1)  (1,1)   (1,1)   (1,0)   \n",
    "  216    (1,-1)  (1,1)   (1,1)   (1,-1)  \n",
    "  217    (1,-1)  (1,1)   (1,0)   (0,0)   \n",
    "  218    (1,-1)  (1,1)   (1,0)   (1,1)   \n",
    "  219    (1,-1)  (1,1)   (1,0)   (1,0)   \n",
    "  220    (1,-1)  (1,1)   (1,0)   (1,-1)  \n",
    "  221    (1,-1)  (1,1)   (1,-1)  (0,0)   \n",
    "  222    (1,-1)  (1,1)   (1,-1)  (1,1)   \n",
    "  223    (1,-1)  (1,1)   (1,-1)  (1,0)   \n",
    "  224    (1,-1)  (1,1)   (1,-1)  (1,-1)  \n",
    "  225    (1,-1)  (1,0)   (0,0)   (0,0)   \n",
    "  226    (1,-1)  (1,0)   (0,0)   (1,1)   \n",
    "  227    (1,-1)  (1,0)   (0,0)   (1,0)   \n",
    "  228    (1,-1)  (1,0)   (0,0)   (1,-1)  \n",
    "  229    (1,-1)  (1,0)   (1,1)   (0,0)   \n",
    "  230    (1,-1)  (1,0)   (1,1)   (1,1)   \n",
    "  231    (1,-1)  (1,0)   (1,1)   (1,0)   \n",
    "  232    (1,-1)  (1,0)   (1,1)   (1,-1)  \n",
    "  233    (1,-1)  (1,0)   (1,0)   (0,0)   \n",
    "  234    (1,-1)  (1,0)   (1,0)   (1,1)   \n",
    "  235    (1,-1)  (1,0)   (1,0)   (1,0)   \n",
    "  236    (1,-1)  (1,0)   (1,0)   (1,-1)  \n",
    "  237    (1,-1)  (1,0)   (1,-1)  (0,0)   \n",
    "  238    (1,-1)  (1,0)   (1,-1)  (1,1)   \n",
    "  239    (1,-1)  (1,0)   (1,-1)  (1,0)   \n",
    "  240    (1,-1)  (1,0)   (1,-1)  (1,-1)  \n",
    "  241    (1,-1)  (1,-1)  (0,0)   (0,0)   \n",
    "  242    (1,-1)  (1,-1)  (0,0)   (1,1)   \n",
    "  243    (1,-1)  (1,-1)  (0,0)   (1,0)   \n",
    "  244    (1,-1)  (1,-1)  (0,0)   (1,-1)  \n",
    "  245    (1,-1)  (1,-1)  (1,1)   (0,0)   \n",
    "  246    (1,-1)  (1,-1)  (1,1)   (1,1)   \n",
    "  247    (1,-1)  (1,-1)  (1,1)   (1,0)   \n",
    "  248    (1,-1)  (1,-1)  (1,1)   (1,-1)  \n",
    "  249    (1,-1)  (1,-1)  (1,0)   (0,0)   \n",
    "  250    (1,-1)  (1,-1)  (1,0)   (1,1)   \n",
    "  251    (1,-1)  (1,-1)  (1,0)   (1,0)   \n",
    "  252    (1,-1)  (1,-1)  (1,0)   (1,-1)  \n",
    "  253    (1,-1)  (1,-1)  (1,-1)  (0,0)   \n",
    "  254    (1,-1)  (1,-1)  (1,-1)  (1,1)   \n",
    "  255    (1,-1)  (1,-1)  (1,-1)  (1,0)   \n",
    "  256    (1,-1)  (1,-1)  (1,-1)  (1,-1)\"\"\"\n"
   ]
  },
  {
   "cell_type": "code",
   "execution_count": 26,
   "metadata": {},
   "outputs": [],
   "source": [
    "data_ala = read_spinach_info(text4)\n",
    "\n",
    "basis_ala = build_list_ISTs(data_ala)\n",
    "prefacts,Symb_ALA_basis = build_symbolic_list_ISTs(data_ala)\n",
    "\n",
    "#Normbasis = NormalizeBasis(basis,n_qubits=4,checkOrth=True) I have verified the orthonormalization of the basis\n",
    "Normbasis_ala = NormalizeBasis(basis_ala,n_qubits=4,checkOrth=False)"
   ]
  },
  {
   "cell_type": "code",
   "execution_count": 13,
   "metadata": {},
   "outputs": [],
   "source": [
    "###Testing a sub-matrix...\n",
    "\n",
    "Sub_norm_basis = np.copy(Normbasis_ala[0:16])\n"
   ]
  },
  {
   "cell_type": "code",
   "execution_count": 28,
   "metadata": {},
   "outputs": [],
   "source": [
    "tc = 0.05e-9 # in seconds\n",
    "gammaH = 2.6752e8\n",
    "\n",
    "w1 = -600344544.5579\n",
    "w2 = -600343524.536\n",
    "w3 = -600343524.536\n",
    "w4 = -600343524.536\n",
    "\n",
    "\n",
    "freqs = np.array([w1,w2,w3,w4])\n",
    "\n",
    "coords = np.array([\n",
    "    [ 0.6861,0.2705,1.5010],\n",
    "    [1.3077, 1.1298, -1.3993],\n",
    "    [0.7905, 2.2125, -0.0860],\n",
    "    [ 2.3693, 1.3798, 0.0233]\n",
    "])\n",
    "\n",
    "coords = coords*1e-10\n",
    "\n",
    "Nspins = 4\n",
    "\n",
    "#R_kiteALA_dev = Kite_relMat(2*np.pi*freqs,tc,coords,Nspins,gammaH,Sub_norm_basis)\n",
    "#R_kite_dev = KiteRelMatrixMany(2*np.pi*freqs,tc,coords,Nspins,gammaH,Sub_norm_basis)\n",
    "rates_ALA,JOps_ALA,Symb_JOps_ALA = Get_RatesAndOps(2*np.pi*freqs,tc,coords,Nspins,gammaH)"
   ]
  },
  {
   "cell_type": "code",
   "execution_count": 14,
   "metadata": {},
   "outputs": [
    {
     "data": {
      "text/plain": [
       "<matplotlib.colorbar.Colorbar at 0x1403cfcd0>"
      ]
     },
     "execution_count": 14,
     "metadata": {},
     "output_type": "execute_result"
    },
    {
     "data": {
      "image/png": "[encoded data removed]",
      "text/plain": [
       "<Figure size 640x480 with 2 Axes>"
      ]
     },
     "metadata": {},
     "output_type": "display_data"
    }
   ],
   "source": [
    "plt.imshow(np.real(R_refALAKite[0:16,0:16]), cmap='viridis', interpolation='nearest')\n",
    "# Add a color bar to show the scale\n",
    "plt.colorbar()"
   ]
  },
  {
   "cell_type": "code",
   "execution_count": 16,
   "metadata": {},
   "outputs": [
    {
     "data": {
      "text/plain": [
       "<matplotlib.colorbar.Colorbar at 0x140815650>"
      ]
     },
     "execution_count": 16,
     "metadata": {},
     "output_type": "execute_result"
    },
    {
     "data": {
      "image/png": "[encoded data removed]",
      "text/plain": [
       "<Figure size 640x480 with 2 Axes>"
      ]
     },
     "metadata": {},
     "output_type": "display_data"
    }
   ],
   "source": [
    "plt.imshow(np.real(R_kite_dev), cmap='viridis', interpolation='nearest')\n",
    "\n",
    "# Add a color bar to show the scale\n",
    "plt.colorbar()\n"
   ]
  },
  {
   "cell_type": "code",
   "execution_count": 17,
   "metadata": {},
   "outputs": [
    {
     "data": {
      "text/plain": [
       "0.1422004244994652"
      ]
     },
     "execution_count": 17,
     "metadata": {},
     "output_type": "execute_result"
    }
   ],
   "source": [
    "np.linalg.norm(R_kite_dev-R_refALAKite[0:16,0:16]) # a good match nbetween the analytically generated Kite matrix and the reference SPinach kite matrix"
   ]
  },
  {
   "cell_type": "code",
   "execution_count": null,
   "metadata": {},
   "outputs": [],
   "source": []
  }
 ],
 "metadata": {
  "kernelspec": {
   "display_name": "BQSKit",
   "language": "python",
   "name": "python3"
  },
  "language_info": {
   "codemirror_mode": {
    "name": "ipython",
    "version": 3
   },
   "file_extension": ".py",
   "mimetype": "text/x-python",
   "name": "python",
   "nbconvert_exporter": "python",
   "pygments_lexer": "ipython3",
   "version": "3.11.5"
  }
 },
 "nbformat": 4,
 "nbformat_minor": 2
}
