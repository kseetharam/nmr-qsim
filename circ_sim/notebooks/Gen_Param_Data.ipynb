{
 "cells": [
  {
   "cell_type": "code",
   "execution_count": 1,
   "metadata": {},
   "outputs": [],
   "source": [
    "#Generation of basis, jump operators and damping rates in latex format, as well as generation of NOESY spectra and FID\n",
    "\n",
    "import sys\n",
    "sys.path.append('./utils/')\n",
    "import numpy as np\n",
    "import scipy.io as spio\n",
    "from scipy.linalg import expm\n",
    "import sys \n",
    "import json\n",
    "#import pandas as pd\n",
    "\n",
    "from basis_utils import read_spinach_info, build_list_ISTs, NormalizeBasis, build_symbolic_list_ISTs,Sz,Sx,Sy,Sz, InnProd\n",
    "from analytical_fit import get_chemical_shifts, Get_Det_And_Rates ,Get_Det_And_Rates_latex,RelMat_from_ops_and_rates\n",
    "from simulation_utils import GenNOESYSpectrum, GenH0_Ham,  HamMatRep\n",
    "import openfermion as of\n",
    "from scipy.io import savemat\n",
    "\n",
    "from matplotlib import pyplot as plt\n"
   ]
  },
  {
   "cell_type": "code",
   "execution_count": 2,
   "metadata": {},
   "outputs": [],
   "source": [
    "def GenH0_Ham_allparam(freqs,Jcoups,Nspins):\n",
    "    \"\"\"\n",
    "    Returns: the zeroth order Hamiltonian considered for dynamical evolution in nthe simulations, in OpenFermion format\n",
    "    Args:\n",
    "    freqs: frequencies, in Hz \n",
    "    Jcoups: matrix of size N x N, N being the number of spins, that encodes the scalar couplings between spins (in Hz)\n",
    "    Nspins: number of spins in the system\n",
    "    \"\"\"\n",
    "\n",
    "    #offset = -46681\n",
    "    #B0 = 9.3933\n",
    "\n",
    "    Hamiltonian = of.QubitOperator()\n",
    "\n",
    "    for i in range(Nspins):\n",
    "        \n",
    "        Hamiltonian+=2*np.pi*freqs[i]*Sz(i)\n",
    "        for j in range(i+1,Nspins):\n",
    "\n",
    "            Hamiltonian+=2*np.pi*Jcoups[i,j]*(Sx(i)*Sx(j)+Sy(i)*Sy(j)+Sz(i)*Sz(j))\n",
    "    \n",
    "    return Hamiltonian\n",
    "\n",
    "\n",
    "\n",
    "def Damp_rate_filt(list_ops,list_damp_rates,thresh=0.1, symb_rate_list = None):\n",
    "    \"\"\"\n",
    "    Filter out the jump operator and damping rates based on a cutoff imposed on the damping rates, all channels below thresh are discarted\n",
    "    \"\"\"\n",
    "    filt_ops = []\n",
    "    filt_rates = []\n",
    "\n",
    "    if symb_rate_list!=None:\n",
    "        filt_symb_rates = []\n",
    "\n",
    "\n",
    "    N = len(list_ops)\n",
    "    for i in range(N):\n",
    "        if np.abs(list_damp_rates[i])> thresh:\n",
    "            filt_ops.append(list_ops[i])\n",
    "            filt_rates.append(list_damp_rates[i])\n",
    "\n",
    "        if symb_rate_list != None:\n",
    "            filt_symb_rates.append(symb_rate_list[i])\n",
    "\n",
    "    if symb_rate_list != None:\n",
    "        return filt_ops,filt_rates, filt_symb_rates\n",
    "    else:\n",
    "        return filt_ops,filt_rates\n",
    "\n",
    "def Rotating_filt(list_jumps,list_damp_rates,list_dets,thresh=1e-6, symb_rate_list=None):\n",
    "\n",
    "    non_rot_jumps = []\n",
    "    non_rot_rates = []\n",
    "\n",
    "    if symb_rate_list != None:\n",
    "        non_rot_symb_rates =[]\n",
    "\n",
    "    for i in range(len(list_jumps)):\n",
    "        if np.abs(list_dets[i]) < thresh:\n",
    "            non_rot_jumps.append(list_jumps[i])\n",
    "            non_rot_rates.append(list_damp_rates[i])\n",
    "\n",
    "            if symb_rate_list != None:\n",
    "                non_rot_symb_rates.append(symb_rate_list[i])\n",
    "\n",
    "    if symb_rate_list != None:\n",
    "        return non_rot_jumps, non_rot_rates, non_rot_symb_rates\n",
    "    else:\n",
    "        return non_rot_jumps, non_rot_rates\n",
    "\n",
    "\n",
    "def Filt_nonrot_and_small(list_jumps,list_damp_rates,list_dets,thresh_rot=1e-6,thresh_sm=0.1, symb_rate_list =None):\n",
    "\n",
    "    #first, filter the \"non-rotating\" jump operators\n",
    "    if symb_rate_list != None:\n",
    "        filt_ops, filt_rates, filt_symb_rates = Rotating_filt(list_jumps,list_damp_rates, list_dets, thresh_rot, symb_rate_list=symb_rate_list)\n",
    "    else:\n",
    "        filt_ops, filt_rates = Rotating_filt(list_jumps,list_damp_rates, list_dets, thresh_rot)\n",
    "\n",
    "    #then filter acoording to the magnitude of the damping rates...\n",
    "    if symb_rate_list != None:\n",
    "        trunc_ops, trunc_rates, trunc_symb_rates = Damp_rate_filt(filt_ops,filt_rates, thresh_sm, symb_rate_list= filt_symb_rates)\n",
    "\n",
    "        return trunc_ops, trunc_rates, trunc_symb_rates\n",
    "    else:\n",
    "        trunc_ops, trunc_rates = Damp_rate_filt(filt_ops,filt_rates, thresh_sm)\n",
    "\n",
    "        return trunc_ops, trunc_rates\n",
    "\n"
   ]
  },
  {
   "cell_type": "code",
   "execution_count": 3,
   "metadata": {},
   "outputs": [],
   "source": [
    "#Functions to construct and format text in latex format...\n",
    "import math\n",
    "import re\n",
    "\n",
    "def round_up(number, decimals=0):\n",
    "    factor = 10 ** decimals\n",
    "    return math.ceil(number * factor) / factor\n",
    "\n",
    "\n",
    "def Gen_diss_param_latex_table(list_jumps,list_symb_rates,list_damp_rates,mol_str,ndecs=2):\n",
    "    \"\"\"\n",
    "    Generation of a latex table that uses the longtable environment \n",
    "    Args:\n",
    "    list_jumps, list of jump operators in latex format\n",
    "    list_symb_rates, list of symbolic rates in latex format\n",
    "    list_damp_rates, list fo damping rates\n",
    "    mol_str, a string to identify the molecule\n",
    "    \"\"\"\n",
    "\n",
    "    Nentries = len(list_jumps)\n",
    "    lines = []\n",
    "    lines.append(r'\\begin{longtable}{|c|c|c|}')\n",
    "    lines.append('\\\\caption{Jump operators and their associated damping rates for'+mol_str+'} \\\\\\\\')\n",
    "    lines.append('\\hline')\n",
    "    lines.append(r'\\textbf{$L_j$} & \\textbf{$\\kappa_j$} & \\textbf{Value (Hz)} \\\\')\n",
    "    lines.append(r'\\hline')\n",
    "    lines.append(r'\\endhead')\n",
    "\n",
    "    for i in range(Nentries):\n",
    "        line = '$'+list_jumps[i]+'$'+' & '+'$'+list_symb_rates[i]+'$'+ ' & '+str(round_up(list_damp_rates[i],ndecs))+'\\\\\\\\\\\\hline'\n",
    "        lines.append(line)\n",
    "        #list_jumps\n",
    "\n",
    "    lines.append(r'\\end{longtable}')\n",
    "    text_to_save = \"\\n\".join(lines)\n",
    "\n",
    "    return text_to_save\n",
    "\n",
    "\n",
    "def basis_to_latex_format(arr):\n",
    "    latex_list = []\n",
    "    \n",
    "    # Regex to capture 'S', an optional superscript (+, -, or z), and a digit index.\n",
    "    pattern = r\"S([+-z]?)(\\d)\"\n",
    "    \n",
    "    for entry in arr:\n",
    "        # Find all matches of S terms in each entry\n",
    "        matches = re.findall(pattern, entry)\n",
    "        \n",
    "        # Convert each match to the LaTeX format\n",
    "        latex_terms = []\n",
    "        for superscript, index in matches:\n",
    "            if superscript == \"z\":\n",
    "                latex_term = f\"S_{{{index}z}}\"\n",
    "            elif superscript == \"+\":\n",
    "                latex_term = f\"S_{{{index}+}}\"\n",
    "            elif superscript == \"-\":\n",
    "                latex_term = f\"S_{{{index}-}}\"\n",
    "            else:\n",
    "                latex_term = f\"S_{{{index}}}\"\n",
    "            latex_terms.append(latex_term)\n",
    "        \n",
    "        # Join terms with spaces and wrap in $ for LaTeX format\n",
    "        latex_str = \"$\" + \" \".join(latex_terms) + \"$\"\n",
    "        latex_list.append(latex_str)\n",
    "    \n",
    "    return latex_list\n",
    "\n",
    "\n",
    "def formattedlist_to_latextable(latex_list,mol_str):\n",
    "    \"\"\"\n",
    "    Generation of a latex table that uses the longtable environment \n",
    "\n",
    "    \"\"\"\n",
    "\n",
    "    Nbasis = len(latex_list)\n",
    "    lines = []\n",
    "\n",
    "    lines.append(r'\\begin{longtable}{|c|c|}')\n",
    "    lines.append(r'\\caption{Basis operators for '+mol_str+' } \\\\')\n",
    "    lines.append(r'\\hline')\n",
    "    lines.append(r'\\textbf{Operator} & \\textbf{Index}\\\\')\n",
    "    lines.append(r'\\hline')\n",
    "    lines.append(r'\\endhead')\n",
    "\n",
    "    for i in range(Nbasis):\n",
    "        line = latex_list[i]+' & '+str(i)+' \\\\\\\\\\\\hline'\n",
    "        lines.append(line)\n",
    "\n",
    "    lines.append(r'\\end{longtable}')\n",
    "\n",
    "    text_to_save = \"\\n\".join(lines)\n",
    "\n",
    "    return text_to_save\n",
    "\n",
    "\n",
    "def basis_to_latextable(arr,mol_str):\n",
    "    latex_list = basis_to_latex_format(arr)\n",
    "    \n",
    "    return formattedlist_to_latextable(latex_list,mol_str)\n",
    "\n",
    "\n",
    "\n",
    "def filter_jumps(list_jumps,list_symb_rates,list_damp_rates,list_dets,thresh):\n",
    "    filt_jump_ops = []\n",
    "    filt_damp_rates = []\n",
    "    filt_symb_rates = []\n",
    "    #thresh = 370\n",
    "    for i in range(len(list_dets)):\n",
    "        if np.abs(list_dets[i])<thresh:\n",
    "            filt_jump_ops.append(list_jumps[i])\n",
    "            filt_symb_rates.append(list_symb_rates[i])\n",
    "            filt_damp_rates.append(list_damp_rates[i])\n",
    "\n",
    "    return filt_jump_ops, filt_symb_rates, filt_damp_rates\n",
    "\n",
    "def SaveNOESYData(tmix,t_grid1,t_grid2,rho0,Ham,R,FID,path):\n",
    "    \"\"\"\n",
    "    path corresponds to the path where the data is saved... \n",
    "    \"\"\"\n",
    "    data = {\n",
    "    \"constants\": {\n",
    "        \"tmix\": tmix\n",
    "    },\n",
    "    \"vectors\": {\n",
    "    \"t_grid1\": np.array(np.real(t_grid1)).tolist(),\n",
    "    \"t_grid2\": np.array(np.real(t_grid2)).tolist(),\n",
    "    \"rho0\": np.array(np.real(rho0)).tolist(),\n",
    "    },\n",
    "    \"matrices\": {\n",
    "        \"Ham\":np.array(np.real(Ham)).tolist(),\n",
    "        \"R\": np.array(np.real(R)).tolist(),\n",
    "        \"FID_real\":np.array(np.real(FID)).tolist(),\n",
    "        \"FID_imag\": np.array(np.imag(FID)).tolist()\n",
    "    }\n",
    "    }\n",
    "\n",
    "    # Save to JSON file\n",
    "    with open(path, \"w\") as f:\n",
    "        json.dump(data, f, indent=4)\n",
    "\n",
    "\n"
   ]
  },
  {
   "cell_type": "markdown",
   "metadata": {},
   "source": [
    "# DFG case"
   ]
  },
  {
   "cell_type": "code",
   "execution_count": 6,
   "metadata": {},
   "outputs": [],
   "source": [
    "#translation of basis format in Spinach to symbolic form\n",
    "text=\"\"\"1      (0,0)   (0,0)   \n",
    "  2      (0,0)   (1,1)   \n",
    "  3      (0,0)   (1,0)   \n",
    "  4      (0,0)   (1,-1)  \n",
    "  5      (1,1)   (0,0)   \n",
    "  6      (1,1)   (1,1)   \n",
    "  7      (1,1)   (1,0)   \n",
    "  8      (1,1)   (1,-1)  \n",
    "  9      (1,0)   (0,0)   \n",
    "  10     (1,0)   (1,1)   \n",
    "  11     (1,0)   (1,0)   \n",
    "  12     (1,0)   (1,-1)  \n",
    "  13     (1,-1)  (0,0)   \n",
    "  14     (1,-1)  (1,1)   \n",
    "  15     (1,-1)  (1,0)   \n",
    "  16     (1,-1)  (1,-1)  \n",
    "\"\"\"\n",
    "\n",
    "data = read_spinach_info(text)\n",
    "\n",
    "basis = build_list_ISTs(data)\n",
    "prefacts,Symb_basis = build_symbolic_list_ISTs(data)\n",
    "\n",
    "#Normbasis = NormalizeBasis(basis,n_qubits=4,checkOrth=True) I have verified the orthonormalization of the basis\n",
    "Normbasis = NormalizeBasis(basis,n_qubits=2,checkOrth=True)\n",
    "#Normbasis = np.array(Normbasis)"
   ]
  },
  {
   "cell_type": "code",
   "execution_count": 7,
   "metadata": {},
   "outputs": [
    {
     "data": {
      "text/plain": [
       "(0.9999999999999998+0j)"
      ]
     },
     "execution_count": 7,
     "metadata": {},
     "output_type": "execute_result"
    }
   ],
   "source": [
    "InnProd(Normbasis[1],Normbasis[1])"
   ]
  },
  {
   "cell_type": "code",
   "execution_count": 53,
   "metadata": {},
   "outputs": [],
   "source": [
    "#For completeness, calculation of the coherent part of the Hamiltonian...\n",
    "offset = -46681\n",
    "B0 = 9.3933\n",
    "zeeman_scalar_1 = -113.8796\n",
    "zeeman_scalar_2 = -129.8002\n",
    "zeeman_scalars = [zeeman_scalar_1,zeeman_scalar_2]\n",
    "Jcoup = 238.0633\n",
    "Jcoups = np.zeros([2,2])\n",
    "Jcoups[0,1] = Jcoup\n",
    "gammaF = 251814800\n",
    "\n",
    "\n",
    "#GenH0_Ham(offset,B0,zeeman_scalars,Jcoups,gammaF)\n",
    "\n",
    "#freqs = [-2996.74,2996.74] # we were missing a factor of 2!\n",
    "freqs = [0.0,2*2996.74]\n",
    "#freqs = [-11968.88/(2*np.pi),6860.19/(2*np.pi)]\n",
    "\n",
    "H0_Ham_dfg = GenH0_Ham_allparam(freqs,Jcoups,2)\n",
    "\n",
    "#zeeman_scalars = [0.0,-15.920]\n",
    "zeeman_scalars = [0.0, -15.920599]\n",
    "offset=0.0\n",
    "\n",
    "H0_dfg_ref = GenH0_Ham(offset,B0,zeeman_scalars,Jcoups,gammaF)\n",
    "\n",
    "\n",
    "#H0_dfg_frame =  HamMatRep(H0_Ham_dfg,Normbasis,n_qubits=2)\n",
    "\n",
    "#H0_dfg_frame =  HamMatRep(H0_Ham_dfg,Normbasis)\n",
    "H0_dfg_frame =  HamMatRep(H0_dfg_ref,Normbasis)\n",
    "\n",
    "\n",
    "savemat('H0_dfg_frame.mat', {'H0_dfg': H0_dfg_frame})\n",
    "\n",
    "loadMat = spio.loadmat('../matlab_analysis/DFG_secular.mat',squeeze_me=True)\n",
    "\n",
    "Ham = loadMat['p']['H'].item()\n",
    "\n"
   ]
  },
  {
   "cell_type": "code",
   "execution_count": 54,
   "metadata": {},
   "outputs": [
    {
     "data": {
      "text/plain": [
       "373.9489571846715 [X0 X1] +\n",
       "373.9489571846715 [Y0 Y1] +\n",
       "373.9489571846715 [Z0 Z1] +\n",
       "18829.069237188673 [Z1]"
      ]
     },
     "execution_count": 54,
     "metadata": {},
     "output_type": "execute_result"
    }
   ],
   "source": [
    "H0_dfg_ref"
   ]
  },
  {
   "cell_type": "code",
   "execution_count": 51,
   "metadata": {},
   "outputs": [
    {
     "data": {
      "text/plain": [
       "373.9489571846715 [X0 X1] +\n",
       "373.9489571846715 [Y0 Y1] +\n",
       "373.9489571846715 [Z0 Z1] +\n",
       "18828.3608082864 [Z1]"
      ]
     },
     "execution_count": 51,
     "metadata": {},
     "output_type": "execute_result"
    }
   ],
   "source": [
    "H0_dfg_ref"
   ]
  },
  {
   "cell_type": "code",
   "execution_count": 47,
   "metadata": {},
   "outputs": [
    {
     "data": {
      "text/plain": [
       "18828.821410025066"
      ]
     },
     "execution_count": 47,
     "metadata": {},
     "output_type": "execute_result"
    }
   ],
   "source": [
    "2996.7*2*np.pi"
   ]
  },
  {
   "cell_type": "code",
   "execution_count": 52,
   "metadata": {},
   "outputs": [
    {
     "data": {
      "text/plain": [
       "8.615408772583885e-07"
      ]
     },
     "execution_count": 52,
     "metadata": {},
     "output_type": "execute_result"
    }
   ],
   "source": [
    "np.linalg.norm(Ham-H0_dfg_frame)"
   ]
  },
  {
   "cell_type": "code",
   "execution_count": 22,
   "metadata": {},
   "outputs": [
    {
     "data": {
      "text/plain": [
       "2183.6662980991787"
      ]
     },
     "execution_count": 22,
     "metadata": {},
     "output_type": "execute_result"
    }
   ],
   "source": [
    "6860.190*2/(2*np.pi)"
   ]
  },
  {
   "cell_type": "code",
   "execution_count": 25,
   "metadata": {},
   "outputs": [
    {
     "data": {
      "text/plain": [
       "-576393.366343099"
      ]
     },
     "execution_count": 25,
     "metadata": {},
     "output_type": "execute_result"
    }
   ],
   "source": [
    "-243.6798*gammaF*B0/1e6"
   ]
  },
  {
   "cell_type": "code",
   "execution_count": 35,
   "metadata": {},
   "outputs": [
    {
     "data": {
      "text/plain": [
       "373.9489571846715 [X0 X1] +\n",
       "373.9489571846715 [Y0 Y1] +\n",
       "373.9489571846715 [Z0 Z1] +\n",
       "18829.05859301485 [Z1]"
      ]
     },
     "execution_count": 35,
     "metadata": {},
     "output_type": "execute_result"
    }
   ],
   "source": [
    "H0_dfg_ref"
   ]
  },
  {
   "cell_type": "code",
   "execution_count": 33,
   "metadata": {},
   "outputs": [
    {
     "data": {
      "text/plain": [
       "373.9489571846715 [X0 X1] +\n",
       "373.9489571846715 [Y0 Y1] +\n",
       "373.9489571846715 [Z0 Z1] +\n",
       "-18829.05859301485 [Z1]"
      ]
     },
     "execution_count": 33,
     "metadata": {},
     "output_type": "execute_result"
    }
   ],
   "source": [
    "H0_dfg_ref"
   ]
  },
  {
   "cell_type": "code",
   "execution_count": 29,
   "metadata": {},
   "outputs": [
    {
     "data": {
      "text/plain": [
       "15.920599991650654"
      ]
     },
     "execution_count": 29,
     "metadata": {},
     "output_type": "execute_result"
    }
   ],
   "source": [
    "1e6*2*(11968.88028+6860.19013)/(251814800*B0)"
   ]
  },
  {
   "cell_type": "code",
   "execution_count": 15,
   "metadata": {},
   "outputs": [
    {
     "data": {
      "text/plain": [
       "18829.0704197"
      ]
     },
     "execution_count": 15,
     "metadata": {},
     "output_type": "execute_result"
    }
   ],
   "source": [
    "11968.8802863+6860.1901334"
   ]
  },
  {
   "cell_type": "code",
   "execution_count": 18,
   "metadata": {},
   "outputs": [
    {
     "data": {
      "text/plain": [
       "373.9489571846715 [X0 X1] +\n",
       "373.9489571846715 [Y0 Y1] +\n",
       "-9414.536368718676 [Z0] +\n",
       "373.9489571846715 [Z0 Z1] +\n",
       "9414.536368718676 [Z1]"
      ]
     },
     "execution_count": 18,
     "metadata": {},
     "output_type": "execute_result"
    }
   ],
   "source": [
    "H0_Ham_dfg "
   ]
  },
  {
   "cell_type": "code",
   "execution_count": 76,
   "metadata": {},
   "outputs": [],
   "source": [
    "loadMat = spio.loadmat('./data/DFG.mat',squeeze_me=True)\n",
    "\n",
    "Ham = loadMat['p']['H'].item()\n"
   ]
  },
  {
   "cell_type": "code",
   "execution_count": 40,
   "metadata": {},
   "outputs": [
    {
     "data": {
      "text/plain": [
       "<matplotlib.colorbar.Colorbar at 0x1366a6410>"
      ]
     },
     "execution_count": 40,
     "metadata": {},
     "output_type": "execute_result"
    },
    {
     "data": {
      "image/png": "[encoded data removed]",
      "text/plain": [
       "<Figure size 640x480 with 2 Axes>"
      ]
     },
     "metadata": {},
     "output_type": "display_data"
    }
   ],
   "source": [
    "plt.imshow(np.real(Ham-H0_dfg_frame), cmap='viridis', interpolation='nearest')\n",
    "# Add a color bar to sh-1j*ow the scale\n",
    "plt.colorbar()"
   ]
  },
  {
   "cell_type": "code",
   "execution_count": 39,
   "metadata": {},
   "outputs": [
    {
     "data": {
      "text/plain": [
       "<matplotlib.colorbar.Colorbar at 0x13659e410>"
      ]
     },
     "execution_count": 39,
     "metadata": {},
     "output_type": "execute_result"
    },
    {
     "data": {
      "image/png": "[encoded data removed]",
      "text/plain": [
       "<Figure size 640x480 with 2 Axes>"
      ]
     },
     "metadata": {},
     "output_type": "display_data"
    }
   ],
   "source": [
    "plt.imshow(np.real(H0_dfg_frame), cmap='viridis', interpolation='nearest')\n",
    "# Add a color bar to sh-1j*ow the scale\n",
    "plt.colorbar()"
   ]
  },
  {
   "cell_type": "code",
   "execution_count": null,
   "metadata": {},
   "outputs": [],
   "source": []
  },
  {
   "cell_type": "code",
   "execution_count": 88,
   "metadata": {},
   "outputs": [
    {
     "data": {
      "text/plain": [
       "6.28069997787362e-07"
      ]
     },
     "execution_count": 88,
     "metadata": {},
     "output_type": "execute_result"
    }
   ],
   "source": [
    "np.linalg.norm(Ham-4*H0_dfg_frame)"
   ]
  },
  {
   "cell_type": "code",
   "execution_count": 80,
   "metadata": {},
   "outputs": [
    {
     "data": {
      "text/plain": [
       "373.9489571846715 [X0 X1] +\n",
       "373.9489571846715 [Y0 Y1] +\n",
       "-11968.88028638772 [Z0] +\n",
       "373.9489571846715 [Z0 Z1] +\n",
       "6860.190133486933 [Z1]"
      ]
     },
     "execution_count": 80,
     "metadata": {},
     "output_type": "execute_result"
    }
   ],
   "source": [
    "H0_dfg_ref"
   ]
  },
  {
   "cell_type": "code",
   "execution_count": 69,
   "metadata": {},
   "outputs": [
    {
     "data": {
      "text/plain": [
       "18829.07"
      ]
     },
     "execution_count": 69,
     "metadata": {},
     "output_type": "execute_result"
    }
   ],
   "source": [
    "6860.190+11968.88"
   ]
  },
  {
   "cell_type": "code",
   "execution_count": 18,
   "metadata": {},
   "outputs": [],
   "source": [
    "#parameters of the model for determination of jump operators and their associated damping rates...\n",
    "\n",
    "gammaF = 251814800\n",
    "coord1 = np.array([-0.0551,-1.2087,-1.6523])*1e-10\n",
    "coord2 = np.array([-0.8604 ,-2.3200 ,-0.0624])*1e-10\n",
    "\n",
    "coords = np.array([coord1,coord2])\n",
    "\n",
    "w1 = -376417768.6316 \n",
    "w2 = -376411775.1523 \n",
    "freqs = np.array([w1,w2])\n",
    "tc = 0.5255e-9\n",
    "B0 = 9.3933\n",
    "\n",
    "zeeman_scalar_1 = -113.8796\n",
    "zeeman_scalar_2 = -129.8002\n",
    "zeeman_scalars = [zeeman_scalar_1,zeeman_scalar_2]\n",
    "\n",
    "#w0*zeeman_scalars[i]/1e6\n",
    "chem_shifts = get_chemical_shifts(gammaF,B0,zeeman_scalars)\n",
    "Nspins = 2\n",
    "\n",
    "list_jumps, list_symb_rates, list_damp_rates, list_dets = Get_Det_And_Rates_latex(2*np.pi*freqs,tc,coords,Nspins,gammaF,chem_shifts)\n",
    "list_jumps_old, list_damp_rates_old, list_dets_old = Get_Det_And_Rates(2*np.pi*freqs,tc,coords,Nspins,gammaF,chem_shifts)\n",
    "list_damp_rates_old = np.array(list_damp_rates_old)/4.0\n",
    "#generate relxation matrix and save in MATLAB format...\n",
    "thresh=1e-6\n",
    "\n",
    "non_rot_jumps = []\n",
    "non_rot_rates = []\n",
    "for i in range(len(list_jumps_old)):\n",
    "    if np.abs(list_dets_old[i]) < thresh:\n",
    "        non_rot_jumps.append(list_jumps_old[i])\n",
    "        non_rot_rates.append(list_damp_rates_old[i])\n",
    "\n",
    "\n",
    "\n",
    "filt_jumps,filt_rates = Damp_rate_filt(non_rot_jumps,non_rot_rates, thresh=1.0)\n",
    "\n",
    "R_approx_damp1 = RelMat_from_ops_and_rates(filt_jumps,filt_rates,Normbasis,Nspins)\n",
    "\n",
    "\n",
    "#R_sec = RelMat_from_ops_and_rates(list_jumps_old,list_damp_rates_old,Normbasis,Nspins)"
   ]
  },
  {
   "cell_type": "code",
   "execution_count": 24,
   "metadata": {},
   "outputs": [
    {
     "data": {
      "text/plain": [
       "37658.14083974931"
      ]
     },
     "execution_count": 24,
     "metadata": {},
     "output_type": "execute_result"
    }
   ],
   "source": [
    "chem_shifts[1]-chem_shifts[0]"
   ]
  },
  {
   "cell_type": "code",
   "execution_count": 25,
   "metadata": {},
   "outputs": [
    {
     "data": {
      "text/plain": [
       "-37658.141076784006"
      ]
     },
     "execution_count": 25,
     "metadata": {},
     "output_type": "execute_result"
    }
   ],
   "source": [
    "(-376417768.6316+376411775.1523)*2*np.pi"
   ]
  },
  {
   "cell_type": "code",
   "execution_count": 164,
   "metadata": {},
   "outputs": [],
   "source": [
    "trunc_jumps, trunc_rates, trunc_symb_rates = Filt_nonrot_and_small(list_jumps,list_damp_rates,list_dets,thresh_rot=1e-6,thresh_sm=1.0,symb_rate_list=list_symb_rates)\n",
    "\n",
    "text_dfg_diss = Gen_diss_param_latex_table(trunc_jumps,trunc_symb_rates,trunc_rates,'DFG',ndecs=3)\n",
    "\n"
   ]
  },
  {
   "cell_type": "code",
   "execution_count": 166,
   "metadata": {},
   "outputs": [],
   "source": [
    "with open(\"./data/maxtrunc_jumps_dfg.txt\", \"w\") as file:\n",
    "    file.write(text_dfg_diss)"
   ]
  },
  {
   "cell_type": "code",
   "execution_count": 128,
   "metadata": {},
   "outputs": [],
   "source": [
    "#savemat('R_dfg_app1.mat', {'R_1_app': 4*R_approx_damp1})"
   ]
  },
  {
   "cell_type": "code",
   "execution_count": 130,
   "metadata": {},
   "outputs": [],
   "source": [
    "###Bug in the calculation of relaxation out of operators and list of rates\n"
   ]
  },
  {
   "cell_type": "code",
   "execution_count": null,
   "metadata": {},
   "outputs": [],
   "source": []
  },
  {
   "cell_type": "code",
   "execution_count": 114,
   "metadata": {},
   "outputs": [
    {
     "data": {
      "text/plain": [
       "<matplotlib.colorbar.Colorbar at 0x13d937f10>"
      ]
     },
     "execution_count": 114,
     "metadata": {},
     "output_type": "execute_result"
    },
    {
     "data": {
      "image/png": "[encoded data removed]",
      "text/plain": [
       "<Figure size 640x480 with 2 Axes>"
      ]
     },
     "metadata": {},
     "output_type": "display_data"
    }
   ],
   "source": [
    "plt.imshow(np.real(4*R_sec), cmap='viridis', interpolation='nearest')\n",
    "# Add a color bar to sh-1j*ow the scale\n",
    "plt.colorbar()"
   ]
  },
  {
   "cell_type": "code",
   "execution_count": 120,
   "metadata": {},
   "outputs": [
    {
     "data": {
      "text/plain": [
       "([['S0+S1+', 'S0-S1-'],\n",
       "  ['S0-S1-', 'S0+S1+'],\n",
       "  ['S0zS1+', 'S0zS1-'],\n",
       "  ['S0zS1-', 'S0zS1+'],\n",
       "  ['S0+S1z', 'S0zS1-'],\n",
       "  ['S0zS1-', 'S0+S1z'],\n",
       "  ['S0+S1z', 'S0-S1z'],\n",
       "  ['S0-S1z', 'S0+S1z'],\n",
       "  ['S0zS1+', 'S0-S1z'],\n",
       "  ['S0-S1z', 'S0zS1+'],\n",
       "  ['S0zS1z', 'S0zS1z'],\n",
       "  ['S0+S1-', 'S0zS1z'],\n",
       "  ['S0zS1z', 'S0+S1-'],\n",
       "  ['S0zS1z', 'S0-S1+'],\n",
       "  ['S0-S1+', 'S0zS1z'],\n",
       "  ['S0+S1-', 'S0-S1+'],\n",
       "  ['S0-S1+', 'S0+S1-'],\n",
       "  ['S0-S1+', 'S0-S1+'],\n",
       "  ['S0-S1+', 'S0-S1+']],\n",
       " array([ 0.11440129,  0.11440129,  0.32273715,  0.32273715,  0.32273715,\n",
       "         0.32273715,  0.32273091,  0.32273091,  0.32273091,  0.32273091,\n",
       "         2.19001282, -0.54750321, -0.54750321, -0.5475032 , -0.5475032 ,\n",
       "         0.1368758 ,  0.1368758 ,  0.1368758 ,  0.1368758 ]))"
      ]
     },
     "execution_count": 120,
     "metadata": {},
     "output_type": "execute_result"
    }
   ],
   "source": [
    "list_jumps_old, list_damp_rates_old"
   ]
  },
  {
   "cell_type": "code",
   "execution_count": 17,
   "metadata": {},
   "outputs": [
    {
     "data": {
      "text/plain": [
       "0.15915494309189535"
      ]
     },
     "execution_count": 17,
     "metadata": {},
     "output_type": "execute_result"
    }
   ],
   "source": [
    "1/(2*np.pi)"
   ]
  },
  {
   "cell_type": "code",
   "execution_count": 115,
   "metadata": {},
   "outputs": [
    {
     "data": {
      "text/plain": [
       "<matplotlib.colorbar.Colorbar at 0x13da866d0>"
      ]
     },
     "execution_count": 115,
     "metadata": {},
     "output_type": "execute_result"
    },
    {
     "data": {
      "image/png": "[encoded data removed]",
      "text/plain": [
       "<Figure size 640x480 with 2 Axes>"
      ]
     },
     "metadata": {},
     "output_type": "display_data"
    }
   ],
   "source": [
    "plt.imshow(np.real(4*R_approx_damp1), cmap='viridis', interpolation='nearest')\n",
    "# Add a color bar to sh-1j*ow the scale\n",
    "plt.colorbar()"
   ]
  },
  {
   "cell_type": "code",
   "execution_count": 103,
   "metadata": {},
   "outputs": [
    {
     "data": {
      "text/plain": [
       "-37658.14083974931"
      ]
     },
     "execution_count": 103,
     "metadata": {},
     "output_type": "execute_result"
    }
   ],
   "source": [
    "\n",
    "chem_shifts[0]-chem_shifts[1]"
   ]
  },
  {
   "cell_type": "code",
   "execution_count": 94,
   "metadata": {},
   "outputs": [
    {
     "data": {
      "text/plain": [
       "(20, 20, 20, 20)"
      ]
     },
     "execution_count": 94,
     "metadata": {},
     "output_type": "execute_result"
    }
   ],
   "source": [
    "len(list_jumps), len(list_symb_rates), len(list_damp_rates), len(list_dets)"
   ]
  },
  {
   "cell_type": "code",
   "execution_count": 16,
   "metadata": {},
   "outputs": [],
   "source": [
    "#filter jump operators and rates...\n",
    "filt_jumps,filt_symb_rates,filt_rates = filter_jumps(list_jumps,list_symb_rates,list_damp_rates,list_dets,thresh=1e-6)\n",
    "\n",
    "\n",
    "text_dfg_diss = Gen_diss_param_latex_table(filt_jumps,filt_symb_rates,filt_rates,'DFG',ndecs=3)\n",
    "\n",
    "text_dfg_basis = basis_to_latextable(Symb_basis,'DFG')"
   ]
  },
  {
   "cell_type": "code",
   "execution_count": 18,
   "metadata": {},
   "outputs": [],
   "source": [
    "###saving in text files...\n",
    "with open(\"./data/jumps_dfg.txt\", \"w\") as file:\n",
    "    file.write(text_dfg_diss)\n",
    "\n",
    "with open(\"./data/basis_dfg.txt\", \"w\") as file:\n",
    "    file.write(text_dfg_basis)"
   ]
  },
  {
   "cell_type": "code",
   "execution_count": 55,
   "metadata": {},
   "outputs": [],
   "source": [
    "#Generation and saving of NOESY data...\n",
    "loadMat = spio.loadmat('./data/DFG.mat',squeeze_me=True)\n",
    "AuxMats = spio.loadmat('./data/DFG_NOESYmatrices.mat',squeeze_me=True)\n",
    "\n",
    "###These are the parameters generated by Spinach\n",
    "Ham = loadMat['p']['H'].item()\n",
    "R = loadMat['p']['R'].item() # We can substitute this by any approximation to the relaxation matrix\n",
    "t_grid1 = loadMat['p']['time_grid1'].item()\n",
    "t_grid2 = loadMat['p']['time_grid2'].item()\n",
    "\n",
    "###Dynamical evolution for calculation of 2D spectra...\n",
    "##TODO: we can simply modify the script to incorporate 1) retrieval of synthesized circuits,\n",
    "#and 2) the already-developed circuit simulator\n",
    "\n",
    "Tpts1 = len(t_grid1)\n",
    "Tpts2 = len(t_grid2)\n",
    "\n",
    "Dim = Ham.shape[0]\n",
    "\n",
    "rho0 = np.array(AuxMats['rho0'].toarray())\n",
    "rho0 = rho0.flatten()\n",
    "coil = AuxMats['coil']\n",
    "\n",
    "\n",
    "tmix = 0.5\n",
    "dt1 = 1.1561e-04\n",
    "dt2 = 1.1561e-04\n",
    "\n",
    "##Parameters for Fourier transform\n",
    "zerofill1 = 1024\n",
    "zerofill2 = 1024\n",
    "\n",
    "##Definition of pulses in the experiment...\n",
    "#This also depends on the definition of the basis....\n",
    "Lx = AuxMats['Lx'].toarray()\n",
    "Ly = AuxMats['Ly'].toarray()\n",
    "\n",
    "#Spectrum, FID = GenNOESYSpectrum(Ham,R,Tpts1,Tpts2,rho0,coil,tmix,dt1,dt2,zerofill1,zerofill2,Lx,Ly)\n"
   ]
  },
  {
   "cell_type": "code",
   "execution_count": null,
   "metadata": {},
   "outputs": [],
   "source": []
  },
  {
   "cell_type": "code",
   "execution_count": 30,
   "metadata": {},
   "outputs": [],
   "source": [
    "#Save noesy data as a JSON file\n",
    "SaveNOESYData(tmix,t_grid1,t_grid2,rho0,Ham,R,FID,'./data/DFG_NOESY_dat.json')"
   ]
  },
  {
   "cell_type": "markdown",
   "metadata": {},
   "source": [
    "# The Alanine case"
   ]
  },
  {
   "cell_type": "code",
   "execution_count": 29,
   "metadata": {},
   "outputs": [],
   "source": [
    "text4=\"\"\"1      (0,0)   (0,0)   (0,0)   (0,0)   \n",
    "  2      (0,0)   (0,0)   (0,0)   (1,1)   \n",
    "  3      (0,0)   (0,0)   (0,0)   (1,0)   \n",
    "  4      (0,0)   (0,0)   (0,0)   (1,-1)  \n",
    "  5      (0,0)   (0,0)   (1,1)   (0,0)   \n",
    "  6      (0,0)   (0,0)   (1,1)   (1,1)   \n",
    "  7      (0,0)   (0,0)   (1,1)   (1,0)   \n",
    "  8      (0,0)   (0,0)   (1,1)   (1,-1)  \n",
    "  9      (0,0)   (0,0)   (1,0)   (0,0)   \n",
    "  10     (0,0)   (0,0)   (1,0)   (1,1)   \n",
    "  11     (0,0)   (0,0)   (1,0)   (1,0)   \n",
    "  12     (0,0)   (0,0)   (1,0)   (1,-1)  \n",
    "  13     (0,0)   (0,0)   (1,-1)  (0,0)   \n",
    "  14     (0,0)   (0,0)   (1,-1)  (1,1)   \n",
    "  15     (0,0)   (0,0)   (1,-1)  (1,0)   \n",
    "  16     (0,0)   (0,0)   (1,-1)  (1,-1)  \n",
    "  17     (0,0)   (1,1)   (0,0)   (0,0)   \n",
    "  18     (0,0)   (1,1)   (0,0)   (1,1)   \n",
    "  19     (0,0)   (1,1)   (0,0)   (1,0)   \n",
    "  20     (0,0)   (1,1)   (0,0)   (1,-1)  \n",
    "  21     (0,0)   (1,1)   (1,1)   (0,0)   \n",
    "  22     (0,0)   (1,1)   (1,1)   (1,1)   \n",
    "  23     (0,0)   (1,1)   (1,1)   (1,0)   \n",
    "  24     (0,0)   (1,1)   (1,1)   (1,-1)  \n",
    "  25     (0,0)   (1,1)   (1,0)   (0,0)   \n",
    "  26     (0,0)   (1,1)   (1,0)   (1,1)   \n",
    "  27     (0,0)   (1,1)   (1,0)   (1,0)   \n",
    "  28     (0,0)   (1,1)   (1,0)   (1,-1)  \n",
    "  29     (0,0)   (1,1)   (1,-1)  (0,0)   \n",
    "  30     (0,0)   (1,1)   (1,-1)  (1,1)   \n",
    "  31     (0,0)   (1,1)   (1,-1)  (1,0)   \n",
    "  32     (0,0)   (1,1)   (1,-1)  (1,-1)  \n",
    "  33     (0,0)   (1,0)   (0,0)   (0,0)   \n",
    "  34     (0,0)   (1,0)   (0,0)   (1,1)   \n",
    "  35     (0,0)   (1,0)   (0,0)   (1,0)   \n",
    "  36     (0,0)   (1,0)   (0,0)   (1,-1)  \n",
    "  37     (0,0)   (1,0)   (1,1)   (0,0)   \n",
    "  38     (0,0)   (1,0)   (1,1)   (1,1)   \n",
    "  39     (0,0)   (1,0)   (1,1)   (1,0)   \n",
    "  40     (0,0)   (1,0)   (1,1)   (1,-1)  \n",
    "  41     (0,0)   (1,0)   (1,0)   (0,0)   \n",
    "  42     (0,0)   (1,0)   (1,0)   (1,1)   \n",
    "  43     (0,0)   (1,0)   (1,0)   (1,0)   \n",
    "  44     (0,0)   (1,0)   (1,0)   (1,-1)  \n",
    "  45     (0,0)   (1,0)   (1,-1)  (0,0)   \n",
    "  46     (0,0)   (1,0)   (1,-1)  (1,1)   \n",
    "  47     (0,0)   (1,0)   (1,-1)  (1,0)   \n",
    "  48     (0,0)   (1,0)   (1,-1)  (1,-1)  \n",
    "  49     (0,0)   (1,-1)  (0,0)   (0,0)   \n",
    "  50     (0,0)   (1,-1)  (0,0)   (1,1)   \n",
    "  51     (0,0)   (1,-1)  (0,0)   (1,0)   \n",
    "  52     (0,0)   (1,-1)  (0,0)   (1,-1)  \n",
    "  53     (0,0)   (1,-1)  (1,1)   (0,0)   \n",
    "  54     (0,0)   (1,-1)  (1,1)   (1,1)   \n",
    "  55     (0,0)   (1,-1)  (1,1)   (1,0)   \n",
    "  56     (0,0)   (1,-1)  (1,1)   (1,-1)  \n",
    "  57     (0,0)   (1,-1)  (1,0)   (0,0)   \n",
    "  58     (0,0)   (1,-1)  (1,0)   (1,1)   \n",
    "  59     (0,0)   (1,-1)  (1,0)   (1,0)   \n",
    "  60     (0,0)   (1,-1)  (1,0)   (1,-1)  \n",
    "  61     (0,0)   (1,-1)  (1,-1)  (0,0)   \n",
    "  62     (0,0)   (1,-1)  (1,-1)  (1,1)   \n",
    "  63     (0,0)   (1,-1)  (1,-1)  (1,0)   \n",
    "  64     (0,0)   (1,-1)  (1,-1)  (1,-1)  \n",
    "  65     (1,1)   (0,0)   (0,0)   (0,0)   \n",
    "  66     (1,1)   (0,0)   (0,0)   (1,1)   \n",
    "  67     (1,1)   (0,0)   (0,0)   (1,0)   \n",
    "  68     (1,1)   (0,0)   (0,0)   (1,-1)  \n",
    "  69     (1,1)   (0,0)   (1,1)   (0,0)   \n",
    "  70     (1,1)   (0,0)   (1,1)   (1,1)   \n",
    "  71     (1,1)   (0,0)   (1,1)   (1,0)   \n",
    "  72     (1,1)   (0,0)   (1,1)   (1,-1)  \n",
    "  73     (1,1)   (0,0)   (1,0)   (0,0)   \n",
    "  74     (1,1)   (0,0)   (1,0)   (1,1)   \n",
    "  75     (1,1)   (0,0)   (1,0)   (1,0)   \n",
    "  76     (1,1)   (0,0)   (1,0)   (1,-1)  \n",
    "  77     (1,1)   (0,0)   (1,-1)  (0,0)   \n",
    "  78     (1,1)   (0,0)   (1,-1)  (1,1)   \n",
    "  79     (1,1)   (0,0)   (1,-1)  (1,0)   \n",
    "  80     (1,1)   (0,0)   (1,-1)  (1,-1)  \n",
    "  81     (1,1)   (1,1)   (0,0)   (0,0)   \n",
    "  82     (1,1)   (1,1)   (0,0)   (1,1)   \n",
    "  83     (1,1)   (1,1)   (0,0)   (1,0)   \n",
    "  84     (1,1)   (1,1)   (0,0)   (1,-1)  \n",
    "  85     (1,1)   (1,1)   (1,1)   (0,0)   \n",
    "  86     (1,1)   (1,1)   (1,1)   (1,1)   \n",
    "  87     (1,1)   (1,1)   (1,1)   (1,0)   \n",
    "  88     (1,1)   (1,1)   (1,1)   (1,-1)  \n",
    "  89     (1,1)   (1,1)   (1,0)   (0,0)   \n",
    "  90     (1,1)   (1,1)   (1,0)   (1,1)   \n",
    "  91     (1,1)   (1,1)   (1,0)   (1,0)   \n",
    "  92     (1,1)   (1,1)   (1,0)   (1,-1)  \n",
    "  93     (1,1)   (1,1)   (1,-1)  (0,0)   \n",
    "  94     (1,1)   (1,1)   (1,-1)  (1,1)   \n",
    "  95     (1,1)   (1,1)   (1,-1)  (1,0)   \n",
    "  96     (1,1)   (1,1)   (1,-1)  (1,-1)  \n",
    "  97     (1,1)   (1,0)   (0,0)   (0,0)   \n",
    "  98     (1,1)   (1,0)   (0,0)   (1,1)   \n",
    "  99     (1,1)   (1,0)   (0,0)   (1,0)   \n",
    "  100    (1,1)   (1,0)   (0,0)   (1,-1)  \n",
    "  101    (1,1)   (1,0)   (1,1)   (0,0)   \n",
    "  102    (1,1)   (1,0)   (1,1)   (1,1)   \n",
    "  103    (1,1)   (1,0)   (1,1)   (1,0)   \n",
    "  104    (1,1)   (1,0)   (1,1)   (1,-1)  \n",
    "  105    (1,1)   (1,0)   (1,0)   (0,0)   \n",
    "  106    (1,1)   (1,0)   (1,0)   (1,1)   \n",
    "  107    (1,1)   (1,0)   (1,0)   (1,0)   \n",
    "  108    (1,1)   (1,0)   (1,0)   (1,-1)  \n",
    "  109    (1,1)   (1,0)   (1,-1)  (0,0)   \n",
    "  110    (1,1)   (1,0)   (1,-1)  (1,1)   \n",
    "  111    (1,1)   (1,0)   (1,-1)  (1,0)   \n",
    "  112    (1,1)   (1,0)   (1,-1)  (1,-1)  \n",
    "  113    (1,1)   (1,-1)  (0,0)   (0,0)   \n",
    "  114    (1,1)   (1,-1)  (0,0)   (1,1)   \n",
    "  115    (1,1)   (1,-1)  (0,0)   (1,0)   \n",
    "  116    (1,1)   (1,-1)  (0,0)   (1,-1)  \n",
    "  117    (1,1)   (1,-1)  (1,1)   (0,0)   \n",
    "  118    (1,1)   (1,-1)  (1,1)   (1,1)   \n",
    "  119    (1,1)   (1,-1)  (1,1)   (1,0)   \n",
    "  120    (1,1)   (1,-1)  (1,1)   (1,-1)  \n",
    "  121    (1,1)   (1,-1)  (1,0)   (0,0)   \n",
    "  122    (1,1)   (1,-1)  (1,0)   (1,1)   \n",
    "  123    (1,1)   (1,-1)  (1,0)   (1,0)   \n",
    "  124    (1,1)   (1,-1)  (1,0)   (1,-1)  \n",
    "  125    (1,1)   (1,-1)  (1,-1)  (0,0)   \n",
    "  126    (1,1)   (1,-1)  (1,-1)  (1,1)   \n",
    "  127    (1,1)   (1,-1)  (1,-1)  (1,0)   \n",
    "  128    (1,1)   (1,-1)  (1,-1)  (1,-1)  \n",
    "  129    (1,0)   (0,0)   (0,0)   (0,0)   \n",
    "  130    (1,0)   (0,0)   (0,0)   (1,1)   \n",
    "  131    (1,0)   (0,0)   (0,0)   (1,0)   \n",
    "  132    (1,0)   (0,0)   (0,0)   (1,-1)  \n",
    "  133    (1,0)   (0,0)   (1,1)   (0,0)   \n",
    "  134    (1,0)   (0,0)   (1,1)   (1,1)   \n",
    "  135    (1,0)   (0,0)   (1,1)   (1,0)   \n",
    "  136    (1,0)   (0,0)   (1,1)   (1,-1)  \n",
    "  137    (1,0)   (0,0)   (1,0)   (0,0)   \n",
    "  138    (1,0)   (0,0)   (1,0)   (1,1)   \n",
    "  139    (1,0)   (0,0)   (1,0)   (1,0)   \n",
    "  140    (1,0)   (0,0)   (1,0)   (1,-1)  \n",
    "  141    (1,0)   (0,0)   (1,-1)  (0,0)   \n",
    "  142    (1,0)   (0,0)   (1,-1)  (1,1)   \n",
    "  143    (1,0)   (0,0)   (1,-1)  (1,0)   \n",
    "  144    (1,0)   (0,0)   (1,-1)  (1,-1)  \n",
    "  145    (1,0)   (1,1)   (0,0)   (0,0)   \n",
    "  146    (1,0)   (1,1)   (0,0)   (1,1)   \n",
    "  147    (1,0)   (1,1)   (0,0)   (1,0)   \n",
    "  148    (1,0)   (1,1)   (0,0)   (1,-1)  \n",
    "  149    (1,0)   (1,1)   (1,1)   (0,0)   \n",
    "  150    (1,0)   (1,1)   (1,1)   (1,1)   \n",
    "  151    (1,0)   (1,1)   (1,1)   (1,0)   \n",
    "  152    (1,0)   (1,1)   (1,1)   (1,-1)  \n",
    "  153    (1,0)   (1,1)   (1,0)   (0,0)   \n",
    "  154    (1,0)   (1,1)   (1,0)   (1,1)   \n",
    "  155    (1,0)   (1,1)   (1,0)   (1,0)   \n",
    "  156    (1,0)   (1,1)   (1,0)   (1,-1)  \n",
    "  157    (1,0)   (1,1)   (1,-1)  (0,0)   \n",
    "  158    (1,0)   (1,1)   (1,-1)  (1,1)   \n",
    "  159    (1,0)   (1,1)   (1,-1)  (1,0)   \n",
    "  160    (1,0)   (1,1)   (1,-1)  (1,-1)  \n",
    "  161    (1,0)   (1,0)   (0,0)   (0,0)   \n",
    "  162    (1,0)   (1,0)   (0,0)   (1,1)   \n",
    "  163    (1,0)   (1,0)   (0,0)   (1,0)   \n",
    "  164    (1,0)   (1,0)   (0,0)   (1,-1)  \n",
    "  165    (1,0)   (1,0)   (1,1)   (0,0)   \n",
    "  166    (1,0)   (1,0)   (1,1)   (1,1)   \n",
    "  167    (1,0)   (1,0)   (1,1)   (1,0)   \n",
    "  168    (1,0)   (1,0)   (1,1)   (1,-1)  \n",
    "  169    (1,0)   (1,0)   (1,0)   (0,0)   \n",
    "  170    (1,0)   (1,0)   (1,0)   (1,1)   \n",
    "  171    (1,0)   (1,0)   (1,0)   (1,0)   \n",
    "  172    (1,0)   (1,0)   (1,0)   (1,-1)  \n",
    "  173    (1,0)   (1,0)   (1,-1)  (0,0)   \n",
    "  174    (1,0)   (1,0)   (1,-1)  (1,1)   \n",
    "  175    (1,0)   (1,0)   (1,-1)  (1,0)   \n",
    "  176    (1,0)   (1,0)   (1,-1)  (1,-1)  \n",
    "  177    (1,0)   (1,-1)  (0,0)   (0,0)   \n",
    "  178    (1,0)   (1,-1)  (0,0)   (1,1)   \n",
    "  179    (1,0)   (1,-1)  (0,0)   (1,0)   \n",
    "  180    (1,0)   (1,-1)  (0,0)   (1,-1)  \n",
    "  181    (1,0)   (1,-1)  (1,1)   (0,0)   \n",
    "  182    (1,0)   (1,-1)  (1,1)   (1,1)   \n",
    "  183    (1,0)   (1,-1)  (1,1)   (1,0)   \n",
    "  184    (1,0)   (1,-1)  (1,1)   (1,-1)  \n",
    "  185    (1,0)   (1,-1)  (1,0)   (0,0)   \n",
    "  186    (1,0)   (1,-1)  (1,0)   (1,1)   \n",
    "  187    (1,0)   (1,-1)  (1,0)   (1,0)   \n",
    "  188    (1,0)   (1,-1)  (1,0)   (1,-1)  \n",
    "  189    (1,0)   (1,-1)  (1,-1)  (0,0)   \n",
    "  190    (1,0)   (1,-1)  (1,-1)  (1,1)   \n",
    "  191    (1,0)   (1,-1)  (1,-1)  (1,0)   \n",
    "  192    (1,0)   (1,-1)  (1,-1)  (1,-1)  \n",
    "  193    (1,-1)  (0,0)   (0,0)   (0,0)   \n",
    "  194    (1,-1)  (0,0)   (0,0)   (1,1)   \n",
    "  195    (1,-1)  (0,0)   (0,0)   (1,0)   \n",
    "  196    (1,-1)  (0,0)   (0,0)   (1,-1)  \n",
    "  197    (1,-1)  (0,0)   (1,1)   (0,0)   \n",
    "  198    (1,-1)  (0,0)   (1,1)   (1,1)   \n",
    "  199    (1,-1)  (0,0)   (1,1)   (1,0)   \n",
    "  200    (1,-1)  (0,0)   (1,1)   (1,-1)  \n",
    "  201    (1,-1)  (0,0)   (1,0)   (0,0)   \n",
    "  202    (1,-1)  (0,0)   (1,0)   (1,1)   \n",
    "  203    (1,-1)  (0,0)   (1,0)   (1,0)   \n",
    "  204    (1,-1)  (0,0)   (1,0)   (1,-1)  \n",
    "  205    (1,-1)  (0,0)   (1,-1)  (0,0)   \n",
    "  206    (1,-1)  (0,0)   (1,-1)  (1,1)   \n",
    "  207    (1,-1)  (0,0)   (1,-1)  (1,0)   \n",
    "  208    (1,-1)  (0,0)   (1,-1)  (1,-1)  \n",
    "  209    (1,-1)  (1,1)   (0,0)   (0,0)   \n",
    "  210    (1,-1)  (1,1)   (0,0)   (1,1)   \n",
    "  211    (1,-1)  (1,1)   (0,0)   (1,0)   \n",
    "  212    (1,-1)  (1,1)   (0,0)   (1,-1)  \n",
    "  213    (1,-1)  (1,1)   (1,1)   (0,0)   \n",
    "  214    (1,-1)  (1,1)   (1,1)   (1,1)   \n",
    "  215    (1,-1)  (1,1)   (1,1)   (1,0)   \n",
    "  216    (1,-1)  (1,1)   (1,1)   (1,-1)  \n",
    "  217    (1,-1)  (1,1)   (1,0)   (0,0)   \n",
    "  218    (1,-1)  (1,1)   (1,0)   (1,1)   \n",
    "  219    (1,-1)  (1,1)   (1,0)   (1,0)   \n",
    "  220    (1,-1)  (1,1)   (1,0)   (1,-1)  \n",
    "  221    (1,-1)  (1,1)   (1,-1)  (0,0)   \n",
    "  222    (1,-1)  (1,1)   (1,-1)  (1,1)   \n",
    "  223    (1,-1)  (1,1)   (1,-1)  (1,0)   \n",
    "  224    (1,-1)  (1,1)   (1,-1)  (1,-1)  \n",
    "  225    (1,-1)  (1,0)   (0,0)   (0,0)   \n",
    "  226    (1,-1)  (1,0)   (0,0)   (1,1)   \n",
    "  227    (1,-1)  (1,0)   (0,0)   (1,0)   \n",
    "  228    (1,-1)  (1,0)   (0,0)   (1,-1)  \n",
    "  229    (1,-1)  (1,0)   (1,1)   (0,0)   \n",
    "  230    (1,-1)  (1,0)   (1,1)   (1,1)   \n",
    "  231    (1,-1)  (1,0)   (1,1)   (1,0)   \n",
    "  232    (1,-1)  (1,0)   (1,1)   (1,-1)  \n",
    "  233    (1,-1)  (1,0)   (1,0)   (0,0)   \n",
    "  234    (1,-1)  (1,0)   (1,0)   (1,1)   \n",
    "  235    (1,-1)  (1,0)   (1,0)   (1,0)   \n",
    "  236    (1,-1)  (1,0)   (1,0)   (1,-1)  \n",
    "  237    (1,-1)  (1,0)   (1,-1)  (0,0)   \n",
    "  238    (1,-1)  (1,0)   (1,-1)  (1,1)   \n",
    "  239    (1,-1)  (1,0)   (1,-1)  (1,0)   \n",
    "  240    (1,-1)  (1,0)   (1,-1)  (1,-1)  \n",
    "  241    (1,-1)  (1,-1)  (0,0)   (0,0)   \n",
    "  242    (1,-1)  (1,-1)  (0,0)   (1,1)   \n",
    "  243    (1,-1)  (1,-1)  (0,0)   (1,0)   \n",
    "  244    (1,-1)  (1,-1)  (0,0)   (1,-1)  \n",
    "  245    (1,-1)  (1,-1)  (1,1)   (0,0)   \n",
    "  246    (1,-1)  (1,-1)  (1,1)   (1,1)   \n",
    "  247    (1,-1)  (1,-1)  (1,1)   (1,0)   \n",
    "  248    (1,-1)  (1,-1)  (1,1)   (1,-1)  \n",
    "  249    (1,-1)  (1,-1)  (1,0)   (0,0)   \n",
    "  250    (1,-1)  (1,-1)  (1,0)   (1,1)   \n",
    "  251    (1,-1)  (1,-1)  (1,0)   (1,0)   \n",
    "  252    (1,-1)  (1,-1)  (1,0)   (1,-1)  \n",
    "  253    (1,-1)  (1,-1)  (1,-1)  (0,0)   \n",
    "  254    (1,-1)  (1,-1)  (1,-1)  (1,1)   \n",
    "  255    (1,-1)  (1,-1)  (1,-1)  (1,0)   \n",
    "  256    (1,-1)  (1,-1)  (1,-1)  (1,-1)\"\"\"\n",
    "\n"
   ]
  },
  {
   "cell_type": "code",
   "execution_count": 30,
   "metadata": {},
   "outputs": [],
   "source": [
    "data_ala = read_spinach_info(text4)\n",
    "\n",
    "basis_ala = build_list_ISTs(data_ala)\n",
    "prefacts,Symb_ALA_basis = build_symbolic_list_ISTs(data_ala)\n",
    "\n",
    "#Normbasis = NormalizeBasis(basis,n_qubits=4,checkOrth=True) I have verified the orthonormalization of the basis\n",
    "Normbasis_ala = NormalizeBasis(basis_ala,n_qubits=4,checkOrth=False)\n",
    "Normbasis_ala = np.array(Normbasis_ala)"
   ]
  },
  {
   "cell_type": "code",
   "execution_count": 31,
   "metadata": {},
   "outputs": [],
   "source": [
    "tc = 0.05e-9 # in seconds\n",
    "gammaH = 2.6752e8\n",
    "B0 =14.1\n",
    "Nspins = 4\n",
    "\n",
    "w1 = -600344544.5579\n",
    "w2 = -600343524.536\n",
    "w3 = -600343524.536\n",
    "w4 = -600343524.536\n",
    "\n",
    "freqs = np.array([w1,w2,w3,w4])\n",
    "\n",
    "coords = np.array([\n",
    "    [ 0.6861,0.2705,1.5010],\n",
    "    [1.3077, 1.1298, -1.3993],\n",
    "    [0.7905, 2.2125, -0.0860],\n",
    "    [ 2.3693, 1.3798, 0.0233]\n",
    "])\n",
    "\n",
    "coords = coords*1e-10\n",
    "\n",
    "#isotropic chemical shifts in ppm taken from the chemical shift tensors introduced in Spinach\n",
    "zeeman_scalar_1 = 3.4938\n",
    "zeeman_scalar_2 = 1.7947\n",
    "zeeman_scalar_3 = 1.7947\n",
    "zeeman_scalar_4 = 1.7947\n",
    "\n",
    "zeeman_scalars = [zeeman_scalar_1,zeeman_scalar_2,zeeman_scalar_3,zeeman_scalar_4]\n",
    "\n",
    "chem_shifts = get_chemical_shifts(gammaH,B0,zeeman_scalars)\n",
    "\n",
    "list_jumps, list_symb_rates, list_damp_rates, list_dets = Get_Det_And_Rates_latex(2*np.pi*freqs,tc,coords,Nspins,gammaH,chem_shifts)"
   ]
  },
  {
   "cell_type": "code",
   "execution_count": 32,
   "metadata": {},
   "outputs": [],
   "source": [
    "trunc_jumps, trunc_rates, trunc_symb_rates = Filt_nonrot_and_small(list_jumps,list_damp_rates,list_dets,thresh_rot=1e-6,thresh_sm=0.5,symb_rate_list=list_symb_rates)\n",
    "\n",
    "text_ala_diss = Gen_diss_param_latex_table(trunc_jumps,trunc_symb_rates,trunc_rates,'Alanine',ndecs=3)\n",
    "\n"
   ]
  },
  {
   "cell_type": "code",
   "execution_count": 43,
   "metadata": {},
   "outputs": [],
   "source": [
    "offset = 1500\n",
    "B0 = 14.1\n",
    "zeeman_scalar_1 = 3.4938\n",
    "zeeman_scalar_2 = 1.7947\n",
    "zeeman_scalar_3 = 1.7947\n",
    "zeeman_scalar_4 = 1.7947\n",
    "zeeman_scalars = [zeeman_scalar_1,zeeman_scalar_2,zeeman_scalar_3,zeeman_scalar_4]\n",
    "\n",
    "\n",
    "#Jcoup = 238.0633\n",
    "\n",
    "Jcoups = np.zeros([4,4])\n",
    "#First, in Hz...\n",
    "Jcoups[0,1] = 3.82\n",
    "Jcoups[0,2] = 3.82\n",
    "Jcoups[0,3] = 3.82\n",
    "Jcoups[1,2] = -7.0\n",
    "Jcoups[1,3] = -7.0\n",
    "Jcoups[2,3] = -7.0\n",
    "\n",
    "gammaH = 2.6752e8\n",
    "\n",
    "freqs = np.array([-510.02,0.0,0.0,0.0])\n",
    "Nspins = 4\n",
    "\n",
    "\n",
    "H0_ala = GenH0_Ham_allparam(freqs,Jcoups,Nspins)\n",
    "#H0_ala = GenH0_Ham(offset,B0,zeeman_scalars,Jcoups,gammaH)\n",
    "\n",
    "H0_ala_frame =  HamMatRep(H0_ala,Normbasis_ala,n_qubits=4)\n",
    "\n",
    "\n",
    "\n"
   ]
  },
  {
   "cell_type": "code",
   "execution_count": 53,
   "metadata": {},
   "outputs": [
    {
     "data": {
      "text/plain": [
       "1602.2122533307945"
      ]
     },
     "execution_count": 53,
     "metadata": {},
     "output_type": "execute_result"
    }
   ],
   "source": [
    "510*np.pi"
   ]
  },
  {
   "cell_type": "code",
   "execution_count": 49,
   "metadata": {},
   "outputs": [
    {
     "data": {
      "text/plain": [
       "6.000441968356505 [X0 X1] +\n",
       "6.000441968356505 [X0 X2] +\n",
       "6.000441968356505 [X0 X3] +\n",
       "6.000441968356505 [Y0 Y1] +\n",
       "6.000441968356505 [Y0 Y2] +\n",
       "6.000441968356505 [Y0 Y3] +\n",
       "-1602.2750851838662 [Z0] +\n",
       "6.000441968356505 [Z0 Z1] +\n",
       "6.000441968356505 [Z0 Z2] +\n",
       "6.000441968356505 [Z0 Z3] +\n",
       "-10.995574287564276 [X1 X2] +\n",
       "-10.995574287564276 [X1 X3] +\n",
       "-10.995574287564276 [Y1 Y2] +\n",
       "-10.995574287564276 [Y1 Y3] +\n",
       "-10.995574287564276 [Z1 Z2] +\n",
       "-10.995574287564276 [Z1 Z3] +\n",
       "-10.995574287564276 [X2 X3] +\n",
       "-10.995574287564276 [Y2 Y3] +\n",
       "-10.995574287564276 [Z2 Z3]"
      ]
     },
     "execution_count": 49,
     "metadata": {},
     "output_type": "execute_result"
    }
   ],
   "source": [
    "H0_ala"
   ]
  },
  {
   "cell_type": "code",
   "execution_count": 48,
   "metadata": {},
   "outputs": [],
   "source": [
    "savemat('H0_ala_frame.mat', {'H0_ala': H0_ala_frame})"
   ]
  },
  {
   "cell_type": "code",
   "execution_count": 46,
   "metadata": {},
   "outputs": [],
   "source": [
    "import pickle\n",
    "\n",
    "\n",
    "Dict ={'H0_frame': H0_ala_frame}\n",
    "with open('./H0_frameALA.pk', 'wb') as handle:\n",
    "    pickle.dump(H0_ala_frame, handle)"
   ]
  },
  {
   "cell_type": "code",
   "execution_count": 34,
   "metadata": {},
   "outputs": [
    {
     "data": {
      "text/plain": [
       "510.0167452228873"
      ]
     },
     "execution_count": 34,
     "metadata": {},
     "output_type": "execute_result"
    }
   ],
   "source": [
    "(1327.556+1876.973720)/(2*np.pi)"
   ]
  },
  {
   "cell_type": "code",
   "execution_count": 171,
   "metadata": {},
   "outputs": [],
   "source": [
    "with open(\"./data/jumps_ala_truncdamp_05.txt\", \"w\") as file:\n",
    "    file.write(text_ala_diss)a"
   ]
  },
  {
   "cell_type": "code",
   "execution_count": 58,
   "metadata": {},
   "outputs": [],
   "source": [
    "####Exploring cutoffs in damping rates for spectra calculation...\n",
    "from analytical_fit import Get_Det_And_Rates, RelMat_from_ops_and_rates\n",
    "\n",
    "def Damp_rate_filt(list_ops,list_damp_rates,thresh=0.1):\n",
    "    \"\"\"\n",
    "    Filter out the jump operator and damping rates based on a cutoff imposed on the damping rates, all channels below thresh are discarted\n",
    "    \"\"\"\n",
    "    filt_ops = []\n",
    "    filt_rates = []\n",
    "    N = len(list_ops)\n",
    "    for i in range(N):\n",
    "        if np.abs(list_damp_rates[i])> thresh:\n",
    "            filt_ops.append(list_ops[i])\n",
    "            filt_rates.append(list_damp_rates[i])\n",
    "    \n",
    "    return filt_ops,filt_rates\n",
    "\n",
    "\n",
    "list_jumps_old, list_damp_rates_old, list_dets_old = Get_Det_And_Rates(2*np.pi*freqs,tc,coords,Nspins,gammaH,chem_shifts)\n",
    "#the actual damping rates are one-fourth of the ones calculated above\n",
    "list_damp_rates_old = np.array(list_damp_rates_old)/4.0\n",
    "\n",
    "filt_jumps,filt_rates = Damp_rate_filt(list_jumps_old,list_damp_rates_old)\n",
    "\n",
    "#R_ala_trunc = RelMat_from_ops_and_rates(filt_jumps,filt_rates,Normbasis_ala,Nspins)\n",
    "\n"
   ]
  },
  {
   "cell_type": "code",
   "execution_count": 17,
   "metadata": {},
   "outputs": [],
   "source": [
    "\n",
    "filt_jumps,filt_symb_rates,filt_rates = filter_jumps(list_jumps,list_symb_rates,list_damp_rates,list_dets,thresh=1e-6)\n",
    "\n",
    "\n",
    "text_ala_diss = Gen_diss_param_latex_table(filt_jumps,filt_symb_rates,filt_rates,'Alanine',ndecs=3)\n",
    "\n",
    "text_ala_basis = basis_to_latextable(Symb_ALA_basis,'Alanine')"
   ]
  },
  {
   "cell_type": "code",
   "execution_count": 18,
   "metadata": {},
   "outputs": [
    {
     "name": "stdout",
     "output_type": "stream",
     "text": [
      "570\n"
     ]
    }
   ],
   "source": [
    "for i in range(len(list_jumps)):\n",
    "    if list_jumps[i] == 'J_{+}\\\\left(S_{1z}S_{3z},S_{1z}S_{3z}\\\\right)':\n",
    "        #print(\"True\")\n",
    "        print(i)"
   ]
  },
  {
   "cell_type": "code",
   "execution_count": 19,
   "metadata": {},
   "outputs": [
    {
     "name": "stdout",
     "output_type": "stream",
     "text": [
      "190\n"
     ]
    }
   ],
   "source": [
    "for i in range(len(filt_jumps)):\n",
    "    if filt_jumps[i] == 'J_{+}\\\\left(S_{1z}S_{2z},S_{1z}S_{2z}\\\\right)':\n",
    "        #print(\"True\")\n",
    "        print(i)"
   ]
  },
  {
   "cell_type": "code",
   "execution_count": 21,
   "metadata": {},
   "outputs": [
    {
     "data": {
      "text/plain": [
       "('J_{+}\\\\left(S_{1z}S_{2z},S_{1z}S_{2z}\\\\right)', 0.7189938337589143)"
      ]
     },
     "execution_count": 21,
     "metadata": {},
     "output_type": "execute_result"
    }
   ],
   "source": [
    "filt_jumps[190], filt_rates[190]"
   ]
  },
  {
   "cell_type": "code",
   "execution_count": 22,
   "metadata": {},
   "outputs": [],
   "source": [
    "###saving in text files...\n",
    "with open(\"./data/jumps_ala.txt\", \"w\") as file:\n",
    "    file.write(text_ala_diss)\n",
    "\n",
    "with open(\"./data/basis_ala.txt\", \"w\") as file:\n",
    "    file.write(text_ala_basis)"
   ]
  },
  {
   "cell_type": "code",
   "execution_count": 35,
   "metadata": {},
   "outputs": [],
   "source": [
    "loadMat = spio.loadmat('./data/NOESYdata_ALA_withGradients.mat',squeeze_me=True)\n",
    "\n",
    "t_grid1 = loadMat['p']['time_grid1'].item()\n",
    "t_grid2 = loadMat['p']['time_grid2'].item()\n",
    "\n",
    "R_ala = loadMat['p']['R'].item()\n",
    "H_ala = loadMat['p']['H'].item().toarray()\n",
    "\n",
    "rho0 = np.array(loadMat['p']['rho0'].item().toarray())\n",
    "\n",
    "coil = np.array(loadMat['p']['coil'].item())\n",
    "\n",
    "Lx = loadMat['p']['Lx'].item().toarray() \n",
    "Ly = loadMat['p']['Ly'].item().toarray() \n",
    "\n",
    "###Dynamical evolution for calculation of 2D spectra...\n",
    "Tpts1 = len(t_grid1)\n",
    "Tpts2 = len(t_grid2)\n",
    "\n",
    "#Parameters taken from Spinach script\n",
    "tmix = 1.0\n",
    "dt1 = 0.25e-3\n",
    "dt2 = 0.25e-3\n",
    "\n",
    "##Parameters for Fourier transform\n",
    "zerofill1 = 4096\n",
    "zerofill2 = 4096\n",
    "\n",
    "\n",
    "#Spectrum, FID = GenNOESYSpectrum(H_ala,R_ala,Tpts1,Tpts2,rho0,coil,tmix,dt1,dt2,zerofill1,zerofill2,Lx,Ly)\n"
   ]
  },
  {
   "cell_type": "code",
   "execution_count": 91,
   "metadata": {},
   "outputs": [],
   "source": [
    "###loading and comparing with approximate relaxation matrices...\n",
    "#and saving them in MATLAB format...\n",
    "from scipy.io import savemat\n",
    "import pickle\n",
    "from matplotlib import pyplot as plt\n",
    "f = open('./data/ALA_Rapprox_dampTrunc_0.1.pk','rb')\n",
    "\n",
    "dat=pickle.load(f)\n",
    "R_01_app = dat['AddMat']\n",
    "savemat('R_ala_app01.mat', {'R_01_app': R_01_app})\n",
    "\n",
    "f = open('./data/ALA_Rapprox_dampTrunc_0.5.pk','rb')\n",
    "dat=pickle.load(f)\n",
    "R_05_app = dat['AddMat']\n",
    "savemat('R_ala_app05.mat',{'R_05_app':R_05_app})\n",
    "\n"
   ]
  },
  {
   "cell_type": "code",
   "execution_count": 45,
   "metadata": {},
   "outputs": [
    {
     "data": {
      "text/plain": [
       "<matplotlib.colorbar.Colorbar at 0x13abcffd0>"
      ]
     },
     "execution_count": 45,
     "metadata": {},
     "output_type": "execute_result"
    },
    {
     "data": {
      "image/png": "[encoded data removed]",
      "text/plain": [
       "<Figure size 640x480 with 2 Axes>"
      ]
     },
     "metadata": {},
     "output_type": "display_data"
    }
   ],
   "source": [
    "plt.imshow(np.real(R_ala.toarray()[0:16,0:16]), cmap='viridis', interpolation='nearest')\n",
    "# Add a color bar to sh-1j*ow the scale\n",
    "plt.colorbar()"
   ]
  },
  {
   "cell_type": "code",
   "execution_count": 47,
   "metadata": {},
   "outputs": [
    {
     "data": {
      "text/plain": [
       "6.8697273119432465"
      ]
     },
     "execution_count": 47,
     "metadata": {},
     "output_type": "execute_result"
    }
   ],
   "source": [
    "np.linalg.norm(R_ala.toarray()-R_01_app)"
   ]
  },
  {
   "cell_type": "code",
   "execution_count": 48,
   "metadata": {},
   "outputs": [
    {
     "data": {
      "text/plain": [
       "34.19978962028727"
      ]
     },
     "execution_count": 48,
     "metadata": {},
     "output_type": "execute_result"
    }
   ],
   "source": [
    "np.linalg.norm(R_ala.toarray())"
   ]
  },
  {
   "cell_type": "code",
   "execution_count": 55,
   "metadata": {},
   "outputs": [
    {
     "data": {
      "text/plain": [
       "<matplotlib.colorbar.Colorbar at 0x13d2fe6d0>"
      ]
     },
     "execution_count": 55,
     "metadata": {},
     "output_type": "execute_result"
    },
    {
     "data": {
      "image/png": "[encoded data removed]",
      "text/plain": [
       "<Figure size 640x480 with 2 Axes>"
      ]
     },
     "metadata": {},
     "output_type": "display_data"
    }
   ],
   "source": [
    "plt.imshow(np.real(R_05_app[0:16,0:16]), cmap='viridis', interpolation='nearest')\n",
    "# Add a color bar to sh-1j*ow the scale\n",
    "plt.colorbar()"
   ]
  },
  {
   "cell_type": "code",
   "execution_count": 69,
   "metadata": {},
   "outputs": [
    {
     "data": {
      "text/plain": [
       "(-2.2861709964861108+0j)"
      ]
     },
     "execution_count": 69,
     "metadata": {},
     "output_type": "execute_result"
    }
   ],
   "source": [
    "R_01_app[15,15]"
   ]
  },
  {
   "cell_type": "code",
   "execution_count": 88,
   "metadata": {},
   "outputs": [],
   "source": [
    "####To verify the correctness of the approximate relaxation matrices, we explicitly calculate some matrix entries...\n",
    "from analytical_fit import convert_operator_string\n",
    "from basis_utils import Linb_Channel, InnProd\n",
    "from openfermion import hermitian_conjugated\n",
    "\n",
    "\n",
    "list_jumps_old, list_damp_rates_old, list_dets_old = Get_Det_And_Rates(2*np.pi*freqs,tc,coords,Nspins,gammaH,chem_shifts)\n",
    "#the actual damping rates are one-fourth of the ones calculated above\n",
    "list_damp_rates_old = np.array(list_damp_rates_old)/4\n",
    "\n",
    "filt_jumps,filt_rates = Damp_rate_filt(list_jumps_old,list_damp_rates_old,thresh=0.5)\n",
    "\n",
    "targ_bas_idxs=[9,9]\n",
    "mat_el = 0.0 \n",
    "#######\n",
    "for i in range(len(filt_rates)):\n",
    "        JOp1 = convert_operator_string(filt_jumps[i][0])\n",
    "        JOp2 = hermitian_conjugated(convert_operator_string(filt_jumps[i][1]))\n",
    "\n",
    "        Rel_chan = Linb_Channel(JOp1,JOp2,Normbasis_ala[targ_bas_idxs[1]],gamma=filt_rates[i])\n",
    "        in_prod=InnProd(Normbasis_ala[targ_bas_idxs[0]],Rel_chan,n_qubits=4)\n",
    "        mat_el+=in_prod+np.conjugate(in_prod)\n",
    "\n",
    "       \n",
    "\n"
   ]
  },
  {
   "cell_type": "code",
   "execution_count": 87,
   "metadata": {},
   "outputs": [
    {
     "data": {
      "text/plain": [
       "((-0.3539147595910376+0j), (-0.3539147595910376+0j))"
      ]
     },
     "execution_count": 87,
     "metadata": {},
     "output_type": "execute_result"
    }
   ],
   "source": [
    "mat_el, R_05_app[targ_bas_idxs[0],targ_bas_idxs[1]]"
   ]
  },
  {
   "cell_type": "code",
   "execution_count": 90,
   "metadata": {},
   "outputs": [
    {
     "data": {
      "text/plain": [
       "[['S1zS2z', 'S1zS2z'], ['S1zS3z', 'S1zS3z'], ['S2zS3z', 'S2zS3z']]"
      ]
     },
     "execution_count": 90,
     "metadata": {},
     "output_type": "execute_result"
    }
   ],
   "source": [
    "filt_jumps"
   ]
  },
  {
   "cell_type": "code",
   "execution_count": 65,
   "metadata": {},
   "outputs": [
    {
     "data": {
      "text/plain": [
       "[['S0zS2z', 'S1zS2z'],\n",
       " ['S0zS3z', 'S1zS3z'],\n",
       " ['S1zS2z', 'S0zS2z'],\n",
       " ['S1+S2+', 'S1-S2-'],\n",
       " ['S1-S2-', 'S1+S2+'],\n",
       " ['S1zS2+', 'S1zS2-'],\n",
       " ['S1zS2-', 'S1zS2+'],\n",
       " ['S1+S2z', 'S1zS2-'],\n",
       " ['S1zS2-', 'S1+S2z'],\n",
       " ['S1+S2z', 'S1-S2z'],\n",
       " ['S1-S2z', 'S1+S2z'],\n",
       " ['S1zS2+', 'S1-S2z'],\n",
       " ['S1-S2z', 'S1zS2+'],\n",
       " ['S1zS2z', 'S1zS2z'],\n",
       " ['S1+S2-', 'S1zS2z'],\n",
       " ['S1zS2z', 'S1+S2-'],\n",
       " ['S1zS2z', 'S1-S2+'],\n",
       " ['S1-S2+', 'S1zS2z'],\n",
       " ['S1zS3z', 'S0zS3z'],\n",
       " ['S1+S3+', 'S1-S3-'],\n",
       " ['S1-S3-', 'S1+S3+'],\n",
       " ['S1zS3+', 'S1zS3-'],\n",
       " ['S1zS3-', 'S1zS3+'],\n",
       " ['S1+S3z', 'S1zS3-'],\n",
       " ['S1zS3-', 'S1+S3z'],\n",
       " ['S1+S3z', 'S1-S3z'],\n",
       " ['S1-S3z', 'S1+S3z'],\n",
       " ['S1zS3+', 'S1-S3z'],\n",
       " ['S1-S3z', 'S1zS3+'],\n",
       " ['S1zS3z', 'S1zS3z'],\n",
       " ['S1+S3-', 'S1zS3z'],\n",
       " ['S1zS3z', 'S1+S3-'],\n",
       " ['S1zS3z', 'S1-S3+'],\n",
       " ['S1-S3+', 'S1zS3z'],\n",
       " ['S2+S3+', 'S2-S3-'],\n",
       " ['S2-S3-', 'S2+S3+'],\n",
       " ['S2zS3+', 'S2zS3-'],\n",
       " ['S2zS3-', 'S2zS3+'],\n",
       " ['S2+S3z', 'S2zS3-'],\n",
       " ['S2zS3-', 'S2+S3z'],\n",
       " ['S2+S3z', 'S2-S3z'],\n",
       " ['S2-S3z', 'S2+S3z'],\n",
       " ['S2zS3+', 'S2-S3z'],\n",
       " ['S2-S3z', 'S2zS3+'],\n",
       " ['S2zS3z', 'S2zS3z'],\n",
       " ['S2+S3-', 'S2zS3z'],\n",
       " ['S2zS3z', 'S2+S3-'],\n",
       " ['S2zS3z', 'S2-S3+'],\n",
       " ['S2-S3+', 'S2zS3z']]"
      ]
     },
     "execution_count": 65,
     "metadata": {},
     "output_type": "execute_result"
    }
   ],
   "source": []
  },
  {
   "cell_type": "code",
   "execution_count": 63,
   "metadata": {},
   "outputs": [
    {
     "data": {
      "text/plain": [
       "(49, 49)"
      ]
     },
     "execution_count": 63,
     "metadata": {},
     "output_type": "execute_result"
    }
   ],
   "source": [
    "len(filt_jumps), len(filt_rates)"
   ]
  },
  {
   "cell_type": "code",
   "execution_count": 41,
   "metadata": {},
   "outputs": [],
   "source": [
    "\n",
    "\n",
    "\n",
    "#Save noesy data as a JSON file\n",
    "SaveNOESYData(tmix,t_grid1,t_grid2,rho0,H_ala,R_ala.toarray(),FID,'./data/ALA_NOESY_dat.json')"
   ]
  },
  {
   "cell_type": "markdown",
   "metadata": {},
   "source": [
    "# The TFG case"
   ]
  },
  {
   "cell_type": "code",
   "execution_count": 14,
   "metadata": {},
   "outputs": [],
   "source": [
    "data_tfg = read_spinach_info(text4)\n",
    "\n",
    "basis_tfg = build_list_ISTs(data_tfg)\n",
    "prefacts,Symb_TFG_basis = build_symbolic_list_ISTs(data_tfg)\n",
    "\n",
    "#Normbasis = NormalizeBasis(basis,n_qubits=4,checkOrth=True) I have verified the orthonormalization of the basis\n",
    "Normbasis_tfg = NormalizeBasis(basis_tfg,n_qubits=4,checkOrth=False)\n",
    "Normbasis_tfg = np.array(Normbasis_tfg)"
   ]
  },
  {
   "cell_type": "code",
   "execution_count": 15,
   "metadata": {},
   "outputs": [],
   "source": [
    "tc = 0.951e-9 # in seconds\n",
    "gammaF = 251814800\n",
    "B0 =9.3933\n",
    "\n",
    "w1 = -376415149.7831\n",
    "w2 = -376410090.0768\n",
    "w3 = -376411850.9715\n",
    "w4 = -376411792.9965\n",
    "\n",
    "\n",
    "freqs = np.array([w1,w2,w3,w4])\n",
    "\n",
    "coords = np.array([\n",
    "    [-0.0551 , -1.2087, -1.6523],\n",
    "    [-0.8604, -2.3200, -0.0624],\n",
    "    [-2.4464, -0.1125, -0.9776],\n",
    "    [-1.9914, -0.0836, 1.0743]\n",
    "])\n",
    "\n",
    "coords = coords*1e-10\n",
    "\n",
    "Nspins = 4\n",
    "\n",
    "#R_kiteALA_dev = Kite_relMat(2*np.pi*freqs,tc,coords,Nspins,gammaH,Sub_norm_basis)\n",
    "#R_kite_dev = KiteRelMatrixManyParallel(2*np.pi*freqs,tc,coords,Nspins,gammaH,Normbasis_ala,num_workers=20)\n",
    "\n",
    "#isotropic chemical shifts in ppm taken from the chemical shift tensors introduced in Spinach\n",
    "#-120.8361 -134.2763 -129.5988 -129.7528\n",
    "zeeman_scalar_1 = -120.8361\n",
    "zeeman_scalar_2 = -134.2763\n",
    "zeeman_scalar_3 = -129.5988\n",
    "zeeman_scalar_4 = -129.7528\n",
    "\n",
    "zeeman_scalars = [zeeman_scalar_1,zeeman_scalar_2,zeeman_scalar_3,zeeman_scalar_4]\n",
    "\n",
    "chem_shifts = get_chemical_shifts(gammaF,B0,zeeman_scalars)\n",
    "\n",
    "#list_jumps, list_damp_rates, list_dets=Get_Det_And_Rates(2*np.pi*freqs,tc,coords,Nspins,gammaF,chem_shifts)\n",
    "\n",
    "\n",
    "list_jumps, list_symb_rates, list_damp_rates, list_dets = Get_Det_And_Rates_latex(2*np.pi*freqs,tc,coords,Nspins,gammaF,chem_shifts)"
   ]
  },
  {
   "cell_type": "code",
   "execution_count": 16,
   "metadata": {},
   "outputs": [
    {
     "data": {
      "text/plain": [
       "-2113.7870536310656 [Z0] +\n",
       "14773.122775450553 [Z1] +\n",
       "8896.088153530553 [Z2] +\n",
       "9089.58111596253 [Z3]"
      ]
     },
     "execution_count": 16,
     "metadata": {},
     "output_type": "execute_result"
    }
   ],
   "source": [
    "offset = -49000\n",
    "B0 = 9.3933\n",
    "zeeman_scalar_1 = -120.8361\n",
    "zeeman_scalar_2 = -134.2763\n",
    "zeeman_scalar_3 = -129.5988\n",
    "zeeman_scalar_4 = -129.7528\n",
    "zeeman_scalars = [zeeman_scalar_1,zeeman_scalar_2,zeeman_scalar_3,zeeman_scalar_4]\n",
    "\n",
    "#Jcoup = 238.0633\n",
    "Jcoups = np.zeros([4,4])\n",
    "#Jcoups[0,1] = Jcoup\n",
    "gammaF= 251814800\n",
    "\n",
    "GenH0_Ham(offset,B0,zeeman_scalars,Jcoups,gammaH)"
   ]
  },
  {
   "cell_type": "code",
   "execution_count": 175,
   "metadata": {},
   "outputs": [],
   "source": [
    "trunc_jumps, trunc_rates, trunc_symb_rates = Filt_nonrot_and_small(list_jumps,list_damp_rates,list_dets,thresh_rot=370,thresh_sm=1.0,symb_rate_list=list_symb_rates)\n",
    "\n",
    "text_tfg_diss = Gen_diss_param_latex_table(trunc_jumps,trunc_symb_rates,trunc_rates,'TFG',ndecs=3)\n"
   ]
  },
  {
   "cell_type": "code",
   "execution_count": 44,
   "metadata": {},
   "outputs": [],
   "source": [
    "#filt_jumps,filt_symb_rates,filt_rates = filter_jumps(list_jumps,list_symb_rates,list_damp_rates,list_dets,thresh=370)\n",
    "\n",
    "\n",
    "#text_tfg_diss = Gen_diss_param_latex_table(filt_jumps,filt_symb_rates,filt_rates,'TFG',ndecs=3)\n",
    "\n",
    "text_tfg_basis = basis_to_latextable(Symb_basis,'TFG')"
   ]
  },
  {
   "cell_type": "code",
   "execution_count": 177,
   "metadata": {},
   "outputs": [],
   "source": [
    "###saving in text files...\n",
    "with open(\"./data/jumps_tfg_damptrunc1.txt\", \"w\") as file:\n",
    "    file.write(text_tfg_diss)\n",
    "\n",
    "#with open(\"./data/basis_tfg.txt\", \"w\") as file:\n",
    "#    file.write(text_tfg_basis)"
   ]
  },
  {
   "cell_type": "code",
   "execution_count": 46,
   "metadata": {},
   "outputs": [],
   "source": [
    "loadMat = spio.loadmat('./data/TFG_secular.mat',squeeze_me=True)\n",
    "\n",
    "t_grid1 = loadMat['p']['time_grid1'].item()\n",
    "t_grid2 = loadMat['p']['time_grid2'].item()\n",
    "R_tfg = loadMat['p']['R'].item()\n",
    "H_tfg = loadMat['p']['H'].item()\n",
    "\n",
    "rho0 = np.array(loadMat['p']['rho0'].item().toarray())\n",
    "\n",
    "coil = np.array(loadMat['p']['coil'].item())\n",
    "\n",
    "Lx = loadMat['p']['Lx'].item().toarray() \n",
    "Ly = loadMat['p']['Ly'].item().toarray() \n",
    "\n",
    "###Dynamical evolution for calculation of 2D spectra...\n",
    "Tpts1 = len(t_grid1)\n",
    "Tpts2 = len(t_grid2)\n",
    "\n",
    "\n",
    "\n",
    "#Parameters taken from Spinach script\n",
    "tmix = 0.5\n",
    "dt1 = 0.125e-3\n",
    "dt2 = 0.125e-3\n",
    "\n",
    "##Parameters for Fourier transform\n",
    "zerofill1 = 1024\n",
    "zerofill2 = 512\n",
    "\n",
    "\n",
    "#Calculation of the NOESY spectra using the reference relaxation matrix and the Kite and the jump-operator-truncated approach\n",
    "\n",
    "Ref_spec, FID = GenNOESYSpectrum(H_tfg,R_tfg,Tpts1,Tpts2,rho0,coil,tmix,dt1,dt2,zerofill1,zerofill2,Lx,Ly)"
   ]
  },
  {
   "cell_type": "code",
   "execution_count": 49,
   "metadata": {},
   "outputs": [],
   "source": [
    "SaveNOESYData(tmix,t_grid1,t_grid2,rho0,H_tfg.toarray(),R_tfg,FID,'./data/TFG_NOESY_dat.json')"
   ]
  },
  {
   "cell_type": "code",
   "execution_count": 138,
   "metadata": {},
   "outputs": [],
   "source": [
    "###loading and saving an approximation to relaxation matrix with large damping rate cutoff...\n",
    "f =open('./data/R_TFG_Approx_damp_thresh1.pk','rb')\n",
    "dat = pickle.load(f)\n",
    "\n",
    "R_tfg_app = dat['KiteMat']\n",
    "\n",
    "savemat('R_tfg_app1.mat',{'R_1_app':R_tfg_app})"
   ]
  },
  {
   "cell_type": "code",
   "execution_count": 137,
   "metadata": {},
   "outputs": [
    {
     "data": {
      "text/plain": [
       "(256, 256)"
      ]
     },
     "execution_count": 137,
     "metadata": {},
     "output_type": "execute_result"
    }
   ],
   "source": [
    "R_tfg_app.shape"
   ]
  },
  {
   "cell_type": "code",
   "execution_count": null,
   "metadata": {},
   "outputs": [],
   "source": []
  }
 ],
 "metadata": {
  "kernelspec": {
   "display_name": "BQSKit",
   "language": "python",
   "name": "python3"
  },
  "language_info": {
   "codemirror_mode": {
    "name": "ipython",
    "version": 3
   },
   "file_extension": ".py",
   "mimetype": "text/x-python",
   "name": "python",
   "nbconvert_exporter": "python",
   "pygments_lexer": "ipython3",
   "version": "3.11.5"
  }
 },
 "nbformat": 4,
 "nbformat_minor": 2
}
