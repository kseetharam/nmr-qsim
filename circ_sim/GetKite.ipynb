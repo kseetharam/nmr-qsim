{
 "cells": [
  {
   "cell_type": "code",
   "execution_count": 1,
   "metadata": {},
   "outputs": [],
   "source": [
    "#Exploring removal of transversal cross-relaxation pathways to obtain a Kite-type relaxation matrix\n",
    "import sys\n",
    "sys.path.append('./utils/')\n",
    "import numpy as np\n",
    "import scipy.io as spio\n",
    "from scipy.linalg import expm\n",
    "from matplotlib import pyplot as plt\n",
    "import sys \n",
    "import openfermion as of\n",
    "import pandas as pd\n",
    "\n",
    "from analytical_fit import  KiteRelMatrixMany, Get_K2RatesAndOps, Get_K1RatesAndOps, Get_K0RatesAndOps, GammaRates,  get_chemical_shifts, Get_Det_And_Rates\n",
    "from basis_utils import read_spinach_info, build_list_ISTs, NormalizeBasis, build_symbolic_list_ISTs\n",
    "\n",
    "import copy"
   ]
  },
  {
   "cell_type": "code",
   "execution_count": 41,
   "metadata": {},
   "outputs": [],
   "source": [
    "def Get_RatesAndOps(freqs,tc,coords,Nspins,gamma):\n",
    "    \"\"\" \n",
    "    Returns: 1) a list of damping rates 2) the corresponding list of pairs of jump operators, where each pair defines a Linblad channel \\mathcal{L}_{A,B} as defined in the notes\n",
    "    Args:\n",
    "    freqs: list of chemically shifted Zeeman frequencies of the spins\n",
    "    tc: rotational correlatio0n time of the isotropic solvent\n",
    "    coords: list that contains the cartesian coordinates of the spins\n",
    "    Nspins: number of spins\n",
    "    gamma; gyromagnetic ratio of the spins (it is assumed a homonuclear case)\n",
    "    \"\"\"\n",
    "    \n",
    "    ratesK2,OpsK2,Str_OpsK2=Get_K2RatesAndOps(freqs,tc,coords,Nspins,gamma)\n",
    "    ratesK1,OpsK1,Str_OpsK1=Get_K1RatesAndOps(freqs,tc,coords,Nspins,gamma)\n",
    "    ratesK0,OpsK0,Str_OpsK0=Get_K0RatesAndOps(freqs,tc,coords,Nspins,gamma)\n",
    "\n",
    "    tot_rates=ratesK2+ratesK1+ratesK0\n",
    "    tot_Ops=OpsK2+OpsK1+OpsK0\n",
    "    tot_strs = Str_OpsK2+Str_OpsK1+Str_OpsK0\n",
    "    return 0.25*np.array(tot_rates),tot_Ops, tot_strs\n",
    "\n",
    "def is_diagonal(matrix):\n",
    "    # Compare the matrix with its diagonal (converted back to a full matrix)\n",
    "    return np.all(matrix == np.diag(np.diag(matrix)))"
   ]
  },
  {
   "cell_type": "markdown",
   "metadata": {},
   "source": [
    "# Ratios of damping rates and detunings in rotating frame"
   ]
  },
  {
   "cell_type": "code",
   "execution_count": 68,
   "metadata": {},
   "outputs": [],
   "source": [
    "#Testing list of parameters for DFG...\n",
    "\n",
    "#offset = -46681\n",
    "gammaF = 251814800\n",
    "B0 = 9.3933\n",
    "w0 = -gammaF*B0\n",
    "#o1 = 2*np.pi*offset\n",
    "#complete Zeeeman frequencies obtained from Spinach\n",
    "w1 = -376417768.6316 \n",
    "w2 = -376411775.1523 \n",
    "freqs = np.array([w1,w2])\n",
    "#coordinates\n",
    "coord1 = np.array([-0.0551,-1.2087,-1.6523])*1e-10\n",
    "coord2 = np.array([-0.8604 ,-2.3200 ,-0.0624])*1e-10\n",
    "coords = np.array([coord1,coord2])\n",
    "tc =  0.5255e-9 #correlation time\n",
    "Nspins = 2 \n",
    "\n",
    "#The chemical shifts in ppm, used as input in Spinach\n",
    "zeeman_scalar_1 = -113.8796\n",
    "zeeman_scalar_2 = -129.8002\n",
    "zeeman_scalars = [zeeman_scalar_1,zeeman_scalar_2]\n",
    "\n",
    "#w0*zeeman_scalars[i]/1e6\n",
    "chem_shifts = get_chemical_shifts(gammaF,B0,zeeman_scalars)\n",
    "\n",
    "\n",
    "list_jumps, list_damp_rates, list_dets=Get_Det_And_Rates(2*np.pi*freqs,tc,coords,Nspins,gammaF,chem_shifts)\n",
    "\n"
   ]
  },
  {
   "cell_type": "code",
   "execution_count": 71,
   "metadata": {},
   "outputs": [
    {
     "name": "stdout",
     "output_type": "stream",
     "text": [
      "            Jump Ops  Damp Rates (rad/s)  Detunings (rad/s)\n",
      "0   [S0+S1+, S0-S1-]            0.114401       5.820766e-11\n",
      "1   [S0-S1-, S0+S1+]            0.114401       5.820766e-11\n",
      "2   [S0zS1+, S0zS1-]            0.322737       0.000000e+00\n",
      "3   [S0zS1-, S0zS1+]            0.322737       0.000000e+00\n",
      "4   [S0+S1z, S0zS1-]            0.322737       3.765814e+04\n",
      "5   [S0zS1-, S0+S1z]            0.322737       3.765814e+04\n",
      "6   [S0+S1z, S0-S1z]            0.322731       0.000000e+00\n",
      "7   [S0-S1z, S0+S1z]            0.322731       0.000000e+00\n",
      "8   [S0zS1+, S0-S1z]            0.322731       3.765814e+04\n",
      "9   [S0-S1z, S0zS1+]            0.322731       3.765814e+04\n",
      "10  [S0zS1z, S0zS1z]            2.190013       0.000000e+00\n",
      "11  [S0+S1-, S0zS1z]            0.547503       3.765814e+04\n",
      "12  [S0zS1z, S0+S1-]            0.547503       3.765814e+04\n",
      "13  [S0zS1z, S0-S1+]            0.547503       3.765814e+04\n",
      "14  [S0-S1+, S0zS1z]            0.547503       3.765814e+04\n",
      "15  [S0+S1-, S0-S1+]            0.136876       5.820766e-11\n",
      "16  [S0-S1+, S0+S1-]            0.136876       5.820766e-11\n",
      "17  [S0-S1+, S0-S1+]            0.136876       7.531628e+04\n",
      "18  [S0-S1+, S0-S1+]            0.136876       7.531628e+04\n"
     ]
    }
   ],
   "source": [
    "# Create the DataFrame\n",
    "df = pd.DataFrame({\n",
    "    'Jump Ops': list_jumps,\n",
    "    'Damp Rates (rad/s)': list_damp_rates,\n",
    "    'Detunings (rad/s)': list_dets\n",
    "})\n",
    "\n",
    "# Display the DataFrame\n",
    "print(df)"
   ]
  },
  {
   "cell_type": "markdown",
   "metadata": {},
   "source": [
    "# Alanine damping rates and detunings"
   ]
  },
  {
   "cell_type": "code",
   "execution_count": 2,
   "metadata": {},
   "outputs": [],
   "source": [
    "tc = 0.05e-9 # in seconds\n",
    "gammaH = 2.6752e8\n",
    "B0 =14.1\n",
    "Nspins = 4\n",
    "\n",
    "w1 = -600344544.5579\n",
    "w2 = -600343524.536\n",
    "w3 = -600343524.536\n",
    "w4 = -600343524.536\n",
    "\n",
    "freqs = np.array([w1,w2,w3,w4])\n",
    "\n",
    "coords = np.array([\n",
    "    [ 0.6861,0.2705,1.5010],\n",
    "    [1.3077, 1.1298, -1.3993],\n",
    "    [0.7905, 2.2125, -0.0860],\n",
    "    [ 2.3693, 1.3798, 0.0233]\n",
    "])\n",
    "\n",
    "coords = coords*1e-10\n",
    "\n",
    "#isotropic chemical shifts in ppm taken from the chemical shift tensors introduced in Spinach\n",
    "zeeman_scalar_1 = 3.4938\n",
    "zeeman_scalar_2 = 1.7947\n",
    "zeeman_scalar_3 = 1.7947\n",
    "zeeman_scalar_4 = 1.7947\n",
    "\n",
    "zeeman_scalars = [zeeman_scalar_1,zeeman_scalar_2,zeeman_scalar_3,zeeman_scalar_4]\n",
    "\n",
    "chem_shifts = get_chemical_shifts(gammaH,B0,zeeman_scalars)\n",
    "\n",
    "\n",
    "list_jumps, list_damp_rates, list_dets=Get_Det_And_Rates(2*np.pi*freqs,tc,coords,Nspins,gammaH,chem_shifts)\n"
   ]
  },
  {
   "cell_type": "code",
   "execution_count": 3,
   "metadata": {},
   "outputs": [
    {
     "name": "stdout",
     "output_type": "stream",
     "text": [
      "             Jump Ops  Damp Rates (rad/s)  Detunings (rad/s)\n",
      "0    [S0+S1+, S0-S1-]            0.008624           0.000000\n",
      "1    [S0-S1-, S0+S1+]            0.008624           0.000000\n",
      "2    [S0zS1+, S0zS1-]            0.009513           0.000000\n",
      "3    [S0zS1-, S0zS1+]            0.009513           0.000000\n",
      "4    [S0+S1z, S0zS1-]            0.009513        6409.059571\n",
      "..                ...                 ...                ...\n",
      "679  [S2-S3+, S2zS3z]            0.174166           0.000000\n",
      "680  [S2+S3-, S2-S3+]            0.043542           0.000000\n",
      "681  [S2-S3+, S2+S3-]            0.043542           0.000000\n",
      "682  [S2-S3+, S2-S3+]            0.043542           0.000000\n",
      "683  [S2-S3+, S2-S3+]            0.043542           0.000000\n",
      "\n",
      "[684 rows x 3 columns]\n"
     ]
    }
   ],
   "source": [
    "# Create the DataFrame\n",
    "df = pd.DataFrame({\n",
    "    'Jump Ops': list_jumps,\n",
    "    'Damp Rates (rad/s)': list_damp_rates,\n",
    "    'Detunings (rad/s)': list_dets\n",
    "})\n",
    "\n",
    "# Display the DataFrame\n",
    "print(df)"
   ]
  },
  {
   "cell_type": "code",
   "execution_count": null,
   "metadata": {},
   "outputs": [],
   "source": [
    "\n"
   ]
  },
  {
   "cell_type": "markdown",
   "metadata": {},
   "source": [
    "# The DFG case"
   ]
  },
  {
   "cell_type": "code",
   "execution_count": 42,
   "metadata": {},
   "outputs": [],
   "source": [
    "loadMat = spio.loadmat('./data/DFG_kite.mat',squeeze_me=True)\n",
    "\n",
    "R_refKite= loadMat['p']['R'].item()\n",
    "H_refKite = loadMat['p']['H'].item()"
   ]
  },
  {
   "cell_type": "code",
   "execution_count": 43,
   "metadata": {},
   "outputs": [],
   "source": [
    "###Analytically generated ZZ-terms,\n",
    "text=\"\"\"1      (0,0)   (0,0)   \n",
    "  2      (0,0)   (1,1)   \n",
    "  3      (0,0)   (1,0)   \n",
    "  4      (0,0)   (1,-1)  \n",
    "  5      (1,1)   (0,0)   \n",
    "  6      (1,1)   (1,1)   \n",
    "  7      (1,1)   (1,0)   \n",
    "  8      (1,1)   (1,-1)  \n",
    "  9      (1,0)   (0,0)   \n",
    "  10     (1,0)   (1,1)   \n",
    "  11     (1,0)   (1,0)   \n",
    "  12     (1,0)   (1,-1)  \n",
    "  13     (1,-1)  (0,0)   \n",
    "  14     (1,-1)  (1,1)   \n",
    "  15     (1,-1)  (1,0)   \n",
    "  16     (1,-1)  (1,-1)  \n",
    "\"\"\"\n",
    "\n",
    "\n",
    "gammaF = 251814800\n",
    "coord1 = np.array([-0.0551,-1.2087,-1.6523])*1e-10\n",
    "coord2 = np.array([-0.8604 ,-2.3200 ,-0.0624])*1e-10\n",
    "\n",
    "coords = np.array([coord1,coord2])\n",
    "w1 = -376417768.6316 \n",
    "w2 = -376411775.1523 \n",
    "freqs = np.array([w1,w2])\n",
    "\n",
    "tc =  0.5255e-9\n",
    "Nspins = 2 \n",
    "\n",
    "data = read_spinach_info(text)\n",
    "\n",
    "basis = build_list_ISTs(data)\n",
    "\n",
    "Normbasis = NormalizeBasis(basis,n_qubits=2,checkOrth=True)"
   ]
  },
  {
   "cell_type": "code",
   "execution_count": 5,
   "metadata": {},
   "outputs": [
    {
     "name": "stdout",
     "output_type": "stream",
     "text": [
      "Finished computing the K2 type contributions\n",
      "Finished computing the K1 type contributions\n",
      "Finished computing the K0 type contributions\n",
      "Finished computing the K1 type contributions\n",
      "Finished computing the K0 type contributions\n"
     ]
    }
   ],
   "source": [
    "R_kite_dev = KiteRelMatrixMany(2*np.pi*freqs,tc,coords,Nspins,gammaF,Normbasis)\n",
    "R_kite_approx = ApproxKiteMany(2*np.pi*freqs,tc,coords,Nspins,gammaF,Normbasis)"
   ]
  },
  {
   "cell_type": "code",
   "execution_count": 6,
   "metadata": {},
   "outputs": [
    {
     "data": {
      "text/plain": [
       "0.0017873835640859778"
      ]
     },
     "execution_count": 6,
     "metadata": {},
     "output_type": "execute_result"
    }
   ],
   "source": [
    "np.linalg.norm(R_refKite-R_kite_dev)"
   ]
  },
  {
   "cell_type": "code",
   "execution_count": 7,
   "metadata": {},
   "outputs": [
    {
     "data": {
      "text/plain": [
       "0.6459184908148382"
      ]
     },
     "execution_count": 7,
     "metadata": {},
     "output_type": "execute_result"
    }
   ],
   "source": [
    "np.linalg.norm(R_refKite-R_kite_approx)"
   ]
  },
  {
   "cell_type": "code",
   "execution_count": 9,
   "metadata": {},
   "outputs": [
    {
     "data": {
      "text/plain": [
       "<matplotlib.colorbar.Colorbar at 0x134ea9f90>"
      ]
     },
     "execution_count": 9,
     "metadata": {},
     "output_type": "execute_result"
    },
    {
     "data": {
      "image/png": "[encoded data removed]",
      "text/plain": [
       "<Figure size 640x480 with 2 Axes>"
      ]
     },
     "metadata": {},
     "output_type": "display_data"
    }
   ],
   "source": [
    "plt.imshow(np.real(R_kite_approx), cmap='viridis', interpolation='nearest')\n",
    "# Add a color bar to sh-1j*ow the scale\n",
    "plt.colorbar()"
   ]
  },
  {
   "cell_type": "code",
   "execution_count": 6,
   "metadata": {},
   "outputs": [
    {
     "data": {
      "text/plain": [
       "<matplotlib.colorbar.Colorbar at 0x134db9890>"
      ]
     },
     "execution_count": 6,
     "metadata": {},
     "output_type": "execute_result"
    },
    {
     "data": {
      "image/png": "[encoded data removed]",
      "text/plain": [
       "<Figure size 640x480 with 2 Axes>"
      ]
     },
     "metadata": {},
     "output_type": "display_data"
    }
   ],
   "source": [
    "plt.imshow(np.real(R_kite_dev), cmap='viridis', interpolation='nearest')\n",
    "# Add a color bar to sh-1j*ow the scale\n",
    "plt.colorbar()"
   ]
  },
  {
   "cell_type": "code",
   "execution_count": 8,
   "metadata": {},
   "outputs": [
    {
     "data": {
      "text/plain": [
       "0.0017873835640859778"
      ]
     },
     "execution_count": 8,
     "metadata": {},
     "output_type": "execute_result"
    }
   ],
   "source": [
    "np.linalg.norm(R_refKite-R_kite_dev)"
   ]
  },
  {
   "cell_type": "code",
   "execution_count": 9,
   "metadata": {},
   "outputs": [
    {
     "data": {
      "text/plain": [
       "<matplotlib.colorbar.Colorbar at 0x1405cc350>"
      ]
     },
     "execution_count": 9,
     "metadata": {},
     "output_type": "execute_result"
    },
    {
     "data": {
      "image/png": "[encoded data removed]",
      "text/plain": [
       "<Figure size 640x480 with 2 Axes>"
      ]
     },
     "metadata": {},
     "output_type": "display_data"
    }
   ],
   "source": [
    "plt.imshow(np.real(R_refKite), cmap='viridis', interpolation='nearest')\n",
    "# Add a color bar to sh-1j*ow the scale\n",
    "plt.colorbar()"
   ]
  },
  {
   "cell_type": "markdown",
   "metadata": {},
   "source": [
    "# Checking the 4 spin case"
   ]
  },
  {
   "cell_type": "code",
   "execution_count": 8,
   "metadata": {},
   "outputs": [],
   "source": [
    "import pickle"
   ]
  },
  {
   "cell_type": "code",
   "execution_count": 9,
   "metadata": {},
   "outputs": [],
   "source": [
    "loadMat = spio.loadmat('./data/ALA_NOESY_withGradients_kite.mat',squeeze_me=True)\n",
    "\n",
    "R_refALAKite= loadMat['p']['R'].item()\n",
    "R_refALAKite=R_refALAKite.toarray()\n",
    "H_refALAKite = loadMat['p']['H'].item()"
   ]
  },
  {
   "cell_type": "code",
   "execution_count": 10,
   "metadata": {},
   "outputs": [],
   "source": [
    "f = open('./data/ALA_Analytical_Kite.pk','rb')\n",
    "data = pickle.load(f)\n",
    "\n",
    "ALA_Analytical_Kite = data['KiteMat']"
   ]
  },
  {
   "cell_type": "code",
   "execution_count": 11,
   "metadata": {},
   "outputs": [],
   "source": [
    "#Collecting off-diagonal indexes....\n",
    "\n",
    "Ref_Kite_offidxs = []\n",
    "AN_Kite_offdixs = []\n",
    "\n",
    "for i in range(256):\n",
    "    for j in range(i+1,256):\n",
    "        if np.abs(R_refALAKite[i,j])!=0:\n",
    "            Ref_Kite_offidxs.append([i,j])\n",
    "        if np.abs(ALA_Analytical_Kite[i,j])!=0:\n",
    "            AN_Kite_offdixs.append([i,j])\n",
    "\n",
    "#collect all the indexes that are not in the reference...\n",
    "\n",
    "Extra_offidxs_ALA = []\n",
    "for idx in AN_Kite_offdixs:\n",
    "    if idx not in Ref_Kite_offidxs:\n",
    "        Extra_offidxs_ALA.append(idx)\n",
    "\n"
   ]
  },
  {
   "cell_type": "code",
   "execution_count": 18,
   "metadata": {},
   "outputs": [],
   "source": [
    "sum_off = 0.0\n",
    "\n",
    "list_off_values = []\n",
    "for idx in Extra_offidxs_ALA:\n",
    "    sum_off+=np.abs(ALA_Analytical_Kite[idx[0],idx[1]])\n",
    "    list_off_values.append(ALA_Analytical_Kite[idx[0],idx[1]])\n"
   ]
  },
  {
   "cell_type": "code",
   "execution_count": 36,
   "metadata": {},
   "outputs": [],
   "source": [
    "diff=0.0\n",
    "for i in range(256):\n",
    "    diff+=np.abs(R_refALAKite[i,i]-ALA_Analytical_Kite[i,i])\n"
   ]
  },
  {
   "cell_type": "code",
   "execution_count": 38,
   "metadata": {},
   "outputs": [
    {
     "data": {
      "text/plain": [
       "0.06425369883525303"
      ]
     },
     "execution_count": 38,
     "metadata": {},
     "output_type": "execute_result"
    }
   ],
   "source": [
    "diff/256"
   ]
  },
  {
   "cell_type": "code",
   "execution_count": 39,
   "metadata": {},
   "outputs": [
    {
     "data": {
      "text/plain": [
       "array([ 0.        +0.j, -1.74919009+0.j, -1.68958886+0.j, -1.74919009+0.j,\n",
       "       -1.78472988+0.j, -2.52290813+0.j, -2.42520965+0.j, -2.29450392+0.j,\n",
       "       -1.7239392 +0.j, -2.42399897+0.j, -2.32450054+0.j, -2.42399897+0.j,\n",
       "       -1.78472988+0.j, -2.29450392+0.j, -2.42520965+0.j, -2.52290813+0.j,\n",
       "       -1.69609165+0.j, -2.43466071+0.j, -2.35168549+0.j, -2.2378731 +0.j,\n",
       "       -2.44382745+0.j, -2.39809851+0.j, -2.10809152+0.j, -1.65709032+0.j,\n",
       "       -2.33725378+0.j, -2.09468537+0.j, -1.9038369 +0.j, -1.76197844+0.j,\n",
       "       -2.19515167+0.j, -1.62953743+0.j, -1.74391787+0.j, -1.65333307+0.j,\n",
       "       -1.63832069+0.j, -2.35350966+0.j, -2.25454433+0.j, -2.35350966+0.j,\n",
       "       -2.34028862+0.j, -2.1091586 +0.j, -1.90741754+0.j, -1.75140322+0.j,\n",
       "       -2.23824941+0.j, -1.90433717+0.j, -1.76544553+0.j, -1.90433717+0.j,\n",
       "       -2.34028862+0.j, -1.75140322+0.j, -1.90741754+0.j, -2.1091586 +0.j,\n",
       "       -1.69609165+0.j, -2.2378731 +0.j, -2.35168549+0.j, -2.43466071+0.j,\n",
       "       -2.19515167+0.j, -1.65333307+0.j, -1.74391787+0.j, -1.62953743+0.j,\n",
       "       -2.33725378+0.j, -1.76197844+0.j, -1.9038369 +0.j, -2.09468537+0.j,\n",
       "       -2.44382745+0.j, -1.65709032+0.j, -2.10809152+0.j, -2.39809851+0.j,\n",
       "       -0.25421344+0.j, -1.7852867 +0.j, -1.80307037+0.j, -1.91962244+0.j,\n",
       "       -1.81798334+0.j, -2.44663038+0.j, -2.37583799+0.j, -2.27370973+0.j,\n",
       "       -1.84096914+0.j, -2.37828538+0.j, -2.30081145+0.j, -2.40195833+0.j,\n",
       "       -1.9656645 +0.j, -2.28049231+0.j, -2.40730627+0.j, -2.45852372+0.j,\n",
       "       -1.60184339+0.j, -2.20841161+0.j, -2.20843643+0.j, -2.19217422+0.j,\n",
       "       -2.21676246+0.j, -2.14751433+0.j, -1.89009847+0.j, -1.50828961+0.j,\n",
       "       -2.19849331+0.j, -1.87923337+0.j, -1.71604373+0.j, -1.61644507+0.j,\n",
       "       -2.16021578+0.j, -1.4856926 +0.j, -1.60183563+0.j, -1.50538723+0.j,\n",
       "       -1.85296919+0.j, -2.34836504+0.j, -2.32847024+0.j, -2.48607718+0.j,\n",
       "       -2.33304001+0.j, -1.99071629+0.j, -1.81757261+0.j, -1.69185145+0.j,\n",
       "       -2.3157357 +0.j, -1.81737008+0.j, -1.70222212+0.j, -1.84440259+0.j,\n",
       "       -2.4825473 +0.j, -1.69701986+0.j, -1.85082385+0.j, -2.00780418+0.j,\n",
       "       -2.21389754+0.j, -2.44752866+0.j, -2.63705312+0.j, -2.74042378+0.j,\n",
       "       -2.40187136+0.j, -1.66040959+0.j, -1.77628195+0.j, -1.65394033+0.j,\n",
       "       -2.62522808+0.j, -1.79710929+0.j, -1.95935614+0.j, -2.11527165+0.j,\n",
       "       -2.7579285 +0.j, -1.68625379+0.j, -2.13162449+0.j, -2.33858698+0.j,\n",
       "       -0.24498659+0.j, -1.85343779+0.j, -1.78848447+0.j, -1.85343779+0.j,\n",
       "       -1.89254583+0.j, -2.46775724+0.j, -2.38693913+0.j, -2.28383241+0.j,\n",
       "       -1.82653411+0.j, -2.3858594 +0.j, -2.28100446+0.j, -2.3858594 +0.j,\n",
       "       -1.89254583+0.j, -2.28383241+0.j, -2.38693913+0.j, -2.46775724+0.j,\n",
       "       -1.90151048+0.j, -2.48160689+0.j, -2.41101786+0.j, -2.32031862+0.j,\n",
       "       -2.49428431+0.j, -2.26783512+0.j, -2.01245635+0.j, -1.60680766+0.j,\n",
       "       -2.40028534+0.j, -1.99923572+0.j, -1.820782  +0.j, -1.70203228+0.j,\n",
       "       -2.28120439+0.j, -1.57935615+0.j, -1.6838796 +0.j, -1.59415627+0.j,\n",
       "       -1.84223975+0.j, -2.41668987+0.j, -2.31237242+0.j, -2.41668987+0.j,\n",
       "       -2.40703709+0.j, -2.01292893+0.j, -1.82807954+0.j, -1.69966418+0.j,\n",
       "       -2.29977679+0.j, -1.82513012+0.j, -1.68088192+0.j, -1.82513012+0.j,\n",
       "       -2.40703709+0.j, -1.69966418+0.j, -1.82807954+0.j, -2.01292893+0.j,\n",
       "       -1.90151048+0.j, -2.32031862+0.j, -2.41101786+0.j, -2.48160689+0.j,\n",
       "       -2.28120439+0.j, -1.59415627+0.j, -1.6838796 +0.j, -1.57935615+0.j,\n",
       "       -2.40028534+0.j, -1.70203228+0.j, -1.820782  +0.j, -1.99923572+0.j,\n",
       "       -2.49428431+0.j, -1.60680766+0.j, -2.01245635+0.j, -2.26783512+0.j,\n",
       "       -0.25421344+0.j, -1.91962244+0.j, -1.80307037+0.j, -1.7852867 +0.j,\n",
       "       -1.9656645 +0.j, -2.45852372+0.j, -2.40730627+0.j, -2.28049231+0.j,\n",
       "       -1.84096914+0.j, -2.40195833+0.j, -2.30081145+0.j, -2.37828538+0.j,\n",
       "       -1.81798334+0.j, -2.27370973+0.j, -2.37583799+0.j, -2.44663038+0.j,\n",
       "       -2.21389754+0.j, -2.74042378+0.j, -2.63705312+0.j, -2.44752866+0.j,\n",
       "       -2.7579285 +0.j, -2.33858698+0.j, -2.13162449+0.j, -1.68625379+0.j,\n",
       "       -2.62522808+0.j, -2.11527165+0.j, -1.95935614+0.j, -1.79710929+0.j,\n",
       "       -2.40187136+0.j, -1.65394033+0.j, -1.77628195+0.j, -1.66040959+0.j,\n",
       "       -1.85296919+0.j, -2.48607718+0.j, -2.32847024+0.j, -2.34836504+0.j,\n",
       "       -2.4825473 +0.j, -2.00780418+0.j, -1.85082385+0.j, -1.69701986+0.j,\n",
       "       -2.3157357 +0.j, -1.84440259+0.j, -1.70222212+0.j, -1.81737008+0.j,\n",
       "       -2.33304001+0.j, -1.69185145+0.j, -1.81757261+0.j, -1.99071629+0.j,\n",
       "       -1.60184339+0.j, -2.19217422+0.j, -2.20843643+0.j, -2.20841161+0.j,\n",
       "       -2.16021578+0.j, -1.50538723+0.j, -1.60183563+0.j, -1.4856926 +0.j,\n",
       "       -2.19849331+0.j, -1.61644507+0.j, -1.71604373+0.j, -1.87923337+0.j,\n",
       "       -2.21676246+0.j, -1.50828961+0.j, -1.89009847+0.j, -2.14751433+0.j])"
      ]
     },
     "execution_count": 39,
     "metadata": {},
     "output_type": "execute_result"
    }
   ],
   "source": [
    "np.diag(R_refALAKite)"
   ]
  },
  {
   "cell_type": "code",
   "execution_count": 35,
   "metadata": {},
   "outputs": [
    {
     "data": {
      "text/plain": [
       "1.6486728558822372"
      ]
     },
     "execution_count": 35,
     "metadata": {},
     "output_type": "execute_result"
    }
   ],
   "source": [
    "np.linalg.norm(np.diag(ALA_Analytical_Kite)-np.diag(R_refALAKite))"
   ]
  },
  {
   "cell_type": "code",
   "execution_count": 33,
   "metadata": {},
   "outputs": [
    {
     "data": {
      "text/plain": [
       "0.03513270827257491"
      ]
     },
     "execution_count": 33,
     "metadata": {},
     "output_type": "execute_result"
    }
   ],
   "source": [
    "np.sum(np.abs(list_off_values))/len(list_off_values)"
   ]
  },
  {
   "cell_type": "code",
   "execution_count": 34,
   "metadata": {},
   "outputs": [
    {
     "data": {
      "text/plain": [
       "2.030772637636818"
      ]
     },
     "execution_count": 34,
     "metadata": {},
     "output_type": "execute_result"
    }
   ],
   "source": [
    "np.sum(np.abs(np.diag(ALA_Analytical_Kite)))/256"
   ]
  },
  {
   "cell_type": "code",
   "execution_count": 31,
   "metadata": {},
   "outputs": [
    {
     "data": {
      "text/plain": [
       "(' S+0   Sz2 S+3', ' S+0 Sz1   S+3')"
      ]
     },
     "execution_count": 31,
     "metadata": {},
     "output_type": "execute_result"
    }
   ],
   "source": [
    "Symb_ALA_basis[73], Symb_ALA_basis[97]"
   ]
  },
  {
   "cell_type": "code",
   "execution_count": null,
   "metadata": {},
   "outputs": [],
   "source": []
  },
  {
   "cell_type": "code",
   "execution_count": 24,
   "metadata": {},
   "outputs": [
    {
     "data": {
      "text/plain": [
       "(-0.38220176938405204+0j)"
      ]
     },
     "execution_count": 24,
     "metadata": {},
     "output_type": "execute_result"
    }
   ],
   "source": [
    "ALA_Analytical_Kite[73,97]"
   ]
  },
  {
   "cell_type": "code",
   "execution_count": 21,
   "metadata": {},
   "outputs": [
    {
     "data": {
      "text/plain": [
       "91"
      ]
     },
     "execution_count": 21,
     "metadata": {},
     "output_type": "execute_result"
    }
   ],
   "source": [
    "np.argmax(np.abs(list_off_values))"
   ]
  },
  {
   "cell_type": "code",
   "execution_count": 22,
   "metadata": {},
   "outputs": [
    {
     "data": {
      "text/plain": [
       "(-0.38220176938405204+0j)"
      ]
     },
     "execution_count": 22,
     "metadata": {},
     "output_type": "execute_result"
    }
   ],
   "source": [
    "list_off_values[91]"
   ]
  },
  {
   "cell_type": "code",
   "execution_count": 71,
   "metadata": {},
   "outputs": [
    {
     "data": {
      "text/plain": [
       "('     Sz2  ', ' Sz0      ')"
      ]
     },
     "execution_count": 71,
     "metadata": {},
     "output_type": "execute_result"
    }
   ],
   "source": [
    "Symb_ALA_basis[8], Symb_ALA_basis[128]"
   ]
  },
  {
   "cell_type": "code",
   "execution_count": 74,
   "metadata": {},
   "outputs": [
    {
     "data": {
      "text/plain": [
       "('     S+2 Sz3', '   Sz1 S+2  ')"
      ]
     },
     "execution_count": 74,
     "metadata": {},
     "output_type": "execute_result"
    }
   ],
   "source": [
    "Symb_ALA_basis[6], Symb_ALA_basis[36]"
   ]
  },
  {
   "cell_type": "code",
   "execution_count": 80,
   "metadata": {},
   "outputs": [
    {
     "data": {
      "text/plain": [
       "(-1+0j)"
      ]
     },
     "execution_count": 80,
     "metadata": {},
     "output_type": "execute_result"
    }
   ],
   "source": [
    "from openfermion import QubitOperator\n",
    "from basis_utils import S_plus,S_minus,Sz,InnProd\n",
    "\n",
    "\n",
    "def AN_Lib(rho,A,B):\n",
    "    return A*rho*B-0.5*(A*B*rho+rho*A*B)\n",
    "\n",
    "A = S_plus(1) * S_plus(3)\n",
    "B = S_minus(1)*S_minus(3)\n",
    "\n",
    "rho = Sz(1)*S_plus(2)\n",
    "\n",
    "\n",
    "#AN_Lib(rho,A,B)\n",
    "\n",
    "InnProd(Sz(3)*S_plus(2),AN_Lib(rho,B,A),n_qubits=4)"
   ]
  },
  {
   "cell_type": "code",
   "execution_count": 48,
   "metadata": {},
   "outputs": [
    {
     "data": {
      "text/plain": [
       "[[6, 36],\n",
       " [6, 132],\n",
       " [9, 33],\n",
       " [9, 129],\n",
       " [11, 35],\n",
       " [11, 131],\n",
       " [14, 44],\n",
       " [14, 140],\n",
       " [18, 24],\n",
       " [18, 144],\n",
       " [21, 23],\n",
       " [21, 29],\n",
       " [21, 31],\n",
       " [21, 53],\n",
       " [21, 55],\n",
       " [21, 61],\n",
       " [21, 63],\n",
       " [22, 148],\n",
       " [23, 29],\n",
       " [23, 31],\n",
       " [23, 53],\n",
       " [23, 55],\n",
       " [23, 61],\n",
       " [23, 63],\n",
       " [24, 144],\n",
       " [25, 145],\n",
       " [26, 146],\n",
       " [26, 152],\n",
       " [27, 147],\n",
       " [29, 31],\n",
       " [29, 53],\n",
       " [29, 55],\n",
       " [29, 61],\n",
       " [29, 63],\n",
       " [30, 156],\n",
       " [31, 53],\n",
       " [31, 55],\n",
       " [31, 61],\n",
       " [31, 63],\n",
       " [33, 129],\n",
       " [35, 131],\n",
       " [36, 132],\n",
       " [37, 133],\n",
       " [38, 134],\n",
       " [38, 164],\n",
       " [39, 135],\n",
       " [41, 137],\n",
       " [41, 161],\n",
       " [43, 139],\n",
       " [43, 163],\n",
       " [44, 140],\n",
       " [45, 141],\n",
       " [46, 142],\n",
       " [46, 172],\n",
       " [47, 143],\n",
       " [50, 56],\n",
       " [50, 176],\n",
       " [53, 55],\n",
       " [53, 61],\n",
       " [53, 63],\n",
       " [53, 181],\n",
       " [54, 180],\n",
       " [55, 61],\n",
       " [55, 63],\n",
       " [55, 183],\n",
       " [56, 176],\n",
       " [57, 177],\n",
       " [58, 178],\n",
       " [58, 184],\n",
       " [59, 179],\n",
       " [61, 63],\n",
       " [61, 189],\n",
       " [62, 188],\n",
       " [63, 191],\n",
       " [66, 72],\n",
       " [66, 96],\n",
       " [69, 71],\n",
       " [69, 77],\n",
       " [69, 79],\n",
       " [69, 197],\n",
       " [69, 199],\n",
       " [69, 205],\n",
       " [69, 207],\n",
       " [70, 100],\n",
       " [71, 77],\n",
       " [71, 79],\n",
       " [71, 197],\n",
       " [71, 199],\n",
       " [71, 205],\n",
       " [71, 207],\n",
       " [72, 96],\n",
       " [73, 97],\n",
       " [74, 98],\n",
       " [74, 104],\n",
       " [75, 99],\n",
       " [77, 79],\n",
       " [77, 197],\n",
       " [77, 199],\n",
       " [77, 205],\n",
       " [77, 207],\n",
       " [78, 108],\n",
       " [79, 197],\n",
       " [79, 199],\n",
       " [79, 205],\n",
       " [79, 207],\n",
       " [81, 83],\n",
       " [81, 113],\n",
       " [81, 115],\n",
       " [81, 209],\n",
       " [81, 211],\n",
       " [81, 241],\n",
       " [81, 243],\n",
       " [82, 88],\n",
       " [83, 113],\n",
       " [83, 115],\n",
       " [83, 209],\n",
       " [83, 211],\n",
       " [83, 241],\n",
       " [83, 243],\n",
       " [84, 92],\n",
       " [84, 116],\n",
       " [84, 124],\n",
       " [84, 212],\n",
       " [84, 220],\n",
       " [84, 244],\n",
       " [84, 252],\n",
       " [85, 87],\n",
       " [85, 93],\n",
       " [85, 95],\n",
       " [85, 117],\n",
       " [85, 119],\n",
       " [85, 125],\n",
       " [85, 127],\n",
       " [85, 213],\n",
       " [85, 215],\n",
       " [85, 221],\n",
       " [85, 223],\n",
       " [85, 245],\n",
       " [85, 247],\n",
       " [85, 253],\n",
       " [85, 255],\n",
       " [86, 94],\n",
       " [86, 118],\n",
       " [86, 126],\n",
       " [86, 214],\n",
       " [86, 222],\n",
       " [86, 246],\n",
       " [86, 254],\n",
       " [87, 93],\n",
       " [87, 95],\n",
       " [87, 117],\n",
       " [87, 119],\n",
       " [87, 125],\n",
       " [87, 127],\n",
       " [87, 213],\n",
       " [87, 215],\n",
       " [87, 221],\n",
       " [87, 223],\n",
       " [87, 245],\n",
       " [87, 247],\n",
       " [87, 253],\n",
       " [87, 255],\n",
       " [89, 91],\n",
       " [89, 121],\n",
       " [89, 123],\n",
       " [89, 217],\n",
       " [89, 219],\n",
       " [89, 249],\n",
       " [89, 251],\n",
       " [91, 121],\n",
       " [91, 123],\n",
       " [91, 217],\n",
       " [91, 219],\n",
       " [91, 249],\n",
       " [91, 251],\n",
       " [92, 116],\n",
       " [92, 124],\n",
       " [92, 212],\n",
       " [92, 220],\n",
       " [92, 244],\n",
       " [92, 252],\n",
       " [93, 95],\n",
       " [93, 117],\n",
       " [93, 119],\n",
       " [93, 125],\n",
       " [93, 127],\n",
       " [93, 213],\n",
       " [93, 215],\n",
       " [93, 221],\n",
       " [93, 223],\n",
       " [93, 245],\n",
       " [93, 247],\n",
       " [93, 253],\n",
       " [93, 255],\n",
       " [94, 118],\n",
       " [94, 126],\n",
       " [94, 214],\n",
       " [94, 222],\n",
       " [94, 246],\n",
       " [94, 254],\n",
       " [95, 117],\n",
       " [95, 119],\n",
       " [95, 125],\n",
       " [95, 127],\n",
       " [95, 213],\n",
       " [95, 215],\n",
       " [95, 221],\n",
       " [95, 223],\n",
       " [95, 245],\n",
       " [95, 247],\n",
       " [95, 253],\n",
       " [95, 255],\n",
       " [98, 104],\n",
       " [101, 103],\n",
       " [101, 109],\n",
       " [101, 111],\n",
       " [101, 229],\n",
       " [101, 231],\n",
       " [101, 237],\n",
       " [101, 239],\n",
       " [103, 109],\n",
       " [103, 111],\n",
       " [103, 229],\n",
       " [103, 231],\n",
       " [103, 237],\n",
       " [103, 239],\n",
       " [109, 111],\n",
       " [109, 229],\n",
       " [109, 231],\n",
       " [109, 237],\n",
       " [109, 239],\n",
       " [111, 229],\n",
       " [111, 231],\n",
       " [111, 237],\n",
       " [111, 239],\n",
       " [113, 115],\n",
       " [113, 209],\n",
       " [113, 211],\n",
       " [113, 241],\n",
       " [113, 243],\n",
       " [114, 120],\n",
       " [115, 209],\n",
       " [115, 211],\n",
       " [115, 241],\n",
       " [115, 243],\n",
       " [116, 124],\n",
       " [116, 212],\n",
       " [116, 220],\n",
       " [116, 244],\n",
       " [116, 252],\n",
       " [117, 119],\n",
       " [117, 125],\n",
       " [117, 127],\n",
       " [117, 213],\n",
       " [117, 215],\n",
       " [117, 221],\n",
       " [117, 223],\n",
       " [117, 245],\n",
       " [117, 247],\n",
       " [117, 253],\n",
       " [117, 255],\n",
       " [118, 126],\n",
       " [118, 214],\n",
       " [118, 222],\n",
       " [118, 246],\n",
       " [118, 254],\n",
       " [119, 125],\n",
       " [119, 127],\n",
       " [119, 213],\n",
       " [119, 215],\n",
       " [119, 221],\n",
       " [119, 223],\n",
       " [119, 245],\n",
       " [119, 247],\n",
       " [119, 253],\n",
       " [119, 255],\n",
       " [121, 123],\n",
       " [121, 217],\n",
       " [121, 219],\n",
       " [121, 249],\n",
       " [121, 251],\n",
       " [123, 217],\n",
       " [123, 219],\n",
       " [123, 249],\n",
       " [123, 251],\n",
       " [124, 212],\n",
       " [124, 220],\n",
       " [124, 244],\n",
       " [124, 252],\n",
       " [125, 127],\n",
       " [125, 213],\n",
       " [125, 215],\n",
       " [125, 221],\n",
       " [125, 223],\n",
       " [125, 245],\n",
       " [125, 247],\n",
       " [125, 253],\n",
       " [125, 255],\n",
       " [126, 214],\n",
       " [126, 222],\n",
       " [126, 246],\n",
       " [126, 254],\n",
       " [127, 213],\n",
       " [127, 215],\n",
       " [127, 221],\n",
       " [127, 223],\n",
       " [127, 245],\n",
       " [127, 247],\n",
       " [127, 253],\n",
       " [127, 255],\n",
       " [134, 164],\n",
       " [137, 161],\n",
       " [139, 163],\n",
       " [142, 172],\n",
       " [146, 152],\n",
       " [149, 151],\n",
       " [149, 157],\n",
       " [149, 159],\n",
       " [149, 181],\n",
       " [149, 183],\n",
       " [149, 189],\n",
       " [149, 191],\n",
       " [151, 157],\n",
       " [151, 159],\n",
       " [151, 181],\n",
       " [151, 183],\n",
       " [151, 189],\n",
       " [151, 191],\n",
       " [157, 159],\n",
       " [157, 181],\n",
       " [157, 183],\n",
       " [157, 189],\n",
       " [157, 191],\n",
       " [159, 181],\n",
       " [159, 183],\n",
       " [159, 189],\n",
       " [159, 191],\n",
       " [178, 184],\n",
       " [181, 183],\n",
       " [181, 189],\n",
       " [181, 191],\n",
       " [183, 189],\n",
       " [183, 191],\n",
       " [189, 191],\n",
       " [194, 200],\n",
       " [194, 224],\n",
       " [197, 199],\n",
       " [197, 205],\n",
       " [197, 207],\n",
       " [198, 228],\n",
       " [199, 205],\n",
       " [199, 207],\n",
       " [200, 224],\n",
       " [201, 225],\n",
       " [202, 226],\n",
       " [202, 232],\n",
       " [203, 227],\n",
       " [205, 207],\n",
       " [206, 236],\n",
       " [209, 211],\n",
       " [209, 241],\n",
       " [209, 243],\n",
       " [210, 216],\n",
       " [211, 241],\n",
       " [211, 243],\n",
       " [212, 220],\n",
       " [212, 244],\n",
       " [212, 252],\n",
       " [213, 215],\n",
       " [213, 221],\n",
       " [213, 223],\n",
       " [213, 245],\n",
       " [213, 247],\n",
       " [213, 253],\n",
       " [213, 255],\n",
       " [214, 222],\n",
       " [214, 246],\n",
       " [214, 254],\n",
       " [215, 221],\n",
       " [215, 223],\n",
       " [215, 245],\n",
       " [215, 247],\n",
       " [215, 253],\n",
       " [215, 255],\n",
       " [217, 219],\n",
       " [217, 249],\n",
       " [217, 251],\n",
       " [219, 249],\n",
       " [219, 251],\n",
       " [220, 244],\n",
       " [220, 252],\n",
       " [221, 223],\n",
       " [221, 245],\n",
       " [221, 247],\n",
       " [221, 253],\n",
       " [221, 255],\n",
       " [222, 246],\n",
       " [222, 254],\n",
       " [223, 245],\n",
       " [223, 247],\n",
       " [223, 253],\n",
       " [223, 255],\n",
       " [226, 232],\n",
       " [229, 231],\n",
       " [229, 237],\n",
       " [229, 239],\n",
       " [231, 237],\n",
       " [231, 239],\n",
       " [237, 239],\n",
       " [241, 243],\n",
       " [242, 248],\n",
       " [244, 252],\n",
       " [245, 247],\n",
       " [245, 253],\n",
       " [245, 255],\n",
       " [246, 254],\n",
       " [247, 253],\n",
       " [247, 255],\n",
       " [249, 251],\n",
       " [253, 255]]"
      ]
     },
     "execution_count": 48,
     "metadata": {},
     "output_type": "execute_result"
    }
   ],
   "source": [
    "InnProd(Op1,Op2,n_qubits=None)"
   ]
  },
  {
   "cell_type": "code",
   "execution_count": 44,
   "metadata": {},
   "outputs": [
    {
     "data": {
      "text/plain": [
       "444"
      ]
     },
     "execution_count": 44,
     "metadata": {},
     "output_type": "execute_result"
    }
   ],
   "source": [
    "len(AN_Kite_offdixs)"
   ]
  },
  {
   "cell_type": "code",
   "execution_count": 46,
   "metadata": {},
   "outputs": [
    {
     "data": {
      "text/plain": [
       "True"
      ]
     },
     "execution_count": 46,
     "metadata": {},
     "output_type": "execute_result"
    }
   ],
   "source": [
    "[2,8] in Ref_Kite_offidxs"
   ]
  },
  {
   "cell_type": "code",
   "execution_count": 40,
   "metadata": {},
   "outputs": [
    {
     "data": {
      "text/plain": [
       "<matplotlib.colorbar.Colorbar at 0x1412b8d10>"
      ]
     },
     "execution_count": 40,
     "metadata": {},
     "output_type": "execute_result"
    },
    {
     "data": {
      "image/png": "[encoded data removed]",
      "text/plain": [
       "<Figure size 640x480 with 2 Axes>"
      ]
     },
     "metadata": {},
     "output_type": "display_data"
    }
   ],
   "source": [
    "init =48 \n",
    "fin = 64\n",
    "\n",
    "plt.imshow(np.real(ALA_Analytical_Kite[init:fin,init:fin]), cmap='viridis', interpolation='nearest')\n",
    "# Add a color bar to sh-1j*ow the scale\n",
    "plt.colorbar()"
   ]
  },
  {
   "cell_type": "code",
   "execution_count": 41,
   "metadata": {},
   "outputs": [
    {
     "data": {
      "text/plain": [
       "<matplotlib.colorbar.Colorbar at 0x141388790>"
      ]
     },
     "execution_count": 41,
     "metadata": {},
     "output_type": "execute_result"
    },
    {
     "data": {
      "image/png": "[encoded data removed]",
      "text/plain": [
       "<Figure size 640x480 with 2 Axes>"
      ]
     },
     "metadata": {},
     "output_type": "display_data"
    }
   ],
   "source": [
    "plt.imshow(np.real(R_refALAKite[init:fin,init:fin]), cmap='viridis', interpolation='nearest')\n",
    "# Add a color bar to show the scale\n",
    "plt.colorbar()"
   ]
  },
  {
   "cell_type": "code",
   "execution_count": null,
   "metadata": {},
   "outputs": [],
   "source": []
  },
  {
   "cell_type": "code",
   "execution_count": null,
   "metadata": {},
   "outputs": [],
   "source": []
  },
  {
   "cell_type": "code",
   "execution_count": 26,
   "metadata": {},
   "outputs": [
    {
     "data": {
      "text/plain": [
       "33.30238499387605"
      ]
     },
     "execution_count": 26,
     "metadata": {},
     "output_type": "execute_result"
    }
   ],
   "source": [
    "np.linalg.norm(ALA_Analytical_Kite)"
   ]
  },
  {
   "cell_type": "code",
   "execution_count": null,
   "metadata": {},
   "outputs": [],
   "source": [
    "#Load the analytically generated Kite matrix:\n",
    "loadMat = spio.loadmat('./data/ALA_Analytical_Kite.pk')"
   ]
  },
  {
   "cell_type": "code",
   "execution_count": 19,
   "metadata": {},
   "outputs": [
    {
     "data": {
      "text/plain": [
       "33.21719025949559"
      ]
     },
     "execution_count": 19,
     "metadata": {},
     "output_type": "execute_result"
    }
   ],
   "source": [
    "np.linalg.norm(R_refALAKite)"
   ]
  },
  {
   "cell_type": "code",
   "execution_count": 25,
   "metadata": {},
   "outputs": [],
   "source": [
    "text4=\"\"\"1      (0,0)   (0,0)   (0,0)   (0,0)   \n",
    "  2      (0,0)   (0,0)   (0,0)   (1,1)   \n",
    "  3      (0,0)   (0,0)   (0,0)   (1,0)   \n",
    "  4      (0,0)   (0,0)   (0,0)   (1,-1)  \n",
    "  5      (0,0)   (0,0)   (1,1)   (0,0)   \n",
    "  6      (0,0)   (0,0)   (1,1)   (1,1)   \n",
    "  7      (0,0)   (0,0)   (1,1)   (1,0)   \n",
    "  8      (0,0)   (0,0)   (1,1)   (1,-1)  \n",
    "  9      (0,0)   (0,0)   (1,0)   (0,0)   \n",
    "  10     (0,0)   (0,0)   (1,0)   (1,1)   \n",
    "  11     (0,0)   (0,0)   (1,0)   (1,0)   \n",
    "  12     (0,0)   (0,0)   (1,0)   (1,-1)  \n",
    "  13     (0,0)   (0,0)   (1,-1)  (0,0)   \n",
    "  14     (0,0)   (0,0)   (1,-1)  (1,1)   \n",
    "  15     (0,0)   (0,0)   (1,-1)  (1,0)   \n",
    "  16     (0,0)   (0,0)   (1,-1)  (1,-1)  \n",
    "  17     (0,0)   (1,1)   (0,0)   (0,0)   \n",
    "  18     (0,0)   (1,1)   (0,0)   (1,1)   \n",
    "  19     (0,0)   (1,1)   (0,0)   (1,0)   \n",
    "  20     (0,0)   (1,1)   (0,0)   (1,-1)  \n",
    "  21     (0,0)   (1,1)   (1,1)   (0,0)   \n",
    "  22     (0,0)   (1,1)   (1,1)   (1,1)   \n",
    "  23     (0,0)   (1,1)   (1,1)   (1,0)   \n",
    "  24     (0,0)   (1,1)   (1,1)   (1,-1)  \n",
    "  25     (0,0)   (1,1)   (1,0)   (0,0)   \n",
    "  26     (0,0)   (1,1)   (1,0)   (1,1)   \n",
    "  27     (0,0)   (1,1)   (1,0)   (1,0)   \n",
    "  28     (0,0)   (1,1)   (1,0)   (1,-1)  \n",
    "  29     (0,0)   (1,1)   (1,-1)  (0,0)   \n",
    "  30     (0,0)   (1,1)   (1,-1)  (1,1)   \n",
    "  31     (0,0)   (1,1)   (1,-1)  (1,0)   \n",
    "  32     (0,0)   (1,1)   (1,-1)  (1,-1)  \n",
    "  33     (0,0)   (1,0)   (0,0)   (0,0)   \n",
    "  34     (0,0)   (1,0)   (0,0)   (1,1)   \n",
    "  35     (0,0)   (1,0)   (0,0)   (1,0)   \n",
    "  36     (0,0)   (1,0)   (0,0)   (1,-1)  \n",
    "  37     (0,0)   (1,0)   (1,1)   (0,0)   \n",
    "  38     (0,0)   (1,0)   (1,1)   (1,1)   \n",
    "  39     (0,0)   (1,0)   (1,1)   (1,0)   \n",
    "  40     (0,0)   (1,0)   (1,1)   (1,-1)  \n",
    "  41     (0,0)   (1,0)   (1,0)   (0,0)   \n",
    "  42     (0,0)   (1,0)   (1,0)   (1,1)   \n",
    "  43     (0,0)   (1,0)   (1,0)   (1,0)   \n",
    "  44     (0,0)   (1,0)   (1,0)   (1,-1)  \n",
    "  45     (0,0)   (1,0)   (1,-1)  (0,0)   \n",
    "  46     (0,0)   (1,0)   (1,-1)  (1,1)   \n",
    "  47     (0,0)   (1,0)   (1,-1)  (1,0)   \n",
    "  48     (0,0)   (1,0)   (1,-1)  (1,-1)  \n",
    "  49     (0,0)   (1,-1)  (0,0)   (0,0)   \n",
    "  50     (0,0)   (1,-1)  (0,0)   (1,1)   \n",
    "  51     (0,0)   (1,-1)  (0,0)   (1,0)   \n",
    "  52     (0,0)   (1,-1)  (0,0)   (1,-1)  \n",
    "  53     (0,0)   (1,-1)  (1,1)   (0,0)   \n",
    "  54     (0,0)   (1,-1)  (1,1)   (1,1)   \n",
    "  55     (0,0)   (1,-1)  (1,1)   (1,0)   \n",
    "  56     (0,0)   (1,-1)  (1,1)   (1,-1)  \n",
    "  57     (0,0)   (1,-1)  (1,0)   (0,0)   \n",
    "  58     (0,0)   (1,-1)  (1,0)   (1,1)   \n",
    "  59     (0,0)   (1,-1)  (1,0)   (1,0)   \n",
    "  60     (0,0)   (1,-1)  (1,0)   (1,-1)  \n",
    "  61     (0,0)   (1,-1)  (1,-1)  (0,0)   \n",
    "  62     (0,0)   (1,-1)  (1,-1)  (1,1)   \n",
    "  63     (0,0)   (1,-1)  (1,-1)  (1,0)   \n",
    "  64     (0,0)   (1,-1)  (1,-1)  (1,-1)  \n",
    "  65     (1,1)   (0,0)   (0,0)   (0,0)   \n",
    "  66     (1,1)   (0,0)   (0,0)   (1,1)   \n",
    "  67     (1,1)   (0,0)   (0,0)   (1,0)   \n",
    "  68     (1,1)   (0,0)   (0,0)   (1,-1)  \n",
    "  69     (1,1)   (0,0)   (1,1)   (0,0)   \n",
    "  70     (1,1)   (0,0)   (1,1)   (1,1)   \n",
    "  71     (1,1)   (0,0)   (1,1)   (1,0)   \n",
    "  72     (1,1)   (0,0)   (1,1)   (1,-1)  \n",
    "  73     (1,1)   (0,0)   (1,0)   (0,0)   \n",
    "  74     (1,1)   (0,0)   (1,0)   (1,1)   \n",
    "  75     (1,1)   (0,0)   (1,0)   (1,0)   \n",
    "  76     (1,1)   (0,0)   (1,0)   (1,-1)  \n",
    "  77     (1,1)   (0,0)   (1,-1)  (0,0)   \n",
    "  78     (1,1)   (0,0)   (1,-1)  (1,1)   \n",
    "  79     (1,1)   (0,0)   (1,-1)  (1,0)   \n",
    "  80     (1,1)   (0,0)   (1,-1)  (1,-1)  \n",
    "  81     (1,1)   (1,1)   (0,0)   (0,0)   \n",
    "  82     (1,1)   (1,1)   (0,0)   (1,1)   \n",
    "  83     (1,1)   (1,1)   (0,0)   (1,0)   \n",
    "  84     (1,1)   (1,1)   (0,0)   (1,-1)  \n",
    "  85     (1,1)   (1,1)   (1,1)   (0,0)   \n",
    "  86     (1,1)   (1,1)   (1,1)   (1,1)   \n",
    "  87     (1,1)   (1,1)   (1,1)   (1,0)   \n",
    "  88     (1,1)   (1,1)   (1,1)   (1,-1)  \n",
    "  89     (1,1)   (1,1)   (1,0)   (0,0)   \n",
    "  90     (1,1)   (1,1)   (1,0)   (1,1)   \n",
    "  91     (1,1)   (1,1)   (1,0)   (1,0)   \n",
    "  92     (1,1)   (1,1)   (1,0)   (1,-1)  \n",
    "  93     (1,1)   (1,1)   (1,-1)  (0,0)   \n",
    "  94     (1,1)   (1,1)   (1,-1)  (1,1)   \n",
    "  95     (1,1)   (1,1)   (1,-1)  (1,0)   \n",
    "  96     (1,1)   (1,1)   (1,-1)  (1,-1)  \n",
    "  97     (1,1)   (1,0)   (0,0)   (0,0)   \n",
    "  98     (1,1)   (1,0)   (0,0)   (1,1)   \n",
    "  99     (1,1)   (1,0)   (0,0)   (1,0)   \n",
    "  100    (1,1)   (1,0)   (0,0)   (1,-1)  \n",
    "  101    (1,1)   (1,0)   (1,1)   (0,0)   \n",
    "  102    (1,1)   (1,0)   (1,1)   (1,1)   \n",
    "  103    (1,1)   (1,0)   (1,1)   (1,0)   \n",
    "  104    (1,1)   (1,0)   (1,1)   (1,-1)  \n",
    "  105    (1,1)   (1,0)   (1,0)   (0,0)   \n",
    "  106    (1,1)   (1,0)   (1,0)   (1,1)   \n",
    "  107    (1,1)   (1,0)   (1,0)   (1,0)   \n",
    "  108    (1,1)   (1,0)   (1,0)   (1,-1)  \n",
    "  109    (1,1)   (1,0)   (1,-1)  (0,0)   \n",
    "  110    (1,1)   (1,0)   (1,-1)  (1,1)   \n",
    "  111    (1,1)   (1,0)   (1,-1)  (1,0)   \n",
    "  112    (1,1)   (1,0)   (1,-1)  (1,-1)  \n",
    "  113    (1,1)   (1,-1)  (0,0)   (0,0)   \n",
    "  114    (1,1)   (1,-1)  (0,0)   (1,1)   \n",
    "  115    (1,1)   (1,-1)  (0,0)   (1,0)   \n",
    "  116    (1,1)   (1,-1)  (0,0)   (1,-1)  \n",
    "  117    (1,1)   (1,-1)  (1,1)   (0,0)   \n",
    "  118    (1,1)   (1,-1)  (1,1)   (1,1)   \n",
    "  119    (1,1)   (1,-1)  (1,1)   (1,0)   \n",
    "  120    (1,1)   (1,-1)  (1,1)   (1,-1)  \n",
    "  121    (1,1)   (1,-1)  (1,0)   (0,0)   \n",
    "  122    (1,1)   (1,-1)  (1,0)   (1,1)   \n",
    "  123    (1,1)   (1,-1)  (1,0)   (1,0)   \n",
    "  124    (1,1)   (1,-1)  (1,0)   (1,-1)  \n",
    "  125    (1,1)   (1,-1)  (1,-1)  (0,0)   \n",
    "  126    (1,1)   (1,-1)  (1,-1)  (1,1)   \n",
    "  127    (1,1)   (1,-1)  (1,-1)  (1,0)   \n",
    "  128    (1,1)   (1,-1)  (1,-1)  (1,-1)  \n",
    "  129    (1,0)   (0,0)   (0,0)   (0,0)   \n",
    "  130    (1,0)   (0,0)   (0,0)   (1,1)   \n",
    "  131    (1,0)   (0,0)   (0,0)   (1,0)   \n",
    "  132    (1,0)   (0,0)   (0,0)   (1,-1)  \n",
    "  133    (1,0)   (0,0)   (1,1)   (0,0)   \n",
    "  134    (1,0)   (0,0)   (1,1)   (1,1)   \n",
    "  135    (1,0)   (0,0)   (1,1)   (1,0)   \n",
    "  136    (1,0)   (0,0)   (1,1)   (1,-1)  \n",
    "  137    (1,0)   (0,0)   (1,0)   (0,0)   \n",
    "  138    (1,0)   (0,0)   (1,0)   (1,1)   \n",
    "  139    (1,0)   (0,0)   (1,0)   (1,0)   \n",
    "  140    (1,0)   (0,0)   (1,0)   (1,-1)  \n",
    "  141    (1,0)   (0,0)   (1,-1)  (0,0)   \n",
    "  142    (1,0)   (0,0)   (1,-1)  (1,1)   \n",
    "  143    (1,0)   (0,0)   (1,-1)  (1,0)   \n",
    "  144    (1,0)   (0,0)   (1,-1)  (1,-1)  \n",
    "  145    (1,0)   (1,1)   (0,0)   (0,0)   \n",
    "  146    (1,0)   (1,1)   (0,0)   (1,1)   \n",
    "  147    (1,0)   (1,1)   (0,0)   (1,0)   \n",
    "  148    (1,0)   (1,1)   (0,0)   (1,-1)  \n",
    "  149    (1,0)   (1,1)   (1,1)   (0,0)   \n",
    "  150    (1,0)   (1,1)   (1,1)   (1,1)   \n",
    "  151    (1,0)   (1,1)   (1,1)   (1,0)   \n",
    "  152    (1,0)   (1,1)   (1,1)   (1,-1)  \n",
    "  153    (1,0)   (1,1)   (1,0)   (0,0)   \n",
    "  154    (1,0)   (1,1)   (1,0)   (1,1)   \n",
    "  155    (1,0)   (1,1)   (1,0)   (1,0)   \n",
    "  156    (1,0)   (1,1)   (1,0)   (1,-1)  \n",
    "  157    (1,0)   (1,1)   (1,-1)  (0,0)   \n",
    "  158    (1,0)   (1,1)   (1,-1)  (1,1)   \n",
    "  159    (1,0)   (1,1)   (1,-1)  (1,0)   \n",
    "  160    (1,0)   (1,1)   (1,-1)  (1,-1)  \n",
    "  161    (1,0)   (1,0)   (0,0)   (0,0)   \n",
    "  162    (1,0)   (1,0)   (0,0)   (1,1)   \n",
    "  163    (1,0)   (1,0)   (0,0)   (1,0)   \n",
    "  164    (1,0)   (1,0)   (0,0)   (1,-1)  \n",
    "  165    (1,0)   (1,0)   (1,1)   (0,0)   \n",
    "  166    (1,0)   (1,0)   (1,1)   (1,1)   \n",
    "  167    (1,0)   (1,0)   (1,1)   (1,0)   \n",
    "  168    (1,0)   (1,0)   (1,1)   (1,-1)  \n",
    "  169    (1,0)   (1,0)   (1,0)   (0,0)   \n",
    "  170    (1,0)   (1,0)   (1,0)   (1,1)   \n",
    "  171    (1,0)   (1,0)   (1,0)   (1,0)   \n",
    "  172    (1,0)   (1,0)   (1,0)   (1,-1)  \n",
    "  173    (1,0)   (1,0)   (1,-1)  (0,0)   \n",
    "  174    (1,0)   (1,0)   (1,-1)  (1,1)   \n",
    "  175    (1,0)   (1,0)   (1,-1)  (1,0)   \n",
    "  176    (1,0)   (1,0)   (1,-1)  (1,-1)  \n",
    "  177    (1,0)   (1,-1)  (0,0)   (0,0)   \n",
    "  178    (1,0)   (1,-1)  (0,0)   (1,1)   \n",
    "  179    (1,0)   (1,-1)  (0,0)   (1,0)   \n",
    "  180    (1,0)   (1,-1)  (0,0)   (1,-1)  \n",
    "  181    (1,0)   (1,-1)  (1,1)   (0,0)   \n",
    "  182    (1,0)   (1,-1)  (1,1)   (1,1)   \n",
    "  183    (1,0)   (1,-1)  (1,1)   (1,0)   \n",
    "  184    (1,0)   (1,-1)  (1,1)   (1,-1)  \n",
    "  185    (1,0)   (1,-1)  (1,0)   (0,0)   \n",
    "  186    (1,0)   (1,-1)  (1,0)   (1,1)   \n",
    "  187    (1,0)   (1,-1)  (1,0)   (1,0)   \n",
    "  188    (1,0)   (1,-1)  (1,0)   (1,-1)  \n",
    "  189    (1,0)   (1,-1)  (1,-1)  (0,0)   \n",
    "  190    (1,0)   (1,-1)  (1,-1)  (1,1)   \n",
    "  191    (1,0)   (1,-1)  (1,-1)  (1,0)   \n",
    "  192    (1,0)   (1,-1)  (1,-1)  (1,-1)  \n",
    "  193    (1,-1)  (0,0)   (0,0)   (0,0)   \n",
    "  194    (1,-1)  (0,0)   (0,0)   (1,1)   \n",
    "  195    (1,-1)  (0,0)   (0,0)   (1,0)   \n",
    "  196    (1,-1)  (0,0)   (0,0)   (1,-1)  \n",
    "  197    (1,-1)  (0,0)   (1,1)   (0,0)   \n",
    "  198    (1,-1)  (0,0)   (1,1)   (1,1)   \n",
    "  199    (1,-1)  (0,0)   (1,1)   (1,0)   \n",
    "  200    (1,-1)  (0,0)   (1,1)   (1,-1)  \n",
    "  201    (1,-1)  (0,0)   (1,0)   (0,0)   \n",
    "  202    (1,-1)  (0,0)   (1,0)   (1,1)   \n",
    "  203    (1,-1)  (0,0)   (1,0)   (1,0)   \n",
    "  204    (1,-1)  (0,0)   (1,0)   (1,-1)  \n",
    "  205    (1,-1)  (0,0)   (1,-1)  (0,0)   \n",
    "  206    (1,-1)  (0,0)   (1,-1)  (1,1)   \n",
    "  207    (1,-1)  (0,0)   (1,-1)  (1,0)   \n",
    "  208    (1,-1)  (0,0)   (1,-1)  (1,-1)  \n",
    "  209    (1,-1)  (1,1)   (0,0)   (0,0)   \n",
    "  210    (1,-1)  (1,1)   (0,0)   (1,1)   \n",
    "  211    (1,-1)  (1,1)   (0,0)   (1,0)   \n",
    "  212    (1,-1)  (1,1)   (0,0)   (1,-1)  \n",
    "  213    (1,-1)  (1,1)   (1,1)   (0,0)   \n",
    "  214    (1,-1)  (1,1)   (1,1)   (1,1)   \n",
    "  215    (1,-1)  (1,1)   (1,1)   (1,0)   \n",
    "  216    (1,-1)  (1,1)   (1,1)   (1,-1)  \n",
    "  217    (1,-1)  (1,1)   (1,0)   (0,0)   \n",
    "  218    (1,-1)  (1,1)   (1,0)   (1,1)   \n",
    "  219    (1,-1)  (1,1)   (1,0)   (1,0)   \n",
    "  220    (1,-1)  (1,1)   (1,0)   (1,-1)  \n",
    "  221    (1,-1)  (1,1)   (1,-1)  (0,0)   \n",
    "  222    (1,-1)  (1,1)   (1,-1)  (1,1)   \n",
    "  223    (1,-1)  (1,1)   (1,-1)  (1,0)   \n",
    "  224    (1,-1)  (1,1)   (1,-1)  (1,-1)  \n",
    "  225    (1,-1)  (1,0)   (0,0)   (0,0)   \n",
    "  226    (1,-1)  (1,0)   (0,0)   (1,1)   \n",
    "  227    (1,-1)  (1,0)   (0,0)   (1,0)   \n",
    "  228    (1,-1)  (1,0)   (0,0)   (1,-1)  \n",
    "  229    (1,-1)  (1,0)   (1,1)   (0,0)   \n",
    "  230    (1,-1)  (1,0)   (1,1)   (1,1)   \n",
    "  231    (1,-1)  (1,0)   (1,1)   (1,0)   \n",
    "  232    (1,-1)  (1,0)   (1,1)   (1,-1)  \n",
    "  233    (1,-1)  (1,0)   (1,0)   (0,0)   \n",
    "  234    (1,-1)  (1,0)   (1,0)   (1,1)   \n",
    "  235    (1,-1)  (1,0)   (1,0)   (1,0)   \n",
    "  236    (1,-1)  (1,0)   (1,0)   (1,-1)  \n",
    "  237    (1,-1)  (1,0)   (1,-1)  (0,0)   \n",
    "  238    (1,-1)  (1,0)   (1,-1)  (1,1)   \n",
    "  239    (1,-1)  (1,0)   (1,-1)  (1,0)   \n",
    "  240    (1,-1)  (1,0)   (1,-1)  (1,-1)  \n",
    "  241    (1,-1)  (1,-1)  (0,0)   (0,0)   \n",
    "  242    (1,-1)  (1,-1)  (0,0)   (1,1)   \n",
    "  243    (1,-1)  (1,-1)  (0,0)   (1,0)   \n",
    "  244    (1,-1)  (1,-1)  (0,0)   (1,-1)  \n",
    "  245    (1,-1)  (1,-1)  (1,1)   (0,0)   \n",
    "  246    (1,-1)  (1,-1)  (1,1)   (1,1)   \n",
    "  247    (1,-1)  (1,-1)  (1,1)   (1,0)   \n",
    "  248    (1,-1)  (1,-1)  (1,1)   (1,-1)  \n",
    "  249    (1,-1)  (1,-1)  (1,0)   (0,0)   \n",
    "  250    (1,-1)  (1,-1)  (1,0)   (1,1)   \n",
    "  251    (1,-1)  (1,-1)  (1,0)   (1,0)   \n",
    "  252    (1,-1)  (1,-1)  (1,0)   (1,-1)  \n",
    "  253    (1,-1)  (1,-1)  (1,-1)  (0,0)   \n",
    "  254    (1,-1)  (1,-1)  (1,-1)  (1,1)   \n",
    "  255    (1,-1)  (1,-1)  (1,-1)  (1,0)   \n",
    "  256    (1,-1)  (1,-1)  (1,-1)  (1,-1)\"\"\"\n"
   ]
  },
  {
   "cell_type": "code",
   "execution_count": 26,
   "metadata": {},
   "outputs": [],
   "source": [
    "data_ala = read_spinach_info(text4)\n",
    "\n",
    "basis_ala = build_list_ISTs(data_ala)\n",
    "prefacts,Symb_ALA_basis = build_symbolic_list_ISTs(data_ala)\n",
    "\n",
    "#Normbasis = NormalizeBasis(basis,n_qubits=4,checkOrth=True) I have verified the orthonormalization of the basis\n",
    "Normbasis_ala = NormalizeBasis(basis_ala,n_qubits=4,checkOrth=False)"
   ]
  },
  {
   "cell_type": "code",
   "execution_count": 13,
   "metadata": {},
   "outputs": [],
   "source": [
    "###Testing a sub-matrix...\n",
    "\n",
    "Sub_norm_basis = np.copy(Normbasis_ala[0:16])\n"
   ]
  },
  {
   "cell_type": "code",
   "execution_count": 28,
   "metadata": {},
   "outputs": [],
   "source": [
    "tc = 0.05e-9 # in seconds\n",
    "gammaH = 2.6752e8\n",
    "\n",
    "w1 = -600344544.5579\n",
    "w2 = -600343524.536\n",
    "w3 = -600343524.536\n",
    "w4 = -600343524.536\n",
    "\n",
    "\n",
    "freqs = np.array([w1,w2,w3,w4])\n",
    "\n",
    "coords = np.array([\n",
    "    [ 0.6861,0.2705,1.5010],\n",
    "    [1.3077, 1.1298, -1.3993],\n",
    "    [0.7905, 2.2125, -0.0860],\n",
    "    [ 2.3693, 1.3798, 0.0233]\n",
    "])\n",
    "\n",
    "coords = coords*1e-10\n",
    "\n",
    "Nspins = 4\n",
    "\n",
    "#R_kiteALA_dev = Kite_relMat(2*np.pi*freqs,tc,coords,Nspins,gammaH,Sub_norm_basis)\n",
    "#R_kite_dev = KiteRelMatrixMany(2*np.pi*freqs,tc,coords,Nspins,gammaH,Sub_norm_basis)\n",
    "rates_ALA,JOps_ALA,Symb_JOps_ALA = Get_RatesAndOps(2*np.pi*freqs,tc,coords,Nspins,gammaH)"
   ]
  },
  {
   "cell_type": "code",
   "execution_count": 14,
   "metadata": {},
   "outputs": [
    {
     "data": {
      "text/plain": [
       "<matplotlib.colorbar.Colorbar at 0x1403cfcd0>"
      ]
     },
     "execution_count": 14,
     "metadata": {},
     "output_type": "execute_result"
    },
    {
     "data": {
      "image/png": "[encoded data removed]",
      "text/plain": [
       "<Figure size 640x480 with 2 Axes>"
      ]
     },
     "metadata": {},
     "output_type": "display_data"
    }
   ],
   "source": [
    "plt.imshow(np.real(R_refALAKite[0:16,0:16]), cmap='viridis', interpolation='nearest')\n",
    "# Add a color bar to show the scale\n",
    "plt.colorbar()"
   ]
  },
  {
   "cell_type": "code",
   "execution_count": 16,
   "metadata": {},
   "outputs": [
    {
     "data": {
      "text/plain": [
       "<matplotlib.colorbar.Colorbar at 0x140815650>"
      ]
     },
     "execution_count": 16,
     "metadata": {},
     "output_type": "execute_result"
    },
    {
     "data": {
      "image/png": "[encoded data removed]",
      "text/plain": [
       "<Figure size 640x480 with 2 Axes>"
      ]
     },
     "metadata": {},
     "output_type": "display_data"
    }
   ],
   "source": [
    "plt.imshow(np.real(R_kite_dev), cmap='viridis', interpolation='nearest')\n",
    "\n",
    "# Add a color bar to show the scale\n",
    "plt.colorbar()\n"
   ]
  },
  {
   "cell_type": "code",
   "execution_count": 17,
   "metadata": {},
   "outputs": [
    {
     "data": {
      "text/plain": [
       "0.1422004244994652"
      ]
     },
     "execution_count": 17,
     "metadata": {},
     "output_type": "execute_result"
    }
   ],
   "source": [
    "np.linalg.norm(R_kite_dev-R_refALAKite[0:16,0:16]) # a good match nbetween the analytically generated Kite matrix and the reference SPinach kite matrix"
   ]
  },
  {
   "cell_type": "code",
   "execution_count": null,
   "metadata": {},
   "outputs": [],
   "source": []
  }
 ],
 "metadata": {
  "kernelspec": {
   "display_name": "BQSKit",
   "language": "python",
   "name": "python3"
  },
  "language_info": {
   "codemirror_mode": {
    "name": "ipython",
    "version": 3
   },
   "file_extension": ".py",
   "mimetype": "text/x-python",
   "name": "python",
   "nbconvert_exporter": "python",
   "pygments_lexer": "ipython3",
   "version": "3.11.5"
  }
 },
 "nbformat": 4,
 "nbformat_minor": 2
}
