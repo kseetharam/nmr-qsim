{
 "cells": [
  {
   "cell_type": "markdown",
   "metadata": {},
   "source": [
    "# Generation of Jump operators and damping rates"
   ]
  },
  {
   "cell_type": "code",
   "execution_count": 1,
   "metadata": {},
   "outputs": [],
   "source": [
    "import sys\n",
    "sys.path.append('./utils/')\n",
    "\n",
    "import numpy as np\n",
    "\n",
    "from analytical_fit import Get_K2RatesAndOps, Get_K1RatesAndOps, Get_K0RatesAndOps, Get_K2RatesAndOps"
   ]
  },
  {
   "cell_type": "code",
   "execution_count": 6,
   "metadata": {},
   "outputs": [
    {
     "name": "stderr",
     "output_type": "stream",
     "text": [
      "<>:2: SyntaxWarning: invalid escape sequence '\\m'\n",
      "<>:2: SyntaxWarning: invalid escape sequence '\\m'\n",
      "/var/folders/rm/xdxcjr7n7_13f9m1905zyf6c0000gq/T/ipykernel_34652/2434580013.py:2: SyntaxWarning: invalid escape sequence '\\m'\n",
      "  \"\"\"\n"
     ]
    }
   ],
   "source": [
    "def Get_RatesAndOps(freqs,tc,coords,Nspins,gamma):\n",
    "    \"\"\" \n",
    "    Returns: 1) a list of damping rates 2) the corresponding list of pairs of jump operators, where each pair defines a Linblad channel \\mathcal{L}_{A,B} as defined in the notes\n",
    "    Args:\n",
    "    freqs: list of chemically shifted Zeeman frequencies of the spins\n",
    "    tc: rotational correlatio0n time of the isotropic solvent\n",
    "    coords: list that contains the cartesian coordinates of the spins\n",
    "    Nspins: number of spins\n",
    "    gamma; gyromagnetic ratio of the spins (it is assumed a homonuclear case)\n",
    "    \"\"\"\n",
    "    \n",
    "    ratesK2,OpsK2=Get_K2RatesAndOps(freqs,tc,coords,Nspins,gamma)\n",
    "    ratesK1,OpsK1=Get_K1RatesAndOps(freqs,tc,coords,Nspins,gamma)\n",
    "    ratesK0,OpsK0=Get_K0RatesAndOps(freqs,tc,coords,Nspins,gamma)\n",
    "\n",
    "    tot_rates=ratesK2+ratesK1+ratesK0\n",
    "    tot_Ops=OpsK2+OpsK1+OpsK0\n",
    "    return 0.25*np.array(tot_rates),tot_Ops\n",
    "   \n",
    "\n"
   ]
  },
  {
   "cell_type": "code",
   "execution_count": 3,
   "metadata": {},
   "outputs": [],
   "source": [
    "###Parameters from Spinach:\n",
    "\n",
    "gammaF = 251814800 #Gyromagnetic ratio of F\n",
    "\n",
    "#Coordinates of nuclei\n",
    "coord1 = np.array([-0.0551,-1.2087,-1.6523])*1e-10 \n",
    "coord2 = np.array([-0.8604 ,-2.3200 ,-0.0624])*1e-10\n",
    "\n",
    "coords = np.array([coord1,coord2])\n",
    "Nspins = len(coords)\n",
    "\n",
    "#Chemically-shifted Zeeman frequencies\n",
    "w1 = -376417768.6316 \n",
    "w2 = -376411775.1523 \n",
    "freqs = np.array([w1,w2])\n",
    "tc = 0.5255e-9"
   ]
  },
  {
   "cell_type": "code",
   "execution_count": 7,
   "metadata": {},
   "outputs": [],
   "source": [
    "rates,JumpOps = Get_RatesAndOps(freqs,tc,coords,Nspins,gammaF)"
   ]
  },
  {
   "cell_type": "code",
   "execution_count": 8,
   "metadata": {},
   "outputs": [
    {
     "data": {
      "text/plain": [
       "array([ 0.71011549,  0.71011549,  0.71011549,  0.71011549,  0.79033183,\n",
       "        0.79033183,  0.79033183,  0.79033183,  0.79033183,  0.79033183,\n",
       "        0.79033183,  0.79033183,  0.79033088,  0.79033088,  0.79033088,\n",
       "        0.79033088,  0.79033088,  0.79033088,  0.79033088,  0.79033088,\n",
       "        2.19001282,  2.19001282, -0.54750321, -0.54750321, -0.54750321,\n",
       "       -0.54750321, -0.54750321, -0.54750321, -0.54750321, -0.54750321,\n",
       "        0.1368758 ,  0.1368758 ,  0.1368758 ,  0.1368758 ,  0.1368758 ,\n",
       "        0.1368758 ,  0.1368758 ,  0.1368758 ])"
      ]
     },
     "execution_count": 8,
     "metadata": {},
     "output_type": "execute_result"
    }
   ],
   "source": [
    "rates"
   ]
  },
  {
   "cell_type": "code",
   "execution_count": 11,
   "metadata": {},
   "outputs": [
    {
     "data": {
      "text/plain": [
       "38"
      ]
     },
     "execution_count": 11,
     "metadata": {},
     "output_type": "execute_result"
    }
   ],
   "source": [
    "len(rates)"
   ]
  },
  {
   "cell_type": "code",
   "execution_count": null,
   "metadata": {},
   "outputs": [],
   "source": []
  }
 ],
 "metadata": {
  "kernelspec": {
   "display_name": "Python 3",
   "language": "python",
   "name": "python3"
  },
  "language_info": {
   "codemirror_mode": {
    "name": "ipython",
    "version": 3
   },
   "file_extension": ".py",
   "mimetype": "text/x-python",
   "name": "python",
   "nbconvert_exporter": "python",
   "pygments_lexer": "ipython3",
   "version": "3.12.3"
  }
 },
 "nbformat": 4,
 "nbformat_minor": 2
}
