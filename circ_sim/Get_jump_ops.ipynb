{
 "cells": [
  {
   "cell_type": "markdown",
   "metadata": {},
   "source": [
    "# Generation of Jump operators and damping rates"
   ]
  },
  {
   "cell_type": "code",
   "execution_count": 3,
   "metadata": {},
   "outputs": [],
   "source": [
    "import sys\n",
    "sys.path.append('./utils/')\n",
    "\n",
    "import numpy as np\n",
    "\n",
    "from analytical_fit import Get_K2RatesAndOps, Get_K1RatesAndOps, Get_K0RatesAndOps\n",
    "from basis_utils import build_symbolic_list_ISTs, read_spinach_info"
   ]
  },
  {
   "cell_type": "code",
   "execution_count": 5,
   "metadata": {},
   "outputs": [
    {
     "name": "stderr",
     "output_type": "stream",
     "text": [
      "<>:2: SyntaxWarning: invalid escape sequence '\\m'\n",
      "<>:2: SyntaxWarning: invalid escape sequence '\\m'\n",
      "/var/folders/rm/xdxcjr7n7_13f9m1905zyf6c0000gq/T/ipykernel_36116/2086175994.py:2: SyntaxWarning: invalid escape sequence '\\m'\n",
      "  \"\"\"\n"
     ]
    }
   ],
   "source": [
    "def Get_RatesAndOps(freqs,tc,coords,Nspins,gamma):\n",
    "    \"\"\" \n",
    "    Returns: 1) a list of damping rates 2) the corresponding list of pairs of jump operators, where each pair defines a Linblad channel \\mathcal{L}_{A,B} as defined in the notes\n",
    "    Args:\n",
    "    freqs: list of chemically shifted Zeeman frequencies of the spins\n",
    "    tc: rotational correlatio0n time of the isotropic solvent\n",
    "    coords: list that contains the cartesian coordinates of the spins\n",
    "    Nspins: number of spins\n",
    "    gamma; gyromagnetic ratio of the spins (it is assumed a homonuclear case)\n",
    "    \"\"\"\n",
    "    \n",
    "    ratesK2,OpsK2,Str_OpsK2=Get_K2RatesAndOps(freqs,tc,coords,Nspins,gamma)\n",
    "    ratesK1,OpsK1,Str_OpsK1=Get_K1RatesAndOps(freqs,tc,coords,Nspins,gamma)\n",
    "    ratesK0,OpsK0,Str_OpsK0=Get_K0RatesAndOps(freqs,tc,coords,Nspins,gamma)\n",
    "\n",
    "    tot_rates=ratesK2+ratesK1+ratesK0\n",
    "    tot_Ops=OpsK2+OpsK1+OpsK0\n",
    "    tot_strs = Str_OpsK2+Str_OpsK1+Str_OpsK0\n",
    "    return 0.25*np.array(tot_rates),tot_Ops, tot_strs\n",
    "   \n",
    "\n"
   ]
  },
  {
   "cell_type": "code",
   "execution_count": 4,
   "metadata": {},
   "outputs": [],
   "source": [
    "###Parameters from Spinach:\n",
    "\n",
    "gammaF = 251814800 #Gyromagnetic ratio of F\n",
    "\n",
    "#Coordinates of nuclei\n",
    "coord1 = np.array([-0.0551,-1.2087,-1.6523])*1e-10 \n",
    "coord2 = np.array([-0.8604 ,-2.3200 ,-0.0624])*1e-10\n",
    "\n",
    "coords = np.array([coord1,coord2])\n",
    "Nspins = len(coords)\n",
    "\n",
    "#Zeeman frequencies, in Hz\n",
    "w1 = -376417768.6316 \n",
    "w2 = -376411775.1523 \n",
    "freqs = np.array([w1,w2])\n",
    "tc = 0.5255e-9 #in seconds"
   ]
  },
  {
   "cell_type": "code",
   "execution_count": 14,
   "metadata": {},
   "outputs": [],
   "source": [
    "rates,JumpOps,Op_strs = Get_RatesAndOps(2*np.pi*freqs,tc,coords,Nspins,gammaF) #The factor 2\\pi is to transform to angular frequency"
   ]
  },
  {
   "cell_type": "code",
   "execution_count": 15,
   "metadata": {},
   "outputs": [
    {
     "data": {
      "text/plain": [
       "array([ 0.11440129,  0.11440129,  0.11440129,  0.11440129,  0.32273715,\n",
       "        0.32273715,  0.32273715,  0.32273715,  0.32273715,  0.32273715,\n",
       "        0.32273715,  0.32273715,  0.32273091,  0.32273091,  0.32273091,\n",
       "        0.32273091,  0.32273091,  0.32273091,  0.32273091,  0.32273091,\n",
       "        2.19001282,  2.19001282, -0.54750321, -0.54750321, -0.54750321,\n",
       "       -0.54750321, -0.5475032 , -0.5475032 , -0.5475032 , -0.5475032 ,\n",
       "        0.1368758 ,  0.1368758 ,  0.1368758 ,  0.1368758 ,  0.1368758 ,\n",
       "        0.1368758 ,  0.1368758 ,  0.1368758 ])"
      ]
     },
     "execution_count": 15,
     "metadata": {},
     "output_type": "execute_result"
    }
   ],
   "source": [
    "rates"
   ]
  },
  {
   "cell_type": "code",
   "execution_count": 17,
   "metadata": {},
   "outputs": [
    {
     "data": {
      "text/plain": [
       "[['S+0 S+1', 'S-0 S-1'],\n",
       " ['S-0 S-1', 'S+0 S+1'],\n",
       " ['S+0 S+1', 'S-0 S-1'],\n",
       " ['S-0 S-1', 'S+0 S+1'],\n",
       " ['Sz0 S+1', 'Sz0 S-1'],\n",
       " ['Sz0 S+1', 'Sz0 S-1'],\n",
       " ['Sz0 S-1', 'Sz0 S+1'],\n",
       " ['Sz0 S-1', 'Sz0 S+1'],\n",
       " ['S+0 Sz1', 'Sz0 S-1'],\n",
       " ['Sz0 S+1', 'S-0 Sz1'],\n",
       " ['Sz0 S-1', 'S+0 Sz1'],\n",
       " ['S-0 Sz1', 'Sz0 S+1'],\n",
       " ['S+0 Sz1', 'S-0 Sz1'],\n",
       " ['S+0 Sz1', 'S-0 Sz1'],\n",
       " ['S-0 Sz1', 'S+0 Sz1'],\n",
       " ['S-0 Sz1', 'S+0 Sz1'],\n",
       " ['Sz0 S+1', 'S-0 Sz1'],\n",
       " ['S+0 Sz1', 'Sz0 S-1'],\n",
       " ['S-0 Sz1', 'Sz0 S+1'],\n",
       " ['Sz0 S-1', 'S+0 Sz1'],\n",
       " ['Sz0 Sz1', 'Sz0 Sz1'],\n",
       " ['Sz0 Sz1', 'Sz0 Sz1'],\n",
       " ['S+0 S-1', 'Sz0 Sz1'],\n",
       " ['Sz0 Sz1', 'S-0 S+1'],\n",
       " ['Sz0 Sz1', 'S+0 S-1'],\n",
       " ['S-0 S+1', 'Sz0 Sz1'],\n",
       " ['Sz0 Sz1', 'S-0 S+1'],\n",
       " ['S+0 S-1', 'Sz0 Sz1'],\n",
       " ['S-0 S+1', 'Sz0 Sz1'],\n",
       " ['Sz0 Sz1', 'S+0 S-1'],\n",
       " ['S+0 S-1', 'S-0 S+1'],\n",
       " ['S+0 S-1', 'S-0 S+1'],\n",
       " ['S-0 S+1', 'S+0 S-1'],\n",
       " ['S-0 S+1', 'S+0 S-1'],\n",
       " ['S-0 S+1', 'S-0 S+1'],\n",
       " ['S+0 S-1', 'S+0 S-1'],\n",
       " ['S-0 S+1', 'S-0 S+1'],\n",
       " ['S+0 S-1', 'S+0 S-1']]"
      ]
     },
     "execution_count": 17,
     "metadata": {},
     "output_type": "execute_result"
    }
   ],
   "source": [
    "Op_strs"
   ]
  },
  {
   "cell_type": "markdown",
   "metadata": {},
   "source": [
    "# Symbolic list of Spinach basis"
   ]
  },
  {
   "cell_type": "code",
   "execution_count": 2,
   "metadata": {},
   "outputs": [],
   "source": [
    "text=\"\"\"1      (0,0)   (0,0)   \n",
    "  2      (0,0)   (1,1)   \n",
    "  3      (0,0)   (1,0)   \n",
    "  4      (0,0)   (1,-1)  \n",
    "  5      (1,1)   (0,0)   \n",
    "  6      (1,1)   (1,1)   \n",
    "  7      (1,1)   (1,0)   \n",
    "  8      (1,1)   (1,-1)  \n",
    "  9      (1,0)   (0,0)   \n",
    "  10     (1,0)   (1,1)   \n",
    "  11     (1,0)   (1,0)   \n",
    "  12     (1,0)   (1,-1)  \n",
    "  13     (1,-1)  (0,0)   \n",
    "  14     (1,-1)  (1,1)   \n",
    "  15     (1,-1)  (1,0)   \n",
    "  16     (1,-1)  (1,-1)  \n",
    "\"\"\""
   ]
  },
  {
   "cell_type": "code",
   "execution_count": 5,
   "metadata": {},
   "outputs": [],
   "source": [
    "data = read_spinach_info(text)\n",
    "\n",
    "#Return the non-normalized Spinach basis as a list of spin operators and their corresponding coefficients\n",
    "coeffs, op_basis = build_symbolic_list_ISTs(data)"
   ]
  },
  {
   "cell_type": "code",
   "execution_count": 13,
   "metadata": {},
   "outputs": [
    {
     "data": {
      "text/plain": [
       "(0.4999999999999999, ' S+0 S+1')"
      ]
     },
     "execution_count": 13,
     "metadata": {},
     "output_type": "execute_result"
    }
   ],
   "source": [
    "coeffs[5],op_basis[5]"
   ]
  },
  {
   "cell_type": "code",
   "execution_count": null,
   "metadata": {},
   "outputs": [],
   "source": []
  }
 ],
 "metadata": {
  "kernelspec": {
   "display_name": "Python 3",
   "language": "python",
   "name": "python3"
  },
  "language_info": {
   "codemirror_mode": {
    "name": "ipython",
    "version": 3
   },
   "file_extension": ".py",
   "mimetype": "text/x-python",
   "name": "python",
   "nbconvert_exporter": "python",
   "pygments_lexer": "ipython3",
   "version": "3.12.3"
  }
 },
 "nbformat": 4,
 "nbformat_minor": 2
}
