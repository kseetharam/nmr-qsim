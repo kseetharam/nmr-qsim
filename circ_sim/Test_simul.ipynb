{
 "cells": [
  {
   "cell_type": "code",
   "execution_count": 1,
   "metadata": {},
   "outputs": [],
   "source": [
    "import sys\n",
    "sys.path.append('./utils/')\n",
    "import numpy as np\n",
    "import scipy.io as spio\n",
    "from scipy.linalg import expm\n",
    "from matplotlib import pyplot as plt\n",
    "from simulation_utils import EmbedInU,run_simp_layer_flow_example, SimulateBlock,EstimatePolarization\n"
   ]
  },
  {
   "cell_type": "code",
   "execution_count": 2,
   "metadata": {},
   "outputs": [],
   "source": [
    "#Auxiliary function to perform the apodization of FID\n",
    "def sqcosbell_2d_apod(fid_2d):\n",
    "    fid_2d[0,:] = fid_2d[0,:]/2\n",
    "    fid_2d[:,0] = fid_2d[:,0]/2\n",
    "    x = np.linspace(0,np.pi/2,fid_2d.shape[0])\n",
    "    y = np.linspace(0,np.pi/2,fid_2d.shape[1])\n",
    "\n",
    "    decay_col = np.square(np.cos(x))\n",
    "    decay_row = np.square(np.cos(y))\n",
    "\n",
    "    return fid_2d*np.outer(decay_col,decay_row)\n"
   ]
  },
  {
   "cell_type": "code",
   "execution_count": 3,
   "metadata": {},
   "outputs": [],
   "source": [
    "###Loading the generator of evolution...\n",
    "loadMat = spio.loadmat('./data/DFG.mat',squeeze_me=True)\n",
    "\n",
    "AuxMats = spio.loadmat('./data/DFG_NOESYmatrices.mat',squeeze_me=True)\n",
    "\n",
    "Ham = loadMat['p']['H'].item()\n",
    "R = loadMat['p']['R'].item()\n",
    "t_grid1 = loadMat['p']['time_grid1'].item()\n",
    "t_grid2 = loadMat['p']['time_grid2'].item()\n",
    "\n",
    "###Dynamical evolution for calculation of 2D spectra...\n",
    "##TODO: we can simply modify the script to incorporate 1) retrieval of synthesized circuits,\n",
    "#and 2) the already-developed circuit simulator\n",
    "\n",
    "Tpts1 = len(t_grid1)\n",
    "Tpts2 = len(t_grid2)\n",
    "\n",
    "Dim = Ham.shape[0]\n",
    "\n",
    "rho0 = np.array(AuxMats['rho0'].toarray())\n",
    "rho0 = rho0.flatten()\n",
    "coil = AuxMats['coil']\n",
    "\n",
    "\n",
    "tmix = 0.5\n",
    "dt1 = 1.1561e-04\n",
    "dt2 = 1.1561e-04\n",
    "\n",
    "##Parameters for Fourier transform\n",
    "zerofill1 = 1024\n",
    "zerofill2 = 1024\n",
    "\n",
    "##Definition of pulses in the experiment...\n",
    "#This also depends on the definition of the basis....\n",
    "Lx = AuxMats['Lx'].toarray()\n",
    "Ly = AuxMats['Ly'].toarray()\n",
    "\n",
    "Lnet = Ham+1j*R #TODO: In the matlab script we have an additional contribution K\n",
    "L_dt1 = expm(-1j*Lnet*dt1)\n",
    "L_dt2 = expm(-1j*Lnet*dt2)\n",
    "pulse_mix = expm(-1j*Lnet*tmix)\n",
    "\n",
    "\n",
    "pulse_90x = expm(-1j*Lx*np.pi/2)\n",
    "pulse_90y = expm(-1j*Ly*np.pi/2)\n",
    "pulse_90mx = expm(1j*Lx*np.pi/2)\n",
    "pulse_90my = expm(1j*Ly*np.pi/2)\n",
    "\n",
    "\n",
    "FID_1 = np.zeros([Tpts2,Tpts1],dtype=complex)\n",
    "FID_2 = np.zeros([Tpts2,Tpts1],dtype=complex)\n",
    "FID_3 = np.zeros([Tpts2,Tpts1],dtype=complex)\n",
    "FID_4 = np.zeros([Tpts2,Tpts1],dtype=complex)\n",
    "\n",
    "#First 90x pulse:\n",
    "rho_t = np.copy(rho0)\n",
    "rho_t = np.dot(pulse_90x,rho_t)"
   ]
  },
  {
   "cell_type": "code",
   "execution_count": 4,
   "metadata": {},
   "outputs": [],
   "source": [
    "rho_stack = []\n",
    "rho_stack.append(rho_t)\n",
    "\n",
    "rho_temp = np.copy(rho_t)\n",
    "for i in range(1,Tpts1):\n",
    "    rho_temp = np.dot(L_dt1,rho_temp)\n",
    "    rho_stack.append(rho_temp)\n",
    "\n",
    "\n",
    "rho_stack1_1 = []\n",
    "rho_stack1_2 = []\n",
    "rho_stack1_3 = []\n",
    "rho_stack1_4 = []\n",
    "\n",
    "for i in range(Tpts1):\n",
    "    rho_stack1_1.append(pulse_90y@pulse_mix@pulse_90x@rho_stack[i])\n",
    "    rho_stack1_2.append(pulse_90y@pulse_mix@pulse_90y@rho_stack[i])\n",
    "    rho_stack1_3.append(pulse_90y@pulse_mix@pulse_90mx@rho_stack[i])\n",
    "    rho_stack1_4.append(pulse_90y@pulse_mix@pulse_90my@rho_stack[i])\n",
    "\n",
    "\n",
    "fid_temp_1 = np.zeros([Tpts2,Tpts1],dtype=complex)\n",
    "fid_temp_2 = np.zeros([Tpts2,Tpts1],dtype=complex)\n",
    "fid_temp_3 = np.zeros([Tpts2,Tpts1],dtype=complex)\n",
    "fid_temp_4 = np.zeros([Tpts2,Tpts1],dtype=complex)\n",
    "\n",
    "\n"
   ]
  },
  {
   "cell_type": "code",
   "execution_count": 5,
   "metadata": {},
   "outputs": [],
   "source": [
    "for i in range(Tpts1):\n",
    "    rho1 = rho_stack1_1[i]\n",
    "    rho2 = rho_stack1_2[i]\n",
    "    rho3 = rho_stack1_3[i]\n",
    "    rho4 = rho_stack1_4[i]\n",
    "\n",
    "    for j in range(Tpts2):\n",
    "        fid_temp_1[j,i] = np.dot(coil,rho1)\n",
    "        rho1 = L_dt2@rho1\n",
    "\n",
    "        fid_temp_2[j,i] = np.dot(coil,rho2)\n",
    "        rho2 = L_dt2@rho2\n",
    "\n",
    "        fid_temp_3[j,i] = np.dot(coil,rho3)\n",
    "        rho3 = L_dt2@rho3\n",
    "\n",
    "        fid_temp_4[j,i] = np.dot(coil,rho4)\n",
    "        rho4 = L_dt2@rho4\n",
    "\n"
   ]
  },
  {
   "cell_type": "code",
   "execution_count": 6,
   "metadata": {},
   "outputs": [],
   "source": [
    "fid_test_cos = fid_temp_1 - fid_temp_3\n",
    "fid_test_sin = fid_temp_2 - fid_temp_4\n",
    "\n",
    "fid_cos = sqcosbell_2d_apod(fid_test_cos)\n",
    "fid_sin = sqcosbell_2d_apod(fid_test_sin)\n",
    "\n",
    "f1_cos = np.real(np.fft.fftshift(np.fft.fft2(fid_cos,[zerofill2],[0]),[0]))\n",
    "f1_sin = np.real(np.fft.fftshift(np.fft.fft2(fid_sin,[zerofill2],[0]),[0]))\n",
    "\n",
    "\n",
    "f1_states = f1_cos-1j*f1_sin\n",
    "\n",
    "spectrum = np.fft.fftshift(np.fft.fft2(f1_states,[zerofill1],[1]),[1])\n",
    "\n"
   ]
  },
  {
   "cell_type": "code",
   "execution_count": 7,
   "metadata": {},
   "outputs": [
    {
     "data": {
      "image/png": "[encoded data removed]",
      "text/plain": [
       "<Figure size 600x600 with 2 Axes>"
      ]
     },
     "metadata": {},
     "output_type": "display_data"
    }
   ],
   "source": [
    "#There is some plotting pre-processing of the NMR spectrum that we are ignoring here, that is why\n",
    "#we get a different plot that the one produced in the matlab script\n",
    "from matplotlib.colors import TwoSlopeNorm\n",
    "\n",
    "norm = TwoSlopeNorm(vmin=-np.min(-np.real(spectrum)), vcenter=0, vmax=np.max(-np.real(spectrum)))\n",
    "\n",
    "plt.figure(figsize=(6, 6))\n",
    "plt.imshow(-np.real(spectrum), cmap='seismic',norm=norm)\n",
    "plt.colorbar()\n",
    "plt.show()"
   ]
  },
  {
   "cell_type": "code",
   "execution_count": null,
   "metadata": {},
   "outputs": [],
   "source": []
  }
 ],
 "metadata": {
  "kernelspec": {
   "display_name": "qiskit1.1",
   "language": "python",
   "name": "python3"
  },
  "language_info": {
   "codemirror_mode": {
    "name": "ipython",
    "version": 3
   },
   "file_extension": ".py",
   "mimetype": "text/x-python",
   "name": "python",
   "nbconvert_exporter": "python",
   "pygments_lexer": "ipython3",
   "version": "3.11.5"
  }
 },
 "nbformat": 4,
 "nbformat_minor": 2
}
